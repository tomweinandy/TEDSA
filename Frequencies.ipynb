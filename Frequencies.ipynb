{
 "cells": [
  {
   "cell_type": "markdown",
   "source": [
    "## Load data"
   ],
   "metadata": {
    "collapsed": false
   }
  },
  {
   "cell_type": "code",
   "execution_count": 1,
   "outputs": [],
   "source": [
    "import pandas as pd\n",
    "import ast\n",
    "import numpy as np\n",
    "\n",
    "# Load in data\n",
    "admissions = 'tedsa_puf_2019.csv'\n",
    "df_raw = pd.read_csv(f'../../Downloads/{admissions}')"
   ],
   "metadata": {
    "collapsed": false
   }
  },
  {
   "cell_type": "markdown",
   "source": [
    "## Filter out select rows and columns"
   ],
   "metadata": {
    "collapsed": false
   }
  },
  {
   "cell_type": "code",
   "execution_count": 2,
   "metadata": {
    "collapsed": true
   },
   "outputs": [
    {
     "name": "stdout",
     "output_type": "stream",
     "text": [
      "Dropped 3 columns (59 remain)\n",
      "Dropped 1,340,233 observations or 71.9% of the data (524,134 rows remain)\n"
     ]
    }
   ],
   "source": [
    "# Get count of original number of rows\n",
    "old_rows = len(df_raw)\n",
    "\n",
    "# Drop defined columns (year of admission, case id, geographic metro area, geographic division, geographic region)\n",
    "# columns_to_drop = ['ADMYR', 'CASEID', 'CBSA2010', 'DIVISION', 'REGION']\n",
    "columns_to_drop = ['ADMYR', 'CASEID', 'CBSA2010']\n",
    "df = df_raw.drop(columns=columns_to_drop)\n",
    "print(f'Dropped {len(columns_to_drop)} columns ({len(df.columns)} remain)')\n",
    "\n",
    "# Drop values where dependent variable is unknown\n",
    "df = df[df['METHUSE'] != -9]\n",
    "\n",
    "# Only keep patients admitted with self-described use of an opioid as their primary substance use (i.e., SUB1 = 5, 6, or 7)\n",
    "df = df[df['SUB1'].between(5, 7)]\n",
    "new_rows = len(df)\n",
    "percent_change = round(100*(old_rows-new_rows)/old_rows, 1)\n",
    "print(f'Dropped {\"{:,}\".format(old_rows-new_rows)} observations or {percent_change}% of the data ({\"{:,}\".format(new_rows)} rows remain)')\n",
    "\n",
    "df = df.reset_index(drop='index')"
   ]
  },
  {
   "cell_type": "markdown",
   "source": [
    "## Make dataset human-readable"
   ],
   "metadata": {
    "collapsed": false
   }
  },
  {
   "cell_type": "code",
   "execution_count": 3,
   "outputs": [],
   "source": [
    "# Load in variable dictionary\n",
    "with open('VariableDictionary.txt') as file:\n",
    "    variable_dict_string = file.read()\n",
    "    variable_dict = ast.literal_eval(variable_dict_string)\n",
    "\n",
    "# Rename entries in column according to dictionary\n",
    "df2 = df.copy()\n",
    "for col, col_dict in variable_dict.items():\n",
    "    if col in df2.columns:\n",
    "        for old_value, new_value in variable_dict[col].items():\n",
    "            df2[col] = df2[col].replace(old_value, new_value)\n",
    "\n",
    "# Rename \"-9\" values as \"Unknown\"\n",
    "for col in df2.columns:\n",
    "    df2[col] = df2[col].replace(-9, 'Unknown')\n",
    "\n",
    "# Merge DETNLF (detailed not in labor force) into EMPLOY==4 (not in labor force)\n",
    "detailed_employ = []\n",
    "\n",
    "for idx, value in df2.iterrows():\n",
    "    if value['EMPLOY'] == 'NotInLaborForce':\n",
    "        if value['DETNLF'] == 'Unknown':\n",
    "            # Assign 'UnknownNotInLaborForce' if 'NotInLaborForce' and 'Unknown'\n",
    "            detailed_employ.append('UnknownNotInLaborForce')\n",
    "        else:\n",
    "            # Otherwise, assign as the DETNLF value\n",
    "            detailed_employ.append(value['DETNLF'])\n",
    "    else:\n",
    "        # Assign the EMPLOY value if not 'NotInLaborForce'\n",
    "        detailed_employ.append(value['EMPLOY'])\n",
    "\n",
    "# Add a new column for detailed employment and drop the two source columns\n",
    "df2['DETEMPLOY'] = detailed_employ\n",
    "df2 = df2.drop(columns=['EMPLOY', 'DETNLF'])"
   ],
   "metadata": {
    "collapsed": false
   }
  },
  {
   "cell_type": "markdown",
   "source": [
    "## Percent receiving MOUD by variable subgroup"
   ],
   "metadata": {
    "collapsed": false
   }
  },
  {
   "cell_type": "code",
   "execution_count": 4,
   "outputs": [
    {
     "data": {
      "text/plain": "         group                subgroup  total_admissions  \\\n0       STFIPS                      AK              1603   \n1       STFIPS                      AL              5774   \n2       STFIPS                      AR              1947   \n3       STFIPS                      AZ             10189   \n4       STFIPS                      CA             42031   \n..         ...                     ...               ...   \n349  DETEMPLOY       RetiredOrDisabled             38813   \n350  DETEMPLOY                 Student              1784   \n351  DETEMPLOY              Unemployed            191417   \n352  DETEMPLOY                 Unknown             23056   \n353  DETEMPLOY  UnknownNotInLaborForce             22478   \n\n     group_share_of_admissions  percent_receiving_moud  \n0                     0.003058                0.492826  \n1                     0.011016                0.297194  \n2                     0.003715                0.337956  \n3                     0.019440                0.181176  \n4                     0.080191                0.587804  \n..                         ...                     ...  \n349                   0.074052                0.489759  \n350                   0.003404                0.314462  \n351                   0.365206                0.372052  \n352                   0.043989                0.573603  \n353                   0.042886                0.557745  \n\n[354 rows x 5 columns]",
      "text/html": "<div>\n<style scoped>\n    .dataframe tbody tr th:only-of-type {\n        vertical-align: middle;\n    }\n\n    .dataframe tbody tr th {\n        vertical-align: top;\n    }\n\n    .dataframe thead th {\n        text-align: right;\n    }\n</style>\n<table border=\"1\" class=\"dataframe\">\n  <thead>\n    <tr style=\"text-align: right;\">\n      <th></th>\n      <th>group</th>\n      <th>subgroup</th>\n      <th>total_admissions</th>\n      <th>group_share_of_admissions</th>\n      <th>percent_receiving_moud</th>\n    </tr>\n  </thead>\n  <tbody>\n    <tr>\n      <th>0</th>\n      <td>STFIPS</td>\n      <td>AK</td>\n      <td>1603</td>\n      <td>0.003058</td>\n      <td>0.492826</td>\n    </tr>\n    <tr>\n      <th>1</th>\n      <td>STFIPS</td>\n      <td>AL</td>\n      <td>5774</td>\n      <td>0.011016</td>\n      <td>0.297194</td>\n    </tr>\n    <tr>\n      <th>2</th>\n      <td>STFIPS</td>\n      <td>AR</td>\n      <td>1947</td>\n      <td>0.003715</td>\n      <td>0.337956</td>\n    </tr>\n    <tr>\n      <th>3</th>\n      <td>STFIPS</td>\n      <td>AZ</td>\n      <td>10189</td>\n      <td>0.019440</td>\n      <td>0.181176</td>\n    </tr>\n    <tr>\n      <th>4</th>\n      <td>STFIPS</td>\n      <td>CA</td>\n      <td>42031</td>\n      <td>0.080191</td>\n      <td>0.587804</td>\n    </tr>\n    <tr>\n      <th>...</th>\n      <td>...</td>\n      <td>...</td>\n      <td>...</td>\n      <td>...</td>\n      <td>...</td>\n    </tr>\n    <tr>\n      <th>349</th>\n      <td>DETEMPLOY</td>\n      <td>RetiredOrDisabled</td>\n      <td>38813</td>\n      <td>0.074052</td>\n      <td>0.489759</td>\n    </tr>\n    <tr>\n      <th>350</th>\n      <td>DETEMPLOY</td>\n      <td>Student</td>\n      <td>1784</td>\n      <td>0.003404</td>\n      <td>0.314462</td>\n    </tr>\n    <tr>\n      <th>351</th>\n      <td>DETEMPLOY</td>\n      <td>Unemployed</td>\n      <td>191417</td>\n      <td>0.365206</td>\n      <td>0.372052</td>\n    </tr>\n    <tr>\n      <th>352</th>\n      <td>DETEMPLOY</td>\n      <td>Unknown</td>\n      <td>23056</td>\n      <td>0.043989</td>\n      <td>0.573603</td>\n    </tr>\n    <tr>\n      <th>353</th>\n      <td>DETEMPLOY</td>\n      <td>UnknownNotInLaborForce</td>\n      <td>22478</td>\n      <td>0.042886</td>\n      <td>0.557745</td>\n    </tr>\n  </tbody>\n</table>\n<p>354 rows × 5 columns</p>\n</div>"
     },
     "execution_count": 4,
     "metadata": {},
     "output_type": "execute_result"
    }
   ],
   "source": [
    "# Calculate the treatment rate for each subgroup\n",
    "total = len(df2)\n",
    "df3 = df2.copy()\n",
    "df3 = df3.replace({'MethUse':1, 'NoMethUse':0})\n",
    "\n",
    "# Loop through each variable, append frequencies to a running dataframe\n",
    "df_freq = pd.DataFrame()\n",
    "for col in df3.columns:\n",
    "\n",
    "    # Calculate treatment rates\n",
    "    df_mean = df3.groupby([col])['METHUSE'].mean()\n",
    "    df_mean = pd.DataFrame(df_mean)\n",
    "\n",
    "    # Calculate admission counts\n",
    "    df_count = df3.groupby([col])['METHUSE'].count()\n",
    "    df_count = pd.DataFrame(df_count)\n",
    "\n",
    "    # Combine, rename columns\n",
    "    df_running = pd.merge(df_mean, df_count, how='inner', left_index=True, right_index=True)\n",
    "    df_running = df_running.reset_index()\n",
    "    df_running = df_running.rename(columns={'METHUSE_x': 'percent_receiving_moud', 'METHUSE_y': 'total_admissions', col: 'subgroup'})\n",
    "\n",
    "    # Calculate share of admissions, reorder columns, add group\n",
    "    df_running['group_share_of_admissions'] = df_running['total_admissions']/total\n",
    "    df_running = df_running[['subgroup', 'total_admissions', 'group_share_of_admissions', 'percent_receiving_moud']]\n",
    "    df_running.insert(0, 'group', col)\n",
    "\n",
    "    # Append results before moving to next columns\n",
    "    df_freq = pd.concat([df_freq, df_running])\n",
    "\n",
    "# Show results\n",
    "df_freq = df_freq.reset_index(drop=True)\n",
    "df_freq"
   ],
   "metadata": {
    "collapsed": false,
    "pycharm": {
     "name": "#%%\n"
    }
   }
  },
  {
   "cell_type": "code",
   "execution_count": 5,
   "outputs": [],
   "source": [
    "# Uncomment to save results\n",
    "# df_freq.to_csv('percent_receiving_moud.csv', index=False)"
   ],
   "metadata": {
    "collapsed": false,
    "pycharm": {
     "name": "#%%\n"
    }
   }
  },
  {
   "cell_type": "markdown",
   "source": [
    "# Describe MOUD treatment frequency for each variable's subgroup and living status\n",
    "Calculate the percent difference between the homeless and housed as well as its statistical difference"
   ],
   "metadata": {
    "collapsed": false
   }
  },
  {
   "cell_type": "code",
   "execution_count": 44,
   "outputs": [
    {
     "name": "stderr",
     "output_type": "stream",
     "text": [
      "/Users/mymac/PycharmProjects/TEDSA/venv/lib/python3.7/site-packages/numpy/core/fromnumeric.py:3724: RuntimeWarning: Degrees of freedom <= 0 for slice\n",
      "  **kwargs)\n",
      "/Users/mymac/PycharmProjects/TEDSA/venv/lib/python3.7/site-packages/numpy/core/_methods.py:254: RuntimeWarning: invalid value encountered in double_scalars\n",
      "  ret = ret.dtype.type(ret / rcount)\n"
     ]
    }
   ],
   "source": [
    "# Test out calculate treatment difference for each group\n",
    "import pandas as pd\n",
    "from scipy.stats import ttest_ind\n",
    "\n",
    "# Simplify dataset\n",
    "df_ttest = df2.copy()\n",
    "df_ttest = df_ttest[df_ttest['LIVARAG'] != 'Unknown']\n",
    "# df_ttest = df_ttest[df_ttest['LIVARAG'] != 'DependLiving']\n",
    "df_ttest['LIVARAG'] = df_ttest['LIVARAG'].replace({'DependLiving':'Housed', 'IndependentLiving':'Housed'})\n",
    "df_ttest['METHUSE'] = df_ttest['METHUSE'].replace({'MethUse':1, 'NoMethUse':0})\n",
    "\n",
    "\n",
    "df_all = pd.DataFrame(columns=['HomelessAdmissions', 'HousedAdmissions', 'HomelessMOUD', 'HousedMOUD', 'PercentDifference', 'TStat', 'PValue', 'Significance'])\n",
    "\n",
    "df_columns = [c for c in df_ttest.columns if c != 'LIVARAG']\n",
    "for col in df_columns:\n",
    "    # Create loop assets\n",
    "    col_array = df_ttest[col].sort_values().unique()\n",
    "    col_list = col_array.tolist()\n",
    "    df_col = pd.DataFrame(columns=['Group', 'HomelessAdmissions', 'HousedAdmissions', 'HomelessMOUD', 'HousedMOUD', 'PercentDifference', 'TStat', 'PValue', 'Significance'])\n",
    "\n",
    "    # Loop through each subgroup within each column\n",
    "    for s in col_list:\n",
    "        dft_temp = df_ttest[df_ttest[col] == s]\n",
    "\n",
    "        # Group by living arrangement and MOUD, then store those variables for later (if they exist)\n",
    "        dft_count = dft_temp.groupby('LIVARAG')['METHUSE'].count()\n",
    "        housed_count = dft_count.loc['Housed']\n",
    "        try:\n",
    "            homeless_count = dft_count.loc['Homeless']\n",
    "        except KeyError:\n",
    "            homeless_count = 0\n",
    "\n",
    "        dft_mean = dft_temp.groupby('LIVARAG')['METHUSE'].mean()\n",
    "        housed_moud = dft_mean.loc['Housed']\n",
    "        try:\n",
    "            homeless_moud = dft_mean.loc['Homeless']\n",
    "        except KeyError:\n",
    "            homeless_moud = np.nan\n",
    "\n",
    "        # Calculate the percent difference (if there is a homeless group in that state)\n",
    "        if housed_moud > 0:\n",
    "           percent_difference = (homeless_moud - housed_moud)/housed_moud\n",
    "        # elif homeless_moud = 0:\n",
    "        #     percent_difference\n",
    "        else:\n",
    "            percent_difference = np.nan\n",
    "\n",
    "        # Perform a t-test between the two groups\n",
    "        group_A_values = dft_temp[dft_temp['LIVARAG'] == 'Homeless']['METHUSE']\n",
    "        group_B_values = dft_temp[dft_temp['LIVARAG'] == 'Housed']['METHUSE']\n",
    "        t_stat, p_value = ttest_ind(group_A_values, group_B_values)\n",
    "\n",
    "        # Add significance based on p-value\n",
    "        if p_value < 0.001:\n",
    "            significance = '****'\n",
    "        elif p_value < 0.01:\n",
    "            significance = '***'\n",
    "        elif p_value < 0.05:\n",
    "            significance = '**'\n",
    "        elif p_value <0.1:\n",
    "            significance = '*'\n",
    "        else:\n",
    "            significance = ''\n",
    "\n",
    "        # Add values to a dictionary and round\n",
    "        dict_results = {'HomelessAdmissions':homeless_count, 'HousedAdmissions':housed_count, 'HomelessMOUD':homeless_moud, 'HousedMOUD':housed_moud, 'PercentDifference':percent_difference, 'TStat':t_stat, 'PValue':p_value}\n",
    "        for key, value in dict_results.items():\n",
    "            dict_results[key] = round(value, 6)\n",
    "\n",
    "        # Add significance and column group to dictionary, then add dictionary to dataframe\n",
    "        dict_results['Significance'] = significance\n",
    "        dict_results['Group'] = col\n",
    "        df_col.loc[s] = dict_results\n",
    "\n",
    "    # Add column df to running aggregate\n",
    "    df_all = pd.concat([df_all, df_col])\n",
    "\n",
    "# Clean up final column\n",
    "# df_all = df_all.drop_duplicates()\n",
    "df_all = df_all.reset_index().rename(columns={'index': 'Subgroup'})\n",
    "df_all = df_all[['Group', 'Subgroup', 'HomelessAdmissions', 'HousedAdmissions', 'HomelessMOUD', 'HousedMOUD', 'PercentDifference', 'TStat', 'PValue', 'Significance']]"
   ],
   "metadata": {
    "collapsed": false,
    "pycharm": {
     "name": "#%%\n"
    }
   }
  },
  {
   "cell_type": "code",
   "execution_count": 53,
   "outputs": [
    {
     "data": {
      "text/plain": "         group                subgroup  total_admissions  \\\n0       STFIPS                      AK              1603   \n1       STFIPS                      AL              5774   \n2       STFIPS                      AR              1947   \n3       STFIPS                      AZ             10189   \n4       STFIPS                      CA             42031   \n..         ...                     ...               ...   \n349  DETEMPLOY       RetiredOrDisabled             38813   \n350  DETEMPLOY                 Student              1784   \n351  DETEMPLOY              Unemployed            191417   \n352  DETEMPLOY                 Unknown             23056   \n353  DETEMPLOY  UnknownNotInLaborForce             22478   \n\n     group_share_of_admissions  percent_receiving_moud HomelessAdmissions  \\\n0                     0.003058                0.492826                333   \n1                     0.011016                0.297194                379   \n2                     0.003715                0.337956                203   \n3                     0.019440                0.181176                NaN   \n4                     0.080191                0.587804              10568   \n..                         ...                     ...                ...   \n349                   0.074052                0.489759               5653   \n350                   0.003404                0.314462                110   \n351                   0.365206                0.372052              35629   \n352                   0.043989                0.573603               1338   \n353                   0.042886                0.557745               6638   \n\n    HousedAdmissions  HomelessMOUD  HousedMOUD  PercentDifference      TStat  \\\n0               1214      0.387387    0.518122          -0.252324  -4.249484   \n1               5170      0.118734    0.312766          -0.620376  -8.004596   \n2               1741      0.103448    0.364159          -0.715925  -7.541382   \n3                NaN           NaN         NaN                NaN        NaN   \n4              31443      0.344436    0.669338          -0.485408 -61.263606   \n..               ...           ...         ...                ...        ...   \n349            32425      0.340881    0.513462          -0.336112 -24.136788   \n350             1578      0.254545    0.322560          -0.210859  -1.480946   \n351           148939      0.287210    0.384748          -0.253512 -34.445064   \n352            15698      0.325859    0.708307          -0.539946 -29.468817   \n353            15768      0.336246    0.651065          -0.483545 -45.260252   \n\n       PValue Significance  \n0    0.000023         ****  \n1    0.000000         ****  \n2    0.000000         ****  \n3         NaN          NaN  \n4    0.000000         ****  \n..        ...          ...  \n349  0.000000         ****  \n350  0.138808               \n351  0.000000         ****  \n352  0.000000         ****  \n353  0.000000         ****  \n\n[354 rows x 13 columns]",
      "text/html": "<div>\n<style scoped>\n    .dataframe tbody tr th:only-of-type {\n        vertical-align: middle;\n    }\n\n    .dataframe tbody tr th {\n        vertical-align: top;\n    }\n\n    .dataframe thead th {\n        text-align: right;\n    }\n</style>\n<table border=\"1\" class=\"dataframe\">\n  <thead>\n    <tr style=\"text-align: right;\">\n      <th></th>\n      <th>group</th>\n      <th>subgroup</th>\n      <th>total_admissions</th>\n      <th>group_share_of_admissions</th>\n      <th>percent_receiving_moud</th>\n      <th>HomelessAdmissions</th>\n      <th>HousedAdmissions</th>\n      <th>HomelessMOUD</th>\n      <th>HousedMOUD</th>\n      <th>PercentDifference</th>\n      <th>TStat</th>\n      <th>PValue</th>\n      <th>Significance</th>\n    </tr>\n  </thead>\n  <tbody>\n    <tr>\n      <th>0</th>\n      <td>STFIPS</td>\n      <td>AK</td>\n      <td>1603</td>\n      <td>0.003058</td>\n      <td>0.492826</td>\n      <td>333</td>\n      <td>1214</td>\n      <td>0.387387</td>\n      <td>0.518122</td>\n      <td>-0.252324</td>\n      <td>-4.249484</td>\n      <td>0.000023</td>\n      <td>****</td>\n    </tr>\n    <tr>\n      <th>1</th>\n      <td>STFIPS</td>\n      <td>AL</td>\n      <td>5774</td>\n      <td>0.011016</td>\n      <td>0.297194</td>\n      <td>379</td>\n      <td>5170</td>\n      <td>0.118734</td>\n      <td>0.312766</td>\n      <td>-0.620376</td>\n      <td>-8.004596</td>\n      <td>0.000000</td>\n      <td>****</td>\n    </tr>\n    <tr>\n      <th>2</th>\n      <td>STFIPS</td>\n      <td>AR</td>\n      <td>1947</td>\n      <td>0.003715</td>\n      <td>0.337956</td>\n      <td>203</td>\n      <td>1741</td>\n      <td>0.103448</td>\n      <td>0.364159</td>\n      <td>-0.715925</td>\n      <td>-7.541382</td>\n      <td>0.000000</td>\n      <td>****</td>\n    </tr>\n    <tr>\n      <th>3</th>\n      <td>STFIPS</td>\n      <td>AZ</td>\n      <td>10189</td>\n      <td>0.019440</td>\n      <td>0.181176</td>\n      <td>NaN</td>\n      <td>NaN</td>\n      <td>NaN</td>\n      <td>NaN</td>\n      <td>NaN</td>\n      <td>NaN</td>\n      <td>NaN</td>\n      <td>NaN</td>\n    </tr>\n    <tr>\n      <th>4</th>\n      <td>STFIPS</td>\n      <td>CA</td>\n      <td>42031</td>\n      <td>0.080191</td>\n      <td>0.587804</td>\n      <td>10568</td>\n      <td>31443</td>\n      <td>0.344436</td>\n      <td>0.669338</td>\n      <td>-0.485408</td>\n      <td>-61.263606</td>\n      <td>0.000000</td>\n      <td>****</td>\n    </tr>\n    <tr>\n      <th>...</th>\n      <td>...</td>\n      <td>...</td>\n      <td>...</td>\n      <td>...</td>\n      <td>...</td>\n      <td>...</td>\n      <td>...</td>\n      <td>...</td>\n      <td>...</td>\n      <td>...</td>\n      <td>...</td>\n      <td>...</td>\n      <td>...</td>\n    </tr>\n    <tr>\n      <th>349</th>\n      <td>DETEMPLOY</td>\n      <td>RetiredOrDisabled</td>\n      <td>38813</td>\n      <td>0.074052</td>\n      <td>0.489759</td>\n      <td>5653</td>\n      <td>32425</td>\n      <td>0.340881</td>\n      <td>0.513462</td>\n      <td>-0.336112</td>\n      <td>-24.136788</td>\n      <td>0.000000</td>\n      <td>****</td>\n    </tr>\n    <tr>\n      <th>350</th>\n      <td>DETEMPLOY</td>\n      <td>Student</td>\n      <td>1784</td>\n      <td>0.003404</td>\n      <td>0.314462</td>\n      <td>110</td>\n      <td>1578</td>\n      <td>0.254545</td>\n      <td>0.322560</td>\n      <td>-0.210859</td>\n      <td>-1.480946</td>\n      <td>0.138808</td>\n      <td></td>\n    </tr>\n    <tr>\n      <th>351</th>\n      <td>DETEMPLOY</td>\n      <td>Unemployed</td>\n      <td>191417</td>\n      <td>0.365206</td>\n      <td>0.372052</td>\n      <td>35629</td>\n      <td>148939</td>\n      <td>0.287210</td>\n      <td>0.384748</td>\n      <td>-0.253512</td>\n      <td>-34.445064</td>\n      <td>0.000000</td>\n      <td>****</td>\n    </tr>\n    <tr>\n      <th>352</th>\n      <td>DETEMPLOY</td>\n      <td>Unknown</td>\n      <td>23056</td>\n      <td>0.043989</td>\n      <td>0.573603</td>\n      <td>1338</td>\n      <td>15698</td>\n      <td>0.325859</td>\n      <td>0.708307</td>\n      <td>-0.539946</td>\n      <td>-29.468817</td>\n      <td>0.000000</td>\n      <td>****</td>\n    </tr>\n    <tr>\n      <th>353</th>\n      <td>DETEMPLOY</td>\n      <td>UnknownNotInLaborForce</td>\n      <td>22478</td>\n      <td>0.042886</td>\n      <td>0.557745</td>\n      <td>6638</td>\n      <td>15768</td>\n      <td>0.336246</td>\n      <td>0.651065</td>\n      <td>-0.483545</td>\n      <td>-45.260252</td>\n      <td>0.000000</td>\n      <td>****</td>\n    </tr>\n  </tbody>\n</table>\n<p>354 rows × 13 columns</p>\n</div>"
     },
     "execution_count": 53,
     "metadata": {},
     "output_type": "execute_result"
    }
   ],
   "source": [
    "# Merge dataframes together\n",
    "df_combo = pd.merge(df_freq, df_all, left_on=['group', 'subgroup'], right_on=['Group', 'Subgroup'], how='outer')\n",
    "df_combo = df_combo.drop(columns=['Group', 'Subgroup'])\n",
    "\n",
    "# df_combo.to_csv('frequencies.csv') #uncomment to save file\n",
    "df_combo"
   ],
   "metadata": {
    "collapsed": false,
    "pycharm": {
     "name": "#%%\n"
    }
   }
  },
  {
   "cell_type": "code",
   "execution_count": null,
   "outputs": [],
   "source": [],
   "metadata": {
    "collapsed": false,
    "pycharm": {
     "name": "#%%\n"
    }
   }
  }
 ],
 "metadata": {
  "kernelspec": {
   "display_name": "Python 3",
   "language": "python",
   "name": "python3"
  },
  "language_info": {
   "codemirror_mode": {
    "name": "ipython",
    "version": 2
   },
   "file_extension": ".py",
   "mimetype": "text/x-python",
   "name": "python",
   "nbconvert_exporter": "python",
   "pygments_lexer": "ipython2",
   "version": "2.7.6"
  }
 },
 "nbformat": 4,
 "nbformat_minor": 0
}