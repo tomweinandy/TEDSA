{
 "cells": [
  {
   "cell_type": "markdown",
   "source": [
    "## Load data"
   ],
   "metadata": {
    "collapsed": false
   }
  },
  {
   "cell_type": "code",
   "execution_count": 1,
   "outputs": [],
   "source": [
    "import pandas as pd\n",
    "import ast\n",
    "import numpy as np\n",
    "\n",
    "# Load in data\n",
    "admissions = 'tedsa_puf_2019.csv'\n",
    "df_raw = pd.read_csv(f'../../Downloads/{admissions}')"
   ],
   "metadata": {
    "collapsed": false
   }
  },
  {
   "cell_type": "markdown",
   "source": [
    "## Filter out select rows and columns"
   ],
   "metadata": {
    "collapsed": false
   }
  },
  {
   "cell_type": "code",
   "execution_count": 2,
   "metadata": {
    "collapsed": true
   },
   "outputs": [
    {
     "name": "stdout",
     "output_type": "stream",
     "text": [
      "Dropped 3 columns (59 remain)\n",
      "Dropped 1,340,233 observations or 71.9% of the data (524,134 rows remain)\n"
     ]
    }
   ],
   "source": [
    "# Get count of original number of rows\n",
    "old_rows = len(df_raw)\n",
    "\n",
    "# Drop the defined columns: year of admission (singular), case id (index), geographic metro area (high cardinality)\n",
    "columns_to_drop = ['ADMYR', 'CASEID', 'CBSA2010']\n",
    "df = df_raw.drop(columns=columns_to_drop)\n",
    "print(f'Dropped {len(columns_to_drop)} columns ({len(df.columns)} remain)')\n",
    "\n",
    "# Drop values where dependent variable is unknown\n",
    "df = df[df['METHUSE'] != -9]\n",
    "\n",
    "# Only keep patients admitted with self-described use of an opioid as their primary substance use (i.e., SUB1 = 5, 6, or 7)\n",
    "df = df[df['SUB1'].between(5, 7)]\n",
    "new_rows = len(df)\n",
    "percent_change = round(100*(old_rows-new_rows)/old_rows, 1)\n",
    "print(f'Dropped {\"{:,}\".format(old_rows-new_rows)} observations or {percent_change}% of the data ({\"{:,}\".format(new_rows)} rows remain)')\n",
    "\n",
    "df = df.reset_index(drop='index')"
   ]
  },
  {
   "cell_type": "markdown",
   "source": [
    "## Make dataset human-readable"
   ],
   "metadata": {
    "collapsed": false
   }
  },
  {
   "cell_type": "code",
   "execution_count": 9,
   "outputs": [],
   "source": [
    "# Load in variable dictionary\n",
    "with open('VariableDictionary.txt') as file:\n",
    "    variable_dict_string = file.read()\n",
    "    variable_dict = ast.literal_eval(variable_dict_string)\n",
    "\n",
    "# Rename entries in column according to dictionary\n",
    "df2 = df.copy()\n",
    "for col, col_dict in variable_dict.items():\n",
    "    if col in df2.columns:\n",
    "        for old_value, new_value in variable_dict[col].items():\n",
    "            df2[col] = df2[col].replace(old_value, new_value)\n",
    "\n",
    "# Rename \"-9\" values as \"Unknown\"\n",
    "for col in df2.columns:\n",
    "    df2[col] = df2[col].replace(-9, 'Unknown')\n",
    "\n",
    "# Subsume DETNLF (detailed not in labor force) into EMPLOY==4 (not in labor force)\n",
    "detailed_employ = []\n",
    "for idx, value in df2.iterrows():\n",
    "    if value['EMPLOY'] == 'NotInLaborForce':\n",
    "        if value['DETNLF'] == 'Unknown':\n",
    "            # Assign 'UnknownNotInLaborForce' if 'NotInLaborForce' and 'Unknown'\n",
    "            detailed_employ.append('UnknownNotInLaborForce')\n",
    "        else:\n",
    "            # Otherwise, assign as the DETNLF value\n",
    "            detailed_employ.append(value['DETNLF'])\n",
    "    else:\n",
    "        # Assign the EMPLOY value if not 'NotInLaborForce'\n",
    "        detailed_employ.append(value['EMPLOY'])\n",
    "# Add a new column for detailed employment and drop the two source columns\n",
    "df2['DETEMPLOY'] = detailed_employ\n",
    "df2 = df2.drop(columns=['EMPLOY', 'DETNLF'])\n",
    "\n",
    "# Subsume DETCRIM (detailed court referral) into PSOURCE==7 (court referral)\n",
    "detailed_court_referral = []\n",
    "for idx, value in df2.iterrows():\n",
    "    if value['PSOURCE'] == 'CourtReferral':\n",
    "        if value['DETCRIM'] == 'Unknown':\n",
    "            # Assign 'UnknownCourtReferral' if 'CourtReferral' and 'Unknown'\n",
    "            detailed_court_referral.append('UnknownCourtReferral')\n",
    "        else:\n",
    "            # Otherwise, assign as the DETCRIM value\n",
    "            detailed_court_referral.append(value['DETCRIM'])\n",
    "    else:\n",
    "        # Assign the PSOURCE value if not 'CourtReferral'\n",
    "        detailed_court_referral.append(value['PSOURCE'])\n",
    "# Add a new column for detailed court referral and drop the two source columns\n",
    "df2['DETPSOURCE'] = detailed_court_referral\n",
    "df2 = df2.drop(columns=['PSOURCE', 'DETCRIM'])"
   ],
   "metadata": {
    "collapsed": false
   }
  },
  {
   "cell_type": "code",
   "execution_count": 10,
   "outputs": [
    {
     "data": {
      "text/plain": "       STFIPS          EDUC       MARSTAT                          SERVICES  \\\n0          AK    Grade9To11  NeverMarried  AmbulatoryNonIntensiveOutpatient   \n1          AK  Grade12OrGED  NeverMarried  AmbulatoryNonIntensiveOutpatient   \n2          AK  Grade8OrLess    NowMarried  AmbulatoryNonIntensiveOutpatient   \n3          AK  Grade12OrGED  NeverMarried  AmbulatoryNonIntensiveOutpatient   \n4          AK  Grade12OrGED  NeverMarried  AmbulatoryNonIntensiveOutpatient   \n...       ...           ...           ...                               ...   \n524129     WY       Unknown    NowMarried     AmbulatoryIntensiveOutpatient   \n524130     WY       Unknown    NowMarried     AmbulatoryIntensiveOutpatient   \n524131     WY  Grade12OrGED  NeverMarried  AmbulatoryNonIntensiveOutpatient   \n524132     WY  Grade8OrLess  NeverMarried  AmbulatoryNonIntensiveOutpatient   \n524133     WY    Grade9To11  NeverMarried  AmbulatoryNonIntensiveOutpatient   \n\n                     NOPRIOR  ARRESTS    METHUSE PSYPROB         PREG  GENDER  \\\n0           3PriorTreatments  0Arrest  NoMethUse      No      Unknown    Male   \n1           2PriorTreatments  0Arrest    MethUse      No  NotPregnant  Female   \n2       5PlusPriorTreatments  0Arrest    MethUse     Yes  NotPregnant  Female   \n3           3PriorTreatments  0Arrest    MethUse      No  NotPregnant  Female   \n4           1PriorTreatments  0Arrest    MethUse     Yes  NotPregnant  Female   \n...                      ...      ...        ...     ...          ...     ...   \n524129      0PriorTreatments  0Arrest  NoMethUse      No      Unknown    Male   \n524130      2PriorTreatments  0Arrest  NoMethUse      No      Unknown    Male   \n524131      3PriorTreatments  0Arrest  NoMethUse     Yes      Unknown    Male   \n524132      0PriorTreatments  0Arrest  NoMethUse      No      Unknown    Male   \n524133      0PriorTreatments  0Arrest  NoMethUse      No      Unknown    Male   \n\n        ...     SEDHPFLG       INHFLG       OTCFLG     OTHERFLG  DIVISION  \\\n0       ...  NotReported  NotReported  NotReported  NotReported   Pacific   \n1       ...  NotReported  NotReported  NotReported  NotReported   Pacific   \n2       ...  NotReported  NotReported  NotReported  NotReported   Pacific   \n3       ...  NotReported  NotReported  NotReported  NotReported   Pacific   \n4       ...  NotReported  NotReported  NotReported  NotReported   Pacific   \n...     ...          ...          ...          ...          ...       ...   \n524129  ...  NotReported  NotReported  NotReported  NotReported  Mountain   \n524130  ...  NotReported  NotReported  NotReported  NotReported  Mountain   \n524131  ...     Reported  NotReported  NotReported  NotReported  Mountain   \n524132  ...  NotReported  NotReported  NotReported  NotReported  Mountain   \n524133  ...  NotReported  NotReported  NotReported     Reported  Mountain   \n\n       REGION    IDU          ALCDRUG             DETEMPLOY  \\\n0        West    IDU  AlcoholAndDrugs            Unemployed   \n1        West    IDU       OtherDrugs  OtherNotInLaborForce   \n2        West    IDU       OtherDrugs     RetiredOrDisabled   \n3        West    IDU       OtherDrugs  OtherNotInLaborForce   \n4        West    IDU       OtherDrugs              PartTime   \n...       ...    ...              ...                   ...   \n524129   West  NoIDU       OtherDrugs            Unemployed   \n524130   West  NoIDU       OtherDrugs            Unemployed   \n524131   West  NoIDU  AlcoholAndDrugs            Unemployed   \n524132   West  NoIDU       OtherDrugs   InstitutionResident   \n524133   West  NoIDU       OtherDrugs   InstitutionResident   \n\n                     DETPSOURCE  \n0                    Individual  \n1       OtherHealthCareProvider  \n2              DrugCareProvider  \n3       OtherHealthCareProvider  \n4              DrugCareProvider  \n...                         ...  \n524129            OtherReferral  \n524130                    Court  \n524131         DrugCareProvider  \n524132        ProbationOrParole  \n524133        ProbationOrParole  \n\n[524134 rows x 57 columns]",
      "text/html": "<div>\n<style scoped>\n    .dataframe tbody tr th:only-of-type {\n        vertical-align: middle;\n    }\n\n    .dataframe tbody tr th {\n        vertical-align: top;\n    }\n\n    .dataframe thead th {\n        text-align: right;\n    }\n</style>\n<table border=\"1\" class=\"dataframe\">\n  <thead>\n    <tr style=\"text-align: right;\">\n      <th></th>\n      <th>STFIPS</th>\n      <th>EDUC</th>\n      <th>MARSTAT</th>\n      <th>SERVICES</th>\n      <th>NOPRIOR</th>\n      <th>ARRESTS</th>\n      <th>METHUSE</th>\n      <th>PSYPROB</th>\n      <th>PREG</th>\n      <th>GENDER</th>\n      <th>...</th>\n      <th>SEDHPFLG</th>\n      <th>INHFLG</th>\n      <th>OTCFLG</th>\n      <th>OTHERFLG</th>\n      <th>DIVISION</th>\n      <th>REGION</th>\n      <th>IDU</th>\n      <th>ALCDRUG</th>\n      <th>DETEMPLOY</th>\n      <th>DETPSOURCE</th>\n    </tr>\n  </thead>\n  <tbody>\n    <tr>\n      <th>0</th>\n      <td>AK</td>\n      <td>Grade9To11</td>\n      <td>NeverMarried</td>\n      <td>AmbulatoryNonIntensiveOutpatient</td>\n      <td>3PriorTreatments</td>\n      <td>0Arrest</td>\n      <td>NoMethUse</td>\n      <td>No</td>\n      <td>Unknown</td>\n      <td>Male</td>\n      <td>...</td>\n      <td>NotReported</td>\n      <td>NotReported</td>\n      <td>NotReported</td>\n      <td>NotReported</td>\n      <td>Pacific</td>\n      <td>West</td>\n      <td>IDU</td>\n      <td>AlcoholAndDrugs</td>\n      <td>Unemployed</td>\n      <td>Individual</td>\n    </tr>\n    <tr>\n      <th>1</th>\n      <td>AK</td>\n      <td>Grade12OrGED</td>\n      <td>NeverMarried</td>\n      <td>AmbulatoryNonIntensiveOutpatient</td>\n      <td>2PriorTreatments</td>\n      <td>0Arrest</td>\n      <td>MethUse</td>\n      <td>No</td>\n      <td>NotPregnant</td>\n      <td>Female</td>\n      <td>...</td>\n      <td>NotReported</td>\n      <td>NotReported</td>\n      <td>NotReported</td>\n      <td>NotReported</td>\n      <td>Pacific</td>\n      <td>West</td>\n      <td>IDU</td>\n      <td>OtherDrugs</td>\n      <td>OtherNotInLaborForce</td>\n      <td>OtherHealthCareProvider</td>\n    </tr>\n    <tr>\n      <th>2</th>\n      <td>AK</td>\n      <td>Grade8OrLess</td>\n      <td>NowMarried</td>\n      <td>AmbulatoryNonIntensiveOutpatient</td>\n      <td>5PlusPriorTreatments</td>\n      <td>0Arrest</td>\n      <td>MethUse</td>\n      <td>Yes</td>\n      <td>NotPregnant</td>\n      <td>Female</td>\n      <td>...</td>\n      <td>NotReported</td>\n      <td>NotReported</td>\n      <td>NotReported</td>\n      <td>NotReported</td>\n      <td>Pacific</td>\n      <td>West</td>\n      <td>IDU</td>\n      <td>OtherDrugs</td>\n      <td>RetiredOrDisabled</td>\n      <td>DrugCareProvider</td>\n    </tr>\n    <tr>\n      <th>3</th>\n      <td>AK</td>\n      <td>Grade12OrGED</td>\n      <td>NeverMarried</td>\n      <td>AmbulatoryNonIntensiveOutpatient</td>\n      <td>3PriorTreatments</td>\n      <td>0Arrest</td>\n      <td>MethUse</td>\n      <td>No</td>\n      <td>NotPregnant</td>\n      <td>Female</td>\n      <td>...</td>\n      <td>NotReported</td>\n      <td>NotReported</td>\n      <td>NotReported</td>\n      <td>NotReported</td>\n      <td>Pacific</td>\n      <td>West</td>\n      <td>IDU</td>\n      <td>OtherDrugs</td>\n      <td>OtherNotInLaborForce</td>\n      <td>OtherHealthCareProvider</td>\n    </tr>\n    <tr>\n      <th>4</th>\n      <td>AK</td>\n      <td>Grade12OrGED</td>\n      <td>NeverMarried</td>\n      <td>AmbulatoryNonIntensiveOutpatient</td>\n      <td>1PriorTreatments</td>\n      <td>0Arrest</td>\n      <td>MethUse</td>\n      <td>Yes</td>\n      <td>NotPregnant</td>\n      <td>Female</td>\n      <td>...</td>\n      <td>NotReported</td>\n      <td>NotReported</td>\n      <td>NotReported</td>\n      <td>NotReported</td>\n      <td>Pacific</td>\n      <td>West</td>\n      <td>IDU</td>\n      <td>OtherDrugs</td>\n      <td>PartTime</td>\n      <td>DrugCareProvider</td>\n    </tr>\n    <tr>\n      <th>...</th>\n      <td>...</td>\n      <td>...</td>\n      <td>...</td>\n      <td>...</td>\n      <td>...</td>\n      <td>...</td>\n      <td>...</td>\n      <td>...</td>\n      <td>...</td>\n      <td>...</td>\n      <td>...</td>\n      <td>...</td>\n      <td>...</td>\n      <td>...</td>\n      <td>...</td>\n      <td>...</td>\n      <td>...</td>\n      <td>...</td>\n      <td>...</td>\n      <td>...</td>\n      <td>...</td>\n    </tr>\n    <tr>\n      <th>524129</th>\n      <td>WY</td>\n      <td>Unknown</td>\n      <td>NowMarried</td>\n      <td>AmbulatoryIntensiveOutpatient</td>\n      <td>0PriorTreatments</td>\n      <td>0Arrest</td>\n      <td>NoMethUse</td>\n      <td>No</td>\n      <td>Unknown</td>\n      <td>Male</td>\n      <td>...</td>\n      <td>NotReported</td>\n      <td>NotReported</td>\n      <td>NotReported</td>\n      <td>NotReported</td>\n      <td>Mountain</td>\n      <td>West</td>\n      <td>NoIDU</td>\n      <td>OtherDrugs</td>\n      <td>Unemployed</td>\n      <td>OtherReferral</td>\n    </tr>\n    <tr>\n      <th>524130</th>\n      <td>WY</td>\n      <td>Unknown</td>\n      <td>NowMarried</td>\n      <td>AmbulatoryIntensiveOutpatient</td>\n      <td>2PriorTreatments</td>\n      <td>0Arrest</td>\n      <td>NoMethUse</td>\n      <td>No</td>\n      <td>Unknown</td>\n      <td>Male</td>\n      <td>...</td>\n      <td>NotReported</td>\n      <td>NotReported</td>\n      <td>NotReported</td>\n      <td>NotReported</td>\n      <td>Mountain</td>\n      <td>West</td>\n      <td>NoIDU</td>\n      <td>OtherDrugs</td>\n      <td>Unemployed</td>\n      <td>Court</td>\n    </tr>\n    <tr>\n      <th>524131</th>\n      <td>WY</td>\n      <td>Grade12OrGED</td>\n      <td>NeverMarried</td>\n      <td>AmbulatoryNonIntensiveOutpatient</td>\n      <td>3PriorTreatments</td>\n      <td>0Arrest</td>\n      <td>NoMethUse</td>\n      <td>Yes</td>\n      <td>Unknown</td>\n      <td>Male</td>\n      <td>...</td>\n      <td>Reported</td>\n      <td>NotReported</td>\n      <td>NotReported</td>\n      <td>NotReported</td>\n      <td>Mountain</td>\n      <td>West</td>\n      <td>NoIDU</td>\n      <td>AlcoholAndDrugs</td>\n      <td>Unemployed</td>\n      <td>DrugCareProvider</td>\n    </tr>\n    <tr>\n      <th>524132</th>\n      <td>WY</td>\n      <td>Grade8OrLess</td>\n      <td>NeverMarried</td>\n      <td>AmbulatoryNonIntensiveOutpatient</td>\n      <td>0PriorTreatments</td>\n      <td>0Arrest</td>\n      <td>NoMethUse</td>\n      <td>No</td>\n      <td>Unknown</td>\n      <td>Male</td>\n      <td>...</td>\n      <td>NotReported</td>\n      <td>NotReported</td>\n      <td>NotReported</td>\n      <td>NotReported</td>\n      <td>Mountain</td>\n      <td>West</td>\n      <td>NoIDU</td>\n      <td>OtherDrugs</td>\n      <td>InstitutionResident</td>\n      <td>ProbationOrParole</td>\n    </tr>\n    <tr>\n      <th>524133</th>\n      <td>WY</td>\n      <td>Grade9To11</td>\n      <td>NeverMarried</td>\n      <td>AmbulatoryNonIntensiveOutpatient</td>\n      <td>0PriorTreatments</td>\n      <td>0Arrest</td>\n      <td>NoMethUse</td>\n      <td>No</td>\n      <td>Unknown</td>\n      <td>Male</td>\n      <td>...</td>\n      <td>NotReported</td>\n      <td>NotReported</td>\n      <td>NotReported</td>\n      <td>Reported</td>\n      <td>Mountain</td>\n      <td>West</td>\n      <td>NoIDU</td>\n      <td>OtherDrugs</td>\n      <td>InstitutionResident</td>\n      <td>ProbationOrParole</td>\n    </tr>\n  </tbody>\n</table>\n<p>524134 rows × 57 columns</p>\n</div>"
     },
     "execution_count": 10,
     "metadata": {},
     "output_type": "execute_result"
    }
   ],
   "source": [
    "df2"
   ],
   "metadata": {
    "collapsed": false,
    "pycharm": {
     "name": "#%%\n"
    }
   }
  },
  {
   "cell_type": "markdown",
   "source": [
    "## Percent receiving MOUD by variable subgroup"
   ],
   "metadata": {
    "collapsed": false
   }
  },
  {
   "cell_type": "code",
   "execution_count": 11,
   "outputs": [
    {
     "data": {
      "text/plain": "          group              subgroup  total_admissions  \\\n0        STFIPS                    AK              1603   \n1        STFIPS                    AL              5774   \n2        STFIPS                    AR              1947   \n3        STFIPS                    AZ             10189   \n4        STFIPS                    CA             42031   \n..          ...                   ...               ...   \n349  DETPSOURCE     ProbationOrParole             24201   \n350  DETPSOURCE                School               188   \n351  DETPSOURCE               Unknown             10708   \n352  DETPSOURCE  UnknownCourtReferral             17957   \n354         ALL                   ALL            524134   \n\n     group_share_of_admissions  percent_receiving_moud  \n0                     0.003058                0.492826  \n1                     0.011016                0.297194  \n2                     0.003715                0.337956  \n3                     0.019440                0.181176  \n4                     0.080191                0.587804  \n..                         ...                     ...  \n349                   0.046173                0.232180  \n350                   0.000359                0.250000  \n351                   0.020430                0.395405  \n352                   0.034260                0.140502  \n354                   1.000000                0.403986  \n\n[354 rows x 5 columns]",
      "text/html": "<div>\n<style scoped>\n    .dataframe tbody tr th:only-of-type {\n        vertical-align: middle;\n    }\n\n    .dataframe tbody tr th {\n        vertical-align: top;\n    }\n\n    .dataframe thead th {\n        text-align: right;\n    }\n</style>\n<table border=\"1\" class=\"dataframe\">\n  <thead>\n    <tr style=\"text-align: right;\">\n      <th></th>\n      <th>group</th>\n      <th>subgroup</th>\n      <th>total_admissions</th>\n      <th>group_share_of_admissions</th>\n      <th>percent_receiving_moud</th>\n    </tr>\n  </thead>\n  <tbody>\n    <tr>\n      <th>0</th>\n      <td>STFIPS</td>\n      <td>AK</td>\n      <td>1603</td>\n      <td>0.003058</td>\n      <td>0.492826</td>\n    </tr>\n    <tr>\n      <th>1</th>\n      <td>STFIPS</td>\n      <td>AL</td>\n      <td>5774</td>\n      <td>0.011016</td>\n      <td>0.297194</td>\n    </tr>\n    <tr>\n      <th>2</th>\n      <td>STFIPS</td>\n      <td>AR</td>\n      <td>1947</td>\n      <td>0.003715</td>\n      <td>0.337956</td>\n    </tr>\n    <tr>\n      <th>3</th>\n      <td>STFIPS</td>\n      <td>AZ</td>\n      <td>10189</td>\n      <td>0.019440</td>\n      <td>0.181176</td>\n    </tr>\n    <tr>\n      <th>4</th>\n      <td>STFIPS</td>\n      <td>CA</td>\n      <td>42031</td>\n      <td>0.080191</td>\n      <td>0.587804</td>\n    </tr>\n    <tr>\n      <th>...</th>\n      <td>...</td>\n      <td>...</td>\n      <td>...</td>\n      <td>...</td>\n      <td>...</td>\n    </tr>\n    <tr>\n      <th>349</th>\n      <td>DETPSOURCE</td>\n      <td>ProbationOrParole</td>\n      <td>24201</td>\n      <td>0.046173</td>\n      <td>0.232180</td>\n    </tr>\n    <tr>\n      <th>350</th>\n      <td>DETPSOURCE</td>\n      <td>School</td>\n      <td>188</td>\n      <td>0.000359</td>\n      <td>0.250000</td>\n    </tr>\n    <tr>\n      <th>351</th>\n      <td>DETPSOURCE</td>\n      <td>Unknown</td>\n      <td>10708</td>\n      <td>0.020430</td>\n      <td>0.395405</td>\n    </tr>\n    <tr>\n      <th>352</th>\n      <td>DETPSOURCE</td>\n      <td>UnknownCourtReferral</td>\n      <td>17957</td>\n      <td>0.034260</td>\n      <td>0.140502</td>\n    </tr>\n    <tr>\n      <th>354</th>\n      <td>ALL</td>\n      <td>ALL</td>\n      <td>524134</td>\n      <td>1.000000</td>\n      <td>0.403986</td>\n    </tr>\n  </tbody>\n</table>\n<p>354 rows × 5 columns</p>\n</div>"
     },
     "execution_count": 11,
     "metadata": {},
     "output_type": "execute_result"
    }
   ],
   "source": [
    "# Calculate the treatment rate for each subgroup\n",
    "total = len(df2)\n",
    "df3 = df2.copy()\n",
    "df3 = df3.replace({'MethUse':1, 'NoMethUse':0})\n",
    "\n",
    "# Loop through each variable, append frequencies to a running dataframe\n",
    "df_freq = pd.DataFrame()\n",
    "for col in df3.columns:\n",
    "    # Calculate treatment rates\n",
    "    df_mean = df3.groupby([col])['METHUSE'].mean()\n",
    "    df_mean = pd.DataFrame(df_mean)\n",
    "\n",
    "    # Calculate admission counts\n",
    "    df_count = df3.groupby([col])['METHUSE'].count()\n",
    "    df_count = pd.DataFrame(df_count)\n",
    "\n",
    "    # Combine, rename columns\n",
    "    df_running = pd.merge(df_mean, df_count, how='inner', left_index=True, right_index=True)\n",
    "    df_running = df_running.reset_index()\n",
    "    df_running = df_running.rename(columns={'METHUSE_x': 'percent_receiving_moud', 'METHUSE_y': 'total_admissions', col: 'subgroup'})\n",
    "\n",
    "    # Calculate share of admissions, reorder columns, add group\n",
    "    df_running['group_share_of_admissions'] = df_running['total_admissions']/total\n",
    "    df_running = df_running[['subgroup', 'total_admissions', 'group_share_of_admissions', 'percent_receiving_moud']]\n",
    "    df_running.insert(0, 'group', col)\n",
    "\n",
    "    # Append results before moving to next columns\n",
    "    df_freq = pd.concat([df_freq, df_running])\n",
    "\n",
    "# All row for all observations\n",
    "df_freq = df_freq.reset_index(drop=True)\n",
    "df_freq2 = pd.DataFrame(data={'group':'ALL',\n",
    "                            'subgroup':'ALL',\n",
    "                            'total_admissions':len(df3),\n",
    "                            'group_share_of_admissions':1.0,\n",
    "                            'percent_receiving_moud':df3['METHUSE'].mean()\n",
    "                            }, index=[354])\n",
    "df_freq = pd.concat([df_freq, df_freq2])\n",
    "\n",
    "df_freq"
   ],
   "metadata": {
    "collapsed": false,
    "pycharm": {
     "name": "#%%\n"
    }
   }
  },
  {
   "cell_type": "code",
   "execution_count": 12,
   "outputs": [],
   "source": [
    "# Uncomment to save results\n",
    "# df_freq.to_csv('percent_receiving_moud.csv', index=False)"
   ],
   "metadata": {
    "collapsed": false,
    "pycharm": {
     "name": "#%%\n"
    }
   }
  },
  {
   "cell_type": "markdown",
   "source": [
    "# Describe MOUD treatment frequency for each variable's subgroup and living status\n",
    "Calculate the percent difference between the homeless vs independent and dependent vs independent as well as their statistical difference"
   ],
   "metadata": {
    "collapsed": false
   }
  },
  {
   "cell_type": "code",
   "execution_count": 13,
   "outputs": [],
   "source": [
    "# Define helper function\n",
    "def significant(p_value):\n",
    "    if p_value < 0.001:\n",
    "        significance = '****'\n",
    "    elif p_value < 0.01:\n",
    "        significance = '***'\n",
    "    elif p_value < 0.05:\n",
    "        significance = '**'\n",
    "    elif p_value <0.1:\n",
    "        significance = '*'\n",
    "    else:\n",
    "        significance = ''\n",
    "    return significance"
   ],
   "metadata": {
    "collapsed": false,
    "pycharm": {
     "name": "#%%\n"
    }
   }
  },
  {
   "cell_type": "code",
   "execution_count": 14,
   "outputs": [
    {
     "name": "stderr",
     "output_type": "stream",
     "text": [
      "/Users/mymac/PycharmProjects/TEDSA/venv/lib/python3.7/site-packages/numpy/core/fromnumeric.py:3724: RuntimeWarning: Degrees of freedom <= 0 for slice\n",
      "  **kwargs)\n",
      "/Users/mymac/PycharmProjects/TEDSA/venv/lib/python3.7/site-packages/numpy/core/_methods.py:254: RuntimeWarning: invalid value encountered in double_scalars\n",
      "  ret = ret.dtype.type(ret / rcount)\n"
     ]
    }
   ],
   "source": [
    "# Test out calculate treatment difference for each group\n",
    "import pandas as pd\n",
    "from scipy.stats import ttest_ind\n",
    "\n",
    "# Simplify dataset\n",
    "df_ttest = df2.copy()\n",
    "df_ttest = df_ttest[df_ttest['LIVARAG'] != 'Unknown']\n",
    "# df_ttest = df_ttest[df_ttest['LIVARAG'] != 'DependLiving']\n",
    "df_ttest['LIVARAG'] = df_ttest['LIVARAG'].replace({'DependLiving':'Dependent', 'IndependentLiving':'Independent'})\n",
    "df_ttest['METHUSE'] = df_ttest['METHUSE'].replace({'MethUse':1, 'NoMethUse':0})\n",
    "\n",
    "\n",
    "df_all = pd.DataFrame(columns=['Dependent', 'Homeless', 'Independent', 'DependentMOUD', 'HomelessMOUD', 'IndependentMOUD',\n",
    "                               'PercentDifference', 'TStat', 'PValue', 'Significance'])\n",
    "\n",
    "df_columns = [c for c in df_ttest.columns if c != 'LIVARAG']\n",
    "df_columns.append('ALL')\n",
    "\n",
    "for col in df_columns:\n",
    "    # Create loop assets (depending on if subgroup or not)\n",
    "    if col == 'ALL':\n",
    "        col_list = ['ALL']\n",
    "    else:\n",
    "        col_array = df_ttest[col].sort_values().unique()\n",
    "        col_list = col_array.tolist()\n",
    "    df_col = pd.DataFrame(columns=['Group', 'DependentAdmissions', 'HomelessAdmissions', 'IndependentAdmissions',\n",
    "                                   'DependentMOUD', 'HomelessMOUD', 'IndependentMOUD',\n",
    "                                   'DependentPercentDifference', 'DependentTStat', 'DependentPValue', 'DependentSignificance',\n",
    "                                   'HomelessPercentDifference', 'HomelessTStat', 'HomelessPValue', 'HomelessSignificance'])\n",
    "\n",
    "    # Loop through each subgroup within each column\n",
    "    for s in col_list:\n",
    "        # Filter observations based on subset (unless \"ALL\")\n",
    "        if col == 'ALL':\n",
    "            dft_temp = df_ttest.copy()\n",
    "        else:\n",
    "            dft_temp = df_ttest[df_ttest[col] == s]\n",
    "\n",
    "        # Group by living arrangement and MOUD, then store those variables for later (if they exist)\n",
    "        dft_count = dft_temp.groupby('LIVARAG')['METHUSE'].count()\n",
    "        try:\n",
    "            dependent_count = dft_count.loc['Dependent']\n",
    "        except KeyError:\n",
    "            dependent_count = 0\n",
    "\n",
    "        try:\n",
    "            homeless_count = dft_count.loc['Homeless']\n",
    "        except KeyError:\n",
    "            homeless_count = 0\n",
    "\n",
    "        try:\n",
    "            independent_count = dft_count.loc['Independent']\n",
    "        except KeyError:\n",
    "            independent_count = 0\n",
    "\n",
    "        # Define averages by living arrangement (use try-except in case there are no observations)\n",
    "        dft_mean = dft_temp.groupby('LIVARAG')['METHUSE'].mean()\n",
    "        try:\n",
    "            dependent_moud = dft_mean.loc['Dependent']\n",
    "        except KeyError:\n",
    "            dependent_moud = np.nan\n",
    "\n",
    "        try:\n",
    "            homeless_moud = dft_mean.loc['Homeless']\n",
    "        except KeyError:\n",
    "            homeless_moud = np.nan\n",
    "\n",
    "        try:\n",
    "            independent_moud = dft_mean.loc['Independent']\n",
    "        except KeyError:\n",
    "            independent_moud = np.nan\n",
    "\n",
    "        # Calculate the percent difference (if there is an independent living group in that state)\n",
    "        if independent_moud > 0:\n",
    "           dependent_percent_difference = (dependent_moud - independent_moud)/independent_moud\n",
    "           homeless_percent_difference = (homeless_moud - independent_moud)/independent_moud\n",
    "        else:\n",
    "            dependent_percent_difference = np.nan\n",
    "            homeless_percent_difference = np.nan\n",
    "\n",
    "        # Perform a t-test between the two groups\n",
    "        dependent_values = dft_temp[dft_temp['LIVARAG'] == 'Dependent']['METHUSE']\n",
    "        homeless_values = dft_temp[dft_temp['LIVARAG'] == 'Homeless']['METHUSE']\n",
    "        independent_values = dft_temp[dft_temp['LIVARAG'] == 'Independent']['METHUSE']\n",
    "\n",
    "        dependent_t_stat, dependent_p_value = ttest_ind(dependent_values, independent_values)\n",
    "        homeless_t_stat, homeless_p_value = ttest_ind(homeless_values, independent_values)\n",
    "\n",
    "        # Add values to a dictionary and round\n",
    "        dict_results = {'DependentAdmissions':dependent_count, 'HomelessAdmissions':homeless_count, 'IndependentAdmissions':independent_count,\n",
    "                        'DependentMOUD':dependent_moud, 'HomelessMOUD':homeless_moud, 'IndependentMOUD':independent_moud,\n",
    "                        'DependentPercentDifference':dependent_percent_difference, 'DependentTStat':dependent_t_stat, 'DependentPValue':dependent_p_value,\n",
    "                        'HomelessPercentDifference':homeless_percent_difference, 'HomelessTStat':homeless_t_stat, 'HomelessPValue':homeless_p_value}\n",
    "        for key, value in dict_results.items():\n",
    "            dict_results[key] = round(value, 6)\n",
    "\n",
    "        # Add significance and column group to dictionary, then add dictionary to dataframe (using helper function)\n",
    "        dict_results['DependentSignificance'] = significant(dependent_p_value)\n",
    "        dict_results['HomelessSignificance'] = significant(homeless_p_value)\n",
    "        dict_results['Group'] = col\n",
    "        df_col.loc[s] = dict_results\n",
    "\n",
    "    # Add column df to running aggregate\n",
    "    df_all = pd.concat([df_all, df_col])\n",
    "\n",
    "# Clean up final column\n",
    "df_all = df_all.reset_index().rename(columns={'index': 'Subgroup'})\n",
    "df_all = df_all[['Group', 'Subgroup', 'DependentAdmissions', 'HomelessAdmissions', 'IndependentAdmissions', 'DependentMOUD', 'HomelessMOUD', 'IndependentMOUD',\n",
    "                 'DependentPercentDifference', 'DependentTStat', 'DependentPValue', 'DependentSignificance',\n",
    "                 'HomelessPercentDifference', 'HomelessTStat', 'HomelessPValue', 'HomelessSignificance']]"
   ],
   "metadata": {
    "collapsed": false,
    "pycharm": {
     "name": "#%%\n"
    }
   }
  },
  {
   "cell_type": "code",
   "execution_count": 16,
   "outputs": [
    {
     "data": {
      "text/plain": "          group              subgroup  total_admissions  \\\n0        STFIPS                    AK              1603   \n1        STFIPS                    AL              5774   \n2        STFIPS                    AR              1947   \n3        STFIPS                    AZ             10189   \n4        STFIPS                    CA             42031   \n..          ...                   ...               ...   \n349  DETPSOURCE     ProbationOrParole             24201   \n350  DETPSOURCE                School               188   \n351  DETPSOURCE               Unknown             10708   \n352  DETPSOURCE  UnknownCourtReferral             17957   \n353         ALL                   ALL            524134   \n\n     group_share_of_admissions  percent_receiving_moud DependentAdmissions  \\\n0                     0.003058                0.492826                 258   \n1                     0.011016                0.297194                1952   \n2                     0.003715                0.337956                 604   \n3                     0.019440                0.181176                 NaN   \n4                     0.080191                0.587804                9353   \n..                         ...                     ...                 ...   \n349                   0.046173                0.232180                5176   \n350                   0.000359                0.250000                  26   \n351                   0.020430                0.395405                1203   \n352                   0.034260                0.140502                3729   \n353                   1.000000                0.403986               83668   \n\n    HomelessAdmissions IndependentAdmissions  DependentMOUD  HomelessMOUD  \\\n0                  333                   956       0.372093      0.387387   \n1                  379                  3218       0.296619      0.118734   \n2                  203                  1137       0.261589      0.103448   \n3                  NaN                   NaN            NaN           NaN   \n4                10568                 22090       0.555330      0.344436   \n..                 ...                   ...            ...           ...   \n349               2416                 16248       0.181221      0.215646   \n350                 24                   133       0.192308      0.291667   \n351                895                  5049       0.457190      0.211173   \n352               1447                 10986       0.179673      0.163787   \n353              85824                326715       0.345413      0.285596   \n\n     ...  DependentPercentDifference  DependentTStat  DependentPValue  \\\n0    ...                   -0.332606       -5.347493         0.000000   \n1    ...                   -0.080424       -1.950745         0.051141   \n2    ...                   -0.375153       -6.558287         0.000000   \n3    ...                         NaN             NaN              NaN   \n4    ...                   -0.226140      -28.314917         0.000000   \n..   ...                         ...             ...              ...   \n349  ...                   -0.286533      -10.760649         0.000000   \n350  ...                   -0.200721       -0.530104         0.596789   \n351  ...                    0.704841       12.970883         0.000000   \n352  ...                    0.422108        8.130652         0.000000   \n353  ...                   -0.231089      -54.342475         0.000000   \n\n     DependentSignificance HomelessPercentDifference  HomelessTStat  \\\n0                     ****                 -0.305174      -5.405923   \n1                        *                 -0.631903      -8.256698   \n2                     ****                 -0.752898      -8.801753   \n3                      NaN                       NaN            NaN   \n4                     ****                 -0.520023     -68.824720   \n..                     ...                       ...            ...   \n349                   ****                 -0.151003      -4.069065   \n350                                         0.212240       0.529958   \n351                   ****                 -0.212545      -3.588038   \n352                   ****                  0.296373       3.974403   \n353                   ****                 -0.364245     -87.370043   \n\n     HomelessPValue  HomelessSignificance DependentPctDiff HomelessPctDiff  \n0          0.000000                  ****      -33.26%****     -30.52%****  \n1          0.000000                  ****          -8.04%*     -63.19%****  \n2          0.000000                  ****      -37.52%****     -75.29%****  \n3               NaN                   NaN              NaN             NaN  \n4          0.000000                  ****      -22.61%****     -52.00%****  \n..              ...                   ...              ...             ...  \n349        0.000047                  ****      -28.65%****     -15.10%****  \n350        0.596899                                -20.07%          21.22%  \n351        0.000336                  ****       70.48%****     -21.25%****  \n352        0.000071                  ****       42.21%****      29.64%****  \n353        0.000000                  ****      -23.11%****     -36.42%****  \n\n[354 rows x 21 columns]",
      "text/html": "<div>\n<style scoped>\n    .dataframe tbody tr th:only-of-type {\n        vertical-align: middle;\n    }\n\n    .dataframe tbody tr th {\n        vertical-align: top;\n    }\n\n    .dataframe thead th {\n        text-align: right;\n    }\n</style>\n<table border=\"1\" class=\"dataframe\">\n  <thead>\n    <tr style=\"text-align: right;\">\n      <th></th>\n      <th>group</th>\n      <th>subgroup</th>\n      <th>total_admissions</th>\n      <th>group_share_of_admissions</th>\n      <th>percent_receiving_moud</th>\n      <th>DependentAdmissions</th>\n      <th>HomelessAdmissions</th>\n      <th>IndependentAdmissions</th>\n      <th>DependentMOUD</th>\n      <th>HomelessMOUD</th>\n      <th>...</th>\n      <th>DependentPercentDifference</th>\n      <th>DependentTStat</th>\n      <th>DependentPValue</th>\n      <th>DependentSignificance</th>\n      <th>HomelessPercentDifference</th>\n      <th>HomelessTStat</th>\n      <th>HomelessPValue</th>\n      <th>HomelessSignificance</th>\n      <th>DependentPctDiff</th>\n      <th>HomelessPctDiff</th>\n    </tr>\n  </thead>\n  <tbody>\n    <tr>\n      <th>0</th>\n      <td>STFIPS</td>\n      <td>AK</td>\n      <td>1603</td>\n      <td>0.003058</td>\n      <td>0.492826</td>\n      <td>258</td>\n      <td>333</td>\n      <td>956</td>\n      <td>0.372093</td>\n      <td>0.387387</td>\n      <td>...</td>\n      <td>-0.332606</td>\n      <td>-5.347493</td>\n      <td>0.000000</td>\n      <td>****</td>\n      <td>-0.305174</td>\n      <td>-5.405923</td>\n      <td>0.000000</td>\n      <td>****</td>\n      <td>-33.26%****</td>\n      <td>-30.52%****</td>\n    </tr>\n    <tr>\n      <th>1</th>\n      <td>STFIPS</td>\n      <td>AL</td>\n      <td>5774</td>\n      <td>0.011016</td>\n      <td>0.297194</td>\n      <td>1952</td>\n      <td>379</td>\n      <td>3218</td>\n      <td>0.296619</td>\n      <td>0.118734</td>\n      <td>...</td>\n      <td>-0.080424</td>\n      <td>-1.950745</td>\n      <td>0.051141</td>\n      <td>*</td>\n      <td>-0.631903</td>\n      <td>-8.256698</td>\n      <td>0.000000</td>\n      <td>****</td>\n      <td>-8.04%*</td>\n      <td>-63.19%****</td>\n    </tr>\n    <tr>\n      <th>2</th>\n      <td>STFIPS</td>\n      <td>AR</td>\n      <td>1947</td>\n      <td>0.003715</td>\n      <td>0.337956</td>\n      <td>604</td>\n      <td>203</td>\n      <td>1137</td>\n      <td>0.261589</td>\n      <td>0.103448</td>\n      <td>...</td>\n      <td>-0.375153</td>\n      <td>-6.558287</td>\n      <td>0.000000</td>\n      <td>****</td>\n      <td>-0.752898</td>\n      <td>-8.801753</td>\n      <td>0.000000</td>\n      <td>****</td>\n      <td>-37.52%****</td>\n      <td>-75.29%****</td>\n    </tr>\n    <tr>\n      <th>3</th>\n      <td>STFIPS</td>\n      <td>AZ</td>\n      <td>10189</td>\n      <td>0.019440</td>\n      <td>0.181176</td>\n      <td>NaN</td>\n      <td>NaN</td>\n      <td>NaN</td>\n      <td>NaN</td>\n      <td>NaN</td>\n      <td>...</td>\n      <td>NaN</td>\n      <td>NaN</td>\n      <td>NaN</td>\n      <td>NaN</td>\n      <td>NaN</td>\n      <td>NaN</td>\n      <td>NaN</td>\n      <td>NaN</td>\n      <td>NaN</td>\n      <td>NaN</td>\n    </tr>\n    <tr>\n      <th>4</th>\n      <td>STFIPS</td>\n      <td>CA</td>\n      <td>42031</td>\n      <td>0.080191</td>\n      <td>0.587804</td>\n      <td>9353</td>\n      <td>10568</td>\n      <td>22090</td>\n      <td>0.555330</td>\n      <td>0.344436</td>\n      <td>...</td>\n      <td>-0.226140</td>\n      <td>-28.314917</td>\n      <td>0.000000</td>\n      <td>****</td>\n      <td>-0.520023</td>\n      <td>-68.824720</td>\n      <td>0.000000</td>\n      <td>****</td>\n      <td>-22.61%****</td>\n      <td>-52.00%****</td>\n    </tr>\n    <tr>\n      <th>...</th>\n      <td>...</td>\n      <td>...</td>\n      <td>...</td>\n      <td>...</td>\n      <td>...</td>\n      <td>...</td>\n      <td>...</td>\n      <td>...</td>\n      <td>...</td>\n      <td>...</td>\n      <td>...</td>\n      <td>...</td>\n      <td>...</td>\n      <td>...</td>\n      <td>...</td>\n      <td>...</td>\n      <td>...</td>\n      <td>...</td>\n      <td>...</td>\n      <td>...</td>\n      <td>...</td>\n    </tr>\n    <tr>\n      <th>349</th>\n      <td>DETPSOURCE</td>\n      <td>ProbationOrParole</td>\n      <td>24201</td>\n      <td>0.046173</td>\n      <td>0.232180</td>\n      <td>5176</td>\n      <td>2416</td>\n      <td>16248</td>\n      <td>0.181221</td>\n      <td>0.215646</td>\n      <td>...</td>\n      <td>-0.286533</td>\n      <td>-10.760649</td>\n      <td>0.000000</td>\n      <td>****</td>\n      <td>-0.151003</td>\n      <td>-4.069065</td>\n      <td>0.000047</td>\n      <td>****</td>\n      <td>-28.65%****</td>\n      <td>-15.10%****</td>\n    </tr>\n    <tr>\n      <th>350</th>\n      <td>DETPSOURCE</td>\n      <td>School</td>\n      <td>188</td>\n      <td>0.000359</td>\n      <td>0.250000</td>\n      <td>26</td>\n      <td>24</td>\n      <td>133</td>\n      <td>0.192308</td>\n      <td>0.291667</td>\n      <td>...</td>\n      <td>-0.200721</td>\n      <td>-0.530104</td>\n      <td>0.596789</td>\n      <td></td>\n      <td>0.212240</td>\n      <td>0.529958</td>\n      <td>0.596899</td>\n      <td></td>\n      <td>-20.07%</td>\n      <td>21.22%</td>\n    </tr>\n    <tr>\n      <th>351</th>\n      <td>DETPSOURCE</td>\n      <td>Unknown</td>\n      <td>10708</td>\n      <td>0.020430</td>\n      <td>0.395405</td>\n      <td>1203</td>\n      <td>895</td>\n      <td>5049</td>\n      <td>0.457190</td>\n      <td>0.211173</td>\n      <td>...</td>\n      <td>0.704841</td>\n      <td>12.970883</td>\n      <td>0.000000</td>\n      <td>****</td>\n      <td>-0.212545</td>\n      <td>-3.588038</td>\n      <td>0.000336</td>\n      <td>****</td>\n      <td>70.48%****</td>\n      <td>-21.25%****</td>\n    </tr>\n    <tr>\n      <th>352</th>\n      <td>DETPSOURCE</td>\n      <td>UnknownCourtReferral</td>\n      <td>17957</td>\n      <td>0.034260</td>\n      <td>0.140502</td>\n      <td>3729</td>\n      <td>1447</td>\n      <td>10986</td>\n      <td>0.179673</td>\n      <td>0.163787</td>\n      <td>...</td>\n      <td>0.422108</td>\n      <td>8.130652</td>\n      <td>0.000000</td>\n      <td>****</td>\n      <td>0.296373</td>\n      <td>3.974403</td>\n      <td>0.000071</td>\n      <td>****</td>\n      <td>42.21%****</td>\n      <td>29.64%****</td>\n    </tr>\n    <tr>\n      <th>353</th>\n      <td>ALL</td>\n      <td>ALL</td>\n      <td>524134</td>\n      <td>1.000000</td>\n      <td>0.403986</td>\n      <td>83668</td>\n      <td>85824</td>\n      <td>326715</td>\n      <td>0.345413</td>\n      <td>0.285596</td>\n      <td>...</td>\n      <td>-0.231089</td>\n      <td>-54.342475</td>\n      <td>0.000000</td>\n      <td>****</td>\n      <td>-0.364245</td>\n      <td>-87.370043</td>\n      <td>0.000000</td>\n      <td>****</td>\n      <td>-23.11%****</td>\n      <td>-36.42%****</td>\n    </tr>\n  </tbody>\n</table>\n<p>354 rows × 21 columns</p>\n</div>"
     },
     "execution_count": 16,
     "metadata": {},
     "output_type": "execute_result"
    }
   ],
   "source": [
    "# Merge dataframes together\n",
    "df_combo = pd.merge(df_freq, df_all, left_on=['group', 'subgroup'], right_on=['Group', 'Subgroup'], how='outer')\n",
    "df_combo = df_combo.drop(columns=['Group', 'Subgroup'])\n",
    "\n",
    "# Add formatted column of percent difference with significance (for dependent and homeless)\n",
    "df_combo['DependentPctDiff'] = df_combo['DependentPercentDifference']*100\n",
    "df_combo['DependentPctDiff'] = df_combo['DependentPctDiff'].round(2).map('{:.2f}'.format)\n",
    "df_combo['DependentPctDiff'] = df_combo['DependentPctDiff'] + '%' + df_combo['DependentSignificance']\n",
    "df_combo['DependentPctDiff'] = df_combo['DependentPctDiff'].replace('nan%', '')\n",
    "\n",
    "df_combo['HomelessPctDiff'] = df_combo['HomelessPercentDifference']*100\n",
    "df_combo['HomelessPctDiff'] = df_combo['HomelessPctDiff'].round(2).map('{:.2f}'.format)\n",
    "df_combo['HomelessPctDiff'] = df_combo['HomelessPctDiff'] + '%' + df_combo['HomelessSignificance']\n",
    "df_combo['HomelessPctDiff'] = df_combo['HomelessPctDiff'].replace('nan%', '')\n",
    "\n",
    "# df_combo.to_csv('frequencies.csv', index=False) #uncomment to save file\n",
    "df_combo"
   ],
   "metadata": {
    "collapsed": false,
    "pycharm": {
     "name": "#%%\n"
    }
   }
  },
  {
   "cell_type": "code",
   "execution_count": null,
   "outputs": [],
   "source": [],
   "metadata": {
    "collapsed": false,
    "pycharm": {
     "name": "#%%\n"
    }
   }
  }
 ],
 "metadata": {
  "kernelspec": {
   "display_name": "Python 3",
   "language": "python",
   "name": "python3"
  },
  "language_info": {
   "codemirror_mode": {
    "name": "ipython",
    "version": 2
   },
   "file_extension": ".py",
   "mimetype": "text/x-python",
   "name": "python",
   "nbconvert_exporter": "python",
   "pygments_lexer": "ipython2",
   "version": "2.7.6"
  }
 },
 "nbformat": 4,
 "nbformat_minor": 0
}