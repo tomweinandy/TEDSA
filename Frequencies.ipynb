{
 "cells": [
  {
   "cell_type": "markdown",
   "source": [
    "## Load data"
   ],
   "metadata": {
    "collapsed": false
   }
  },
  {
   "cell_type": "code",
   "execution_count": 1,
   "outputs": [],
   "source": [
    "import pandas as pd\n",
    "import ast\n",
    "import numpy as np\n",
    "\n",
    "# Load in data\n",
    "admissions = 'tedsa_puf_2019.csv'\n",
    "df_raw = pd.read_csv(f'../../Downloads/{admissions}')"
   ],
   "metadata": {
    "collapsed": false
   }
  },
  {
   "cell_type": "markdown",
   "source": [
    "## Filter out select rows and columns"
   ],
   "metadata": {
    "collapsed": false
   }
  },
  {
   "cell_type": "code",
   "execution_count": 2,
   "metadata": {
    "collapsed": true
   },
   "outputs": [
    {
     "name": "stdout",
     "output_type": "stream",
     "text": [
      "Dropped 2 columns (60 remain)\n",
      "Dropped 1,340,233 observations or 71.9% of the data (524,134 rows remain)\n"
     ]
    }
   ],
   "source": [
    "# Get count of original number of rows\n",
    "old_rows = len(df_raw)\n",
    "\n",
    "# Drop the defined columns: year of admission (singular), case id (index)\n",
    "columns_to_drop = ['ADMYR', 'CASEID']\n",
    "df = df_raw.drop(columns=columns_to_drop)\n",
    "print(f'Dropped {len(columns_to_drop)} columns ({len(df.columns)} remain)')\n",
    "\n",
    "# Drop values where dependent variable is unknown\n",
    "df = df[df['METHUSE'] != -9]\n",
    "\n",
    "# Only keep patients admitted with self-described use of an opioid as their primary substance use (i.e., SUB1 = 5, 6, or 7)\n",
    "df = df[df['SUB1'].between(5, 7)]\n",
    "new_rows = len(df)\n",
    "percent_change = round(100*(old_rows-new_rows)/old_rows, 1)\n",
    "print(f'Dropped {\"{:,}\".format(old_rows-new_rows)} observations or {percent_change}% of the data ({\"{:,}\".format(new_rows)} rows remain)')\n",
    "\n",
    "df = df.reset_index(drop='index')"
   ]
  },
  {
   "cell_type": "markdown",
   "source": [
    "## Make dataset human-readable"
   ],
   "metadata": {
    "collapsed": false
   }
  },
  {
   "cell_type": "code",
   "execution_count": 3,
   "outputs": [],
   "source": [
    "# Load in variable dictionary\n",
    "with open('VariableDictionary.txt') as file:\n",
    "    variable_dict_string = file.read()\n",
    "    variable_dict = ast.literal_eval(variable_dict_string)\n",
    "\n",
    "# Rename entries in column according to dictionary\n",
    "df2 = df.copy()\n",
    "for col, col_dict in variable_dict.items():\n",
    "    if col in df2.columns:\n",
    "        for old_value, new_value in variable_dict[col].items():\n",
    "            df2[col] = df2[col].replace(old_value, new_value)\n",
    "\n",
    "# Rename \"-9\" values as \"Unknown\"\n",
    "for col in df2.columns:\n",
    "    df2[col] = df2[col].replace(-9, 'Unknown')\n",
    "\n",
    "# Cast metro area as string\n",
    "df2['CBSA2010'] = df2['CBSA2010'].astype(str)\n",
    "\n",
    "# Subsume DETNLF (detailed not in labor force) into EMPLOY==4 (not in labor force)\n",
    "detailed_employ = []\n",
    "for idx, value in df2.iterrows():\n",
    "    if value['EMPLOY'] == 'NotInLaborForce':\n",
    "        if value['DETNLF'] == 'Unknown':\n",
    "            # Assign 'UnknownNotInLaborForce' if 'NotInLaborForce' and 'Unknown'\n",
    "            detailed_employ.append('UnknownNotInLaborForce')\n",
    "        else:\n",
    "            # Otherwise, assign as the DETNLF value\n",
    "            detailed_employ.append(value['DETNLF'])\n",
    "    else:\n",
    "        # Assign the EMPLOY value if not 'NotInLaborForce'\n",
    "        detailed_employ.append(value['EMPLOY'])\n",
    "# Add a new column for detailed employment and drop the two source columns\n",
    "df2['EMPLOY_DETNLF'] = detailed_employ\n",
    "df2 = df2.drop(columns=['EMPLOY', 'DETNLF'])\n",
    "\n",
    "# Subsume DETCRIM (detailed court referral) into PSOURCE==7 (court referral)\n",
    "detailed_court_referral = []\n",
    "for idx, value in df2.iterrows():\n",
    "    if value['PSOURCE'] == 'CourtReferral':\n",
    "        if value['DETCRIM'] == 'Unknown':\n",
    "            # Assign 'UnknownCourtReferral' if 'CourtReferral' and 'Unknown'\n",
    "            detailed_court_referral.append('UnknownCourtReferral')\n",
    "        else:\n",
    "            # Otherwise, assign as the DETCRIM value\n",
    "            detailed_court_referral.append(value['DETCRIM'])\n",
    "    else:\n",
    "        # Assign the PSOURCE value if not 'CourtReferral'\n",
    "        detailed_court_referral.append(value['PSOURCE'])\n",
    "# Add a new column for detailed court referral and drop the two source columns\n",
    "df2['PSOURCE_DETCRIM'] = detailed_court_referral\n",
    "df2 = df2.drop(columns=['PSOURCE', 'DETCRIM'])"
   ],
   "metadata": {
    "collapsed": false
   }
  },
  {
   "cell_type": "code",
   "execution_count": 4,
   "outputs": [
    {
     "data": {
      "text/plain": "       STFIPS CBSA2010          EDUC       MARSTAT  \\\n0          AK  Unknown    Grade9To11  NeverMarried   \n1          AK  Unknown  Grade12OrGED  NeverMarried   \n2          AK  Unknown  Grade8OrLess    NowMarried   \n3          AK  Unknown  Grade12OrGED  NeverMarried   \n4          AK  Unknown  Grade12OrGED  NeverMarried   \n...       ...      ...           ...           ...   \n524129     WY  Unknown       Unknown    NowMarried   \n524130     WY  Unknown       Unknown    NowMarried   \n524131     WY  Unknown  Grade12OrGED  NeverMarried   \n524132     WY  Unknown  Grade8OrLess  NeverMarried   \n524133     WY  Unknown    Grade9To11  NeverMarried   \n\n                                SERVICES               NOPRIOR  ARRESTS  \\\n0       AmbulatoryNonIntensiveOutpatient      3PriorTreatments  0Arrest   \n1       AmbulatoryNonIntensiveOutpatient      2PriorTreatments  0Arrest   \n2       AmbulatoryNonIntensiveOutpatient  5PlusPriorTreatments  0Arrest   \n3       AmbulatoryNonIntensiveOutpatient      3PriorTreatments  0Arrest   \n4       AmbulatoryNonIntensiveOutpatient      1PriorTreatments  0Arrest   \n...                                  ...                   ...      ...   \n524129     AmbulatoryIntensiveOutpatient      0PriorTreatments  0Arrest   \n524130     AmbulatoryIntensiveOutpatient      2PriorTreatments  0Arrest   \n524131  AmbulatoryNonIntensiveOutpatient      3PriorTreatments  0Arrest   \n524132  AmbulatoryNonIntensiveOutpatient      0PriorTreatments  0Arrest   \n524133  AmbulatoryNonIntensiveOutpatient      0PriorTreatments  0Arrest   \n\n          METHUSE PSYPROB         PREG  ...     SEDHPFLG       INHFLG  \\\n0       NoMethUse      No      Unknown  ...  NotReported  NotReported   \n1         MethUse      No  NotPregnant  ...  NotReported  NotReported   \n2         MethUse     Yes  NotPregnant  ...  NotReported  NotReported   \n3         MethUse      No  NotPregnant  ...  NotReported  NotReported   \n4         MethUse     Yes  NotPregnant  ...  NotReported  NotReported   \n...           ...     ...          ...  ...          ...          ...   \n524129  NoMethUse      No      Unknown  ...  NotReported  NotReported   \n524130  NoMethUse      No      Unknown  ...  NotReported  NotReported   \n524131  NoMethUse     Yes      Unknown  ...     Reported  NotReported   \n524132  NoMethUse      No      Unknown  ...  NotReported  NotReported   \n524133  NoMethUse      No      Unknown  ...  NotReported  NotReported   \n\n             OTCFLG     OTHERFLG  DIVISION REGION    IDU          ALCDRUG  \\\n0       NotReported  NotReported   Pacific   West    IDU  AlcoholAndDrugs   \n1       NotReported  NotReported   Pacific   West    IDU       OtherDrugs   \n2       NotReported  NotReported   Pacific   West    IDU       OtherDrugs   \n3       NotReported  NotReported   Pacific   West    IDU       OtherDrugs   \n4       NotReported  NotReported   Pacific   West    IDU       OtherDrugs   \n...             ...          ...       ...    ...    ...              ...   \n524129  NotReported  NotReported  Mountain   West  NoIDU       OtherDrugs   \n524130  NotReported  NotReported  Mountain   West  NoIDU       OtherDrugs   \n524131  NotReported  NotReported  Mountain   West  NoIDU  AlcoholAndDrugs   \n524132  NotReported  NotReported  Mountain   West  NoIDU       OtherDrugs   \n524133  NotReported     Reported  Mountain   West  NoIDU       OtherDrugs   \n\n               EMPLOY_DETNLF          PSOURCE_DETCRIM  \n0                 Unemployed               Individual  \n1       OtherNotInLaborForce  OtherHealthCareProvider  \n2          RetiredOrDisabled         DrugCareProvider  \n3       OtherNotInLaborForce  OtherHealthCareProvider  \n4                   PartTime         DrugCareProvider  \n...                      ...                      ...  \n524129            Unemployed            OtherReferral  \n524130            Unemployed                    Court  \n524131            Unemployed         DrugCareProvider  \n524132   InstitutionResident        ProbationOrParole  \n524133   InstitutionResident        ProbationOrParole  \n\n[524134 rows x 58 columns]",
      "text/html": "<div>\n<style scoped>\n    .dataframe tbody tr th:only-of-type {\n        vertical-align: middle;\n    }\n\n    .dataframe tbody tr th {\n        vertical-align: top;\n    }\n\n    .dataframe thead th {\n        text-align: right;\n    }\n</style>\n<table border=\"1\" class=\"dataframe\">\n  <thead>\n    <tr style=\"text-align: right;\">\n      <th></th>\n      <th>STFIPS</th>\n      <th>CBSA2010</th>\n      <th>EDUC</th>\n      <th>MARSTAT</th>\n      <th>SERVICES</th>\n      <th>NOPRIOR</th>\n      <th>ARRESTS</th>\n      <th>METHUSE</th>\n      <th>PSYPROB</th>\n      <th>PREG</th>\n      <th>...</th>\n      <th>SEDHPFLG</th>\n      <th>INHFLG</th>\n      <th>OTCFLG</th>\n      <th>OTHERFLG</th>\n      <th>DIVISION</th>\n      <th>REGION</th>\n      <th>IDU</th>\n      <th>ALCDRUG</th>\n      <th>EMPLOY_DETNLF</th>\n      <th>PSOURCE_DETCRIM</th>\n    </tr>\n  </thead>\n  <tbody>\n    <tr>\n      <th>0</th>\n      <td>AK</td>\n      <td>Unknown</td>\n      <td>Grade9To11</td>\n      <td>NeverMarried</td>\n      <td>AmbulatoryNonIntensiveOutpatient</td>\n      <td>3PriorTreatments</td>\n      <td>0Arrest</td>\n      <td>NoMethUse</td>\n      <td>No</td>\n      <td>Unknown</td>\n      <td>...</td>\n      <td>NotReported</td>\n      <td>NotReported</td>\n      <td>NotReported</td>\n      <td>NotReported</td>\n      <td>Pacific</td>\n      <td>West</td>\n      <td>IDU</td>\n      <td>AlcoholAndDrugs</td>\n      <td>Unemployed</td>\n      <td>Individual</td>\n    </tr>\n    <tr>\n      <th>1</th>\n      <td>AK</td>\n      <td>Unknown</td>\n      <td>Grade12OrGED</td>\n      <td>NeverMarried</td>\n      <td>AmbulatoryNonIntensiveOutpatient</td>\n      <td>2PriorTreatments</td>\n      <td>0Arrest</td>\n      <td>MethUse</td>\n      <td>No</td>\n      <td>NotPregnant</td>\n      <td>...</td>\n      <td>NotReported</td>\n      <td>NotReported</td>\n      <td>NotReported</td>\n      <td>NotReported</td>\n      <td>Pacific</td>\n      <td>West</td>\n      <td>IDU</td>\n      <td>OtherDrugs</td>\n      <td>OtherNotInLaborForce</td>\n      <td>OtherHealthCareProvider</td>\n    </tr>\n    <tr>\n      <th>2</th>\n      <td>AK</td>\n      <td>Unknown</td>\n      <td>Grade8OrLess</td>\n      <td>NowMarried</td>\n      <td>AmbulatoryNonIntensiveOutpatient</td>\n      <td>5PlusPriorTreatments</td>\n      <td>0Arrest</td>\n      <td>MethUse</td>\n      <td>Yes</td>\n      <td>NotPregnant</td>\n      <td>...</td>\n      <td>NotReported</td>\n      <td>NotReported</td>\n      <td>NotReported</td>\n      <td>NotReported</td>\n      <td>Pacific</td>\n      <td>West</td>\n      <td>IDU</td>\n      <td>OtherDrugs</td>\n      <td>RetiredOrDisabled</td>\n      <td>DrugCareProvider</td>\n    </tr>\n    <tr>\n      <th>3</th>\n      <td>AK</td>\n      <td>Unknown</td>\n      <td>Grade12OrGED</td>\n      <td>NeverMarried</td>\n      <td>AmbulatoryNonIntensiveOutpatient</td>\n      <td>3PriorTreatments</td>\n      <td>0Arrest</td>\n      <td>MethUse</td>\n      <td>No</td>\n      <td>NotPregnant</td>\n      <td>...</td>\n      <td>NotReported</td>\n      <td>NotReported</td>\n      <td>NotReported</td>\n      <td>NotReported</td>\n      <td>Pacific</td>\n      <td>West</td>\n      <td>IDU</td>\n      <td>OtherDrugs</td>\n      <td>OtherNotInLaborForce</td>\n      <td>OtherHealthCareProvider</td>\n    </tr>\n    <tr>\n      <th>4</th>\n      <td>AK</td>\n      <td>Unknown</td>\n      <td>Grade12OrGED</td>\n      <td>NeverMarried</td>\n      <td>AmbulatoryNonIntensiveOutpatient</td>\n      <td>1PriorTreatments</td>\n      <td>0Arrest</td>\n      <td>MethUse</td>\n      <td>Yes</td>\n      <td>NotPregnant</td>\n      <td>...</td>\n      <td>NotReported</td>\n      <td>NotReported</td>\n      <td>NotReported</td>\n      <td>NotReported</td>\n      <td>Pacific</td>\n      <td>West</td>\n      <td>IDU</td>\n      <td>OtherDrugs</td>\n      <td>PartTime</td>\n      <td>DrugCareProvider</td>\n    </tr>\n    <tr>\n      <th>...</th>\n      <td>...</td>\n      <td>...</td>\n      <td>...</td>\n      <td>...</td>\n      <td>...</td>\n      <td>...</td>\n      <td>...</td>\n      <td>...</td>\n      <td>...</td>\n      <td>...</td>\n      <td>...</td>\n      <td>...</td>\n      <td>...</td>\n      <td>...</td>\n      <td>...</td>\n      <td>...</td>\n      <td>...</td>\n      <td>...</td>\n      <td>...</td>\n      <td>...</td>\n      <td>...</td>\n    </tr>\n    <tr>\n      <th>524129</th>\n      <td>WY</td>\n      <td>Unknown</td>\n      <td>Unknown</td>\n      <td>NowMarried</td>\n      <td>AmbulatoryIntensiveOutpatient</td>\n      <td>0PriorTreatments</td>\n      <td>0Arrest</td>\n      <td>NoMethUse</td>\n      <td>No</td>\n      <td>Unknown</td>\n      <td>...</td>\n      <td>NotReported</td>\n      <td>NotReported</td>\n      <td>NotReported</td>\n      <td>NotReported</td>\n      <td>Mountain</td>\n      <td>West</td>\n      <td>NoIDU</td>\n      <td>OtherDrugs</td>\n      <td>Unemployed</td>\n      <td>OtherReferral</td>\n    </tr>\n    <tr>\n      <th>524130</th>\n      <td>WY</td>\n      <td>Unknown</td>\n      <td>Unknown</td>\n      <td>NowMarried</td>\n      <td>AmbulatoryIntensiveOutpatient</td>\n      <td>2PriorTreatments</td>\n      <td>0Arrest</td>\n      <td>NoMethUse</td>\n      <td>No</td>\n      <td>Unknown</td>\n      <td>...</td>\n      <td>NotReported</td>\n      <td>NotReported</td>\n      <td>NotReported</td>\n      <td>NotReported</td>\n      <td>Mountain</td>\n      <td>West</td>\n      <td>NoIDU</td>\n      <td>OtherDrugs</td>\n      <td>Unemployed</td>\n      <td>Court</td>\n    </tr>\n    <tr>\n      <th>524131</th>\n      <td>WY</td>\n      <td>Unknown</td>\n      <td>Grade12OrGED</td>\n      <td>NeverMarried</td>\n      <td>AmbulatoryNonIntensiveOutpatient</td>\n      <td>3PriorTreatments</td>\n      <td>0Arrest</td>\n      <td>NoMethUse</td>\n      <td>Yes</td>\n      <td>Unknown</td>\n      <td>...</td>\n      <td>Reported</td>\n      <td>NotReported</td>\n      <td>NotReported</td>\n      <td>NotReported</td>\n      <td>Mountain</td>\n      <td>West</td>\n      <td>NoIDU</td>\n      <td>AlcoholAndDrugs</td>\n      <td>Unemployed</td>\n      <td>DrugCareProvider</td>\n    </tr>\n    <tr>\n      <th>524132</th>\n      <td>WY</td>\n      <td>Unknown</td>\n      <td>Grade8OrLess</td>\n      <td>NeverMarried</td>\n      <td>AmbulatoryNonIntensiveOutpatient</td>\n      <td>0PriorTreatments</td>\n      <td>0Arrest</td>\n      <td>NoMethUse</td>\n      <td>No</td>\n      <td>Unknown</td>\n      <td>...</td>\n      <td>NotReported</td>\n      <td>NotReported</td>\n      <td>NotReported</td>\n      <td>NotReported</td>\n      <td>Mountain</td>\n      <td>West</td>\n      <td>NoIDU</td>\n      <td>OtherDrugs</td>\n      <td>InstitutionResident</td>\n      <td>ProbationOrParole</td>\n    </tr>\n    <tr>\n      <th>524133</th>\n      <td>WY</td>\n      <td>Unknown</td>\n      <td>Grade9To11</td>\n      <td>NeverMarried</td>\n      <td>AmbulatoryNonIntensiveOutpatient</td>\n      <td>0PriorTreatments</td>\n      <td>0Arrest</td>\n      <td>NoMethUse</td>\n      <td>No</td>\n      <td>Unknown</td>\n      <td>...</td>\n      <td>NotReported</td>\n      <td>NotReported</td>\n      <td>NotReported</td>\n      <td>Reported</td>\n      <td>Mountain</td>\n      <td>West</td>\n      <td>NoIDU</td>\n      <td>OtherDrugs</td>\n      <td>InstitutionResident</td>\n      <td>ProbationOrParole</td>\n    </tr>\n  </tbody>\n</table>\n<p>524134 rows × 58 columns</p>\n</div>"
     },
     "execution_count": 4,
     "metadata": {},
     "output_type": "execute_result"
    }
   ],
   "source": [
    "df2"
   ],
   "metadata": {
    "collapsed": false,
    "pycharm": {
     "name": "#%%\n"
    }
   }
  },
  {
   "cell_type": "markdown",
   "source": [
    "## Percent receiving MOUD by variable subgroup"
   ],
   "metadata": {
    "collapsed": false
   }
  },
  {
   "cell_type": "code",
   "execution_count": 5,
   "outputs": [
    {
     "data": {
      "text/plain": "               group              subgroup  total_admissions  \\\n0             STFIPS                    AK              1603   \n1             STFIPS                    AL              5774   \n2             STFIPS                    AR              1947   \n3             STFIPS                    AZ             10189   \n4             STFIPS                    CA             42031   \n..               ...                   ...               ...   \n623  PSOURCE_DETCRIM     ProbationOrParole             24201   \n624  PSOURCE_DETCRIM                School               188   \n625  PSOURCE_DETCRIM               Unknown             10708   \n626  PSOURCE_DETCRIM  UnknownCourtReferral             17957   \n354              ALL                   ALL            524134   \n\n     group_share_of_admissions  percent_receiving_moud  \n0                     0.003058                0.492826  \n1                     0.011016                0.297194  \n2                     0.003715                0.337956  \n3                     0.019440                0.181176  \n4                     0.080191                0.587804  \n..                         ...                     ...  \n623                   0.046173                0.232180  \n624                   0.000359                0.250000  \n625                   0.020430                0.395405  \n626                   0.034260                0.140502  \n354                   1.000000                0.403986  \n\n[628 rows x 5 columns]",
      "text/html": "<div>\n<style scoped>\n    .dataframe tbody tr th:only-of-type {\n        vertical-align: middle;\n    }\n\n    .dataframe tbody tr th {\n        vertical-align: top;\n    }\n\n    .dataframe thead th {\n        text-align: right;\n    }\n</style>\n<table border=\"1\" class=\"dataframe\">\n  <thead>\n    <tr style=\"text-align: right;\">\n      <th></th>\n      <th>group</th>\n      <th>subgroup</th>\n      <th>total_admissions</th>\n      <th>group_share_of_admissions</th>\n      <th>percent_receiving_moud</th>\n    </tr>\n  </thead>\n  <tbody>\n    <tr>\n      <th>0</th>\n      <td>STFIPS</td>\n      <td>AK</td>\n      <td>1603</td>\n      <td>0.003058</td>\n      <td>0.492826</td>\n    </tr>\n    <tr>\n      <th>1</th>\n      <td>STFIPS</td>\n      <td>AL</td>\n      <td>5774</td>\n      <td>0.011016</td>\n      <td>0.297194</td>\n    </tr>\n    <tr>\n      <th>2</th>\n      <td>STFIPS</td>\n      <td>AR</td>\n      <td>1947</td>\n      <td>0.003715</td>\n      <td>0.337956</td>\n    </tr>\n    <tr>\n      <th>3</th>\n      <td>STFIPS</td>\n      <td>AZ</td>\n      <td>10189</td>\n      <td>0.019440</td>\n      <td>0.181176</td>\n    </tr>\n    <tr>\n      <th>4</th>\n      <td>STFIPS</td>\n      <td>CA</td>\n      <td>42031</td>\n      <td>0.080191</td>\n      <td>0.587804</td>\n    </tr>\n    <tr>\n      <th>...</th>\n      <td>...</td>\n      <td>...</td>\n      <td>...</td>\n      <td>...</td>\n      <td>...</td>\n    </tr>\n    <tr>\n      <th>623</th>\n      <td>PSOURCE_DETCRIM</td>\n      <td>ProbationOrParole</td>\n      <td>24201</td>\n      <td>0.046173</td>\n      <td>0.232180</td>\n    </tr>\n    <tr>\n      <th>624</th>\n      <td>PSOURCE_DETCRIM</td>\n      <td>School</td>\n      <td>188</td>\n      <td>0.000359</td>\n      <td>0.250000</td>\n    </tr>\n    <tr>\n      <th>625</th>\n      <td>PSOURCE_DETCRIM</td>\n      <td>Unknown</td>\n      <td>10708</td>\n      <td>0.020430</td>\n      <td>0.395405</td>\n    </tr>\n    <tr>\n      <th>626</th>\n      <td>PSOURCE_DETCRIM</td>\n      <td>UnknownCourtReferral</td>\n      <td>17957</td>\n      <td>0.034260</td>\n      <td>0.140502</td>\n    </tr>\n    <tr>\n      <th>354</th>\n      <td>ALL</td>\n      <td>ALL</td>\n      <td>524134</td>\n      <td>1.000000</td>\n      <td>0.403986</td>\n    </tr>\n  </tbody>\n</table>\n<p>628 rows × 5 columns</p>\n</div>"
     },
     "execution_count": 5,
     "metadata": {},
     "output_type": "execute_result"
    }
   ],
   "source": [
    "# Calculate the treatment rate for each subgroup\n",
    "total = len(df2)\n",
    "df3 = df2.copy()\n",
    "df3 = df3.replace({'MethUse':1, 'NoMethUse':0})\n",
    "\n",
    "# Loop through each variable, append frequencies to a running dataframe\n",
    "df_freq = pd.DataFrame()\n",
    "for col in df3.columns:\n",
    "    # Calculate treatment rates\n",
    "    df_mean = df3.groupby([col])['METHUSE'].mean()\n",
    "    df_mean = pd.DataFrame(df_mean)\n",
    "\n",
    "    # Calculate admission counts\n",
    "    df_count = df3.groupby([col])['METHUSE'].count()\n",
    "    df_count = pd.DataFrame(df_count)\n",
    "\n",
    "    # Combine, rename columns\n",
    "    df_running = pd.merge(df_mean, df_count, how='inner', left_index=True, right_index=True)\n",
    "    df_running = df_running.reset_index()\n",
    "    df_running = df_running.rename(columns={'METHUSE_x': 'percent_receiving_moud', 'METHUSE_y': 'total_admissions', col: 'subgroup'})\n",
    "\n",
    "    # Calculate share of admissions, reorder columns, add group\n",
    "    df_running['group_share_of_admissions'] = df_running['total_admissions']/total\n",
    "    df_running = df_running[['subgroup', 'total_admissions', 'group_share_of_admissions', 'percent_receiving_moud']]\n",
    "    df_running.insert(0, 'group', col)\n",
    "\n",
    "    # Append results before moving to next columns\n",
    "    df_freq = pd.concat([df_freq, df_running])\n",
    "\n",
    "# All row for all observations\n",
    "df_freq = df_freq.reset_index(drop=True)\n",
    "df_freq2 = pd.DataFrame(data={'group':'ALL',\n",
    "                            'subgroup':'ALL',\n",
    "                            'total_admissions':len(df3),\n",
    "                            'group_share_of_admissions':1.0,\n",
    "                            'percent_receiving_moud':df3['METHUSE'].mean()\n",
    "                            }, index=[354])\n",
    "df_freq = pd.concat([df_freq, df_freq2])\n",
    "\n",
    "df_freq"
   ],
   "metadata": {
    "collapsed": false,
    "pycharm": {
     "name": "#%%\n"
    }
   }
  },
  {
   "cell_type": "code",
   "execution_count": 6,
   "outputs": [],
   "source": [
    "# Uncomment to save results\n",
    "# df_freq.to_csv('percent_receiving_moud.csv', index=False)"
   ],
   "metadata": {
    "collapsed": false,
    "pycharm": {
     "name": "#%%\n"
    }
   }
  },
  {
   "cell_type": "markdown",
   "source": [
    "# Describe MOUD treatment frequency for each variable's subgroup and living status\n",
    "Calculate the percent difference between the homeless vs independent and dependent vs independent as well as their statistical difference"
   ],
   "metadata": {
    "collapsed": false
   }
  },
  {
   "cell_type": "code",
   "execution_count": 7,
   "outputs": [],
   "source": [
    "# Define helper function\n",
    "def significant(p_value):\n",
    "    if p_value < 0.001:\n",
    "        significance = '****'\n",
    "    elif p_value < 0.01:\n",
    "        significance = '***'\n",
    "    elif p_value < 0.05:\n",
    "        significance = '**'\n",
    "    elif p_value <0.1:\n",
    "        significance = '*'\n",
    "    else:\n",
    "        significance = ''\n",
    "    return significance"
   ],
   "metadata": {
    "collapsed": false,
    "pycharm": {
     "name": "#%%\n"
    }
   }
  },
  {
   "cell_type": "code",
   "execution_count": 8,
   "outputs": [
    {
     "data": {
      "text/plain": "       STFIPS CBSA2010          EDUC       MARSTAT  \\\n0          AK  Unknown    Grade9To11  NeverMarried   \n1          AK  Unknown  Grade12OrGED  NeverMarried   \n2          AK  Unknown  Grade8OrLess    NowMarried   \n3          AK  Unknown  Grade12OrGED  NeverMarried   \n4          AK  Unknown  Grade12OrGED  NeverMarried   \n...       ...      ...           ...           ...   \n524129     WY  Unknown       Unknown    NowMarried   \n524130     WY  Unknown       Unknown    NowMarried   \n524131     WY  Unknown  Grade12OrGED  NeverMarried   \n524132     WY  Unknown  Grade8OrLess  NeverMarried   \n524133     WY  Unknown    Grade9To11  NeverMarried   \n\n                                SERVICES               NOPRIOR  ARRESTS  \\\n0       AmbulatoryNonIntensiveOutpatient      3PriorTreatments  0Arrest   \n1       AmbulatoryNonIntensiveOutpatient      2PriorTreatments  0Arrest   \n2       AmbulatoryNonIntensiveOutpatient  5PlusPriorTreatments  0Arrest   \n3       AmbulatoryNonIntensiveOutpatient      3PriorTreatments  0Arrest   \n4       AmbulatoryNonIntensiveOutpatient      1PriorTreatments  0Arrest   \n...                                  ...                   ...      ...   \n524129     AmbulatoryIntensiveOutpatient      0PriorTreatments  0Arrest   \n524130     AmbulatoryIntensiveOutpatient      2PriorTreatments  0Arrest   \n524131  AmbulatoryNonIntensiveOutpatient      3PriorTreatments  0Arrest   \n524132  AmbulatoryNonIntensiveOutpatient      0PriorTreatments  0Arrest   \n524133  AmbulatoryNonIntensiveOutpatient      0PriorTreatments  0Arrest   \n\n        METHUSE PSYPROB         PREG  ...     SEDHPFLG       INHFLG  \\\n0             0      No      Unknown  ...  NotReported  NotReported   \n1             1      No  NotPregnant  ...  NotReported  NotReported   \n2             1     Yes  NotPregnant  ...  NotReported  NotReported   \n3             1      No  NotPregnant  ...  NotReported  NotReported   \n4             1     Yes  NotPregnant  ...  NotReported  NotReported   \n...         ...     ...          ...  ...          ...          ...   \n524129        0      No      Unknown  ...  NotReported  NotReported   \n524130        0      No      Unknown  ...  NotReported  NotReported   \n524131        0     Yes      Unknown  ...     Reported  NotReported   \n524132        0      No      Unknown  ...  NotReported  NotReported   \n524133        0      No      Unknown  ...  NotReported  NotReported   \n\n             OTCFLG     OTHERFLG  DIVISION REGION    IDU          ALCDRUG  \\\n0       NotReported  NotReported   Pacific   West    IDU  AlcoholAndDrugs   \n1       NotReported  NotReported   Pacific   West    IDU       OtherDrugs   \n2       NotReported  NotReported   Pacific   West    IDU       OtherDrugs   \n3       NotReported  NotReported   Pacific   West    IDU       OtherDrugs   \n4       NotReported  NotReported   Pacific   West    IDU       OtherDrugs   \n...             ...          ...       ...    ...    ...              ...   \n524129  NotReported  NotReported  Mountain   West  NoIDU       OtherDrugs   \n524130  NotReported  NotReported  Mountain   West  NoIDU       OtherDrugs   \n524131  NotReported  NotReported  Mountain   West  NoIDU  AlcoholAndDrugs   \n524132  NotReported  NotReported  Mountain   West  NoIDU       OtherDrugs   \n524133  NotReported     Reported  Mountain   West  NoIDU       OtherDrugs   \n\n               EMPLOY_DETNLF          PSOURCE_DETCRIM  \n0                 Unemployed               Individual  \n1       OtherNotInLaborForce  OtherHealthCareProvider  \n2          RetiredOrDisabled         DrugCareProvider  \n3       OtherNotInLaborForce  OtherHealthCareProvider  \n4                   PartTime         DrugCareProvider  \n...                      ...                      ...  \n524129            Unemployed            OtherReferral  \n524130            Unemployed                    Court  \n524131            Unemployed         DrugCareProvider  \n524132   InstitutionResident        ProbationOrParole  \n524133   InstitutionResident        ProbationOrParole  \n\n[496207 rows x 58 columns]",
      "text/html": "<div>\n<style scoped>\n    .dataframe tbody tr th:only-of-type {\n        vertical-align: middle;\n    }\n\n    .dataframe tbody tr th {\n        vertical-align: top;\n    }\n\n    .dataframe thead th {\n        text-align: right;\n    }\n</style>\n<table border=\"1\" class=\"dataframe\">\n  <thead>\n    <tr style=\"text-align: right;\">\n      <th></th>\n      <th>STFIPS</th>\n      <th>CBSA2010</th>\n      <th>EDUC</th>\n      <th>MARSTAT</th>\n      <th>SERVICES</th>\n      <th>NOPRIOR</th>\n      <th>ARRESTS</th>\n      <th>METHUSE</th>\n      <th>PSYPROB</th>\n      <th>PREG</th>\n      <th>...</th>\n      <th>SEDHPFLG</th>\n      <th>INHFLG</th>\n      <th>OTCFLG</th>\n      <th>OTHERFLG</th>\n      <th>DIVISION</th>\n      <th>REGION</th>\n      <th>IDU</th>\n      <th>ALCDRUG</th>\n      <th>EMPLOY_DETNLF</th>\n      <th>PSOURCE_DETCRIM</th>\n    </tr>\n  </thead>\n  <tbody>\n    <tr>\n      <th>0</th>\n      <td>AK</td>\n      <td>Unknown</td>\n      <td>Grade9To11</td>\n      <td>NeverMarried</td>\n      <td>AmbulatoryNonIntensiveOutpatient</td>\n      <td>3PriorTreatments</td>\n      <td>0Arrest</td>\n      <td>0</td>\n      <td>No</td>\n      <td>Unknown</td>\n      <td>...</td>\n      <td>NotReported</td>\n      <td>NotReported</td>\n      <td>NotReported</td>\n      <td>NotReported</td>\n      <td>Pacific</td>\n      <td>West</td>\n      <td>IDU</td>\n      <td>AlcoholAndDrugs</td>\n      <td>Unemployed</td>\n      <td>Individual</td>\n    </tr>\n    <tr>\n      <th>1</th>\n      <td>AK</td>\n      <td>Unknown</td>\n      <td>Grade12OrGED</td>\n      <td>NeverMarried</td>\n      <td>AmbulatoryNonIntensiveOutpatient</td>\n      <td>2PriorTreatments</td>\n      <td>0Arrest</td>\n      <td>1</td>\n      <td>No</td>\n      <td>NotPregnant</td>\n      <td>...</td>\n      <td>NotReported</td>\n      <td>NotReported</td>\n      <td>NotReported</td>\n      <td>NotReported</td>\n      <td>Pacific</td>\n      <td>West</td>\n      <td>IDU</td>\n      <td>OtherDrugs</td>\n      <td>OtherNotInLaborForce</td>\n      <td>OtherHealthCareProvider</td>\n    </tr>\n    <tr>\n      <th>2</th>\n      <td>AK</td>\n      <td>Unknown</td>\n      <td>Grade8OrLess</td>\n      <td>NowMarried</td>\n      <td>AmbulatoryNonIntensiveOutpatient</td>\n      <td>5PlusPriorTreatments</td>\n      <td>0Arrest</td>\n      <td>1</td>\n      <td>Yes</td>\n      <td>NotPregnant</td>\n      <td>...</td>\n      <td>NotReported</td>\n      <td>NotReported</td>\n      <td>NotReported</td>\n      <td>NotReported</td>\n      <td>Pacific</td>\n      <td>West</td>\n      <td>IDU</td>\n      <td>OtherDrugs</td>\n      <td>RetiredOrDisabled</td>\n      <td>DrugCareProvider</td>\n    </tr>\n    <tr>\n      <th>3</th>\n      <td>AK</td>\n      <td>Unknown</td>\n      <td>Grade12OrGED</td>\n      <td>NeverMarried</td>\n      <td>AmbulatoryNonIntensiveOutpatient</td>\n      <td>3PriorTreatments</td>\n      <td>0Arrest</td>\n      <td>1</td>\n      <td>No</td>\n      <td>NotPregnant</td>\n      <td>...</td>\n      <td>NotReported</td>\n      <td>NotReported</td>\n      <td>NotReported</td>\n      <td>NotReported</td>\n      <td>Pacific</td>\n      <td>West</td>\n      <td>IDU</td>\n      <td>OtherDrugs</td>\n      <td>OtherNotInLaborForce</td>\n      <td>OtherHealthCareProvider</td>\n    </tr>\n    <tr>\n      <th>4</th>\n      <td>AK</td>\n      <td>Unknown</td>\n      <td>Grade12OrGED</td>\n      <td>NeverMarried</td>\n      <td>AmbulatoryNonIntensiveOutpatient</td>\n      <td>1PriorTreatments</td>\n      <td>0Arrest</td>\n      <td>1</td>\n      <td>Yes</td>\n      <td>NotPregnant</td>\n      <td>...</td>\n      <td>NotReported</td>\n      <td>NotReported</td>\n      <td>NotReported</td>\n      <td>NotReported</td>\n      <td>Pacific</td>\n      <td>West</td>\n      <td>IDU</td>\n      <td>OtherDrugs</td>\n      <td>PartTime</td>\n      <td>DrugCareProvider</td>\n    </tr>\n    <tr>\n      <th>...</th>\n      <td>...</td>\n      <td>...</td>\n      <td>...</td>\n      <td>...</td>\n      <td>...</td>\n      <td>...</td>\n      <td>...</td>\n      <td>...</td>\n      <td>...</td>\n      <td>...</td>\n      <td>...</td>\n      <td>...</td>\n      <td>...</td>\n      <td>...</td>\n      <td>...</td>\n      <td>...</td>\n      <td>...</td>\n      <td>...</td>\n      <td>...</td>\n      <td>...</td>\n      <td>...</td>\n    </tr>\n    <tr>\n      <th>524129</th>\n      <td>WY</td>\n      <td>Unknown</td>\n      <td>Unknown</td>\n      <td>NowMarried</td>\n      <td>AmbulatoryIntensiveOutpatient</td>\n      <td>0PriorTreatments</td>\n      <td>0Arrest</td>\n      <td>0</td>\n      <td>No</td>\n      <td>Unknown</td>\n      <td>...</td>\n      <td>NotReported</td>\n      <td>NotReported</td>\n      <td>NotReported</td>\n      <td>NotReported</td>\n      <td>Mountain</td>\n      <td>West</td>\n      <td>NoIDU</td>\n      <td>OtherDrugs</td>\n      <td>Unemployed</td>\n      <td>OtherReferral</td>\n    </tr>\n    <tr>\n      <th>524130</th>\n      <td>WY</td>\n      <td>Unknown</td>\n      <td>Unknown</td>\n      <td>NowMarried</td>\n      <td>AmbulatoryIntensiveOutpatient</td>\n      <td>2PriorTreatments</td>\n      <td>0Arrest</td>\n      <td>0</td>\n      <td>No</td>\n      <td>Unknown</td>\n      <td>...</td>\n      <td>NotReported</td>\n      <td>NotReported</td>\n      <td>NotReported</td>\n      <td>NotReported</td>\n      <td>Mountain</td>\n      <td>West</td>\n      <td>NoIDU</td>\n      <td>OtherDrugs</td>\n      <td>Unemployed</td>\n      <td>Court</td>\n    </tr>\n    <tr>\n      <th>524131</th>\n      <td>WY</td>\n      <td>Unknown</td>\n      <td>Grade12OrGED</td>\n      <td>NeverMarried</td>\n      <td>AmbulatoryNonIntensiveOutpatient</td>\n      <td>3PriorTreatments</td>\n      <td>0Arrest</td>\n      <td>0</td>\n      <td>Yes</td>\n      <td>Unknown</td>\n      <td>...</td>\n      <td>Reported</td>\n      <td>NotReported</td>\n      <td>NotReported</td>\n      <td>NotReported</td>\n      <td>Mountain</td>\n      <td>West</td>\n      <td>NoIDU</td>\n      <td>AlcoholAndDrugs</td>\n      <td>Unemployed</td>\n      <td>DrugCareProvider</td>\n    </tr>\n    <tr>\n      <th>524132</th>\n      <td>WY</td>\n      <td>Unknown</td>\n      <td>Grade8OrLess</td>\n      <td>NeverMarried</td>\n      <td>AmbulatoryNonIntensiveOutpatient</td>\n      <td>0PriorTreatments</td>\n      <td>0Arrest</td>\n      <td>0</td>\n      <td>No</td>\n      <td>Unknown</td>\n      <td>...</td>\n      <td>NotReported</td>\n      <td>NotReported</td>\n      <td>NotReported</td>\n      <td>NotReported</td>\n      <td>Mountain</td>\n      <td>West</td>\n      <td>NoIDU</td>\n      <td>OtherDrugs</td>\n      <td>InstitutionResident</td>\n      <td>ProbationOrParole</td>\n    </tr>\n    <tr>\n      <th>524133</th>\n      <td>WY</td>\n      <td>Unknown</td>\n      <td>Grade9To11</td>\n      <td>NeverMarried</td>\n      <td>AmbulatoryNonIntensiveOutpatient</td>\n      <td>0PriorTreatments</td>\n      <td>0Arrest</td>\n      <td>0</td>\n      <td>No</td>\n      <td>Unknown</td>\n      <td>...</td>\n      <td>NotReported</td>\n      <td>NotReported</td>\n      <td>NotReported</td>\n      <td>Reported</td>\n      <td>Mountain</td>\n      <td>West</td>\n      <td>NoIDU</td>\n      <td>OtherDrugs</td>\n      <td>InstitutionResident</td>\n      <td>ProbationOrParole</td>\n    </tr>\n  </tbody>\n</table>\n<p>496207 rows × 58 columns</p>\n</div>"
     },
     "execution_count": 8,
     "metadata": {},
     "output_type": "execute_result"
    }
   ],
   "source": [
    "# Simplify dataset\n",
    "df_ttest = df2.copy()\n",
    "df_ttest = df_ttest[df_ttest['LIVARAG'] != 'Unknown']\n",
    "df_ttest['LIVARAG'] = df_ttest['LIVARAG'].replace({'DependLiving':'Dependent', 'IndependentLiving':'Independent'})\n",
    "df_ttest['METHUSE'] = df_ttest['METHUSE'].replace({'MethUse':1, 'NoMethUse':0})\n",
    "df_ttest"
   ],
   "metadata": {
    "collapsed": false,
    "pycharm": {
     "name": "#%%\n"
    }
   }
  },
  {
   "cell_type": "code",
   "execution_count": 9,
   "outputs": [
    {
     "name": "stderr",
     "output_type": "stream",
     "text": [
      "/Users/mymac/PycharmProjects/TEDSA/venv/lib/python3.7/site-packages/numpy/core/fromnumeric.py:3724: RuntimeWarning: Degrees of freedom <= 0 for slice\n",
      "  **kwargs)\n",
      "/Users/mymac/PycharmProjects/TEDSA/venv/lib/python3.7/site-packages/numpy/core/_methods.py:254: RuntimeWarning: invalid value encountered in double_scalars\n",
      "  ret = ret.dtype.type(ret / rcount)\n"
     ]
    }
   ],
   "source": [
    "# Test out calculate treatment difference for each group\n",
    "import pandas as pd\n",
    "from scipy.stats import ttest_ind\n",
    "\n",
    "# Simplify dataset\n",
    "df_ttest = df2.copy()\n",
    "df_ttest = df_ttest[df_ttest['LIVARAG'] != 'Unknown']\n",
    "df_ttest['LIVARAG'] = df_ttest['LIVARAG'].replace({'DependLiving':'Dependent', 'IndependentLiving':'Independent'})\n",
    "df_ttest['METHUSE'] = df_ttest['METHUSE'].replace({'MethUse':1, 'NoMethUse':0})\n",
    "\n",
    "\n",
    "df_all = pd.DataFrame(columns=['Dependent', 'Homeless', 'Independent', 'DependentMOUD', 'HomelessMOUD', 'IndependentMOUD',\n",
    "                               'PercentDifference', 'TStat', 'PValue', 'Significance'])\n",
    "\n",
    "df_columns = [c for c in df_ttest.columns if c != 'LIVARAG']\n",
    "df_columns.append('ALL')\n",
    "\n",
    "for col in df_columns:\n",
    "    # Create loop assets (depending on if subgroup or not)\n",
    "    if col == 'ALL':\n",
    "        col_list = ['ALL']\n",
    "    else:\n",
    "        col_array = df_ttest[col].sort_values().unique()\n",
    "        col_list = col_array.tolist()\n",
    "    df_col = pd.DataFrame(columns=['Group', 'DependentAdmissions', 'HomelessAdmissions', 'IndependentAdmissions',\n",
    "                                   'DependentMOUD', 'HomelessMOUD', 'IndependentMOUD',\n",
    "                                   'DependentPercentDifference', 'DependentTStat', 'DependentPValue', 'DependentSignificance',\n",
    "                                   'HomelessPercentDifference', 'HomelessTStat', 'HomelessPValue', 'HomelessSignificance'])\n",
    "\n",
    "    # Loop through each subgroup within each column\n",
    "    for s in col_list:\n",
    "        # Filter observations based on subset (unless \"ALL\")\n",
    "        if col == 'ALL':\n",
    "            dft_temp = df_ttest.copy()\n",
    "        else:\n",
    "            dft_temp = df_ttest[df_ttest[col] == s]\n",
    "\n",
    "        # Group by living arrangement and MOUD, then store those variables for later (if they exist)\n",
    "        dft_count = dft_temp.groupby('LIVARAG')['METHUSE'].count()\n",
    "        try:\n",
    "            dependent_count = dft_count.loc['Dependent']\n",
    "        except KeyError:\n",
    "            dependent_count = 0\n",
    "\n",
    "        try:\n",
    "            homeless_count = dft_count.loc['Homeless']\n",
    "        except KeyError:\n",
    "            homeless_count = 0\n",
    "\n",
    "        try:\n",
    "            independent_count = dft_count.loc['Independent']\n",
    "        except KeyError:\n",
    "            independent_count = 0\n",
    "\n",
    "        # Define averages by living arrangement (use try-except in case there are no observations)\n",
    "        dft_mean = dft_temp.groupby('LIVARAG')['METHUSE'].mean()\n",
    "        try:\n",
    "            dependent_moud = dft_mean.loc['Dependent']\n",
    "        except KeyError:\n",
    "            dependent_moud = np.nan\n",
    "\n",
    "        try:\n",
    "            homeless_moud = dft_mean.loc['Homeless']\n",
    "        except KeyError:\n",
    "            homeless_moud = np.nan\n",
    "\n",
    "        try:\n",
    "            independent_moud = dft_mean.loc['Independent']\n",
    "        except KeyError:\n",
    "            independent_moud = np.nan\n",
    "\n",
    "        # Calculate the percent difference (if there is an independent living group in that state)\n",
    "        if independent_moud > 0:\n",
    "           dependent_percent_difference = (dependent_moud - independent_moud)/independent_moud\n",
    "           homeless_percent_difference = (homeless_moud - independent_moud)/independent_moud\n",
    "        else:\n",
    "            dependent_percent_difference = np.nan\n",
    "            homeless_percent_difference = np.nan\n",
    "\n",
    "        # Perform a t-test between the two groups\n",
    "        dependent_values = dft_temp[dft_temp['LIVARAG'] == 'Dependent']['METHUSE']\n",
    "        homeless_values = dft_temp[dft_temp['LIVARAG'] == 'Homeless']['METHUSE']\n",
    "        independent_values = dft_temp[dft_temp['LIVARAG'] == 'Independent']['METHUSE']\n",
    "\n",
    "        dependent_t_stat, dependent_p_value = ttest_ind(dependent_values, independent_values)\n",
    "        homeless_t_stat, homeless_p_value = ttest_ind(homeless_values, independent_values)\n",
    "\n",
    "        # Add values to a dictionary and round\n",
    "        dict_results = {'DependentAdmissions':dependent_count, 'HomelessAdmissions':homeless_count, 'IndependentAdmissions':independent_count,\n",
    "                        'DependentMOUD':dependent_moud, 'HomelessMOUD':homeless_moud, 'IndependentMOUD':independent_moud,\n",
    "                        'DependentPercentDifference':dependent_percent_difference, 'DependentTStat':dependent_t_stat, 'DependentPValue':dependent_p_value,\n",
    "                        'HomelessPercentDifference':homeless_percent_difference, 'HomelessTStat':homeless_t_stat, 'HomelessPValue':homeless_p_value}\n",
    "        for key, value in dict_results.items():\n",
    "            dict_results[key] = round(value, 6)\n",
    "\n",
    "        # Add significance and column group to dictionary, then add dictionary to dataframe (using helper function)\n",
    "        dict_results['DependentSignificance'] = significant(dependent_p_value)\n",
    "        dict_results['HomelessSignificance'] = significant(homeless_p_value)\n",
    "        dict_results['Group'] = col\n",
    "        df_col.loc[s] = dict_results\n",
    "\n",
    "    # Add column df to running aggregate\n",
    "    df_all = pd.concat([df_all, df_col])\n",
    "\n",
    "# Clean up final column\n",
    "df_all = df_all.reset_index().rename(columns={'index': 'Subgroup'})\n",
    "df_all = df_all[['Group', 'Subgroup', 'DependentAdmissions', 'HomelessAdmissions', 'IndependentAdmissions', 'DependentMOUD', 'HomelessMOUD', 'IndependentMOUD',\n",
    "                 'DependentPercentDifference', 'DependentTStat', 'DependentPValue', 'DependentSignificance',\n",
    "                 'HomelessPercentDifference', 'HomelessTStat', 'HomelessPValue', 'HomelessSignificance']]"
   ],
   "metadata": {
    "collapsed": false,
    "pycharm": {
     "name": "#%%\n"
    }
   }
  },
  {
   "cell_type": "code",
   "execution_count": 10,
   "outputs": [
    {
     "data": {
      "text/plain": "               group              subgroup  total_admissions  \\\n0             STFIPS                    AK              1603   \n1             STFIPS                    AL              5774   \n2             STFIPS                    AR              1947   \n3             STFIPS                    AZ             10189   \n4             STFIPS                    CA             42031   \n..               ...                   ...               ...   \n623  PSOURCE_DETCRIM     ProbationOrParole             24201   \n624  PSOURCE_DETCRIM                School               188   \n625  PSOURCE_DETCRIM               Unknown             10708   \n626  PSOURCE_DETCRIM  UnknownCourtReferral             17957   \n627              ALL                   ALL            524134   \n\n     group_share_of_admissions  percent_receiving_moud DependentAdmissions  \\\n0                     0.003058                0.492826                 258   \n1                     0.011016                0.297194                1952   \n2                     0.003715                0.337956                 604   \n3                     0.019440                0.181176                 NaN   \n4                     0.080191                0.587804                9353   \n..                         ...                     ...                 ...   \n623                   0.046173                0.232180                5176   \n624                   0.000359                0.250000                  26   \n625                   0.020430                0.395405                1203   \n626                   0.034260                0.140502                3729   \n627                   1.000000                0.403986               83668   \n\n    HomelessAdmissions IndependentAdmissions  DependentMOUD  HomelessMOUD  \\\n0                  333                   956       0.372093      0.387387   \n1                  379                  3218       0.296619      0.118734   \n2                  203                  1137       0.261589      0.103448   \n3                  NaN                   NaN            NaN           NaN   \n4                10568                 22090       0.555330      0.344436   \n..                 ...                   ...            ...           ...   \n623               2416                 16248       0.181221      0.215646   \n624                 24                   133       0.192308      0.291667   \n625                895                  5049       0.457190      0.211173   \n626               1447                 10986       0.179673      0.163787   \n627              85824                326715       0.345413      0.285596   \n\n     ...  DependentPercentDifference  DependentTStat  DependentPValue  \\\n0    ...                   -0.332606       -5.347493         0.000000   \n1    ...                   -0.080424       -1.950745         0.051141   \n2    ...                   -0.375153       -6.558287         0.000000   \n3    ...                         NaN             NaN              NaN   \n4    ...                   -0.226140      -28.314917         0.000000   \n..   ...                         ...             ...              ...   \n623  ...                   -0.286533      -10.760649         0.000000   \n624  ...                   -0.200721       -0.530104         0.596789   \n625  ...                    0.704841       12.970883         0.000000   \n626  ...                    0.422108        8.130652         0.000000   \n627  ...                   -0.231089      -54.342475         0.000000   \n\n     DependentSignificance HomelessPercentDifference  HomelessTStat  \\\n0                     ****                 -0.305174      -5.405923   \n1                        *                 -0.631903      -8.256698   \n2                     ****                 -0.752898      -8.801753   \n3                      NaN                       NaN            NaN   \n4                     ****                 -0.520023     -68.824720   \n..                     ...                       ...            ...   \n623                   ****                 -0.151003      -4.069065   \n624                                         0.212240       0.529958   \n625                   ****                 -0.212545      -3.588038   \n626                   ****                  0.296373       3.974403   \n627                   ****                 -0.364245     -87.370043   \n\n     HomelessPValue  HomelessSignificance DependentPctDiff HomelessPctDiff  \n0          0.000000                  ****      -33.26%****     -30.52%****  \n1          0.000000                  ****          -8.04%*     -63.19%****  \n2          0.000000                  ****      -37.52%****     -75.29%****  \n3               NaN                   NaN              NaN             NaN  \n4          0.000000                  ****      -22.61%****     -52.00%****  \n..              ...                   ...              ...             ...  \n623        0.000047                  ****      -28.65%****     -15.10%****  \n624        0.596899                                -20.07%          21.22%  \n625        0.000336                  ****       70.48%****     -21.25%****  \n626        0.000071                  ****       42.21%****      29.64%****  \n627        0.000000                  ****      -23.11%****     -36.42%****  \n\n[628 rows x 21 columns]",
      "text/html": "<div>\n<style scoped>\n    .dataframe tbody tr th:only-of-type {\n        vertical-align: middle;\n    }\n\n    .dataframe tbody tr th {\n        vertical-align: top;\n    }\n\n    .dataframe thead th {\n        text-align: right;\n    }\n</style>\n<table border=\"1\" class=\"dataframe\">\n  <thead>\n    <tr style=\"text-align: right;\">\n      <th></th>\n      <th>group</th>\n      <th>subgroup</th>\n      <th>total_admissions</th>\n      <th>group_share_of_admissions</th>\n      <th>percent_receiving_moud</th>\n      <th>DependentAdmissions</th>\n      <th>HomelessAdmissions</th>\n      <th>IndependentAdmissions</th>\n      <th>DependentMOUD</th>\n      <th>HomelessMOUD</th>\n      <th>...</th>\n      <th>DependentPercentDifference</th>\n      <th>DependentTStat</th>\n      <th>DependentPValue</th>\n      <th>DependentSignificance</th>\n      <th>HomelessPercentDifference</th>\n      <th>HomelessTStat</th>\n      <th>HomelessPValue</th>\n      <th>HomelessSignificance</th>\n      <th>DependentPctDiff</th>\n      <th>HomelessPctDiff</th>\n    </tr>\n  </thead>\n  <tbody>\n    <tr>\n      <th>0</th>\n      <td>STFIPS</td>\n      <td>AK</td>\n      <td>1603</td>\n      <td>0.003058</td>\n      <td>0.492826</td>\n      <td>258</td>\n      <td>333</td>\n      <td>956</td>\n      <td>0.372093</td>\n      <td>0.387387</td>\n      <td>...</td>\n      <td>-0.332606</td>\n      <td>-5.347493</td>\n      <td>0.000000</td>\n      <td>****</td>\n      <td>-0.305174</td>\n      <td>-5.405923</td>\n      <td>0.000000</td>\n      <td>****</td>\n      <td>-33.26%****</td>\n      <td>-30.52%****</td>\n    </tr>\n    <tr>\n      <th>1</th>\n      <td>STFIPS</td>\n      <td>AL</td>\n      <td>5774</td>\n      <td>0.011016</td>\n      <td>0.297194</td>\n      <td>1952</td>\n      <td>379</td>\n      <td>3218</td>\n      <td>0.296619</td>\n      <td>0.118734</td>\n      <td>...</td>\n      <td>-0.080424</td>\n      <td>-1.950745</td>\n      <td>0.051141</td>\n      <td>*</td>\n      <td>-0.631903</td>\n      <td>-8.256698</td>\n      <td>0.000000</td>\n      <td>****</td>\n      <td>-8.04%*</td>\n      <td>-63.19%****</td>\n    </tr>\n    <tr>\n      <th>2</th>\n      <td>STFIPS</td>\n      <td>AR</td>\n      <td>1947</td>\n      <td>0.003715</td>\n      <td>0.337956</td>\n      <td>604</td>\n      <td>203</td>\n      <td>1137</td>\n      <td>0.261589</td>\n      <td>0.103448</td>\n      <td>...</td>\n      <td>-0.375153</td>\n      <td>-6.558287</td>\n      <td>0.000000</td>\n      <td>****</td>\n      <td>-0.752898</td>\n      <td>-8.801753</td>\n      <td>0.000000</td>\n      <td>****</td>\n      <td>-37.52%****</td>\n      <td>-75.29%****</td>\n    </tr>\n    <tr>\n      <th>3</th>\n      <td>STFIPS</td>\n      <td>AZ</td>\n      <td>10189</td>\n      <td>0.019440</td>\n      <td>0.181176</td>\n      <td>NaN</td>\n      <td>NaN</td>\n      <td>NaN</td>\n      <td>NaN</td>\n      <td>NaN</td>\n      <td>...</td>\n      <td>NaN</td>\n      <td>NaN</td>\n      <td>NaN</td>\n      <td>NaN</td>\n      <td>NaN</td>\n      <td>NaN</td>\n      <td>NaN</td>\n      <td>NaN</td>\n      <td>NaN</td>\n      <td>NaN</td>\n    </tr>\n    <tr>\n      <th>4</th>\n      <td>STFIPS</td>\n      <td>CA</td>\n      <td>42031</td>\n      <td>0.080191</td>\n      <td>0.587804</td>\n      <td>9353</td>\n      <td>10568</td>\n      <td>22090</td>\n      <td>0.555330</td>\n      <td>0.344436</td>\n      <td>...</td>\n      <td>-0.226140</td>\n      <td>-28.314917</td>\n      <td>0.000000</td>\n      <td>****</td>\n      <td>-0.520023</td>\n      <td>-68.824720</td>\n      <td>0.000000</td>\n      <td>****</td>\n      <td>-22.61%****</td>\n      <td>-52.00%****</td>\n    </tr>\n    <tr>\n      <th>...</th>\n      <td>...</td>\n      <td>...</td>\n      <td>...</td>\n      <td>...</td>\n      <td>...</td>\n      <td>...</td>\n      <td>...</td>\n      <td>...</td>\n      <td>...</td>\n      <td>...</td>\n      <td>...</td>\n      <td>...</td>\n      <td>...</td>\n      <td>...</td>\n      <td>...</td>\n      <td>...</td>\n      <td>...</td>\n      <td>...</td>\n      <td>...</td>\n      <td>...</td>\n      <td>...</td>\n    </tr>\n    <tr>\n      <th>623</th>\n      <td>PSOURCE_DETCRIM</td>\n      <td>ProbationOrParole</td>\n      <td>24201</td>\n      <td>0.046173</td>\n      <td>0.232180</td>\n      <td>5176</td>\n      <td>2416</td>\n      <td>16248</td>\n      <td>0.181221</td>\n      <td>0.215646</td>\n      <td>...</td>\n      <td>-0.286533</td>\n      <td>-10.760649</td>\n      <td>0.000000</td>\n      <td>****</td>\n      <td>-0.151003</td>\n      <td>-4.069065</td>\n      <td>0.000047</td>\n      <td>****</td>\n      <td>-28.65%****</td>\n      <td>-15.10%****</td>\n    </tr>\n    <tr>\n      <th>624</th>\n      <td>PSOURCE_DETCRIM</td>\n      <td>School</td>\n      <td>188</td>\n      <td>0.000359</td>\n      <td>0.250000</td>\n      <td>26</td>\n      <td>24</td>\n      <td>133</td>\n      <td>0.192308</td>\n      <td>0.291667</td>\n      <td>...</td>\n      <td>-0.200721</td>\n      <td>-0.530104</td>\n      <td>0.596789</td>\n      <td></td>\n      <td>0.212240</td>\n      <td>0.529958</td>\n      <td>0.596899</td>\n      <td></td>\n      <td>-20.07%</td>\n      <td>21.22%</td>\n    </tr>\n    <tr>\n      <th>625</th>\n      <td>PSOURCE_DETCRIM</td>\n      <td>Unknown</td>\n      <td>10708</td>\n      <td>0.020430</td>\n      <td>0.395405</td>\n      <td>1203</td>\n      <td>895</td>\n      <td>5049</td>\n      <td>0.457190</td>\n      <td>0.211173</td>\n      <td>...</td>\n      <td>0.704841</td>\n      <td>12.970883</td>\n      <td>0.000000</td>\n      <td>****</td>\n      <td>-0.212545</td>\n      <td>-3.588038</td>\n      <td>0.000336</td>\n      <td>****</td>\n      <td>70.48%****</td>\n      <td>-21.25%****</td>\n    </tr>\n    <tr>\n      <th>626</th>\n      <td>PSOURCE_DETCRIM</td>\n      <td>UnknownCourtReferral</td>\n      <td>17957</td>\n      <td>0.034260</td>\n      <td>0.140502</td>\n      <td>3729</td>\n      <td>1447</td>\n      <td>10986</td>\n      <td>0.179673</td>\n      <td>0.163787</td>\n      <td>...</td>\n      <td>0.422108</td>\n      <td>8.130652</td>\n      <td>0.000000</td>\n      <td>****</td>\n      <td>0.296373</td>\n      <td>3.974403</td>\n      <td>0.000071</td>\n      <td>****</td>\n      <td>42.21%****</td>\n      <td>29.64%****</td>\n    </tr>\n    <tr>\n      <th>627</th>\n      <td>ALL</td>\n      <td>ALL</td>\n      <td>524134</td>\n      <td>1.000000</td>\n      <td>0.403986</td>\n      <td>83668</td>\n      <td>85824</td>\n      <td>326715</td>\n      <td>0.345413</td>\n      <td>0.285596</td>\n      <td>...</td>\n      <td>-0.231089</td>\n      <td>-54.342475</td>\n      <td>0.000000</td>\n      <td>****</td>\n      <td>-0.364245</td>\n      <td>-87.370043</td>\n      <td>0.000000</td>\n      <td>****</td>\n      <td>-23.11%****</td>\n      <td>-36.42%****</td>\n    </tr>\n  </tbody>\n</table>\n<p>628 rows × 21 columns</p>\n</div>"
     },
     "execution_count": 10,
     "metadata": {},
     "output_type": "execute_result"
    }
   ],
   "source": [
    "# Merge dataframes together\n",
    "df_combo = pd.merge(df_freq, df_all, left_on=['group', 'subgroup'], right_on=['Group', 'Subgroup'], how='outer')\n",
    "df_combo = df_combo.drop(columns=['Group', 'Subgroup'])\n",
    "\n",
    "# Add formatted column of percent difference with significance (for dependent and homeless)\n",
    "df_combo['DependentPctDiff'] = df_combo['DependentPercentDifference']*100\n",
    "df_combo['DependentPctDiff'] = df_combo['DependentPctDiff'].round(2).map('{:.2f}'.format)\n",
    "df_combo['DependentPctDiff'] = df_combo['DependentPctDiff'] + '%' + df_combo['DependentSignificance']\n",
    "df_combo['DependentPctDiff'] = df_combo['DependentPctDiff'].replace('nan%', '')\n",
    "\n",
    "df_combo['HomelessPctDiff'] = df_combo['HomelessPercentDifference']*100\n",
    "df_combo['HomelessPctDiff'] = df_combo['HomelessPctDiff'].round(2).map('{:.2f}'.format)\n",
    "df_combo['HomelessPctDiff'] = df_combo['HomelessPctDiff'] + '%' + df_combo['HomelessSignificance']\n",
    "df_combo['HomelessPctDiff'] = df_combo['HomelessPctDiff'].replace('nan%', '')\n",
    "\n",
    "# df_combo.to_csv('frequencies.csv', index=False) #uncomment to save file\n",
    "df_combo"
   ],
   "metadata": {
    "collapsed": false,
    "pycharm": {
     "name": "#%%\n"
    }
   }
  },
  {
   "cell_type": "markdown",
   "source": [
    "# Add sankey plots"
   ],
   "metadata": {
    "collapsed": false
   }
  },
  {
   "cell_type": "code",
   "execution_count": 11,
   "outputs": [
    {
     "data": {
      "text/plain": "              LIVARAG                          SERVICES  MOUD_treated  \\\n0        DependLiving                   AmbulatoryDetox           379   \n1        DependLiving     AmbulatoryIntensiveOutpatient          2460   \n2        DependLiving  AmbulatoryNonIntensiveOutpatient         19155   \n3        DependLiving           Detox24hFreeStandingRes          2176   \n4        DependLiving         Detox24hHospitalInpatient             9   \n5        DependLiving          RehabResHospitalNonDetox            22   \n6        DependLiving                  RehabResLongTerm          3414   \n7        DependLiving                 RehabResShortTerm          1285   \n8            Homeless                   AmbulatoryDetox           256   \n9            Homeless     AmbulatoryIntensiveOutpatient          1276   \n10           Homeless  AmbulatoryNonIntensiveOutpatient         12838   \n11           Homeless           Detox24hFreeStandingRes          3748   \n12           Homeless         Detox24hHospitalInpatient            30   \n13           Homeless          RehabResHospitalNonDetox            59   \n14           Homeless                  RehabResLongTerm          2491   \n15           Homeless                 RehabResShortTerm          3813   \n16  IndependentLiving                   AmbulatoryDetox          1631   \n17  IndependentLiving     AmbulatoryIntensiveOutpatient          9625   \n18  IndependentLiving  AmbulatoryNonIntensiveOutpatient        116728   \n19  IndependentLiving           Detox24hFreeStandingRes          7561   \n20  IndependentLiving         Detox24hHospitalInpatient            73   \n21  IndependentLiving          RehabResHospitalNonDetox            95   \n22  IndependentLiving                  RehabResLongTerm          3856   \n23  IndependentLiving                 RehabResShortTerm          7199   \n24            Unknown                   AmbulatoryDetox            10   \n25            Unknown     AmbulatoryIntensiveOutpatient           176   \n26            Unknown  AmbulatoryNonIntensiveOutpatient         11030   \n27            Unknown           Detox24hFreeStandingRes           148   \n28            Unknown         Detox24hHospitalInpatient             2   \n29            Unknown          RehabResHospitalNonDetox            14   \n30            Unknown                  RehabResLongTerm            84   \n31            Unknown                 RehabResShortTerm           100   \n\n    admitted  MOUD_rate  \n0        595   0.636975  \n1      13113   0.187600  \n2      37326   0.513181  \n3      11211   0.194095  \n4        297   0.030303  \n5        143   0.153846  \n6      11888   0.287180  \n7       9095   0.141286  \n8        844   0.303318  \n9       7776   0.164095  \n10     20224   0.634790  \n11     29813   0.125717  \n12      2878   0.010424  \n13        92   0.641304  \n14      9737   0.255828  \n15     14460   0.263693  \n16      3456   0.471933  \n17     34535   0.278703  \n18    183537   0.635992  \n19     54531   0.138655  \n20      9075   0.008044  \n21       313   0.303514  \n22     12858   0.299891  \n23     28410   0.253397  \n24        78   0.128205  \n25      2279   0.077227  \n26     21857   0.504644  \n27      1568   0.094388  \n28       220   0.009091  \n29       208   0.067308  \n30       818   0.102689  \n31       899   0.111235  ",
      "text/html": "<div>\n<style scoped>\n    .dataframe tbody tr th:only-of-type {\n        vertical-align: middle;\n    }\n\n    .dataframe tbody tr th {\n        vertical-align: top;\n    }\n\n    .dataframe thead th {\n        text-align: right;\n    }\n</style>\n<table border=\"1\" class=\"dataframe\">\n  <thead>\n    <tr style=\"text-align: right;\">\n      <th></th>\n      <th>LIVARAG</th>\n      <th>SERVICES</th>\n      <th>MOUD_treated</th>\n      <th>admitted</th>\n      <th>MOUD_rate</th>\n    </tr>\n  </thead>\n  <tbody>\n    <tr>\n      <th>0</th>\n      <td>DependLiving</td>\n      <td>AmbulatoryDetox</td>\n      <td>379</td>\n      <td>595</td>\n      <td>0.636975</td>\n    </tr>\n    <tr>\n      <th>1</th>\n      <td>DependLiving</td>\n      <td>AmbulatoryIntensiveOutpatient</td>\n      <td>2460</td>\n      <td>13113</td>\n      <td>0.187600</td>\n    </tr>\n    <tr>\n      <th>2</th>\n      <td>DependLiving</td>\n      <td>AmbulatoryNonIntensiveOutpatient</td>\n      <td>19155</td>\n      <td>37326</td>\n      <td>0.513181</td>\n    </tr>\n    <tr>\n      <th>3</th>\n      <td>DependLiving</td>\n      <td>Detox24hFreeStandingRes</td>\n      <td>2176</td>\n      <td>11211</td>\n      <td>0.194095</td>\n    </tr>\n    <tr>\n      <th>4</th>\n      <td>DependLiving</td>\n      <td>Detox24hHospitalInpatient</td>\n      <td>9</td>\n      <td>297</td>\n      <td>0.030303</td>\n    </tr>\n    <tr>\n      <th>5</th>\n      <td>DependLiving</td>\n      <td>RehabResHospitalNonDetox</td>\n      <td>22</td>\n      <td>143</td>\n      <td>0.153846</td>\n    </tr>\n    <tr>\n      <th>6</th>\n      <td>DependLiving</td>\n      <td>RehabResLongTerm</td>\n      <td>3414</td>\n      <td>11888</td>\n      <td>0.287180</td>\n    </tr>\n    <tr>\n      <th>7</th>\n      <td>DependLiving</td>\n      <td>RehabResShortTerm</td>\n      <td>1285</td>\n      <td>9095</td>\n      <td>0.141286</td>\n    </tr>\n    <tr>\n      <th>8</th>\n      <td>Homeless</td>\n      <td>AmbulatoryDetox</td>\n      <td>256</td>\n      <td>844</td>\n      <td>0.303318</td>\n    </tr>\n    <tr>\n      <th>9</th>\n      <td>Homeless</td>\n      <td>AmbulatoryIntensiveOutpatient</td>\n      <td>1276</td>\n      <td>7776</td>\n      <td>0.164095</td>\n    </tr>\n    <tr>\n      <th>10</th>\n      <td>Homeless</td>\n      <td>AmbulatoryNonIntensiveOutpatient</td>\n      <td>12838</td>\n      <td>20224</td>\n      <td>0.634790</td>\n    </tr>\n    <tr>\n      <th>11</th>\n      <td>Homeless</td>\n      <td>Detox24hFreeStandingRes</td>\n      <td>3748</td>\n      <td>29813</td>\n      <td>0.125717</td>\n    </tr>\n    <tr>\n      <th>12</th>\n      <td>Homeless</td>\n      <td>Detox24hHospitalInpatient</td>\n      <td>30</td>\n      <td>2878</td>\n      <td>0.010424</td>\n    </tr>\n    <tr>\n      <th>13</th>\n      <td>Homeless</td>\n      <td>RehabResHospitalNonDetox</td>\n      <td>59</td>\n      <td>92</td>\n      <td>0.641304</td>\n    </tr>\n    <tr>\n      <th>14</th>\n      <td>Homeless</td>\n      <td>RehabResLongTerm</td>\n      <td>2491</td>\n      <td>9737</td>\n      <td>0.255828</td>\n    </tr>\n    <tr>\n      <th>15</th>\n      <td>Homeless</td>\n      <td>RehabResShortTerm</td>\n      <td>3813</td>\n      <td>14460</td>\n      <td>0.263693</td>\n    </tr>\n    <tr>\n      <th>16</th>\n      <td>IndependentLiving</td>\n      <td>AmbulatoryDetox</td>\n      <td>1631</td>\n      <td>3456</td>\n      <td>0.471933</td>\n    </tr>\n    <tr>\n      <th>17</th>\n      <td>IndependentLiving</td>\n      <td>AmbulatoryIntensiveOutpatient</td>\n      <td>9625</td>\n      <td>34535</td>\n      <td>0.278703</td>\n    </tr>\n    <tr>\n      <th>18</th>\n      <td>IndependentLiving</td>\n      <td>AmbulatoryNonIntensiveOutpatient</td>\n      <td>116728</td>\n      <td>183537</td>\n      <td>0.635992</td>\n    </tr>\n    <tr>\n      <th>19</th>\n      <td>IndependentLiving</td>\n      <td>Detox24hFreeStandingRes</td>\n      <td>7561</td>\n      <td>54531</td>\n      <td>0.138655</td>\n    </tr>\n    <tr>\n      <th>20</th>\n      <td>IndependentLiving</td>\n      <td>Detox24hHospitalInpatient</td>\n      <td>73</td>\n      <td>9075</td>\n      <td>0.008044</td>\n    </tr>\n    <tr>\n      <th>21</th>\n      <td>IndependentLiving</td>\n      <td>RehabResHospitalNonDetox</td>\n      <td>95</td>\n      <td>313</td>\n      <td>0.303514</td>\n    </tr>\n    <tr>\n      <th>22</th>\n      <td>IndependentLiving</td>\n      <td>RehabResLongTerm</td>\n      <td>3856</td>\n      <td>12858</td>\n      <td>0.299891</td>\n    </tr>\n    <tr>\n      <th>23</th>\n      <td>IndependentLiving</td>\n      <td>RehabResShortTerm</td>\n      <td>7199</td>\n      <td>28410</td>\n      <td>0.253397</td>\n    </tr>\n    <tr>\n      <th>24</th>\n      <td>Unknown</td>\n      <td>AmbulatoryDetox</td>\n      <td>10</td>\n      <td>78</td>\n      <td>0.128205</td>\n    </tr>\n    <tr>\n      <th>25</th>\n      <td>Unknown</td>\n      <td>AmbulatoryIntensiveOutpatient</td>\n      <td>176</td>\n      <td>2279</td>\n      <td>0.077227</td>\n    </tr>\n    <tr>\n      <th>26</th>\n      <td>Unknown</td>\n      <td>AmbulatoryNonIntensiveOutpatient</td>\n      <td>11030</td>\n      <td>21857</td>\n      <td>0.504644</td>\n    </tr>\n    <tr>\n      <th>27</th>\n      <td>Unknown</td>\n      <td>Detox24hFreeStandingRes</td>\n      <td>148</td>\n      <td>1568</td>\n      <td>0.094388</td>\n    </tr>\n    <tr>\n      <th>28</th>\n      <td>Unknown</td>\n      <td>Detox24hHospitalInpatient</td>\n      <td>2</td>\n      <td>220</td>\n      <td>0.009091</td>\n    </tr>\n    <tr>\n      <th>29</th>\n      <td>Unknown</td>\n      <td>RehabResHospitalNonDetox</td>\n      <td>14</td>\n      <td>208</td>\n      <td>0.067308</td>\n    </tr>\n    <tr>\n      <th>30</th>\n      <td>Unknown</td>\n      <td>RehabResLongTerm</td>\n      <td>84</td>\n      <td>818</td>\n      <td>0.102689</td>\n    </tr>\n    <tr>\n      <th>31</th>\n      <td>Unknown</td>\n      <td>RehabResShortTerm</td>\n      <td>100</td>\n      <td>899</td>\n      <td>0.111235</td>\n    </tr>\n  </tbody>\n</table>\n</div>"
     },
     "execution_count": 11,
     "metadata": {},
     "output_type": "execute_result"
    }
   ],
   "source": [
    "df4 = df2[['LIVARAG', 'SERVICES', 'METHUSE']].copy()\n",
    "df4['METHUSE'] = df4['METHUSE'].replace('MethUse', 1)\n",
    "df4['METHUSE'] = df4['METHUSE'].replace('NoMethUse', 0)\n",
    "\n",
    "df4_sum = df4.groupby(['LIVARAG', 'SERVICES']).sum().rename(columns={'METHUSE':'MOUD_treated'})\n",
    "df4_count = df4.groupby(['LIVARAG', 'SERVICES']).count().rename(columns={'METHUSE':'admitted'})\n",
    "df4 = pd.merge(df4_sum, df4_count, left_index=True, right_index=True, how='outer')\n",
    "df4['MOUD_rate'] = df4['MOUD_treated']/df4['admitted']\n",
    "df4 = df4.reset_index()\n",
    "# df4.to_csv('referral.csv')\n",
    "df4"
   ],
   "metadata": {
    "collapsed": false,
    "pycharm": {
     "name": "#%%\n"
    }
   }
  },
  {
   "cell_type": "code",
   "execution_count": 15,
   "outputs": [
    {
     "data": {
      "application/vnd.plotly.v1+json": {
       "data": [
        {
         "link": {
          "source": [
           0,
           0,
           1,
           1,
           2,
           2,
           3,
           3,
           4,
           4,
           5,
           5,
           5,
           5,
           5,
           5,
           5,
           5,
           8,
           8,
           9,
           9,
           10,
           10
          ],
          "target": [
           6,
           7,
           6,
           7,
           6,
           7,
           6,
           7,
           6,
           7,
           0,
           1,
           2,
           3,
           4,
           8,
           9,
           10,
           6,
           7,
           6,
           7,
           6,
           7
          ],
          "value": [
           1631,
           1825,
           9625,
           24910,
           116728,
           66809,
           7561,
           46970,
           73,
           9002,
           3456,
           34535,
           183537,
           54531,
           9075,
           313,
           12858,
           28410,
           95,
           218,
           3856,
           9002,
           7199,
           21211
          ]
         },
         "node": {
          "color": "rgba(255, 255, 255, 0)",
          "label": [
           "AmbulatoryDetox",
           "AmbulatoryIntensiveOutpatient",
           "AmbulatoryNonIntensiveOutpatient",
           "Detox24hFreeStandingRes",
           "Detox24hHospitalInpatient",
           "IndependentLiving",
           "MethUse",
           "NoMethUse",
           "RehabResHospitalNonDetox",
           "RehabResLongTerm",
           "RehabResShortTerm"
          ]
         },
         "textfont": {
          "color": "rgba(0,0,0,0)"
         },
         "type": "sankey"
        }
       ],
       "layout": {
        "template": {
         "data": {
          "histogram2dcontour": [
           {
            "type": "histogram2dcontour",
            "colorbar": {
             "outlinewidth": 0,
             "ticks": ""
            },
            "colorscale": [
             [
              0.0,
              "#0d0887"
             ],
             [
              0.1111111111111111,
              "#46039f"
             ],
             [
              0.2222222222222222,
              "#7201a8"
             ],
             [
              0.3333333333333333,
              "#9c179e"
             ],
             [
              0.4444444444444444,
              "#bd3786"
             ],
             [
              0.5555555555555556,
              "#d8576b"
             ],
             [
              0.6666666666666666,
              "#ed7953"
             ],
             [
              0.7777777777777778,
              "#fb9f3a"
             ],
             [
              0.8888888888888888,
              "#fdca26"
             ],
             [
              1.0,
              "#f0f921"
             ]
            ]
           }
          ],
          "choropleth": [
           {
            "type": "choropleth",
            "colorbar": {
             "outlinewidth": 0,
             "ticks": ""
            }
           }
          ],
          "histogram2d": [
           {
            "type": "histogram2d",
            "colorbar": {
             "outlinewidth": 0,
             "ticks": ""
            },
            "colorscale": [
             [
              0.0,
              "#0d0887"
             ],
             [
              0.1111111111111111,
              "#46039f"
             ],
             [
              0.2222222222222222,
              "#7201a8"
             ],
             [
              0.3333333333333333,
              "#9c179e"
             ],
             [
              0.4444444444444444,
              "#bd3786"
             ],
             [
              0.5555555555555556,
              "#d8576b"
             ],
             [
              0.6666666666666666,
              "#ed7953"
             ],
             [
              0.7777777777777778,
              "#fb9f3a"
             ],
             [
              0.8888888888888888,
              "#fdca26"
             ],
             [
              1.0,
              "#f0f921"
             ]
            ]
           }
          ],
          "heatmap": [
           {
            "type": "heatmap",
            "colorbar": {
             "outlinewidth": 0,
             "ticks": ""
            },
            "colorscale": [
             [
              0.0,
              "#0d0887"
             ],
             [
              0.1111111111111111,
              "#46039f"
             ],
             [
              0.2222222222222222,
              "#7201a8"
             ],
             [
              0.3333333333333333,
              "#9c179e"
             ],
             [
              0.4444444444444444,
              "#bd3786"
             ],
             [
              0.5555555555555556,
              "#d8576b"
             ],
             [
              0.6666666666666666,
              "#ed7953"
             ],
             [
              0.7777777777777778,
              "#fb9f3a"
             ],
             [
              0.8888888888888888,
              "#fdca26"
             ],
             [
              1.0,
              "#f0f921"
             ]
            ]
           }
          ],
          "heatmapgl": [
           {
            "type": "heatmapgl",
            "colorbar": {
             "outlinewidth": 0,
             "ticks": ""
            },
            "colorscale": [
             [
              0.0,
              "#0d0887"
             ],
             [
              0.1111111111111111,
              "#46039f"
             ],
             [
              0.2222222222222222,
              "#7201a8"
             ],
             [
              0.3333333333333333,
              "#9c179e"
             ],
             [
              0.4444444444444444,
              "#bd3786"
             ],
             [
              0.5555555555555556,
              "#d8576b"
             ],
             [
              0.6666666666666666,
              "#ed7953"
             ],
             [
              0.7777777777777778,
              "#fb9f3a"
             ],
             [
              0.8888888888888888,
              "#fdca26"
             ],
             [
              1.0,
              "#f0f921"
             ]
            ]
           }
          ],
          "contourcarpet": [
           {
            "type": "contourcarpet",
            "colorbar": {
             "outlinewidth": 0,
             "ticks": ""
            }
           }
          ],
          "contour": [
           {
            "type": "contour",
            "colorbar": {
             "outlinewidth": 0,
             "ticks": ""
            },
            "colorscale": [
             [
              0.0,
              "#0d0887"
             ],
             [
              0.1111111111111111,
              "#46039f"
             ],
             [
              0.2222222222222222,
              "#7201a8"
             ],
             [
              0.3333333333333333,
              "#9c179e"
             ],
             [
              0.4444444444444444,
              "#bd3786"
             ],
             [
              0.5555555555555556,
              "#d8576b"
             ],
             [
              0.6666666666666666,
              "#ed7953"
             ],
             [
              0.7777777777777778,
              "#fb9f3a"
             ],
             [
              0.8888888888888888,
              "#fdca26"
             ],
             [
              1.0,
              "#f0f921"
             ]
            ]
           }
          ],
          "surface": [
           {
            "type": "surface",
            "colorbar": {
             "outlinewidth": 0,
             "ticks": ""
            },
            "colorscale": [
             [
              0.0,
              "#0d0887"
             ],
             [
              0.1111111111111111,
              "#46039f"
             ],
             [
              0.2222222222222222,
              "#7201a8"
             ],
             [
              0.3333333333333333,
              "#9c179e"
             ],
             [
              0.4444444444444444,
              "#bd3786"
             ],
             [
              0.5555555555555556,
              "#d8576b"
             ],
             [
              0.6666666666666666,
              "#ed7953"
             ],
             [
              0.7777777777777778,
              "#fb9f3a"
             ],
             [
              0.8888888888888888,
              "#fdca26"
             ],
             [
              1.0,
              "#f0f921"
             ]
            ]
           }
          ],
          "mesh3d": [
           {
            "type": "mesh3d",
            "colorbar": {
             "outlinewidth": 0,
             "ticks": ""
            }
           }
          ],
          "scatter": [
           {
            "fillpattern": {
             "fillmode": "overlay",
             "size": 10,
             "solidity": 0.2
            },
            "type": "scatter"
           }
          ],
          "parcoords": [
           {
            "type": "parcoords",
            "line": {
             "colorbar": {
              "outlinewidth": 0,
              "ticks": ""
             }
            }
           }
          ],
          "scatterpolargl": [
           {
            "type": "scatterpolargl",
            "marker": {
             "colorbar": {
              "outlinewidth": 0,
              "ticks": ""
             }
            }
           }
          ],
          "bar": [
           {
            "error_x": {
             "color": "#2a3f5f"
            },
            "error_y": {
             "color": "#2a3f5f"
            },
            "marker": {
             "line": {
              "color": "#E5ECF6",
              "width": 0.5
             },
             "pattern": {
              "fillmode": "overlay",
              "size": 10,
              "solidity": 0.2
             }
            },
            "type": "bar"
           }
          ],
          "scattergeo": [
           {
            "type": "scattergeo",
            "marker": {
             "colorbar": {
              "outlinewidth": 0,
              "ticks": ""
             }
            }
           }
          ],
          "scatterpolar": [
           {
            "type": "scatterpolar",
            "marker": {
             "colorbar": {
              "outlinewidth": 0,
              "ticks": ""
             }
            }
           }
          ],
          "histogram": [
           {
            "marker": {
             "pattern": {
              "fillmode": "overlay",
              "size": 10,
              "solidity": 0.2
             }
            },
            "type": "histogram"
           }
          ],
          "scattergl": [
           {
            "type": "scattergl",
            "marker": {
             "colorbar": {
              "outlinewidth": 0,
              "ticks": ""
             }
            }
           }
          ],
          "scatter3d": [
           {
            "type": "scatter3d",
            "line": {
             "colorbar": {
              "outlinewidth": 0,
              "ticks": ""
             }
            },
            "marker": {
             "colorbar": {
              "outlinewidth": 0,
              "ticks": ""
             }
            }
           }
          ],
          "scattermapbox": [
           {
            "type": "scattermapbox",
            "marker": {
             "colorbar": {
              "outlinewidth": 0,
              "ticks": ""
             }
            }
           }
          ],
          "scatterternary": [
           {
            "type": "scatterternary",
            "marker": {
             "colorbar": {
              "outlinewidth": 0,
              "ticks": ""
             }
            }
           }
          ],
          "scattercarpet": [
           {
            "type": "scattercarpet",
            "marker": {
             "colorbar": {
              "outlinewidth": 0,
              "ticks": ""
             }
            }
           }
          ],
          "carpet": [
           {
            "aaxis": {
             "endlinecolor": "#2a3f5f",
             "gridcolor": "white",
             "linecolor": "white",
             "minorgridcolor": "white",
             "startlinecolor": "#2a3f5f"
            },
            "baxis": {
             "endlinecolor": "#2a3f5f",
             "gridcolor": "white",
             "linecolor": "white",
             "minorgridcolor": "white",
             "startlinecolor": "#2a3f5f"
            },
            "type": "carpet"
           }
          ],
          "table": [
           {
            "cells": {
             "fill": {
              "color": "#EBF0F8"
             },
             "line": {
              "color": "white"
             }
            },
            "header": {
             "fill": {
              "color": "#C8D4E3"
             },
             "line": {
              "color": "white"
             }
            },
            "type": "table"
           }
          ],
          "barpolar": [
           {
            "marker": {
             "line": {
              "color": "#E5ECF6",
              "width": 0.5
             },
             "pattern": {
              "fillmode": "overlay",
              "size": 10,
              "solidity": 0.2
             }
            },
            "type": "barpolar"
           }
          ],
          "pie": [
           {
            "automargin": true,
            "type": "pie"
           }
          ]
         },
         "layout": {
          "autotypenumbers": "strict",
          "colorway": [
           "#636efa",
           "#EF553B",
           "#00cc96",
           "#ab63fa",
           "#FFA15A",
           "#19d3f3",
           "#FF6692",
           "#B6E880",
           "#FF97FF",
           "#FECB52"
          ],
          "font": {
           "color": "#2a3f5f"
          },
          "hovermode": "closest",
          "hoverlabel": {
           "align": "left"
          },
          "paper_bgcolor": "white",
          "plot_bgcolor": "#E5ECF6",
          "polar": {
           "bgcolor": "#E5ECF6",
           "angularaxis": {
            "gridcolor": "white",
            "linecolor": "white",
            "ticks": ""
           },
           "radialaxis": {
            "gridcolor": "white",
            "linecolor": "white",
            "ticks": ""
           }
          },
          "ternary": {
           "bgcolor": "#E5ECF6",
           "aaxis": {
            "gridcolor": "white",
            "linecolor": "white",
            "ticks": ""
           },
           "baxis": {
            "gridcolor": "white",
            "linecolor": "white",
            "ticks": ""
           },
           "caxis": {
            "gridcolor": "white",
            "linecolor": "white",
            "ticks": ""
           }
          },
          "coloraxis": {
           "colorbar": {
            "outlinewidth": 0,
            "ticks": ""
           }
          },
          "colorscale": {
           "sequential": [
            [
             0.0,
             "#0d0887"
            ],
            [
             0.1111111111111111,
             "#46039f"
            ],
            [
             0.2222222222222222,
             "#7201a8"
            ],
            [
             0.3333333333333333,
             "#9c179e"
            ],
            [
             0.4444444444444444,
             "#bd3786"
            ],
            [
             0.5555555555555556,
             "#d8576b"
            ],
            [
             0.6666666666666666,
             "#ed7953"
            ],
            [
             0.7777777777777778,
             "#fb9f3a"
            ],
            [
             0.8888888888888888,
             "#fdca26"
            ],
            [
             1.0,
             "#f0f921"
            ]
           ],
           "sequentialminus": [
            [
             0.0,
             "#0d0887"
            ],
            [
             0.1111111111111111,
             "#46039f"
            ],
            [
             0.2222222222222222,
             "#7201a8"
            ],
            [
             0.3333333333333333,
             "#9c179e"
            ],
            [
             0.4444444444444444,
             "#bd3786"
            ],
            [
             0.5555555555555556,
             "#d8576b"
            ],
            [
             0.6666666666666666,
             "#ed7953"
            ],
            [
             0.7777777777777778,
             "#fb9f3a"
            ],
            [
             0.8888888888888888,
             "#fdca26"
            ],
            [
             1.0,
             "#f0f921"
            ]
           ],
           "diverging": [
            [
             0,
             "#8e0152"
            ],
            [
             0.1,
             "#c51b7d"
            ],
            [
             0.2,
             "#de77ae"
            ],
            [
             0.3,
             "#f1b6da"
            ],
            [
             0.4,
             "#fde0ef"
            ],
            [
             0.5,
             "#f7f7f7"
            ],
            [
             0.6,
             "#e6f5d0"
            ],
            [
             0.7,
             "#b8e186"
            ],
            [
             0.8,
             "#7fbc41"
            ],
            [
             0.9,
             "#4d9221"
            ],
            [
             1,
             "#276419"
            ]
           ]
          },
          "xaxis": {
           "gridcolor": "white",
           "linecolor": "white",
           "ticks": "",
           "title": {
            "standoff": 15
           },
           "zerolinecolor": "white",
           "automargin": true,
           "zerolinewidth": 2
          },
          "yaxis": {
           "gridcolor": "white",
           "linecolor": "white",
           "ticks": "",
           "title": {
            "standoff": 15
           },
           "zerolinecolor": "white",
           "automargin": true,
           "zerolinewidth": 2
          },
          "scene": {
           "xaxis": {
            "backgroundcolor": "#E5ECF6",
            "gridcolor": "white",
            "linecolor": "white",
            "showbackground": true,
            "ticks": "",
            "zerolinecolor": "white",
            "gridwidth": 2
           },
           "yaxis": {
            "backgroundcolor": "#E5ECF6",
            "gridcolor": "white",
            "linecolor": "white",
            "showbackground": true,
            "ticks": "",
            "zerolinecolor": "white",
            "gridwidth": 2
           },
           "zaxis": {
            "backgroundcolor": "#E5ECF6",
            "gridcolor": "white",
            "linecolor": "white",
            "showbackground": true,
            "ticks": "",
            "zerolinecolor": "white",
            "gridwidth": 2
           }
          },
          "shapedefaults": {
           "line": {
            "color": "#2a3f5f"
           }
          },
          "annotationdefaults": {
           "arrowcolor": "#2a3f5f",
           "arrowhead": 0,
           "arrowwidth": 1
          },
          "geo": {
           "bgcolor": "white",
           "landcolor": "#E5ECF6",
           "subunitcolor": "white",
           "showland": true,
           "showlakes": true,
           "lakecolor": "white"
          },
          "title": {
           "x": 0.05
          },
          "mapbox": {
           "style": "light"
          }
         }
        },
        "title": {
         "text": "Independent patient flow"
        },
        "font": {
         "size": 12
        }
       },
       "config": {
        "plotlyServerURL": "https://plot.ly"
       }
      },
      "text/html": "<div>                            <div id=\"bd627ae5-fe5e-4b8d-8dd1-25ba3ba79e4e\" class=\"plotly-graph-div\" style=\"height:525px; width:100%;\"></div>            <script type=\"text/javascript\">                require([\"plotly\"], function(Plotly) {                    window.PLOTLYENV=window.PLOTLYENV || {};                                    if (document.getElementById(\"bd627ae5-fe5e-4b8d-8dd1-25ba3ba79e4e\")) {                    Plotly.newPlot(                        \"bd627ae5-fe5e-4b8d-8dd1-25ba3ba79e4e\",                        [{\"link\":{\"source\":[0,0,1,1,2,2,3,3,4,4,5,5,5,5,5,5,5,5,8,8,9,9,10,10],\"target\":[6,7,6,7,6,7,6,7,6,7,0,1,2,3,4,8,9,10,6,7,6,7,6,7],\"value\":[1631,1825,9625,24910,116728,66809,7561,46970,73,9002,3456,34535,183537,54531,9075,313,12858,28410,95,218,3856,9002,7199,21211]},\"node\":{\"color\":\"rgba(255, 255, 255, 0)\",\"label\":[\"AmbulatoryDetox\",\"AmbulatoryIntensiveOutpatient\",\"AmbulatoryNonIntensiveOutpatient\",\"Detox24hFreeStandingRes\",\"Detox24hHospitalInpatient\",\"IndependentLiving\",\"MethUse\",\"NoMethUse\",\"RehabResHospitalNonDetox\",\"RehabResLongTerm\",\"RehabResShortTerm\"]},\"textfont\":{\"color\":\"rgba(0,0,0,0)\"},\"type\":\"sankey\"}],                        {\"template\":{\"data\":{\"histogram2dcontour\":[{\"type\":\"histogram2dcontour\",\"colorbar\":{\"outlinewidth\":0,\"ticks\":\"\"},\"colorscale\":[[0.0,\"#0d0887\"],[0.1111111111111111,\"#46039f\"],[0.2222222222222222,\"#7201a8\"],[0.3333333333333333,\"#9c179e\"],[0.4444444444444444,\"#bd3786\"],[0.5555555555555556,\"#d8576b\"],[0.6666666666666666,\"#ed7953\"],[0.7777777777777778,\"#fb9f3a\"],[0.8888888888888888,\"#fdca26\"],[1.0,\"#f0f921\"]]}],\"choropleth\":[{\"type\":\"choropleth\",\"colorbar\":{\"outlinewidth\":0,\"ticks\":\"\"}}],\"histogram2d\":[{\"type\":\"histogram2d\",\"colorbar\":{\"outlinewidth\":0,\"ticks\":\"\"},\"colorscale\":[[0.0,\"#0d0887\"],[0.1111111111111111,\"#46039f\"],[0.2222222222222222,\"#7201a8\"],[0.3333333333333333,\"#9c179e\"],[0.4444444444444444,\"#bd3786\"],[0.5555555555555556,\"#d8576b\"],[0.6666666666666666,\"#ed7953\"],[0.7777777777777778,\"#fb9f3a\"],[0.8888888888888888,\"#fdca26\"],[1.0,\"#f0f921\"]]}],\"heatmap\":[{\"type\":\"heatmap\",\"colorbar\":{\"outlinewidth\":0,\"ticks\":\"\"},\"colorscale\":[[0.0,\"#0d0887\"],[0.1111111111111111,\"#46039f\"],[0.2222222222222222,\"#7201a8\"],[0.3333333333333333,\"#9c179e\"],[0.4444444444444444,\"#bd3786\"],[0.5555555555555556,\"#d8576b\"],[0.6666666666666666,\"#ed7953\"],[0.7777777777777778,\"#fb9f3a\"],[0.8888888888888888,\"#fdca26\"],[1.0,\"#f0f921\"]]}],\"heatmapgl\":[{\"type\":\"heatmapgl\",\"colorbar\":{\"outlinewidth\":0,\"ticks\":\"\"},\"colorscale\":[[0.0,\"#0d0887\"],[0.1111111111111111,\"#46039f\"],[0.2222222222222222,\"#7201a8\"],[0.3333333333333333,\"#9c179e\"],[0.4444444444444444,\"#bd3786\"],[0.5555555555555556,\"#d8576b\"],[0.6666666666666666,\"#ed7953\"],[0.7777777777777778,\"#fb9f3a\"],[0.8888888888888888,\"#fdca26\"],[1.0,\"#f0f921\"]]}],\"contourcarpet\":[{\"type\":\"contourcarpet\",\"colorbar\":{\"outlinewidth\":0,\"ticks\":\"\"}}],\"contour\":[{\"type\":\"contour\",\"colorbar\":{\"outlinewidth\":0,\"ticks\":\"\"},\"colorscale\":[[0.0,\"#0d0887\"],[0.1111111111111111,\"#46039f\"],[0.2222222222222222,\"#7201a8\"],[0.3333333333333333,\"#9c179e\"],[0.4444444444444444,\"#bd3786\"],[0.5555555555555556,\"#d8576b\"],[0.6666666666666666,\"#ed7953\"],[0.7777777777777778,\"#fb9f3a\"],[0.8888888888888888,\"#fdca26\"],[1.0,\"#f0f921\"]]}],\"surface\":[{\"type\":\"surface\",\"colorbar\":{\"outlinewidth\":0,\"ticks\":\"\"},\"colorscale\":[[0.0,\"#0d0887\"],[0.1111111111111111,\"#46039f\"],[0.2222222222222222,\"#7201a8\"],[0.3333333333333333,\"#9c179e\"],[0.4444444444444444,\"#bd3786\"],[0.5555555555555556,\"#d8576b\"],[0.6666666666666666,\"#ed7953\"],[0.7777777777777778,\"#fb9f3a\"],[0.8888888888888888,\"#fdca26\"],[1.0,\"#f0f921\"]]}],\"mesh3d\":[{\"type\":\"mesh3d\",\"colorbar\":{\"outlinewidth\":0,\"ticks\":\"\"}}],\"scatter\":[{\"fillpattern\":{\"fillmode\":\"overlay\",\"size\":10,\"solidity\":0.2},\"type\":\"scatter\"}],\"parcoords\":[{\"type\":\"parcoords\",\"line\":{\"colorbar\":{\"outlinewidth\":0,\"ticks\":\"\"}}}],\"scatterpolargl\":[{\"type\":\"scatterpolargl\",\"marker\":{\"colorbar\":{\"outlinewidth\":0,\"ticks\":\"\"}}}],\"bar\":[{\"error_x\":{\"color\":\"#2a3f5f\"},\"error_y\":{\"color\":\"#2a3f5f\"},\"marker\":{\"line\":{\"color\":\"#E5ECF6\",\"width\":0.5},\"pattern\":{\"fillmode\":\"overlay\",\"size\":10,\"solidity\":0.2}},\"type\":\"bar\"}],\"scattergeo\":[{\"type\":\"scattergeo\",\"marker\":{\"colorbar\":{\"outlinewidth\":0,\"ticks\":\"\"}}}],\"scatterpolar\":[{\"type\":\"scatterpolar\",\"marker\":{\"colorbar\":{\"outlinewidth\":0,\"ticks\":\"\"}}}],\"histogram\":[{\"marker\":{\"pattern\":{\"fillmode\":\"overlay\",\"size\":10,\"solidity\":0.2}},\"type\":\"histogram\"}],\"scattergl\":[{\"type\":\"scattergl\",\"marker\":{\"colorbar\":{\"outlinewidth\":0,\"ticks\":\"\"}}}],\"scatter3d\":[{\"type\":\"scatter3d\",\"line\":{\"colorbar\":{\"outlinewidth\":0,\"ticks\":\"\"}},\"marker\":{\"colorbar\":{\"outlinewidth\":0,\"ticks\":\"\"}}}],\"scattermapbox\":[{\"type\":\"scattermapbox\",\"marker\":{\"colorbar\":{\"outlinewidth\":0,\"ticks\":\"\"}}}],\"scatterternary\":[{\"type\":\"scatterternary\",\"marker\":{\"colorbar\":{\"outlinewidth\":0,\"ticks\":\"\"}}}],\"scattercarpet\":[{\"type\":\"scattercarpet\",\"marker\":{\"colorbar\":{\"outlinewidth\":0,\"ticks\":\"\"}}}],\"carpet\":[{\"aaxis\":{\"endlinecolor\":\"#2a3f5f\",\"gridcolor\":\"white\",\"linecolor\":\"white\",\"minorgridcolor\":\"white\",\"startlinecolor\":\"#2a3f5f\"},\"baxis\":{\"endlinecolor\":\"#2a3f5f\",\"gridcolor\":\"white\",\"linecolor\":\"white\",\"minorgridcolor\":\"white\",\"startlinecolor\":\"#2a3f5f\"},\"type\":\"carpet\"}],\"table\":[{\"cells\":{\"fill\":{\"color\":\"#EBF0F8\"},\"line\":{\"color\":\"white\"}},\"header\":{\"fill\":{\"color\":\"#C8D4E3\"},\"line\":{\"color\":\"white\"}},\"type\":\"table\"}],\"barpolar\":[{\"marker\":{\"line\":{\"color\":\"#E5ECF6\",\"width\":0.5},\"pattern\":{\"fillmode\":\"overlay\",\"size\":10,\"solidity\":0.2}},\"type\":\"barpolar\"}],\"pie\":[{\"automargin\":true,\"type\":\"pie\"}]},\"layout\":{\"autotypenumbers\":\"strict\",\"colorway\":[\"#636efa\",\"#EF553B\",\"#00cc96\",\"#ab63fa\",\"#FFA15A\",\"#19d3f3\",\"#FF6692\",\"#B6E880\",\"#FF97FF\",\"#FECB52\"],\"font\":{\"color\":\"#2a3f5f\"},\"hovermode\":\"closest\",\"hoverlabel\":{\"align\":\"left\"},\"paper_bgcolor\":\"white\",\"plot_bgcolor\":\"#E5ECF6\",\"polar\":{\"bgcolor\":\"#E5ECF6\",\"angularaxis\":{\"gridcolor\":\"white\",\"linecolor\":\"white\",\"ticks\":\"\"},\"radialaxis\":{\"gridcolor\":\"white\",\"linecolor\":\"white\",\"ticks\":\"\"}},\"ternary\":{\"bgcolor\":\"#E5ECF6\",\"aaxis\":{\"gridcolor\":\"white\",\"linecolor\":\"white\",\"ticks\":\"\"},\"baxis\":{\"gridcolor\":\"white\",\"linecolor\":\"white\",\"ticks\":\"\"},\"caxis\":{\"gridcolor\":\"white\",\"linecolor\":\"white\",\"ticks\":\"\"}},\"coloraxis\":{\"colorbar\":{\"outlinewidth\":0,\"ticks\":\"\"}},\"colorscale\":{\"sequential\":[[0.0,\"#0d0887\"],[0.1111111111111111,\"#46039f\"],[0.2222222222222222,\"#7201a8\"],[0.3333333333333333,\"#9c179e\"],[0.4444444444444444,\"#bd3786\"],[0.5555555555555556,\"#d8576b\"],[0.6666666666666666,\"#ed7953\"],[0.7777777777777778,\"#fb9f3a\"],[0.8888888888888888,\"#fdca26\"],[1.0,\"#f0f921\"]],\"sequentialminus\":[[0.0,\"#0d0887\"],[0.1111111111111111,\"#46039f\"],[0.2222222222222222,\"#7201a8\"],[0.3333333333333333,\"#9c179e\"],[0.4444444444444444,\"#bd3786\"],[0.5555555555555556,\"#d8576b\"],[0.6666666666666666,\"#ed7953\"],[0.7777777777777778,\"#fb9f3a\"],[0.8888888888888888,\"#fdca26\"],[1.0,\"#f0f921\"]],\"diverging\":[[0,\"#8e0152\"],[0.1,\"#c51b7d\"],[0.2,\"#de77ae\"],[0.3,\"#f1b6da\"],[0.4,\"#fde0ef\"],[0.5,\"#f7f7f7\"],[0.6,\"#e6f5d0\"],[0.7,\"#b8e186\"],[0.8,\"#7fbc41\"],[0.9,\"#4d9221\"],[1,\"#276419\"]]},\"xaxis\":{\"gridcolor\":\"white\",\"linecolor\":\"white\",\"ticks\":\"\",\"title\":{\"standoff\":15},\"zerolinecolor\":\"white\",\"automargin\":true,\"zerolinewidth\":2},\"yaxis\":{\"gridcolor\":\"white\",\"linecolor\":\"white\",\"ticks\":\"\",\"title\":{\"standoff\":15},\"zerolinecolor\":\"white\",\"automargin\":true,\"zerolinewidth\":2},\"scene\":{\"xaxis\":{\"backgroundcolor\":\"#E5ECF6\",\"gridcolor\":\"white\",\"linecolor\":\"white\",\"showbackground\":true,\"ticks\":\"\",\"zerolinecolor\":\"white\",\"gridwidth\":2},\"yaxis\":{\"backgroundcolor\":\"#E5ECF6\",\"gridcolor\":\"white\",\"linecolor\":\"white\",\"showbackground\":true,\"ticks\":\"\",\"zerolinecolor\":\"white\",\"gridwidth\":2},\"zaxis\":{\"backgroundcolor\":\"#E5ECF6\",\"gridcolor\":\"white\",\"linecolor\":\"white\",\"showbackground\":true,\"ticks\":\"\",\"zerolinecolor\":\"white\",\"gridwidth\":2}},\"shapedefaults\":{\"line\":{\"color\":\"#2a3f5f\"}},\"annotationdefaults\":{\"arrowcolor\":\"#2a3f5f\",\"arrowhead\":0,\"arrowwidth\":1},\"geo\":{\"bgcolor\":\"white\",\"landcolor\":\"#E5ECF6\",\"subunitcolor\":\"white\",\"showland\":true,\"showlakes\":true,\"lakecolor\":\"white\"},\"title\":{\"x\":0.05},\"mapbox\":{\"style\":\"light\"}}},\"title\":{\"text\":\"Independent patient flow\"},\"font\":{\"size\":12}},                        {\"responsive\": true}                    ).then(function(){\n                            \nvar gd = document.getElementById('bd627ae5-fe5e-4b8d-8dd1-25ba3ba79e4e');\nvar x = new MutationObserver(function (mutations, observer) {{\n        var display = window.getComputedStyle(gd).display;\n        if (!display || display === 'none') {{\n            console.log([gd, 'removed!']);\n            Plotly.purge(gd);\n            observer.disconnect();\n        }}\n}});\n\n// Listen for the removal of the full notebook cells\nvar notebookContainer = gd.closest('#notebook-container');\nif (notebookContainer) {{\n    x.observe(notebookContainer, {childList: true});\n}}\n\n// Listen for the clearing of the current output cell\nvar outputEl = gd.closest('.output');\nif (outputEl) {{\n    x.observe(outputEl, {childList: true});\n}}\n\n                        })                };                });            </script>        </div>"
     },
     "metadata": {},
     "output_type": "display_data"
    }
   ],
   "source": [
    "import plotly.graph_objects as go\n",
    "\n",
    "# Define group of interest\n",
    "group_fullname = 'IndependentLiving'\n",
    "group_shortname = 'Independent'\n",
    "\n",
    "# Define grouped dataframe\n",
    "df_grouped = df2[['LIVARAG', 'PSOURCE_DETCRIM', 'SERVICES', 'METHUSE']].copy()\n",
    "df_grouped = df_grouped[df_grouped['LIVARAG']==group_fullname]\n",
    "df_grouped = df_grouped.groupby(['LIVARAG', 'SERVICES', 'METHUSE']).count().rename(columns={'PSOURCE_DETCRIM':'admitted'})\n",
    "df_grouped = df_grouped.reset_index()\n",
    "\n",
    "# Further process dataframe\n",
    "categories = ['LIVARAG', 'SERVICES', 'METHUSE']\n",
    "df_temp1 = pd.DataFrame()\n",
    "for i in range(len(categories)-1):\n",
    "    df_temp2 = df_grouped[[categories[i],categories[i+1],'admitted']]\n",
    "    df_temp2.columns = ['source','target','admitted']\n",
    "    df_temp1 = pd.concat([df_temp1, df_temp2])\n",
    "df_sankey = df_temp1.groupby(['source', 'target']).agg({'admitted':'sum'}).rename(columns={'admitted': 'group_sum'})\n",
    "df_sankey = df_sankey.reset_index()\n",
    "# df_sankey.to_csv('df_sankey_independent.csv')\n",
    "\n",
    "# Define figure assets\n",
    "label_list = list(np.unique(df_grouped[categories].values))\n",
    "source = df_sankey['source'].apply(lambda x: label_list.index(x))\n",
    "target = df_sankey['target'].apply(lambda x: label_list.index(x))\n",
    "count = df_sankey['group_sum']\n",
    "\n",
    "# Compile figure\n",
    "fig = go.Figure(data=[go.Sankey(\n",
    "    node = {\n",
    "        'label': label_list,   #comment out to remove labels\n",
    "        'color': 'rgba(255, 255, 255, 0)'},\n",
    "    link = {'source': source, 'target': target, 'value': count},\n",
    "    textfont = {'color': 'rgba(0,0,0,0)'} #hides text labels from plot\n",
    "    )])\n",
    "\n",
    "# Add title, save and show figure\n",
    "fig.update_layout(title_text=f'{group_shortname} patient flow', font_size=12)\n",
    "# fig.write_html(f'{group_shortname.lower()}_sankey.html') #uncomment to save file as html, then open in browser\n",
    "fig.show()"
   ],
   "metadata": {
    "collapsed": false,
    "pycharm": {
     "name": "#%%\n"
    }
   }
  },
  {
   "cell_type": "code",
   "execution_count": 16,
   "outputs": [
    {
     "data": {
      "application/vnd.plotly.v1+json": {
       "data": [
        {
         "link": {
          "source": [
           0,
           0,
           1,
           1,
           2,
           2,
           3,
           3,
           4,
           4,
           5,
           5,
           5,
           5,
           5,
           5,
           5,
           5,
           8,
           8,
           9,
           9,
           10,
           10
          ],
          "target": [
           6,
           7,
           6,
           7,
           6,
           7,
           6,
           7,
           6,
           7,
           0,
           1,
           2,
           3,
           4,
           8,
           9,
           10,
           6,
           7,
           6,
           7,
           6,
           7
          ],
          "value": [
           256,
           588,
           1276,
           6500,
           12838,
           7386,
           3748,
           26065,
           30,
           2848,
           844,
           7776,
           20224,
           29813,
           2878,
           92,
           9737,
           14460,
           59,
           33,
           2491,
           7246,
           3813,
           10647
          ]
         },
         "node": {
          "color": "rgba(255, 255, 255, 0)",
          "label": [
           "AmbulatoryDetox",
           "AmbulatoryIntensiveOutpatient",
           "AmbulatoryNonIntensiveOutpatient",
           "Detox24hFreeStandingRes",
           "Detox24hHospitalInpatient",
           "Homeless",
           "MethUse",
           "NoMethUse",
           "RehabResHospitalNonDetox",
           "RehabResLongTerm",
           "RehabResShortTerm"
          ]
         },
         "textfont": {
          "color": "rgba(0,0,0,0)"
         },
         "type": "sankey"
        }
       ],
       "layout": {
        "template": {
         "data": {
          "histogram2dcontour": [
           {
            "type": "histogram2dcontour",
            "colorbar": {
             "outlinewidth": 0,
             "ticks": ""
            },
            "colorscale": [
             [
              0.0,
              "#0d0887"
             ],
             [
              0.1111111111111111,
              "#46039f"
             ],
             [
              0.2222222222222222,
              "#7201a8"
             ],
             [
              0.3333333333333333,
              "#9c179e"
             ],
             [
              0.4444444444444444,
              "#bd3786"
             ],
             [
              0.5555555555555556,
              "#d8576b"
             ],
             [
              0.6666666666666666,
              "#ed7953"
             ],
             [
              0.7777777777777778,
              "#fb9f3a"
             ],
             [
              0.8888888888888888,
              "#fdca26"
             ],
             [
              1.0,
              "#f0f921"
             ]
            ]
           }
          ],
          "choropleth": [
           {
            "type": "choropleth",
            "colorbar": {
             "outlinewidth": 0,
             "ticks": ""
            }
           }
          ],
          "histogram2d": [
           {
            "type": "histogram2d",
            "colorbar": {
             "outlinewidth": 0,
             "ticks": ""
            },
            "colorscale": [
             [
              0.0,
              "#0d0887"
             ],
             [
              0.1111111111111111,
              "#46039f"
             ],
             [
              0.2222222222222222,
              "#7201a8"
             ],
             [
              0.3333333333333333,
              "#9c179e"
             ],
             [
              0.4444444444444444,
              "#bd3786"
             ],
             [
              0.5555555555555556,
              "#d8576b"
             ],
             [
              0.6666666666666666,
              "#ed7953"
             ],
             [
              0.7777777777777778,
              "#fb9f3a"
             ],
             [
              0.8888888888888888,
              "#fdca26"
             ],
             [
              1.0,
              "#f0f921"
             ]
            ]
           }
          ],
          "heatmap": [
           {
            "type": "heatmap",
            "colorbar": {
             "outlinewidth": 0,
             "ticks": ""
            },
            "colorscale": [
             [
              0.0,
              "#0d0887"
             ],
             [
              0.1111111111111111,
              "#46039f"
             ],
             [
              0.2222222222222222,
              "#7201a8"
             ],
             [
              0.3333333333333333,
              "#9c179e"
             ],
             [
              0.4444444444444444,
              "#bd3786"
             ],
             [
              0.5555555555555556,
              "#d8576b"
             ],
             [
              0.6666666666666666,
              "#ed7953"
             ],
             [
              0.7777777777777778,
              "#fb9f3a"
             ],
             [
              0.8888888888888888,
              "#fdca26"
             ],
             [
              1.0,
              "#f0f921"
             ]
            ]
           }
          ],
          "heatmapgl": [
           {
            "type": "heatmapgl",
            "colorbar": {
             "outlinewidth": 0,
             "ticks": ""
            },
            "colorscale": [
             [
              0.0,
              "#0d0887"
             ],
             [
              0.1111111111111111,
              "#46039f"
             ],
             [
              0.2222222222222222,
              "#7201a8"
             ],
             [
              0.3333333333333333,
              "#9c179e"
             ],
             [
              0.4444444444444444,
              "#bd3786"
             ],
             [
              0.5555555555555556,
              "#d8576b"
             ],
             [
              0.6666666666666666,
              "#ed7953"
             ],
             [
              0.7777777777777778,
              "#fb9f3a"
             ],
             [
              0.8888888888888888,
              "#fdca26"
             ],
             [
              1.0,
              "#f0f921"
             ]
            ]
           }
          ],
          "contourcarpet": [
           {
            "type": "contourcarpet",
            "colorbar": {
             "outlinewidth": 0,
             "ticks": ""
            }
           }
          ],
          "contour": [
           {
            "type": "contour",
            "colorbar": {
             "outlinewidth": 0,
             "ticks": ""
            },
            "colorscale": [
             [
              0.0,
              "#0d0887"
             ],
             [
              0.1111111111111111,
              "#46039f"
             ],
             [
              0.2222222222222222,
              "#7201a8"
             ],
             [
              0.3333333333333333,
              "#9c179e"
             ],
             [
              0.4444444444444444,
              "#bd3786"
             ],
             [
              0.5555555555555556,
              "#d8576b"
             ],
             [
              0.6666666666666666,
              "#ed7953"
             ],
             [
              0.7777777777777778,
              "#fb9f3a"
             ],
             [
              0.8888888888888888,
              "#fdca26"
             ],
             [
              1.0,
              "#f0f921"
             ]
            ]
           }
          ],
          "surface": [
           {
            "type": "surface",
            "colorbar": {
             "outlinewidth": 0,
             "ticks": ""
            },
            "colorscale": [
             [
              0.0,
              "#0d0887"
             ],
             [
              0.1111111111111111,
              "#46039f"
             ],
             [
              0.2222222222222222,
              "#7201a8"
             ],
             [
              0.3333333333333333,
              "#9c179e"
             ],
             [
              0.4444444444444444,
              "#bd3786"
             ],
             [
              0.5555555555555556,
              "#d8576b"
             ],
             [
              0.6666666666666666,
              "#ed7953"
             ],
             [
              0.7777777777777778,
              "#fb9f3a"
             ],
             [
              0.8888888888888888,
              "#fdca26"
             ],
             [
              1.0,
              "#f0f921"
             ]
            ]
           }
          ],
          "mesh3d": [
           {
            "type": "mesh3d",
            "colorbar": {
             "outlinewidth": 0,
             "ticks": ""
            }
           }
          ],
          "scatter": [
           {
            "fillpattern": {
             "fillmode": "overlay",
             "size": 10,
             "solidity": 0.2
            },
            "type": "scatter"
           }
          ],
          "parcoords": [
           {
            "type": "parcoords",
            "line": {
             "colorbar": {
              "outlinewidth": 0,
              "ticks": ""
             }
            }
           }
          ],
          "scatterpolargl": [
           {
            "type": "scatterpolargl",
            "marker": {
             "colorbar": {
              "outlinewidth": 0,
              "ticks": ""
             }
            }
           }
          ],
          "bar": [
           {
            "error_x": {
             "color": "#2a3f5f"
            },
            "error_y": {
             "color": "#2a3f5f"
            },
            "marker": {
             "line": {
              "color": "#E5ECF6",
              "width": 0.5
             },
             "pattern": {
              "fillmode": "overlay",
              "size": 10,
              "solidity": 0.2
             }
            },
            "type": "bar"
           }
          ],
          "scattergeo": [
           {
            "type": "scattergeo",
            "marker": {
             "colorbar": {
              "outlinewidth": 0,
              "ticks": ""
             }
            }
           }
          ],
          "scatterpolar": [
           {
            "type": "scatterpolar",
            "marker": {
             "colorbar": {
              "outlinewidth": 0,
              "ticks": ""
             }
            }
           }
          ],
          "histogram": [
           {
            "marker": {
             "pattern": {
              "fillmode": "overlay",
              "size": 10,
              "solidity": 0.2
             }
            },
            "type": "histogram"
           }
          ],
          "scattergl": [
           {
            "type": "scattergl",
            "marker": {
             "colorbar": {
              "outlinewidth": 0,
              "ticks": ""
             }
            }
           }
          ],
          "scatter3d": [
           {
            "type": "scatter3d",
            "line": {
             "colorbar": {
              "outlinewidth": 0,
              "ticks": ""
             }
            },
            "marker": {
             "colorbar": {
              "outlinewidth": 0,
              "ticks": ""
             }
            }
           }
          ],
          "scattermapbox": [
           {
            "type": "scattermapbox",
            "marker": {
             "colorbar": {
              "outlinewidth": 0,
              "ticks": ""
             }
            }
           }
          ],
          "scatterternary": [
           {
            "type": "scatterternary",
            "marker": {
             "colorbar": {
              "outlinewidth": 0,
              "ticks": ""
             }
            }
           }
          ],
          "scattercarpet": [
           {
            "type": "scattercarpet",
            "marker": {
             "colorbar": {
              "outlinewidth": 0,
              "ticks": ""
             }
            }
           }
          ],
          "carpet": [
           {
            "aaxis": {
             "endlinecolor": "#2a3f5f",
             "gridcolor": "white",
             "linecolor": "white",
             "minorgridcolor": "white",
             "startlinecolor": "#2a3f5f"
            },
            "baxis": {
             "endlinecolor": "#2a3f5f",
             "gridcolor": "white",
             "linecolor": "white",
             "minorgridcolor": "white",
             "startlinecolor": "#2a3f5f"
            },
            "type": "carpet"
           }
          ],
          "table": [
           {
            "cells": {
             "fill": {
              "color": "#EBF0F8"
             },
             "line": {
              "color": "white"
             }
            },
            "header": {
             "fill": {
              "color": "#C8D4E3"
             },
             "line": {
              "color": "white"
             }
            },
            "type": "table"
           }
          ],
          "barpolar": [
           {
            "marker": {
             "line": {
              "color": "#E5ECF6",
              "width": 0.5
             },
             "pattern": {
              "fillmode": "overlay",
              "size": 10,
              "solidity": 0.2
             }
            },
            "type": "barpolar"
           }
          ],
          "pie": [
           {
            "automargin": true,
            "type": "pie"
           }
          ]
         },
         "layout": {
          "autotypenumbers": "strict",
          "colorway": [
           "#636efa",
           "#EF553B",
           "#00cc96",
           "#ab63fa",
           "#FFA15A",
           "#19d3f3",
           "#FF6692",
           "#B6E880",
           "#FF97FF",
           "#FECB52"
          ],
          "font": {
           "color": "#2a3f5f"
          },
          "hovermode": "closest",
          "hoverlabel": {
           "align": "left"
          },
          "paper_bgcolor": "white",
          "plot_bgcolor": "#E5ECF6",
          "polar": {
           "bgcolor": "#E5ECF6",
           "angularaxis": {
            "gridcolor": "white",
            "linecolor": "white",
            "ticks": ""
           },
           "radialaxis": {
            "gridcolor": "white",
            "linecolor": "white",
            "ticks": ""
           }
          },
          "ternary": {
           "bgcolor": "#E5ECF6",
           "aaxis": {
            "gridcolor": "white",
            "linecolor": "white",
            "ticks": ""
           },
           "baxis": {
            "gridcolor": "white",
            "linecolor": "white",
            "ticks": ""
           },
           "caxis": {
            "gridcolor": "white",
            "linecolor": "white",
            "ticks": ""
           }
          },
          "coloraxis": {
           "colorbar": {
            "outlinewidth": 0,
            "ticks": ""
           }
          },
          "colorscale": {
           "sequential": [
            [
             0.0,
             "#0d0887"
            ],
            [
             0.1111111111111111,
             "#46039f"
            ],
            [
             0.2222222222222222,
             "#7201a8"
            ],
            [
             0.3333333333333333,
             "#9c179e"
            ],
            [
             0.4444444444444444,
             "#bd3786"
            ],
            [
             0.5555555555555556,
             "#d8576b"
            ],
            [
             0.6666666666666666,
             "#ed7953"
            ],
            [
             0.7777777777777778,
             "#fb9f3a"
            ],
            [
             0.8888888888888888,
             "#fdca26"
            ],
            [
             1.0,
             "#f0f921"
            ]
           ],
           "sequentialminus": [
            [
             0.0,
             "#0d0887"
            ],
            [
             0.1111111111111111,
             "#46039f"
            ],
            [
             0.2222222222222222,
             "#7201a8"
            ],
            [
             0.3333333333333333,
             "#9c179e"
            ],
            [
             0.4444444444444444,
             "#bd3786"
            ],
            [
             0.5555555555555556,
             "#d8576b"
            ],
            [
             0.6666666666666666,
             "#ed7953"
            ],
            [
             0.7777777777777778,
             "#fb9f3a"
            ],
            [
             0.8888888888888888,
             "#fdca26"
            ],
            [
             1.0,
             "#f0f921"
            ]
           ],
           "diverging": [
            [
             0,
             "#8e0152"
            ],
            [
             0.1,
             "#c51b7d"
            ],
            [
             0.2,
             "#de77ae"
            ],
            [
             0.3,
             "#f1b6da"
            ],
            [
             0.4,
             "#fde0ef"
            ],
            [
             0.5,
             "#f7f7f7"
            ],
            [
             0.6,
             "#e6f5d0"
            ],
            [
             0.7,
             "#b8e186"
            ],
            [
             0.8,
             "#7fbc41"
            ],
            [
             0.9,
             "#4d9221"
            ],
            [
             1,
             "#276419"
            ]
           ]
          },
          "xaxis": {
           "gridcolor": "white",
           "linecolor": "white",
           "ticks": "",
           "title": {
            "standoff": 15
           },
           "zerolinecolor": "white",
           "automargin": true,
           "zerolinewidth": 2
          },
          "yaxis": {
           "gridcolor": "white",
           "linecolor": "white",
           "ticks": "",
           "title": {
            "standoff": 15
           },
           "zerolinecolor": "white",
           "automargin": true,
           "zerolinewidth": 2
          },
          "scene": {
           "xaxis": {
            "backgroundcolor": "#E5ECF6",
            "gridcolor": "white",
            "linecolor": "white",
            "showbackground": true,
            "ticks": "",
            "zerolinecolor": "white",
            "gridwidth": 2
           },
           "yaxis": {
            "backgroundcolor": "#E5ECF6",
            "gridcolor": "white",
            "linecolor": "white",
            "showbackground": true,
            "ticks": "",
            "zerolinecolor": "white",
            "gridwidth": 2
           },
           "zaxis": {
            "backgroundcolor": "#E5ECF6",
            "gridcolor": "white",
            "linecolor": "white",
            "showbackground": true,
            "ticks": "",
            "zerolinecolor": "white",
            "gridwidth": 2
           }
          },
          "shapedefaults": {
           "line": {
            "color": "#2a3f5f"
           }
          },
          "annotationdefaults": {
           "arrowcolor": "#2a3f5f",
           "arrowhead": 0,
           "arrowwidth": 1
          },
          "geo": {
           "bgcolor": "white",
           "landcolor": "#E5ECF6",
           "subunitcolor": "white",
           "showland": true,
           "showlakes": true,
           "lakecolor": "white"
          },
          "title": {
           "x": 0.05
          },
          "mapbox": {
           "style": "light"
          }
         }
        },
        "title": {
         "text": "Homeless patient flow"
        },
        "font": {
         "size": 12
        }
       },
       "config": {
        "plotlyServerURL": "https://plot.ly"
       }
      },
      "text/html": "<div>                            <div id=\"5d9f931b-bfec-4de7-92a2-8dfce8e9c486\" class=\"plotly-graph-div\" style=\"height:525px; width:100%;\"></div>            <script type=\"text/javascript\">                require([\"plotly\"], function(Plotly) {                    window.PLOTLYENV=window.PLOTLYENV || {};                                    if (document.getElementById(\"5d9f931b-bfec-4de7-92a2-8dfce8e9c486\")) {                    Plotly.newPlot(                        \"5d9f931b-bfec-4de7-92a2-8dfce8e9c486\",                        [{\"link\":{\"source\":[0,0,1,1,2,2,3,3,4,4,5,5,5,5,5,5,5,5,8,8,9,9,10,10],\"target\":[6,7,6,7,6,7,6,7,6,7,0,1,2,3,4,8,9,10,6,7,6,7,6,7],\"value\":[256,588,1276,6500,12838,7386,3748,26065,30,2848,844,7776,20224,29813,2878,92,9737,14460,59,33,2491,7246,3813,10647]},\"node\":{\"color\":\"rgba(255, 255, 255, 0)\",\"label\":[\"AmbulatoryDetox\",\"AmbulatoryIntensiveOutpatient\",\"AmbulatoryNonIntensiveOutpatient\",\"Detox24hFreeStandingRes\",\"Detox24hHospitalInpatient\",\"Homeless\",\"MethUse\",\"NoMethUse\",\"RehabResHospitalNonDetox\",\"RehabResLongTerm\",\"RehabResShortTerm\"]},\"textfont\":{\"color\":\"rgba(0,0,0,0)\"},\"type\":\"sankey\"}],                        {\"template\":{\"data\":{\"histogram2dcontour\":[{\"type\":\"histogram2dcontour\",\"colorbar\":{\"outlinewidth\":0,\"ticks\":\"\"},\"colorscale\":[[0.0,\"#0d0887\"],[0.1111111111111111,\"#46039f\"],[0.2222222222222222,\"#7201a8\"],[0.3333333333333333,\"#9c179e\"],[0.4444444444444444,\"#bd3786\"],[0.5555555555555556,\"#d8576b\"],[0.6666666666666666,\"#ed7953\"],[0.7777777777777778,\"#fb9f3a\"],[0.8888888888888888,\"#fdca26\"],[1.0,\"#f0f921\"]]}],\"choropleth\":[{\"type\":\"choropleth\",\"colorbar\":{\"outlinewidth\":0,\"ticks\":\"\"}}],\"histogram2d\":[{\"type\":\"histogram2d\",\"colorbar\":{\"outlinewidth\":0,\"ticks\":\"\"},\"colorscale\":[[0.0,\"#0d0887\"],[0.1111111111111111,\"#46039f\"],[0.2222222222222222,\"#7201a8\"],[0.3333333333333333,\"#9c179e\"],[0.4444444444444444,\"#bd3786\"],[0.5555555555555556,\"#d8576b\"],[0.6666666666666666,\"#ed7953\"],[0.7777777777777778,\"#fb9f3a\"],[0.8888888888888888,\"#fdca26\"],[1.0,\"#f0f921\"]]}],\"heatmap\":[{\"type\":\"heatmap\",\"colorbar\":{\"outlinewidth\":0,\"ticks\":\"\"},\"colorscale\":[[0.0,\"#0d0887\"],[0.1111111111111111,\"#46039f\"],[0.2222222222222222,\"#7201a8\"],[0.3333333333333333,\"#9c179e\"],[0.4444444444444444,\"#bd3786\"],[0.5555555555555556,\"#d8576b\"],[0.6666666666666666,\"#ed7953\"],[0.7777777777777778,\"#fb9f3a\"],[0.8888888888888888,\"#fdca26\"],[1.0,\"#f0f921\"]]}],\"heatmapgl\":[{\"type\":\"heatmapgl\",\"colorbar\":{\"outlinewidth\":0,\"ticks\":\"\"},\"colorscale\":[[0.0,\"#0d0887\"],[0.1111111111111111,\"#46039f\"],[0.2222222222222222,\"#7201a8\"],[0.3333333333333333,\"#9c179e\"],[0.4444444444444444,\"#bd3786\"],[0.5555555555555556,\"#d8576b\"],[0.6666666666666666,\"#ed7953\"],[0.7777777777777778,\"#fb9f3a\"],[0.8888888888888888,\"#fdca26\"],[1.0,\"#f0f921\"]]}],\"contourcarpet\":[{\"type\":\"contourcarpet\",\"colorbar\":{\"outlinewidth\":0,\"ticks\":\"\"}}],\"contour\":[{\"type\":\"contour\",\"colorbar\":{\"outlinewidth\":0,\"ticks\":\"\"},\"colorscale\":[[0.0,\"#0d0887\"],[0.1111111111111111,\"#46039f\"],[0.2222222222222222,\"#7201a8\"],[0.3333333333333333,\"#9c179e\"],[0.4444444444444444,\"#bd3786\"],[0.5555555555555556,\"#d8576b\"],[0.6666666666666666,\"#ed7953\"],[0.7777777777777778,\"#fb9f3a\"],[0.8888888888888888,\"#fdca26\"],[1.0,\"#f0f921\"]]}],\"surface\":[{\"type\":\"surface\",\"colorbar\":{\"outlinewidth\":0,\"ticks\":\"\"},\"colorscale\":[[0.0,\"#0d0887\"],[0.1111111111111111,\"#46039f\"],[0.2222222222222222,\"#7201a8\"],[0.3333333333333333,\"#9c179e\"],[0.4444444444444444,\"#bd3786\"],[0.5555555555555556,\"#d8576b\"],[0.6666666666666666,\"#ed7953\"],[0.7777777777777778,\"#fb9f3a\"],[0.8888888888888888,\"#fdca26\"],[1.0,\"#f0f921\"]]}],\"mesh3d\":[{\"type\":\"mesh3d\",\"colorbar\":{\"outlinewidth\":0,\"ticks\":\"\"}}],\"scatter\":[{\"fillpattern\":{\"fillmode\":\"overlay\",\"size\":10,\"solidity\":0.2},\"type\":\"scatter\"}],\"parcoords\":[{\"type\":\"parcoords\",\"line\":{\"colorbar\":{\"outlinewidth\":0,\"ticks\":\"\"}}}],\"scatterpolargl\":[{\"type\":\"scatterpolargl\",\"marker\":{\"colorbar\":{\"outlinewidth\":0,\"ticks\":\"\"}}}],\"bar\":[{\"error_x\":{\"color\":\"#2a3f5f\"},\"error_y\":{\"color\":\"#2a3f5f\"},\"marker\":{\"line\":{\"color\":\"#E5ECF6\",\"width\":0.5},\"pattern\":{\"fillmode\":\"overlay\",\"size\":10,\"solidity\":0.2}},\"type\":\"bar\"}],\"scattergeo\":[{\"type\":\"scattergeo\",\"marker\":{\"colorbar\":{\"outlinewidth\":0,\"ticks\":\"\"}}}],\"scatterpolar\":[{\"type\":\"scatterpolar\",\"marker\":{\"colorbar\":{\"outlinewidth\":0,\"ticks\":\"\"}}}],\"histogram\":[{\"marker\":{\"pattern\":{\"fillmode\":\"overlay\",\"size\":10,\"solidity\":0.2}},\"type\":\"histogram\"}],\"scattergl\":[{\"type\":\"scattergl\",\"marker\":{\"colorbar\":{\"outlinewidth\":0,\"ticks\":\"\"}}}],\"scatter3d\":[{\"type\":\"scatter3d\",\"line\":{\"colorbar\":{\"outlinewidth\":0,\"ticks\":\"\"}},\"marker\":{\"colorbar\":{\"outlinewidth\":0,\"ticks\":\"\"}}}],\"scattermapbox\":[{\"type\":\"scattermapbox\",\"marker\":{\"colorbar\":{\"outlinewidth\":0,\"ticks\":\"\"}}}],\"scatterternary\":[{\"type\":\"scatterternary\",\"marker\":{\"colorbar\":{\"outlinewidth\":0,\"ticks\":\"\"}}}],\"scattercarpet\":[{\"type\":\"scattercarpet\",\"marker\":{\"colorbar\":{\"outlinewidth\":0,\"ticks\":\"\"}}}],\"carpet\":[{\"aaxis\":{\"endlinecolor\":\"#2a3f5f\",\"gridcolor\":\"white\",\"linecolor\":\"white\",\"minorgridcolor\":\"white\",\"startlinecolor\":\"#2a3f5f\"},\"baxis\":{\"endlinecolor\":\"#2a3f5f\",\"gridcolor\":\"white\",\"linecolor\":\"white\",\"minorgridcolor\":\"white\",\"startlinecolor\":\"#2a3f5f\"},\"type\":\"carpet\"}],\"table\":[{\"cells\":{\"fill\":{\"color\":\"#EBF0F8\"},\"line\":{\"color\":\"white\"}},\"header\":{\"fill\":{\"color\":\"#C8D4E3\"},\"line\":{\"color\":\"white\"}},\"type\":\"table\"}],\"barpolar\":[{\"marker\":{\"line\":{\"color\":\"#E5ECF6\",\"width\":0.5},\"pattern\":{\"fillmode\":\"overlay\",\"size\":10,\"solidity\":0.2}},\"type\":\"barpolar\"}],\"pie\":[{\"automargin\":true,\"type\":\"pie\"}]},\"layout\":{\"autotypenumbers\":\"strict\",\"colorway\":[\"#636efa\",\"#EF553B\",\"#00cc96\",\"#ab63fa\",\"#FFA15A\",\"#19d3f3\",\"#FF6692\",\"#B6E880\",\"#FF97FF\",\"#FECB52\"],\"font\":{\"color\":\"#2a3f5f\"},\"hovermode\":\"closest\",\"hoverlabel\":{\"align\":\"left\"},\"paper_bgcolor\":\"white\",\"plot_bgcolor\":\"#E5ECF6\",\"polar\":{\"bgcolor\":\"#E5ECF6\",\"angularaxis\":{\"gridcolor\":\"white\",\"linecolor\":\"white\",\"ticks\":\"\"},\"radialaxis\":{\"gridcolor\":\"white\",\"linecolor\":\"white\",\"ticks\":\"\"}},\"ternary\":{\"bgcolor\":\"#E5ECF6\",\"aaxis\":{\"gridcolor\":\"white\",\"linecolor\":\"white\",\"ticks\":\"\"},\"baxis\":{\"gridcolor\":\"white\",\"linecolor\":\"white\",\"ticks\":\"\"},\"caxis\":{\"gridcolor\":\"white\",\"linecolor\":\"white\",\"ticks\":\"\"}},\"coloraxis\":{\"colorbar\":{\"outlinewidth\":0,\"ticks\":\"\"}},\"colorscale\":{\"sequential\":[[0.0,\"#0d0887\"],[0.1111111111111111,\"#46039f\"],[0.2222222222222222,\"#7201a8\"],[0.3333333333333333,\"#9c179e\"],[0.4444444444444444,\"#bd3786\"],[0.5555555555555556,\"#d8576b\"],[0.6666666666666666,\"#ed7953\"],[0.7777777777777778,\"#fb9f3a\"],[0.8888888888888888,\"#fdca26\"],[1.0,\"#f0f921\"]],\"sequentialminus\":[[0.0,\"#0d0887\"],[0.1111111111111111,\"#46039f\"],[0.2222222222222222,\"#7201a8\"],[0.3333333333333333,\"#9c179e\"],[0.4444444444444444,\"#bd3786\"],[0.5555555555555556,\"#d8576b\"],[0.6666666666666666,\"#ed7953\"],[0.7777777777777778,\"#fb9f3a\"],[0.8888888888888888,\"#fdca26\"],[1.0,\"#f0f921\"]],\"diverging\":[[0,\"#8e0152\"],[0.1,\"#c51b7d\"],[0.2,\"#de77ae\"],[0.3,\"#f1b6da\"],[0.4,\"#fde0ef\"],[0.5,\"#f7f7f7\"],[0.6,\"#e6f5d0\"],[0.7,\"#b8e186\"],[0.8,\"#7fbc41\"],[0.9,\"#4d9221\"],[1,\"#276419\"]]},\"xaxis\":{\"gridcolor\":\"white\",\"linecolor\":\"white\",\"ticks\":\"\",\"title\":{\"standoff\":15},\"zerolinecolor\":\"white\",\"automargin\":true,\"zerolinewidth\":2},\"yaxis\":{\"gridcolor\":\"white\",\"linecolor\":\"white\",\"ticks\":\"\",\"title\":{\"standoff\":15},\"zerolinecolor\":\"white\",\"automargin\":true,\"zerolinewidth\":2},\"scene\":{\"xaxis\":{\"backgroundcolor\":\"#E5ECF6\",\"gridcolor\":\"white\",\"linecolor\":\"white\",\"showbackground\":true,\"ticks\":\"\",\"zerolinecolor\":\"white\",\"gridwidth\":2},\"yaxis\":{\"backgroundcolor\":\"#E5ECF6\",\"gridcolor\":\"white\",\"linecolor\":\"white\",\"showbackground\":true,\"ticks\":\"\",\"zerolinecolor\":\"white\",\"gridwidth\":2},\"zaxis\":{\"backgroundcolor\":\"#E5ECF6\",\"gridcolor\":\"white\",\"linecolor\":\"white\",\"showbackground\":true,\"ticks\":\"\",\"zerolinecolor\":\"white\",\"gridwidth\":2}},\"shapedefaults\":{\"line\":{\"color\":\"#2a3f5f\"}},\"annotationdefaults\":{\"arrowcolor\":\"#2a3f5f\",\"arrowhead\":0,\"arrowwidth\":1},\"geo\":{\"bgcolor\":\"white\",\"landcolor\":\"#E5ECF6\",\"subunitcolor\":\"white\",\"showland\":true,\"showlakes\":true,\"lakecolor\":\"white\"},\"title\":{\"x\":0.05},\"mapbox\":{\"style\":\"light\"}}},\"title\":{\"text\":\"Homeless patient flow\"},\"font\":{\"size\":12}},                        {\"responsive\": true}                    ).then(function(){\n                            \nvar gd = document.getElementById('5d9f931b-bfec-4de7-92a2-8dfce8e9c486');\nvar x = new MutationObserver(function (mutations, observer) {{\n        var display = window.getComputedStyle(gd).display;\n        if (!display || display === 'none') {{\n            console.log([gd, 'removed!']);\n            Plotly.purge(gd);\n            observer.disconnect();\n        }}\n}});\n\n// Listen for the removal of the full notebook cells\nvar notebookContainer = gd.closest('#notebook-container');\nif (notebookContainer) {{\n    x.observe(notebookContainer, {childList: true});\n}}\n\n// Listen for the clearing of the current output cell\nvar outputEl = gd.closest('.output');\nif (outputEl) {{\n    x.observe(outputEl, {childList: true});\n}}\n\n                        })                };                });            </script>        </div>"
     },
     "metadata": {},
     "output_type": "display_data"
    }
   ],
   "source": [
    "import plotly.graph_objects as go\n",
    "\n",
    "# Define group of interest\n",
    "group_fullname = 'Homeless'\n",
    "group_shortname = 'Homeless'\n",
    "\n",
    "# Define grouped dataframe\n",
    "df_grouped = df2[['LIVARAG', 'PSOURCE_DETCRIM', 'SERVICES', 'METHUSE']].copy()\n",
    "df_grouped = df_grouped[df_grouped['LIVARAG']==group_fullname]\n",
    "df_grouped = df_grouped.groupby(['LIVARAG', 'SERVICES', 'METHUSE']).count().rename(columns={'PSOURCE_DETCRIM':'admitted'})\n",
    "df_grouped = df_grouped.reset_index()\n",
    "\n",
    "# Further process dataframe\n",
    "categories = ['LIVARAG', 'SERVICES', 'METHUSE']\n",
    "df_temp1 = pd.DataFrame()\n",
    "for i in range(len(categories)-1):\n",
    "    df_temp2 = df_grouped[[categories[i],categories[i+1],'admitted']]\n",
    "    df_temp2.columns = ['source','target','admitted']\n",
    "    df_temp1 = pd.concat([df_temp1, df_temp2])\n",
    "df_sankey = df_temp1.groupby(['source', 'target']).agg({'admitted':'sum'}).rename(columns={'admitted': 'group_sum'})\n",
    "df_sankey = df_sankey.reset_index()\n",
    "# df_sankey.to_csv('df_sankey_homeless.csv')\n",
    "\n",
    "# Define figure assets\n",
    "label_list = list(np.unique(df_grouped[categories].values))\n",
    "source = df_sankey['source'].apply(lambda x: label_list.index(x))\n",
    "target = df_sankey['target'].apply(lambda x: label_list.index(x))\n",
    "count = df_sankey['group_sum']\n",
    "\n",
    "# Compile figure\n",
    "fig = go.Figure(data=[go.Sankey(\n",
    "    node = {\n",
    "        'label': label_list,   #comment out to remove labels\n",
    "        'color': 'rgba(255, 255, 255, 0)'},\n",
    "    link = {'source': source, 'target': target, 'value': count},\n",
    "    textfont = {'color': 'rgba(0,0,0,0)'} #hides text labels from plot\n",
    "    )])\n",
    "\n",
    "# Add title, save and show figure\n",
    "fig.update_layout(title_text=f'{group_shortname} patient flow', font_size=12)\n",
    "# fig.write_html(f'{group_shortname.lower()}_sankey.html') #uncomment to save file as html, then open in browser\n",
    "fig.show()"
   ],
   "metadata": {
    "collapsed": false,
    "pycharm": {
     "name": "#%%\n"
    }
   }
  },
  {
   "cell_type": "code",
   "execution_count": 13,
   "outputs": [],
   "source": [],
   "metadata": {
    "collapsed": false,
    "pycharm": {
     "name": "#%%\n"
    }
   }
  }
 ],
 "metadata": {
  "kernelspec": {
   "display_name": "Python 3",
   "language": "python",
   "name": "python3"
  },
  "language_info": {
   "codemirror_mode": {
    "name": "ipython",
    "version": 2
   },
   "file_extension": ".py",
   "mimetype": "text/x-python",
   "name": "python",
   "nbconvert_exporter": "python",
   "pygments_lexer": "ipython2",
   "version": "2.7.6"
  }
 },
 "nbformat": 4,
 "nbformat_minor": 0
}