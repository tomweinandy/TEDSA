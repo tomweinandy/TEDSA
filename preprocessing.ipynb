{
 "cells": [
  {
   "cell_type": "code",
   "execution_count": 44,
   "metadata": {
    "collapsed": true
   },
   "outputs": [
    {
     "name": "stdout",
     "output_type": "stream",
     "text": [
      "Dropped 3 columns (59 remain\n",
      "Dropped 1298757 observations or 70.0% of the data 565610 rows remaining\n"
     ]
    }
   ],
   "source": [
    "import pandas as pd\n",
    "import ast\n",
    "\n",
    "# Load in data\n",
    "admissions = 'tedsa_puf_2019.csv'\n",
    "df = pd.read_csv(f'../../Downloads/{admissions}')\n",
    "\n",
    "# Drop defined columns\n",
    "columns_to_drop = ['ADMYR', 'CASEID', 'DETNLF', 'DETCRIM']\n",
    "df = df.drop(columns=columns_to_drop)\n",
    "print(f'Dropped {len(columns_to_drop)} columns ({len(df.columns)} remain)')\n",
    "\n",
    "# Only keep patients admitted with self-described use of an opioid as their primary substance use\n",
    "old_rows = len(df)\n",
    "df = df[df['SUB1'].between(5, 7)]\n",
    "new_rows = len(df)\n",
    "percent_change = round((old_rows-new_rows)/old_rows, 1)*100\n",
    "print(f'Dropped {old_rows-new_rows} observations or {percent_change}% of the data {new_rows} rows remain)')\n",
    "\n",
    "df = df.reset_index(drop='index')"
   ]
  },
  {
   "cell_type": "code",
   "execution_count": 40,
   "outputs": [
    {
     "data": {
      "text/plain": "        STFIPS  CBSA2010  EDUC  MARSTAT  SERVICES  DETCRIM  NOPRIOR  PSOURCE  \\\n0            2        -9     2        1         7       -9        3        1   \n1            2        -9     3        1         7       -9        2        3   \n2            2        -9     1        2         7       -9        5        2   \n3            2        -9     3        1         7       -9        3        3   \n4            2        -9     3        1         7       -9        1        2   \n...        ...       ...   ...      ...       ...      ...      ...      ...   \n565605      56        -9    -9        2         6       -9        0        6   \n565606      56        -9    -9        2         6        1        2        7   \n565607      56        -9     3        1         7       -9        3        2   \n565608      56        -9     1        1         7        3        0        7   \n565609      56        -9     2        1         7        3        0        7   \n\n        ARRESTS  EMPLOY  ...  TRNQFLG  BARBFLG  SEDHPFLG  INHFLG  OTCFLG  \\\n0             0       3  ...        0        0         0       0       0   \n1             0       4  ...        0        0         0       0       0   \n2             0       4  ...        0        0         0       0       0   \n3             0       4  ...        0        0         0       0       0   \n4             0       2  ...        0        0         0       0       0   \n...         ...     ...  ...      ...      ...       ...     ...     ...   \n565605        0       3  ...        0        0         0       0       0   \n565606        0       3  ...        0        0         0       0       0   \n565607        0       3  ...        0        0         1       0       0   \n565608        0       4  ...        0        0         0       0       0   \n565609        0       4  ...        0        0         0       0       0   \n\n        OTHERFLG  DIVISION  REGION  IDU  ALCDRUG  \n0              0         9       4    1        3  \n1              0         9       4    1        2  \n2              0         9       4    1        2  \n3              0         9       4    1        2  \n4              0         9       4    1        2  \n...          ...       ...     ...  ...      ...  \n565605         0         8       4    0        2  \n565606         0         8       4    0        2  \n565607         0         8       4    0        3  \n565608         0         8       4    0        2  \n565609         1         8       4    0        2  \n\n[565610 rows x 59 columns]",
      "text/html": "<div>\n<style scoped>\n    .dataframe tbody tr th:only-of-type {\n        vertical-align: middle;\n    }\n\n    .dataframe tbody tr th {\n        vertical-align: top;\n    }\n\n    .dataframe thead th {\n        text-align: right;\n    }\n</style>\n<table border=\"1\" class=\"dataframe\">\n  <thead>\n    <tr style=\"text-align: right;\">\n      <th></th>\n      <th>STFIPS</th>\n      <th>CBSA2010</th>\n      <th>EDUC</th>\n      <th>MARSTAT</th>\n      <th>SERVICES</th>\n      <th>DETCRIM</th>\n      <th>NOPRIOR</th>\n      <th>PSOURCE</th>\n      <th>ARRESTS</th>\n      <th>EMPLOY</th>\n      <th>...</th>\n      <th>TRNQFLG</th>\n      <th>BARBFLG</th>\n      <th>SEDHPFLG</th>\n      <th>INHFLG</th>\n      <th>OTCFLG</th>\n      <th>OTHERFLG</th>\n      <th>DIVISION</th>\n      <th>REGION</th>\n      <th>IDU</th>\n      <th>ALCDRUG</th>\n    </tr>\n  </thead>\n  <tbody>\n    <tr>\n      <th>0</th>\n      <td>2</td>\n      <td>-9</td>\n      <td>2</td>\n      <td>1</td>\n      <td>7</td>\n      <td>-9</td>\n      <td>3</td>\n      <td>1</td>\n      <td>0</td>\n      <td>3</td>\n      <td>...</td>\n      <td>0</td>\n      <td>0</td>\n      <td>0</td>\n      <td>0</td>\n      <td>0</td>\n      <td>0</td>\n      <td>9</td>\n      <td>4</td>\n      <td>1</td>\n      <td>3</td>\n    </tr>\n    <tr>\n      <th>1</th>\n      <td>2</td>\n      <td>-9</td>\n      <td>3</td>\n      <td>1</td>\n      <td>7</td>\n      <td>-9</td>\n      <td>2</td>\n      <td>3</td>\n      <td>0</td>\n      <td>4</td>\n      <td>...</td>\n      <td>0</td>\n      <td>0</td>\n      <td>0</td>\n      <td>0</td>\n      <td>0</td>\n      <td>0</td>\n      <td>9</td>\n      <td>4</td>\n      <td>1</td>\n      <td>2</td>\n    </tr>\n    <tr>\n      <th>2</th>\n      <td>2</td>\n      <td>-9</td>\n      <td>1</td>\n      <td>2</td>\n      <td>7</td>\n      <td>-9</td>\n      <td>5</td>\n      <td>2</td>\n      <td>0</td>\n      <td>4</td>\n      <td>...</td>\n      <td>0</td>\n      <td>0</td>\n      <td>0</td>\n      <td>0</td>\n      <td>0</td>\n      <td>0</td>\n      <td>9</td>\n      <td>4</td>\n      <td>1</td>\n      <td>2</td>\n    </tr>\n    <tr>\n      <th>3</th>\n      <td>2</td>\n      <td>-9</td>\n      <td>3</td>\n      <td>1</td>\n      <td>7</td>\n      <td>-9</td>\n      <td>3</td>\n      <td>3</td>\n      <td>0</td>\n      <td>4</td>\n      <td>...</td>\n      <td>0</td>\n      <td>0</td>\n      <td>0</td>\n      <td>0</td>\n      <td>0</td>\n      <td>0</td>\n      <td>9</td>\n      <td>4</td>\n      <td>1</td>\n      <td>2</td>\n    </tr>\n    <tr>\n      <th>4</th>\n      <td>2</td>\n      <td>-9</td>\n      <td>3</td>\n      <td>1</td>\n      <td>7</td>\n      <td>-9</td>\n      <td>1</td>\n      <td>2</td>\n      <td>0</td>\n      <td>2</td>\n      <td>...</td>\n      <td>0</td>\n      <td>0</td>\n      <td>0</td>\n      <td>0</td>\n      <td>0</td>\n      <td>0</td>\n      <td>9</td>\n      <td>4</td>\n      <td>1</td>\n      <td>2</td>\n    </tr>\n    <tr>\n      <th>...</th>\n      <td>...</td>\n      <td>...</td>\n      <td>...</td>\n      <td>...</td>\n      <td>...</td>\n      <td>...</td>\n      <td>...</td>\n      <td>...</td>\n      <td>...</td>\n      <td>...</td>\n      <td>...</td>\n      <td>...</td>\n      <td>...</td>\n      <td>...</td>\n      <td>...</td>\n      <td>...</td>\n      <td>...</td>\n      <td>...</td>\n      <td>...</td>\n      <td>...</td>\n      <td>...</td>\n    </tr>\n    <tr>\n      <th>565605</th>\n      <td>56</td>\n      <td>-9</td>\n      <td>-9</td>\n      <td>2</td>\n      <td>6</td>\n      <td>-9</td>\n      <td>0</td>\n      <td>6</td>\n      <td>0</td>\n      <td>3</td>\n      <td>...</td>\n      <td>0</td>\n      <td>0</td>\n      <td>0</td>\n      <td>0</td>\n      <td>0</td>\n      <td>0</td>\n      <td>8</td>\n      <td>4</td>\n      <td>0</td>\n      <td>2</td>\n    </tr>\n    <tr>\n      <th>565606</th>\n      <td>56</td>\n      <td>-9</td>\n      <td>-9</td>\n      <td>2</td>\n      <td>6</td>\n      <td>1</td>\n      <td>2</td>\n      <td>7</td>\n      <td>0</td>\n      <td>3</td>\n      <td>...</td>\n      <td>0</td>\n      <td>0</td>\n      <td>0</td>\n      <td>0</td>\n      <td>0</td>\n      <td>0</td>\n      <td>8</td>\n      <td>4</td>\n      <td>0</td>\n      <td>2</td>\n    </tr>\n    <tr>\n      <th>565607</th>\n      <td>56</td>\n      <td>-9</td>\n      <td>3</td>\n      <td>1</td>\n      <td>7</td>\n      <td>-9</td>\n      <td>3</td>\n      <td>2</td>\n      <td>0</td>\n      <td>3</td>\n      <td>...</td>\n      <td>0</td>\n      <td>0</td>\n      <td>1</td>\n      <td>0</td>\n      <td>0</td>\n      <td>0</td>\n      <td>8</td>\n      <td>4</td>\n      <td>0</td>\n      <td>3</td>\n    </tr>\n    <tr>\n      <th>565608</th>\n      <td>56</td>\n      <td>-9</td>\n      <td>1</td>\n      <td>1</td>\n      <td>7</td>\n      <td>3</td>\n      <td>0</td>\n      <td>7</td>\n      <td>0</td>\n      <td>4</td>\n      <td>...</td>\n      <td>0</td>\n      <td>0</td>\n      <td>0</td>\n      <td>0</td>\n      <td>0</td>\n      <td>0</td>\n      <td>8</td>\n      <td>4</td>\n      <td>0</td>\n      <td>2</td>\n    </tr>\n    <tr>\n      <th>565609</th>\n      <td>56</td>\n      <td>-9</td>\n      <td>2</td>\n      <td>1</td>\n      <td>7</td>\n      <td>3</td>\n      <td>0</td>\n      <td>7</td>\n      <td>0</td>\n      <td>4</td>\n      <td>...</td>\n      <td>0</td>\n      <td>0</td>\n      <td>0</td>\n      <td>0</td>\n      <td>0</td>\n      <td>1</td>\n      <td>8</td>\n      <td>4</td>\n      <td>0</td>\n      <td>2</td>\n    </tr>\n  </tbody>\n</table>\n<p>565610 rows × 59 columns</p>\n</div>"
     },
     "execution_count": 40,
     "metadata": {},
     "output_type": "execute_result"
    }
   ],
   "source": [
    "df"
   ],
   "metadata": {
    "collapsed": false,
    "pycharm": {
     "name": "#%%\n"
    }
   }
  },
  {
   "cell_type": "code",
   "execution_count": 25,
   "outputs": [
    {
     "name": "stdout",
     "output_type": "stream",
     "text": [
      "<class 'dict'>\n"
     ]
    }
   ],
   "source": [
    "# Load in variable dictionary\n",
    "with open('variable_dictionary.txt') as file:\n",
    "    variable_dict_string = file.read()\n",
    "    variable_dict = ast.literal_eval(variable_dict_string)\n",
    "\n",
    "# todo Rename \"-9\" values as \"Unknown\"\n",
    "\n",
    "# Rename entries in column according to dictionary\n",
    "df2 = df.copy()\n",
    "for col, col_dict in variable_dict.items():\n",
    "    # print(col, type(variable_dict[col]))\n",
    "    for old_value, new_value in variable_dict[col].items():\n",
    "        df2[col] = df2[col].replace(old_value, new_value)"
   ],
   "metadata": {
    "collapsed": false,
    "pycharm": {
     "name": "#%%\n"
    }
   }
  },
  {
   "cell_type": "code",
   "execution_count": 26,
   "outputs": [
    {
     "data": {
      "text/plain": "         STFIPS  CBSA2010          EDUC            MARSTAT  SERVICES  DETCRIM  \\\n0             2        -9   GradeOrLess       NeverMarried         7       -9   \n1             2        -9  Grade12OrGED         NowMarried         7       -9   \n2             2        -9  Grade12OrGED         NowMarried         7       -9   \n3             2        -9  1To3yCollege       NeverMarried         7       -9   \n4             2        -9  1To3yCollege       NeverMarried         7       -9   \n...         ...       ...           ...                ...       ...      ...   \n1864362      56        -9   GradeOrLess       NeverMarried         6        3   \n1864363      56        -9    Grade9To11       NeverMarried         7        3   \n1864364      56        -9    Grade9To11       NeverMarried         7        3   \n1864365      56        -9   GradeOrLess       NeverMarried         7        3   \n1864366      56        -9  Grade12OrGED  DivorcedOrWidowed         7        3   \n\n         NOPRIOR  PSOURCE  ARRESTS           EMPLOY  ...  TRNQFLG  BARBFLG  \\\n0              0        1        0  NotInLaborForce  ...        0        0   \n1              1        1        0       Unemployed  ...        0        0   \n2              2        1        0         PartTime  ...        0        0   \n3              0        1        0         FullTime  ...        0        0   \n4              0        1        0         FullTime  ...        0        0   \n...          ...      ...      ...              ...  ...      ...      ...   \n1864362        0        7        0  NotInLaborForce  ...        0        0   \n1864363        0        7        0  NotInLaborForce  ...        0        0   \n1864364        0        7        1  NotInLaborForce  ...        0        0   \n1864365        0        7       -9  NotInLaborForce  ...        0        0   \n1864366        0        7        0         FullTime  ...        0        0   \n\n         SEDHPFLG INHFLG  OTCFLG  OTHERFLG  DIVISION  REGION IDU ALCDRUG  \n0               0      0       0         0         9       4   0       3  \n1               0      0       0         0         9       4   0       3  \n2               0      0       0         0         9       4   0       3  \n3               0      0       0         1         9       4   0       3  \n4               0      0       0         1         9       4   0       3  \n...           ...    ...     ...       ...       ...     ...  ..     ...  \n1864362         0      0       0         0         8       4   0       3  \n1864363         0      0       0         1         8       4   0       3  \n1864364         0      0       0         0         8       4   0       3  \n1864365         0      0       1         0         8       4   0       3  \n1864366         0      0       0         0         8       4   0       1  \n\n[1864367 rows x 59 columns]",
      "text/html": "<div>\n<style scoped>\n    .dataframe tbody tr th:only-of-type {\n        vertical-align: middle;\n    }\n\n    .dataframe tbody tr th {\n        vertical-align: top;\n    }\n\n    .dataframe thead th {\n        text-align: right;\n    }\n</style>\n<table border=\"1\" class=\"dataframe\">\n  <thead>\n    <tr style=\"text-align: right;\">\n      <th></th>\n      <th>STFIPS</th>\n      <th>CBSA2010</th>\n      <th>EDUC</th>\n      <th>MARSTAT</th>\n      <th>SERVICES</th>\n      <th>DETCRIM</th>\n      <th>NOPRIOR</th>\n      <th>PSOURCE</th>\n      <th>ARRESTS</th>\n      <th>EMPLOY</th>\n      <th>...</th>\n      <th>TRNQFLG</th>\n      <th>BARBFLG</th>\n      <th>SEDHPFLG</th>\n      <th>INHFLG</th>\n      <th>OTCFLG</th>\n      <th>OTHERFLG</th>\n      <th>DIVISION</th>\n      <th>REGION</th>\n      <th>IDU</th>\n      <th>ALCDRUG</th>\n    </tr>\n  </thead>\n  <tbody>\n    <tr>\n      <th>0</th>\n      <td>2</td>\n      <td>-9</td>\n      <td>GradeOrLess</td>\n      <td>NeverMarried</td>\n      <td>7</td>\n      <td>-9</td>\n      <td>0</td>\n      <td>1</td>\n      <td>0</td>\n      <td>NotInLaborForce</td>\n      <td>...</td>\n      <td>0</td>\n      <td>0</td>\n      <td>0</td>\n      <td>0</td>\n      <td>0</td>\n      <td>0</td>\n      <td>9</td>\n      <td>4</td>\n      <td>0</td>\n      <td>3</td>\n    </tr>\n    <tr>\n      <th>1</th>\n      <td>2</td>\n      <td>-9</td>\n      <td>Grade12OrGED</td>\n      <td>NowMarried</td>\n      <td>7</td>\n      <td>-9</td>\n      <td>1</td>\n      <td>1</td>\n      <td>0</td>\n      <td>Unemployed</td>\n      <td>...</td>\n      <td>0</td>\n      <td>0</td>\n      <td>0</td>\n      <td>0</td>\n      <td>0</td>\n      <td>0</td>\n      <td>9</td>\n      <td>4</td>\n      <td>0</td>\n      <td>3</td>\n    </tr>\n    <tr>\n      <th>2</th>\n      <td>2</td>\n      <td>-9</td>\n      <td>Grade12OrGED</td>\n      <td>NowMarried</td>\n      <td>7</td>\n      <td>-9</td>\n      <td>2</td>\n      <td>1</td>\n      <td>0</td>\n      <td>PartTime</td>\n      <td>...</td>\n      <td>0</td>\n      <td>0</td>\n      <td>0</td>\n      <td>0</td>\n      <td>0</td>\n      <td>0</td>\n      <td>9</td>\n      <td>4</td>\n      <td>0</td>\n      <td>3</td>\n    </tr>\n    <tr>\n      <th>3</th>\n      <td>2</td>\n      <td>-9</td>\n      <td>1To3yCollege</td>\n      <td>NeverMarried</td>\n      <td>7</td>\n      <td>-9</td>\n      <td>0</td>\n      <td>1</td>\n      <td>0</td>\n      <td>FullTime</td>\n      <td>...</td>\n      <td>0</td>\n      <td>0</td>\n      <td>0</td>\n      <td>0</td>\n      <td>0</td>\n      <td>1</td>\n      <td>9</td>\n      <td>4</td>\n      <td>0</td>\n      <td>3</td>\n    </tr>\n    <tr>\n      <th>4</th>\n      <td>2</td>\n      <td>-9</td>\n      <td>1To3yCollege</td>\n      <td>NeverMarried</td>\n      <td>7</td>\n      <td>-9</td>\n      <td>0</td>\n      <td>1</td>\n      <td>0</td>\n      <td>FullTime</td>\n      <td>...</td>\n      <td>0</td>\n      <td>0</td>\n      <td>0</td>\n      <td>0</td>\n      <td>0</td>\n      <td>1</td>\n      <td>9</td>\n      <td>4</td>\n      <td>0</td>\n      <td>3</td>\n    </tr>\n    <tr>\n      <th>...</th>\n      <td>...</td>\n      <td>...</td>\n      <td>...</td>\n      <td>...</td>\n      <td>...</td>\n      <td>...</td>\n      <td>...</td>\n      <td>...</td>\n      <td>...</td>\n      <td>...</td>\n      <td>...</td>\n      <td>...</td>\n      <td>...</td>\n      <td>...</td>\n      <td>...</td>\n      <td>...</td>\n      <td>...</td>\n      <td>...</td>\n      <td>...</td>\n      <td>...</td>\n      <td>...</td>\n    </tr>\n    <tr>\n      <th>1864362</th>\n      <td>56</td>\n      <td>-9</td>\n      <td>GradeOrLess</td>\n      <td>NeverMarried</td>\n      <td>6</td>\n      <td>3</td>\n      <td>0</td>\n      <td>7</td>\n      <td>0</td>\n      <td>NotInLaborForce</td>\n      <td>...</td>\n      <td>0</td>\n      <td>0</td>\n      <td>0</td>\n      <td>0</td>\n      <td>0</td>\n      <td>0</td>\n      <td>8</td>\n      <td>4</td>\n      <td>0</td>\n      <td>3</td>\n    </tr>\n    <tr>\n      <th>1864363</th>\n      <td>56</td>\n      <td>-9</td>\n      <td>Grade9To11</td>\n      <td>NeverMarried</td>\n      <td>7</td>\n      <td>3</td>\n      <td>0</td>\n      <td>7</td>\n      <td>0</td>\n      <td>NotInLaborForce</td>\n      <td>...</td>\n      <td>0</td>\n      <td>0</td>\n      <td>0</td>\n      <td>0</td>\n      <td>0</td>\n      <td>1</td>\n      <td>8</td>\n      <td>4</td>\n      <td>0</td>\n      <td>3</td>\n    </tr>\n    <tr>\n      <th>1864364</th>\n      <td>56</td>\n      <td>-9</td>\n      <td>Grade9To11</td>\n      <td>NeverMarried</td>\n      <td>7</td>\n      <td>3</td>\n      <td>0</td>\n      <td>7</td>\n      <td>1</td>\n      <td>NotInLaborForce</td>\n      <td>...</td>\n      <td>0</td>\n      <td>0</td>\n      <td>0</td>\n      <td>0</td>\n      <td>0</td>\n      <td>0</td>\n      <td>8</td>\n      <td>4</td>\n      <td>0</td>\n      <td>3</td>\n    </tr>\n    <tr>\n      <th>1864365</th>\n      <td>56</td>\n      <td>-9</td>\n      <td>GradeOrLess</td>\n      <td>NeverMarried</td>\n      <td>7</td>\n      <td>3</td>\n      <td>0</td>\n      <td>7</td>\n      <td>-9</td>\n      <td>NotInLaborForce</td>\n      <td>...</td>\n      <td>0</td>\n      <td>0</td>\n      <td>0</td>\n      <td>0</td>\n      <td>1</td>\n      <td>0</td>\n      <td>8</td>\n      <td>4</td>\n      <td>0</td>\n      <td>3</td>\n    </tr>\n    <tr>\n      <th>1864366</th>\n      <td>56</td>\n      <td>-9</td>\n      <td>Grade12OrGED</td>\n      <td>DivorcedOrWidowed</td>\n      <td>7</td>\n      <td>3</td>\n      <td>0</td>\n      <td>7</td>\n      <td>0</td>\n      <td>FullTime</td>\n      <td>...</td>\n      <td>0</td>\n      <td>0</td>\n      <td>0</td>\n      <td>0</td>\n      <td>0</td>\n      <td>0</td>\n      <td>8</td>\n      <td>4</td>\n      <td>0</td>\n      <td>1</td>\n    </tr>\n  </tbody>\n</table>\n<p>1864367 rows × 59 columns</p>\n</div>"
     },
     "execution_count": 26,
     "metadata": {},
     "output_type": "execute_result"
    }
   ],
   "source": [
    "df2"
   ],
   "metadata": {
    "collapsed": false,
    "pycharm": {
     "name": "#%%\n"
    }
   }
  },
  {
   "cell_type": "code",
   "execution_count": null,
   "outputs": [],
   "source": [
    "# todo add CBSA prefix\n",
    "# todo drop puerto rico"
   ],
   "metadata": {
    "collapsed": false,
    "pycharm": {
     "name": "#%%\n"
    }
   }
  },
  {
   "cell_type": "code",
   "execution_count": null,
   "outputs": [],
   "source": [],
   "metadata": {
    "collapsed": false,
    "pycharm": {
     "name": "#%%\n"
    }
   }
  },
  {
   "cell_type": "code",
   "execution_count": null,
   "outputs": [],
   "source": [],
   "metadata": {
    "collapsed": false,
    "pycharm": {
     "name": "#%%\n"
    }
   }
  }
 ],
 "metadata": {
  "kernelspec": {
   "display_name": "Python 3",
   "language": "python",
   "name": "python3"
  },
  "language_info": {
   "codemirror_mode": {
    "name": "ipython",
    "version": 2
   },
   "file_extension": ".py",
   "mimetype": "text/x-python",
   "name": "python",
   "nbconvert_exporter": "python",
   "pygments_lexer": "ipython2",
   "version": "2.7.6"
  }
 },
 "nbformat": 4,
 "nbformat_minor": 0
}