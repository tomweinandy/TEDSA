{
 "cells": [
  {
   "cell_type": "markdown",
   "source": [
    "## Load data"
   ],
   "metadata": {
    "collapsed": false
   }
  },
  {
   "cell_type": "code",
   "execution_count": 56,
   "outputs": [],
   "source": [
    "import pandas as pd\n",
    "import ast\n",
    "import numpy as np\n",
    "\n",
    "# Load in data\n",
    "admissions = 'tedsa_puf_2019.csv'\n",
    "df = pd.read_csv(f'../../Downloads/{admissions}')"
   ],
   "metadata": {
    "collapsed": false,
    "pycharm": {
     "name": "#%%\n"
    }
   }
  },
  {
   "cell_type": "markdown",
   "source": [
    "## Compare SUB1 groups with DSMCRIT"
   ],
   "metadata": {
    "collapsed": false
   }
  },
  {
   "cell_type": "code",
   "execution_count": 57,
   "outputs": [],
   "source": [
    "sub1 = df['SUB1']\n",
    "for i in [1,2,3,4,8,9,10,11,12,13,14,15,16,17,18,19]:\n",
    "    sub1 = sub1.replace(i, 'Other')\n",
    "# sub1 = sub1.replace(-9, np.nan)\n",
    "\n",
    "dsmcrit = df['DSMCRIT']\n",
    "for i in [1,2,3,4,6,7,8,9,10,11,13,14,15,16,17,18,19]:\n",
    "    dsmcrit = dsmcrit.replace(i, 'Other')\n",
    "# dsmcrit = dsmcrit.replace(-9, np.nan)"
   ],
   "metadata": {
    "collapsed": false,
    "pycharm": {
     "name": "#%%\n"
    }
   }
  },
  {
   "cell_type": "code",
   "execution_count": 62,
   "outputs": [
    {
     "name": "stdout",
     "output_type": "stream",
     "text": [
      "See \"SUB1 DSMCRIT overlap.xlsx\" file for a better breakdown\n"
     ]
    }
   ],
   "source": [
    "df4 = pd.DataFrame()\n",
    "df4['SUB1'] = sub1\n",
    "df4['DSMCRIT'] = dsmcrit\n",
    "\n",
    "df4.value_counts()\n",
    "\n",
    "print('See \"SUB1 DSMCRIT overlap.xlsx\" file for a better breakdown')"
   ],
   "metadata": {
    "collapsed": false,
    "pycharm": {
     "name": "#%%\n"
    }
   }
  },
  {
   "cell_type": "markdown",
   "source": [
    "## Filter out select rows and columns"
   ],
   "metadata": {
    "collapsed": false
   }
  },
  {
   "cell_type": "code",
   "execution_count": 1,
   "metadata": {
    "collapsed": true
   },
   "outputs": [
    {
     "name": "stdout",
     "output_type": "stream",
     "text": [
      "Dropped 4 columns (58 remain)\n",
      "Dropped 1296849 observations or 70.0% of the data 564425 rows remain)\n"
     ]
    }
   ],
   "source": [
    "\n",
    "\n",
    "# Drop defined columns\n",
    "columns_to_drop = ['ADMYR', 'CASEID', 'DETNLF', 'DETCRIM']\n",
    "df = df.drop(columns=columns_to_drop)\n",
    "print(f'Dropped {len(columns_to_drop)} columns ({len(df.columns)} remain)')\n",
    "\n",
    "# Drop Puerto Rico\n",
    "df = df[df['STFIPS'] != 72]\n",
    "\n",
    "# Only keep patients admitted with self-described use of an opioid as their primary substance use\n",
    "old_rows = len(df)\n",
    "df = df[df['SUB1'].between(5, 7)]\n",
    "new_rows = len(df)\n",
    "percent_change = round((old_rows-new_rows)/old_rows, 1)*100\n",
    "print(f'Dropped {old_rows-new_rows} observations or {percent_change}% of the data {new_rows} rows remain)')\n",
    "\n",
    "df = df.reset_index(drop='index')"
   ]
  },
  {
   "cell_type": "code",
   "execution_count": 2,
   "outputs": [
    {
     "data": {
      "text/plain": "        STFIPS  CBSA2010  EDUC  MARSTAT  SERVICES  NOPRIOR  PSOURCE  ARRESTS  \\\n0            2        -9     2        1         7        3        1        0   \n1            2        -9     3        1         7        2        3        0   \n2            2        -9     1        2         7        5        2        0   \n3            2        -9     3        1         7        3        3        0   \n4            2        -9     3        1         7        1        2        0   \n...        ...       ...   ...      ...       ...      ...      ...      ...   \n564420      56        -9    -9        2         6        0        6        0   \n564421      56        -9    -9        2         6        2        7        0   \n564422      56        -9     3        1         7        3        2        0   \n564423      56        -9     1        1         7        0        7        0   \n564424      56        -9     2        1         7        0        7        0   \n\n        EMPLOY  METHUSE  ...  TRNQFLG  BARBFLG  SEDHPFLG  INHFLG  OTCFLG  \\\n0            3        2  ...        0        0         0       0       0   \n1            4        1  ...        0        0         0       0       0   \n2            4        1  ...        0        0         0       0       0   \n3            4        1  ...        0        0         0       0       0   \n4            2        1  ...        0        0         0       0       0   \n...        ...      ...  ...      ...      ...       ...     ...     ...   \n564420       3        2  ...        0        0         0       0       0   \n564421       3        2  ...        0        0         0       0       0   \n564422       3        2  ...        0        0         1       0       0   \n564423       4        2  ...        0        0         0       0       0   \n564424       4        2  ...        0        0         0       0       0   \n\n        OTHERFLG  DIVISION  REGION  IDU  ALCDRUG  \n0              0         9       4    1        3  \n1              0         9       4    1        2  \n2              0         9       4    1        2  \n3              0         9       4    1        2  \n4              0         9       4    1        2  \n...          ...       ...     ...  ...      ...  \n564420         0         8       4    0        2  \n564421         0         8       4    0        2  \n564422         0         8       4    0        3  \n564423         0         8       4    0        2  \n564424         1         8       4    0        2  \n\n[564425 rows x 58 columns]",
      "text/html": "<div>\n<style scoped>\n    .dataframe tbody tr th:only-of-type {\n        vertical-align: middle;\n    }\n\n    .dataframe tbody tr th {\n        vertical-align: top;\n    }\n\n    .dataframe thead th {\n        text-align: right;\n    }\n</style>\n<table border=\"1\" class=\"dataframe\">\n  <thead>\n    <tr style=\"text-align: right;\">\n      <th></th>\n      <th>STFIPS</th>\n      <th>CBSA2010</th>\n      <th>EDUC</th>\n      <th>MARSTAT</th>\n      <th>SERVICES</th>\n      <th>NOPRIOR</th>\n      <th>PSOURCE</th>\n      <th>ARRESTS</th>\n      <th>EMPLOY</th>\n      <th>METHUSE</th>\n      <th>...</th>\n      <th>TRNQFLG</th>\n      <th>BARBFLG</th>\n      <th>SEDHPFLG</th>\n      <th>INHFLG</th>\n      <th>OTCFLG</th>\n      <th>OTHERFLG</th>\n      <th>DIVISION</th>\n      <th>REGION</th>\n      <th>IDU</th>\n      <th>ALCDRUG</th>\n    </tr>\n  </thead>\n  <tbody>\n    <tr>\n      <th>0</th>\n      <td>2</td>\n      <td>-9</td>\n      <td>2</td>\n      <td>1</td>\n      <td>7</td>\n      <td>3</td>\n      <td>1</td>\n      <td>0</td>\n      <td>3</td>\n      <td>2</td>\n      <td>...</td>\n      <td>0</td>\n      <td>0</td>\n      <td>0</td>\n      <td>0</td>\n      <td>0</td>\n      <td>0</td>\n      <td>9</td>\n      <td>4</td>\n      <td>1</td>\n      <td>3</td>\n    </tr>\n    <tr>\n      <th>1</th>\n      <td>2</td>\n      <td>-9</td>\n      <td>3</td>\n      <td>1</td>\n      <td>7</td>\n      <td>2</td>\n      <td>3</td>\n      <td>0</td>\n      <td>4</td>\n      <td>1</td>\n      <td>...</td>\n      <td>0</td>\n      <td>0</td>\n      <td>0</td>\n      <td>0</td>\n      <td>0</td>\n      <td>0</td>\n      <td>9</td>\n      <td>4</td>\n      <td>1</td>\n      <td>2</td>\n    </tr>\n    <tr>\n      <th>2</th>\n      <td>2</td>\n      <td>-9</td>\n      <td>1</td>\n      <td>2</td>\n      <td>7</td>\n      <td>5</td>\n      <td>2</td>\n      <td>0</td>\n      <td>4</td>\n      <td>1</td>\n      <td>...</td>\n      <td>0</td>\n      <td>0</td>\n      <td>0</td>\n      <td>0</td>\n      <td>0</td>\n      <td>0</td>\n      <td>9</td>\n      <td>4</td>\n      <td>1</td>\n      <td>2</td>\n    </tr>\n    <tr>\n      <th>3</th>\n      <td>2</td>\n      <td>-9</td>\n      <td>3</td>\n      <td>1</td>\n      <td>7</td>\n      <td>3</td>\n      <td>3</td>\n      <td>0</td>\n      <td>4</td>\n      <td>1</td>\n      <td>...</td>\n      <td>0</td>\n      <td>0</td>\n      <td>0</td>\n      <td>0</td>\n      <td>0</td>\n      <td>0</td>\n      <td>9</td>\n      <td>4</td>\n      <td>1</td>\n      <td>2</td>\n    </tr>\n    <tr>\n      <th>4</th>\n      <td>2</td>\n      <td>-9</td>\n      <td>3</td>\n      <td>1</td>\n      <td>7</td>\n      <td>1</td>\n      <td>2</td>\n      <td>0</td>\n      <td>2</td>\n      <td>1</td>\n      <td>...</td>\n      <td>0</td>\n      <td>0</td>\n      <td>0</td>\n      <td>0</td>\n      <td>0</td>\n      <td>0</td>\n      <td>9</td>\n      <td>4</td>\n      <td>1</td>\n      <td>2</td>\n    </tr>\n    <tr>\n      <th>...</th>\n      <td>...</td>\n      <td>...</td>\n      <td>...</td>\n      <td>...</td>\n      <td>...</td>\n      <td>...</td>\n      <td>...</td>\n      <td>...</td>\n      <td>...</td>\n      <td>...</td>\n      <td>...</td>\n      <td>...</td>\n      <td>...</td>\n      <td>...</td>\n      <td>...</td>\n      <td>...</td>\n      <td>...</td>\n      <td>...</td>\n      <td>...</td>\n      <td>...</td>\n      <td>...</td>\n    </tr>\n    <tr>\n      <th>564420</th>\n      <td>56</td>\n      <td>-9</td>\n      <td>-9</td>\n      <td>2</td>\n      <td>6</td>\n      <td>0</td>\n      <td>6</td>\n      <td>0</td>\n      <td>3</td>\n      <td>2</td>\n      <td>...</td>\n      <td>0</td>\n      <td>0</td>\n      <td>0</td>\n      <td>0</td>\n      <td>0</td>\n      <td>0</td>\n      <td>8</td>\n      <td>4</td>\n      <td>0</td>\n      <td>2</td>\n    </tr>\n    <tr>\n      <th>564421</th>\n      <td>56</td>\n      <td>-9</td>\n      <td>-9</td>\n      <td>2</td>\n      <td>6</td>\n      <td>2</td>\n      <td>7</td>\n      <td>0</td>\n      <td>3</td>\n      <td>2</td>\n      <td>...</td>\n      <td>0</td>\n      <td>0</td>\n      <td>0</td>\n      <td>0</td>\n      <td>0</td>\n      <td>0</td>\n      <td>8</td>\n      <td>4</td>\n      <td>0</td>\n      <td>2</td>\n    </tr>\n    <tr>\n      <th>564422</th>\n      <td>56</td>\n      <td>-9</td>\n      <td>3</td>\n      <td>1</td>\n      <td>7</td>\n      <td>3</td>\n      <td>2</td>\n      <td>0</td>\n      <td>3</td>\n      <td>2</td>\n      <td>...</td>\n      <td>0</td>\n      <td>0</td>\n      <td>1</td>\n      <td>0</td>\n      <td>0</td>\n      <td>0</td>\n      <td>8</td>\n      <td>4</td>\n      <td>0</td>\n      <td>3</td>\n    </tr>\n    <tr>\n      <th>564423</th>\n      <td>56</td>\n      <td>-9</td>\n      <td>1</td>\n      <td>1</td>\n      <td>7</td>\n      <td>0</td>\n      <td>7</td>\n      <td>0</td>\n      <td>4</td>\n      <td>2</td>\n      <td>...</td>\n      <td>0</td>\n      <td>0</td>\n      <td>0</td>\n      <td>0</td>\n      <td>0</td>\n      <td>0</td>\n      <td>8</td>\n      <td>4</td>\n      <td>0</td>\n      <td>2</td>\n    </tr>\n    <tr>\n      <th>564424</th>\n      <td>56</td>\n      <td>-9</td>\n      <td>2</td>\n      <td>1</td>\n      <td>7</td>\n      <td>0</td>\n      <td>7</td>\n      <td>0</td>\n      <td>4</td>\n      <td>2</td>\n      <td>...</td>\n      <td>0</td>\n      <td>0</td>\n      <td>0</td>\n      <td>0</td>\n      <td>0</td>\n      <td>1</td>\n      <td>8</td>\n      <td>4</td>\n      <td>0</td>\n      <td>2</td>\n    </tr>\n  </tbody>\n</table>\n<p>564425 rows × 58 columns</p>\n</div>"
     },
     "execution_count": 2,
     "metadata": {},
     "output_type": "execute_result"
    }
   ],
   "source": [
    "df"
   ],
   "metadata": {
    "collapsed": false,
    "pycharm": {
     "name": "#%%\n"
    }
   }
  },
  {
   "cell_type": "markdown",
   "source": [
    "## Make dataset human-readable"
   ],
   "metadata": {
    "collapsed": false
   }
  },
  {
   "cell_type": "code",
   "execution_count": 3,
   "outputs": [],
   "source": [
    "# Load in variable dictionary\n",
    "with open('variable_dictionary.txt') as file:\n",
    "    variable_dict_string = file.read()\n",
    "    variable_dict = ast.literal_eval(variable_dict_string)\n",
    "\n",
    "# Rename entries in column according to dictionary\n",
    "df2 = df.copy()\n",
    "for col, col_dict in variable_dict.items():\n",
    "    for old_value, new_value in variable_dict[col].items():\n",
    "        df2[col] = df2[col].replace(old_value, new_value)\n",
    "\n",
    "# Rename \"-9\" values as \"Unknown\"\n",
    "for col in df2.columns:\n",
    "    df2[col] = df2[col].replace(-9, 'Unknown')"
   ],
   "metadata": {
    "collapsed": false,
    "pycharm": {
     "name": "#%%\n"
    }
   }
  },
  {
   "cell_type": "code",
   "execution_count": 4,
   "outputs": [
    {
     "data": {
      "text/plain": "         STFIPS CBSA2010          EDUC       MARSTAT  \\\n0       StateAK  Unknown    Grade9To11  NeverMarried   \n1       StateAK  Unknown  Grade12OrGED  NeverMarried   \n2       StateAK  Unknown   GradeOrLess    NowMarried   \n3       StateAK  Unknown  Grade12OrGED  NeverMarried   \n4       StateAK  Unknown  Grade12OrGED  NeverMarried   \n...         ...      ...           ...           ...   \n564420  StateWY  Unknown       Unknown    NowMarried   \n564421  StateWY  Unknown       Unknown    NowMarried   \n564422  StateWY  Unknown  Grade12OrGED  NeverMarried   \n564423  StateWY  Unknown   GradeOrLess  NeverMarried   \n564424  StateWY  Unknown    Grade9To11  NeverMarried   \n\n                                SERVICES               NOPRIOR  \\\n0       AmbulatoryNonIntensiveOutpatient      3PriorTreatments   \n1       AmbulatoryNonIntensiveOutpatient      2PriorTreatments   \n2       AmbulatoryNonIntensiveOutpatient  5PlusPriorTreatments   \n3       AmbulatoryNonIntensiveOutpatient      3PriorTreatments   \n4       AmbulatoryNonIntensiveOutpatient      1PriorTreatments   \n...                                  ...                   ...   \n564420     AmbulatoryIntensiveOutpatient      0PriorTreatments   \n564421     AmbulatoryIntensiveOutpatient      2PriorTreatments   \n564422  AmbulatoryNonIntensiveOutpatient      3PriorTreatments   \n564423  AmbulatoryNonIntensiveOutpatient      0PriorTreatments   \n564424  AmbulatoryNonIntensiveOutpatient      0PriorTreatments   \n\n                        PSOURCE  ARRESTS           EMPLOY    METHUSE  ...  \\\n0                    Individual  0Arrest       Unemployed  NoMethUse  ...   \n1       OtherHealthCareProvider  0Arrest  NotInLaborForce    MethUse  ...   \n2              DrugCareProvider  0Arrest  NotInLaborForce    MethUse  ...   \n3       OtherHealthCareProvider  0Arrest  NotInLaborForce    MethUse  ...   \n4              DrugCareProvider  0Arrest         PartTime    MethUse  ...   \n...                         ...      ...              ...        ...  ...   \n564420            OtherReferral  0Arrest       Unemployed  NoMethUse  ...   \n564421            CourtReferral  0Arrest       Unemployed  NoMethUse  ...   \n564422         DrugCareProvider  0Arrest       Unemployed  NoMethUse  ...   \n564423            CourtReferral  0Arrest  NotInLaborForce  NoMethUse  ...   \n564424            CourtReferral  0Arrest  NotInLaborForce  NoMethUse  ...   \n\n            TRNQFLG      BARBFLG     SEDHPFLG       INHFLG       OTCFLG  \\\n0       NotReported  NotReported  NotReported  NotReported  NotReported   \n1       NotReported  NotReported  NotReported  NotReported  NotReported   \n2       NotReported  NotReported  NotReported  NotReported  NotReported   \n3       NotReported  NotReported  NotReported  NotReported  NotReported   \n4       NotReported  NotReported  NotReported  NotReported  NotReported   \n...             ...          ...          ...          ...          ...   \n564420  NotReported  NotReported  NotReported  NotReported  NotReported   \n564421  NotReported  NotReported  NotReported  NotReported  NotReported   \n564422  NotReported  NotReported     Reported  NotReported  NotReported   \n564423  NotReported  NotReported  NotReported  NotReported  NotReported   \n564424  NotReported  NotReported  NotReported  NotReported  NotReported   \n\n           OTHERFLG  DIVISION REGION    IDU        ALCDRUG  \n0       NotReported   Pacific   West    IDU  Alcohol&Drugs  \n1       NotReported   Pacific   West    IDU     OtherDrugs  \n2       NotReported   Pacific   West    IDU     OtherDrugs  \n3       NotReported   Pacific   West    IDU     OtherDrugs  \n4       NotReported   Pacific   West    IDU     OtherDrugs  \n...             ...       ...    ...    ...            ...  \n564420  NotReported  Mountain   West  NoIDU     OtherDrugs  \n564421  NotReported  Mountain   West  NoIDU     OtherDrugs  \n564422  NotReported  Mountain   West  NoIDU  Alcohol&Drugs  \n564423  NotReported  Mountain   West  NoIDU     OtherDrugs  \n564424     Reported  Mountain   West  NoIDU     OtherDrugs  \n\n[564425 rows x 58 columns]",
      "text/html": "<div>\n<style scoped>\n    .dataframe tbody tr th:only-of-type {\n        vertical-align: middle;\n    }\n\n    .dataframe tbody tr th {\n        vertical-align: top;\n    }\n\n    .dataframe thead th {\n        text-align: right;\n    }\n</style>\n<table border=\"1\" class=\"dataframe\">\n  <thead>\n    <tr style=\"text-align: right;\">\n      <th></th>\n      <th>STFIPS</th>\n      <th>CBSA2010</th>\n      <th>EDUC</th>\n      <th>MARSTAT</th>\n      <th>SERVICES</th>\n      <th>NOPRIOR</th>\n      <th>PSOURCE</th>\n      <th>ARRESTS</th>\n      <th>EMPLOY</th>\n      <th>METHUSE</th>\n      <th>...</th>\n      <th>TRNQFLG</th>\n      <th>BARBFLG</th>\n      <th>SEDHPFLG</th>\n      <th>INHFLG</th>\n      <th>OTCFLG</th>\n      <th>OTHERFLG</th>\n      <th>DIVISION</th>\n      <th>REGION</th>\n      <th>IDU</th>\n      <th>ALCDRUG</th>\n    </tr>\n  </thead>\n  <tbody>\n    <tr>\n      <th>0</th>\n      <td>StateAK</td>\n      <td>Unknown</td>\n      <td>Grade9To11</td>\n      <td>NeverMarried</td>\n      <td>AmbulatoryNonIntensiveOutpatient</td>\n      <td>3PriorTreatments</td>\n      <td>Individual</td>\n      <td>0Arrest</td>\n      <td>Unemployed</td>\n      <td>NoMethUse</td>\n      <td>...</td>\n      <td>NotReported</td>\n      <td>NotReported</td>\n      <td>NotReported</td>\n      <td>NotReported</td>\n      <td>NotReported</td>\n      <td>NotReported</td>\n      <td>Pacific</td>\n      <td>West</td>\n      <td>IDU</td>\n      <td>Alcohol&amp;Drugs</td>\n    </tr>\n    <tr>\n      <th>1</th>\n      <td>StateAK</td>\n      <td>Unknown</td>\n      <td>Grade12OrGED</td>\n      <td>NeverMarried</td>\n      <td>AmbulatoryNonIntensiveOutpatient</td>\n      <td>2PriorTreatments</td>\n      <td>OtherHealthCareProvider</td>\n      <td>0Arrest</td>\n      <td>NotInLaborForce</td>\n      <td>MethUse</td>\n      <td>...</td>\n      <td>NotReported</td>\n      <td>NotReported</td>\n      <td>NotReported</td>\n      <td>NotReported</td>\n      <td>NotReported</td>\n      <td>NotReported</td>\n      <td>Pacific</td>\n      <td>West</td>\n      <td>IDU</td>\n      <td>OtherDrugs</td>\n    </tr>\n    <tr>\n      <th>2</th>\n      <td>StateAK</td>\n      <td>Unknown</td>\n      <td>GradeOrLess</td>\n      <td>NowMarried</td>\n      <td>AmbulatoryNonIntensiveOutpatient</td>\n      <td>5PlusPriorTreatments</td>\n      <td>DrugCareProvider</td>\n      <td>0Arrest</td>\n      <td>NotInLaborForce</td>\n      <td>MethUse</td>\n      <td>...</td>\n      <td>NotReported</td>\n      <td>NotReported</td>\n      <td>NotReported</td>\n      <td>NotReported</td>\n      <td>NotReported</td>\n      <td>NotReported</td>\n      <td>Pacific</td>\n      <td>West</td>\n      <td>IDU</td>\n      <td>OtherDrugs</td>\n    </tr>\n    <tr>\n      <th>3</th>\n      <td>StateAK</td>\n      <td>Unknown</td>\n      <td>Grade12OrGED</td>\n      <td>NeverMarried</td>\n      <td>AmbulatoryNonIntensiveOutpatient</td>\n      <td>3PriorTreatments</td>\n      <td>OtherHealthCareProvider</td>\n      <td>0Arrest</td>\n      <td>NotInLaborForce</td>\n      <td>MethUse</td>\n      <td>...</td>\n      <td>NotReported</td>\n      <td>NotReported</td>\n      <td>NotReported</td>\n      <td>NotReported</td>\n      <td>NotReported</td>\n      <td>NotReported</td>\n      <td>Pacific</td>\n      <td>West</td>\n      <td>IDU</td>\n      <td>OtherDrugs</td>\n    </tr>\n    <tr>\n      <th>4</th>\n      <td>StateAK</td>\n      <td>Unknown</td>\n      <td>Grade12OrGED</td>\n      <td>NeverMarried</td>\n      <td>AmbulatoryNonIntensiveOutpatient</td>\n      <td>1PriorTreatments</td>\n      <td>DrugCareProvider</td>\n      <td>0Arrest</td>\n      <td>PartTime</td>\n      <td>MethUse</td>\n      <td>...</td>\n      <td>NotReported</td>\n      <td>NotReported</td>\n      <td>NotReported</td>\n      <td>NotReported</td>\n      <td>NotReported</td>\n      <td>NotReported</td>\n      <td>Pacific</td>\n      <td>West</td>\n      <td>IDU</td>\n      <td>OtherDrugs</td>\n    </tr>\n    <tr>\n      <th>...</th>\n      <td>...</td>\n      <td>...</td>\n      <td>...</td>\n      <td>...</td>\n      <td>...</td>\n      <td>...</td>\n      <td>...</td>\n      <td>...</td>\n      <td>...</td>\n      <td>...</td>\n      <td>...</td>\n      <td>...</td>\n      <td>...</td>\n      <td>...</td>\n      <td>...</td>\n      <td>...</td>\n      <td>...</td>\n      <td>...</td>\n      <td>...</td>\n      <td>...</td>\n      <td>...</td>\n    </tr>\n    <tr>\n      <th>564420</th>\n      <td>StateWY</td>\n      <td>Unknown</td>\n      <td>Unknown</td>\n      <td>NowMarried</td>\n      <td>AmbulatoryIntensiveOutpatient</td>\n      <td>0PriorTreatments</td>\n      <td>OtherReferral</td>\n      <td>0Arrest</td>\n      <td>Unemployed</td>\n      <td>NoMethUse</td>\n      <td>...</td>\n      <td>NotReported</td>\n      <td>NotReported</td>\n      <td>NotReported</td>\n      <td>NotReported</td>\n      <td>NotReported</td>\n      <td>NotReported</td>\n      <td>Mountain</td>\n      <td>West</td>\n      <td>NoIDU</td>\n      <td>OtherDrugs</td>\n    </tr>\n    <tr>\n      <th>564421</th>\n      <td>StateWY</td>\n      <td>Unknown</td>\n      <td>Unknown</td>\n      <td>NowMarried</td>\n      <td>AmbulatoryIntensiveOutpatient</td>\n      <td>2PriorTreatments</td>\n      <td>CourtReferral</td>\n      <td>0Arrest</td>\n      <td>Unemployed</td>\n      <td>NoMethUse</td>\n      <td>...</td>\n      <td>NotReported</td>\n      <td>NotReported</td>\n      <td>NotReported</td>\n      <td>NotReported</td>\n      <td>NotReported</td>\n      <td>NotReported</td>\n      <td>Mountain</td>\n      <td>West</td>\n      <td>NoIDU</td>\n      <td>OtherDrugs</td>\n    </tr>\n    <tr>\n      <th>564422</th>\n      <td>StateWY</td>\n      <td>Unknown</td>\n      <td>Grade12OrGED</td>\n      <td>NeverMarried</td>\n      <td>AmbulatoryNonIntensiveOutpatient</td>\n      <td>3PriorTreatments</td>\n      <td>DrugCareProvider</td>\n      <td>0Arrest</td>\n      <td>Unemployed</td>\n      <td>NoMethUse</td>\n      <td>...</td>\n      <td>NotReported</td>\n      <td>NotReported</td>\n      <td>Reported</td>\n      <td>NotReported</td>\n      <td>NotReported</td>\n      <td>NotReported</td>\n      <td>Mountain</td>\n      <td>West</td>\n      <td>NoIDU</td>\n      <td>Alcohol&amp;Drugs</td>\n    </tr>\n    <tr>\n      <th>564423</th>\n      <td>StateWY</td>\n      <td>Unknown</td>\n      <td>GradeOrLess</td>\n      <td>NeverMarried</td>\n      <td>AmbulatoryNonIntensiveOutpatient</td>\n      <td>0PriorTreatments</td>\n      <td>CourtReferral</td>\n      <td>0Arrest</td>\n      <td>NotInLaborForce</td>\n      <td>NoMethUse</td>\n      <td>...</td>\n      <td>NotReported</td>\n      <td>NotReported</td>\n      <td>NotReported</td>\n      <td>NotReported</td>\n      <td>NotReported</td>\n      <td>NotReported</td>\n      <td>Mountain</td>\n      <td>West</td>\n      <td>NoIDU</td>\n      <td>OtherDrugs</td>\n    </tr>\n    <tr>\n      <th>564424</th>\n      <td>StateWY</td>\n      <td>Unknown</td>\n      <td>Grade9To11</td>\n      <td>NeverMarried</td>\n      <td>AmbulatoryNonIntensiveOutpatient</td>\n      <td>0PriorTreatments</td>\n      <td>CourtReferral</td>\n      <td>0Arrest</td>\n      <td>NotInLaborForce</td>\n      <td>NoMethUse</td>\n      <td>...</td>\n      <td>NotReported</td>\n      <td>NotReported</td>\n      <td>NotReported</td>\n      <td>NotReported</td>\n      <td>NotReported</td>\n      <td>Reported</td>\n      <td>Mountain</td>\n      <td>West</td>\n      <td>NoIDU</td>\n      <td>OtherDrugs</td>\n    </tr>\n  </tbody>\n</table>\n<p>564425 rows × 58 columns</p>\n</div>"
     },
     "execution_count": 4,
     "metadata": {},
     "output_type": "execute_result"
    }
   ],
   "source": [
    "df2"
   ],
   "metadata": {
    "collapsed": false,
    "pycharm": {
     "name": "#%%\n"
    }
   }
  },
  {
   "cell_type": "markdown",
   "source": [
    "## Compare"
   ],
   "metadata": {
    "collapsed": false
   }
  },
  {
   "cell_type": "code",
   "execution_count": 5,
   "outputs": [],
   "source": [
    "# Compare SUB1-567 with DSMMCRIT"
   ],
   "metadata": {
    "collapsed": false,
    "pycharm": {
     "name": "#%%\n"
    }
   }
  },
  {
   "cell_type": "code",
   "execution_count": null,
   "outputs": [],
   "source": [],
   "metadata": {
    "collapsed": false,
    "pycharm": {
     "name": "#%%\n"
    }
   }
  },
  {
   "cell_type": "code",
   "execution_count": 10,
   "outputs": [
    {
     "data": {
      "text/plain": "        STFIPS_StateAK  STFIPS_StateAL  STFIPS_StateAR  STFIPS_StateAZ  \\\n0                    1               0               0               0   \n1                    1               0               0               0   \n2                    1               0               0               0   \n3                    1               0               0               0   \n4                    1               0               0               0   \n...                ...             ...             ...             ...   \n564420               0               0               0               0   \n564421               0               0               0               0   \n564422               0               0               0               0   \n564423               0               0               0               0   \n564424               0               0               0               0   \n\n        STFIPS_StateCA  STFIPS_StateCO  STFIPS_StateCT  STFIPS_StateDC  \\\n0                    0               0               0               0   \n1                    0               0               0               0   \n2                    0               0               0               0   \n3                    0               0               0               0   \n4                    0               0               0               0   \n...                ...             ...             ...             ...   \n564420               0               0               0               0   \n564421               0               0               0               0   \n564422               0               0               0               0   \n564423               0               0               0               0   \n564424               0               0               0               0   \n\n        STFIPS_StateDE  STFIPS_StateFL  ...  DIVISION_WestNorthCentral  \\\n0                    0               0  ...                          0   \n1                    0               0  ...                          0   \n2                    0               0  ...                          0   \n3                    0               0  ...                          0   \n4                    0               0  ...                          0   \n...                ...             ...  ...                        ...   \n564420               0               0  ...                          0   \n564421               0               0  ...                          0   \n564422               0               0  ...                          0   \n564423               0               0  ...                          0   \n564424               0               0  ...                          0   \n\n        DIVISION_WestSouthCentral  REGION_Midwest  REGION_Northeast  \\\n0                               0               0                 0   \n1                               0               0                 0   \n2                               0               0                 0   \n3                               0               0                 0   \n4                               0               0                 0   \n...                           ...             ...               ...   \n564420                          0               0                 0   \n564421                          0               0                 0   \n564422                          0               0                 0   \n564423                          0               0                 0   \n564424                          0               0                 0   \n\n        REGION_South  REGION_West  IDU_IDU  IDU_NoIDU  ALCDRUG_Alcohol&Drugs  \\\n0                  0            1        1          0                      1   \n1                  0            1        1          0                      0   \n2                  0            1        1          0                      0   \n3                  0            1        1          0                      0   \n4                  0            1        1          0                      0   \n...              ...          ...      ...        ...                    ...   \n564420             0            1        0          1                      0   \n564421             0            1        0          1                      0   \n564422             0            1        0          1                      1   \n564423             0            1        0          1                      0   \n564424             0            1        0          1                      0   \n\n        ALCDRUG_OtherDrugs  \n0                        0  \n1                        1  \n2                        1  \n3                        1  \n4                        1  \n...                    ...  \n564420                   1  \n564421                   1  \n564422                   0  \n564423                   1  \n564424                   1  \n\n[564425 rows x 612 columns]",
      "text/html": "<div>\n<style scoped>\n    .dataframe tbody tr th:only-of-type {\n        vertical-align: middle;\n    }\n\n    .dataframe tbody tr th {\n        vertical-align: top;\n    }\n\n    .dataframe thead th {\n        text-align: right;\n    }\n</style>\n<table border=\"1\" class=\"dataframe\">\n  <thead>\n    <tr style=\"text-align: right;\">\n      <th></th>\n      <th>STFIPS_StateAK</th>\n      <th>STFIPS_StateAL</th>\n      <th>STFIPS_StateAR</th>\n      <th>STFIPS_StateAZ</th>\n      <th>STFIPS_StateCA</th>\n      <th>STFIPS_StateCO</th>\n      <th>STFIPS_StateCT</th>\n      <th>STFIPS_StateDC</th>\n      <th>STFIPS_StateDE</th>\n      <th>STFIPS_StateFL</th>\n      <th>...</th>\n      <th>DIVISION_WestNorthCentral</th>\n      <th>DIVISION_WestSouthCentral</th>\n      <th>REGION_Midwest</th>\n      <th>REGION_Northeast</th>\n      <th>REGION_South</th>\n      <th>REGION_West</th>\n      <th>IDU_IDU</th>\n      <th>IDU_NoIDU</th>\n      <th>ALCDRUG_Alcohol&amp;Drugs</th>\n      <th>ALCDRUG_OtherDrugs</th>\n    </tr>\n  </thead>\n  <tbody>\n    <tr>\n      <th>0</th>\n      <td>1</td>\n      <td>0</td>\n      <td>0</td>\n      <td>0</td>\n      <td>0</td>\n      <td>0</td>\n      <td>0</td>\n      <td>0</td>\n      <td>0</td>\n      <td>0</td>\n      <td>...</td>\n      <td>0</td>\n      <td>0</td>\n      <td>0</td>\n      <td>0</td>\n      <td>0</td>\n      <td>1</td>\n      <td>1</td>\n      <td>0</td>\n      <td>1</td>\n      <td>0</td>\n    </tr>\n    <tr>\n      <th>1</th>\n      <td>1</td>\n      <td>0</td>\n      <td>0</td>\n      <td>0</td>\n      <td>0</td>\n      <td>0</td>\n      <td>0</td>\n      <td>0</td>\n      <td>0</td>\n      <td>0</td>\n      <td>...</td>\n      <td>0</td>\n      <td>0</td>\n      <td>0</td>\n      <td>0</td>\n      <td>0</td>\n      <td>1</td>\n      <td>1</td>\n      <td>0</td>\n      <td>0</td>\n      <td>1</td>\n    </tr>\n    <tr>\n      <th>2</th>\n      <td>1</td>\n      <td>0</td>\n      <td>0</td>\n      <td>0</td>\n      <td>0</td>\n      <td>0</td>\n      <td>0</td>\n      <td>0</td>\n      <td>0</td>\n      <td>0</td>\n      <td>...</td>\n      <td>0</td>\n      <td>0</td>\n      <td>0</td>\n      <td>0</td>\n      <td>0</td>\n      <td>1</td>\n      <td>1</td>\n      <td>0</td>\n      <td>0</td>\n      <td>1</td>\n    </tr>\n    <tr>\n      <th>3</th>\n      <td>1</td>\n      <td>0</td>\n      <td>0</td>\n      <td>0</td>\n      <td>0</td>\n      <td>0</td>\n      <td>0</td>\n      <td>0</td>\n      <td>0</td>\n      <td>0</td>\n      <td>...</td>\n      <td>0</td>\n      <td>0</td>\n      <td>0</td>\n      <td>0</td>\n      <td>0</td>\n      <td>1</td>\n      <td>1</td>\n      <td>0</td>\n      <td>0</td>\n      <td>1</td>\n    </tr>\n    <tr>\n      <th>4</th>\n      <td>1</td>\n      <td>0</td>\n      <td>0</td>\n      <td>0</td>\n      <td>0</td>\n      <td>0</td>\n      <td>0</td>\n      <td>0</td>\n      <td>0</td>\n      <td>0</td>\n      <td>...</td>\n      <td>0</td>\n      <td>0</td>\n      <td>0</td>\n      <td>0</td>\n      <td>0</td>\n      <td>1</td>\n      <td>1</td>\n      <td>0</td>\n      <td>0</td>\n      <td>1</td>\n    </tr>\n    <tr>\n      <th>...</th>\n      <td>...</td>\n      <td>...</td>\n      <td>...</td>\n      <td>...</td>\n      <td>...</td>\n      <td>...</td>\n      <td>...</td>\n      <td>...</td>\n      <td>...</td>\n      <td>...</td>\n      <td>...</td>\n      <td>...</td>\n      <td>...</td>\n      <td>...</td>\n      <td>...</td>\n      <td>...</td>\n      <td>...</td>\n      <td>...</td>\n      <td>...</td>\n      <td>...</td>\n      <td>...</td>\n    </tr>\n    <tr>\n      <th>564420</th>\n      <td>0</td>\n      <td>0</td>\n      <td>0</td>\n      <td>0</td>\n      <td>0</td>\n      <td>0</td>\n      <td>0</td>\n      <td>0</td>\n      <td>0</td>\n      <td>0</td>\n      <td>...</td>\n      <td>0</td>\n      <td>0</td>\n      <td>0</td>\n      <td>0</td>\n      <td>0</td>\n      <td>1</td>\n      <td>0</td>\n      <td>1</td>\n      <td>0</td>\n      <td>1</td>\n    </tr>\n    <tr>\n      <th>564421</th>\n      <td>0</td>\n      <td>0</td>\n      <td>0</td>\n      <td>0</td>\n      <td>0</td>\n      <td>0</td>\n      <td>0</td>\n      <td>0</td>\n      <td>0</td>\n      <td>0</td>\n      <td>...</td>\n      <td>0</td>\n      <td>0</td>\n      <td>0</td>\n      <td>0</td>\n      <td>0</td>\n      <td>1</td>\n      <td>0</td>\n      <td>1</td>\n      <td>0</td>\n      <td>1</td>\n    </tr>\n    <tr>\n      <th>564422</th>\n      <td>0</td>\n      <td>0</td>\n      <td>0</td>\n      <td>0</td>\n      <td>0</td>\n      <td>0</td>\n      <td>0</td>\n      <td>0</td>\n      <td>0</td>\n      <td>0</td>\n      <td>...</td>\n      <td>0</td>\n      <td>0</td>\n      <td>0</td>\n      <td>0</td>\n      <td>0</td>\n      <td>1</td>\n      <td>0</td>\n      <td>1</td>\n      <td>1</td>\n      <td>0</td>\n    </tr>\n    <tr>\n      <th>564423</th>\n      <td>0</td>\n      <td>0</td>\n      <td>0</td>\n      <td>0</td>\n      <td>0</td>\n      <td>0</td>\n      <td>0</td>\n      <td>0</td>\n      <td>0</td>\n      <td>0</td>\n      <td>...</td>\n      <td>0</td>\n      <td>0</td>\n      <td>0</td>\n      <td>0</td>\n      <td>0</td>\n      <td>1</td>\n      <td>0</td>\n      <td>1</td>\n      <td>0</td>\n      <td>1</td>\n    </tr>\n    <tr>\n      <th>564424</th>\n      <td>0</td>\n      <td>0</td>\n      <td>0</td>\n      <td>0</td>\n      <td>0</td>\n      <td>0</td>\n      <td>0</td>\n      <td>0</td>\n      <td>0</td>\n      <td>0</td>\n      <td>...</td>\n      <td>0</td>\n      <td>0</td>\n      <td>0</td>\n      <td>0</td>\n      <td>0</td>\n      <td>1</td>\n      <td>0</td>\n      <td>1</td>\n      <td>0</td>\n      <td>1</td>\n    </tr>\n  </tbody>\n</table>\n<p>564425 rows × 612 columns</p>\n</div>"
     },
     "execution_count": 10,
     "metadata": {},
     "output_type": "execute_result"
    }
   ],
   "source": [
    "df3 = df2.copy()\n",
    "\n",
    "pd.get_dummies(df3)"
   ],
   "metadata": {
    "collapsed": false,
    "pycharm": {
     "name": "#%%\n"
    }
   }
  },
  {
   "cell_type": "code",
   "execution_count": 5,
   "outputs": [],
   "source": [],
   "metadata": {
    "collapsed": false,
    "pycharm": {
     "name": "#%%\n"
    }
   }
  }
 ],
 "metadata": {
  "kernelspec": {
   "display_name": "Python 3",
   "language": "python",
   "name": "python3"
  },
  "language_info": {
   "codemirror_mode": {
    "name": "ipython",
    "version": 2
   },
   "file_extension": ".py",
   "mimetype": "text/x-python",
   "name": "python",
   "nbconvert_exporter": "python",
   "pygments_lexer": "ipython2",
   "version": "2.7.6"
  }
 },
 "nbformat": 4,
 "nbformat_minor": 0
}