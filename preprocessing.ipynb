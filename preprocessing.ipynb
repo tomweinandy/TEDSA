{
 "cells": [
  {
   "cell_type": "code",
   "execution_count": 101,
   "metadata": {
    "collapsed": true
   },
   "outputs": [
    {
     "ename": "SyntaxError",
     "evalue": "invalid syntax (<unknown>, line 34)",
     "output_type": "error",
     "traceback": [
      "Traceback \u001B[0;36m(most recent call last)\u001B[0m:\n",
      "  File \u001B[1;32m\"/Users/mymac/PycharmProjects/TEDSA/venv/lib/python3.7/site-packages/IPython/core/interactiveshell.py\"\u001B[0m, line \u001B[1;32m3552\u001B[0m, in \u001B[1;35mrun_code\u001B[0m\n    exec(code_obj, self.user_global_ns, self.user_ns)\n",
      "  File \u001B[1;32m\"/var/folders/8k/1982q0sd17v8dt4gxj5mqhk80000gn/T/ipykernel_10336/2464842897.py\"\u001B[0m, line \u001B[1;32m10\u001B[0m, in \u001B[1;35m<module>\u001B[0m\n    variable_dict = ast.literal_eval(variable_dict_string)\n",
      "  File \u001B[1;32m\"/Library/Frameworks/Python.framework/Versions/3.7/lib/python3.7/ast.py\"\u001B[0m, line \u001B[1;32m46\u001B[0m, in \u001B[1;35mliteral_eval\u001B[0m\n    node_or_string = parse(node_or_string, mode='eval')\n",
      "\u001B[0;36m  File \u001B[0;32m\"/Library/Frameworks/Python.framework/Versions/3.7/lib/python3.7/ast.py\"\u001B[0;36m, line \u001B[0;32m35\u001B[0;36m, in \u001B[0;35mparse\u001B[0;36m\u001B[0m\n\u001B[0;31m    return compile(source, filename, mode, PyCF_ONLY_AST)\u001B[0m\n",
      "\u001B[0;36m  File \u001B[0;32m\"<unknown>\"\u001B[0;36m, line \u001B[0;32m34\u001B[0m\n\u001B[0;31m    }\u001B[0m\n\u001B[0m    ^\u001B[0m\n\u001B[0;31mSyntaxError\u001B[0m\u001B[0;31m:\u001B[0m invalid syntax\n"
     ]
    }
   ],
   "source": [
    "import pandas as pd\n",
    "import ast\n",
    "\n",
    "# todo fix syntax error\n",
    "# todo drop DETNLF\n",
    "\n",
    "# Load in data\n",
    "admissions = 'tedsa_puf_2019.csv'\n",
    "df = pd.read_csv(f'../../Downloads/{admissions}')\n",
    "\n",
    "with open('variable_dictionary.txt') as file:\n",
    "    variable_dict_string = file.read()\n",
    "    variable_dict = ast.literal_eval(variable_dict_string)"
   ]
  },
  {
   "cell_type": "code",
   "execution_count": null,
   "outputs": [],
   "source": [
    "df"
   ],
   "metadata": {
    "collapsed": false,
    "pycharm": {
     "name": "#%%\n"
    }
   }
  },
  {
   "cell_type": "code",
   "execution_count": 78,
   "outputs": [
    {
     "name": "stdout",
     "output_type": "stream",
     "text": [
      "{'AGE': {1: 'Age12To14', 2: 'Age15To17', 3: 'Age18To20', 4: 'Age21To24', 5: 'Age25To29', 6: 'Age30To34', 7: 'Age35To39', 8: 'Age40To44', 9: 'Age45To49', 10: 'Age50To54', 11: 'Age55To64', 12: 'Age65Plus'}, 'GENDER': {1: 'Male', 2: 'Female'}, 'RACE': {1: 'AmericanIndianOrAlaskaNative', 2: 'AmericanIndianOrAlaskaNative', 3: 'AsianOrPacificIslander', 4: 'Black', 5: 'White', 6: 'AsianOrPacificIslander', 7: 'OtherSingleRace', 8: 'TwoPlusRaces', 9: 'AsianOrPacificIslander'}}\n"
     ]
    },
    {
     "data": {
      "text/plain": "dict"
     },
     "execution_count": 78,
     "metadata": {},
     "output_type": "execute_result"
    }
   ],
   "source": [
    "print(variable_dict)\n",
    "type(variable_dict)"
   ],
   "metadata": {
    "collapsed": false,
    "pycharm": {
     "name": "#%%\n"
    }
   }
  },
  {
   "cell_type": "code",
   "execution_count": 90,
   "outputs": [],
   "source": [
    "df2 = df\n",
    "for col, col_dict in variable_dict.items():\n",
    "    for old_value, new_value in variable_dict[col].items():\n",
    "        df2[col] = df2[col].replace(old_value, new_value)"
   ],
   "metadata": {
    "collapsed": false,
    "pycharm": {
     "name": "#%%\n"
    }
   }
  },
  {
   "cell_type": "code",
   "execution_count": 99,
   "outputs": [
    {
     "data": {
      "text/plain": "0          Age12To14\n1          Age40To44\n2          Age25To29\n3          Age40To44\n4          Age40To44\n             ...    \n1864362    Age15To17\n1864363    Age15To17\n1864364    Age15To17\n1864365    Age12To14\n1864366    Age45To49\nName: AGE, Length: 1864367, dtype: object"
     },
     "execution_count": 99,
     "metadata": {},
     "output_type": "execute_result"
    }
   ],
   "source": [
    "df['AGE']"
   ],
   "metadata": {
    "collapsed": false,
    "pycharm": {
     "name": "#%%\n"
    }
   }
  },
  {
   "cell_type": "code",
   "execution_count": 97,
   "outputs": [
    {
     "data": {
      "text/plain": "0          Age12To14\n1          Age40To44\n2          Age25To29\n3          Age40To44\n4          Age40To44\n             ...    \n1864362    Age15To17\n1864363    Age15To17\n1864364    Age15To17\n1864365    Age12To14\n1864366    Age45To49\nName: AGE, Length: 1864367, dtype: object"
     },
     "execution_count": 97,
     "metadata": {},
     "output_type": "execute_result"
    }
   ],
   "source": [
    "df2['AGE']"
   ],
   "metadata": {
    "collapsed": false,
    "pycharm": {
     "name": "#%%\n"
    }
   }
  },
  {
   "cell_type": "code",
   "execution_count": null,
   "outputs": [],
   "source": [],
   "metadata": {
    "collapsed": false,
    "pycharm": {
     "name": "#%%\n"
    }
   }
  }
 ],
 "metadata": {
  "kernelspec": {
   "display_name": "Python 3",
   "language": "python",
   "name": "python3"
  },
  "language_info": {
   "codemirror_mode": {
    "name": "ipython",
    "version": 2
   },
   "file_extension": ".py",
   "mimetype": "text/x-python",
   "name": "python",
   "nbconvert_exporter": "python",
   "pygments_lexer": "ipython2",
   "version": "2.7.6"
  }
 },
 "nbformat": 4,
 "nbformat_minor": 0
}