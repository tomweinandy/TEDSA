{
 "cells": [
  {
   "cell_type": "markdown",
   "source": [
    "## Load data"
   ],
   "metadata": {
    "collapsed": false
   }
  },
  {
   "cell_type": "code",
   "execution_count": 1,
   "outputs": [],
   "source": [
    "import pandas as pd\n",
    "import ast\n",
    "import numpy as np\n",
    "\n",
    "# Load in data\n",
    "admissions = 'tedsa_puf_2019.csv'\n",
    "df = pd.read_csv(f'../../Downloads/{admissions}')"
   ],
   "metadata": {
    "collapsed": false,
    "pycharm": {
     "name": "#%%\n"
    }
   }
  },
  {
   "cell_type": "markdown",
   "source": [
    "## Compare SUB1 groups with DSMCRIT"
   ],
   "metadata": {
    "collapsed": false
   }
  },
  {
   "cell_type": "code",
   "execution_count": 2,
   "outputs": [],
   "source": [
    "sub1 = df['SUB1']\n",
    "for i in [1,2,3,4,8,9,10,11,12,13,14,15,16,17,18,19]:\n",
    "    sub1 = sub1.replace(i, 'Other')\n",
    "# sub1 = sub1.replace(-9, np.nan)\n",
    "\n",
    "dsmcrit = df['DSMCRIT']\n",
    "for i in [1,2,3,4,6,7,8,9,10,11,13,14,15,16,17,18,19]:\n",
    "    dsmcrit = dsmcrit.replace(i, 'Other')\n",
    "# dsmcrit = dsmcrit.replace(-9, np.nan)"
   ],
   "metadata": {
    "collapsed": false,
    "pycharm": {
     "name": "#%%\n"
    }
   }
  },
  {
   "cell_type": "code",
   "execution_count": 3,
   "outputs": [
    {
     "name": "stdout",
     "output_type": "stream",
     "text": [
      "See \"SUB1 DSMCRIT overlap.xlsx\" file for a better breakdown\n"
     ]
    }
   ],
   "source": [
    "df4 = pd.DataFrame()\n",
    "df4['SUB1'] = sub1\n",
    "df4['DSMCRIT'] = dsmcrit\n",
    "\n",
    "df4.value_counts()\n",
    "\n",
    "print('See \"SUB1 DSMCRIT overlap.xlsx\" file for a better breakdown')"
   ],
   "metadata": {
    "collapsed": false,
    "pycharm": {
     "name": "#%%\n"
    }
   }
  },
  {
   "cell_type": "markdown",
   "source": [
    "## Filter out select rows and columns"
   ],
   "metadata": {
    "collapsed": false
   }
  },
  {
   "cell_type": "code",
   "execution_count": 4,
   "outputs": [
    {
     "data": {
      "text/plain": "Index(['ADMYR', 'CASEID', 'STFIPS', 'CBSA2010', 'EDUC', 'MARSTAT', 'SERVICES',\n       'DETCRIM', 'NOPRIOR', 'PSOURCE', 'ARRESTS', 'EMPLOY', 'METHUSE',\n       'PSYPROB', 'PREG', 'GENDER', 'VET', 'LIVARAG', 'DAYWAIT', 'DSMCRIT',\n       'AGE', 'RACE', 'ETHNIC', 'DETNLF', 'PRIMINC', 'SUB1', 'SUB2', 'SUB3',\n       'ROUTE1', 'ROUTE2', 'ROUTE3', 'FREQ1', 'FREQ2', 'FREQ3', 'FRSTUSE1',\n       'FRSTUSE2', 'FRSTUSE3', 'HLTHINS', 'PRIMPAY', 'FREQ_ATND_SELF_HELP',\n       'ALCFLG', 'COKEFLG', 'MARFLG', 'HERFLG', 'METHFLG', 'OPSYNFLG',\n       'PCPFLG', 'HALLFLG', 'MTHAMFLG', 'AMPHFLG', 'STIMFLG', 'BENZFLG',\n       'TRNQFLG', 'BARBFLG', 'SEDHPFLG', 'INHFLG', 'OTCFLG', 'OTHERFLG',\n       'DIVISION', 'REGION', 'IDU', 'ALCDRUG'],\n      dtype='object')"
     },
     "execution_count": 4,
     "metadata": {},
     "output_type": "execute_result"
    }
   ],
   "source": [
    "df.columns"
   ],
   "metadata": {
    "collapsed": false,
    "pycharm": {
     "name": "#%%\n"
    }
   }
  },
  {
   "cell_type": "code",
   "execution_count": 5,
   "metadata": {
    "collapsed": true
   },
   "outputs": [
    {
     "name": "stdout",
     "output_type": "stream",
     "text": [
      "Dropped 3 columns (59 remain)\n",
      "Dropped 1,340,233 observations or 71.9% of the data (524,134 rows remain)\n"
     ]
    }
   ],
   "source": [
    "# Get count of original number of rows\n",
    "old_rows = len(df)\n",
    "\n",
    "# Drop Puerto Rico\n",
    "# df = df[df['STFIPS'] != 72]\n",
    "\n",
    "# Drop defined columns\n",
    "columns_to_drop = ['ADMYR', 'CASEID', 'CBSA2010']  # consider also dropping 'STFIPS'\n",
    "df = df.drop(columns=columns_to_drop)\n",
    "print(f'Dropped {len(columns_to_drop)} columns ({len(df.columns)} remain)')\n",
    "\n",
    "# Drop values where dependent variable is unknown\n",
    "df = df[df['METHUSE'] != -9]\n",
    "\n",
    "# Only keep patients admitted with self-described use of an opioid as their primary substance use (i.e., SUB1 = 5, 6, or 7)\n",
    "df = df[df['SUB1'].between(5, 7)]\n",
    "new_rows = len(df)\n",
    "percent_change = round(100*(old_rows-new_rows)/old_rows, 1)\n",
    "print(f'Dropped {\"{:,}\".format(old_rows-new_rows)} observations or {percent_change}% of the data ({\"{:,}\".format(new_rows)} rows remain)')\n",
    "\n",
    "df = df.reset_index(drop='index')"
   ]
  },
  {
   "cell_type": "code",
   "execution_count": 6,
   "outputs": [
    {
     "data": {
      "text/plain": "        STFIPS  EDUC  MARSTAT  SERVICES  DETCRIM  NOPRIOR  PSOURCE  ARRESTS  \\\n0            2     2        1         7       -9        3        1        0   \n1            2     3        1         7       -9        2        3        0   \n2            2     1        2         7       -9        5        2        0   \n3            2     3        1         7       -9        3        3        0   \n4            2     3        1         7       -9        1        2        0   \n...        ...   ...      ...       ...      ...      ...      ...      ...   \n524129      56    -9        2         6       -9        0        6        0   \n524130      56    -9        2         6        1        2        7        0   \n524131      56     3        1         7       -9        3        2        0   \n524132      56     1        1         7        3        0        7        0   \n524133      56     2        1         7        3        0        7        0   \n\n        EMPLOY  METHUSE  ...  TRNQFLG  BARBFLG  SEDHPFLG  INHFLG  OTCFLG  \\\n0            3        2  ...        0        0         0       0       0   \n1            4        1  ...        0        0         0       0       0   \n2            4        1  ...        0        0         0       0       0   \n3            4        1  ...        0        0         0       0       0   \n4            2        1  ...        0        0         0       0       0   \n...        ...      ...  ...      ...      ...       ...     ...     ...   \n524129       3        2  ...        0        0         0       0       0   \n524130       3        2  ...        0        0         0       0       0   \n524131       3        2  ...        0        0         1       0       0   \n524132       4        2  ...        0        0         0       0       0   \n524133       4        2  ...        0        0         0       0       0   \n\n        OTHERFLG  DIVISION  REGION  IDU  ALCDRUG  \n0              0         9       4    1        3  \n1              0         9       4    1        2  \n2              0         9       4    1        2  \n3              0         9       4    1        2  \n4              0         9       4    1        2  \n...          ...       ...     ...  ...      ...  \n524129         0         8       4    0        2  \n524130         0         8       4    0        2  \n524131         0         8       4    0        3  \n524132         0         8       4    0        2  \n524133         1         8       4    0        2  \n\n[524134 rows x 59 columns]",
      "text/html": "<div>\n<style scoped>\n    .dataframe tbody tr th:only-of-type {\n        vertical-align: middle;\n    }\n\n    .dataframe tbody tr th {\n        vertical-align: top;\n    }\n\n    .dataframe thead th {\n        text-align: right;\n    }\n</style>\n<table border=\"1\" class=\"dataframe\">\n  <thead>\n    <tr style=\"text-align: right;\">\n      <th></th>\n      <th>STFIPS</th>\n      <th>EDUC</th>\n      <th>MARSTAT</th>\n      <th>SERVICES</th>\n      <th>DETCRIM</th>\n      <th>NOPRIOR</th>\n      <th>PSOURCE</th>\n      <th>ARRESTS</th>\n      <th>EMPLOY</th>\n      <th>METHUSE</th>\n      <th>...</th>\n      <th>TRNQFLG</th>\n      <th>BARBFLG</th>\n      <th>SEDHPFLG</th>\n      <th>INHFLG</th>\n      <th>OTCFLG</th>\n      <th>OTHERFLG</th>\n      <th>DIVISION</th>\n      <th>REGION</th>\n      <th>IDU</th>\n      <th>ALCDRUG</th>\n    </tr>\n  </thead>\n  <tbody>\n    <tr>\n      <th>0</th>\n      <td>2</td>\n      <td>2</td>\n      <td>1</td>\n      <td>7</td>\n      <td>-9</td>\n      <td>3</td>\n      <td>1</td>\n      <td>0</td>\n      <td>3</td>\n      <td>2</td>\n      <td>...</td>\n      <td>0</td>\n      <td>0</td>\n      <td>0</td>\n      <td>0</td>\n      <td>0</td>\n      <td>0</td>\n      <td>9</td>\n      <td>4</td>\n      <td>1</td>\n      <td>3</td>\n    </tr>\n    <tr>\n      <th>1</th>\n      <td>2</td>\n      <td>3</td>\n      <td>1</td>\n      <td>7</td>\n      <td>-9</td>\n      <td>2</td>\n      <td>3</td>\n      <td>0</td>\n      <td>4</td>\n      <td>1</td>\n      <td>...</td>\n      <td>0</td>\n      <td>0</td>\n      <td>0</td>\n      <td>0</td>\n      <td>0</td>\n      <td>0</td>\n      <td>9</td>\n      <td>4</td>\n      <td>1</td>\n      <td>2</td>\n    </tr>\n    <tr>\n      <th>2</th>\n      <td>2</td>\n      <td>1</td>\n      <td>2</td>\n      <td>7</td>\n      <td>-9</td>\n      <td>5</td>\n      <td>2</td>\n      <td>0</td>\n      <td>4</td>\n      <td>1</td>\n      <td>...</td>\n      <td>0</td>\n      <td>0</td>\n      <td>0</td>\n      <td>0</td>\n      <td>0</td>\n      <td>0</td>\n      <td>9</td>\n      <td>4</td>\n      <td>1</td>\n      <td>2</td>\n    </tr>\n    <tr>\n      <th>3</th>\n      <td>2</td>\n      <td>3</td>\n      <td>1</td>\n      <td>7</td>\n      <td>-9</td>\n      <td>3</td>\n      <td>3</td>\n      <td>0</td>\n      <td>4</td>\n      <td>1</td>\n      <td>...</td>\n      <td>0</td>\n      <td>0</td>\n      <td>0</td>\n      <td>0</td>\n      <td>0</td>\n      <td>0</td>\n      <td>9</td>\n      <td>4</td>\n      <td>1</td>\n      <td>2</td>\n    </tr>\n    <tr>\n      <th>4</th>\n      <td>2</td>\n      <td>3</td>\n      <td>1</td>\n      <td>7</td>\n      <td>-9</td>\n      <td>1</td>\n      <td>2</td>\n      <td>0</td>\n      <td>2</td>\n      <td>1</td>\n      <td>...</td>\n      <td>0</td>\n      <td>0</td>\n      <td>0</td>\n      <td>0</td>\n      <td>0</td>\n      <td>0</td>\n      <td>9</td>\n      <td>4</td>\n      <td>1</td>\n      <td>2</td>\n    </tr>\n    <tr>\n      <th>...</th>\n      <td>...</td>\n      <td>...</td>\n      <td>...</td>\n      <td>...</td>\n      <td>...</td>\n      <td>...</td>\n      <td>...</td>\n      <td>...</td>\n      <td>...</td>\n      <td>...</td>\n      <td>...</td>\n      <td>...</td>\n      <td>...</td>\n      <td>...</td>\n      <td>...</td>\n      <td>...</td>\n      <td>...</td>\n      <td>...</td>\n      <td>...</td>\n      <td>...</td>\n      <td>...</td>\n    </tr>\n    <tr>\n      <th>524129</th>\n      <td>56</td>\n      <td>-9</td>\n      <td>2</td>\n      <td>6</td>\n      <td>-9</td>\n      <td>0</td>\n      <td>6</td>\n      <td>0</td>\n      <td>3</td>\n      <td>2</td>\n      <td>...</td>\n      <td>0</td>\n      <td>0</td>\n      <td>0</td>\n      <td>0</td>\n      <td>0</td>\n      <td>0</td>\n      <td>8</td>\n      <td>4</td>\n      <td>0</td>\n      <td>2</td>\n    </tr>\n    <tr>\n      <th>524130</th>\n      <td>56</td>\n      <td>-9</td>\n      <td>2</td>\n      <td>6</td>\n      <td>1</td>\n      <td>2</td>\n      <td>7</td>\n      <td>0</td>\n      <td>3</td>\n      <td>2</td>\n      <td>...</td>\n      <td>0</td>\n      <td>0</td>\n      <td>0</td>\n      <td>0</td>\n      <td>0</td>\n      <td>0</td>\n      <td>8</td>\n      <td>4</td>\n      <td>0</td>\n      <td>2</td>\n    </tr>\n    <tr>\n      <th>524131</th>\n      <td>56</td>\n      <td>3</td>\n      <td>1</td>\n      <td>7</td>\n      <td>-9</td>\n      <td>3</td>\n      <td>2</td>\n      <td>0</td>\n      <td>3</td>\n      <td>2</td>\n      <td>...</td>\n      <td>0</td>\n      <td>0</td>\n      <td>1</td>\n      <td>0</td>\n      <td>0</td>\n      <td>0</td>\n      <td>8</td>\n      <td>4</td>\n      <td>0</td>\n      <td>3</td>\n    </tr>\n    <tr>\n      <th>524132</th>\n      <td>56</td>\n      <td>1</td>\n      <td>1</td>\n      <td>7</td>\n      <td>3</td>\n      <td>0</td>\n      <td>7</td>\n      <td>0</td>\n      <td>4</td>\n      <td>2</td>\n      <td>...</td>\n      <td>0</td>\n      <td>0</td>\n      <td>0</td>\n      <td>0</td>\n      <td>0</td>\n      <td>0</td>\n      <td>8</td>\n      <td>4</td>\n      <td>0</td>\n      <td>2</td>\n    </tr>\n    <tr>\n      <th>524133</th>\n      <td>56</td>\n      <td>2</td>\n      <td>1</td>\n      <td>7</td>\n      <td>3</td>\n      <td>0</td>\n      <td>7</td>\n      <td>0</td>\n      <td>4</td>\n      <td>2</td>\n      <td>...</td>\n      <td>0</td>\n      <td>0</td>\n      <td>0</td>\n      <td>0</td>\n      <td>0</td>\n      <td>1</td>\n      <td>8</td>\n      <td>4</td>\n      <td>0</td>\n      <td>2</td>\n    </tr>\n  </tbody>\n</table>\n<p>524134 rows × 59 columns</p>\n</div>"
     },
     "execution_count": 6,
     "metadata": {},
     "output_type": "execute_result"
    }
   ],
   "source": [
    "df"
   ],
   "metadata": {
    "collapsed": false,
    "pycharm": {
     "name": "#%%\n"
    }
   }
  },
  {
   "cell_type": "markdown",
   "source": [
    "## Make dataset human-readable"
   ],
   "metadata": {
    "collapsed": false
   }
  },
  {
   "cell_type": "code",
   "execution_count": 7,
   "outputs": [],
   "source": [
    "# Load in variable dictionary\n",
    "with open('VariableDictionary.txt') as file:\n",
    "    variable_dict_string = file.read()\n",
    "    variable_dict = ast.literal_eval(variable_dict_string)\n",
    "\n",
    "# Rename entries in column according to dictionary\n",
    "df2 = df.copy()\n",
    "for col, col_dict in variable_dict.items():\n",
    "    for old_value, new_value in variable_dict[col].items():\n",
    "        df2[col] = df2[col].replace(old_value, new_value)\n",
    "\n",
    "# Rename \"-9\" values as \"Unknown\"\n",
    "for col in df2.columns:\n",
    "    df2[col] = df2[col].replace(-9, 'Unknown')"
   ],
   "metadata": {
    "collapsed": false,
    "pycharm": {
     "name": "#%%\n"
    }
   }
  },
  {
   "cell_type": "code",
   "execution_count": 8,
   "outputs": [],
   "source": [
    "# Merge DETNLF (detailed not in labor force) into EMPLOY==4 (not in labor force)\n",
    "detailed_employ = []\n",
    "\n",
    "for idx, value in df2.iterrows():\n",
    "    if value['EMPLOY'] == 'NotInLaborForce':\n",
    "        if value['DETNLF'] == 'Unknown':\n",
    "            # Assign 'UnknownNotInLaborForce' if 'NotInLaborForce' and 'Unknown'\n",
    "            detailed_employ.append('UnknownNotInLaborForce')\n",
    "        else:\n",
    "            # Otherwise, assign as the DETNLF value\n",
    "            detailed_employ.append(value['DETNLF'])\n",
    "    else:\n",
    "        # Assign the EMPLOY value if not 'NotInLaborForce'\n",
    "        detailed_employ.append(value['EMPLOY'])\n",
    "\n",
    "# Add a new column for detailed employment and drop the two source columns\n",
    "df2['DETEMPLOY'] = detailed_employ\n",
    "df2 = df2.drop(columns=['EMPLOY', 'DETNLF'])"
   ],
   "metadata": {
    "collapsed": false,
    "pycharm": {
     "name": "#%%\n"
    }
   }
  },
  {
   "cell_type": "code",
   "execution_count": 9,
   "outputs": [
    {
     "data": {
      "text/plain": "       STFIPS          EDUC       MARSTAT                          SERVICES  \\\n0          AK    Grade9To11  NeverMarried  AmbulatoryNonIntensiveOutpatient   \n1          AK  Grade12OrGED  NeverMarried  AmbulatoryNonIntensiveOutpatient   \n2          AK  Grade8OrLess    NowMarried  AmbulatoryNonIntensiveOutpatient   \n3          AK  Grade12OrGED  NeverMarried  AmbulatoryNonIntensiveOutpatient   \n4          AK  Grade12OrGED  NeverMarried  AmbulatoryNonIntensiveOutpatient   \n...       ...           ...           ...                               ...   \n524129     WY       Unknown    NowMarried     AmbulatoryIntensiveOutpatient   \n524130     WY       Unknown    NowMarried     AmbulatoryIntensiveOutpatient   \n524131     WY  Grade12OrGED  NeverMarried  AmbulatoryNonIntensiveOutpatient   \n524132     WY  Grade8OrLess  NeverMarried  AmbulatoryNonIntensiveOutpatient   \n524133     WY    Grade9To11  NeverMarried  AmbulatoryNonIntensiveOutpatient   \n\n                  DETCRIM               NOPRIOR                  PSOURCE  \\\n0                 Unknown      3PriorTreatments               Individual   \n1                 Unknown      2PriorTreatments  OtherHealthCareProvider   \n2                 Unknown  5PlusPriorTreatments         DrugCareProvider   \n3                 Unknown      3PriorTreatments  OtherHealthCareProvider   \n4                 Unknown      1PriorTreatments         DrugCareProvider   \n...                   ...                   ...                      ...   \n524129            Unknown      0PriorTreatments            OtherReferral   \n524130              Court      2PriorTreatments            CourtReferral   \n524131            Unknown      3PriorTreatments         DrugCareProvider   \n524132  ProbationOrParole      0PriorTreatments            CourtReferral   \n524133  ProbationOrParole      0PriorTreatments            CourtReferral   \n\n        ARRESTS    METHUSE PSYPROB  ...      BARBFLG     SEDHPFLG  \\\n0       0Arrest  NoMethUse      No  ...  NotReported  NotReported   \n1       0Arrest    MethUse      No  ...  NotReported  NotReported   \n2       0Arrest    MethUse     Yes  ...  NotReported  NotReported   \n3       0Arrest    MethUse      No  ...  NotReported  NotReported   \n4       0Arrest    MethUse     Yes  ...  NotReported  NotReported   \n...         ...        ...     ...  ...          ...          ...   \n524129  0Arrest  NoMethUse      No  ...  NotReported  NotReported   \n524130  0Arrest  NoMethUse      No  ...  NotReported  NotReported   \n524131  0Arrest  NoMethUse     Yes  ...  NotReported     Reported   \n524132  0Arrest  NoMethUse      No  ...  NotReported  NotReported   \n524133  0Arrest  NoMethUse      No  ...  NotReported  NotReported   \n\n             INHFLG       OTCFLG     OTHERFLG  DIVISION REGION    IDU  \\\n0       NotReported  NotReported  NotReported   Pacific   West    IDU   \n1       NotReported  NotReported  NotReported   Pacific   West    IDU   \n2       NotReported  NotReported  NotReported   Pacific   West    IDU   \n3       NotReported  NotReported  NotReported   Pacific   West    IDU   \n4       NotReported  NotReported  NotReported   Pacific   West    IDU   \n...             ...          ...          ...       ...    ...    ...   \n524129  NotReported  NotReported  NotReported  Mountain   West  NoIDU   \n524130  NotReported  NotReported  NotReported  Mountain   West  NoIDU   \n524131  NotReported  NotReported  NotReported  Mountain   West  NoIDU   \n524132  NotReported  NotReported  NotReported  Mountain   West  NoIDU   \n524133  NotReported  NotReported     Reported  Mountain   West  NoIDU   \n\n              ALCDRUG             DETEMPLOY  \n0       Alcohol&Drugs            Unemployed  \n1          OtherDrugs  OtherNotInLaborForce  \n2          OtherDrugs     RetiredOrDisabled  \n3          OtherDrugs  OtherNotInLaborForce  \n4          OtherDrugs              PartTime  \n...               ...                   ...  \n524129     OtherDrugs            Unemployed  \n524130     OtherDrugs            Unemployed  \n524131  Alcohol&Drugs            Unemployed  \n524132     OtherDrugs   InstitutionResident  \n524133     OtherDrugs   InstitutionResident  \n\n[524134 rows x 58 columns]",
      "text/html": "<div>\n<style scoped>\n    .dataframe tbody tr th:only-of-type {\n        vertical-align: middle;\n    }\n\n    .dataframe tbody tr th {\n        vertical-align: top;\n    }\n\n    .dataframe thead th {\n        text-align: right;\n    }\n</style>\n<table border=\"1\" class=\"dataframe\">\n  <thead>\n    <tr style=\"text-align: right;\">\n      <th></th>\n      <th>STFIPS</th>\n      <th>EDUC</th>\n      <th>MARSTAT</th>\n      <th>SERVICES</th>\n      <th>DETCRIM</th>\n      <th>NOPRIOR</th>\n      <th>PSOURCE</th>\n      <th>ARRESTS</th>\n      <th>METHUSE</th>\n      <th>PSYPROB</th>\n      <th>...</th>\n      <th>BARBFLG</th>\n      <th>SEDHPFLG</th>\n      <th>INHFLG</th>\n      <th>OTCFLG</th>\n      <th>OTHERFLG</th>\n      <th>DIVISION</th>\n      <th>REGION</th>\n      <th>IDU</th>\n      <th>ALCDRUG</th>\n      <th>DETEMPLOY</th>\n    </tr>\n  </thead>\n  <tbody>\n    <tr>\n      <th>0</th>\n      <td>AK</td>\n      <td>Grade9To11</td>\n      <td>NeverMarried</td>\n      <td>AmbulatoryNonIntensiveOutpatient</td>\n      <td>Unknown</td>\n      <td>3PriorTreatments</td>\n      <td>Individual</td>\n      <td>0Arrest</td>\n      <td>NoMethUse</td>\n      <td>No</td>\n      <td>...</td>\n      <td>NotReported</td>\n      <td>NotReported</td>\n      <td>NotReported</td>\n      <td>NotReported</td>\n      <td>NotReported</td>\n      <td>Pacific</td>\n      <td>West</td>\n      <td>IDU</td>\n      <td>Alcohol&amp;Drugs</td>\n      <td>Unemployed</td>\n    </tr>\n    <tr>\n      <th>1</th>\n      <td>AK</td>\n      <td>Grade12OrGED</td>\n      <td>NeverMarried</td>\n      <td>AmbulatoryNonIntensiveOutpatient</td>\n      <td>Unknown</td>\n      <td>2PriorTreatments</td>\n      <td>OtherHealthCareProvider</td>\n      <td>0Arrest</td>\n      <td>MethUse</td>\n      <td>No</td>\n      <td>...</td>\n      <td>NotReported</td>\n      <td>NotReported</td>\n      <td>NotReported</td>\n      <td>NotReported</td>\n      <td>NotReported</td>\n      <td>Pacific</td>\n      <td>West</td>\n      <td>IDU</td>\n      <td>OtherDrugs</td>\n      <td>OtherNotInLaborForce</td>\n    </tr>\n    <tr>\n      <th>2</th>\n      <td>AK</td>\n      <td>Grade8OrLess</td>\n      <td>NowMarried</td>\n      <td>AmbulatoryNonIntensiveOutpatient</td>\n      <td>Unknown</td>\n      <td>5PlusPriorTreatments</td>\n      <td>DrugCareProvider</td>\n      <td>0Arrest</td>\n      <td>MethUse</td>\n      <td>Yes</td>\n      <td>...</td>\n      <td>NotReported</td>\n      <td>NotReported</td>\n      <td>NotReported</td>\n      <td>NotReported</td>\n      <td>NotReported</td>\n      <td>Pacific</td>\n      <td>West</td>\n      <td>IDU</td>\n      <td>OtherDrugs</td>\n      <td>RetiredOrDisabled</td>\n    </tr>\n    <tr>\n      <th>3</th>\n      <td>AK</td>\n      <td>Grade12OrGED</td>\n      <td>NeverMarried</td>\n      <td>AmbulatoryNonIntensiveOutpatient</td>\n      <td>Unknown</td>\n      <td>3PriorTreatments</td>\n      <td>OtherHealthCareProvider</td>\n      <td>0Arrest</td>\n      <td>MethUse</td>\n      <td>No</td>\n      <td>...</td>\n      <td>NotReported</td>\n      <td>NotReported</td>\n      <td>NotReported</td>\n      <td>NotReported</td>\n      <td>NotReported</td>\n      <td>Pacific</td>\n      <td>West</td>\n      <td>IDU</td>\n      <td>OtherDrugs</td>\n      <td>OtherNotInLaborForce</td>\n    </tr>\n    <tr>\n      <th>4</th>\n      <td>AK</td>\n      <td>Grade12OrGED</td>\n      <td>NeverMarried</td>\n      <td>AmbulatoryNonIntensiveOutpatient</td>\n      <td>Unknown</td>\n      <td>1PriorTreatments</td>\n      <td>DrugCareProvider</td>\n      <td>0Arrest</td>\n      <td>MethUse</td>\n      <td>Yes</td>\n      <td>...</td>\n      <td>NotReported</td>\n      <td>NotReported</td>\n      <td>NotReported</td>\n      <td>NotReported</td>\n      <td>NotReported</td>\n      <td>Pacific</td>\n      <td>West</td>\n      <td>IDU</td>\n      <td>OtherDrugs</td>\n      <td>PartTime</td>\n    </tr>\n    <tr>\n      <th>...</th>\n      <td>...</td>\n      <td>...</td>\n      <td>...</td>\n      <td>...</td>\n      <td>...</td>\n      <td>...</td>\n      <td>...</td>\n      <td>...</td>\n      <td>...</td>\n      <td>...</td>\n      <td>...</td>\n      <td>...</td>\n      <td>...</td>\n      <td>...</td>\n      <td>...</td>\n      <td>...</td>\n      <td>...</td>\n      <td>...</td>\n      <td>...</td>\n      <td>...</td>\n      <td>...</td>\n    </tr>\n    <tr>\n      <th>524129</th>\n      <td>WY</td>\n      <td>Unknown</td>\n      <td>NowMarried</td>\n      <td>AmbulatoryIntensiveOutpatient</td>\n      <td>Unknown</td>\n      <td>0PriorTreatments</td>\n      <td>OtherReferral</td>\n      <td>0Arrest</td>\n      <td>NoMethUse</td>\n      <td>No</td>\n      <td>...</td>\n      <td>NotReported</td>\n      <td>NotReported</td>\n      <td>NotReported</td>\n      <td>NotReported</td>\n      <td>NotReported</td>\n      <td>Mountain</td>\n      <td>West</td>\n      <td>NoIDU</td>\n      <td>OtherDrugs</td>\n      <td>Unemployed</td>\n    </tr>\n    <tr>\n      <th>524130</th>\n      <td>WY</td>\n      <td>Unknown</td>\n      <td>NowMarried</td>\n      <td>AmbulatoryIntensiveOutpatient</td>\n      <td>Court</td>\n      <td>2PriorTreatments</td>\n      <td>CourtReferral</td>\n      <td>0Arrest</td>\n      <td>NoMethUse</td>\n      <td>No</td>\n      <td>...</td>\n      <td>NotReported</td>\n      <td>NotReported</td>\n      <td>NotReported</td>\n      <td>NotReported</td>\n      <td>NotReported</td>\n      <td>Mountain</td>\n      <td>West</td>\n      <td>NoIDU</td>\n      <td>OtherDrugs</td>\n      <td>Unemployed</td>\n    </tr>\n    <tr>\n      <th>524131</th>\n      <td>WY</td>\n      <td>Grade12OrGED</td>\n      <td>NeverMarried</td>\n      <td>AmbulatoryNonIntensiveOutpatient</td>\n      <td>Unknown</td>\n      <td>3PriorTreatments</td>\n      <td>DrugCareProvider</td>\n      <td>0Arrest</td>\n      <td>NoMethUse</td>\n      <td>Yes</td>\n      <td>...</td>\n      <td>NotReported</td>\n      <td>Reported</td>\n      <td>NotReported</td>\n      <td>NotReported</td>\n      <td>NotReported</td>\n      <td>Mountain</td>\n      <td>West</td>\n      <td>NoIDU</td>\n      <td>Alcohol&amp;Drugs</td>\n      <td>Unemployed</td>\n    </tr>\n    <tr>\n      <th>524132</th>\n      <td>WY</td>\n      <td>Grade8OrLess</td>\n      <td>NeverMarried</td>\n      <td>AmbulatoryNonIntensiveOutpatient</td>\n      <td>ProbationOrParole</td>\n      <td>0PriorTreatments</td>\n      <td>CourtReferral</td>\n      <td>0Arrest</td>\n      <td>NoMethUse</td>\n      <td>No</td>\n      <td>...</td>\n      <td>NotReported</td>\n      <td>NotReported</td>\n      <td>NotReported</td>\n      <td>NotReported</td>\n      <td>NotReported</td>\n      <td>Mountain</td>\n      <td>West</td>\n      <td>NoIDU</td>\n      <td>OtherDrugs</td>\n      <td>InstitutionResident</td>\n    </tr>\n    <tr>\n      <th>524133</th>\n      <td>WY</td>\n      <td>Grade9To11</td>\n      <td>NeverMarried</td>\n      <td>AmbulatoryNonIntensiveOutpatient</td>\n      <td>ProbationOrParole</td>\n      <td>0PriorTreatments</td>\n      <td>CourtReferral</td>\n      <td>0Arrest</td>\n      <td>NoMethUse</td>\n      <td>No</td>\n      <td>...</td>\n      <td>NotReported</td>\n      <td>NotReported</td>\n      <td>NotReported</td>\n      <td>NotReported</td>\n      <td>Reported</td>\n      <td>Mountain</td>\n      <td>West</td>\n      <td>NoIDU</td>\n      <td>OtherDrugs</td>\n      <td>InstitutionResident</td>\n    </tr>\n  </tbody>\n</table>\n<p>524134 rows × 58 columns</p>\n</div>"
     },
     "execution_count": 9,
     "metadata": {},
     "output_type": "execute_result"
    }
   ],
   "source": [
    "df2"
   ],
   "metadata": {
    "collapsed": false,
    "pycharm": {
     "name": "#%%\n"
    }
   }
  },
  {
   "cell_type": "markdown",
   "source": [
    "## Make machine-readable dataset (for exporting)\n",
    "todo instead of using get_dummies, identify which variables are ordinal and which nominal"
   ],
   "metadata": {
    "collapsed": false
   }
  },
  {
   "cell_type": "code",
   "execution_count": 10,
   "outputs": [],
   "source": [
    "# Remove dependent variable\n",
    "df2['METHUSE'] = df2['METHUSE'].replace('MethUse', 1)\n",
    "df2['METHUSE'] = df2['METHUSE'].replace('NoMethUse', 0)\n",
    "\n",
    "# df2.to_csv('human_readable_data.csv', index=False)"
   ],
   "metadata": {
    "collapsed": false,
    "pycharm": {
     "name": "#%%\n"
    }
   }
  },
  {
   "cell_type": "code",
   "execution_count": 11,
   "outputs": [
    {
     "data": {
      "text/plain": "        Intercept  METHUSE  STFIPS_72  STFIPS_AK  STFIPS_AL  STFIPS_AR  \\\n0               1        0          0          1          0          0   \n1               1        1          0          1          0          0   \n2               1        1          0          1          0          0   \n3               1        1          0          1          0          0   \n4               1        1          0          1          0          0   \n...           ...      ...        ...        ...        ...        ...   \n524129          1        0          0          0          0          0   \n524130          1        0          0          0          0          0   \n524131          1        0          0          0          0          0   \n524132          1        0          0          0          0          0   \n524133          1        0          0          0          0          0   \n\n        STFIPS_AZ  STFIPS_CA  STFIPS_CO  STFIPS_CT  ...  DETEMPLOY_FullTime  \\\n0               0          0          0          0  ...                   0   \n1               0          0          0          0  ...                   0   \n2               0          0          0          0  ...                   0   \n3               0          0          0          0  ...                   0   \n4               0          0          0          0  ...                   0   \n...           ...        ...        ...        ...  ...                 ...   \n524129          0          0          0          0  ...                   0   \n524130          0          0          0          0  ...                   0   \n524131          0          0          0          0  ...                   0   \n524132          0          0          0          0  ...                   0   \n524133          0          0          0          0  ...                   0   \n\n        DETEMPLOY_Homemaker  DETEMPLOY_InstitutionResident  \\\n0                         0                              0   \n1                         0                              0   \n2                         0                              0   \n3                         0                              0   \n4                         0                              0   \n...                     ...                            ...   \n524129                    0                              0   \n524130                    0                              0   \n524131                    0                              0   \n524132                    0                              1   \n524133                    0                              1   \n\n        DETEMPLOY_OtherNotInLaborForce  DETEMPLOY_PartTime  \\\n0                                    0                   0   \n1                                    1                   0   \n2                                    0                   0   \n3                                    1                   0   \n4                                    0                   1   \n...                                ...                 ...   \n524129                               0                   0   \n524130                               0                   0   \n524131                               0                   0   \n524132                               0                   0   \n524133                               0                   0   \n\n        DETEMPLOY_RetiredOrDisabled  DETEMPLOY_Student  DETEMPLOY_Unemployed  \\\n0                                 0                  0                     1   \n1                                 0                  0                     0   \n2                                 1                  0                     0   \n3                                 0                  0                     0   \n4                                 0                  0                     0   \n...                             ...                ...                   ...   \n524129                            0                  0                     1   \n524130                            0                  0                     1   \n524131                            0                  0                     1   \n524132                            0                  0                     0   \n524133                            0                  0                     0   \n\n        DETEMPLOY_Unknown  DETEMPLOY_UnknownNotInLaborForce  \n0                       0                                 0  \n1                       0                                 0  \n2                       0                                 0  \n3                       0                                 0  \n4                       0                                 0  \n...                   ...                               ...  \n524129                  0                                 0  \n524130                  0                                 0  \n524131                  0                                 0  \n524132                  0                                 0  \n524133                  0                                 0  \n\n[524134 rows x 354 columns]",
      "text/html": "<div>\n<style scoped>\n    .dataframe tbody tr th:only-of-type {\n        vertical-align: middle;\n    }\n\n    .dataframe tbody tr th {\n        vertical-align: top;\n    }\n\n    .dataframe thead th {\n        text-align: right;\n    }\n</style>\n<table border=\"1\" class=\"dataframe\">\n  <thead>\n    <tr style=\"text-align: right;\">\n      <th></th>\n      <th>Intercept</th>\n      <th>METHUSE</th>\n      <th>STFIPS_72</th>\n      <th>STFIPS_AK</th>\n      <th>STFIPS_AL</th>\n      <th>STFIPS_AR</th>\n      <th>STFIPS_AZ</th>\n      <th>STFIPS_CA</th>\n      <th>STFIPS_CO</th>\n      <th>STFIPS_CT</th>\n      <th>...</th>\n      <th>DETEMPLOY_FullTime</th>\n      <th>DETEMPLOY_Homemaker</th>\n      <th>DETEMPLOY_InstitutionResident</th>\n      <th>DETEMPLOY_OtherNotInLaborForce</th>\n      <th>DETEMPLOY_PartTime</th>\n      <th>DETEMPLOY_RetiredOrDisabled</th>\n      <th>DETEMPLOY_Student</th>\n      <th>DETEMPLOY_Unemployed</th>\n      <th>DETEMPLOY_Unknown</th>\n      <th>DETEMPLOY_UnknownNotInLaborForce</th>\n    </tr>\n  </thead>\n  <tbody>\n    <tr>\n      <th>0</th>\n      <td>1</td>\n      <td>0</td>\n      <td>0</td>\n      <td>1</td>\n      <td>0</td>\n      <td>0</td>\n      <td>0</td>\n      <td>0</td>\n      <td>0</td>\n      <td>0</td>\n      <td>...</td>\n      <td>0</td>\n      <td>0</td>\n      <td>0</td>\n      <td>0</td>\n      <td>0</td>\n      <td>0</td>\n      <td>0</td>\n      <td>1</td>\n      <td>0</td>\n      <td>0</td>\n    </tr>\n    <tr>\n      <th>1</th>\n      <td>1</td>\n      <td>1</td>\n      <td>0</td>\n      <td>1</td>\n      <td>0</td>\n      <td>0</td>\n      <td>0</td>\n      <td>0</td>\n      <td>0</td>\n      <td>0</td>\n      <td>...</td>\n      <td>0</td>\n      <td>0</td>\n      <td>0</td>\n      <td>1</td>\n      <td>0</td>\n      <td>0</td>\n      <td>0</td>\n      <td>0</td>\n      <td>0</td>\n      <td>0</td>\n    </tr>\n    <tr>\n      <th>2</th>\n      <td>1</td>\n      <td>1</td>\n      <td>0</td>\n      <td>1</td>\n      <td>0</td>\n      <td>0</td>\n      <td>0</td>\n      <td>0</td>\n      <td>0</td>\n      <td>0</td>\n      <td>...</td>\n      <td>0</td>\n      <td>0</td>\n      <td>0</td>\n      <td>0</td>\n      <td>0</td>\n      <td>1</td>\n      <td>0</td>\n      <td>0</td>\n      <td>0</td>\n      <td>0</td>\n    </tr>\n    <tr>\n      <th>3</th>\n      <td>1</td>\n      <td>1</td>\n      <td>0</td>\n      <td>1</td>\n      <td>0</td>\n      <td>0</td>\n      <td>0</td>\n      <td>0</td>\n      <td>0</td>\n      <td>0</td>\n      <td>...</td>\n      <td>0</td>\n      <td>0</td>\n      <td>0</td>\n      <td>1</td>\n      <td>0</td>\n      <td>0</td>\n      <td>0</td>\n      <td>0</td>\n      <td>0</td>\n      <td>0</td>\n    </tr>\n    <tr>\n      <th>4</th>\n      <td>1</td>\n      <td>1</td>\n      <td>0</td>\n      <td>1</td>\n      <td>0</td>\n      <td>0</td>\n      <td>0</td>\n      <td>0</td>\n      <td>0</td>\n      <td>0</td>\n      <td>...</td>\n      <td>0</td>\n      <td>0</td>\n      <td>0</td>\n      <td>0</td>\n      <td>1</td>\n      <td>0</td>\n      <td>0</td>\n      <td>0</td>\n      <td>0</td>\n      <td>0</td>\n    </tr>\n    <tr>\n      <th>...</th>\n      <td>...</td>\n      <td>...</td>\n      <td>...</td>\n      <td>...</td>\n      <td>...</td>\n      <td>...</td>\n      <td>...</td>\n      <td>...</td>\n      <td>...</td>\n      <td>...</td>\n      <td>...</td>\n      <td>...</td>\n      <td>...</td>\n      <td>...</td>\n      <td>...</td>\n      <td>...</td>\n      <td>...</td>\n      <td>...</td>\n      <td>...</td>\n      <td>...</td>\n      <td>...</td>\n    </tr>\n    <tr>\n      <th>524129</th>\n      <td>1</td>\n      <td>0</td>\n      <td>0</td>\n      <td>0</td>\n      <td>0</td>\n      <td>0</td>\n      <td>0</td>\n      <td>0</td>\n      <td>0</td>\n      <td>0</td>\n      <td>...</td>\n      <td>0</td>\n      <td>0</td>\n      <td>0</td>\n      <td>0</td>\n      <td>0</td>\n      <td>0</td>\n      <td>0</td>\n      <td>1</td>\n      <td>0</td>\n      <td>0</td>\n    </tr>\n    <tr>\n      <th>524130</th>\n      <td>1</td>\n      <td>0</td>\n      <td>0</td>\n      <td>0</td>\n      <td>0</td>\n      <td>0</td>\n      <td>0</td>\n      <td>0</td>\n      <td>0</td>\n      <td>0</td>\n      <td>...</td>\n      <td>0</td>\n      <td>0</td>\n      <td>0</td>\n      <td>0</td>\n      <td>0</td>\n      <td>0</td>\n      <td>0</td>\n      <td>1</td>\n      <td>0</td>\n      <td>0</td>\n    </tr>\n    <tr>\n      <th>524131</th>\n      <td>1</td>\n      <td>0</td>\n      <td>0</td>\n      <td>0</td>\n      <td>0</td>\n      <td>0</td>\n      <td>0</td>\n      <td>0</td>\n      <td>0</td>\n      <td>0</td>\n      <td>...</td>\n      <td>0</td>\n      <td>0</td>\n      <td>0</td>\n      <td>0</td>\n      <td>0</td>\n      <td>0</td>\n      <td>0</td>\n      <td>1</td>\n      <td>0</td>\n      <td>0</td>\n    </tr>\n    <tr>\n      <th>524132</th>\n      <td>1</td>\n      <td>0</td>\n      <td>0</td>\n      <td>0</td>\n      <td>0</td>\n      <td>0</td>\n      <td>0</td>\n      <td>0</td>\n      <td>0</td>\n      <td>0</td>\n      <td>...</td>\n      <td>0</td>\n      <td>0</td>\n      <td>1</td>\n      <td>0</td>\n      <td>0</td>\n      <td>0</td>\n      <td>0</td>\n      <td>0</td>\n      <td>0</td>\n      <td>0</td>\n    </tr>\n    <tr>\n      <th>524133</th>\n      <td>1</td>\n      <td>0</td>\n      <td>0</td>\n      <td>0</td>\n      <td>0</td>\n      <td>0</td>\n      <td>0</td>\n      <td>0</td>\n      <td>0</td>\n      <td>0</td>\n      <td>...</td>\n      <td>0</td>\n      <td>0</td>\n      <td>1</td>\n      <td>0</td>\n      <td>0</td>\n      <td>0</td>\n      <td>0</td>\n      <td>0</td>\n      <td>0</td>\n      <td>0</td>\n    </tr>\n  </tbody>\n</table>\n<p>524134 rows × 354 columns</p>\n</div>"
     },
     "execution_count": 11,
     "metadata": {},
     "output_type": "execute_result"
    }
   ],
   "source": [
    "df3 = df2.copy()\n",
    "\n",
    "# Convert categorical variables to dummy variables\n",
    "df3 = pd.get_dummies(df3)\n",
    "\n",
    "# Add intercept\n",
    "df3.insert(0, 'Intercept', 1)\n",
    "\n",
    "# Save dataframe to csv and show below\n",
    "# df3.to_csv('data.csv', index=False)\n",
    "df3"
   ],
   "metadata": {
    "collapsed": false,
    "pycharm": {
     "name": "#%%\n"
    }
   }
  },
  {
   "cell_type": "markdown",
   "source": [
    "### Make machine-readable dataset (encoding)"
   ],
   "metadata": {
    "collapsed": false
   }
  },
  {
   "cell_type": "code",
   "execution_count": 50,
   "outputs": [],
   "source": [
    "# from numpy import asarray\n",
    "from sklearn.preprocessing import LabelEncoder\n",
    "import pandas as pd\n",
    "from sklearn.preprocessing import OrdinalEncoder\n",
    "# from sklearn.preprocessing import OneHotEncoder\n",
    "\n",
    "df4 = df2.copy()"
   ],
   "metadata": {
    "collapsed": false,
    "pycharm": {
     "name": "#%%\n"
    }
   }
  },
  {
   "cell_type": "code",
   "execution_count": 51,
   "outputs": [],
   "source": [
    "from sklearn.preprocessing import OrdinalEncoder\n",
    "\n",
    "df4['STFIPS'] = df4['STFIPS'].astype('category').cat.codes\n",
    "df4['EDUC'] = OrdinalEncoder(categories=[['Unknown', 'Grade8OrLess', 'Grade9To11', 'Grade12OrGED', '1To3yCollege', '4yCollegePlus']]).fit_transform(df4[['EDUC']])\n",
    "df4['MARSTAT'] = df4['MARSTAT'].astype('category').cat.codes\n",
    "df4['SERVICES'] = df4['SERVICES'].astype('category').cat.codes\n",
    "df4['DETCRIM'] = df4['DETCRIM'].astype('category').cat.codes\n",
    "df4['NOPRIOR'] = OrdinalEncoder(categories=[['Unknown', '0PriorTreatments', '1PriorTreatments', '2PriorTreatments', '3PriorTreatments',\n",
    "                                            '4PriorTreatments', '5PlusPriorTreatments']]).fit_transform(df4[['NOPRIOR']])\n",
    "df4['PSOURCE'] = df4['PSOURCE'].astype('category').cat.codes\n",
    "df4['ARRESTS'] = OrdinalEncoder(categories=[['Unknown', '0Arrest', '1Arrest', '2PlusArrest']]).fit_transform(df4[['ARRESTS']])\n",
    "# df4['METHUSE'] = df4['METHUSE'].astype('category').cat.codes\n",
    "df4['PSYPROB'] = df4['PSYPROB'].astype('category').cat.codes\n",
    "df4['PREG'] = df4['PREG'].astype('category').cat.codes\n",
    "df4['GENDER'] = df4['GENDER'].astype('category').cat.codes\n",
    "df4['VET'] = df4['VET'].astype('category').cat.codes\n",
    "df4['LIVARAG'] = df4['LIVARAG'].astype('category').cat.codes\n",
    "df4['DAYWAIT'] = OrdinalEncoder(categories=[['Unknown', '0DaysWait', '1To7DaysWait', '8To14DaysWait', '15To30DaysWait',\n",
    "                                            '31PlusDaysWait']]).fit_transform(df4[['DAYWAIT']])\n",
    "df4['DSMCRIT'] = df4['DSMCRIT'].astype('category').cat.codes\n",
    "df4['AGE'] = OrdinalEncoder(categories=[['Age12To14', 'Age15To17', 'Age18To20', 'Age21To24', 'Age25To29', 'Age30To34', 'Age35To39', 'Age40To44',\n",
    "                                        'Age45To49', 'Age50To54', 'Age55To64', 'Age65Plus' ]]).fit_transform(df4[['AGE']])\n",
    "df4['RACE'] = df4['RACE'].astype('category').cat.codes\n",
    "df4['ETHNIC'] = df4['ETHNIC'].astype('category').cat.codes\n",
    "df4['PRIMINC'] = df4['PRIMINC'].astype('category').cat.codes\n",
    "df4['SUB1'] = df4['SUB1'].astype('category').cat.codes\n",
    "df4['SUB2'] = df4['SUB2'].astype('category').cat.codes\n",
    "df4['SUB3'] = df4['SUB3'].astype('category').cat.codes\n",
    "df4['ROUTE1'] = df4['ROUTE1'].astype('category').cat.codes\n",
    "df4['ROUTE2'] = df4['ROUTE2'].astype('category').cat.codes\n",
    "df4['ROUTE3'] = df4['ROUTE3'].astype('category').cat.codes\n",
    "df4['FREQ1'] = OrdinalEncoder(categories=[['Unknown', 'NoUsePastMonth', 'SomeUse', 'DailyUse']]).fit_transform(df4[['FREQ1']])\n",
    "df4['FREQ2'] = OrdinalEncoder(categories=[['Unknown', 'NoUsePastMonth', 'SomeUse', 'DailyUse']]).fit_transform(df4[['FREQ2']])\n",
    "df4['FREQ3'] = OrdinalEncoder(categories=[['Unknown', 'NoUsePastMonth', 'SomeUse', 'DailyUse']]).fit_transform(df4[['FREQ3']])\n",
    "df4['FRSTUSE1'] = OrdinalEncoder(categories=[['Unknown', '11yLess', '12To14y', '15To17y', '18To20y', '21To24y', '25To29y',\n",
    "                                             '30yPlus']]).fit_transform(df4[['FRSTUSE1']])\n",
    "df4['FRSTUSE2'] = OrdinalEncoder(categories=[['Unknown', '11yLess', '12To14y', '15To17y', '18To20y', '21To24y', '25To29y',\n",
    "                                             '30yPlus']]).fit_transform(df4[['FRSTUSE2']])\n",
    "df4['FRSTUSE3'] = OrdinalEncoder(categories=[['Unknown', '11yLess', '12To14y', '15To17y', '18To20y', '21To24y', '25To29y',\n",
    "                                             '30yPlus']]).fit_transform(df4[['FRSTUSE3']])\n",
    "df4['HLTHINS'] = df4['HLTHINS'].astype('category').cat.codes\n",
    "df4['PRIMPAY'] = df4['PRIMPAY'].astype('category').cat.codes\n",
    "df4['FREQ_ATND_SELF_HELP'] = OrdinalEncoder(categories=[['Unknown', 'NoAttendance', 'SomeAttendance', '1To3TimesPastMonth', '4To7TimesPastMonth',\n",
    "                                                        '8To30TimesPastMonth']]).fit_transform(df4[['FREQ_ATND_SELF_HELP']])\n",
    "df4['ALCFLG'] = OrdinalEncoder(categories=[['NotReported', 'Reported']]).fit_transform(df4[['ALCFLG']])\n",
    "df4['COKEFLG'] = OrdinalEncoder(categories=[['NotReported', 'Reported']]).fit_transform(df4[['COKEFLG']])\n",
    "df4['MARFLG'] = OrdinalEncoder(categories=[['NotReported', 'Reported']]).fit_transform(df4[['MARFLG']])\n",
    "df4['HERFLG'] = OrdinalEncoder(categories=[['NotReported', 'Reported']]).fit_transform(df4[['HERFLG']])\n",
    "df4['METHFLG'] = OrdinalEncoder(categories=[['NotReported', 'Reported']]).fit_transform(df4[['METHFLG']])\n",
    "df4['OPSYNFLG'] = OrdinalEncoder(categories=[['NotReported', 'Reported']]).fit_transform(df4[['OPSYNFLG']])\n",
    "df4['PCPFLG'] = OrdinalEncoder(categories=[['NotReported', 'Reported']]).fit_transform(df4[['PCPFLG']])\n",
    "df4['HALLFLG'] = OrdinalEncoder(categories=[['NotReported', 'Reported']]).fit_transform(df4[['HALLFLG']])\n",
    "df4['MTHAMFLG'] = OrdinalEncoder(categories=[['NotReported', 'Reported']]).fit_transform(df4[['MTHAMFLG']])\n",
    "df4['AMPHFLG'] = OrdinalEncoder(categories=[['NotReported', 'Reported']]).fit_transform(df4[['AMPHFLG']])\n",
    "df4['STIMFLG'] = OrdinalEncoder(categories=[['NotReported', 'Reported']]).fit_transform(df4[['STIMFLG']])\n",
    "df4['BENZFLG'] = OrdinalEncoder(categories=[['NotReported', 'Reported']]).fit_transform(df4[['BENZFLG']])\n",
    "df4['TRNQFLG'] = OrdinalEncoder(categories=[['NotReported', 'Reported']]).fit_transform(df4[['TRNQFLG']])\n",
    "df4['BARBFLG'] = OrdinalEncoder(categories=[['NotReported', 'Reported']]).fit_transform(df4[['BARBFLG']])\n",
    "df4['SEDHPFLG'] = OrdinalEncoder(categories=[['NotReported', 'Reported']]).fit_transform(df4[['SEDHPFLG']])\n",
    "df4['INHFLG'] = OrdinalEncoder(categories=[['NotReported', 'Reported']]).fit_transform(df4[['INHFLG']])\n",
    "df4['OTCFLG'] = OrdinalEncoder(categories=[['NotReported', 'Reported']]).fit_transform(df4[['OTCFLG']])\n",
    "df4['OTHERFLG'] = OrdinalEncoder(categories=[['NotReported', 'Reported']]).fit_transform(df4[['OTHERFLG']])\n",
    "df4['DIVISION'] = df4['DIVISION'].astype('category').cat.codes\n",
    "df4['REGION'] = df4['REGION'].astype('category').cat.codes\n",
    "df4['IDU'] = OrdinalEncoder(categories=[['NoIDU', 'IDU']]).fit_transform(df4[['IDU']])\n",
    "df4['ALCDRUG'] = OrdinalEncoder(categories=[['OtherDrugs', 'Alcohol&Drugs']]).fit_transform(df4[['ALCDRUG']])\n",
    "df4['DETEMPLOY'] = df4['DETEMPLOY'].astype('category').cat.codes"
   ],
   "metadata": {
    "collapsed": false,
    "pycharm": {
     "name": "#%%\n"
    }
   }
  },
  {
   "cell_type": "code",
   "execution_count": 52,
   "outputs": [],
   "source": [
    "# # example data frame\n",
    "# df = pd.DataFrame({\n",
    "#     'col0': [5, 3.2, 6.8],\n",
    "#     'col1': ['A', 'B', 'C'],\n",
    "#     'col2': ['D', 'E', 'F'],\n",
    "#     'col3': ['red', 'blue', 'green'],\n",
    "#     'col4': ['small', 'medium', 'large'],\n",
    "#     'col5': [1.2, 3.4, 5.6],\n",
    "#     'col6': [7.8, 9.0, 2.1]\n",
    "# })\n",
    "#\n",
    "# # df['col0']\n",
    "# df['col1'] = OrdinalEncoder(categories=[[None, 'C', 'A', 'B']]).fit_transform(df[['col1']])\n",
    "# df['col2'] = OrdinalEncoder(categories=[[None, 'D', 'E', 'F']]).fit_transform(df[['col2']])\n",
    "# df['col3'] = df['col3'].astype('category')\n",
    "# df['col4'] = df['col4'].astype('category')\n",
    "# # df['col5']\n",
    "# # df['col6']"
   ],
   "metadata": {
    "collapsed": false,
    "pycharm": {
     "name": "#%%\n"
    }
   }
  },
  {
   "cell_type": "code",
   "execution_count": 53,
   "outputs": [
    {
     "data": {
      "text/plain": "STFIPS                    int8\nEDUC                   float64\nMARSTAT                   int8\nSERVICES                  int8\nDETCRIM                   int8\nNOPRIOR                float64\nPSOURCE                   int8\nARRESTS                float64\nMETHUSE                  int64\nPSYPROB                   int8\nPREG                      int8\nGENDER                    int8\nVET                       int8\nLIVARAG                   int8\nDAYWAIT                float64\nDSMCRIT                   int8\nAGE                    float64\nRACE                      int8\nETHNIC                    int8\nPRIMINC                   int8\nSUB1                      int8\nSUB2                      int8\nSUB3                      int8\nROUTE1                    int8\nROUTE2                    int8\nROUTE3                    int8\nFREQ1                  float64\nFREQ2                  float64\nFREQ3                  float64\nFRSTUSE1               float64\nFRSTUSE2               float64\nFRSTUSE3               float64\nHLTHINS                   int8\nPRIMPAY                   int8\nFREQ_ATND_SELF_HELP    float64\nALCFLG                 float64\nCOKEFLG                float64\nMARFLG                 float64\nHERFLG                 float64\nMETHFLG                float64\nOPSYNFLG               float64\nPCPFLG                 float64\nHALLFLG                float64\nMTHAMFLG               float64\nAMPHFLG                float64\nSTIMFLG                float64\nBENZFLG                float64\nTRNQFLG                float64\nBARBFLG                float64\nSEDHPFLG               float64\nINHFLG                 float64\nOTCFLG                 float64\nOTHERFLG               float64\nDIVISION                  int8\nREGION                    int8\nIDU                    float64\nALCDRUG                float64\nDETEMPLOY                 int8\ndtype: object"
     },
     "execution_count": 53,
     "metadata": {},
     "output_type": "execute_result"
    }
   ],
   "source": [
    "df4.dtypes"
   ],
   "metadata": {
    "collapsed": false,
    "pycharm": {
     "name": "#%%\n"
    }
   }
  },
  {
   "cell_type": "code",
   "execution_count": 54,
   "outputs": [
    {
     "data": {
      "text/plain": "        STFIPS  EDUC  MARSTAT  SERVICES  DETCRIM  NOPRIOR  PSOURCE  ARRESTS  \\\n0            1   2.0        1         2        8      4.0        3      1.0   \n1            1   3.0        1         2        8      3.0        4      1.0   \n2            1   1.0        2         2        8      6.0        1      1.0   \n3            1   3.0        1         2        8      4.0        4      1.0   \n4            1   3.0        1         2        8      2.0        1      1.0   \n...        ...   ...      ...       ...      ...      ...      ...      ...   \n524129      47   0.0        2         1        8      1.0        5      1.0   \n524130      47   0.0        2         1        1      3.0        0      1.0   \n524131      47   3.0        1         2        8      4.0        1      1.0   \n524132      47   1.0        1         2        7      1.0        0      1.0   \n524133      47   2.0        1         2        7      1.0        0      1.0   \n\n        METHUSE  PSYPROB  ...  BARBFLG  SEDHPFLG  INHFLG  OTCFLG  OTHERFLG  \\\n0             0        0  ...      0.0       0.0     0.0     0.0       0.0   \n1             1        0  ...      0.0       0.0     0.0     0.0       0.0   \n2             1        2  ...      0.0       0.0     0.0     0.0       0.0   \n3             1        0  ...      0.0       0.0     0.0     0.0       0.0   \n4             1        2  ...      0.0       0.0     0.0     0.0       0.0   \n...         ...      ...  ...      ...       ...     ...     ...       ...   \n524129        0        0  ...      0.0       0.0     0.0     0.0       0.0   \n524130        0        0  ...      0.0       0.0     0.0     0.0       0.0   \n524131        0        2  ...      0.0       1.0     0.0     0.0       0.0   \n524132        0        0  ...      0.0       0.0     0.0     0.0       0.0   \n524133        0        0  ...      0.0       0.0     0.0     0.0       1.0   \n\n        DIVISION  REGION  IDU  ALCDRUG  DETEMPLOY  \n0              6       4  1.0      1.0          7  \n1              6       4  1.0      0.0          3  \n2              6       4  1.0      0.0          5  \n3              6       4  1.0      0.0          3  \n4              6       4  1.0      0.0          4  \n...          ...     ...  ...      ...        ...  \n524129         4       4  0.0      0.0          7  \n524130         4       4  0.0      0.0          7  \n524131         4       4  0.0      1.0          7  \n524132         4       4  0.0      0.0          2  \n524133         4       4  0.0      0.0          2  \n\n[524134 rows x 58 columns]",
      "text/html": "<div>\n<style scoped>\n    .dataframe tbody tr th:only-of-type {\n        vertical-align: middle;\n    }\n\n    .dataframe tbody tr th {\n        vertical-align: top;\n    }\n\n    .dataframe thead th {\n        text-align: right;\n    }\n</style>\n<table border=\"1\" class=\"dataframe\">\n  <thead>\n    <tr style=\"text-align: right;\">\n      <th></th>\n      <th>STFIPS</th>\n      <th>EDUC</th>\n      <th>MARSTAT</th>\n      <th>SERVICES</th>\n      <th>DETCRIM</th>\n      <th>NOPRIOR</th>\n      <th>PSOURCE</th>\n      <th>ARRESTS</th>\n      <th>METHUSE</th>\n      <th>PSYPROB</th>\n      <th>...</th>\n      <th>BARBFLG</th>\n      <th>SEDHPFLG</th>\n      <th>INHFLG</th>\n      <th>OTCFLG</th>\n      <th>OTHERFLG</th>\n      <th>DIVISION</th>\n      <th>REGION</th>\n      <th>IDU</th>\n      <th>ALCDRUG</th>\n      <th>DETEMPLOY</th>\n    </tr>\n  </thead>\n  <tbody>\n    <tr>\n      <th>0</th>\n      <td>1</td>\n      <td>2.0</td>\n      <td>1</td>\n      <td>2</td>\n      <td>8</td>\n      <td>4.0</td>\n      <td>3</td>\n      <td>1.0</td>\n      <td>0</td>\n      <td>0</td>\n      <td>...</td>\n      <td>0.0</td>\n      <td>0.0</td>\n      <td>0.0</td>\n      <td>0.0</td>\n      <td>0.0</td>\n      <td>6</td>\n      <td>4</td>\n      <td>1.0</td>\n      <td>1.0</td>\n      <td>7</td>\n    </tr>\n    <tr>\n      <th>1</th>\n      <td>1</td>\n      <td>3.0</td>\n      <td>1</td>\n      <td>2</td>\n      <td>8</td>\n      <td>3.0</td>\n      <td>4</td>\n      <td>1.0</td>\n      <td>1</td>\n      <td>0</td>\n      <td>...</td>\n      <td>0.0</td>\n      <td>0.0</td>\n      <td>0.0</td>\n      <td>0.0</td>\n      <td>0.0</td>\n      <td>6</td>\n      <td>4</td>\n      <td>1.0</td>\n      <td>0.0</td>\n      <td>3</td>\n    </tr>\n    <tr>\n      <th>2</th>\n      <td>1</td>\n      <td>1.0</td>\n      <td>2</td>\n      <td>2</td>\n      <td>8</td>\n      <td>6.0</td>\n      <td>1</td>\n      <td>1.0</td>\n      <td>1</td>\n      <td>2</td>\n      <td>...</td>\n      <td>0.0</td>\n      <td>0.0</td>\n      <td>0.0</td>\n      <td>0.0</td>\n      <td>0.0</td>\n      <td>6</td>\n      <td>4</td>\n      <td>1.0</td>\n      <td>0.0</td>\n      <td>5</td>\n    </tr>\n    <tr>\n      <th>3</th>\n      <td>1</td>\n      <td>3.0</td>\n      <td>1</td>\n      <td>2</td>\n      <td>8</td>\n      <td>4.0</td>\n      <td>4</td>\n      <td>1.0</td>\n      <td>1</td>\n      <td>0</td>\n      <td>...</td>\n      <td>0.0</td>\n      <td>0.0</td>\n      <td>0.0</td>\n      <td>0.0</td>\n      <td>0.0</td>\n      <td>6</td>\n      <td>4</td>\n      <td>1.0</td>\n      <td>0.0</td>\n      <td>3</td>\n    </tr>\n    <tr>\n      <th>4</th>\n      <td>1</td>\n      <td>3.0</td>\n      <td>1</td>\n      <td>2</td>\n      <td>8</td>\n      <td>2.0</td>\n      <td>1</td>\n      <td>1.0</td>\n      <td>1</td>\n      <td>2</td>\n      <td>...</td>\n      <td>0.0</td>\n      <td>0.0</td>\n      <td>0.0</td>\n      <td>0.0</td>\n      <td>0.0</td>\n      <td>6</td>\n      <td>4</td>\n      <td>1.0</td>\n      <td>0.0</td>\n      <td>4</td>\n    </tr>\n    <tr>\n      <th>...</th>\n      <td>...</td>\n      <td>...</td>\n      <td>...</td>\n      <td>...</td>\n      <td>...</td>\n      <td>...</td>\n      <td>...</td>\n      <td>...</td>\n      <td>...</td>\n      <td>...</td>\n      <td>...</td>\n      <td>...</td>\n      <td>...</td>\n      <td>...</td>\n      <td>...</td>\n      <td>...</td>\n      <td>...</td>\n      <td>...</td>\n      <td>...</td>\n      <td>...</td>\n      <td>...</td>\n    </tr>\n    <tr>\n      <th>524129</th>\n      <td>47</td>\n      <td>0.0</td>\n      <td>2</td>\n      <td>1</td>\n      <td>8</td>\n      <td>1.0</td>\n      <td>5</td>\n      <td>1.0</td>\n      <td>0</td>\n      <td>0</td>\n      <td>...</td>\n      <td>0.0</td>\n      <td>0.0</td>\n      <td>0.0</td>\n      <td>0.0</td>\n      <td>0.0</td>\n      <td>4</td>\n      <td>4</td>\n      <td>0.0</td>\n      <td>0.0</td>\n      <td>7</td>\n    </tr>\n    <tr>\n      <th>524130</th>\n      <td>47</td>\n      <td>0.0</td>\n      <td>2</td>\n      <td>1</td>\n      <td>1</td>\n      <td>3.0</td>\n      <td>0</td>\n      <td>1.0</td>\n      <td>0</td>\n      <td>0</td>\n      <td>...</td>\n      <td>0.0</td>\n      <td>0.0</td>\n      <td>0.0</td>\n      <td>0.0</td>\n      <td>0.0</td>\n      <td>4</td>\n      <td>4</td>\n      <td>0.0</td>\n      <td>0.0</td>\n      <td>7</td>\n    </tr>\n    <tr>\n      <th>524131</th>\n      <td>47</td>\n      <td>3.0</td>\n      <td>1</td>\n      <td>2</td>\n      <td>8</td>\n      <td>4.0</td>\n      <td>1</td>\n      <td>1.0</td>\n      <td>0</td>\n      <td>2</td>\n      <td>...</td>\n      <td>0.0</td>\n      <td>1.0</td>\n      <td>0.0</td>\n      <td>0.0</td>\n      <td>0.0</td>\n      <td>4</td>\n      <td>4</td>\n      <td>0.0</td>\n      <td>1.0</td>\n      <td>7</td>\n    </tr>\n    <tr>\n      <th>524132</th>\n      <td>47</td>\n      <td>1.0</td>\n      <td>1</td>\n      <td>2</td>\n      <td>7</td>\n      <td>1.0</td>\n      <td>0</td>\n      <td>1.0</td>\n      <td>0</td>\n      <td>0</td>\n      <td>...</td>\n      <td>0.0</td>\n      <td>0.0</td>\n      <td>0.0</td>\n      <td>0.0</td>\n      <td>0.0</td>\n      <td>4</td>\n      <td>4</td>\n      <td>0.0</td>\n      <td>0.0</td>\n      <td>2</td>\n    </tr>\n    <tr>\n      <th>524133</th>\n      <td>47</td>\n      <td>2.0</td>\n      <td>1</td>\n      <td>2</td>\n      <td>7</td>\n      <td>1.0</td>\n      <td>0</td>\n      <td>1.0</td>\n      <td>0</td>\n      <td>0</td>\n      <td>...</td>\n      <td>0.0</td>\n      <td>0.0</td>\n      <td>0.0</td>\n      <td>0.0</td>\n      <td>1.0</td>\n      <td>4</td>\n      <td>4</td>\n      <td>0.0</td>\n      <td>0.0</td>\n      <td>2</td>\n    </tr>\n  </tbody>\n</table>\n<p>524134 rows × 58 columns</p>\n</div>"
     },
     "execution_count": 54,
     "metadata": {},
     "output_type": "execute_result"
    }
   ],
   "source": [
    "df4"
   ],
   "metadata": {
    "collapsed": false,
    "pycharm": {
     "name": "#%%\n"
    }
   }
  },
  {
   "cell_type": "markdown",
   "source": [
    "### Train test split"
   ],
   "metadata": {
    "collapsed": false
   }
  },
  {
   "cell_type": "markdown",
   "source": [
    "## Train XG Boost model"
   ],
   "metadata": {
    "collapsed": false
   }
  },
  {
   "cell_type": "code",
   "execution_count": 55,
   "outputs": [],
   "source": [
    "from sklearn.model_selection import train_test_split\n",
    "\n",
    "# Split data into training and test sets\n",
    "X = df4.drop('METHUSE', axis=1)\n",
    "y = df4['METHUSE'].astype('float')\n",
    "X_train, X_test, y_train, y_test = train_test_split(X, y, test_size=0.2, random_state=24)"
   ],
   "metadata": {
    "collapsed": false,
    "pycharm": {
     "name": "#%%\n"
    }
   }
  },
  {
   "cell_type": "code",
   "execution_count": 56,
   "outputs": [
    {
     "data": {
      "text/plain": "dtype('float64')"
     },
     "execution_count": 56,
     "metadata": {},
     "output_type": "execute_result"
    }
   ],
   "source": [
    "# y['METHUSE'].str.contains('>')\n",
    "y_train.dtypes"
   ],
   "metadata": {
    "collapsed": false,
    "pycharm": {
     "name": "#%%\n"
    }
   }
  },
  {
   "cell_type": "code",
   "execution_count": 57,
   "outputs": [
    {
     "data": {
      "text/plain": "XGBClassifier(base_score=0.5, booster='gbtree', callbacks=None,\n              colsample_bylevel=1, colsample_bynode=1, colsample_bytree=1,\n              early_stopping_rounds=None, enable_categorical=False,\n              eval_metric=None, gamma=0, gpu_id=-1, grow_policy='depthwise',\n              importance_type=None, interaction_constraints='',\n              learning_rate=0.300000012, max_bin=256, max_cat_to_onehot=4,\n              max_delta_step=0, max_depth=6, max_leaves=0, min_child_weight=1,\n              missing=nan, monotone_constraints='()', n_estimators=100,\n              n_jobs=0, num_parallel_tree=1, predictor='auto', random_state=24,\n              reg_alpha=0, reg_lambda=1, ...)"
     },
     "execution_count": 57,
     "metadata": {},
     "output_type": "execute_result"
    }
   ],
   "source": [
    "import xgboost as xgb\n",
    "import shap\n",
    "import numpy as np\n",
    "\n",
    "# Train XGBoost model\n",
    "model = xgb.XGBClassifier(objective='binary:logistic', n_estimators=100, seed=24)\n",
    "model.fit(X_train, y_train)"
   ],
   "metadata": {
    "collapsed": false,
    "pycharm": {
     "name": "#%%\n"
    }
   }
  },
  {
   "cell_type": "code",
   "execution_count": null,
   "outputs": [
    {
     "name": "stderr",
     "output_type": "stream",
     "text": [
      "ntree_limit is deprecated, use `iteration_range` or model slicing instead.\n"
     ]
    }
   ],
   "source": [
    "# Generate Shapley values\n",
    "explainer = shap.Explainer(model)\n",
    "shap_values = explainer(X)\n",
    "\n",
    "# Plot Shapley summary plot\n",
    "shap.summary_plot(shap_values, X)"
   ],
   "metadata": {
    "collapsed": false,
    "pycharm": {
     "name": "#%%\n",
     "is_executing": true
    }
   }
  },
  {
   "cell_type": "code",
   "execution_count": 17,
   "outputs": [],
   "source": [],
   "metadata": {
    "collapsed": false,
    "pycharm": {
     "name": "#%%\n"
    }
   }
  },
  {
   "cell_type": "code",
   "execution_count": 17,
   "outputs": [],
   "source": [],
   "metadata": {
    "collapsed": false,
    "pycharm": {
     "name": "#%%\n"
    }
   }
  },
  {
   "cell_type": "code",
   "execution_count": 18,
   "outputs": [
    {
     "ename": "NameError",
     "evalue": "name 'stop' is not defined",
     "output_type": "error",
     "traceback": [
      "\u001B[0;31m---------------------------------------------------------------------------\u001B[0m",
      "\u001B[0;31mNameError\u001B[0m                                 Traceback (most recent call last)",
      "\u001B[0;32m/var/folders/8k/1982q0sd17v8dt4gxj5mqhk80000gn/T/ipykernel_2412/1802640080.py\u001B[0m in \u001B[0;36m<module>\u001B[0;34m\u001B[0m\n\u001B[0;32m----> 1\u001B[0;31m \u001B[0mstop\u001B[0m\u001B[0;34m\u001B[0m\u001B[0;34m\u001B[0m\u001B[0m\n\u001B[0m",
      "\u001B[0;31mNameError\u001B[0m: name 'stop' is not defined"
     ]
    }
   ],
   "source": [
    "stop"
   ],
   "metadata": {
    "collapsed": false,
    "pycharm": {
     "name": "#%%\n"
    }
   }
  },
  {
   "cell_type": "markdown",
   "source": [
    "## Run linear regression to test out the data"
   ],
   "metadata": {
    "collapsed": false
   }
  },
  {
   "cell_type": "code",
   "execution_count": null,
   "outputs": [],
   "source": [
    "from sklearn.model_selection import train_test_split\n",
    "\n",
    "# Define independent variables X and dependent variable y\n",
    "y = df3['METHUSE']\n",
    "X = df3.drop(columns='METHUSE')\n",
    "\n",
    "# Train/test split\n",
    "X_train, X_test, y_train, y_test = train_test_split(X, y, test_size=0.3, random_state=24)"
   ],
   "metadata": {
    "collapsed": false,
    "pycharm": {
     "name": "#%%\n"
    }
   }
  },
  {
   "cell_type": "code",
   "execution_count": null,
   "outputs": [],
   "source": [
    "# Load modules and data\n",
    "import statsmodels\n",
    "import statsmodels.api as sm\n",
    "\n",
    "# Fit and summarize OLS model\n",
    "model = sm.OLS(y_train, X_train)\n",
    "results = model.fit()\n",
    "\n",
    "y_hat = results.predict(X_test)\n",
    "mse = statsmodels.tools.eval_measures.mse(y_test, y_hat)\n",
    "\n",
    "print('MSE:', mse)\n",
    "print(results.summary())"
   ],
   "metadata": {
    "collapsed": false,
    "pycharm": {
     "name": "#%%\n"
    }
   }
  },
  {
   "cell_type": "code",
   "execution_count": null,
   "outputs": [],
   "source": [],
   "metadata": {
    "collapsed": false,
    "pycharm": {
     "name": "#%%\n"
    }
   }
  }
 ],
 "metadata": {
  "kernelspec": {
   "display_name": "Python 3",
   "language": "python",
   "name": "python3"
  },
  "language_info": {
   "codemirror_mode": {
    "name": "ipython",
    "version": 2
   },
   "file_extension": ".py",
   "mimetype": "text/x-python",
   "name": "python",
   "nbconvert_exporter": "python",
   "pygments_lexer": "ipython2",
   "version": "2.7.6"
  }
 },
 "nbformat": 4,
 "nbformat_minor": 0
}