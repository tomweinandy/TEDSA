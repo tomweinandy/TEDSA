{
 "cells": [
  {
   "cell_type": "markdown",
   "source": [
    "## Load data"
   ],
   "metadata": {
    "collapsed": false
   }
  },
  {
   "cell_type": "code",
   "execution_count": 1,
   "outputs": [],
   "source": [
    "import pandas as pd\n",
    "import ast\n",
    "import numpy as np\n",
    "\n",
    "# Load in data\n",
    "admissions = 'tedsa_puf_2019.csv'\n",
    "df = pd.read_csv(f'../../Downloads/{admissions}')"
   ],
   "metadata": {
    "collapsed": false,
    "pycharm": {
     "name": "#%%\n"
    }
   }
  },
  {
   "cell_type": "markdown",
   "source": [
    "## Compare SUB1 groups with DSMCRIT"
   ],
   "metadata": {
    "collapsed": false
   }
  },
  {
   "cell_type": "code",
   "execution_count": 2,
   "outputs": [],
   "source": [
    "sub1 = df['SUB1']\n",
    "for i in [1,2,3,4,8,9,10,11,12,13,14,15,16,17,18,19]:\n",
    "    sub1 = sub1.replace(i, 'Other')\n",
    "# sub1 = sub1.replace(-9, np.nan)\n",
    "\n",
    "dsmcrit = df['DSMCRIT']\n",
    "for i in [1,2,3,4,6,7,8,9,10,11,13,14,15,16,17,18,19]:\n",
    "    dsmcrit = dsmcrit.replace(i, 'Other')\n",
    "# dsmcrit = dsmcrit.replace(-9, np.nan)"
   ],
   "metadata": {
    "collapsed": false,
    "pycharm": {
     "name": "#%%\n"
    }
   }
  },
  {
   "cell_type": "code",
   "execution_count": 3,
   "outputs": [
    {
     "name": "stdout",
     "output_type": "stream",
     "text": [
      "See \"SUB1 DSMCRIT overlap.xlsx\" file for a better breakdown\n"
     ]
    }
   ],
   "source": [
    "df0 = pd.DataFrame()\n",
    "df0['SUB1'] = sub1\n",
    "df0['DSMCRIT'] = dsmcrit\n",
    "\n",
    "df0.value_counts()\n",
    "\n",
    "print('See \"SUB1 DSMCRIT overlap.xlsx\" file for a better breakdown')"
   ],
   "metadata": {
    "collapsed": false,
    "pycharm": {
     "name": "#%%\n"
    }
   }
  },
  {
   "cell_type": "markdown",
   "source": [
    "## Filter out select rows and columns"
   ],
   "metadata": {
    "collapsed": false
   }
  },
  {
   "cell_type": "code",
   "execution_count": 4,
   "outputs": [
    {
     "data": {
      "text/plain": "Index(['ADMYR', 'CASEID', 'STFIPS', 'CBSA2010', 'EDUC', 'MARSTAT', 'SERVICES',\n       'DETCRIM', 'NOPRIOR', 'PSOURCE', 'ARRESTS', 'EMPLOY', 'METHUSE',\n       'PSYPROB', 'PREG', 'GENDER', 'VET', 'LIVARAG', 'DAYWAIT', 'DSMCRIT',\n       'AGE', 'RACE', 'ETHNIC', 'DETNLF', 'PRIMINC', 'SUB1', 'SUB2', 'SUB3',\n       'ROUTE1', 'ROUTE2', 'ROUTE3', 'FREQ1', 'FREQ2', 'FREQ3', 'FRSTUSE1',\n       'FRSTUSE2', 'FRSTUSE3', 'HLTHINS', 'PRIMPAY', 'FREQ_ATND_SELF_HELP',\n       'ALCFLG', 'COKEFLG', 'MARFLG', 'HERFLG', 'METHFLG', 'OPSYNFLG',\n       'PCPFLG', 'HALLFLG', 'MTHAMFLG', 'AMPHFLG', 'STIMFLG', 'BENZFLG',\n       'TRNQFLG', 'BARBFLG', 'SEDHPFLG', 'INHFLG', 'OTCFLG', 'OTHERFLG',\n       'DIVISION', 'REGION', 'IDU', 'ALCDRUG'],\n      dtype='object')"
     },
     "execution_count": 4,
     "metadata": {},
     "output_type": "execute_result"
    }
   ],
   "source": [
    "df.columns"
   ],
   "metadata": {
    "collapsed": false,
    "pycharm": {
     "name": "#%%\n"
    }
   }
  },
  {
   "cell_type": "code",
   "execution_count": 5,
   "metadata": {
    "collapsed": true
   },
   "outputs": [
    {
     "name": "stdout",
     "output_type": "stream",
     "text": [
      "Dropped 3 columns (59 remain)\n",
      "Dropped 1,340,233 observations or 71.9% of the data (524,134 rows remain)\n"
     ]
    }
   ],
   "source": [
    "# Get count of original number of rows\n",
    "old_rows = len(df)\n",
    "\n",
    "# Drop Puerto Rico\n",
    "# df = df[df['STFIPS'] != 72]\n",
    "\n",
    "# Drop defined columns\n",
    "columns_to_drop = ['ADMYR', 'CASEID', 'CBSA2010']  # consider also dropping 'STFIPS'\n",
    "df = df.drop(columns=columns_to_drop)\n",
    "print(f'Dropped {len(columns_to_drop)} columns ({len(df.columns)} remain)')\n",
    "\n",
    "# Drop values where dependent variable is unknown\n",
    "df = df[df['METHUSE'] != -9]\n",
    "\n",
    "# Only keep patients admitted with self-described use of an opioid as their primary substance use (i.e., SUB1 = 5, 6, or 7)\n",
    "df = df[df['SUB1'].between(5, 7)]\n",
    "new_rows = len(df)\n",
    "percent_change = round(100*(old_rows-new_rows)/old_rows, 1)\n",
    "print(f'Dropped {\"{:,}\".format(old_rows-new_rows)} observations or {percent_change}% of the data ({\"{:,}\".format(new_rows)} rows remain)')\n",
    "\n",
    "df = df.reset_index(drop='index')"
   ]
  },
  {
   "cell_type": "markdown",
   "source": [
    "## Balance dataset"
   ],
   "metadata": {
    "collapsed": false
   }
  },
  {
   "cell_type": "code",
   "execution_count": 6,
   "outputs": [
    {
     "name": "stdout",
     "output_type": "stream",
     "text": [
      "211743 312391\n",
      "211743 211743\n"
     ]
    }
   ],
   "source": [
    "# Split into two dataframes, printing result\n",
    "df_ones = df[df['METHUSE']==1]\n",
    "df_twos = df[df['METHUSE']==2]\n",
    "print(len(df_ones), len(df_twos))\n",
    "\n",
    "# Sample down df_twos to the length of df_ones, printing result\n",
    "ratio = len(df_ones)/len(df_twos)\n",
    "df_twos = df_twos.sample(frac=ratio)\n",
    "print(len(df_ones), len(df_twos))\n",
    "\n",
    "# Recombine and shuffle for good measure :)\n",
    "df = pd.concat([df_ones, df_twos], axis=0)\n",
    "df = df.sample(frac=1).reset_index(drop=True)"
   ],
   "metadata": {
    "collapsed": false,
    "pycharm": {
     "name": "#%%\n"
    }
   }
  },
  {
   "cell_type": "code",
   "execution_count": 7,
   "outputs": [
    {
     "data": {
      "text/plain": "        STFIPS  EDUC  MARSTAT  SERVICES  DETCRIM  NOPRIOR  PSOURCE  ARRESTS  \\\n0           27     3        1         6       -9        0        7        0   \n1           18     3        1         5        3        0        7        0   \n2            9     3        4         7       -9        1        7        0   \n3           26     2        4         6       -9        1        1        0   \n4           44     4        1         7       -9        1        6        0   \n...        ...   ...      ...       ...      ...      ...      ...      ...   \n423481      26     2        4         2       -9        3        1        0   \n423482      13     2        1         7       -9        1        1        0   \n423483      25     3        1         2       -9        5        2        0   \n423484      36     3        2         7        1        1        7        1   \n423485      10     4        4         2       -9       -9        3        0   \n\n        EMPLOY  METHUSE  ...  TRNQFLG  BARBFLG  SEDHPFLG  INHFLG  OTCFLG  \\\n0            1        2  ...        0        0         0       0       0   \n1            3        2  ...        0        0         0       0       0   \n2            4        2  ...        0        0         0       0       0   \n3            3        1  ...        0        0         0       0       0   \n4            3        2  ...        0        0         0       0       0   \n...        ...      ...  ...      ...      ...       ...     ...     ...   \n423481       4        1  ...        0        0         0       0       0   \n423482       3        2  ...        0        0         0       0       0   \n423483       3        2  ...        0        0         0       0       0   \n423484       1        1  ...        0        0         0       0       0   \n423485       4        2  ...        0        0         0       0       0   \n\n        OTHERFLG  DIVISION  REGION  IDU  ALCDRUG  \n0              0         4       2    0        3  \n1              0         3       2    1        2  \n2              0         1       1    0        2  \n3              0         3       2    0        2  \n4              0         1       1    1        2  \n...          ...       ...     ...  ...      ...  \n423481         0         3       2    1        2  \n423482         0         5       3    0        2  \n423483         0         1       1    1        3  \n423484         0         2       1    0        3  \n423485         0         5       3    1        2  \n\n[423486 rows x 59 columns]",
      "text/html": "<div>\n<style scoped>\n    .dataframe tbody tr th:only-of-type {\n        vertical-align: middle;\n    }\n\n    .dataframe tbody tr th {\n        vertical-align: top;\n    }\n\n    .dataframe thead th {\n        text-align: right;\n    }\n</style>\n<table border=\"1\" class=\"dataframe\">\n  <thead>\n    <tr style=\"text-align: right;\">\n      <th></th>\n      <th>STFIPS</th>\n      <th>EDUC</th>\n      <th>MARSTAT</th>\n      <th>SERVICES</th>\n      <th>DETCRIM</th>\n      <th>NOPRIOR</th>\n      <th>PSOURCE</th>\n      <th>ARRESTS</th>\n      <th>EMPLOY</th>\n      <th>METHUSE</th>\n      <th>...</th>\n      <th>TRNQFLG</th>\n      <th>BARBFLG</th>\n      <th>SEDHPFLG</th>\n      <th>INHFLG</th>\n      <th>OTCFLG</th>\n      <th>OTHERFLG</th>\n      <th>DIVISION</th>\n      <th>REGION</th>\n      <th>IDU</th>\n      <th>ALCDRUG</th>\n    </tr>\n  </thead>\n  <tbody>\n    <tr>\n      <th>0</th>\n      <td>27</td>\n      <td>3</td>\n      <td>1</td>\n      <td>6</td>\n      <td>-9</td>\n      <td>0</td>\n      <td>7</td>\n      <td>0</td>\n      <td>1</td>\n      <td>2</td>\n      <td>...</td>\n      <td>0</td>\n      <td>0</td>\n      <td>0</td>\n      <td>0</td>\n      <td>0</td>\n      <td>0</td>\n      <td>4</td>\n      <td>2</td>\n      <td>0</td>\n      <td>3</td>\n    </tr>\n    <tr>\n      <th>1</th>\n      <td>18</td>\n      <td>3</td>\n      <td>1</td>\n      <td>5</td>\n      <td>3</td>\n      <td>0</td>\n      <td>7</td>\n      <td>0</td>\n      <td>3</td>\n      <td>2</td>\n      <td>...</td>\n      <td>0</td>\n      <td>0</td>\n      <td>0</td>\n      <td>0</td>\n      <td>0</td>\n      <td>0</td>\n      <td>3</td>\n      <td>2</td>\n      <td>1</td>\n      <td>2</td>\n    </tr>\n    <tr>\n      <th>2</th>\n      <td>9</td>\n      <td>3</td>\n      <td>4</td>\n      <td>7</td>\n      <td>-9</td>\n      <td>1</td>\n      <td>7</td>\n      <td>0</td>\n      <td>4</td>\n      <td>2</td>\n      <td>...</td>\n      <td>0</td>\n      <td>0</td>\n      <td>0</td>\n      <td>0</td>\n      <td>0</td>\n      <td>0</td>\n      <td>1</td>\n      <td>1</td>\n      <td>0</td>\n      <td>2</td>\n    </tr>\n    <tr>\n      <th>3</th>\n      <td>26</td>\n      <td>2</td>\n      <td>4</td>\n      <td>6</td>\n      <td>-9</td>\n      <td>1</td>\n      <td>1</td>\n      <td>0</td>\n      <td>3</td>\n      <td>1</td>\n      <td>...</td>\n      <td>0</td>\n      <td>0</td>\n      <td>0</td>\n      <td>0</td>\n      <td>0</td>\n      <td>0</td>\n      <td>3</td>\n      <td>2</td>\n      <td>0</td>\n      <td>2</td>\n    </tr>\n    <tr>\n      <th>4</th>\n      <td>44</td>\n      <td>4</td>\n      <td>1</td>\n      <td>7</td>\n      <td>-9</td>\n      <td>1</td>\n      <td>6</td>\n      <td>0</td>\n      <td>3</td>\n      <td>2</td>\n      <td>...</td>\n      <td>0</td>\n      <td>0</td>\n      <td>0</td>\n      <td>0</td>\n      <td>0</td>\n      <td>0</td>\n      <td>1</td>\n      <td>1</td>\n      <td>1</td>\n      <td>2</td>\n    </tr>\n    <tr>\n      <th>...</th>\n      <td>...</td>\n      <td>...</td>\n      <td>...</td>\n      <td>...</td>\n      <td>...</td>\n      <td>...</td>\n      <td>...</td>\n      <td>...</td>\n      <td>...</td>\n      <td>...</td>\n      <td>...</td>\n      <td>...</td>\n      <td>...</td>\n      <td>...</td>\n      <td>...</td>\n      <td>...</td>\n      <td>...</td>\n      <td>...</td>\n      <td>...</td>\n      <td>...</td>\n      <td>...</td>\n    </tr>\n    <tr>\n      <th>423481</th>\n      <td>26</td>\n      <td>2</td>\n      <td>4</td>\n      <td>2</td>\n      <td>-9</td>\n      <td>3</td>\n      <td>1</td>\n      <td>0</td>\n      <td>4</td>\n      <td>1</td>\n      <td>...</td>\n      <td>0</td>\n      <td>0</td>\n      <td>0</td>\n      <td>0</td>\n      <td>0</td>\n      <td>0</td>\n      <td>3</td>\n      <td>2</td>\n      <td>1</td>\n      <td>2</td>\n    </tr>\n    <tr>\n      <th>423482</th>\n      <td>13</td>\n      <td>2</td>\n      <td>1</td>\n      <td>7</td>\n      <td>-9</td>\n      <td>1</td>\n      <td>1</td>\n      <td>0</td>\n      <td>3</td>\n      <td>2</td>\n      <td>...</td>\n      <td>0</td>\n      <td>0</td>\n      <td>0</td>\n      <td>0</td>\n      <td>0</td>\n      <td>0</td>\n      <td>5</td>\n      <td>3</td>\n      <td>0</td>\n      <td>2</td>\n    </tr>\n    <tr>\n      <th>423483</th>\n      <td>25</td>\n      <td>3</td>\n      <td>1</td>\n      <td>2</td>\n      <td>-9</td>\n      <td>5</td>\n      <td>2</td>\n      <td>0</td>\n      <td>3</td>\n      <td>2</td>\n      <td>...</td>\n      <td>0</td>\n      <td>0</td>\n      <td>0</td>\n      <td>0</td>\n      <td>0</td>\n      <td>0</td>\n      <td>1</td>\n      <td>1</td>\n      <td>1</td>\n      <td>3</td>\n    </tr>\n    <tr>\n      <th>423484</th>\n      <td>36</td>\n      <td>3</td>\n      <td>2</td>\n      <td>7</td>\n      <td>1</td>\n      <td>1</td>\n      <td>7</td>\n      <td>1</td>\n      <td>1</td>\n      <td>1</td>\n      <td>...</td>\n      <td>0</td>\n      <td>0</td>\n      <td>0</td>\n      <td>0</td>\n      <td>0</td>\n      <td>0</td>\n      <td>2</td>\n      <td>1</td>\n      <td>0</td>\n      <td>3</td>\n    </tr>\n    <tr>\n      <th>423485</th>\n      <td>10</td>\n      <td>4</td>\n      <td>4</td>\n      <td>2</td>\n      <td>-9</td>\n      <td>-9</td>\n      <td>3</td>\n      <td>0</td>\n      <td>4</td>\n      <td>2</td>\n      <td>...</td>\n      <td>0</td>\n      <td>0</td>\n      <td>0</td>\n      <td>0</td>\n      <td>0</td>\n      <td>0</td>\n      <td>5</td>\n      <td>3</td>\n      <td>1</td>\n      <td>2</td>\n    </tr>\n  </tbody>\n</table>\n<p>423486 rows × 59 columns</p>\n</div>"
     },
     "execution_count": 7,
     "metadata": {},
     "output_type": "execute_result"
    }
   ],
   "source": [
    "df"
   ],
   "metadata": {
    "collapsed": false,
    "pycharm": {
     "name": "#%%\n"
    }
   }
  },
  {
   "cell_type": "markdown",
   "source": [
    "## Make dataset human-readable"
   ],
   "metadata": {
    "collapsed": false
   }
  },
  {
   "cell_type": "code",
   "execution_count": 8,
   "outputs": [],
   "source": [
    "# Load in variable dictionary\n",
    "with open('VariableDictionary.txt') as file:\n",
    "    variable_dict_string = file.read()\n",
    "    variable_dict = ast.literal_eval(variable_dict_string)\n",
    "\n",
    "# Rename entries in column according to dictionary\n",
    "df2 = df.copy()\n",
    "for col, col_dict in variable_dict.items():\n",
    "    for old_value, new_value in variable_dict[col].items():\n",
    "        df2[col] = df2[col].replace(old_value, new_value)\n",
    "\n",
    "# Rename \"-9\" values as \"Unknown\"\n",
    "for col in df2.columns:\n",
    "    df2[col] = df2[col].replace(-9, 'Unknown')"
   ],
   "metadata": {
    "collapsed": false,
    "pycharm": {
     "name": "#%%\n"
    }
   }
  },
  {
   "cell_type": "code",
   "execution_count": 9,
   "outputs": [],
   "source": [
    "# Merge DETNLF (detailed not in labor force) into EMPLOY==4 (not in labor force)\n",
    "detailed_employ = []\n",
    "\n",
    "for idx, value in df2.iterrows():\n",
    "    if value['EMPLOY'] == 'NotInLaborForce':\n",
    "        if value['DETNLF'] == 'Unknown':\n",
    "            # Assign 'UnknownNotInLaborForce' if 'NotInLaborForce' and 'Unknown'\n",
    "            detailed_employ.append('UnknownNotInLaborForce')\n",
    "        else:\n",
    "            # Otherwise, assign as the DETNLF value\n",
    "            detailed_employ.append(value['DETNLF'])\n",
    "    else:\n",
    "        # Assign the EMPLOY value if not 'NotInLaborForce'\n",
    "        detailed_employ.append(value['EMPLOY'])\n",
    "\n",
    "# Add a new column for detailed employment and drop the two source columns\n",
    "df2['DETEMPLOY'] = detailed_employ\n",
    "df2 = df2.drop(columns=['EMPLOY', 'DETNLF'])"
   ],
   "metadata": {
    "collapsed": false,
    "pycharm": {
     "name": "#%%\n"
    }
   }
  },
  {
   "cell_type": "code",
   "execution_count": 10,
   "outputs": [
    {
     "data": {
      "text/plain": "       STFIPS          EDUC            MARSTAT  \\\n0          MN  Grade12OrGED       NeverMarried   \n1          IN  Grade12OrGED       NeverMarried   \n2          CT  Grade12OrGED  DivorcedOrWidowed   \n3          MI    Grade9To11  DivorcedOrWidowed   \n4          RI  1To3yCollege       NeverMarried   \n...       ...           ...                ...   \n423481     MI    Grade9To11  DivorcedOrWidowed   \n423482     GA    Grade9To11       NeverMarried   \n423483     MA  Grade12OrGED       NeverMarried   \n423484     NY  Grade12OrGED         NowMarried   \n423485     DE  1To3yCollege  DivorcedOrWidowed   \n\n                                SERVICES            DETCRIM  \\\n0          AmbulatoryIntensiveOutpatient            Unknown   \n1                       RehabResLongTerm  ProbationOrParole   \n2       AmbulatoryNonIntensiveOutpatient            Unknown   \n3          AmbulatoryIntensiveOutpatient            Unknown   \n4       AmbulatoryNonIntensiveOutpatient            Unknown   \n...                                  ...                ...   \n423481           Detox24hFreeStandingRes            Unknown   \n423482  AmbulatoryNonIntensiveOutpatient            Unknown   \n423483           Detox24hFreeStandingRes            Unknown   \n423484  AmbulatoryNonIntensiveOutpatient              Court   \n423485           Detox24hFreeStandingRes            Unknown   \n\n                     NOPRIOR                  PSOURCE  ARRESTS    METHUSE  \\\n0           0PriorTreatments            CourtReferral  0Arrest  NoMethUse   \n1           0PriorTreatments            CourtReferral  0Arrest  NoMethUse   \n2           1PriorTreatments            CourtReferral  0Arrest  NoMethUse   \n3           1PriorTreatments               Individual  0Arrest    MethUse   \n4           1PriorTreatments            OtherReferral  0Arrest  NoMethUse   \n...                      ...                      ...      ...        ...   \n423481      3PriorTreatments               Individual  0Arrest    MethUse   \n423482      1PriorTreatments               Individual  0Arrest  NoMethUse   \n423483  5PlusPriorTreatments         DrugCareProvider  0Arrest  NoMethUse   \n423484      1PriorTreatments            CourtReferral  1Arrest    MethUse   \n423485               Unknown  OtherHealthCareProvider  0Arrest  NoMethUse   \n\n        PSYPROB  ...      BARBFLG     SEDHPFLG       INHFLG       OTCFLG  \\\n0       Unknown  ...  NotReported  NotReported  NotReported  NotReported   \n1            No  ...  NotReported  NotReported  NotReported  NotReported   \n2            No  ...  NotReported  NotReported  NotReported  NotReported   \n3           Yes  ...  NotReported  NotReported  NotReported  NotReported   \n4           Yes  ...  NotReported  NotReported  NotReported  NotReported   \n...         ...  ...          ...          ...          ...          ...   \n423481      Yes  ...  NotReported  NotReported  NotReported  NotReported   \n423482       No  ...  NotReported  NotReported  NotReported  NotReported   \n423483      Yes  ...  NotReported  NotReported  NotReported  NotReported   \n423484       No  ...  NotReported  NotReported  NotReported  NotReported   \n423485       No  ...  NotReported  NotReported  NotReported  NotReported   \n\n           OTHERFLG          DIVISION     REGION    IDU        ALCDRUG  \\\n0       NotReported  WestNorthCentral    Midwest  NoIDU  Alcohol&Drugs   \n1       NotReported  EastNorthCentral    Midwest    IDU     OtherDrugs   \n2       NotReported        NewEngland  Northeast  NoIDU     OtherDrugs   \n3       NotReported  EastNorthCentral    Midwest  NoIDU     OtherDrugs   \n4       NotReported        NewEngland  Northeast    IDU     OtherDrugs   \n...             ...               ...        ...    ...            ...   \n423481  NotReported  EastNorthCentral    Midwest    IDU     OtherDrugs   \n423482  NotReported     SouthAtlantic      South  NoIDU     OtherDrugs   \n423483  NotReported        NewEngland  Northeast    IDU  Alcohol&Drugs   \n423484  NotReported    MiddleAtlantic  Northeast  NoIDU  Alcohol&Drugs   \n423485  NotReported     SouthAtlantic      South    IDU     OtherDrugs   \n\n                DETEMPLOY  \n0                FullTime  \n1              Unemployed  \n2       RetiredOrDisabled  \n3              Unemployed  \n4              Unemployed  \n...                   ...  \n423481  RetiredOrDisabled  \n423482         Unemployed  \n423483         Unemployed  \n423484           FullTime  \n423485  RetiredOrDisabled  \n\n[423486 rows x 58 columns]",
      "text/html": "<div>\n<style scoped>\n    .dataframe tbody tr th:only-of-type {\n        vertical-align: middle;\n    }\n\n    .dataframe tbody tr th {\n        vertical-align: top;\n    }\n\n    .dataframe thead th {\n        text-align: right;\n    }\n</style>\n<table border=\"1\" class=\"dataframe\">\n  <thead>\n    <tr style=\"text-align: right;\">\n      <th></th>\n      <th>STFIPS</th>\n      <th>EDUC</th>\n      <th>MARSTAT</th>\n      <th>SERVICES</th>\n      <th>DETCRIM</th>\n      <th>NOPRIOR</th>\n      <th>PSOURCE</th>\n      <th>ARRESTS</th>\n      <th>METHUSE</th>\n      <th>PSYPROB</th>\n      <th>...</th>\n      <th>BARBFLG</th>\n      <th>SEDHPFLG</th>\n      <th>INHFLG</th>\n      <th>OTCFLG</th>\n      <th>OTHERFLG</th>\n      <th>DIVISION</th>\n      <th>REGION</th>\n      <th>IDU</th>\n      <th>ALCDRUG</th>\n      <th>DETEMPLOY</th>\n    </tr>\n  </thead>\n  <tbody>\n    <tr>\n      <th>0</th>\n      <td>MN</td>\n      <td>Grade12OrGED</td>\n      <td>NeverMarried</td>\n      <td>AmbulatoryIntensiveOutpatient</td>\n      <td>Unknown</td>\n      <td>0PriorTreatments</td>\n      <td>CourtReferral</td>\n      <td>0Arrest</td>\n      <td>NoMethUse</td>\n      <td>Unknown</td>\n      <td>...</td>\n      <td>NotReported</td>\n      <td>NotReported</td>\n      <td>NotReported</td>\n      <td>NotReported</td>\n      <td>NotReported</td>\n      <td>WestNorthCentral</td>\n      <td>Midwest</td>\n      <td>NoIDU</td>\n      <td>Alcohol&amp;Drugs</td>\n      <td>FullTime</td>\n    </tr>\n    <tr>\n      <th>1</th>\n      <td>IN</td>\n      <td>Grade12OrGED</td>\n      <td>NeverMarried</td>\n      <td>RehabResLongTerm</td>\n      <td>ProbationOrParole</td>\n      <td>0PriorTreatments</td>\n      <td>CourtReferral</td>\n      <td>0Arrest</td>\n      <td>NoMethUse</td>\n      <td>No</td>\n      <td>...</td>\n      <td>NotReported</td>\n      <td>NotReported</td>\n      <td>NotReported</td>\n      <td>NotReported</td>\n      <td>NotReported</td>\n      <td>EastNorthCentral</td>\n      <td>Midwest</td>\n      <td>IDU</td>\n      <td>OtherDrugs</td>\n      <td>Unemployed</td>\n    </tr>\n    <tr>\n      <th>2</th>\n      <td>CT</td>\n      <td>Grade12OrGED</td>\n      <td>DivorcedOrWidowed</td>\n      <td>AmbulatoryNonIntensiveOutpatient</td>\n      <td>Unknown</td>\n      <td>1PriorTreatments</td>\n      <td>CourtReferral</td>\n      <td>0Arrest</td>\n      <td>NoMethUse</td>\n      <td>No</td>\n      <td>...</td>\n      <td>NotReported</td>\n      <td>NotReported</td>\n      <td>NotReported</td>\n      <td>NotReported</td>\n      <td>NotReported</td>\n      <td>NewEngland</td>\n      <td>Northeast</td>\n      <td>NoIDU</td>\n      <td>OtherDrugs</td>\n      <td>RetiredOrDisabled</td>\n    </tr>\n    <tr>\n      <th>3</th>\n      <td>MI</td>\n      <td>Grade9To11</td>\n      <td>DivorcedOrWidowed</td>\n      <td>AmbulatoryIntensiveOutpatient</td>\n      <td>Unknown</td>\n      <td>1PriorTreatments</td>\n      <td>Individual</td>\n      <td>0Arrest</td>\n      <td>MethUse</td>\n      <td>Yes</td>\n      <td>...</td>\n      <td>NotReported</td>\n      <td>NotReported</td>\n      <td>NotReported</td>\n      <td>NotReported</td>\n      <td>NotReported</td>\n      <td>EastNorthCentral</td>\n      <td>Midwest</td>\n      <td>NoIDU</td>\n      <td>OtherDrugs</td>\n      <td>Unemployed</td>\n    </tr>\n    <tr>\n      <th>4</th>\n      <td>RI</td>\n      <td>1To3yCollege</td>\n      <td>NeverMarried</td>\n      <td>AmbulatoryNonIntensiveOutpatient</td>\n      <td>Unknown</td>\n      <td>1PriorTreatments</td>\n      <td>OtherReferral</td>\n      <td>0Arrest</td>\n      <td>NoMethUse</td>\n      <td>Yes</td>\n      <td>...</td>\n      <td>NotReported</td>\n      <td>NotReported</td>\n      <td>NotReported</td>\n      <td>NotReported</td>\n      <td>NotReported</td>\n      <td>NewEngland</td>\n      <td>Northeast</td>\n      <td>IDU</td>\n      <td>OtherDrugs</td>\n      <td>Unemployed</td>\n    </tr>\n    <tr>\n      <th>...</th>\n      <td>...</td>\n      <td>...</td>\n      <td>...</td>\n      <td>...</td>\n      <td>...</td>\n      <td>...</td>\n      <td>...</td>\n      <td>...</td>\n      <td>...</td>\n      <td>...</td>\n      <td>...</td>\n      <td>...</td>\n      <td>...</td>\n      <td>...</td>\n      <td>...</td>\n      <td>...</td>\n      <td>...</td>\n      <td>...</td>\n      <td>...</td>\n      <td>...</td>\n      <td>...</td>\n    </tr>\n    <tr>\n      <th>423481</th>\n      <td>MI</td>\n      <td>Grade9To11</td>\n      <td>DivorcedOrWidowed</td>\n      <td>Detox24hFreeStandingRes</td>\n      <td>Unknown</td>\n      <td>3PriorTreatments</td>\n      <td>Individual</td>\n      <td>0Arrest</td>\n      <td>MethUse</td>\n      <td>Yes</td>\n      <td>...</td>\n      <td>NotReported</td>\n      <td>NotReported</td>\n      <td>NotReported</td>\n      <td>NotReported</td>\n      <td>NotReported</td>\n      <td>EastNorthCentral</td>\n      <td>Midwest</td>\n      <td>IDU</td>\n      <td>OtherDrugs</td>\n      <td>RetiredOrDisabled</td>\n    </tr>\n    <tr>\n      <th>423482</th>\n      <td>GA</td>\n      <td>Grade9To11</td>\n      <td>NeverMarried</td>\n      <td>AmbulatoryNonIntensiveOutpatient</td>\n      <td>Unknown</td>\n      <td>1PriorTreatments</td>\n      <td>Individual</td>\n      <td>0Arrest</td>\n      <td>NoMethUse</td>\n      <td>No</td>\n      <td>...</td>\n      <td>NotReported</td>\n      <td>NotReported</td>\n      <td>NotReported</td>\n      <td>NotReported</td>\n      <td>NotReported</td>\n      <td>SouthAtlantic</td>\n      <td>South</td>\n      <td>NoIDU</td>\n      <td>OtherDrugs</td>\n      <td>Unemployed</td>\n    </tr>\n    <tr>\n      <th>423483</th>\n      <td>MA</td>\n      <td>Grade12OrGED</td>\n      <td>NeverMarried</td>\n      <td>Detox24hFreeStandingRes</td>\n      <td>Unknown</td>\n      <td>5PlusPriorTreatments</td>\n      <td>DrugCareProvider</td>\n      <td>0Arrest</td>\n      <td>NoMethUse</td>\n      <td>Yes</td>\n      <td>...</td>\n      <td>NotReported</td>\n      <td>NotReported</td>\n      <td>NotReported</td>\n      <td>NotReported</td>\n      <td>NotReported</td>\n      <td>NewEngland</td>\n      <td>Northeast</td>\n      <td>IDU</td>\n      <td>Alcohol&amp;Drugs</td>\n      <td>Unemployed</td>\n    </tr>\n    <tr>\n      <th>423484</th>\n      <td>NY</td>\n      <td>Grade12OrGED</td>\n      <td>NowMarried</td>\n      <td>AmbulatoryNonIntensiveOutpatient</td>\n      <td>Court</td>\n      <td>1PriorTreatments</td>\n      <td>CourtReferral</td>\n      <td>1Arrest</td>\n      <td>MethUse</td>\n      <td>No</td>\n      <td>...</td>\n      <td>NotReported</td>\n      <td>NotReported</td>\n      <td>NotReported</td>\n      <td>NotReported</td>\n      <td>NotReported</td>\n      <td>MiddleAtlantic</td>\n      <td>Northeast</td>\n      <td>NoIDU</td>\n      <td>Alcohol&amp;Drugs</td>\n      <td>FullTime</td>\n    </tr>\n    <tr>\n      <th>423485</th>\n      <td>DE</td>\n      <td>1To3yCollege</td>\n      <td>DivorcedOrWidowed</td>\n      <td>Detox24hFreeStandingRes</td>\n      <td>Unknown</td>\n      <td>Unknown</td>\n      <td>OtherHealthCareProvider</td>\n      <td>0Arrest</td>\n      <td>NoMethUse</td>\n      <td>No</td>\n      <td>...</td>\n      <td>NotReported</td>\n      <td>NotReported</td>\n      <td>NotReported</td>\n      <td>NotReported</td>\n      <td>NotReported</td>\n      <td>SouthAtlantic</td>\n      <td>South</td>\n      <td>IDU</td>\n      <td>OtherDrugs</td>\n      <td>RetiredOrDisabled</td>\n    </tr>\n  </tbody>\n</table>\n<p>423486 rows × 58 columns</p>\n</div>"
     },
     "execution_count": 10,
     "metadata": {},
     "output_type": "execute_result"
    }
   ],
   "source": [
    "df2"
   ],
   "metadata": {
    "collapsed": false,
    "pycharm": {
     "name": "#%%\n"
    }
   }
  },
  {
   "cell_type": "markdown",
   "source": [
    "## Make machine-readable dataset (for exporting)"
   ],
   "metadata": {
    "collapsed": false
   }
  },
  {
   "cell_type": "code",
   "execution_count": 11,
   "outputs": [],
   "source": [
    "# Remove dependent variable\n",
    "df2['METHUSE'] = df2['METHUSE'].replace('MethUse', 1)\n",
    "df2['METHUSE'] = df2['METHUSE'].replace('NoMethUse', 0)\n",
    "\n",
    "# df2.to_csv('human_readable_data.csv', index=False)"
   ],
   "metadata": {
    "collapsed": false,
    "pycharm": {
     "name": "#%%\n"
    }
   }
  },
  {
   "cell_type": "code",
   "execution_count": 12,
   "outputs": [
    {
     "data": {
      "text/plain": "        Intercept  METHUSE  STFIPS_72  STFIPS_AK  STFIPS_AL  STFIPS_AR  \\\n0               1        0          0          0          0          0   \n1               1        0          0          0          0          0   \n2               1        0          0          0          0          0   \n3               1        1          0          0          0          0   \n4               1        0          0          0          0          0   \n...           ...      ...        ...        ...        ...        ...   \n423481          1        1          0          0          0          0   \n423482          1        0          0          0          0          0   \n423483          1        0          0          0          0          0   \n423484          1        1          0          0          0          0   \n423485          1        0          0          0          0          0   \n\n        STFIPS_AZ  STFIPS_CA  STFIPS_CO  STFIPS_CT  ...  DETEMPLOY_FullTime  \\\n0               0          0          0          0  ...                   1   \n1               0          0          0          0  ...                   0   \n2               0          0          0          1  ...                   0   \n3               0          0          0          0  ...                   0   \n4               0          0          0          0  ...                   0   \n...           ...        ...        ...        ...  ...                 ...   \n423481          0          0          0          0  ...                   0   \n423482          0          0          0          0  ...                   0   \n423483          0          0          0          0  ...                   0   \n423484          0          0          0          0  ...                   1   \n423485          0          0          0          0  ...                   0   \n\n        DETEMPLOY_Homemaker  DETEMPLOY_InstitutionResident  \\\n0                         0                              0   \n1                         0                              0   \n2                         0                              0   \n3                         0                              0   \n4                         0                              0   \n...                     ...                            ...   \n423481                    0                              0   \n423482                    0                              0   \n423483                    0                              0   \n423484                    0                              0   \n423485                    0                              0   \n\n        DETEMPLOY_OtherNotInLaborForce  DETEMPLOY_PartTime  \\\n0                                    0                   0   \n1                                    0                   0   \n2                                    0                   0   \n3                                    0                   0   \n4                                    0                   0   \n...                                ...                 ...   \n423481                               0                   0   \n423482                               0                   0   \n423483                               0                   0   \n423484                               0                   0   \n423485                               0                   0   \n\n        DETEMPLOY_RetiredOrDisabled  DETEMPLOY_Student  DETEMPLOY_Unemployed  \\\n0                                 0                  0                     0   \n1                                 0                  0                     1   \n2                                 1                  0                     0   \n3                                 0                  0                     1   \n4                                 0                  0                     1   \n...                             ...                ...                   ...   \n423481                            1                  0                     0   \n423482                            0                  0                     1   \n423483                            0                  0                     1   \n423484                            0                  0                     0   \n423485                            1                  0                     0   \n\n        DETEMPLOY_Unknown  DETEMPLOY_UnknownNotInLaborForce  \n0                       0                                 0  \n1                       0                                 0  \n2                       0                                 0  \n3                       0                                 0  \n4                       0                                 0  \n...                   ...                               ...  \n423481                  0                                 0  \n423482                  0                                 0  \n423483                  0                                 0  \n423484                  0                                 0  \n423485                  0                                 0  \n\n[423486 rows x 354 columns]",
      "text/html": "<div>\n<style scoped>\n    .dataframe tbody tr th:only-of-type {\n        vertical-align: middle;\n    }\n\n    .dataframe tbody tr th {\n        vertical-align: top;\n    }\n\n    .dataframe thead th {\n        text-align: right;\n    }\n</style>\n<table border=\"1\" class=\"dataframe\">\n  <thead>\n    <tr style=\"text-align: right;\">\n      <th></th>\n      <th>Intercept</th>\n      <th>METHUSE</th>\n      <th>STFIPS_72</th>\n      <th>STFIPS_AK</th>\n      <th>STFIPS_AL</th>\n      <th>STFIPS_AR</th>\n      <th>STFIPS_AZ</th>\n      <th>STFIPS_CA</th>\n      <th>STFIPS_CO</th>\n      <th>STFIPS_CT</th>\n      <th>...</th>\n      <th>DETEMPLOY_FullTime</th>\n      <th>DETEMPLOY_Homemaker</th>\n      <th>DETEMPLOY_InstitutionResident</th>\n      <th>DETEMPLOY_OtherNotInLaborForce</th>\n      <th>DETEMPLOY_PartTime</th>\n      <th>DETEMPLOY_RetiredOrDisabled</th>\n      <th>DETEMPLOY_Student</th>\n      <th>DETEMPLOY_Unemployed</th>\n      <th>DETEMPLOY_Unknown</th>\n      <th>DETEMPLOY_UnknownNotInLaborForce</th>\n    </tr>\n  </thead>\n  <tbody>\n    <tr>\n      <th>0</th>\n      <td>1</td>\n      <td>0</td>\n      <td>0</td>\n      <td>0</td>\n      <td>0</td>\n      <td>0</td>\n      <td>0</td>\n      <td>0</td>\n      <td>0</td>\n      <td>0</td>\n      <td>...</td>\n      <td>1</td>\n      <td>0</td>\n      <td>0</td>\n      <td>0</td>\n      <td>0</td>\n      <td>0</td>\n      <td>0</td>\n      <td>0</td>\n      <td>0</td>\n      <td>0</td>\n    </tr>\n    <tr>\n      <th>1</th>\n      <td>1</td>\n      <td>0</td>\n      <td>0</td>\n      <td>0</td>\n      <td>0</td>\n      <td>0</td>\n      <td>0</td>\n      <td>0</td>\n      <td>0</td>\n      <td>0</td>\n      <td>...</td>\n      <td>0</td>\n      <td>0</td>\n      <td>0</td>\n      <td>0</td>\n      <td>0</td>\n      <td>0</td>\n      <td>0</td>\n      <td>1</td>\n      <td>0</td>\n      <td>0</td>\n    </tr>\n    <tr>\n      <th>2</th>\n      <td>1</td>\n      <td>0</td>\n      <td>0</td>\n      <td>0</td>\n      <td>0</td>\n      <td>0</td>\n      <td>0</td>\n      <td>0</td>\n      <td>0</td>\n      <td>1</td>\n      <td>...</td>\n      <td>0</td>\n      <td>0</td>\n      <td>0</td>\n      <td>0</td>\n      <td>0</td>\n      <td>1</td>\n      <td>0</td>\n      <td>0</td>\n      <td>0</td>\n      <td>0</td>\n    </tr>\n    <tr>\n      <th>3</th>\n      <td>1</td>\n      <td>1</td>\n      <td>0</td>\n      <td>0</td>\n      <td>0</td>\n      <td>0</td>\n      <td>0</td>\n      <td>0</td>\n      <td>0</td>\n      <td>0</td>\n      <td>...</td>\n      <td>0</td>\n      <td>0</td>\n      <td>0</td>\n      <td>0</td>\n      <td>0</td>\n      <td>0</td>\n      <td>0</td>\n      <td>1</td>\n      <td>0</td>\n      <td>0</td>\n    </tr>\n    <tr>\n      <th>4</th>\n      <td>1</td>\n      <td>0</td>\n      <td>0</td>\n      <td>0</td>\n      <td>0</td>\n      <td>0</td>\n      <td>0</td>\n      <td>0</td>\n      <td>0</td>\n      <td>0</td>\n      <td>...</td>\n      <td>0</td>\n      <td>0</td>\n      <td>0</td>\n      <td>0</td>\n      <td>0</td>\n      <td>0</td>\n      <td>0</td>\n      <td>1</td>\n      <td>0</td>\n      <td>0</td>\n    </tr>\n    <tr>\n      <th>...</th>\n      <td>...</td>\n      <td>...</td>\n      <td>...</td>\n      <td>...</td>\n      <td>...</td>\n      <td>...</td>\n      <td>...</td>\n      <td>...</td>\n      <td>...</td>\n      <td>...</td>\n      <td>...</td>\n      <td>...</td>\n      <td>...</td>\n      <td>...</td>\n      <td>...</td>\n      <td>...</td>\n      <td>...</td>\n      <td>...</td>\n      <td>...</td>\n      <td>...</td>\n      <td>...</td>\n    </tr>\n    <tr>\n      <th>423481</th>\n      <td>1</td>\n      <td>1</td>\n      <td>0</td>\n      <td>0</td>\n      <td>0</td>\n      <td>0</td>\n      <td>0</td>\n      <td>0</td>\n      <td>0</td>\n      <td>0</td>\n      <td>...</td>\n      <td>0</td>\n      <td>0</td>\n      <td>0</td>\n      <td>0</td>\n      <td>0</td>\n      <td>1</td>\n      <td>0</td>\n      <td>0</td>\n      <td>0</td>\n      <td>0</td>\n    </tr>\n    <tr>\n      <th>423482</th>\n      <td>1</td>\n      <td>0</td>\n      <td>0</td>\n      <td>0</td>\n      <td>0</td>\n      <td>0</td>\n      <td>0</td>\n      <td>0</td>\n      <td>0</td>\n      <td>0</td>\n      <td>...</td>\n      <td>0</td>\n      <td>0</td>\n      <td>0</td>\n      <td>0</td>\n      <td>0</td>\n      <td>0</td>\n      <td>0</td>\n      <td>1</td>\n      <td>0</td>\n      <td>0</td>\n    </tr>\n    <tr>\n      <th>423483</th>\n      <td>1</td>\n      <td>0</td>\n      <td>0</td>\n      <td>0</td>\n      <td>0</td>\n      <td>0</td>\n      <td>0</td>\n      <td>0</td>\n      <td>0</td>\n      <td>0</td>\n      <td>...</td>\n      <td>0</td>\n      <td>0</td>\n      <td>0</td>\n      <td>0</td>\n      <td>0</td>\n      <td>0</td>\n      <td>0</td>\n      <td>1</td>\n      <td>0</td>\n      <td>0</td>\n    </tr>\n    <tr>\n      <th>423484</th>\n      <td>1</td>\n      <td>1</td>\n      <td>0</td>\n      <td>0</td>\n      <td>0</td>\n      <td>0</td>\n      <td>0</td>\n      <td>0</td>\n      <td>0</td>\n      <td>0</td>\n      <td>...</td>\n      <td>1</td>\n      <td>0</td>\n      <td>0</td>\n      <td>0</td>\n      <td>0</td>\n      <td>0</td>\n      <td>0</td>\n      <td>0</td>\n      <td>0</td>\n      <td>0</td>\n    </tr>\n    <tr>\n      <th>423485</th>\n      <td>1</td>\n      <td>0</td>\n      <td>0</td>\n      <td>0</td>\n      <td>0</td>\n      <td>0</td>\n      <td>0</td>\n      <td>0</td>\n      <td>0</td>\n      <td>0</td>\n      <td>...</td>\n      <td>0</td>\n      <td>0</td>\n      <td>0</td>\n      <td>0</td>\n      <td>0</td>\n      <td>1</td>\n      <td>0</td>\n      <td>0</td>\n      <td>0</td>\n      <td>0</td>\n    </tr>\n  </tbody>\n</table>\n<p>423486 rows × 354 columns</p>\n</div>"
     },
     "execution_count": 12,
     "metadata": {},
     "output_type": "execute_result"
    }
   ],
   "source": [
    "df3 = df2.copy()\n",
    "\n",
    "# Convert categorical variables to dummy variables\n",
    "df3 = pd.get_dummies(df3)\n",
    "\n",
    "# Add intercept\n",
    "df3.insert(0, 'Intercept', 1)\n",
    "\n",
    "# Save dataframe to csv and show below\n",
    "# df3.to_csv('data.csv', index=False)\n",
    "df3"
   ],
   "metadata": {
    "collapsed": false,
    "pycharm": {
     "name": "#%%\n"
    }
   }
  },
  {
   "cell_type": "markdown",
   "source": [
    "### Make machine-readable dataset (encoding)"
   ],
   "metadata": {
    "collapsed": false
   }
  },
  {
   "cell_type": "code",
   "execution_count": 36,
   "outputs": [],
   "source": [
    "# from numpy import asarray\n",
    "from sklearn.preprocessing import LabelEncoder\n",
    "import pandas as pd\n",
    "from sklearn.preprocessing import OrdinalEncoder\n",
    "# from sklearn.preprocessing import OneHotEncoder\n",
    "\n",
    "df4 = df2.copy()\n",
    "df4 = df4.sample(frac=1)  # small size for testing code"
   ],
   "metadata": {
    "collapsed": false,
    "pycharm": {
     "name": "#%%\n"
    }
   }
  },
  {
   "cell_type": "code",
   "execution_count": 37,
   "outputs": [],
   "source": [
    "from sklearn.preprocessing import OrdinalEncoder\n",
    "\n",
    "df4['STFIPS'] = df4['STFIPS'].astype('category').cat.codes\n",
    "df4['EDUC'] = OrdinalEncoder(categories=[['Unknown', 'Grade8OrLess', 'Grade9To11', 'Grade12OrGED', '1To3yCollege', '4yCollegePlus']]).fit_transform(df4[['EDUC']])\n",
    "df4['MARSTAT'] = df4['MARSTAT'].astype('category').cat.codes\n",
    "df4['SERVICES'] = df4['SERVICES'].astype('category').cat.codes\n",
    "df4['DETCRIM'] = df4['DETCRIM'].astype('category').cat.codes\n",
    "df4['NOPRIOR'] = OrdinalEncoder(categories=[['Unknown', '0PriorTreatments', '1PriorTreatments', '2PriorTreatments', '3PriorTreatments',\n",
    "                                            '4PriorTreatments', '5PlusPriorTreatments']]).fit_transform(df4[['NOPRIOR']])\n",
    "df4['PSOURCE'] = df4['PSOURCE'].astype('category').cat.codes\n",
    "df4['ARRESTS'] = OrdinalEncoder(categories=[['Unknown', '0Arrest', '1Arrest', '2PlusArrest']]).fit_transform(df4[['ARRESTS']])\n",
    "# df4['METHUSE'] = df4['METHUSE'].astype('category').cat.codes\n",
    "df4['PSYPROB'] = df4['PSYPROB'].astype('category').cat.codes\n",
    "df4['PREG'] = df4['PREG'].astype('category').cat.codes\n",
    "df4['GENDER'] = df4['GENDER'].astype('category').cat.codes\n",
    "df4['VET'] = df4['VET'].astype('category').cat.codes\n",
    "df4['LIVARAG'] = df4['LIVARAG'].astype('category').cat.codes\n",
    "df4['DAYWAIT'] = OrdinalEncoder(categories=[['Unknown', '0DaysWait', '1To7DaysWait', '8To14DaysWait', '15To30DaysWait',\n",
    "                                            '31PlusDaysWait']]).fit_transform(df4[['DAYWAIT']])\n",
    "df4['DSMCRIT'] = df4['DSMCRIT'].astype('category').cat.codes\n",
    "df4['AGE'] = OrdinalEncoder(categories=[['Age12To14', 'Age15To17', 'Age18To20', 'Age21To24', 'Age25To29', 'Age30To34', 'Age35To39', 'Age40To44',\n",
    "                                        'Age45To49', 'Age50To54', 'Age55To64', 'Age65Plus' ]]).fit_transform(df4[['AGE']])\n",
    "df4['RACE'] = df4['RACE'].astype('category').cat.codes\n",
    "df4['ETHNIC'] = df4['ETHNIC'].astype('category').cat.codes\n",
    "df4['PRIMINC'] = df4['PRIMINC'].astype('category').cat.codes\n",
    "df4['SUB1'] = df4['SUB1'].astype('category').cat.codes\n",
    "df4['SUB2'] = df4['SUB2'].astype('category').cat.codes\n",
    "df4['SUB3'] = df4['SUB3'].astype('category').cat.codes\n",
    "df4['ROUTE1'] = df4['ROUTE1'].astype('category').cat.codes\n",
    "df4['ROUTE2'] = df4['ROUTE2'].astype('category').cat.codes\n",
    "df4['ROUTE3'] = df4['ROUTE3'].astype('category').cat.codes\n",
    "df4['FREQ1'] = OrdinalEncoder(categories=[['Unknown', 'NoUsePastMonth', 'SomeUse', 'DailyUse']]).fit_transform(df4[['FREQ1']])\n",
    "df4['FREQ2'] = OrdinalEncoder(categories=[['Unknown', 'NoUsePastMonth', 'SomeUse', 'DailyUse']]).fit_transform(df4[['FREQ2']])\n",
    "df4['FREQ3'] = OrdinalEncoder(categories=[['Unknown', 'NoUsePastMonth', 'SomeUse', 'DailyUse']]).fit_transform(df4[['FREQ3']])\n",
    "df4['FRSTUSE1'] = OrdinalEncoder(categories=[['Unknown', '11yLess', '12To14y', '15To17y', '18To20y', '21To24y', '25To29y',\n",
    "                                             '30yPlus']]).fit_transform(df4[['FRSTUSE1']])\n",
    "df4['FRSTUSE2'] = OrdinalEncoder(categories=[['Unknown', '11yLess', '12To14y', '15To17y', '18To20y', '21To24y', '25To29y',\n",
    "                                             '30yPlus']]).fit_transform(df4[['FRSTUSE2']])\n",
    "df4['FRSTUSE3'] = OrdinalEncoder(categories=[['Unknown', '11yLess', '12To14y', '15To17y', '18To20y', '21To24y', '25To29y',\n",
    "                                             '30yPlus']]).fit_transform(df4[['FRSTUSE3']])\n",
    "df4['HLTHINS'] = df4['HLTHINS'].astype('category').cat.codes\n",
    "df4['PRIMPAY'] = df4['PRIMPAY'].astype('category').cat.codes\n",
    "df4['FREQ_ATND_SELF_HELP'] = OrdinalEncoder(categories=[['Unknown', 'NoAttendance', 'SomeAttendance', '1To3TimesPastMonth', '4To7TimesPastMonth',\n",
    "                                                        '8To30TimesPastMonth']]).fit_transform(df4[['FREQ_ATND_SELF_HELP']])\n",
    "df4['ALCFLG'] = OrdinalEncoder(categories=[['NotReported', 'Reported']]).fit_transform(df4[['ALCFLG']])\n",
    "df4['COKEFLG'] = OrdinalEncoder(categories=[['NotReported', 'Reported']]).fit_transform(df4[['COKEFLG']])\n",
    "df4['MARFLG'] = OrdinalEncoder(categories=[['NotReported', 'Reported']]).fit_transform(df4[['MARFLG']])\n",
    "df4['HERFLG'] = OrdinalEncoder(categories=[['NotReported', 'Reported']]).fit_transform(df4[['HERFLG']])\n",
    "df4['METHFLG'] = OrdinalEncoder(categories=[['NotReported', 'Reported']]).fit_transform(df4[['METHFLG']])\n",
    "df4['OPSYNFLG'] = OrdinalEncoder(categories=[['NotReported', 'Reported']]).fit_transform(df4[['OPSYNFLG']])\n",
    "df4['PCPFLG'] = OrdinalEncoder(categories=[['NotReported', 'Reported']]).fit_transform(df4[['PCPFLG']])\n",
    "df4['HALLFLG'] = OrdinalEncoder(categories=[['NotReported', 'Reported']]).fit_transform(df4[['HALLFLG']])\n",
    "df4['MTHAMFLG'] = OrdinalEncoder(categories=[['NotReported', 'Reported']]).fit_transform(df4[['MTHAMFLG']])\n",
    "df4['AMPHFLG'] = OrdinalEncoder(categories=[['NotReported', 'Reported']]).fit_transform(df4[['AMPHFLG']])\n",
    "df4['STIMFLG'] = OrdinalEncoder(categories=[['NotReported', 'Reported']]).fit_transform(df4[['STIMFLG']])\n",
    "df4['BENZFLG'] = OrdinalEncoder(categories=[['NotReported', 'Reported']]).fit_transform(df4[['BENZFLG']])\n",
    "df4['TRNQFLG'] = OrdinalEncoder(categories=[['NotReported', 'Reported']]).fit_transform(df4[['TRNQFLG']])\n",
    "df4['BARBFLG'] = OrdinalEncoder(categories=[['NotReported', 'Reported']]).fit_transform(df4[['BARBFLG']])\n",
    "df4['SEDHPFLG'] = OrdinalEncoder(categories=[['NotReported', 'Reported']]).fit_transform(df4[['SEDHPFLG']])\n",
    "df4['INHFLG'] = OrdinalEncoder(categories=[['NotReported', 'Reported']]).fit_transform(df4[['INHFLG']])\n",
    "df4['OTCFLG'] = OrdinalEncoder(categories=[['NotReported', 'Reported']]).fit_transform(df4[['OTCFLG']])\n",
    "df4['OTHERFLG'] = OrdinalEncoder(categories=[['NotReported', 'Reported']]).fit_transform(df4[['OTHERFLG']])\n",
    "df4['DIVISION'] = df4['DIVISION'].astype('category').cat.codes\n",
    "df4['REGION'] = df4['REGION'].astype('category').cat.codes\n",
    "df4['IDU'] = OrdinalEncoder(categories=[['NoIDU', 'IDU']]).fit_transform(df4[['IDU']])\n",
    "df4['ALCDRUG'] = OrdinalEncoder(categories=[['OtherDrugs', 'Alcohol&Drugs']]).fit_transform(df4[['ALCDRUG']])\n",
    "df4['DETEMPLOY'] = df4['DETEMPLOY'].astype('category').cat.codes"
   ],
   "metadata": {
    "collapsed": false,
    "pycharm": {
     "name": "#%%\n"
    }
   }
  },
  {
   "cell_type": "code",
   "execution_count": 38,
   "outputs": [
    {
     "data": {
      "text/plain": "STFIPS                    int8\nEDUC                   float64\nMARSTAT                   int8\nSERVICES                  int8\nDETCRIM                   int8\nNOPRIOR                float64\nPSOURCE                   int8\nARRESTS                float64\nMETHUSE                  int64\nPSYPROB                   int8\nPREG                      int8\nGENDER                    int8\nVET                       int8\nLIVARAG                   int8\nDAYWAIT                float64\nDSMCRIT                   int8\nAGE                    float64\nRACE                      int8\nETHNIC                    int8\nPRIMINC                   int8\nSUB1                      int8\nSUB2                      int8\nSUB3                      int8\nROUTE1                    int8\nROUTE2                    int8\nROUTE3                    int8\nFREQ1                  float64\nFREQ2                  float64\nFREQ3                  float64\nFRSTUSE1               float64\nFRSTUSE2               float64\nFRSTUSE3               float64\nHLTHINS                   int8\nPRIMPAY                   int8\nFREQ_ATND_SELF_HELP    float64\nALCFLG                 float64\nCOKEFLG                float64\nMARFLG                 float64\nHERFLG                 float64\nMETHFLG                float64\nOPSYNFLG               float64\nPCPFLG                 float64\nHALLFLG                float64\nMTHAMFLG               float64\nAMPHFLG                float64\nSTIMFLG                float64\nBENZFLG                float64\nTRNQFLG                float64\nBARBFLG                float64\nSEDHPFLG               float64\nINHFLG                 float64\nOTCFLG                 float64\nOTHERFLG               float64\nDIVISION                  int8\nREGION                    int8\nIDU                    float64\nALCDRUG                float64\nDETEMPLOY                 int8\ndtype: object"
     },
     "execution_count": 38,
     "metadata": {},
     "output_type": "execute_result"
    }
   ],
   "source": [
    "df4.dtypes"
   ],
   "metadata": {
    "collapsed": false,
    "pycharm": {
     "name": "#%%\n"
    }
   }
  },
  {
   "cell_type": "code",
   "execution_count": 39,
   "outputs": [
    {
     "data": {
      "text/plain": "        STFIPS  EDUC  MARSTAT  SERVICES  DETCRIM  NOPRIOR  PSOURCE  ARRESTS  \\\n67762        5   2.0        4         2        8      1.0        3      1.0   \n353733      15   3.0        3         2        8      6.0        3      1.0   \n167124      44   3.0        4         7        8      1.0        3      1.0   \n39272       15   3.0        1         2        8      1.0        5      1.0   \n340248      27   2.0        3         2        8      1.0        3      1.0   \n...        ...   ...      ...       ...      ...      ...      ...      ...   \n137967      18   3.0        1         3        8      2.0        3      1.0   \n347866      44   2.0        4         2        8      2.0        3      1.0   \n368882      34   3.0        0         2        8      6.0        3      1.0   \n52325       20   3.0        1         2        8      3.0        3      1.0   \n209881      27   0.0        1         2        8      1.0        3      1.0   \n\n        METHUSE  PSYPROB  ...  BARBFLG  SEDHPFLG  INHFLG  OTCFLG  OTHERFLG  \\\n67762         1        0  ...      0.0       0.0     0.0     0.0       0.0   \n353733        0        0  ...      0.0       0.0     0.0     0.0       0.0   \n167124        0        1  ...      0.0       0.0     0.0     0.0       0.0   \n39272         1        0  ...      0.0       0.0     0.0     0.0       0.0   \n340248        1        0  ...      0.0       0.0     0.0     0.0       0.0   \n...         ...      ...  ...      ...       ...     ...     ...       ...   \n137967        0        0  ...      0.0       0.0     0.0     0.0       0.0   \n347866        0        1  ...      0.0       0.0     0.0     0.0       0.0   \n368882        1        2  ...      0.0       0.0     0.0     0.0       0.0   \n52325         0        0  ...      0.0       0.0     0.0     0.0       0.0   \n209881        0        2  ...      0.0       0.0     0.0     0.0       0.0   \n\n        DIVISION  REGION  IDU  ALCDRUG  DETEMPLOY  \n67762          6       4  0.0      0.0          0  \n353733         1       0  0.0      1.0          5  \n167124         7       2  0.0      0.0          7  \n39272          1       0  0.0      1.0          7  \n340248         7       2  0.0      0.0          3  \n...          ...     ...  ...      ...        ...  \n137967         9       2  1.0      0.0          3  \n347866         7       2  1.0      0.0          5  \n368882         3       1  0.0      0.0          3  \n52325          7       2  0.0      0.0          7  \n209881         7       2  0.0      1.0          7  \n\n[423486 rows x 58 columns]",
      "text/html": "<div>\n<style scoped>\n    .dataframe tbody tr th:only-of-type {\n        vertical-align: middle;\n    }\n\n    .dataframe tbody tr th {\n        vertical-align: top;\n    }\n\n    .dataframe thead th {\n        text-align: right;\n    }\n</style>\n<table border=\"1\" class=\"dataframe\">\n  <thead>\n    <tr style=\"text-align: right;\">\n      <th></th>\n      <th>STFIPS</th>\n      <th>EDUC</th>\n      <th>MARSTAT</th>\n      <th>SERVICES</th>\n      <th>DETCRIM</th>\n      <th>NOPRIOR</th>\n      <th>PSOURCE</th>\n      <th>ARRESTS</th>\n      <th>METHUSE</th>\n      <th>PSYPROB</th>\n      <th>...</th>\n      <th>BARBFLG</th>\n      <th>SEDHPFLG</th>\n      <th>INHFLG</th>\n      <th>OTCFLG</th>\n      <th>OTHERFLG</th>\n      <th>DIVISION</th>\n      <th>REGION</th>\n      <th>IDU</th>\n      <th>ALCDRUG</th>\n      <th>DETEMPLOY</th>\n    </tr>\n  </thead>\n  <tbody>\n    <tr>\n      <th>67762</th>\n      <td>5</td>\n      <td>2.0</td>\n      <td>4</td>\n      <td>2</td>\n      <td>8</td>\n      <td>1.0</td>\n      <td>3</td>\n      <td>1.0</td>\n      <td>1</td>\n      <td>0</td>\n      <td>...</td>\n      <td>0.0</td>\n      <td>0.0</td>\n      <td>0.0</td>\n      <td>0.0</td>\n      <td>0.0</td>\n      <td>6</td>\n      <td>4</td>\n      <td>0.0</td>\n      <td>0.0</td>\n      <td>0</td>\n    </tr>\n    <tr>\n      <th>353733</th>\n      <td>15</td>\n      <td>3.0</td>\n      <td>3</td>\n      <td>2</td>\n      <td>8</td>\n      <td>6.0</td>\n      <td>3</td>\n      <td>1.0</td>\n      <td>0</td>\n      <td>0</td>\n      <td>...</td>\n      <td>0.0</td>\n      <td>0.0</td>\n      <td>0.0</td>\n      <td>0.0</td>\n      <td>0.0</td>\n      <td>1</td>\n      <td>0</td>\n      <td>0.0</td>\n      <td>1.0</td>\n      <td>5</td>\n    </tr>\n    <tr>\n      <th>167124</th>\n      <td>44</td>\n      <td>3.0</td>\n      <td>4</td>\n      <td>7</td>\n      <td>8</td>\n      <td>1.0</td>\n      <td>3</td>\n      <td>1.0</td>\n      <td>0</td>\n      <td>1</td>\n      <td>...</td>\n      <td>0.0</td>\n      <td>0.0</td>\n      <td>0.0</td>\n      <td>0.0</td>\n      <td>0.0</td>\n      <td>7</td>\n      <td>2</td>\n      <td>0.0</td>\n      <td>0.0</td>\n      <td>7</td>\n    </tr>\n    <tr>\n      <th>39272</th>\n      <td>15</td>\n      <td>3.0</td>\n      <td>1</td>\n      <td>2</td>\n      <td>8</td>\n      <td>1.0</td>\n      <td>5</td>\n      <td>1.0</td>\n      <td>1</td>\n      <td>0</td>\n      <td>...</td>\n      <td>0.0</td>\n      <td>0.0</td>\n      <td>0.0</td>\n      <td>0.0</td>\n      <td>0.0</td>\n      <td>1</td>\n      <td>0</td>\n      <td>0.0</td>\n      <td>1.0</td>\n      <td>7</td>\n    </tr>\n    <tr>\n      <th>340248</th>\n      <td>27</td>\n      <td>2.0</td>\n      <td>3</td>\n      <td>2</td>\n      <td>8</td>\n      <td>1.0</td>\n      <td>3</td>\n      <td>1.0</td>\n      <td>1</td>\n      <td>0</td>\n      <td>...</td>\n      <td>0.0</td>\n      <td>0.0</td>\n      <td>0.0</td>\n      <td>0.0</td>\n      <td>0.0</td>\n      <td>7</td>\n      <td>2</td>\n      <td>0.0</td>\n      <td>0.0</td>\n      <td>3</td>\n    </tr>\n    <tr>\n      <th>...</th>\n      <td>...</td>\n      <td>...</td>\n      <td>...</td>\n      <td>...</td>\n      <td>...</td>\n      <td>...</td>\n      <td>...</td>\n      <td>...</td>\n      <td>...</td>\n      <td>...</td>\n      <td>...</td>\n      <td>...</td>\n      <td>...</td>\n      <td>...</td>\n      <td>...</td>\n      <td>...</td>\n      <td>...</td>\n      <td>...</td>\n      <td>...</td>\n      <td>...</td>\n      <td>...</td>\n    </tr>\n    <tr>\n      <th>137967</th>\n      <td>18</td>\n      <td>3.0</td>\n      <td>1</td>\n      <td>3</td>\n      <td>8</td>\n      <td>2.0</td>\n      <td>3</td>\n      <td>1.0</td>\n      <td>0</td>\n      <td>0</td>\n      <td>...</td>\n      <td>0.0</td>\n      <td>0.0</td>\n      <td>0.0</td>\n      <td>0.0</td>\n      <td>0.0</td>\n      <td>9</td>\n      <td>2</td>\n      <td>1.0</td>\n      <td>0.0</td>\n      <td>3</td>\n    </tr>\n    <tr>\n      <th>347866</th>\n      <td>44</td>\n      <td>2.0</td>\n      <td>4</td>\n      <td>2</td>\n      <td>8</td>\n      <td>2.0</td>\n      <td>3</td>\n      <td>1.0</td>\n      <td>0</td>\n      <td>1</td>\n      <td>...</td>\n      <td>0.0</td>\n      <td>0.0</td>\n      <td>0.0</td>\n      <td>0.0</td>\n      <td>0.0</td>\n      <td>7</td>\n      <td>2</td>\n      <td>1.0</td>\n      <td>0.0</td>\n      <td>5</td>\n    </tr>\n    <tr>\n      <th>368882</th>\n      <td>34</td>\n      <td>3.0</td>\n      <td>0</td>\n      <td>2</td>\n      <td>8</td>\n      <td>6.0</td>\n      <td>3</td>\n      <td>1.0</td>\n      <td>1</td>\n      <td>2</td>\n      <td>...</td>\n      <td>0.0</td>\n      <td>0.0</td>\n      <td>0.0</td>\n      <td>0.0</td>\n      <td>0.0</td>\n      <td>3</td>\n      <td>1</td>\n      <td>0.0</td>\n      <td>0.0</td>\n      <td>3</td>\n    </tr>\n    <tr>\n      <th>52325</th>\n      <td>20</td>\n      <td>3.0</td>\n      <td>1</td>\n      <td>2</td>\n      <td>8</td>\n      <td>3.0</td>\n      <td>3</td>\n      <td>1.0</td>\n      <td>0</td>\n      <td>0</td>\n      <td>...</td>\n      <td>0.0</td>\n      <td>0.0</td>\n      <td>0.0</td>\n      <td>0.0</td>\n      <td>0.0</td>\n      <td>7</td>\n      <td>2</td>\n      <td>0.0</td>\n      <td>0.0</td>\n      <td>7</td>\n    </tr>\n    <tr>\n      <th>209881</th>\n      <td>27</td>\n      <td>0.0</td>\n      <td>1</td>\n      <td>2</td>\n      <td>8</td>\n      <td>1.0</td>\n      <td>3</td>\n      <td>1.0</td>\n      <td>0</td>\n      <td>2</td>\n      <td>...</td>\n      <td>0.0</td>\n      <td>0.0</td>\n      <td>0.0</td>\n      <td>0.0</td>\n      <td>0.0</td>\n      <td>7</td>\n      <td>2</td>\n      <td>0.0</td>\n      <td>1.0</td>\n      <td>7</td>\n    </tr>\n  </tbody>\n</table>\n<p>423486 rows × 58 columns</p>\n</div>"
     },
     "execution_count": 39,
     "metadata": {},
     "output_type": "execute_result"
    }
   ],
   "source": [
    "df4"
   ],
   "metadata": {
    "collapsed": false,
    "pycharm": {
     "name": "#%%\n"
    }
   }
  },
  {
   "cell_type": "markdown",
   "source": [
    "### Train test split"
   ],
   "metadata": {
    "collapsed": false
   }
  },
  {
   "cell_type": "markdown",
   "source": [
    "## Train XG Boost model"
   ],
   "metadata": {
    "collapsed": false
   }
  },
  {
   "cell_type": "code",
   "execution_count": 40,
   "outputs": [],
   "source": [
    "from sklearn.model_selection import train_test_split\n",
    "\n",
    "# Split data into training and test sets\n",
    "X = df4.drop('METHUSE', axis=1)\n",
    "y = df4['METHUSE'].astype('float')\n",
    "X_train, X_test, y_train, y_test = train_test_split(X, y, test_size=0.2, random_state=24)"
   ],
   "metadata": {
    "collapsed": false,
    "pycharm": {
     "name": "#%%\n"
    }
   }
  },
  {
   "cell_type": "code",
   "execution_count": 92,
   "outputs": [],
   "source": [
    "import xgboost as xgb\n",
    "from sklearn.metrics import accuracy_score\n",
    "from hyperopt import STATUS_OK, Trials, fmin, hp, tpe\n",
    "\n",
    "# Search the parameter grid\n",
    "# Docs: https://xgboost.readthedocs.io/en/latest/parameter.html\n",
    "# https://www.kaggle.com/code/prashant111/a-guide-on-xgboost-hyperparameters-tuning/notebook#2.-XGBoost-hyperparameters-\n",
    "space={'colsample_bytree': hp.quniform('colsample_bytree', 0.1, 1, 0.01),\n",
    "       'eta': hp.quniform('eta', 0.025, 0.5, 0.025),\n",
    "       'gamma': hp.quniform('gamma', 0.5, 1, 0.05),\n",
    "       'learning_rate': hp.quniform('learning_rate', 0.01, 0.5, 0.01),\n",
    "       'max_depth': hp.quniform(\"max_depth\", 3, 27, 1),\n",
    "       'min_child_weight' : hp.quniform('min_child_weight', 0, 10, 1),\n",
    "       'n_estimators': hp.choice('n_estimators', range(100, 1000)),\n",
    "       'reg_alpha' : hp.quniform('reg_alpha', 40, 180, 1),\n",
    "       'reg_lambda' : hp.uniform('reg_lambda', 0, 1),\n",
    "       'subsample': hp.quniform('subsample', 0.5, 1, 0.05)\n",
    "    }\n",
    "\n",
    "def objective(space):\n",
    "    clf=xgb.XGBClassifier(colsample_bytree=round(space['colsample_bytree'], 0),\n",
    "                          early_stopping_rounds=10,\n",
    "                          eta=space['eta'],\n",
    "                          eval_metric='auc',\n",
    "                          gamma=space['gamma'],\n",
    "                          learning_rate=space['learning_rate'],\n",
    "                          max_depth=int(round(space['max_depth'], 0)),\n",
    "                          min_child_weight=space['min_child_weight'],\n",
    "                          # min_child_weight=int(space['min_child_weight']), # delete these if it works without\n",
    "                          n_estimators=space['n_estimators'],\n",
    "                          objective='binary:logistic',\n",
    "                          # reg_alpha=int(space['reg_alpha']),\n",
    "                          reg_alpha=space['reg_alpha'],\n",
    "                          # reg_lambda=int(space['reg_lambda']),\n",
    "                          reg_lambda=space['reg_lambda'],\n",
    "                          seed=24,\n",
    "                          subsample=round(space['subsample'], 0))\n",
    "\n",
    "    evaluation = [( X_train, y_train), ( X_test, y_test)]\n",
    "\n",
    "    clf.fit(X_train, y_train, eval_set=evaluation, verbose=False)\n",
    "\n",
    "    pred = clf.predict(X_test)\n",
    "    accuracy = accuracy_score(y_test, pred>0.5)\n",
    "    print (\"SCORE:\", round(accuracy, 2))\n",
    "    return {'loss': -accuracy, 'status': STATUS_OK }"
   ],
   "metadata": {
    "collapsed": false,
    "pycharm": {
     "name": "#%%\n"
    }
   }
  },
  {
   "cell_type": "code",
   "execution_count": 93,
   "outputs": [
    {
     "name": "stdout",
     "output_type": "stream",
     "text": [
      "SCORE:                                               \n",
      "0.75                                                 \n",
      "SCORE:                                                                         \n",
      "0.77                                                                           \n",
      "100%|██████████| 2/2 [00:48<00:00, 24.27s/trial, best loss: 0.7543153321211835]\n"
     ]
    }
   ],
   "source": [
    "trials = Trials()\n",
    "\n",
    "best_hyperparams = fmin(fn = objective,\n",
    "                        space = space,\n",
    "                        algo = tpe.suggest,\n",
    "                        max_evals = 2,\n",
    "                        trials = trials)"
   ],
   "metadata": {
    "collapsed": false,
    "pycharm": {
     "name": "#%%\n"
    }
   }
  },
  {
   "cell_type": "code",
   "execution_count": 94,
   "outputs": [
    {
     "data": {
      "text/plain": "{'colsample_bytree': 0.41000000000000003,\n 'eta': 0.30000000000000004,\n 'gamma': 0.9,\n 'learning_rate': 0.23,\n 'max_depth': 11.0,\n 'min_child_weight': 10.0,\n 'n_estimators': 429,\n 'reg_alpha': 114.0,\n 'reg_lambda': 0.2925191678998994,\n 'subsample': 0.8}"
     },
     "execution_count": 94,
     "metadata": {},
     "output_type": "execute_result"
    }
   ],
   "source": [
    "best_hyperparams"
   ],
   "metadata": {
    "collapsed": false,
    "pycharm": {
     "name": "#%%\n"
    }
   }
  },
  {
   "cell_type": "code",
   "execution_count": 68,
   "outputs": [
    {
     "data": {
      "text/plain": "{'colsample_bytree': 0.32,\n 'eta': 0.15000000000000002,\n 'gamma': 0.55,\n 'learning_rate': 0.46,\n 'max_depth': 26.0,\n 'min_child_weight': 2.0,\n 'n_estimators': 145,\n 'reg_alpha': 52.0,\n 'reg_lambda': 0.6970257996802689,\n 'subsample': 0.55}"
     },
     "execution_count": 68,
     "metadata": {},
     "output_type": "execute_result"
    }
   ],
   "source": [
    "best_hyperparams"
   ],
   "metadata": {
    "collapsed": false,
    "pycharm": {
     "name": "#%%\n"
    }
   }
  },
  {
   "cell_type": "code",
   "execution_count": 64,
   "outputs": [
    {
     "data": {
      "text/plain": "{'colsample_bytree': 0.41000000000000003,\n 'eta': 0.375,\n 'gamma': 0.7000000000000001,\n 'learning_rate': 0.21,\n 'max_depth': 18.0,\n 'min_child_weight': 7.0,\n 'n_estimators': 712,\n 'reg_alpha': 52.0,\n 'reg_lambda': 0.48249702085543966,\n 'subsample': 0.55}"
     },
     "execution_count": 64,
     "metadata": {},
     "output_type": "execute_result"
    }
   ],
   "source": [
    "best_hyperparams"
   ],
   "metadata": {
    "collapsed": false,
    "pycharm": {
     "name": "#%%\n"
    }
   }
  },
  {
   "cell_type": "code",
   "execution_count": 47,
   "outputs": [
    {
     "data": {
      "text/plain": "{'colsample_bytree': 0.6540100920285379,\n 'gamma': 3.9462282052747866,\n 'max_depth': 15.0,\n 'min_child_weight': 7.0,\n 'reg_alpha': 44.0,\n 'reg_lambda': 0.6003673027519678}"
     },
     "execution_count": 47,
     "metadata": {},
     "output_type": "execute_result"
    }
   ],
   "source": [
    "best_hyperparams"
   ],
   "metadata": {
    "collapsed": false,
    "pycharm": {
     "name": "#%%\n"
    }
   }
  },
  {
   "cell_type": "code",
   "execution_count": 44,
   "outputs": [
    {
     "data": {
      "text/plain": "{'colsample_bytree': 0.8479086592427905,\n 'gamma': 4.093522350095821,\n 'max_depth': 16.0,\n 'min_child_weight': 5.0,\n 'reg_alpha': 40.0,\n 'reg_lambda': 0.3787091501538802}"
     },
     "execution_count": 44,
     "metadata": {},
     "output_type": "execute_result"
    }
   ],
   "source": [
    "best_hyperparams"
   ],
   "metadata": {
    "collapsed": false,
    "pycharm": {
     "name": "#%%\n"
    }
   }
  },
  {
   "cell_type": "code",
   "execution_count": 33,
   "outputs": [
    {
     "data": {
      "text/plain": "{'colsample_bytree': 0.6139927074990315,\n 'gamma': 5.215043577961982,\n 'max_depth': 9.0,\n 'min_child_weight': 10.0,\n 'reg_alpha': 40.0,\n 'reg_lambda': 0.9959998933338382}"
     },
     "execution_count": 33,
     "metadata": {},
     "output_type": "execute_result"
    }
   ],
   "source": [
    "best_hyperparams"
   ],
   "metadata": {
    "collapsed": false,
    "pycharm": {
     "name": "#%%\n"
    }
   }
  },
  {
   "cell_type": "code",
   "execution_count": 31,
   "outputs": [
    {
     "data": {
      "text/plain": "{'colsample_bytree': 0.8337595545273556,\n 'gamma': 2.0044811704634977,\n 'max_depth': 6.0,\n 'min_child_weight': 3.0,\n 'reg_alpha': 66.0,\n 'reg_lambda': 0.9642340057671982}"
     },
     "execution_count": 31,
     "metadata": {},
     "output_type": "execute_result"
    }
   ],
   "source": [
    "best_hyperparams"
   ],
   "metadata": {
    "collapsed": false,
    "pycharm": {
     "name": "#%%\n"
    }
   }
  },
  {
   "cell_type": "code",
   "execution_count": 21,
   "outputs": [],
   "source": [
    "# import xgboost as xgb\n",
    "# import shap\n",
    "# import numpy as np\n",
    "#\n",
    "# # Train XGBoost model\n",
    "# model = xgb.XGBClassifier(objective='binary:logistic', n_estimators=100, seed=24)\n",
    "# model.fit(X_train, y_train)"
   ],
   "metadata": {
    "collapsed": false,
    "pycharm": {
     "name": "#%%\n"
    }
   }
  },
  {
   "cell_type": "code",
   "execution_count": 22,
   "outputs": [
    {
     "ename": "NameError",
     "evalue": "name 'stop' is not defined",
     "output_type": "error",
     "traceback": [
      "\u001B[0;31m---------------------------------------------------------------------------\u001B[0m",
      "\u001B[0;31mNameError\u001B[0m                                 Traceback (most recent call last)",
      "\u001B[0;32m/var/folders/8k/1982q0sd17v8dt4gxj5mqhk80000gn/T/ipykernel_22883/1802640080.py\u001B[0m in \u001B[0;36m<module>\u001B[0;34m\u001B[0m\n\u001B[0;32m----> 1\u001B[0;31m \u001B[0mstop\u001B[0m\u001B[0;34m\u001B[0m\u001B[0;34m\u001B[0m\u001B[0m\n\u001B[0m",
      "\u001B[0;31mNameError\u001B[0m: name 'stop' is not defined"
     ]
    }
   ],
   "source": [
    "stop"
   ],
   "metadata": {
    "collapsed": false,
    "pycharm": {
     "name": "#%%\n"
    }
   }
  },
  {
   "cell_type": "code",
   "execution_count": 99,
   "outputs": [
    {
     "data": {
      "text/plain": "XGBClassifier(base_score=0.5, booster='gbtree', callbacks=None,\n              colsample_bylevel=1, colsample_bynode=1,\n              colsample_bytree=0.41000000000000003, early_stopping_rounds=None,\n              enable_categorical=False, eta=0.30000000000000004,\n              eval_metric=None, gamma=0.9, gpu_id=-1, grow_policy='depthwise',\n              importance_type=None, interaction_constraints='',\n              learning_rate=0.23, max_bin=256, max_cat_to_onehot=4,\n              max_delta_step=0, max_depth=11, max_leaves=0,\n              min_child_weight=10.0, missing=nan, monotone_constraints='()',\n              n_estimators=429, n_jobs=0, num_parallel_tree=1, predictor='auto',\n              random_state=0, reg_alpha=114.0, ...)"
     },
     "execution_count": 99,
     "metadata": {},
     "output_type": "execute_result"
    }
   ],
   "source": [
    "import shap\n",
    "\n",
    "best_hyperparams_formatted = best_hyperparams.copy()\n",
    "best_hyperparams_formatted['max_depth'] = int(best_hyperparams['max_depth'])\n",
    "best_hyperparams_formatted['eval_metric'] = 'auc'\n",
    "best_hyperparams_formatted['objective'] = 'binary:logistic'\n",
    "best_hyperparams_formatted['seed'] = 24\n",
    "\n",
    "\n",
    "best_model = xgb.XGBClassifier(**best_hyperparams_formatted)\n",
    "# best_model = xgb.XGBClassifier(best_hyperparams, eval_metric='auc', objective='binary:logistic', seed=24)\n",
    "best_model.fit(X_train, y_train)\n",
    "\n",
    "# # Generate Shapley values\n",
    "# explainer = shap.Explainer(best_model)\n",
    "# shap_values = explainer(X)\n",
    "#\n",
    "# # Plot Shapley summary plot\n",
    "# shap.summary_plot(shap_values, X)"
   ],
   "metadata": {
    "collapsed": false,
    "pycharm": {
     "name": "#%%\n"
    }
   }
  },
  {
   "cell_type": "code",
   "execution_count": null,
   "outputs": [],
   "source": [],
   "metadata": {
    "collapsed": false,
    "pycharm": {
     "name": "#%%\n"
    }
   }
  },
  {
   "cell_type": "code",
   "execution_count": null,
   "outputs": [],
   "source": [
    "stop"
   ],
   "metadata": {
    "collapsed": false,
    "pycharm": {
     "name": "#%%\n"
    }
   }
  },
  {
   "cell_type": "markdown",
   "source": [
    "## Run linear regression to test out the data"
   ],
   "metadata": {
    "collapsed": false
   }
  },
  {
   "cell_type": "code",
   "execution_count": null,
   "outputs": [],
   "source": [
    "from sklearn.model_selection import train_test_split\n",
    "\n",
    "# Define independent variables X and dependent variable y\n",
    "y = df3['METHUSE']\n",
    "X = df3.drop(columns='METHUSE')\n",
    "\n",
    "# Train/test split\n",
    "X_train, X_test, y_train, y_test = train_test_split(X, y, test_size=0.3, random_state=24)"
   ],
   "metadata": {
    "collapsed": false,
    "pycharm": {
     "name": "#%%\n"
    }
   }
  },
  {
   "cell_type": "code",
   "execution_count": null,
   "outputs": [],
   "source": [
    "# Load modules and data\n",
    "import statsmodels\n",
    "import statsmodels.api as sm\n",
    "\n",
    "# Fit and summarize OLS model\n",
    "model = sm.OLS(y_train, X_train)\n",
    "results = model.fit()\n",
    "\n",
    "y_hat = results.predict(X_test)\n",
    "mse = statsmodels.tools.eval_measures.mse(y_test, y_hat)\n",
    "\n",
    "print('MSE:', mse)\n",
    "print(results.summary())"
   ],
   "metadata": {
    "collapsed": false,
    "pycharm": {
     "name": "#%%\n"
    }
   }
  },
  {
   "cell_type": "code",
   "execution_count": null,
   "outputs": [],
   "source": [],
   "metadata": {
    "collapsed": false,
    "pycharm": {
     "name": "#%%\n"
    }
   }
  }
 ],
 "metadata": {
  "kernelspec": {
   "display_name": "Python 3",
   "language": "python",
   "name": "python3"
  },
  "language_info": {
   "codemirror_mode": {
    "name": "ipython",
    "version": 2
   },
   "file_extension": ".py",
   "mimetype": "text/x-python",
   "name": "python",
   "nbconvert_exporter": "python",
   "pygments_lexer": "ipython2",
   "version": "2.7.6"
  }
 },
 "nbformat": 4,
 "nbformat_minor": 0
}