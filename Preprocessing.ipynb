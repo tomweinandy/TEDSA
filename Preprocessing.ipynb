{
 "cells": [
  {
   "cell_type": "markdown",
   "source": [
    "## Load data"
   ],
   "metadata": {
    "collapsed": false
   }
  },
  {
   "cell_type": "code",
   "execution_count": 1,
   "outputs": [],
   "source": [
    "import pandas as pd\n",
    "import ast\n",
    "import numpy as np\n",
    "\n",
    "# Load in data\n",
    "admissions = 'tedsa_puf_2019.csv'\n",
    "df = pd.read_csv(f'../../Downloads/{admissions}')"
   ],
   "metadata": {
    "collapsed": false,
    "pycharm": {
     "name": "#%%\n"
    }
   }
  },
  {
   "cell_type": "markdown",
   "source": [
    "## Compare SUB1 groups with DSMCRIT"
   ],
   "metadata": {
    "collapsed": false
   }
  },
  {
   "cell_type": "code",
   "execution_count": 2,
   "outputs": [],
   "source": [
    "sub1 = df['SUB1']\n",
    "for i in [1,2,3,4,8,9,10,11,12,13,14,15,16,17,18,19]:\n",
    "    sub1 = sub1.replace(i, 'Other')\n",
    "# sub1 = sub1.replace(-9, np.nan)\n",
    "\n",
    "dsmcrit = df['DSMCRIT']\n",
    "for i in [1,2,3,4,6,7,8,9,10,11,13,14,15,16,17,18,19]:\n",
    "    dsmcrit = dsmcrit.replace(i, 'Other')\n",
    "# dsmcrit = dsmcrit.replace(-9, np.nan)"
   ],
   "metadata": {
    "collapsed": false,
    "pycharm": {
     "name": "#%%\n"
    }
   }
  },
  {
   "cell_type": "code",
   "execution_count": 3,
   "outputs": [
    {
     "name": "stdout",
     "output_type": "stream",
     "text": [
      "See \"SUB1 DSMCRIT overlap.xlsx\" file for a better breakdown\n"
     ]
    }
   ],
   "source": [
    "df4 = pd.DataFrame()\n",
    "df4['SUB1'] = sub1\n",
    "df4['DSMCRIT'] = dsmcrit\n",
    "\n",
    "df4.value_counts()\n",
    "\n",
    "print('See \"SUB1 DSMCRIT overlap.xlsx\" file for a better breakdown')"
   ],
   "metadata": {
    "collapsed": false,
    "pycharm": {
     "name": "#%%\n"
    }
   }
  },
  {
   "cell_type": "markdown",
   "source": [
    "## Filter out select rows and columns"
   ],
   "metadata": {
    "collapsed": false
   }
  },
  {
   "cell_type": "code",
   "execution_count": 4,
   "outputs": [
    {
     "data": {
      "text/plain": "Index(['ADMYR', 'CASEID', 'STFIPS', 'CBSA2010', 'EDUC', 'MARSTAT', 'SERVICES',\n       'DETCRIM', 'NOPRIOR', 'PSOURCE', 'ARRESTS', 'EMPLOY', 'METHUSE',\n       'PSYPROB', 'PREG', 'GENDER', 'VET', 'LIVARAG', 'DAYWAIT', 'DSMCRIT',\n       'AGE', 'RACE', 'ETHNIC', 'DETNLF', 'PRIMINC', 'SUB1', 'SUB2', 'SUB3',\n       'ROUTE1', 'ROUTE2', 'ROUTE3', 'FREQ1', 'FREQ2', 'FREQ3', 'FRSTUSE1',\n       'FRSTUSE2', 'FRSTUSE3', 'HLTHINS', 'PRIMPAY', 'FREQ_ATND_SELF_HELP',\n       'ALCFLG', 'COKEFLG', 'MARFLG', 'HERFLG', 'METHFLG', 'OPSYNFLG',\n       'PCPFLG', 'HALLFLG', 'MTHAMFLG', 'AMPHFLG', 'STIMFLG', 'BENZFLG',\n       'TRNQFLG', 'BARBFLG', 'SEDHPFLG', 'INHFLG', 'OTCFLG', 'OTHERFLG',\n       'DIVISION', 'REGION', 'IDU', 'ALCDRUG'],\n      dtype='object')"
     },
     "execution_count": 4,
     "metadata": {},
     "output_type": "execute_result"
    }
   ],
   "source": [
    "df.columns"
   ],
   "metadata": {
    "collapsed": false,
    "pycharm": {
     "name": "#%%\n"
    }
   }
  },
  {
   "cell_type": "code",
   "execution_count": 5,
   "metadata": {
    "collapsed": true
   },
   "outputs": [
    {
     "name": "stdout",
     "output_type": "stream",
     "text": [
      "Dropped 3 columns (59 remain)\n",
      "Dropped 1,340,233 observations or 71.9% of the data (524,134 rows remain)\n"
     ]
    }
   ],
   "source": [
    "# Get count of original number of rows\n",
    "old_rows = len(df)\n",
    "\n",
    "# Drop Puerto Rico\n",
    "# df = df[df['STFIPS'] != 72]\n",
    "\n",
    "# Drop defined columns\n",
    "columns_to_drop = ['ADMYR', 'CASEID', 'CBSA2010']  # consider also dropping 'STFIPS'\n",
    "df = df.drop(columns=columns_to_drop)\n",
    "print(f'Dropped {len(columns_to_drop)} columns ({len(df.columns)} remain)')\n",
    "\n",
    "# Drop values where dependent variable is unknown\n",
    "df = df[df['METHUSE'] != -9]\n",
    "\n",
    "# Only keep patients admitted with self-described use of an opioid as their primary substance use (i.e., SUB1 = 5, 6, or 7)\n",
    "df = df[df['SUB1'].between(5, 7)]\n",
    "new_rows = len(df)\n",
    "percent_change = round(100*(old_rows-new_rows)/old_rows, 1)\n",
    "print(f'Dropped {\"{:,}\".format(old_rows-new_rows)} observations or {percent_change}% of the data ({\"{:,}\".format(new_rows)} rows remain)')\n",
    "\n",
    "df = df.reset_index(drop='index')"
   ]
  },
  {
   "cell_type": "code",
   "execution_count": 6,
   "outputs": [
    {
     "data": {
      "text/plain": "        STFIPS  EDUC  MARSTAT  SERVICES  DETCRIM  NOPRIOR  PSOURCE  ARRESTS  \\\n0            2     2        1         7       -9        3        1        0   \n1            2     3        1         7       -9        2        3        0   \n2            2     1        2         7       -9        5        2        0   \n3            2     3        1         7       -9        3        3        0   \n4            2     3        1         7       -9        1        2        0   \n...        ...   ...      ...       ...      ...      ...      ...      ...   \n524129      56    -9        2         6       -9        0        6        0   \n524130      56    -9        2         6        1        2        7        0   \n524131      56     3        1         7       -9        3        2        0   \n524132      56     1        1         7        3        0        7        0   \n524133      56     2        1         7        3        0        7        0   \n\n        EMPLOY  METHUSE  ...  TRNQFLG  BARBFLG  SEDHPFLG  INHFLG  OTCFLG  \\\n0            3        2  ...        0        0         0       0       0   \n1            4        1  ...        0        0         0       0       0   \n2            4        1  ...        0        0         0       0       0   \n3            4        1  ...        0        0         0       0       0   \n4            2        1  ...        0        0         0       0       0   \n...        ...      ...  ...      ...      ...       ...     ...     ...   \n524129       3        2  ...        0        0         0       0       0   \n524130       3        2  ...        0        0         0       0       0   \n524131       3        2  ...        0        0         1       0       0   \n524132       4        2  ...        0        0         0       0       0   \n524133       4        2  ...        0        0         0       0       0   \n\n        OTHERFLG  DIVISION  REGION  IDU  ALCDRUG  \n0              0         9       4    1        3  \n1              0         9       4    1        2  \n2              0         9       4    1        2  \n3              0         9       4    1        2  \n4              0         9       4    1        2  \n...          ...       ...     ...  ...      ...  \n524129         0         8       4    0        2  \n524130         0         8       4    0        2  \n524131         0         8       4    0        3  \n524132         0         8       4    0        2  \n524133         1         8       4    0        2  \n\n[524134 rows x 59 columns]",
      "text/html": "<div>\n<style scoped>\n    .dataframe tbody tr th:only-of-type {\n        vertical-align: middle;\n    }\n\n    .dataframe tbody tr th {\n        vertical-align: top;\n    }\n\n    .dataframe thead th {\n        text-align: right;\n    }\n</style>\n<table border=\"1\" class=\"dataframe\">\n  <thead>\n    <tr style=\"text-align: right;\">\n      <th></th>\n      <th>STFIPS</th>\n      <th>EDUC</th>\n      <th>MARSTAT</th>\n      <th>SERVICES</th>\n      <th>DETCRIM</th>\n      <th>NOPRIOR</th>\n      <th>PSOURCE</th>\n      <th>ARRESTS</th>\n      <th>EMPLOY</th>\n      <th>METHUSE</th>\n      <th>...</th>\n      <th>TRNQFLG</th>\n      <th>BARBFLG</th>\n      <th>SEDHPFLG</th>\n      <th>INHFLG</th>\n      <th>OTCFLG</th>\n      <th>OTHERFLG</th>\n      <th>DIVISION</th>\n      <th>REGION</th>\n      <th>IDU</th>\n      <th>ALCDRUG</th>\n    </tr>\n  </thead>\n  <tbody>\n    <tr>\n      <th>0</th>\n      <td>2</td>\n      <td>2</td>\n      <td>1</td>\n      <td>7</td>\n      <td>-9</td>\n      <td>3</td>\n      <td>1</td>\n      <td>0</td>\n      <td>3</td>\n      <td>2</td>\n      <td>...</td>\n      <td>0</td>\n      <td>0</td>\n      <td>0</td>\n      <td>0</td>\n      <td>0</td>\n      <td>0</td>\n      <td>9</td>\n      <td>4</td>\n      <td>1</td>\n      <td>3</td>\n    </tr>\n    <tr>\n      <th>1</th>\n      <td>2</td>\n      <td>3</td>\n      <td>1</td>\n      <td>7</td>\n      <td>-9</td>\n      <td>2</td>\n      <td>3</td>\n      <td>0</td>\n      <td>4</td>\n      <td>1</td>\n      <td>...</td>\n      <td>0</td>\n      <td>0</td>\n      <td>0</td>\n      <td>0</td>\n      <td>0</td>\n      <td>0</td>\n      <td>9</td>\n      <td>4</td>\n      <td>1</td>\n      <td>2</td>\n    </tr>\n    <tr>\n      <th>2</th>\n      <td>2</td>\n      <td>1</td>\n      <td>2</td>\n      <td>7</td>\n      <td>-9</td>\n      <td>5</td>\n      <td>2</td>\n      <td>0</td>\n      <td>4</td>\n      <td>1</td>\n      <td>...</td>\n      <td>0</td>\n      <td>0</td>\n      <td>0</td>\n      <td>0</td>\n      <td>0</td>\n      <td>0</td>\n      <td>9</td>\n      <td>4</td>\n      <td>1</td>\n      <td>2</td>\n    </tr>\n    <tr>\n      <th>3</th>\n      <td>2</td>\n      <td>3</td>\n      <td>1</td>\n      <td>7</td>\n      <td>-9</td>\n      <td>3</td>\n      <td>3</td>\n      <td>0</td>\n      <td>4</td>\n      <td>1</td>\n      <td>...</td>\n      <td>0</td>\n      <td>0</td>\n      <td>0</td>\n      <td>0</td>\n      <td>0</td>\n      <td>0</td>\n      <td>9</td>\n      <td>4</td>\n      <td>1</td>\n      <td>2</td>\n    </tr>\n    <tr>\n      <th>4</th>\n      <td>2</td>\n      <td>3</td>\n      <td>1</td>\n      <td>7</td>\n      <td>-9</td>\n      <td>1</td>\n      <td>2</td>\n      <td>0</td>\n      <td>2</td>\n      <td>1</td>\n      <td>...</td>\n      <td>0</td>\n      <td>0</td>\n      <td>0</td>\n      <td>0</td>\n      <td>0</td>\n      <td>0</td>\n      <td>9</td>\n      <td>4</td>\n      <td>1</td>\n      <td>2</td>\n    </tr>\n    <tr>\n      <th>...</th>\n      <td>...</td>\n      <td>...</td>\n      <td>...</td>\n      <td>...</td>\n      <td>...</td>\n      <td>...</td>\n      <td>...</td>\n      <td>...</td>\n      <td>...</td>\n      <td>...</td>\n      <td>...</td>\n      <td>...</td>\n      <td>...</td>\n      <td>...</td>\n      <td>...</td>\n      <td>...</td>\n      <td>...</td>\n      <td>...</td>\n      <td>...</td>\n      <td>...</td>\n      <td>...</td>\n    </tr>\n    <tr>\n      <th>524129</th>\n      <td>56</td>\n      <td>-9</td>\n      <td>2</td>\n      <td>6</td>\n      <td>-9</td>\n      <td>0</td>\n      <td>6</td>\n      <td>0</td>\n      <td>3</td>\n      <td>2</td>\n      <td>...</td>\n      <td>0</td>\n      <td>0</td>\n      <td>0</td>\n      <td>0</td>\n      <td>0</td>\n      <td>0</td>\n      <td>8</td>\n      <td>4</td>\n      <td>0</td>\n      <td>2</td>\n    </tr>\n    <tr>\n      <th>524130</th>\n      <td>56</td>\n      <td>-9</td>\n      <td>2</td>\n      <td>6</td>\n      <td>1</td>\n      <td>2</td>\n      <td>7</td>\n      <td>0</td>\n      <td>3</td>\n      <td>2</td>\n      <td>...</td>\n      <td>0</td>\n      <td>0</td>\n      <td>0</td>\n      <td>0</td>\n      <td>0</td>\n      <td>0</td>\n      <td>8</td>\n      <td>4</td>\n      <td>0</td>\n      <td>2</td>\n    </tr>\n    <tr>\n      <th>524131</th>\n      <td>56</td>\n      <td>3</td>\n      <td>1</td>\n      <td>7</td>\n      <td>-9</td>\n      <td>3</td>\n      <td>2</td>\n      <td>0</td>\n      <td>3</td>\n      <td>2</td>\n      <td>...</td>\n      <td>0</td>\n      <td>0</td>\n      <td>1</td>\n      <td>0</td>\n      <td>0</td>\n      <td>0</td>\n      <td>8</td>\n      <td>4</td>\n      <td>0</td>\n      <td>3</td>\n    </tr>\n    <tr>\n      <th>524132</th>\n      <td>56</td>\n      <td>1</td>\n      <td>1</td>\n      <td>7</td>\n      <td>3</td>\n      <td>0</td>\n      <td>7</td>\n      <td>0</td>\n      <td>4</td>\n      <td>2</td>\n      <td>...</td>\n      <td>0</td>\n      <td>0</td>\n      <td>0</td>\n      <td>0</td>\n      <td>0</td>\n      <td>0</td>\n      <td>8</td>\n      <td>4</td>\n      <td>0</td>\n      <td>2</td>\n    </tr>\n    <tr>\n      <th>524133</th>\n      <td>56</td>\n      <td>2</td>\n      <td>1</td>\n      <td>7</td>\n      <td>3</td>\n      <td>0</td>\n      <td>7</td>\n      <td>0</td>\n      <td>4</td>\n      <td>2</td>\n      <td>...</td>\n      <td>0</td>\n      <td>0</td>\n      <td>0</td>\n      <td>0</td>\n      <td>0</td>\n      <td>1</td>\n      <td>8</td>\n      <td>4</td>\n      <td>0</td>\n      <td>2</td>\n    </tr>\n  </tbody>\n</table>\n<p>524134 rows × 59 columns</p>\n</div>"
     },
     "execution_count": 6,
     "metadata": {},
     "output_type": "execute_result"
    }
   ],
   "source": [
    "df"
   ],
   "metadata": {
    "collapsed": false,
    "pycharm": {
     "name": "#%%\n"
    }
   }
  },
  {
   "cell_type": "markdown",
   "source": [
    "## Make dataset human-readable"
   ],
   "metadata": {
    "collapsed": false
   }
  },
  {
   "cell_type": "code",
   "execution_count": 7,
   "outputs": [],
   "source": [
    "# Load in variable dictionary\n",
    "with open('VariableDictionary.txt') as file:\n",
    "    variable_dict_string = file.read()\n",
    "    variable_dict = ast.literal_eval(variable_dict_string)\n",
    "\n",
    "# Rename entries in column according to dictionary\n",
    "df2 = df.copy()\n",
    "for col, col_dict in variable_dict.items():\n",
    "    for old_value, new_value in variable_dict[col].items():\n",
    "        df2[col] = df2[col].replace(old_value, new_value)\n",
    "\n",
    "# Rename \"-9\" values as \"Unknown\"\n",
    "for col in df2.columns:\n",
    "    df2[col] = df2[col].replace(-9, 'Unknown')"
   ],
   "metadata": {
    "collapsed": false,
    "pycharm": {
     "name": "#%%\n"
    }
   }
  },
  {
   "cell_type": "code",
   "execution_count": 8,
   "outputs": [],
   "source": [
    "# Merge DETNLF (detailed not in labor force) into EMPLOY==4 (not in labor force)\n",
    "detailed_employ = []\n",
    "\n",
    "for idx, value in df2.iterrows():\n",
    "    if value['EMPLOY'] == 'NotInLaborForce':\n",
    "        if value['DETNLF'] == 'Unknown':\n",
    "            # Assign 'UnknownNotInLaborForce' if 'NotInLaborForce' and 'Unknown'\n",
    "            detailed_employ.append('UnknownNotInLaborForce')\n",
    "        else:\n",
    "            # Otherwise, assign as the DETNLF value\n",
    "            detailed_employ.append(value['DETNLF'])\n",
    "    else:\n",
    "        # Assign the EMPLOY value if not 'NotInLaborForce'\n",
    "        detailed_employ.append(value['EMPLOY'])\n",
    "\n",
    "# Add a new column for detailed employment and drop the two source columns\n",
    "df2['DETEMPLOY'] = detailed_employ\n",
    "df2 = df2.drop(columns=['EMPLOY', 'DETNLF'])"
   ],
   "metadata": {
    "collapsed": false,
    "pycharm": {
     "name": "#%%\n"
    }
   }
  },
  {
   "cell_type": "code",
   "execution_count": 9,
   "outputs": [
    {
     "data": {
      "text/plain": "       STFIPS          EDUC       MARSTAT                          SERVICES  \\\n0          AK    Grade9To11  NeverMarried  AmbulatoryNonIntensiveOutpatient   \n1          AK  Grade12OrGED  NeverMarried  AmbulatoryNonIntensiveOutpatient   \n2          AK   GradeOrLess    NowMarried  AmbulatoryNonIntensiveOutpatient   \n3          AK  Grade12OrGED  NeverMarried  AmbulatoryNonIntensiveOutpatient   \n4          AK  Grade12OrGED  NeverMarried  AmbulatoryNonIntensiveOutpatient   \n...       ...           ...           ...                               ...   \n524129     WY       Unknown    NowMarried     AmbulatoryIntensiveOutpatient   \n524130     WY       Unknown    NowMarried     AmbulatoryIntensiveOutpatient   \n524131     WY  Grade12OrGED  NeverMarried  AmbulatoryNonIntensiveOutpatient   \n524132     WY   GradeOrLess  NeverMarried  AmbulatoryNonIntensiveOutpatient   \n524133     WY    Grade9To11  NeverMarried  AmbulatoryNonIntensiveOutpatient   \n\n                  DETCRIM               NOPRIOR                  PSOURCE  \\\n0                 Unknown      3PriorTreatments               Individual   \n1                 Unknown      2PriorTreatments  OtherHealthCareProvider   \n2                 Unknown  5PlusPriorTreatments         DrugCareProvider   \n3                 Unknown      3PriorTreatments  OtherHealthCareProvider   \n4                 Unknown      1PriorTreatments         DrugCareProvider   \n...                   ...                   ...                      ...   \n524129            Unknown      0PriorTreatments            OtherReferral   \n524130              Court      2PriorTreatments            CourtReferral   \n524131            Unknown      3PriorTreatments         DrugCareProvider   \n524132  ProbationOrParole      0PriorTreatments            CourtReferral   \n524133  ProbationOrParole      0PriorTreatments            CourtReferral   \n\n        ARRESTS    METHUSE PSYPROB  ...      BARBFLG     SEDHPFLG  \\\n0       0Arrest  NoMethUse      No  ...  NotReported  NotReported   \n1       0Arrest    MethUse      No  ...  NotReported  NotReported   \n2       0Arrest    MethUse     Yes  ...  NotReported  NotReported   \n3       0Arrest    MethUse      No  ...  NotReported  NotReported   \n4       0Arrest    MethUse     Yes  ...  NotReported  NotReported   \n...         ...        ...     ...  ...          ...          ...   \n524129  0Arrest  NoMethUse      No  ...  NotReported  NotReported   \n524130  0Arrest  NoMethUse      No  ...  NotReported  NotReported   \n524131  0Arrest  NoMethUse     Yes  ...  NotReported     Reported   \n524132  0Arrest  NoMethUse      No  ...  NotReported  NotReported   \n524133  0Arrest  NoMethUse      No  ...  NotReported  NotReported   \n\n             INHFLG       OTCFLG     OTHERFLG  DIVISION REGION    IDU  \\\n0       NotReported  NotReported  NotReported   Pacific   West    IDU   \n1       NotReported  NotReported  NotReported   Pacific   West    IDU   \n2       NotReported  NotReported  NotReported   Pacific   West    IDU   \n3       NotReported  NotReported  NotReported   Pacific   West    IDU   \n4       NotReported  NotReported  NotReported   Pacific   West    IDU   \n...             ...          ...          ...       ...    ...    ...   \n524129  NotReported  NotReported  NotReported  Mountain   West  NoIDU   \n524130  NotReported  NotReported  NotReported  Mountain   West  NoIDU   \n524131  NotReported  NotReported  NotReported  Mountain   West  NoIDU   \n524132  NotReported  NotReported  NotReported  Mountain   West  NoIDU   \n524133  NotReported  NotReported     Reported  Mountain   West  NoIDU   \n\n              ALCDRUG             DETEMPLOY  \n0       Alcohol&Drugs            Unemployed  \n1          OtherDrugs  OtherNotInLaborForce  \n2          OtherDrugs     RetiredOrDisabled  \n3          OtherDrugs  OtherNotInLaborForce  \n4          OtherDrugs              PartTime  \n...               ...                   ...  \n524129     OtherDrugs            Unemployed  \n524130     OtherDrugs            Unemployed  \n524131  Alcohol&Drugs            Unemployed  \n524132     OtherDrugs   InstitutionResident  \n524133     OtherDrugs   InstitutionResident  \n\n[524134 rows x 58 columns]",
      "text/html": "<div>\n<style scoped>\n    .dataframe tbody tr th:only-of-type {\n        vertical-align: middle;\n    }\n\n    .dataframe tbody tr th {\n        vertical-align: top;\n    }\n\n    .dataframe thead th {\n        text-align: right;\n    }\n</style>\n<table border=\"1\" class=\"dataframe\">\n  <thead>\n    <tr style=\"text-align: right;\">\n      <th></th>\n      <th>STFIPS</th>\n      <th>EDUC</th>\n      <th>MARSTAT</th>\n      <th>SERVICES</th>\n      <th>DETCRIM</th>\n      <th>NOPRIOR</th>\n      <th>PSOURCE</th>\n      <th>ARRESTS</th>\n      <th>METHUSE</th>\n      <th>PSYPROB</th>\n      <th>...</th>\n      <th>BARBFLG</th>\n      <th>SEDHPFLG</th>\n      <th>INHFLG</th>\n      <th>OTCFLG</th>\n      <th>OTHERFLG</th>\n      <th>DIVISION</th>\n      <th>REGION</th>\n      <th>IDU</th>\n      <th>ALCDRUG</th>\n      <th>DETEMPLOY</th>\n    </tr>\n  </thead>\n  <tbody>\n    <tr>\n      <th>0</th>\n      <td>AK</td>\n      <td>Grade9To11</td>\n      <td>NeverMarried</td>\n      <td>AmbulatoryNonIntensiveOutpatient</td>\n      <td>Unknown</td>\n      <td>3PriorTreatments</td>\n      <td>Individual</td>\n      <td>0Arrest</td>\n      <td>NoMethUse</td>\n      <td>No</td>\n      <td>...</td>\n      <td>NotReported</td>\n      <td>NotReported</td>\n      <td>NotReported</td>\n      <td>NotReported</td>\n      <td>NotReported</td>\n      <td>Pacific</td>\n      <td>West</td>\n      <td>IDU</td>\n      <td>Alcohol&amp;Drugs</td>\n      <td>Unemployed</td>\n    </tr>\n    <tr>\n      <th>1</th>\n      <td>AK</td>\n      <td>Grade12OrGED</td>\n      <td>NeverMarried</td>\n      <td>AmbulatoryNonIntensiveOutpatient</td>\n      <td>Unknown</td>\n      <td>2PriorTreatments</td>\n      <td>OtherHealthCareProvider</td>\n      <td>0Arrest</td>\n      <td>MethUse</td>\n      <td>No</td>\n      <td>...</td>\n      <td>NotReported</td>\n      <td>NotReported</td>\n      <td>NotReported</td>\n      <td>NotReported</td>\n      <td>NotReported</td>\n      <td>Pacific</td>\n      <td>West</td>\n      <td>IDU</td>\n      <td>OtherDrugs</td>\n      <td>OtherNotInLaborForce</td>\n    </tr>\n    <tr>\n      <th>2</th>\n      <td>AK</td>\n      <td>GradeOrLess</td>\n      <td>NowMarried</td>\n      <td>AmbulatoryNonIntensiveOutpatient</td>\n      <td>Unknown</td>\n      <td>5PlusPriorTreatments</td>\n      <td>DrugCareProvider</td>\n      <td>0Arrest</td>\n      <td>MethUse</td>\n      <td>Yes</td>\n      <td>...</td>\n      <td>NotReported</td>\n      <td>NotReported</td>\n      <td>NotReported</td>\n      <td>NotReported</td>\n      <td>NotReported</td>\n      <td>Pacific</td>\n      <td>West</td>\n      <td>IDU</td>\n      <td>OtherDrugs</td>\n      <td>RetiredOrDisabled</td>\n    </tr>\n    <tr>\n      <th>3</th>\n      <td>AK</td>\n      <td>Grade12OrGED</td>\n      <td>NeverMarried</td>\n      <td>AmbulatoryNonIntensiveOutpatient</td>\n      <td>Unknown</td>\n      <td>3PriorTreatments</td>\n      <td>OtherHealthCareProvider</td>\n      <td>0Arrest</td>\n      <td>MethUse</td>\n      <td>No</td>\n      <td>...</td>\n      <td>NotReported</td>\n      <td>NotReported</td>\n      <td>NotReported</td>\n      <td>NotReported</td>\n      <td>NotReported</td>\n      <td>Pacific</td>\n      <td>West</td>\n      <td>IDU</td>\n      <td>OtherDrugs</td>\n      <td>OtherNotInLaborForce</td>\n    </tr>\n    <tr>\n      <th>4</th>\n      <td>AK</td>\n      <td>Grade12OrGED</td>\n      <td>NeverMarried</td>\n      <td>AmbulatoryNonIntensiveOutpatient</td>\n      <td>Unknown</td>\n      <td>1PriorTreatments</td>\n      <td>DrugCareProvider</td>\n      <td>0Arrest</td>\n      <td>MethUse</td>\n      <td>Yes</td>\n      <td>...</td>\n      <td>NotReported</td>\n      <td>NotReported</td>\n      <td>NotReported</td>\n      <td>NotReported</td>\n      <td>NotReported</td>\n      <td>Pacific</td>\n      <td>West</td>\n      <td>IDU</td>\n      <td>OtherDrugs</td>\n      <td>PartTime</td>\n    </tr>\n    <tr>\n      <th>...</th>\n      <td>...</td>\n      <td>...</td>\n      <td>...</td>\n      <td>...</td>\n      <td>...</td>\n      <td>...</td>\n      <td>...</td>\n      <td>...</td>\n      <td>...</td>\n      <td>...</td>\n      <td>...</td>\n      <td>...</td>\n      <td>...</td>\n      <td>...</td>\n      <td>...</td>\n      <td>...</td>\n      <td>...</td>\n      <td>...</td>\n      <td>...</td>\n      <td>...</td>\n      <td>...</td>\n    </tr>\n    <tr>\n      <th>524129</th>\n      <td>WY</td>\n      <td>Unknown</td>\n      <td>NowMarried</td>\n      <td>AmbulatoryIntensiveOutpatient</td>\n      <td>Unknown</td>\n      <td>0PriorTreatments</td>\n      <td>OtherReferral</td>\n      <td>0Arrest</td>\n      <td>NoMethUse</td>\n      <td>No</td>\n      <td>...</td>\n      <td>NotReported</td>\n      <td>NotReported</td>\n      <td>NotReported</td>\n      <td>NotReported</td>\n      <td>NotReported</td>\n      <td>Mountain</td>\n      <td>West</td>\n      <td>NoIDU</td>\n      <td>OtherDrugs</td>\n      <td>Unemployed</td>\n    </tr>\n    <tr>\n      <th>524130</th>\n      <td>WY</td>\n      <td>Unknown</td>\n      <td>NowMarried</td>\n      <td>AmbulatoryIntensiveOutpatient</td>\n      <td>Court</td>\n      <td>2PriorTreatments</td>\n      <td>CourtReferral</td>\n      <td>0Arrest</td>\n      <td>NoMethUse</td>\n      <td>No</td>\n      <td>...</td>\n      <td>NotReported</td>\n      <td>NotReported</td>\n      <td>NotReported</td>\n      <td>NotReported</td>\n      <td>NotReported</td>\n      <td>Mountain</td>\n      <td>West</td>\n      <td>NoIDU</td>\n      <td>OtherDrugs</td>\n      <td>Unemployed</td>\n    </tr>\n    <tr>\n      <th>524131</th>\n      <td>WY</td>\n      <td>Grade12OrGED</td>\n      <td>NeverMarried</td>\n      <td>AmbulatoryNonIntensiveOutpatient</td>\n      <td>Unknown</td>\n      <td>3PriorTreatments</td>\n      <td>DrugCareProvider</td>\n      <td>0Arrest</td>\n      <td>NoMethUse</td>\n      <td>Yes</td>\n      <td>...</td>\n      <td>NotReported</td>\n      <td>Reported</td>\n      <td>NotReported</td>\n      <td>NotReported</td>\n      <td>NotReported</td>\n      <td>Mountain</td>\n      <td>West</td>\n      <td>NoIDU</td>\n      <td>Alcohol&amp;Drugs</td>\n      <td>Unemployed</td>\n    </tr>\n    <tr>\n      <th>524132</th>\n      <td>WY</td>\n      <td>GradeOrLess</td>\n      <td>NeverMarried</td>\n      <td>AmbulatoryNonIntensiveOutpatient</td>\n      <td>ProbationOrParole</td>\n      <td>0PriorTreatments</td>\n      <td>CourtReferral</td>\n      <td>0Arrest</td>\n      <td>NoMethUse</td>\n      <td>No</td>\n      <td>...</td>\n      <td>NotReported</td>\n      <td>NotReported</td>\n      <td>NotReported</td>\n      <td>NotReported</td>\n      <td>NotReported</td>\n      <td>Mountain</td>\n      <td>West</td>\n      <td>NoIDU</td>\n      <td>OtherDrugs</td>\n      <td>InstitutionResident</td>\n    </tr>\n    <tr>\n      <th>524133</th>\n      <td>WY</td>\n      <td>Grade9To11</td>\n      <td>NeverMarried</td>\n      <td>AmbulatoryNonIntensiveOutpatient</td>\n      <td>ProbationOrParole</td>\n      <td>0PriorTreatments</td>\n      <td>CourtReferral</td>\n      <td>0Arrest</td>\n      <td>NoMethUse</td>\n      <td>No</td>\n      <td>...</td>\n      <td>NotReported</td>\n      <td>NotReported</td>\n      <td>NotReported</td>\n      <td>NotReported</td>\n      <td>Reported</td>\n      <td>Mountain</td>\n      <td>West</td>\n      <td>NoIDU</td>\n      <td>OtherDrugs</td>\n      <td>InstitutionResident</td>\n    </tr>\n  </tbody>\n</table>\n<p>524134 rows × 58 columns</p>\n</div>"
     },
     "execution_count": 9,
     "metadata": {},
     "output_type": "execute_result"
    }
   ],
   "source": [
    "df2"
   ],
   "metadata": {
    "collapsed": false,
    "pycharm": {
     "name": "#%%\n"
    }
   }
  },
  {
   "cell_type": "markdown",
   "source": [
    "## Make machine-readable dataset\n",
    "todo instead of using get_dummies, identify which variables are ordinal and which nominal"
   ],
   "metadata": {
    "collapsed": false
   }
  },
  {
   "cell_type": "code",
   "execution_count": 12,
   "outputs": [],
   "source": [
    "# Remove dependent variable\n",
    "df2['METHUSE'] = df2['METHUSE'].replace('MethUse', 1)\n",
    "df2['METHUSE'] = df2['METHUSE'].replace('NoMethUse', 0)\n",
    "\n",
    "# df2.to_csv('human_readable_data.csv', index=False)"
   ],
   "metadata": {
    "collapsed": false,
    "pycharm": {
     "name": "#%%\n"
    }
   }
  },
  {
   "cell_type": "code",
   "execution_count": 11,
   "outputs": [
    {
     "data": {
      "text/plain": "        Intercept  METHUSE  STFIPS_72  STFIPS_AK  STFIPS_AL  STFIPS_AR  \\\n0               1        0          0          1          0          0   \n1               1        1          0          1          0          0   \n2               1        1          0          1          0          0   \n3               1        1          0          1          0          0   \n4               1        1          0          1          0          0   \n...           ...      ...        ...        ...        ...        ...   \n524129          1        0          0          0          0          0   \n524130          1        0          0          0          0          0   \n524131          1        0          0          0          0          0   \n524132          1        0          0          0          0          0   \n524133          1        0          0          0          0          0   \n\n        STFIPS_AZ  STFIPS_CA  STFIPS_CO  STFIPS_CT  ...  DETEMPLOY_FullTime  \\\n0               0          0          0          0  ...                   0   \n1               0          0          0          0  ...                   0   \n2               0          0          0          0  ...                   0   \n3               0          0          0          0  ...                   0   \n4               0          0          0          0  ...                   0   \n...           ...        ...        ...        ...  ...                 ...   \n524129          0          0          0          0  ...                   0   \n524130          0          0          0          0  ...                   0   \n524131          0          0          0          0  ...                   0   \n524132          0          0          0          0  ...                   0   \n524133          0          0          0          0  ...                   0   \n\n        DETEMPLOY_Homemaker  DETEMPLOY_InstitutionResident  \\\n0                         0                              0   \n1                         0                              0   \n2                         0                              0   \n3                         0                              0   \n4                         0                              0   \n...                     ...                            ...   \n524129                    0                              0   \n524130                    0                              0   \n524131                    0                              0   \n524132                    0                              1   \n524133                    0                              1   \n\n        DETEMPLOY_OtherNotInLaborForce  DETEMPLOY_PartTime  \\\n0                                    0                   0   \n1                                    1                   0   \n2                                    0                   0   \n3                                    1                   0   \n4                                    0                   1   \n...                                ...                 ...   \n524129                               0                   0   \n524130                               0                   0   \n524131                               0                   0   \n524132                               0                   0   \n524133                               0                   0   \n\n        DETEMPLOY_RetiredOrDisabled  DETEMPLOY_Student  DETEMPLOY_Unemployed  \\\n0                                 0                  0                     1   \n1                                 0                  0                     0   \n2                                 1                  0                     0   \n3                                 0                  0                     0   \n4                                 0                  0                     0   \n...                             ...                ...                   ...   \n524129                            0                  0                     1   \n524130                            0                  0                     1   \n524131                            0                  0                     1   \n524132                            0                  0                     0   \n524133                            0                  0                     0   \n\n        DETEMPLOY_Unknown  DETEMPLOY_UnknownNotInLaborForce  \n0                       0                                 0  \n1                       0                                 0  \n2                       0                                 0  \n3                       0                                 0  \n4                       0                                 0  \n...                   ...                               ...  \n524129                  0                                 0  \n524130                  0                                 0  \n524131                  0                                 0  \n524132                  0                                 0  \n524133                  0                                 0  \n\n[524134 rows x 354 columns]",
      "text/html": "<div>\n<style scoped>\n    .dataframe tbody tr th:only-of-type {\n        vertical-align: middle;\n    }\n\n    .dataframe tbody tr th {\n        vertical-align: top;\n    }\n\n    .dataframe thead th {\n        text-align: right;\n    }\n</style>\n<table border=\"1\" class=\"dataframe\">\n  <thead>\n    <tr style=\"text-align: right;\">\n      <th></th>\n      <th>Intercept</th>\n      <th>METHUSE</th>\n      <th>STFIPS_72</th>\n      <th>STFIPS_AK</th>\n      <th>STFIPS_AL</th>\n      <th>STFIPS_AR</th>\n      <th>STFIPS_AZ</th>\n      <th>STFIPS_CA</th>\n      <th>STFIPS_CO</th>\n      <th>STFIPS_CT</th>\n      <th>...</th>\n      <th>DETEMPLOY_FullTime</th>\n      <th>DETEMPLOY_Homemaker</th>\n      <th>DETEMPLOY_InstitutionResident</th>\n      <th>DETEMPLOY_OtherNotInLaborForce</th>\n      <th>DETEMPLOY_PartTime</th>\n      <th>DETEMPLOY_RetiredOrDisabled</th>\n      <th>DETEMPLOY_Student</th>\n      <th>DETEMPLOY_Unemployed</th>\n      <th>DETEMPLOY_Unknown</th>\n      <th>DETEMPLOY_UnknownNotInLaborForce</th>\n    </tr>\n  </thead>\n  <tbody>\n    <tr>\n      <th>0</th>\n      <td>1</td>\n      <td>0</td>\n      <td>0</td>\n      <td>1</td>\n      <td>0</td>\n      <td>0</td>\n      <td>0</td>\n      <td>0</td>\n      <td>0</td>\n      <td>0</td>\n      <td>...</td>\n      <td>0</td>\n      <td>0</td>\n      <td>0</td>\n      <td>0</td>\n      <td>0</td>\n      <td>0</td>\n      <td>0</td>\n      <td>1</td>\n      <td>0</td>\n      <td>0</td>\n    </tr>\n    <tr>\n      <th>1</th>\n      <td>1</td>\n      <td>1</td>\n      <td>0</td>\n      <td>1</td>\n      <td>0</td>\n      <td>0</td>\n      <td>0</td>\n      <td>0</td>\n      <td>0</td>\n      <td>0</td>\n      <td>...</td>\n      <td>0</td>\n      <td>0</td>\n      <td>0</td>\n      <td>1</td>\n      <td>0</td>\n      <td>0</td>\n      <td>0</td>\n      <td>0</td>\n      <td>0</td>\n      <td>0</td>\n    </tr>\n    <tr>\n      <th>2</th>\n      <td>1</td>\n      <td>1</td>\n      <td>0</td>\n      <td>1</td>\n      <td>0</td>\n      <td>0</td>\n      <td>0</td>\n      <td>0</td>\n      <td>0</td>\n      <td>0</td>\n      <td>...</td>\n      <td>0</td>\n      <td>0</td>\n      <td>0</td>\n      <td>0</td>\n      <td>0</td>\n      <td>1</td>\n      <td>0</td>\n      <td>0</td>\n      <td>0</td>\n      <td>0</td>\n    </tr>\n    <tr>\n      <th>3</th>\n      <td>1</td>\n      <td>1</td>\n      <td>0</td>\n      <td>1</td>\n      <td>0</td>\n      <td>0</td>\n      <td>0</td>\n      <td>0</td>\n      <td>0</td>\n      <td>0</td>\n      <td>...</td>\n      <td>0</td>\n      <td>0</td>\n      <td>0</td>\n      <td>1</td>\n      <td>0</td>\n      <td>0</td>\n      <td>0</td>\n      <td>0</td>\n      <td>0</td>\n      <td>0</td>\n    </tr>\n    <tr>\n      <th>4</th>\n      <td>1</td>\n      <td>1</td>\n      <td>0</td>\n      <td>1</td>\n      <td>0</td>\n      <td>0</td>\n      <td>0</td>\n      <td>0</td>\n      <td>0</td>\n      <td>0</td>\n      <td>...</td>\n      <td>0</td>\n      <td>0</td>\n      <td>0</td>\n      <td>0</td>\n      <td>1</td>\n      <td>0</td>\n      <td>0</td>\n      <td>0</td>\n      <td>0</td>\n      <td>0</td>\n    </tr>\n    <tr>\n      <th>...</th>\n      <td>...</td>\n      <td>...</td>\n      <td>...</td>\n      <td>...</td>\n      <td>...</td>\n      <td>...</td>\n      <td>...</td>\n      <td>...</td>\n      <td>...</td>\n      <td>...</td>\n      <td>...</td>\n      <td>...</td>\n      <td>...</td>\n      <td>...</td>\n      <td>...</td>\n      <td>...</td>\n      <td>...</td>\n      <td>...</td>\n      <td>...</td>\n      <td>...</td>\n      <td>...</td>\n    </tr>\n    <tr>\n      <th>524129</th>\n      <td>1</td>\n      <td>0</td>\n      <td>0</td>\n      <td>0</td>\n      <td>0</td>\n      <td>0</td>\n      <td>0</td>\n      <td>0</td>\n      <td>0</td>\n      <td>0</td>\n      <td>...</td>\n      <td>0</td>\n      <td>0</td>\n      <td>0</td>\n      <td>0</td>\n      <td>0</td>\n      <td>0</td>\n      <td>0</td>\n      <td>1</td>\n      <td>0</td>\n      <td>0</td>\n    </tr>\n    <tr>\n      <th>524130</th>\n      <td>1</td>\n      <td>0</td>\n      <td>0</td>\n      <td>0</td>\n      <td>0</td>\n      <td>0</td>\n      <td>0</td>\n      <td>0</td>\n      <td>0</td>\n      <td>0</td>\n      <td>...</td>\n      <td>0</td>\n      <td>0</td>\n      <td>0</td>\n      <td>0</td>\n      <td>0</td>\n      <td>0</td>\n      <td>0</td>\n      <td>1</td>\n      <td>0</td>\n      <td>0</td>\n    </tr>\n    <tr>\n      <th>524131</th>\n      <td>1</td>\n      <td>0</td>\n      <td>0</td>\n      <td>0</td>\n      <td>0</td>\n      <td>0</td>\n      <td>0</td>\n      <td>0</td>\n      <td>0</td>\n      <td>0</td>\n      <td>...</td>\n      <td>0</td>\n      <td>0</td>\n      <td>0</td>\n      <td>0</td>\n      <td>0</td>\n      <td>0</td>\n      <td>0</td>\n      <td>1</td>\n      <td>0</td>\n      <td>0</td>\n    </tr>\n    <tr>\n      <th>524132</th>\n      <td>1</td>\n      <td>0</td>\n      <td>0</td>\n      <td>0</td>\n      <td>0</td>\n      <td>0</td>\n      <td>0</td>\n      <td>0</td>\n      <td>0</td>\n      <td>0</td>\n      <td>...</td>\n      <td>0</td>\n      <td>0</td>\n      <td>1</td>\n      <td>0</td>\n      <td>0</td>\n      <td>0</td>\n      <td>0</td>\n      <td>0</td>\n      <td>0</td>\n      <td>0</td>\n    </tr>\n    <tr>\n      <th>524133</th>\n      <td>1</td>\n      <td>0</td>\n      <td>0</td>\n      <td>0</td>\n      <td>0</td>\n      <td>0</td>\n      <td>0</td>\n      <td>0</td>\n      <td>0</td>\n      <td>0</td>\n      <td>...</td>\n      <td>0</td>\n      <td>0</td>\n      <td>1</td>\n      <td>0</td>\n      <td>0</td>\n      <td>0</td>\n      <td>0</td>\n      <td>0</td>\n      <td>0</td>\n      <td>0</td>\n    </tr>\n  </tbody>\n</table>\n<p>524134 rows × 354 columns</p>\n</div>"
     },
     "execution_count": 11,
     "metadata": {},
     "output_type": "execute_result"
    }
   ],
   "source": [
    "df3 = df2.copy()\n",
    "\n",
    "# Convert categorical variables to dummy variables\n",
    "df3 = pd.get_dummies(df3)\n",
    "\n",
    "# Add intercept\n",
    "df3.insert(0, 'Intercept', 1)\n",
    "\n",
    "# Save dataframe to csv and show below\n",
    "# df3.to_csv('data.csv', index=False)\n",
    "df3"
   ],
   "metadata": {
    "collapsed": false,
    "pycharm": {
     "name": "#%%\n"
    }
   }
  },
  {
   "cell_type": "markdown",
   "source": [
    "## Run linear regression to test out the data"
   ],
   "metadata": {
    "collapsed": false
   }
  },
  {
   "cell_type": "code",
   "execution_count": 41,
   "outputs": [],
   "source": [
    "from sklearn.model_selection import train_test_split\n",
    "\n",
    "# Define independent variables X and dependent variable y\n",
    "y = df3['METHUSE']\n",
    "X = df3.drop(columns='METHUSE')\n",
    "\n",
    "# Train/test split\n",
    "X_train, X_test, y_train, y_test = train_test_split(X, y, test_size=0.3, random_state=24)"
   ],
   "metadata": {
    "collapsed": false,
    "pycharm": {
     "name": "#%%\n"
    }
   }
  },
  {
   "cell_type": "code",
   "execution_count": 42,
   "outputs": [
    {
     "name": "stdout",
     "output_type": "stream",
     "text": [
      "MSE: 0.14114699418566007\n",
      "                            OLS Regression Results                            \n",
      "==============================================================================\n",
      "Dep. Variable:                METHUSE   R-squared:                       0.418\n",
      "Model:                            OLS   Adj. R-squared:                  0.417\n",
      "Method:                 Least Squares   F-statistic:                     1068.\n",
      "Date:                Tue, 05 Jul 2022   Prob (F-statistic):               0.00\n",
      "Time:                        19:14:44   Log-Likelihood:            -1.5985e+05\n",
      "No. Observations:              366074   AIC:                         3.202e+05\n",
      "Df Residuals:                  365827   BIC:                         3.229e+05\n",
      "Df Model:                         246                                         \n",
      "Covariance Type:            nonrobust                                         \n",
      "=============================================================================================================\n",
      "                                                coef    std err          t      P>|t|      [0.025      0.975]\n",
      "-------------------------------------------------------------------------------------------------------------\n",
      "Intercept                                  4.963e+08   5.46e+09      0.091      0.928   -1.02e+10    1.12e+10\n",
      "STFIPS_AK                                  1.497e+07   1.65e+08      0.091      0.928   -3.08e+08    3.38e+08\n",
      "STFIPS_AL                                  3.981e+06   4.38e+07      0.091      0.928   -8.18e+07    8.98e+07\n",
      "STFIPS_AR                                  9.613e+06   1.06e+08      0.091      0.928   -1.98e+08    2.17e+08\n",
      "STFIPS_AZ                                  3.205e+06   3.52e+07      0.091      0.928   -6.59e+07    7.23e+07\n",
      "STFIPS_CA                                  1.497e+07   1.65e+08      0.091      0.928   -3.08e+08    3.38e+08\n",
      "STFIPS_CO                                  3.205e+06   3.52e+07      0.091      0.928   -6.59e+07    7.23e+07\n",
      "STFIPS_CT                                  7.981e+06   8.78e+07      0.091      0.928   -1.64e+08     1.8e+08\n",
      "STFIPS_DC                                 -6.256e+06   6.88e+07     -0.091      0.928   -1.41e+08    1.29e+08\n",
      "STFIPS_DE                                 -6.256e+06   6.88e+07     -0.091      0.928   -1.41e+08    1.29e+08\n",
      "STFIPS_GA                                 -6.256e+06   6.88e+07     -0.091      0.928   -1.41e+08    1.29e+08\n",
      "STFIPS_HI                                  1.497e+07   1.65e+08      0.091      0.928   -3.08e+08    3.38e+08\n",
      "STFIPS_IA                                   7.27e+06   7.99e+07      0.091      0.928   -1.49e+08    1.64e+08\n",
      "STFIPS_ID                                  3.205e+06   3.52e+07      0.091      0.928   -6.59e+07    7.23e+07\n",
      "STFIPS_IL                                 -1.733e+05   1.91e+06     -0.091      0.928   -3.91e+06    3.56e+06\n",
      "STFIPS_IN                                 -1.733e+05   1.91e+06     -0.091      0.928   -3.91e+06    3.56e+06\n",
      "STFIPS_KS                                   7.27e+06   7.99e+07      0.091      0.928   -1.49e+08    1.64e+08\n",
      "STFIPS_KY                                  3.981e+06   4.38e+07      0.091      0.928   -8.18e+07    8.98e+07\n",
      "STFIPS_LA                                  9.613e+06   1.06e+08      0.091      0.928   -1.98e+08    2.17e+08\n",
      "STFIPS_MA                                  7.981e+06   8.78e+07      0.091      0.928   -1.64e+08     1.8e+08\n",
      "STFIPS_MD                                 -6.256e+06   6.88e+07     -0.091      0.928   -1.41e+08    1.29e+08\n",
      "STFIPS_ME                                  7.981e+06   8.78e+07      0.091      0.928   -1.64e+08     1.8e+08\n",
      "STFIPS_MI                                 -1.733e+05   1.91e+06     -0.091      0.928   -3.91e+06    3.56e+06\n",
      "STFIPS_MN                                   7.27e+06   7.99e+07      0.091      0.928   -1.49e+08    1.64e+08\n",
      "STFIPS_MO                                   7.27e+06   7.99e+07      0.091      0.928   -1.49e+08    1.64e+08\n",
      "STFIPS_MS                                  3.981e+06   4.38e+07      0.091      0.928   -8.18e+07    8.98e+07\n",
      "STFIPS_MT                                  3.205e+06   3.52e+07      0.091      0.928   -6.59e+07    7.23e+07\n",
      "STFIPS_NC                                 -6.256e+06   6.88e+07     -0.091      0.928   -1.41e+08    1.29e+08\n",
      "STFIPS_ND                                   7.27e+06   7.99e+07      0.091      0.928   -1.49e+08    1.64e+08\n",
      "STFIPS_NE                                   7.27e+06   7.99e+07      0.091      0.928   -1.49e+08    1.64e+08\n",
      "STFIPS_NH                                  7.981e+06   8.78e+07      0.091      0.928   -1.64e+08     1.8e+08\n",
      "STFIPS_NJ                                  1.563e+07   1.72e+08      0.091      0.928   -3.21e+08    3.52e+08\n",
      "STFIPS_NM                                  3.205e+06   3.52e+07      0.091      0.928   -6.59e+07    7.23e+07\n",
      "STFIPS_NV                                  3.205e+06   3.52e+07      0.091      0.928   -6.59e+07    7.23e+07\n",
      "STFIPS_NY                                  1.563e+07   1.72e+08      0.091      0.928   -3.21e+08    3.52e+08\n",
      "STFIPS_OH                                 -1.733e+05   1.91e+06     -0.091      0.928   -3.91e+06    3.56e+06\n",
      "STFIPS_OK                                  9.613e+06   1.06e+08      0.091      0.928   -1.98e+08    2.17e+08\n",
      "STFIPS_PA                                  1.563e+07   1.72e+08      0.091      0.928   -3.21e+08    3.52e+08\n",
      "STFIPS_RI                                  7.981e+06   8.78e+07      0.091      0.928   -1.64e+08     1.8e+08\n",
      "STFIPS_SC                                 -6.256e+06   6.88e+07     -0.091      0.928   -1.41e+08    1.29e+08\n",
      "STFIPS_SD                                   7.27e+06   7.99e+07      0.091      0.928   -1.49e+08    1.64e+08\n",
      "STFIPS_TN                                  3.981e+06   4.38e+07      0.091      0.928   -8.18e+07    8.98e+07\n",
      "STFIPS_TX                                  9.613e+06   1.06e+08      0.091      0.928   -1.98e+08    2.17e+08\n",
      "STFIPS_UT                                  3.205e+06   3.52e+07      0.091      0.928   -6.59e+07    7.23e+07\n",
      "STFIPS_VA                                 -6.256e+06   6.88e+07     -0.091      0.928   -1.41e+08    1.29e+08\n",
      "STFIPS_VT                                  7.981e+06   8.78e+07      0.091      0.928   -1.64e+08     1.8e+08\n",
      "STFIPS_WI                                 -1.733e+05   1.91e+06     -0.091      0.928   -3.91e+06    3.56e+06\n",
      "STFIPS_WY                                  3.205e+06   3.52e+07      0.091      0.928   -6.59e+07    7.23e+07\n",
      "EDUC_1To3yCollege                          2.673e+07   2.94e+08      0.091      0.928   -5.49e+08    6.03e+08\n",
      "EDUC_4yCollegePlus                         2.673e+07   2.94e+08      0.091      0.928   -5.49e+08    6.03e+08\n",
      "EDUC_Grade12OrGED                          2.673e+07   2.94e+08      0.091      0.928   -5.49e+08    6.03e+08\n",
      "EDUC_Grade9To11                            2.673e+07   2.94e+08      0.091      0.928   -5.49e+08    6.03e+08\n",
      "EDUC_GradeOrLess                           2.673e+07   2.94e+08      0.091      0.928   -5.49e+08    6.03e+08\n",
      "EDUC_Unknown                               2.673e+07   2.94e+08      0.091      0.928   -5.49e+08    6.03e+08\n",
      "MARSTAT_DivorcedOrWidowed                  5.574e+07   6.13e+08      0.091      0.928   -1.15e+09    1.26e+09\n",
      "MARSTAT_NeverMarried                       5.574e+07   6.13e+08      0.091      0.928   -1.15e+09    1.26e+09\n",
      "MARSTAT_NowMarried                         5.574e+07   6.13e+08      0.091      0.928   -1.15e+09    1.26e+09\n",
      "MARSTAT_Separated                          5.574e+07   6.13e+08      0.091      0.928   -1.15e+09    1.26e+09\n",
      "MARSTAT_Unknown                            5.574e+07   6.13e+08      0.091      0.928   -1.15e+09    1.26e+09\n",
      "SERVICES_AmbulatoryDetox                   1.908e+07    2.1e+08      0.091      0.928   -3.92e+08     4.3e+08\n",
      "SERVICES_AmbulatoryIntensiveOutpatient     1.908e+07    2.1e+08      0.091      0.928   -3.92e+08     4.3e+08\n",
      "SERVICES_AmbulatoryNonIntensiveOutpatient  1.908e+07    2.1e+08      0.091      0.928   -3.92e+08     4.3e+08\n",
      "SERVICES_Detox24hFreeStandingRes           1.908e+07    2.1e+08      0.091      0.928   -3.92e+08     4.3e+08\n",
      "SERVICES_Detox24hHospitalInpatient         1.908e+07    2.1e+08      0.091      0.928   -3.92e+08     4.3e+08\n",
      "SERVICES_RehabResHospitalNonDetox          1.908e+07    2.1e+08      0.091      0.928   -3.92e+08     4.3e+08\n",
      "SERVICES_RehabResLongTerm                  1.908e+07    2.1e+08      0.091      0.928   -3.92e+08     4.3e+08\n",
      "SERVICES_RehabResShortTerm                 1.908e+07    2.1e+08      0.091      0.928   -3.92e+08     4.3e+08\n",
      "NOPRIOR_0PriorTreatments                   7.499e+07   8.25e+08      0.091      0.928   -1.54e+09    1.69e+09\n",
      "NOPRIOR_1PriorTreatments                   7.499e+07   8.25e+08      0.091      0.928   -1.54e+09    1.69e+09\n",
      "NOPRIOR_2PriorTreatments                   7.499e+07   8.25e+08      0.091      0.928   -1.54e+09    1.69e+09\n",
      "NOPRIOR_3PriorTreatments                   7.499e+07   8.25e+08      0.091      0.928   -1.54e+09    1.69e+09\n",
      "NOPRIOR_4PriorTreatments                   7.499e+07   8.25e+08      0.091      0.928   -1.54e+09    1.69e+09\n",
      "NOPRIOR_5PlusPriorTreatments               7.499e+07   8.25e+08      0.091      0.928   -1.54e+09    1.69e+09\n",
      "NOPRIOR_Unknown                            7.499e+07   8.25e+08      0.091      0.928   -1.54e+09    1.69e+09\n",
      "PSOURCE_CourtReferral                      1.485e+07   1.63e+08      0.091      0.928   -3.05e+08    3.35e+08\n",
      "PSOURCE_DrugCareProvider                   1.485e+07   1.63e+08      0.091      0.928   -3.05e+08    3.35e+08\n",
      "PSOURCE_Employer                           1.485e+07   1.63e+08      0.091      0.928   -3.05e+08    3.35e+08\n",
      "PSOURCE_Individual                         1.485e+07   1.63e+08      0.091      0.928   -3.05e+08    3.35e+08\n",
      "PSOURCE_OtherHealthCareProvider            1.485e+07   1.63e+08      0.091      0.928   -3.05e+08    3.35e+08\n",
      "PSOURCE_OtherReferral                      1.485e+07   1.63e+08      0.091      0.928   -3.05e+08    3.35e+08\n",
      "PSOURCE_School                             1.485e+07   1.63e+08      0.091      0.928   -3.05e+08    3.35e+08\n",
      "PSOURCE_Unknown                            1.485e+07   1.63e+08      0.091      0.928   -3.05e+08    3.35e+08\n",
      "ARRESTS_0Arrest                            3.284e+07   3.61e+08      0.091      0.928   -6.75e+08    7.41e+08\n",
      "ARRESTS_1Arrest                            3.284e+07   3.61e+08      0.091      0.928   -6.75e+08    7.41e+08\n",
      "ARRESTS_2PlusArrest                        3.284e+07   3.61e+08      0.091      0.928   -6.75e+08    7.41e+08\n",
      "ARRESTS_Unknown                            3.284e+07   3.61e+08      0.091      0.928   -6.75e+08    7.41e+08\n",
      "EMPLOY_FullTime                            6.152e+07   6.77e+08      0.091      0.928   -1.26e+09    1.39e+09\n",
      "EMPLOY_NotInLaborForce                     6.152e+07   6.77e+08      0.091      0.928   -1.26e+09    1.39e+09\n",
      "EMPLOY_PartTime                            6.152e+07   6.77e+08      0.091      0.928   -1.26e+09    1.39e+09\n",
      "EMPLOY_Unemployed                          6.152e+07   6.77e+08      0.091      0.928   -1.26e+09    1.39e+09\n",
      "EMPLOY_Unknown                             6.152e+07   6.77e+08      0.091      0.928   -1.26e+09    1.39e+09\n",
      "PSYPROB_No                                 5.343e+07   5.88e+08      0.091      0.928    -1.1e+09    1.21e+09\n",
      "PSYPROB_Unknown                            5.343e+07   5.88e+08      0.091      0.928    -1.1e+09    1.21e+09\n",
      "PSYPROB_Yes                                5.343e+07   5.88e+08      0.091      0.928    -1.1e+09    1.21e+09\n",
      "PREG_NotPregnant                           9.318e+07   1.02e+09      0.091      0.928   -1.92e+09     2.1e+09\n",
      "PREG_Pregnant                              9.318e+07   1.02e+09      0.091      0.928   -1.92e+09     2.1e+09\n",
      "PREG_Unknown                               9.318e+07   1.02e+09      0.091      0.928   -1.92e+09     2.1e+09\n",
      "GENDER_Female                              4.863e+07   5.35e+08      0.091      0.928      -1e+09     1.1e+09\n",
      "GENDER_Male                                4.863e+07   5.35e+08      0.091      0.928      -1e+09     1.1e+09\n",
      "GENDER_Unknown                             4.863e+07   5.35e+08      0.091      0.928      -1e+09     1.1e+09\n",
      "VET_NotVeteran                            -6.928e+07   7.62e+08     -0.091      0.928   -1.56e+09    1.42e+09\n",
      "VET_Unknown                               -6.928e+07   7.62e+08     -0.091      0.928   -1.56e+09    1.42e+09\n",
      "VET_Veteran                               -6.928e+07   7.62e+08     -0.091      0.928   -1.56e+09    1.42e+09\n",
      "LIVARAG_DependLiving                        2.84e+07   3.12e+08      0.091      0.928   -5.84e+08     6.4e+08\n",
      "LIVARAG_Homeless                            2.84e+07   3.12e+08      0.091      0.928   -5.84e+08     6.4e+08\n",
      "LIVARAG_IndependLiving                      2.84e+07   3.12e+08      0.091      0.928   -5.84e+08     6.4e+08\n",
      "LIVARAG_Unknown                             2.84e+07   3.12e+08      0.091      0.928   -5.84e+08     6.4e+08\n",
      "DAYWAIT_0DaysWait                           3.24e+07   3.56e+08      0.091      0.928   -6.66e+08    7.31e+08\n",
      "DAYWAIT_15To30DaysWait                      3.24e+07   3.56e+08      0.091      0.928   -6.66e+08    7.31e+08\n",
      "DAYWAIT_1DaysWait                           3.24e+07   3.56e+08      0.091      0.928   -6.66e+08    7.31e+08\n",
      "DAYWAIT_31PlusDaysWait                      3.24e+07   3.56e+08      0.091      0.928   -6.66e+08    7.31e+08\n",
      "DAYWAIT_8To14DaysWait                       3.24e+07   3.56e+08      0.091      0.928   -6.66e+08    7.31e+08\n",
      "DAYWAIT_Unknown                             3.24e+07   3.56e+08      0.091      0.928   -6.66e+08    7.31e+08\n",
      "DSMCRIT_ADDOrBehaviorDisorder              1.913e+06    2.1e+07      0.091      0.928   -3.93e+07    4.32e+07\n",
      "DSMCRIT_AlcoholAbuse                       1.913e+06    2.1e+07      0.091      0.928   -3.93e+07    4.32e+07\n",
      "DSMCRIT_AlcoholDependence                  1.913e+06    2.1e+07      0.091      0.928   -3.93e+07    4.32e+07\n",
      "DSMCRIT_AlcoholDisorder                    1.913e+06    2.1e+07      0.091      0.928   -3.93e+07    4.32e+07\n",
      "DSMCRIT_AlcoholIntoxication                1.913e+06    2.1e+07      0.091      0.928   -3.93e+07    4.32e+07\n",
      "DSMCRIT_AnxietyDisorder                    1.913e+06    2.1e+07      0.091      0.928   -3.93e+07    4.32e+07\n",
      "DSMCRIT_BipolarDisorder                    1.913e+06    2.1e+07      0.091      0.928   -3.93e+07    4.32e+07\n",
      "DSMCRIT_CannabisAbuse                      1.913e+06    2.1e+07      0.091      0.928   -3.93e+07    4.32e+07\n",
      "DSMCRIT_CannabisDependence                 1.913e+06    2.1e+07      0.091      0.928   -3.93e+07    4.32e+07\n",
      "DSMCRIT_CocaineAbuse                       1.913e+06    2.1e+07      0.091      0.928   -3.93e+07    4.32e+07\n",
      "DSMCRIT_CocaineDependence                  1.913e+06    2.1e+07      0.091      0.928   -3.93e+07    4.32e+07\n",
      "DSMCRIT_DepressiveDisorder                 1.913e+06    2.1e+07      0.091      0.928   -3.93e+07    4.32e+07\n",
      "DSMCRIT_OpioidAbuse                        1.913e+06    2.1e+07      0.091      0.928   -3.93e+07    4.32e+07\n",
      "DSMCRIT_OpioidDependence                   1.913e+06    2.1e+07      0.091      0.928   -3.93e+07    4.32e+07\n",
      "DSMCRIT_OtherMentalHealthCondition         1.913e+06    2.1e+07      0.091      0.928   -3.93e+07    4.32e+07\n",
      "DSMCRIT_OtherSubstanceAbuse                1.913e+06    2.1e+07      0.091      0.928   -3.93e+07    4.32e+07\n",
      "DSMCRIT_OtherSubstanceDependence           1.913e+06    2.1e+07      0.091      0.928   -3.93e+07    4.32e+07\n",
      "DSMCRIT_SchizopheniaOrPsychDisorder        1.913e+06    2.1e+07      0.091      0.928   -3.93e+07    4.32e+07\n",
      "DSMCRIT_SubstanceDisorder                  1.913e+06    2.1e+07      0.091      0.928   -3.93e+07    4.32e+07\n",
      "DSMCRIT_Unknown                            1.913e+06    2.1e+07      0.091      0.928   -3.93e+07    4.32e+07\n",
      "AGE_Age12To14                              3.188e+07   3.51e+08      0.091      0.928   -6.55e+08    7.19e+08\n",
      "AGE_Age15To17                              3.188e+07   3.51e+08      0.091      0.928   -6.55e+08    7.19e+08\n",
      "AGE_Age18To20                              3.188e+07   3.51e+08      0.091      0.928   -6.55e+08    7.19e+08\n",
      "AGE_Age21To24                              3.188e+07   3.51e+08      0.091      0.928   -6.55e+08    7.19e+08\n",
      "AGE_Age25To29                              3.188e+07   3.51e+08      0.091      0.928   -6.55e+08    7.19e+08\n",
      "AGE_Age30To34                              3.188e+07   3.51e+08      0.091      0.928   -6.55e+08    7.19e+08\n",
      "AGE_Age35To39                              3.188e+07   3.51e+08      0.091      0.928   -6.55e+08    7.19e+08\n",
      "AGE_Age40To44                              3.188e+07   3.51e+08      0.091      0.928   -6.55e+08    7.19e+08\n",
      "AGE_Age45To49                              3.188e+07   3.51e+08      0.091      0.928   -6.55e+08    7.19e+08\n",
      "AGE_Age50To54                              3.188e+07   3.51e+08      0.091      0.928   -6.55e+08    7.19e+08\n",
      "AGE_Age55To64                              3.188e+07   3.51e+08      0.091      0.928   -6.55e+08    7.19e+08\n",
      "AGE_Age65Plus                              3.188e+07   3.51e+08      0.091      0.928   -6.55e+08    7.19e+08\n",
      "RACE_AmericanIndianOrAlaskaNative          1.527e+07   1.68e+08      0.091      0.928   -3.14e+08    3.44e+08\n",
      "RACE_AsianOrPacificIslander                1.527e+07   1.68e+08      0.091      0.928   -3.14e+08    3.44e+08\n",
      "RACE_Black                                 1.527e+07   1.68e+08      0.091      0.928   -3.14e+08    3.44e+08\n",
      "RACE_OtherSingleRace                       1.527e+07   1.68e+08      0.091      0.928   -3.14e+08    3.44e+08\n",
      "RACE_TwoPlusRaces                          1.527e+07   1.68e+08      0.091      0.928   -3.14e+08    3.44e+08\n",
      "RACE_Unknown                               1.527e+07   1.68e+08      0.091      0.928   -3.14e+08    3.44e+08\n",
      "RACE_White                                 1.527e+07   1.68e+08      0.091      0.928   -3.14e+08    3.44e+08\n",
      "ETHNIC_CubanOrOther                       -2.976e+07   3.27e+08     -0.091      0.928   -6.71e+08    6.12e+08\n",
      "ETHNIC_Mexican                            -2.976e+07   3.27e+08     -0.091      0.928   -6.71e+08    6.12e+08\n",
      "ETHNIC_NonHispanic                        -2.976e+07   3.27e+08     -0.091      0.928   -6.71e+08    6.12e+08\n",
      "ETHNIC_PuertoRican                        -2.976e+07   3.27e+08     -0.091      0.928   -6.71e+08    6.12e+08\n",
      "ETHNIC_Unknown                            -2.976e+07   3.27e+08     -0.091      0.928   -6.71e+08    6.12e+08\n",
      "ETHNIC_UnspecifiedHispanic                -2.976e+07   3.27e+08     -0.091      0.928   -6.71e+08    6.12e+08\n",
      "PRIMINC_None                               7.078e+07   7.78e+08      0.091      0.928   -1.45e+09     1.6e+09\n",
      "PRIMINC_Other                              7.078e+07   7.78e+08      0.091      0.928   -1.45e+09     1.6e+09\n",
      "PRIMINC_PublicAssist                       7.078e+07   7.78e+08      0.091      0.928   -1.45e+09     1.6e+09\n",
      "PRIMINC_RetireOrDisable                    7.078e+07   7.78e+08      0.091      0.928   -1.45e+09     1.6e+09\n",
      "PRIMINC_Unknown                            7.078e+07   7.78e+08      0.091      0.928   -1.45e+09     1.6e+09\n",
      "PRIMINC_Wages                              7.078e+07   7.78e+08      0.091      0.928   -1.45e+09     1.6e+09\n",
      "SUB1_Heroin                                1.244e+08   1.37e+09      0.091      0.928   -2.56e+09    2.81e+09\n",
      "SUB1_NoScriptMethadone                     1.418e+08   1.56e+09      0.091      0.928   -2.91e+09     3.2e+09\n",
      "SUB1_OtherOpioidSynthetics                 7.529e+07   8.28e+08      0.091      0.928   -1.55e+09     1.7e+09\n",
      "SUB2_Alcohol                               6.321e+07   6.95e+08      0.091      0.928    -1.3e+09    1.43e+09\n",
      "SUB2_Barbiturates                         -1.604e+08   1.76e+09     -0.091      0.928   -3.62e+09     3.3e+09\n",
      "SUB2_Benzo                                 6.528e+06   7.18e+07      0.091      0.928   -1.34e+08    1.47e+08\n",
      "SUB2_CokeCrack                             9.563e+07   1.05e+09      0.091      0.928   -1.97e+09    2.16e+09\n",
      "SUB2_Hallucinogenics                      -7.682e+07   8.45e+08     -0.091      0.928   -1.73e+09    1.58e+09\n",
      "SUB2_Heroin                                9.344e+07   1.03e+09      0.091      0.928   -1.92e+09    2.11e+09\n",
      "SUB2_Inhalants                            -2.013e+08   2.21e+09     -0.091      0.928   -4.54e+09    4.14e+09\n",
      "SUB2_MethSpeed                             1.096e+08    1.2e+09      0.091      0.928   -2.25e+09    2.47e+09\n",
      "SUB2_NoScriptMethadone                     1.108e+08   1.22e+09      0.091      0.928   -2.28e+09     2.5e+09\n",
      "SUB2_None                                  1.331e+08   1.46e+09      0.091      0.928   -2.73e+09       3e+09\n",
      "SUB2_OtherAmphetamines                     1.711e+08   1.88e+09      0.091      0.928   -3.52e+09    3.86e+09\n",
      "SUB2_OtherDrugs                            5.079e+07   5.59e+08      0.091      0.928   -1.04e+09    1.15e+09\n",
      "SUB2_OtherOpioidSynthetics                 4.435e+07   4.88e+08      0.091      0.928   -9.12e+08       1e+09\n",
      "SUB2_OtherSedatives                        1.031e+08   1.13e+09      0.091      0.928   -2.12e+09    2.33e+09\n",
      "SUB2_OtherStimulants                        1.58e+08   1.74e+09      0.091      0.928   -3.25e+09    3.56e+09\n",
      "SUB2_OtherTranqs                          -1.986e+08   2.18e+09     -0.091      0.928   -4.48e+09    4.08e+09\n",
      "SUB2_OverTheCounter                        -1.56e+08   1.72e+09     -0.091      0.928   -3.52e+09    3.21e+09\n",
      "SUB2_PCP                                  -5.511e+07   6.06e+08     -0.091      0.928   -1.24e+09    1.13e+09\n",
      "SUB2_PotHash                              -9.189e+06   1.01e+08     -0.091      0.928   -2.07e+08    1.89e+08\n",
      "SUB2_Unknown                               1.331e+08   1.46e+09      0.091      0.928   -2.73e+09       3e+09\n",
      "SUB3_Alcohol                               4.519e+07   4.97e+08      0.091      0.928   -9.29e+08    1.02e+09\n",
      "SUB3_Barbiturates                         -1.784e+08   1.96e+09     -0.091      0.928   -4.02e+09    3.67e+09\n",
      "SUB3_Benzo                                 -1.15e+07   1.26e+08     -0.091      0.928   -2.59e+08    2.36e+08\n",
      "SUB3_CokeCrack                              7.76e+07   8.53e+08      0.091      0.928    -1.6e+09    1.75e+09\n",
      "SUB3_Hallucinogenics                      -9.485e+07   1.04e+09     -0.091      0.928   -2.14e+09    1.95e+09\n",
      "SUB3_Heroin                                7.542e+07   8.29e+08      0.091      0.928   -1.55e+09     1.7e+09\n",
      "SUB3_Inhalants                            -2.193e+08   2.41e+09     -0.091      0.928   -4.95e+09    4.51e+09\n",
      "SUB3_MethSpeed                             9.154e+07   1.01e+09      0.091      0.928   -1.88e+09    2.06e+09\n",
      "SUB3_NoScriptMethadone                      9.28e+07   1.02e+09      0.091      0.928   -1.91e+09    2.09e+09\n",
      "SUB3_None                                   1.15e+08   1.27e+09      0.091      0.928   -2.36e+09    2.59e+09\n",
      "SUB3_OtherAmphetamines                     1.531e+08   1.68e+09      0.091      0.928   -3.15e+09    3.45e+09\n",
      "SUB3_OtherDrugs                            3.277e+07    3.6e+08      0.091      0.928   -6.73e+08    7.39e+08\n",
      "SUB3_OtherOpioidSynthetics                 2.633e+07   2.89e+08      0.091      0.928   -5.41e+08    5.94e+08\n",
      "SUB3_OtherSedatives                        8.512e+07   9.36e+08      0.091      0.928   -1.75e+09    1.92e+09\n",
      "SUB3_OtherStimulants                         1.4e+08   1.54e+09      0.091      0.928   -2.88e+09    3.16e+09\n",
      "SUB3_OtherTranqs                          -2.166e+08   2.38e+09     -0.091      0.928   -4.89e+09    4.45e+09\n",
      "SUB3_OverTheCounter                        -1.74e+08   1.91e+09     -0.091      0.928   -3.93e+09    3.58e+09\n",
      "SUB3_PCP                                  -7.314e+07   8.04e+08     -0.091      0.928   -1.65e+09     1.5e+09\n",
      "SUB3_PotHash                              -2.722e+07   2.99e+08     -0.091      0.928   -6.14e+08    5.59e+08\n",
      "SUB3_Unknown                                1.15e+08   1.27e+09      0.091      0.928   -2.36e+09    2.59e+09\n",
      "ROUTE1_Inhalation                           5.53e+07   6.08e+08      0.091      0.928   -1.14e+09    1.25e+09\n",
      "ROUTE1_Injection                            5.53e+07   6.08e+08      0.091      0.928   -1.14e+09    1.25e+09\n",
      "ROUTE1_Oral                                 5.53e+07   6.08e+08      0.091      0.928   -1.14e+09    1.25e+09\n",
      "ROUTE1_Other                                5.53e+07   6.08e+08      0.091      0.928   -1.14e+09    1.25e+09\n",
      "ROUTE1_Smoking                              5.53e+07   6.08e+08      0.091      0.928   -1.14e+09    1.25e+09\n",
      "ROUTE1_Unknown                              5.53e+07   6.08e+08      0.091      0.928   -1.14e+09    1.25e+09\n",
      "ROUTE2_Inhalation                          5.828e+07   6.41e+08      0.091      0.928    -1.2e+09    1.31e+09\n",
      "ROUTE2_Injection                           5.828e+07   6.41e+08      0.091      0.928    -1.2e+09    1.31e+09\n",
      "ROUTE2_Oral                                5.828e+07   6.41e+08      0.091      0.928    -1.2e+09    1.31e+09\n",
      "ROUTE2_Other                               5.828e+07   6.41e+08      0.091      0.928    -1.2e+09    1.31e+09\n",
      "ROUTE2_Smoking                             5.828e+07   6.41e+08      0.091      0.928    -1.2e+09    1.31e+09\n",
      "ROUTE2_Unknown                             5.828e+07   6.41e+08      0.091      0.928    -1.2e+09    1.31e+09\n",
      "ROUTE3_Inhalation                          1.091e+07    1.2e+08      0.091      0.928   -2.24e+08    2.46e+08\n",
      "ROUTE3_Injection                           1.091e+07    1.2e+08      0.091      0.928   -2.24e+08    2.46e+08\n",
      "ROUTE3_Oral                                1.091e+07    1.2e+08      0.091      0.928   -2.24e+08    2.46e+08\n",
      "ROUTE3_Other                               1.091e+07    1.2e+08      0.091      0.928   -2.24e+08    2.46e+08\n",
      "ROUTE3_Smoking                             1.091e+07    1.2e+08      0.091      0.928   -2.24e+08    2.46e+08\n",
      "ROUTE3_Unknown                             1.091e+07    1.2e+08      0.091      0.928   -2.24e+08    2.46e+08\n",
      "FREQ1_DailyUse                             3.985e+07   4.38e+08      0.091      0.928   -8.19e+08    8.99e+08\n",
      "FREQ1_NoUsePastMonth                       3.985e+07   4.38e+08      0.091      0.928   -8.19e+08    8.99e+08\n",
      "FREQ1_SomeUse                              3.985e+07   4.38e+08      0.091      0.928   -8.19e+08    8.99e+08\n",
      "FREQ1_Unknown                              3.985e+07   4.38e+08      0.091      0.928   -8.19e+08    8.99e+08\n",
      "FREQ2_DailyUse                             8.692e+07   9.56e+08      0.091      0.928   -1.79e+09    1.96e+09\n",
      "FREQ2_NoUsePastMonth                       8.692e+07   9.56e+08      0.091      0.928   -1.79e+09    1.96e+09\n",
      "FREQ2_SomeUse                              8.692e+07   9.56e+08      0.091      0.928   -1.79e+09    1.96e+09\n",
      "FREQ2_Unknown                              8.692e+07   9.56e+08      0.091      0.928   -1.79e+09    1.96e+09\n",
      "FREQ3_DailyUse                             3.231e+07   3.55e+08      0.091      0.928   -6.64e+08    7.29e+08\n",
      "FREQ3_NoUsePastMonth                       3.231e+07   3.55e+08      0.091      0.928   -6.64e+08    7.29e+08\n",
      "FREQ3_SomeUse                              3.231e+07   3.55e+08      0.091      0.928   -6.64e+08    7.29e+08\n",
      "FREQ3_Unknown                              3.231e+07   3.55e+08      0.091      0.928   -6.64e+08    7.29e+08\n",
      "FRSTUSE1_11yLess                           5.359e+07   5.89e+08      0.091      0.928    -1.1e+09    1.21e+09\n",
      "FRSTUSE1_12To14y                           5.359e+07   5.89e+08      0.091      0.928    -1.1e+09    1.21e+09\n",
      "FRSTUSE1_15To17y                           5.359e+07   5.89e+08      0.091      0.928    -1.1e+09    1.21e+09\n",
      "FRSTUSE1_18To20y                           5.359e+07   5.89e+08      0.091      0.928    -1.1e+09    1.21e+09\n",
      "FRSTUSE1_21To24y                           5.359e+07   5.89e+08      0.091      0.928    -1.1e+09    1.21e+09\n",
      "FRSTUSE1_25To29y                           5.359e+07   5.89e+08      0.091      0.928    -1.1e+09    1.21e+09\n",
      "FRSTUSE1_30yPlus                           5.359e+07   5.89e+08      0.091      0.928    -1.1e+09    1.21e+09\n",
      "FRSTUSE1_Unknown                           5.359e+07   5.89e+08      0.091      0.928    -1.1e+09    1.21e+09\n",
      "FRSTUSE2_11yLess                           3.691e+07   4.06e+08      0.091      0.928   -7.59e+08    8.32e+08\n",
      "FRSTUSE2_12To14y                           3.691e+07   4.06e+08      0.091      0.928   -7.59e+08    8.32e+08\n",
      "FRSTUSE2_15To17y                           3.691e+07   4.06e+08      0.091      0.928   -7.59e+08    8.32e+08\n",
      "FRSTUSE2_18To20y                           3.691e+07   4.06e+08      0.091      0.928   -7.59e+08    8.32e+08\n",
      "FRSTUSE2_21To24y                           3.691e+07   4.06e+08      0.091      0.928   -7.59e+08    8.32e+08\n",
      "FRSTUSE2_25To29y                           3.691e+07   4.06e+08      0.091      0.928   -7.59e+08    8.32e+08\n",
      "FRSTUSE2_30yPlus                           3.691e+07   4.06e+08      0.091      0.928   -7.59e+08    8.32e+08\n",
      "FRSTUSE2_Unknown                           3.691e+07   4.06e+08      0.091      0.928   -7.59e+08    8.32e+08\n",
      "FRSTUSE3_11yLess                           4.451e+05   4.89e+06      0.091      0.928   -9.15e+06       1e+07\n",
      "FRSTUSE3_12To14y                           4.451e+05   4.89e+06      0.091      0.928   -9.15e+06       1e+07\n",
      "FRSTUSE3_15To17y                           4.451e+05   4.89e+06      0.091      0.928   -9.15e+06       1e+07\n",
      "FRSTUSE3_18To20y                           4.451e+05   4.89e+06      0.091      0.928   -9.15e+06       1e+07\n",
      "FRSTUSE3_21To24y                           4.451e+05   4.89e+06      0.091      0.928   -9.15e+06       1e+07\n",
      "FRSTUSE3_25To29y                           4.451e+05   4.89e+06      0.091      0.928   -9.15e+06       1e+07\n",
      "FRSTUSE3_30yPlus                           4.451e+05   4.89e+06      0.091      0.928   -9.15e+06       1e+07\n",
      "FRSTUSE3_Unknown                           4.451e+05   4.89e+06      0.091      0.928   -9.15e+06       1e+07\n",
      "HLTHINS_Medicaid                           5.027e+07   5.53e+08      0.091      0.928   -1.03e+09    1.13e+09\n",
      "HLTHINS_MedicareOrOther                    5.027e+07   5.53e+08      0.091      0.928   -1.03e+09    1.13e+09\n",
      "HLTHINS_None                               5.027e+07   5.53e+08      0.091      0.928   -1.03e+09    1.13e+09\n",
      "HLTHINS_PrivateInsurance                   5.027e+07   5.53e+08      0.091      0.928   -1.03e+09    1.13e+09\n",
      "HLTHINS_Unknown                            5.027e+07   5.53e+08      0.091      0.928   -1.03e+09    1.13e+09\n",
      "PRIMPAY_Medicaid                           1.945e+07   2.14e+08      0.091      0.928      -4e+08    4.39e+08\n",
      "PRIMPAY_Medicare                           1.945e+07   2.14e+08      0.091      0.928      -4e+08    4.39e+08\n",
      "PRIMPAY_NoCharge                           1.945e+07   2.14e+08      0.091      0.928      -4e+08    4.39e+08\n",
      "PRIMPAY_Other                              1.945e+07   2.14e+08      0.091      0.928      -4e+08    4.39e+08\n",
      "PRIMPAY_OtherGovtPayment                   1.945e+07   2.14e+08      0.091      0.928      -4e+08    4.39e+08\n",
      "PRIMPAY_PrivateInsurance                   1.945e+07   2.14e+08      0.091      0.928      -4e+08    4.39e+08\n",
      "PRIMPAY_SelfPay                            1.945e+07   2.14e+08      0.091      0.928      -4e+08    4.39e+08\n",
      "PRIMPAY_Unknown                            1.945e+07   2.14e+08      0.091      0.928      -4e+08    4.39e+08\n",
      "FREQ_ATND_SELF_HELP_1To3TimesPastMonth     1.777e+07   1.95e+08      0.091      0.928   -3.65e+08    4.01e+08\n",
      "FREQ_ATND_SELF_HELP_4To7TimesPastMonth     1.777e+07   1.95e+08      0.091      0.928   -3.65e+08    4.01e+08\n",
      "FREQ_ATND_SELF_HELP_8To30TimesPastMonth    1.777e+07   1.95e+08      0.091      0.928   -3.65e+08    4.01e+08\n",
      "FREQ_ATND_SELF_HELP_NoAttendance           1.777e+07   1.95e+08      0.091      0.928   -3.65e+08    4.01e+08\n",
      "FREQ_ATND_SELF_HELP_SomeAttendance         1.777e+07   1.95e+08      0.091      0.928   -3.65e+08    4.01e+08\n",
      "FREQ_ATND_SELF_HELP_Unknown                1.777e+07   1.95e+08      0.091      0.928   -3.65e+08    4.01e+08\n",
      "ALCFLG_NotReported                         1.184e+08    1.3e+09      0.091      0.928   -2.43e+09    2.67e+09\n",
      "ALCFLG_Reported                            1.467e+08   1.61e+09      0.091      0.928   -3.02e+09    3.31e+09\n",
      "COKEFLG_NotReported                        8.297e+07   9.12e+08      0.091      0.928   -1.71e+09    1.87e+09\n",
      "COKEFLG_Reported                           1.204e+08   1.32e+09      0.091      0.928   -2.47e+09    2.72e+09\n",
      "MARFLG_NotReported                        -1.603e+08   1.76e+09     -0.091      0.928   -3.61e+09    3.29e+09\n",
      "MARFLG_Reported                           -1.802e+07   1.98e+08     -0.091      0.928   -4.06e+08     3.7e+08\n",
      "HERFLG_NotReported                         1.688e+07   1.86e+08      0.091      0.928   -3.47e+08    3.81e+08\n",
      "HERFLG_Reported                             5.65e+07   6.21e+08      0.091      0.928   -1.16e+09    1.27e+09\n",
      "METHFLG_NotReported                        3.154e+08   3.47e+09      0.091      0.928   -6.48e+09    7.11e+09\n",
      "METHFLG_Reported                           3.376e+08   3.71e+09      0.091      0.928   -6.94e+09    7.61e+09\n",
      "OPSYNFLG_NotReported                      -1.406e+07   1.55e+08     -0.091      0.928   -3.17e+08    2.89e+08\n",
      "OPSYNFLG_Reported                          7.465e+07   8.21e+08      0.091      0.928   -1.53e+09    1.68e+09\n",
      "PCPFLG_NotReported                        -3.161e+08   3.48e+09     -0.091      0.928   -7.13e+09     6.5e+09\n",
      "PCPFLG_Reported                           -1.279e+08   1.41e+09     -0.091      0.928   -2.88e+09    2.63e+09\n",
      "HALLFLG_NotReported                       -3.799e+08   4.18e+09     -0.091      0.928   -8.57e+09    7.81e+09\n",
      "HALLFLG_Reported                            -1.7e+08   1.87e+09     -0.091      0.928   -3.83e+09    3.49e+09\n",
      "MTHAMFLG_NotReported                       1.732e+08   1.91e+09      0.091      0.928   -3.56e+09    3.91e+09\n",
      "MTHAMFLG_Reported                          1.967e+08   2.16e+09      0.091      0.928   -4.04e+09    4.44e+09\n",
      "AMPHFLG_NotReported                        3.553e+08   3.91e+09      0.091      0.928    -7.3e+09    8.01e+09\n",
      "AMPHFLG_Reported                           3.173e+08   3.49e+09      0.091      0.928   -6.52e+09    7.16e+09\n",
      "STIMFLG_NotReported                        3.177e+08   3.49e+09      0.091      0.928   -6.53e+09    7.17e+09\n",
      "STIMFLG_Reported                           2.928e+08   3.22e+09      0.091      0.928   -6.02e+09     6.6e+09\n",
      "BENZFLG_NotReported                       -1.287e+08   1.42e+09     -0.091      0.928    -2.9e+09    2.65e+09\n",
      "BENZFLG_Reported                          -2.174e+06   2.39e+07     -0.091      0.928    -4.9e+07    4.47e+07\n",
      "TRNQFLG_NotReported                       -7.463e+08   8.21e+09     -0.091      0.928   -1.68e+10    1.53e+10\n",
      "TRNQFLG_Reported                          -4.147e+08   4.56e+09     -0.091      0.928   -9.35e+09    8.52e+09\n",
      "BARBFLG_NotReported                       -6.324e+08   6.95e+09     -0.091      0.928   -1.43e+10     1.3e+10\n",
      "BARBFLG_Reported                           -3.39e+08   3.73e+09     -0.091      0.928   -7.64e+09    6.97e+09\n",
      "SEDHPFLG_NotReported                       1.557e+08   1.71e+09      0.091      0.928    -3.2e+09    3.51e+09\n",
      "SEDHPFLG_Reported                          1.857e+08   2.04e+09      0.091      0.928   -3.82e+09    4.19e+09\n",
      "INHFLG_NotReported                        -7.545e+08    8.3e+09     -0.091      0.928    -1.7e+10    1.55e+10\n",
      "INHFLG_Reported                           -4.202e+08   4.62e+09     -0.091      0.928   -9.48e+09    8.64e+09\n",
      "OTCFLG_NotReported                        -6.205e+08   6.82e+09     -0.091      0.928    -1.4e+10    1.28e+10\n",
      "OTCFLG_Reported                           -3.315e+08   3.64e+09     -0.091      0.928   -7.48e+09    6.81e+09\n",
      "OTHERFLG_NotReported                      -1.819e+06      2e+07     -0.091      0.928    -4.1e+07    3.74e+07\n",
      "OTHERFLG_Reported                          8.045e+07   8.85e+08      0.091      0.928   -1.65e+09    1.81e+09\n",
      "DIVISION_EastNorthCentral                  6.152e+07   6.77e+08      0.091      0.928   -1.26e+09    1.39e+09\n",
      "DIVISION_EastSouthCentral                    3.2e+07   3.52e+08      0.091      0.928   -6.58e+08    7.22e+08\n",
      "DIVISION_MiddleAtlantic                    6.244e+07   6.87e+08      0.091      0.928   -1.28e+09    1.41e+09\n",
      "DIVISION_Mountain                          3.047e+07   3.35e+08      0.091      0.928   -6.26e+08    6.87e+08\n",
      "DIVISION_NewEngland                        7.009e+07   7.71e+08      0.091      0.928   -1.44e+09    1.58e+09\n",
      "DIVISION_Pacific                           1.871e+07   2.06e+08      0.091      0.928   -3.84e+08    4.22e+08\n",
      "DIVISION_SouthAtlantic                     4.223e+07   4.64e+08      0.091      0.928   -8.68e+08    9.53e+08\n",
      "DIVISION_WestNorthCentral                  5.408e+07   5.95e+08      0.091      0.928   -1.11e+09    1.22e+09\n",
      "DIVISION_WestSouthCentral                  2.637e+07    2.9e+08      0.091      0.928   -5.42e+08    5.95e+08\n",
      "REGION_Midwest                             7.596e+07   8.35e+08      0.091      0.928   -1.56e+09    1.71e+09\n",
      "REGION_Northeast                           5.924e+07   6.51e+08      0.091      0.928   -1.22e+09    1.34e+09\n",
      "REGION_South                               1.013e+08   1.11e+09      0.091      0.928   -2.08e+09    2.29e+09\n",
      "REGION_West                                1.036e+08   1.14e+09      0.091      0.928   -2.13e+09    2.34e+09\n",
      "IDU_IDU                                    4.385e+07   4.82e+08      0.091      0.928   -9.01e+08    9.89e+08\n",
      "IDU_NoIDU                                  4.385e+07   4.82e+08      0.091      0.928   -9.01e+08    9.89e+08\n",
      "ALCDRUG_Alcohol&Drugs                      1.463e+08   1.61e+09      0.091      0.928   -3.01e+09     3.3e+09\n",
      "ALCDRUG_OtherDrugs                         1.049e+08   1.15e+09      0.091      0.928   -2.16e+09    2.36e+09\n",
      "==============================================================================\n",
      "Omnibus:                     2957.948   Durbin-Watson:                   1.999\n",
      "Prob(Omnibus):                  0.000   Jarque-Bera (JB):             2424.236\n",
      "Skew:                           0.132   Prob(JB):                         0.00\n",
      "Kurtosis:                       2.701   Cond. No.                     2.20e+16\n",
      "==============================================================================\n",
      "\n",
      "Notes:\n",
      "[1] Standard Errors assume that the covariance matrix of the errors is correctly specified.\n",
      "[2] The smallest eigenvalue is 2.47e-26. This might indicate that there are\n",
      "strong multicollinearity problems or that the design matrix is singular.\n"
     ]
    }
   ],
   "source": [
    "# Load modules and data\n",
    "import statsmodels\n",
    "import statsmodels.api as sm\n",
    "\n",
    "# Fit and summarize OLS model\n",
    "model = sm.OLS(y_train, X_train)\n",
    "results = model.fit()\n",
    "\n",
    "y_hat = results.predict(X_test)\n",
    "mse = statsmodels.tools.eval_measures.mse(y_test, y_hat)\n",
    "\n",
    "print('MSE:', mse)\n",
    "print(results.summary())"
   ],
   "metadata": {
    "collapsed": false,
    "pycharm": {
     "name": "#%%\n"
    }
   }
  },
  {
   "cell_type": "code",
   "execution_count": null,
   "outputs": [],
   "source": [],
   "metadata": {
    "collapsed": false,
    "pycharm": {
     "name": "#%%\n"
    }
   }
  }
 ],
 "metadata": {
  "kernelspec": {
   "display_name": "Python 3",
   "language": "python",
   "name": "python3"
  },
  "language_info": {
   "codemirror_mode": {
    "name": "ipython",
    "version": 2
   },
   "file_extension": ".py",
   "mimetype": "text/x-python",
   "name": "python",
   "nbconvert_exporter": "python",
   "pygments_lexer": "ipython2",
   "version": "2.7.6"
  }
 },
 "nbformat": 4,
 "nbformat_minor": 0
}