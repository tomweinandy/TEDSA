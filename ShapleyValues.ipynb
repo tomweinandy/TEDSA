{
 "cells": [
  {
   "cell_type": "markdown",
   "source": [
    "## Load data"
   ],
   "metadata": {
    "collapsed": false
   }
  },
  {
   "cell_type": "code",
   "execution_count": 1,
   "outputs": [],
   "source": [
    "import pandas as pd\n",
    "import ast\n",
    "import numpy as np\n",
    "\n",
    "# Load in data\n",
    "admissions = 'tedsa_puf_2019.csv'\n",
    "df_raw = pd.read_csv(f'../../Downloads/{admissions}')"
   ],
   "metadata": {
    "collapsed": false
   }
  },
  {
   "cell_type": "markdown",
   "source": [
    "## Filter out select rows and columns"
   ],
   "metadata": {
    "collapsed": false
   }
  },
  {
   "cell_type": "code",
   "execution_count": 2,
   "metadata": {
    "collapsed": true
   },
   "outputs": [
    {
     "name": "stdout",
     "output_type": "stream",
     "text": [
      "Dropped 5 columns (57 remain)\n",
      "Dropped 1,340,233 observations or 71.9% of the data (524,134 rows remain)\n"
     ]
    }
   ],
   "source": [
    "# Get count of original number of rows\n",
    "old_rows = len(df_raw)\n",
    "\n",
    "# Drop defined columns (year of admission, case id, geographic metro area, geographic division, geographic region)\n",
    "columns_to_drop = ['ADMYR', 'CASEID', 'CBSA2010', 'DIVISION', 'REGION']\n",
    "df = df_raw.drop(columns=columns_to_drop)\n",
    "print(f'Dropped {len(columns_to_drop)} columns ({len(df.columns)} remain)')\n",
    "\n",
    "# Drop values where dependent variable is unknown\n",
    "df = df[df['METHUSE'] != -9]\n",
    "\n",
    "# Only keep patients admitted with self-described use of an opioid as their primary substance use (i.e., SUB1 = 5, 6, or 7)\n",
    "df = df[df['SUB1'].between(5, 7)]\n",
    "new_rows = len(df)\n",
    "percent_change = round(100*(old_rows-new_rows)/old_rows, 1)\n",
    "print(f'Dropped {\"{:,}\".format(old_rows-new_rows)} observations or {percent_change}% of the data ({\"{:,}\".format(new_rows)} rows remain)')\n",
    "\n",
    "df = df.reset_index(drop='index')"
   ]
  },
  {
   "cell_type": "markdown",
   "source": [
    "## Balance dataset"
   ],
   "metadata": {
    "collapsed": false
   }
  },
  {
   "cell_type": "code",
   "execution_count": 3,
   "outputs": [
    {
     "name": "stdout",
     "output_type": "stream",
     "text": [
      "Classes before down-sampling: 211743 312391\n",
      "Classes after down-sampling: 211743 211743\n"
     ]
    }
   ],
   "source": [
    "# Split into two dataframes, printing result\n",
    "df_ones = df[df['METHUSE']==1]\n",
    "df_twos = df[df['METHUSE']==2]\n",
    "print('Classes before down-sampling:', len(df_ones), len(df_twos))\n",
    "\n",
    "# Sample down df_twos to the length of df_ones, printing result\n",
    "ratio = len(df_ones)/len(df_twos)\n",
    "df_twos = df_twos.sample(frac=ratio)\n",
    "print('Classes after down-sampling:', len(df_ones), len(df_twos))\n",
    "\n",
    "# Recombine and shuffle for good measure\n",
    "df = pd.concat([df_ones, df_twos], axis=0)\n",
    "df = df.sample(frac=1).reset_index(drop=True)"
   ],
   "metadata": {
    "collapsed": false
   }
  },
  {
   "cell_type": "markdown",
   "source": [
    "## Make dataset human-readable"
   ],
   "metadata": {
    "collapsed": false
   }
  },
  {
   "cell_type": "code",
   "execution_count": 4,
   "outputs": [],
   "source": [
    "# Load in variable dictionary\n",
    "with open('VariableDictionary.txt') as file:\n",
    "    variable_dict_string = file.read()\n",
    "    variable_dict = ast.literal_eval(variable_dict_string)\n",
    "\n",
    "# Rename entries in column according to dictionary\n",
    "df2 = df.copy()\n",
    "for col, col_dict in variable_dict.items():\n",
    "    if col in df2.columns:\n",
    "        for old_value, new_value in variable_dict[col].items():\n",
    "            df2[col] = df2[col].replace(old_value, new_value)\n",
    "\n",
    "# Rename \"-9\" values as \"Unknown\"\n",
    "for col in df2.columns:\n",
    "    df2[col] = df2[col].replace(-9, 'Unknown')\n",
    "\n",
    "# Merge DETNLF (detailed not in labor force) into EMPLOY==4 (not in labor force)\n",
    "detailed_employ = []\n",
    "\n",
    "for idx, value in df2.iterrows():\n",
    "    if value['EMPLOY'] == 'NotInLaborForce':\n",
    "        if value['DETNLF'] == 'Unknown':\n",
    "            # Assign 'UnknownNotInLaborForce' if 'NotInLaborForce' and 'Unknown'\n",
    "            detailed_employ.append('UnknownNotInLaborForce')\n",
    "        else:\n",
    "            # Otherwise, assign as the DETNLF value\n",
    "            detailed_employ.append(value['DETNLF'])\n",
    "    else:\n",
    "        # Assign the EMPLOY value if not 'NotInLaborForce'\n",
    "        detailed_employ.append(value['EMPLOY'])\n",
    "\n",
    "# Add a new column for detailed employment and drop the two source columns\n",
    "df2['DETEMPLOY'] = detailed_employ\n",
    "df2 = df2.drop(columns=['EMPLOY', 'DETNLF'])\n",
    "\n",
    "# Convert dependent variable to binary integer\n",
    "df2['METHUSE'] = df2['METHUSE'].replace('MethUse', 1)\n",
    "df2['METHUSE'] = df2['METHUSE'].replace('NoMethUse', 0)"
   ],
   "metadata": {
    "collapsed": false
   }
  },
  {
   "cell_type": "markdown",
   "source": [
    "# XGBoost and Shapley"
   ],
   "metadata": {
    "collapsed": false
   }
  },
  {
   "cell_type": "markdown",
   "source": [
    "### Make machine-readable dataset (encoding)"
   ],
   "metadata": {
    "collapsed": false
   }
  },
  {
   "cell_type": "code",
   "execution_count": 5,
   "outputs": [],
   "source": [
    "from sklearn.preprocessing import LabelEncoder\n",
    "import pandas as pd\n",
    "from sklearn.preprocessing import OrdinalEncoder\n",
    "\n",
    "df4 = df2.copy()\n",
    "# df4 = df4.sample(frac=0.1)  # small size for testing code\n",
    "\n",
    "df4['STFIPS'] = df4['STFIPS'].astype('category').cat.codes\n",
    "df4['EDUC'] = OrdinalEncoder(categories=[['Unknown', 'Grade8OrLess', 'Grade9To11', 'Grade12OrGED', '1To3yCollege', '4yCollegePlus']]).fit_transform(df4[['EDUC']])\n",
    "df4['MARSTAT'] = df4['MARSTAT'].astype('category').cat.codes\n",
    "df4['SERVICES'] = df4['SERVICES'].astype('category').cat.codes\n",
    "df4['DETCRIM'] = df4['DETCRIM'].astype('category').cat.codes\n",
    "df4['NOPRIOR'] = OrdinalEncoder(categories=[['Unknown', '0PriorTreatments', '1PriorTreatments', '2PriorTreatments', '3PriorTreatments',\n",
    "                                            '4PriorTreatments', '5PlusPriorTreatments']]).fit_transform(df4[['NOPRIOR']])\n",
    "df4['PSOURCE'] = df4['PSOURCE'].astype('category').cat.codes\n",
    "df4['ARRESTS'] = OrdinalEncoder(categories=[['Unknown', '0Arrest', '1Arrest', '2PlusArrest']]).fit_transform(df4[['ARRESTS']])\n",
    "# df4['METHUSE'] = df4['METHUSE'].astype('category').cat.codes\n",
    "df4['PSYPROB'] = df4['PSYPROB'].astype('category').cat.codes\n",
    "df4['PREG'] = df4['PREG'].astype('category').cat.codes\n",
    "df4['GENDER'] = df4['GENDER'].astype('category').cat.codes\n",
    "df4['VET'] = df4['VET'].astype('category').cat.codes\n",
    "df4['LIVARAG'] = df4['LIVARAG'].astype('category').cat.codes\n",
    "df4['DAYWAIT'] = OrdinalEncoder(categories=[['Unknown', '0DaysWait', '1To7DaysWait', '8To14DaysWait', '15To30DaysWait',\n",
    "                                            '31PlusDaysWait']]).fit_transform(df4[['DAYWAIT']])\n",
    "df4['DSMCRIT'] = df4['DSMCRIT'].astype('category').cat.codes\n",
    "df4['AGE'] = OrdinalEncoder(categories=[['Age12To14', 'Age15To17', 'Age18To20', 'Age21To24', 'Age25To29', 'Age30To34', 'Age35To39', 'Age40To44',\n",
    "                                        'Age45To49', 'Age50To54', 'Age55To64', 'Age65Plus' ]]).fit_transform(df4[['AGE']])\n",
    "df4['RACE'] = df4['RACE'].astype('category').cat.codes\n",
    "df4['ETHNIC'] = df4['ETHNIC'].astype('category').cat.codes\n",
    "df4['PRIMINC'] = df4['PRIMINC'].astype('category').cat.codes\n",
    "df4['SUB1'] = df4['SUB1'].astype('category').cat.codes\n",
    "df4['SUB2'] = df4['SUB2'].astype('category').cat.codes\n",
    "df4['SUB3'] = df4['SUB3'].astype('category').cat.codes\n",
    "df4['ROUTE1'] = df4['ROUTE1'].astype('category').cat.codes\n",
    "df4['ROUTE2'] = df4['ROUTE2'].astype('category').cat.codes\n",
    "df4['ROUTE3'] = df4['ROUTE3'].astype('category').cat.codes\n",
    "df4['FREQ1'] = OrdinalEncoder(categories=[['Unknown', 'NoUsePastMonth', 'SomeUse', 'DailyUse']]).fit_transform(df4[['FREQ1']])\n",
    "df4['FREQ2'] = OrdinalEncoder(categories=[['Unknown', 'NoUsePastMonth', 'SomeUse', 'DailyUse']]).fit_transform(df4[['FREQ2']])\n",
    "df4['FREQ3'] = OrdinalEncoder(categories=[['Unknown', 'NoUsePastMonth', 'SomeUse', 'DailyUse']]).fit_transform(df4[['FREQ3']])\n",
    "df4['FRSTUSE1'] = OrdinalEncoder(categories=[['Unknown', '11yLess', '12To14y', '15To17y', '18To20y', '21To24y', '25To29y',\n",
    "                                             '30yPlus']]).fit_transform(df4[['FRSTUSE1']])\n",
    "df4['FRSTUSE2'] = OrdinalEncoder(categories=[['Unknown', '11yLess', '12To14y', '15To17y', '18To20y', '21To24y', '25To29y',\n",
    "                                             '30yPlus']]).fit_transform(df4[['FRSTUSE2']])\n",
    "df4['FRSTUSE3'] = OrdinalEncoder(categories=[['Unknown', '11yLess', '12To14y', '15To17y', '18To20y', '21To24y', '25To29y',\n",
    "                                             '30yPlus']]).fit_transform(df4[['FRSTUSE3']])\n",
    "df4['HLTHINS'] = df4['HLTHINS'].astype('category').cat.codes\n",
    "df4['PRIMPAY'] = df4['PRIMPAY'].astype('category').cat.codes\n",
    "df4['FREQ_ATND_SELF_HELP'] = OrdinalEncoder(categories=[['Unknown', 'NoAttendance', 'SomeAttendance', '1To3TimesPastMonth', '4To7TimesPastMonth',\n",
    "                                                        '8To30TimesPastMonth']]).fit_transform(df4[['FREQ_ATND_SELF_HELP']])\n",
    "df4['ALCFLG'] = OrdinalEncoder(categories=[['NotReported', 'Reported']]).fit_transform(df4[['ALCFLG']])\n",
    "df4['COKEFLG'] = OrdinalEncoder(categories=[['NotReported', 'Reported']]).fit_transform(df4[['COKEFLG']])\n",
    "df4['MARFLG'] = OrdinalEncoder(categories=[['NotReported', 'Reported']]).fit_transform(df4[['MARFLG']])\n",
    "df4['HERFLG'] = OrdinalEncoder(categories=[['NotReported', 'Reported']]).fit_transform(df4[['HERFLG']])\n",
    "df4['METHFLG'] = OrdinalEncoder(categories=[['NotReported', 'Reported']]).fit_transform(df4[['METHFLG']])\n",
    "df4['OPSYNFLG'] = OrdinalEncoder(categories=[['NotReported', 'Reported']]).fit_transform(df4[['OPSYNFLG']])\n",
    "df4['PCPFLG'] = OrdinalEncoder(categories=[['NotReported', 'Reported']]).fit_transform(df4[['PCPFLG']])\n",
    "df4['HALLFLG'] = OrdinalEncoder(categories=[['NotReported', 'Reported']]).fit_transform(df4[['HALLFLG']])\n",
    "df4['MTHAMFLG'] = OrdinalEncoder(categories=[['NotReported', 'Reported']]).fit_transform(df4[['MTHAMFLG']])\n",
    "df4['AMPHFLG'] = OrdinalEncoder(categories=[['NotReported', 'Reported']]).fit_transform(df4[['AMPHFLG']])\n",
    "df4['STIMFLG'] = OrdinalEncoder(categories=[['NotReported', 'Reported']]).fit_transform(df4[['STIMFLG']])\n",
    "df4['BENZFLG'] = OrdinalEncoder(categories=[['NotReported', 'Reported']]).fit_transform(df4[['BENZFLG']])\n",
    "df4['TRNQFLG'] = OrdinalEncoder(categories=[['NotReported', 'Reported']]).fit_transform(df4[['TRNQFLG']])\n",
    "df4['BARBFLG'] = OrdinalEncoder(categories=[['NotReported', 'Reported']]).fit_transform(df4[['BARBFLG']])\n",
    "df4['SEDHPFLG'] = OrdinalEncoder(categories=[['NotReported', 'Reported']]).fit_transform(df4[['SEDHPFLG']])\n",
    "df4['INHFLG'] = OrdinalEncoder(categories=[['NotReported', 'Reported']]).fit_transform(df4[['INHFLG']])\n",
    "df4['OTCFLG'] = OrdinalEncoder(categories=[['NotReported', 'Reported']]).fit_transform(df4[['OTCFLG']])\n",
    "df4['OTHERFLG'] = OrdinalEncoder(categories=[['NotReported', 'Reported']]).fit_transform(df4[['OTHERFLG']])\n",
    "# df4['DIVISION'] = df4['DIVISION'].astype('category').cat.codes\n",
    "# df4['REGION'] = df4['REGION'].astype('category').cat.codes\n",
    "df4['IDU'] = OrdinalEncoder(categories=[['NoIDU', 'IDU']]).fit_transform(df4[['IDU']])\n",
    "df4['ALCDRUG'] = OrdinalEncoder(categories=[['OtherDrugs', 'AlcoholAndDrugs']]).fit_transform(df4[['ALCDRUG']])\n",
    "df4['DETEMPLOY'] = df4['DETEMPLOY'].astype('category').cat.codes"
   ],
   "metadata": {
    "collapsed": false
   }
  },
  {
   "cell_type": "markdown",
   "source": [
    "## Train XG Boost model"
   ],
   "metadata": {
    "collapsed": false
   }
  },
  {
   "cell_type": "code",
   "execution_count": 7,
   "outputs": [],
   "source": [
    "from sklearn.model_selection import train_test_split\n",
    "\n",
    "# Split data into training and test sets\n",
    "X = df4.drop('METHUSE', axis=1)\n",
    "y = df4['METHUSE'].astype('float')\n",
    "X_train, X_test, y_train, y_test = train_test_split(X, y, test_size=0.2, random_state=24)"
   ],
   "metadata": {
    "collapsed": false
   }
  },
  {
   "cell_type": "code",
   "execution_count": 8,
   "outputs": [],
   "source": [
    "import xgboost as xgb\n",
    "from sklearn.metrics import accuracy_score, roc_auc_score\n",
    "from hyperopt import STATUS_OK, Trials, fmin, hp, tpe\n",
    "\n",
    "# Search the parameter grid\n",
    "# Docs: https://xgboost.readthedocs.io/en/latest/parameter.html\n",
    "# https://www.kaggle.com/code/prashant111/a-guide-on-xgboost-hyperparameters-tuning/notebook#2.-XGBoost-hyperparameters-\n",
    "defined_space={'colsample_bytree': hp.quniform('colsample_bytree', 0.1, 1, 0.01),\n",
    "       'eta': hp.quniform('eta', 0.025, 0.5, 0.025),\n",
    "       'gamma': hp.quniform('gamma', 0.5, 1, 0.05),\n",
    "       'learning_rate': hp.quniform('learning_rate', 0.01, 0.5, 0.01),\n",
    "       'max_depth': hp.quniform(\"max_depth\", 3, 27, 1),\n",
    "       'min_child_weight' : hp.quniform('min_child_weight', 0, 10, 1),\n",
    "       'n_estimators': hp.choice('n_estimators', range(100, 1000)),\n",
    "       'reg_alpha' : hp.quniform('reg_alpha', 40, 180, 1),\n",
    "       'reg_lambda' : hp.uniform('reg_lambda', 0, 1),\n",
    "       'subsample': hp.quniform('subsample', 0.5, 1, 0.05)\n",
    "    }\n",
    "\n",
    "def objective(space):\n",
    "    clf = xgb.XGBClassifier(colsample_bytree=round(space['colsample_bytree'], 0),\n",
    "                          early_stopping_rounds=10,\n",
    "                          eta=space['eta'],\n",
    "                          eval_metric='auc',\n",
    "                          gamma=space['gamma'],\n",
    "                          learning_rate=space['learning_rate'],\n",
    "                          max_depth=int(round(space['max_depth'], 0)),\n",
    "                          min_child_weight=space['min_child_weight'],\n",
    "                          n_estimators=space['n_estimators'],\n",
    "                          objective='binary:logistic',\n",
    "                          reg_alpha=space['reg_alpha'],\n",
    "                          reg_lambda=space['reg_lambda'],\n",
    "                          seed=24,\n",
    "                          subsample=round(space['subsample'], 0))\n",
    "\n",
    "    # Evaluate the model and record performance metrics\n",
    "    evaluation = [( X_train, y_train), ( X_test, y_test)]\n",
    "    clf.fit(X_train, y_train, eval_set=evaluation, verbose=False)\n",
    "    pred = clf.predict(X_test)\n",
    "    accuracy = accuracy_score(y_test, pred>0.5)\n",
    "    y_pred = clf.predict_proba(X_test)[:,1]\n",
    "    auc = roc_auc_score(y_test,y_pred)\n",
    "\n",
    "    print (f\"Accuracy: {round(accuracy, 4)}, AUC: {round(auc, 4)}\")\n",
    "    return {'loss': -accuracy, 'status': STATUS_OK }"
   ],
   "metadata": {
    "collapsed": false
   }
  },
  {
   "cell_type": "code",
   "execution_count": 9,
   "outputs": [
    {
     "name": "stdout",
     "output_type": "stream",
     "text": [
      "Accuracy: 0.6836 AUC: 0.7426                           \n",
      "Accuracy: 0.8524 AUC: 0.9354                                                      \n",
      "Accuracy: 0.7345 AUC: 0.8138                                                         \n",
      "Accuracy: 0.7292 AUC: 0.808                                                          \n",
      "Accuracy: 0.8399 AUC: 0.925                                                          \n",
      "Accuracy: 0.8427 AUC: 0.9276                                                          \n",
      "Accuracy: 0.7412 AUC: 0.8243                                                          \n",
      "Accuracy: 0.7177 AUC: 0.7932                                                          \n",
      "Accuracy: 0.8417 AUC: 0.9274                                                         \n",
      "Accuracy: 0.8505 AUC: 0.9336                                                         \n",
      "Accuracy: 0.7347 AUC: 0.8142                                                          \n",
      "Accuracy: 0.7351 AUC: 0.8189                                                          \n",
      "Accuracy: 0.8386 AUC: 0.9244                                                          \n",
      "Accuracy: 0.5011 AUC: 0.5                                                             \n",
      "Accuracy: 0.851 AUC: 0.9343                                                           \n",
      "Accuracy: 0.727 AUC: 0.8056                                                           \n",
      "Accuracy: 0.7269 AUC: 0.806                                                           \n",
      "Accuracy: 0.8528 AUC: 0.9351                                                          \n",
      "Accuracy: 0.8451 AUC: 0.9291                                                           \n",
      "Accuracy: 0.7323 AUC: 0.8115                                                           \n",
      "Accuracy: 0.8529 AUC: 0.9357                                                           \n",
      "Accuracy: 0.8474 AUC: 0.9313                                                            \n",
      "Accuracy: 0.8469 AUC: 0.9307                                                            \n",
      "Accuracy: 0.8464 AUC: 0.931                                                             \n",
      "Accuracy: 0.8398 AUC: 0.9247                                                            \n",
      "Accuracy: 0.8508 AUC: 0.9338                                                            \n",
      "Accuracy: 0.8479 AUC: 0.9313                                                            \n",
      "Accuracy: 0.8396 AUC: 0.9244                                                            \n",
      "Accuracy: 0.8474 AUC: 0.931                                                             \n",
      "Accuracy: 0.8487 AUC: 0.9321                                                            \n",
      "Accuracy: 0.8519 AUC: 0.9342                                                            \n",
      "Accuracy: 0.8523 AUC: 0.9354                                                            \n",
      "Accuracy: 0.8463 AUC: 0.93                                                              \n",
      "Accuracy: 0.8505 AUC: 0.9339                                                            \n",
      "Accuracy: 0.8474 AUC: 0.9308                                                            \n",
      "Accuracy: 0.84 AUC: 0.925                                                               \n",
      "Accuracy: 0.8508 AUC: 0.934                                                             \n",
      "Accuracy: 0.8458 AUC: 0.9292                                                            \n",
      "Accuracy: 0.8527 AUC: 0.9358                                                            \n",
      "Accuracy: 0.8376 AUC: 0.9238                                                            \n",
      "Accuracy: 0.7362 AUC: 0.8152                                                            \n",
      "Accuracy: 0.8458 AUC: 0.9301                                                            \n",
      "Accuracy: 0.8405 AUC: 0.9259                                                            \n",
      "Accuracy: 0.8475 AUC: 0.9314                                                            \n",
      "Accuracy: 0.8367 AUC: 0.9231                                                            \n",
      "Accuracy: 0.8462 AUC: 0.9306                                                            \n",
      "Accuracy: 0.8407 AUC: 0.9263                                                            \n",
      "Accuracy: 0.8525 AUC: 0.9355                                                            \n",
      "Accuracy: 0.8444 AUC: 0.9288                                                            \n",
      "Accuracy: 0.7356 AUC: 0.8148                                                            \n",
      "Accuracy: 0.8493 AUC: 0.9322                                                            \n",
      "Accuracy: 0.8387 AUC: 0.9237                                                            \n",
      "Accuracy: 0.7418 AUC: 0.8249                                                            \n",
      "Accuracy: 0.8446 AUC: 0.9299                                                            \n",
      "Accuracy: 0.5011 AUC: 0.5                                                              \n",
      "Accuracy: 0.8397 AUC: 0.9248                                                           \n",
      "Accuracy: 0.8474 AUC: 0.9305                                                         \n",
      "Accuracy: 0.8523 AUC: 0.935                                                            \n",
      "Accuracy: 0.8392 AUC: 0.9248                                                            \n",
      "Accuracy: 0.7229 AUC: 0.8004                                                            \n",
      "Accuracy: 0.852 AUC: 0.9354                                                             \n",
      "Accuracy: 0.8486 AUC: 0.9316                                                            \n",
      "Accuracy: 0.8414 AUC: 0.9259                                                            \n",
      "Accuracy: 0.7328 AUC: 0.8122                                                            \n",
      "Accuracy: 0.8519 AUC: 0.9344                                                            \n",
      "Accuracy: 0.8526 AUC: 0.9361                                                            \n",
      "Accuracy: 0.8519 AUC: 0.9355                                                            \n",
      "Accuracy: 0.8517 AUC: 0.9348                                                            \n",
      "Accuracy: 0.8516 AUC: 0.9354                                                            \n",
      "Accuracy: 0.8493 AUC: 0.9327                                                            \n",
      "Accuracy: 0.85 AUC: 0.934                                                               \n",
      "Accuracy: 0.8478 AUC: 0.9316                                                            \n",
      "Accuracy: 0.8505 AUC: 0.9335                                                            \n",
      "Accuracy: 0.8469 AUC: 0.9307                                                            \n",
      "Accuracy: 0.8492 AUC: 0.9328                                                            \n",
      "Accuracy: 0.8525 AUC: 0.9353                                                            \n",
      "Accuracy: 0.8426 AUC: 0.9274                                                            \n",
      "Accuracy: 0.8425 AUC: 0.9276                                                            \n",
      "Accuracy: 0.852 AUC: 0.9345                                                           \n",
      "Accuracy: 0.8502 AUC: 0.933                                                           \n",
      "Accuracy: 0.8436 AUC: 0.9278                                                          \n",
      "Accuracy: 0.8519 AUC: 0.935                                                           \n",
      "Accuracy: 0.8456 AUC: 0.9304                                                          \n",
      "Accuracy: 0.8482 AUC: 0.9324                                                          \n",
      "Accuracy: 0.8473 AUC: 0.9313                                                          \n",
      "Accuracy: 0.8461 AUC: 0.9302                                                          \n",
      "Accuracy: 0.8483 AUC: 0.9316                                                          \n",
      "Accuracy: 0.7316 AUC: 0.8106                                                          \n",
      "Accuracy: 0.7315 AUC: 0.8106                                                          \n",
      "Accuracy: 0.8454 AUC: 0.9294                                                          \n",
      "Accuracy: 0.849 AUC: 0.9325                                                           \n",
      "Accuracy: 0.8521 AUC: 0.935                                                           \n",
      "Accuracy: 0.8406 AUC: 0.9253                                                          \n",
      "Accuracy: 0.8516 AUC: 0.9342                                                          \n",
      "Accuracy: 0.7278 AUC: 0.8067                                                          \n",
      "Accuracy: 0.8505 AUC: 0.9336                                                          \n",
      "Accuracy: 0.8433 AUC: 0.9273                                                          \n",
      "Accuracy: 0.8517 AUC: 0.9346                                                          \n",
      "Accuracy: 0.8503 AUC: 0.933                                                           \n",
      "Accuracy: 0.5011 AUC: 0.5                                                             \n",
      "100%|██████████| 100/100 [5:03:47<00:00, 182.27s/trial, best loss: -0.8529363149070817]\n"
     ]
    }
   ],
   "source": [
    "# Begin training\n",
    "trials = Trials()\n",
    "best_hyperparams = fmin(fn = objective,\n",
    "                        space = defined_space,\n",
    "                        algo = tpe.suggest,\n",
    "                        max_evals = 100,\n",
    "                        trials = trials)"
   ],
   "metadata": {
    "collapsed": false
   }
  },
  {
   "cell_type": "code",
   "execution_count": 9,
   "outputs": [
    {
     "data": {
      "text/plain": "{'colsample_bytree': 0.61,\n 'eta': 0.25,\n 'gamma': 0.8,\n 'learning_rate': 0.22,\n 'max_depth': 16.0,\n 'min_child_weight': 0.0,\n 'n_estimators': 812,\n 'reg_alpha': 40.0,\n 'reg_lambda': 0.9241629285526229,\n 'subsample': 0.9}"
     },
     "execution_count": 9,
     "metadata": {},
     "output_type": "execute_result"
    }
   ],
   "source": [
    "\"\"\"\n",
    "# Best from 100 runs\n",
    "\n",
    " {'colsample_bytree': 0.61,\n",
    " 'eta': 0.25,\n",
    " 'gamma': 0.8,\n",
    " 'learning_rate': 0.22,\n",
    " 'max_depth': 16.0,\n",
    " 'min_child_weight': 0.0,\n",
    " 'n_estimators': 812,\n",
    " 'reg_alpha': 40.0,\n",
    " 'reg_lambda': 0.9241629285526229,\n",
    " 'subsample': 0.9}\n",
    "\"\"\"\n",
    "\n",
    "# best_hyperparams = {'colsample_bytree': 0.61,\n",
    "#                      'eta': 0.25,\n",
    "#                      'gamma': 0.8,\n",
    "#                      'learning_rate': 0.22,\n",
    "#                      'max_depth': 16.0,\n",
    "#                      'min_child_weight': 0.0,\n",
    "#                      'n_estimators': 812,\n",
    "#                      'reg_alpha': 40.0,\n",
    "#                      'reg_lambda': 0.9241629285526229,\n",
    "#                      'subsample': 0.9}\n",
    "\n",
    "best_hyperparams"
   ],
   "metadata": {
    "collapsed": false
   }
  },
  {
   "cell_type": "code",
   "execution_count": 11,
   "outputs": [
    {
     "data": {
      "text/plain": "XGBClassifier(base_score=0.5, booster='gbtree', callbacks=None,\n              colsample_bylevel=1, colsample_bynode=1, colsample_bytree=0.85,\n              early_stopping_rounds=None, enable_categorical=False, eta=0.45,\n              eval_metric='auc', gamma=0.7000000000000001, gpu_id=-1,\n              grow_policy='depthwise', importance_type=None,\n              interaction_constraints='', learning_rate=0.34, max_bin=256,\n              max_cat_to_onehot=4, max_delta_step=0, max_depth=18, max_leaves=0,\n              min_child_weight=4.0, missing=nan, monotone_constraints='()',\n              n_estimators=45, n_jobs=0, num_parallel_tree=1, predictor='auto',\n              random_state=24, reg_alpha=40.0, ...)"
     },
     "execution_count": 11,
     "metadata": {},
     "output_type": "execute_result"
    }
   ],
   "source": [
    "# Train best model\n",
    "best_hyperparams_formatted = best_hyperparams.copy()\n",
    "best_hyperparams_formatted['max_depth'] = int(best_hyperparams['max_depth'])\n",
    "best_hyperparams_formatted['eval_metric'] = 'auc'\n",
    "best_hyperparams_formatted['objective'] = 'binary:logistic'\n",
    "best_hyperparams_formatted['seed'] = 24\n",
    "\n",
    "best_model = xgb.XGBClassifier(**best_hyperparams_formatted)\n",
    "best_model.fit(X_train, y_train)"
   ],
   "metadata": {
    "collapsed": false
   }
  },
  {
   "cell_type": "code",
   "execution_count": 12,
   "outputs": [
    {
     "name": "stdout",
     "output_type": "stream",
     "text": [
      "Accuracy: 0.8482, AUC: 0.9322\n"
     ]
    }
   ],
   "source": [
    "# Evaluate the model and record performance metrics\n",
    "evaluation = [( X_train, y_train), ( X_test, y_test)]\n",
    "best_pred = best_model.predict(X_test)\n",
    "best_accuracy = accuracy_score(y_test, best_pred>0.5)\n",
    "y_best_pred = best_model.predict_proba(X_test)[:,1]\n",
    "best_auc = roc_auc_score(y_test,y_best_pred)\n",
    "\n",
    "print (f\"Accuracy: {round(best_accuracy, 4)}, AUC: {round(best_auc, 4)}\")"
   ],
   "metadata": {
    "collapsed": false
   }
  },
  {
   "cell_type": "markdown",
   "source": [
    "### Interpretability"
   ],
   "metadata": {
    "collapsed": false
   }
  },
  {
   "cell_type": "code",
   "execution_count": 141,
   "outputs": [
    {
     "name": "stderr",
     "output_type": "stream",
     "text": [
      "ntree_limit is deprecated, use `iteration_range` or model slicing instead.\n"
     ]
    }
   ],
   "source": [
    "import shap\n",
    "import numpy as np\n",
    "\n",
    "# Generate Shapley values\n",
    "explainer = shap.Explainer(best_model)\n",
    "shap_values = explainer(X)"
   ],
   "metadata": {
    "collapsed": false
   }
  },
  {
   "cell_type": "code",
   "execution_count": 142,
   "outputs": [
    {
     "data": {
      "text/plain": ".values =\narray([[-6.14417195e-01, -1.07647009e-01, -8.96000713e-02, ...,\n        -1.23644751e-02,  6.48894254e-03,  6.44573122e-02],\n       [-4.01042178e-02, -6.68558925e-02,  8.15624669e-02, ...,\n        -7.13172629e-02,  1.12182824e-02, -2.36332673e-03],\n       [-1.22391188e+00,  3.59972045e-02,  8.33280291e-03, ...,\n         2.85950415e-02,  1.04355039e-02, -6.46168739e-03],\n       ...,\n       [ 1.51008248e-01,  1.01002909e-01, -2.31086593e-02, ...,\n         5.64009584e-02,  1.05127813e-02, -6.46924302e-02],\n       [ 3.76244895e-02, -7.54593057e-04,  8.16535205e-02, ...,\n         1.06938146e-01,  6.30442845e-03,  3.02827787e-02],\n       [ 2.36923695e-01,  1.04050718e-01,  1.64596252e-02, ...,\n        -5.35444357e-02,  8.89453478e-03, -1.31306812e-01]], dtype=float32)\n\n.base_values =\narray([-0.01637657, -0.01637657, -0.01637657, ..., -0.01637657,\n       -0.01637657, -0.01637657], dtype=float32)\n\n.data =\narray([[ 4.,  4.,  4., ...,  1.,  0.,  4.],\n       [19.,  3.,  2., ...,  0.,  0.,  4.],\n       [19.,  2.,  1., ...,  0.,  0.,  3.],\n       ...,\n       [ 4.,  3.,  4., ...,  1.,  0.,  7.],\n       [ 5.,  3.,  2., ...,  1.,  0.,  5.],\n       [19.,  2.,  1., ...,  0.,  0.,  5.]])"
     },
     "execution_count": 142,
     "metadata": {},
     "output_type": "execute_result"
    }
   ],
   "source": [
    "shap_values   # Can we export these values as a csv? Trying to find a way to not have to run them each time"
   ],
   "metadata": {
    "collapsed": false
   }
  },
  {
   "cell_type": "code",
   "execution_count": 143,
   "outputs": [
    {
     "data": {
      "text/plain": "0"
     },
     "execution_count": 143,
     "metadata": {},
     "output_type": "execute_result"
    }
   ],
   "source": [
    "import os\n",
    "os.system('say \"Work complete\"')"
   ],
   "metadata": {
    "collapsed": false
   }
  },
  {
   "cell_type": "code",
   "execution_count": 145,
   "outputs": [
    {
     "data": {
      "text/plain": "           feature_name  feature_importance  feature_importance_out_of_100\n0              SERVICES            1.169295                       0.221355\n1                STFIPS            0.808112                       0.152981\n2               PSOURCE            0.297946                       0.056403\n3               NOPRIOR            0.260033                       0.049226\n4               HLTHINS            0.209499                       0.039660\n5                 FREQ1            0.171629                       0.032491\n6               DSMCRIT            0.164464                       0.031134\n7   FREQ_ATND_SELF_HELP            0.139806                       0.026466\n8               PRIMINC            0.130791                       0.024760\n9               PRIMPAY            0.129681                       0.024550\n10              DAYWAIT            0.118846                       0.022498\n11                  AGE            0.105291                       0.019932\n12              PSYPROB            0.100620                       0.019048\n13              LIVARAG            0.099050                       0.018751\n14            DETEMPLOY            0.099006                       0.018742\n15                 SUB2            0.088223                       0.016701\n16             FRSTUSE1            0.079517                       0.015053\n17                 SUB3            0.075205                       0.014237\n18              ARRESTS            0.071864                       0.013604\n19                FREQ2            0.064924                       0.012290\n20              MARSTAT            0.063794                       0.012077\n21              DETCRIM            0.061273                       0.011599\n22             MTHAMFLG            0.060145                       0.011386\n23                FREQ3            0.059108                       0.011189\n24                 EDUC            0.051913                       0.009827\n25               HERFLG            0.051850                       0.009816\n26                 RACE            0.051645                       0.009777\n27                 PREG            0.051288                       0.009709\n28             FRSTUSE2            0.046171                       0.008740\n29               ROUTE3            0.043593                       0.008252\n30               ROUTE1            0.042054                       0.007961\n31                  IDU            0.038171                       0.007226\n32               ROUTE2            0.035611                       0.006741\n33             FRSTUSE3            0.035288                       0.006680\n34               MARFLG            0.033332                       0.006310\n35                 SUB1            0.028029                       0.005306\n36               ALCFLG            0.024488                       0.004636\n37               ETHNIC            0.022293                       0.004220\n38             OPSYNFLG            0.021677                       0.004104\n39               GENDER            0.021095                       0.003993\n40              COKEFLG            0.013388                       0.002534\n41              ALCDRUG            0.010694                       0.002024\n42                  VET            0.009283                       0.001757\n43              BENZFLG            0.008733                       0.001653\n44             OTHERFLG            0.003872                       0.000733\n45              METHFLG            0.003580                       0.000678\n46              STIMFLG            0.002831                       0.000536\n47              AMPHFLG            0.001696                       0.000321\n48             SEDHPFLG            0.001067                       0.000202\n49               PCPFLG            0.000306                       0.000058\n50              HALLFLG            0.000160                       0.000030\n51               OTCFLG            0.000090                       0.000017\n52              TRNQFLG            0.000058                       0.000011\n53              BARBFLG            0.000048                       0.000009\n54               INHFLG            0.000019                       0.000004",
      "text/html": "<div>\n<style scoped>\n    .dataframe tbody tr th:only-of-type {\n        vertical-align: middle;\n    }\n\n    .dataframe tbody tr th {\n        vertical-align: top;\n    }\n\n    .dataframe thead th {\n        text-align: right;\n    }\n</style>\n<table border=\"1\" class=\"dataframe\">\n  <thead>\n    <tr style=\"text-align: right;\">\n      <th></th>\n      <th>feature_name</th>\n      <th>feature_importance</th>\n      <th>feature_importance_out_of_100</th>\n    </tr>\n  </thead>\n  <tbody>\n    <tr>\n      <th>0</th>\n      <td>SERVICES</td>\n      <td>1.169295</td>\n      <td>0.221355</td>\n    </tr>\n    <tr>\n      <th>1</th>\n      <td>STFIPS</td>\n      <td>0.808112</td>\n      <td>0.152981</td>\n    </tr>\n    <tr>\n      <th>2</th>\n      <td>PSOURCE</td>\n      <td>0.297946</td>\n      <td>0.056403</td>\n    </tr>\n    <tr>\n      <th>3</th>\n      <td>NOPRIOR</td>\n      <td>0.260033</td>\n      <td>0.049226</td>\n    </tr>\n    <tr>\n      <th>4</th>\n      <td>HLTHINS</td>\n      <td>0.209499</td>\n      <td>0.039660</td>\n    </tr>\n    <tr>\n      <th>5</th>\n      <td>FREQ1</td>\n      <td>0.171629</td>\n      <td>0.032491</td>\n    </tr>\n    <tr>\n      <th>6</th>\n      <td>DSMCRIT</td>\n      <td>0.164464</td>\n      <td>0.031134</td>\n    </tr>\n    <tr>\n      <th>7</th>\n      <td>FREQ_ATND_SELF_HELP</td>\n      <td>0.139806</td>\n      <td>0.026466</td>\n    </tr>\n    <tr>\n      <th>8</th>\n      <td>PRIMINC</td>\n      <td>0.130791</td>\n      <td>0.024760</td>\n    </tr>\n    <tr>\n      <th>9</th>\n      <td>PRIMPAY</td>\n      <td>0.129681</td>\n      <td>0.024550</td>\n    </tr>\n    <tr>\n      <th>10</th>\n      <td>DAYWAIT</td>\n      <td>0.118846</td>\n      <td>0.022498</td>\n    </tr>\n    <tr>\n      <th>11</th>\n      <td>AGE</td>\n      <td>0.105291</td>\n      <td>0.019932</td>\n    </tr>\n    <tr>\n      <th>12</th>\n      <td>PSYPROB</td>\n      <td>0.100620</td>\n      <td>0.019048</td>\n    </tr>\n    <tr>\n      <th>13</th>\n      <td>LIVARAG</td>\n      <td>0.099050</td>\n      <td>0.018751</td>\n    </tr>\n    <tr>\n      <th>14</th>\n      <td>DETEMPLOY</td>\n      <td>0.099006</td>\n      <td>0.018742</td>\n    </tr>\n    <tr>\n      <th>15</th>\n      <td>SUB2</td>\n      <td>0.088223</td>\n      <td>0.016701</td>\n    </tr>\n    <tr>\n      <th>16</th>\n      <td>FRSTUSE1</td>\n      <td>0.079517</td>\n      <td>0.015053</td>\n    </tr>\n    <tr>\n      <th>17</th>\n      <td>SUB3</td>\n      <td>0.075205</td>\n      <td>0.014237</td>\n    </tr>\n    <tr>\n      <th>18</th>\n      <td>ARRESTS</td>\n      <td>0.071864</td>\n      <td>0.013604</td>\n    </tr>\n    <tr>\n      <th>19</th>\n      <td>FREQ2</td>\n      <td>0.064924</td>\n      <td>0.012290</td>\n    </tr>\n    <tr>\n      <th>20</th>\n      <td>MARSTAT</td>\n      <td>0.063794</td>\n      <td>0.012077</td>\n    </tr>\n    <tr>\n      <th>21</th>\n      <td>DETCRIM</td>\n      <td>0.061273</td>\n      <td>0.011599</td>\n    </tr>\n    <tr>\n      <th>22</th>\n      <td>MTHAMFLG</td>\n      <td>0.060145</td>\n      <td>0.011386</td>\n    </tr>\n    <tr>\n      <th>23</th>\n      <td>FREQ3</td>\n      <td>0.059108</td>\n      <td>0.011189</td>\n    </tr>\n    <tr>\n      <th>24</th>\n      <td>EDUC</td>\n      <td>0.051913</td>\n      <td>0.009827</td>\n    </tr>\n    <tr>\n      <th>25</th>\n      <td>HERFLG</td>\n      <td>0.051850</td>\n      <td>0.009816</td>\n    </tr>\n    <tr>\n      <th>26</th>\n      <td>RACE</td>\n      <td>0.051645</td>\n      <td>0.009777</td>\n    </tr>\n    <tr>\n      <th>27</th>\n      <td>PREG</td>\n      <td>0.051288</td>\n      <td>0.009709</td>\n    </tr>\n    <tr>\n      <th>28</th>\n      <td>FRSTUSE2</td>\n      <td>0.046171</td>\n      <td>0.008740</td>\n    </tr>\n    <tr>\n      <th>29</th>\n      <td>ROUTE3</td>\n      <td>0.043593</td>\n      <td>0.008252</td>\n    </tr>\n    <tr>\n      <th>30</th>\n      <td>ROUTE1</td>\n      <td>0.042054</td>\n      <td>0.007961</td>\n    </tr>\n    <tr>\n      <th>31</th>\n      <td>IDU</td>\n      <td>0.038171</td>\n      <td>0.007226</td>\n    </tr>\n    <tr>\n      <th>32</th>\n      <td>ROUTE2</td>\n      <td>0.035611</td>\n      <td>0.006741</td>\n    </tr>\n    <tr>\n      <th>33</th>\n      <td>FRSTUSE3</td>\n      <td>0.035288</td>\n      <td>0.006680</td>\n    </tr>\n    <tr>\n      <th>34</th>\n      <td>MARFLG</td>\n      <td>0.033332</td>\n      <td>0.006310</td>\n    </tr>\n    <tr>\n      <th>35</th>\n      <td>SUB1</td>\n      <td>0.028029</td>\n      <td>0.005306</td>\n    </tr>\n    <tr>\n      <th>36</th>\n      <td>ALCFLG</td>\n      <td>0.024488</td>\n      <td>0.004636</td>\n    </tr>\n    <tr>\n      <th>37</th>\n      <td>ETHNIC</td>\n      <td>0.022293</td>\n      <td>0.004220</td>\n    </tr>\n    <tr>\n      <th>38</th>\n      <td>OPSYNFLG</td>\n      <td>0.021677</td>\n      <td>0.004104</td>\n    </tr>\n    <tr>\n      <th>39</th>\n      <td>GENDER</td>\n      <td>0.021095</td>\n      <td>0.003993</td>\n    </tr>\n    <tr>\n      <th>40</th>\n      <td>COKEFLG</td>\n      <td>0.013388</td>\n      <td>0.002534</td>\n    </tr>\n    <tr>\n      <th>41</th>\n      <td>ALCDRUG</td>\n      <td>0.010694</td>\n      <td>0.002024</td>\n    </tr>\n    <tr>\n      <th>42</th>\n      <td>VET</td>\n      <td>0.009283</td>\n      <td>0.001757</td>\n    </tr>\n    <tr>\n      <th>43</th>\n      <td>BENZFLG</td>\n      <td>0.008733</td>\n      <td>0.001653</td>\n    </tr>\n    <tr>\n      <th>44</th>\n      <td>OTHERFLG</td>\n      <td>0.003872</td>\n      <td>0.000733</td>\n    </tr>\n    <tr>\n      <th>45</th>\n      <td>METHFLG</td>\n      <td>0.003580</td>\n      <td>0.000678</td>\n    </tr>\n    <tr>\n      <th>46</th>\n      <td>STIMFLG</td>\n      <td>0.002831</td>\n      <td>0.000536</td>\n    </tr>\n    <tr>\n      <th>47</th>\n      <td>AMPHFLG</td>\n      <td>0.001696</td>\n      <td>0.000321</td>\n    </tr>\n    <tr>\n      <th>48</th>\n      <td>SEDHPFLG</td>\n      <td>0.001067</td>\n      <td>0.000202</td>\n    </tr>\n    <tr>\n      <th>49</th>\n      <td>PCPFLG</td>\n      <td>0.000306</td>\n      <td>0.000058</td>\n    </tr>\n    <tr>\n      <th>50</th>\n      <td>HALLFLG</td>\n      <td>0.000160</td>\n      <td>0.000030</td>\n    </tr>\n    <tr>\n      <th>51</th>\n      <td>OTCFLG</td>\n      <td>0.000090</td>\n      <td>0.000017</td>\n    </tr>\n    <tr>\n      <th>52</th>\n      <td>TRNQFLG</td>\n      <td>0.000058</td>\n      <td>0.000011</td>\n    </tr>\n    <tr>\n      <th>53</th>\n      <td>BARBFLG</td>\n      <td>0.000048</td>\n      <td>0.000009</td>\n    </tr>\n    <tr>\n      <th>54</th>\n      <td>INHFLG</td>\n      <td>0.000019</td>\n      <td>0.000004</td>\n    </tr>\n  </tbody>\n</table>\n</div>"
     },
     "execution_count": 145,
     "metadata": {},
     "output_type": "execute_result"
    }
   ],
   "source": [
    "def absolute_share(input_list):\n",
    "    absolute_list = [abs(i) for i in input_list]\n",
    "    absolute_share_list = [j/sum(absolute_list) for j in absolute_list]\n",
    "    return absolute_share_list\n",
    "\n",
    "# Show table of top Shapley values\n",
    "feature_names = X.columns\n",
    "result = pd.DataFrame(shap_values.values, columns=feature_names, index=X.index)\n",
    "# result.to_csv('shapley_results.csv', index=False)\n",
    "\n",
    "values = np.abs(result.values).mean(0)\n",
    "abs_values = absolute_share(np.abs(result.values).mean(0))\n",
    "shap_importance = pd.DataFrame(list(zip(feature_names, values, abs_values)), columns=['feature_name','feature_importance', 'feature_importance_out_of_100'])\n",
    "shap_importance.sort_values(by=['feature_importance'], ascending=False, inplace=True)\n",
    "shap_importance.reset_index(drop=True)"
   ],
   "metadata": {
    "collapsed": false
   }
  },
  {
   "cell_type": "code",
   "execution_count": 146,
   "outputs": [
    {
     "data": {
      "text/plain": "0.07963869985123616"
     },
     "execution_count": 146,
     "metadata": {},
     "output_type": "execute_result"
    }
   ],
   "source": [
    "# (-0.1199*12982 + -0.0953*13336 + 0.0634*53816 + -0.0368*4564)/(12982 + 13336 + 53816 + 4564)\n",
    "(0.1295*12982 + 0.0995*13336 + 0.0641*53816 + 0.0630*4564)/(12982 + 13336 + 53816 + 4564)"
   ],
   "metadata": {
    "collapsed": false
   }
  },
  {
   "cell_type": "code",
   "execution_count": 147,
   "outputs": [
    {
     "name": "stdout",
     "output_type": "stream",
     "text": [
      "{0: 'DependLiving', 1: 'Homeless', 2: 'IndependentLiving', 3: 'Unknown'}\n"
     ]
    },
    {
     "data": {
      "text/plain": "LIVARAG\n2    268885\n1     66100\n0     65813\n3     22688\ndtype: int64"
     },
     "execution_count": 147,
     "metadata": {},
     "output_type": "execute_result"
    }
   ],
   "source": [
    "livarag_dict = {0:'DependLiving', 1:'Homeless', 2:'IndependentLiving', 3:'Unknown'}\n",
    "print(livarag_dict)\n",
    "X.value_counts('LIVARAG')\n",
    "# df2.value_counts('LIVARAG')"
   ],
   "metadata": {
    "collapsed": false
   }
  },
  {
   "cell_type": "code",
   "execution_count": 148,
   "outputs": [
    {
     "data": {
      "text/plain": "           LIVARAG  absolute_livarag\nhomeless                            \n0        -0.128457          0.149513\n1        -0.096136          0.105528\n2         0.078390          0.079853\n3        -0.123680          0.161300",
      "text/html": "<div>\n<style scoped>\n    .dataframe tbody tr th:only-of-type {\n        vertical-align: middle;\n    }\n\n    .dataframe tbody tr th {\n        vertical-align: top;\n    }\n\n    .dataframe thead th {\n        text-align: right;\n    }\n</style>\n<table border=\"1\" class=\"dataframe\">\n  <thead>\n    <tr style=\"text-align: right;\">\n      <th></th>\n      <th>LIVARAG</th>\n      <th>absolute_livarag</th>\n    </tr>\n    <tr>\n      <th>homeless</th>\n      <th></th>\n      <th></th>\n    </tr>\n  </thead>\n  <tbody>\n    <tr>\n      <th>0</th>\n      <td>-0.128457</td>\n      <td>0.149513</td>\n    </tr>\n    <tr>\n      <th>1</th>\n      <td>-0.096136</td>\n      <td>0.105528</td>\n    </tr>\n    <tr>\n      <th>2</th>\n      <td>0.078390</td>\n      <td>0.079853</td>\n    </tr>\n    <tr>\n      <th>3</th>\n      <td>-0.123680</td>\n      <td>0.161300</td>\n    </tr>\n  </tbody>\n</table>\n</div>"
     },
     "execution_count": 148,
     "metadata": {},
     "output_type": "execute_result"
    }
   ],
   "source": [
    "# result = pd.read_csv('shapley_results.csv')\n",
    "result_homeless = result.copy()\n",
    "result_homeless.insert(0, 'homeless', X['LIVARAG'])\n",
    "result_homeless.insert(1, 'absolute_livarag', abs(result_homeless['LIVARAG']))\n",
    "result_homeless_grouped = result_homeless.groupby('homeless').mean()[['LIVARAG', 'absolute_livarag']]\n",
    "result_homeless_var = result_homeless_grouped.iloc[1]['LIVARAG']\n",
    "result_homeless_grouped"
   ],
   "metadata": {
    "collapsed": false
   }
  },
  {
   "cell_type": "code",
   "execution_count": 150,
   "outputs": [
    {
     "data": {
      "text/plain": "     homeless_shapley  housed_shapley  difference_shapley\nAK          -0.055358        0.049442           -0.104800\nAL          -0.066609        0.033245           -0.099854\nAR          -0.045466        0.032297           -0.077763\nCA          -0.158450        0.053071           -0.211521\nCO          -0.021190        0.037794           -0.058985\nCT          -0.080023        0.032898           -0.112921\nDC          -0.116890       -0.052680           -0.064209\nDE          -0.091809        0.056383           -0.148192\nGA          -0.111057        0.001415           -0.112471\nHI          -0.098834       -0.044641           -0.054193\nIA          -0.101672        0.016359           -0.118032\nID          -0.119816        0.011914           -0.131730\nIL          -0.145256       -0.069825           -0.075430\nIN          -0.125026        0.033729           -0.158756\nKS          -0.105221        0.020748           -0.125968\nKY          -0.114899        0.052957           -0.167855\nLA          -0.106424       -0.011155           -0.095268\nMA          -0.111383        0.049222           -0.160605\nMD          -0.164024        0.081754           -0.245778\nME          -0.020471        0.067789           -0.088260\nMI          -0.100128        0.032042           -0.132170\nMN          -0.018607       -0.007261           -0.011346\nMO          -0.104886        0.054892           -0.159778\nMS          -0.054201        0.034615           -0.088817\nMT          -0.019482        0.009486           -0.028968\nNC          -0.074169        0.059643           -0.133812\nND          -0.055402        0.013377           -0.068778\nNE          -0.144916       -0.031235           -0.113682\nNH          -0.074476       -0.021811           -0.052665\nNJ          -0.114060        0.055770           -0.169830\nNM          -0.179785       -0.056526           -0.123259\nNV          -0.036247       -0.015763           -0.020484\nNY          -0.039729        0.028165           -0.067893\nOH           0.005004        0.009368           -0.004364\nOK           0.011532        0.028711           -0.017179\nPA          -0.025846       -0.055573            0.029727\nPR          -0.132558        0.041833           -0.174391\nRI          -0.028326        0.080686           -0.109013\nSC          -0.049840        0.032186           -0.082026\nSD          -0.076423        0.026519           -0.102943\nTN          -0.047003        0.015407           -0.062411\nTX          -0.161867       -0.040913           -0.120954\nUT          -0.072992        0.046660           -0.119652\nVA          -0.074930        0.023529           -0.098459\nVT          -0.058992        0.027634           -0.086625\nWI          -0.103530        0.025347           -0.128877\nWY          -0.050587        0.029160           -0.079747\nUSA         -0.096136        0.037717           -0.133853",
      "text/html": "<div>\n<style scoped>\n    .dataframe tbody tr th:only-of-type {\n        vertical-align: middle;\n    }\n\n    .dataframe tbody tr th {\n        vertical-align: top;\n    }\n\n    .dataframe thead th {\n        text-align: right;\n    }\n</style>\n<table border=\"1\" class=\"dataframe\">\n  <thead>\n    <tr style=\"text-align: right;\">\n      <th></th>\n      <th>homeless_shapley</th>\n      <th>housed_shapley</th>\n      <th>difference_shapley</th>\n    </tr>\n  </thead>\n  <tbody>\n    <tr>\n      <th>AK</th>\n      <td>-0.055358</td>\n      <td>0.049442</td>\n      <td>-0.104800</td>\n    </tr>\n    <tr>\n      <th>AL</th>\n      <td>-0.066609</td>\n      <td>0.033245</td>\n      <td>-0.099854</td>\n    </tr>\n    <tr>\n      <th>AR</th>\n      <td>-0.045466</td>\n      <td>0.032297</td>\n      <td>-0.077763</td>\n    </tr>\n    <tr>\n      <th>CA</th>\n      <td>-0.158450</td>\n      <td>0.053071</td>\n      <td>-0.211521</td>\n    </tr>\n    <tr>\n      <th>CO</th>\n      <td>-0.021190</td>\n      <td>0.037794</td>\n      <td>-0.058985</td>\n    </tr>\n    <tr>\n      <th>CT</th>\n      <td>-0.080023</td>\n      <td>0.032898</td>\n      <td>-0.112921</td>\n    </tr>\n    <tr>\n      <th>DC</th>\n      <td>-0.116890</td>\n      <td>-0.052680</td>\n      <td>-0.064209</td>\n    </tr>\n    <tr>\n      <th>DE</th>\n      <td>-0.091809</td>\n      <td>0.056383</td>\n      <td>-0.148192</td>\n    </tr>\n    <tr>\n      <th>GA</th>\n      <td>-0.111057</td>\n      <td>0.001415</td>\n      <td>-0.112471</td>\n    </tr>\n    <tr>\n      <th>HI</th>\n      <td>-0.098834</td>\n      <td>-0.044641</td>\n      <td>-0.054193</td>\n    </tr>\n    <tr>\n      <th>IA</th>\n      <td>-0.101672</td>\n      <td>0.016359</td>\n      <td>-0.118032</td>\n    </tr>\n    <tr>\n      <th>ID</th>\n      <td>-0.119816</td>\n      <td>0.011914</td>\n      <td>-0.131730</td>\n    </tr>\n    <tr>\n      <th>IL</th>\n      <td>-0.145256</td>\n      <td>-0.069825</td>\n      <td>-0.075430</td>\n    </tr>\n    <tr>\n      <th>IN</th>\n      <td>-0.125026</td>\n      <td>0.033729</td>\n      <td>-0.158756</td>\n    </tr>\n    <tr>\n      <th>KS</th>\n      <td>-0.105221</td>\n      <td>0.020748</td>\n      <td>-0.125968</td>\n    </tr>\n    <tr>\n      <th>KY</th>\n      <td>-0.114899</td>\n      <td>0.052957</td>\n      <td>-0.167855</td>\n    </tr>\n    <tr>\n      <th>LA</th>\n      <td>-0.106424</td>\n      <td>-0.011155</td>\n      <td>-0.095268</td>\n    </tr>\n    <tr>\n      <th>MA</th>\n      <td>-0.111383</td>\n      <td>0.049222</td>\n      <td>-0.160605</td>\n    </tr>\n    <tr>\n      <th>MD</th>\n      <td>-0.164024</td>\n      <td>0.081754</td>\n      <td>-0.245778</td>\n    </tr>\n    <tr>\n      <th>ME</th>\n      <td>-0.020471</td>\n      <td>0.067789</td>\n      <td>-0.088260</td>\n    </tr>\n    <tr>\n      <th>MI</th>\n      <td>-0.100128</td>\n      <td>0.032042</td>\n      <td>-0.132170</td>\n    </tr>\n    <tr>\n      <th>MN</th>\n      <td>-0.018607</td>\n      <td>-0.007261</td>\n      <td>-0.011346</td>\n    </tr>\n    <tr>\n      <th>MO</th>\n      <td>-0.104886</td>\n      <td>0.054892</td>\n      <td>-0.159778</td>\n    </tr>\n    <tr>\n      <th>MS</th>\n      <td>-0.054201</td>\n      <td>0.034615</td>\n      <td>-0.088817</td>\n    </tr>\n    <tr>\n      <th>MT</th>\n      <td>-0.019482</td>\n      <td>0.009486</td>\n      <td>-0.028968</td>\n    </tr>\n    <tr>\n      <th>NC</th>\n      <td>-0.074169</td>\n      <td>0.059643</td>\n      <td>-0.133812</td>\n    </tr>\n    <tr>\n      <th>ND</th>\n      <td>-0.055402</td>\n      <td>0.013377</td>\n      <td>-0.068778</td>\n    </tr>\n    <tr>\n      <th>NE</th>\n      <td>-0.144916</td>\n      <td>-0.031235</td>\n      <td>-0.113682</td>\n    </tr>\n    <tr>\n      <th>NH</th>\n      <td>-0.074476</td>\n      <td>-0.021811</td>\n      <td>-0.052665</td>\n    </tr>\n    <tr>\n      <th>NJ</th>\n      <td>-0.114060</td>\n      <td>0.055770</td>\n      <td>-0.169830</td>\n    </tr>\n    <tr>\n      <th>NM</th>\n      <td>-0.179785</td>\n      <td>-0.056526</td>\n      <td>-0.123259</td>\n    </tr>\n    <tr>\n      <th>NV</th>\n      <td>-0.036247</td>\n      <td>-0.015763</td>\n      <td>-0.020484</td>\n    </tr>\n    <tr>\n      <th>NY</th>\n      <td>-0.039729</td>\n      <td>0.028165</td>\n      <td>-0.067893</td>\n    </tr>\n    <tr>\n      <th>OH</th>\n      <td>0.005004</td>\n      <td>0.009368</td>\n      <td>-0.004364</td>\n    </tr>\n    <tr>\n      <th>OK</th>\n      <td>0.011532</td>\n      <td>0.028711</td>\n      <td>-0.017179</td>\n    </tr>\n    <tr>\n      <th>PA</th>\n      <td>-0.025846</td>\n      <td>-0.055573</td>\n      <td>0.029727</td>\n    </tr>\n    <tr>\n      <th>PR</th>\n      <td>-0.132558</td>\n      <td>0.041833</td>\n      <td>-0.174391</td>\n    </tr>\n    <tr>\n      <th>RI</th>\n      <td>-0.028326</td>\n      <td>0.080686</td>\n      <td>-0.109013</td>\n    </tr>\n    <tr>\n      <th>SC</th>\n      <td>-0.049840</td>\n      <td>0.032186</td>\n      <td>-0.082026</td>\n    </tr>\n    <tr>\n      <th>SD</th>\n      <td>-0.076423</td>\n      <td>0.026519</td>\n      <td>-0.102943</td>\n    </tr>\n    <tr>\n      <th>TN</th>\n      <td>-0.047003</td>\n      <td>0.015407</td>\n      <td>-0.062411</td>\n    </tr>\n    <tr>\n      <th>TX</th>\n      <td>-0.161867</td>\n      <td>-0.040913</td>\n      <td>-0.120954</td>\n    </tr>\n    <tr>\n      <th>UT</th>\n      <td>-0.072992</td>\n      <td>0.046660</td>\n      <td>-0.119652</td>\n    </tr>\n    <tr>\n      <th>VA</th>\n      <td>-0.074930</td>\n      <td>0.023529</td>\n      <td>-0.098459</td>\n    </tr>\n    <tr>\n      <th>VT</th>\n      <td>-0.058992</td>\n      <td>0.027634</td>\n      <td>-0.086625</td>\n    </tr>\n    <tr>\n      <th>WI</th>\n      <td>-0.103530</td>\n      <td>0.025347</td>\n      <td>-0.128877</td>\n    </tr>\n    <tr>\n      <th>WY</th>\n      <td>-0.050587</td>\n      <td>0.029160</td>\n      <td>-0.079747</td>\n    </tr>\n    <tr>\n      <th>USA</th>\n      <td>-0.096136</td>\n      <td>0.037717</td>\n      <td>-0.133853</td>\n    </tr>\n  </tbody>\n</table>\n</div>"
     },
     "execution_count": 150,
     "metadata": {},
     "output_type": "execute_result"
    }
   ],
   "source": [
    "# Group by state for three known groups\n",
    "# Split into three dataframes\n",
    "df2_homeless = df2[df2['LIVARAG']=='Homeless'][['STFIPS']]\n",
    "df2_independent = df2[df2['LIVARAG']=='IndependentLiving'][['STFIPS']]\n",
    "df2_dependent = df2[df2['LIVARAG']=='DependLiving'][['STFIPS']]\n",
    "\n",
    "# Merge with Shapley values\n",
    "result_shapley = result[['LIVARAG']].rename(columns={'LIVARAG':'livarag_shapley'})\n",
    "result_state_homeless = pd.merge(result_shapley, df2_homeless, how='inner', left_index=True, right_index=True)\n",
    "result_state_independent = pd.merge(result_shapley, df2_independent, how='inner', left_index=True, right_index=True)\n",
    "result_state_dependent = pd.merge(result_shapley, df2_dependent, how='inner', left_index=True, right_index=True)\n",
    "result_state_housed = pd.concat([result_state_independent, result_state_dependent], axis=0)\n",
    "\n",
    "# Group to state-level averages and merge\n",
    "result_state_homeless_mean = result_state_homeless.groupby('STFIPS').mean().rename(columns={'livarag_shapley':'homeless_shapley'})\n",
    "result_state_housed_mean = result_state_housed.groupby('STFIPS').mean().rename(columns={'livarag_shapley':'housed_shapley'})\n",
    "result_state_mean = result_state_homeless_mean.copy()\n",
    "result_state_mean['housed_shapley'] = result_state_housed_mean['housed_shapley']\n",
    "\n",
    "# Add national averages\n",
    "homeless_avg = result_state_homeless['livarag_shapley'].mean()\n",
    "housed_avg = result_state_housed['livarag_shapley'].mean()\n",
    "national_avg = pd.DataFrame(data={'homeless_shapley':[homeless_avg], 'housed_shapley':housed_avg}, index=['USA'])\n",
    "result_state_mean = pd.concat([result_state_mean, national_avg], axis=0)\n",
    "\n",
    "# Calculate difference and ttest\n",
    "result_state_mean['difference_shapley'] = result_state_mean['homeless_shapley']-result_state_mean['housed_shapley']\n",
    "\n",
    "# Save, print results\n",
    "# result_state_mean.to_csv('shap_importance_by_state.csv')\n",
    "result_state_mean"
   ],
   "metadata": {
    "collapsed": false
   }
  },
  {
   "cell_type": "markdown",
   "source": [
    "### Add t-test"
   ],
   "metadata": {
    "collapsed": false
   }
  },
  {
   "cell_type": "code",
   "execution_count": 151,
   "outputs": [
    {
     "data": {
      "text/plain": "     Homeless    Housed  Difference       TStat    PValue Significance\nAK  -0.055358  0.049442   -0.104800  -18.704283  0.000000         ****\nAL  -0.066609  0.033245   -0.099854  -18.201098  0.000000         ****\nAR  -0.045466  0.032297   -0.077763  -11.423067  0.000000         ****\nCA  -0.158450  0.053071   -0.211521 -268.638088  0.000000         ****\nCO  -0.021190  0.037794   -0.058985  -23.730601  0.000000         ****\nCT  -0.080023  0.032898   -0.112921  -62.443598  0.000000         ****\nDC  -0.116890 -0.052680   -0.064209   -8.897108  0.000000         ****\nDE  -0.091809  0.056383   -0.148192  -37.738553  0.000000         ****\nGA  -0.111057  0.001415   -0.112471  -14.667945  0.000000         ****\nHI  -0.098834 -0.044641   -0.054193   -3.440540  0.000725         ****\nIA  -0.101672  0.016359   -0.118032  -24.489141  0.000000         ****\nID  -0.119816  0.011914   -0.131730   -2.749257  0.007697          ***\nIL  -0.145256 -0.069825   -0.075430  -22.132765  0.000000         ****\nIN  -0.125026  0.033729   -0.158756  -21.634786  0.000000         ****\nKS  -0.105221  0.020748   -0.125968   -8.786553  0.000000         ****\nKY  -0.114899  0.052957   -0.167855  -52.588493  0.000000         ****\nLA  -0.106424 -0.011155   -0.095268  -15.274474  0.000000         ****\nMA  -0.111383  0.049222   -0.160605 -240.596769  0.000000         ****\nMD  -0.164024  0.081754   -0.245778 -162.272825  0.000000         ****\nME  -0.020471  0.067789   -0.088260  -21.144592  0.000000         ****\nMI  -0.100128  0.032042   -0.132170  -49.273455  0.000000         ****\nMN  -0.018607 -0.007261   -0.011346   -4.006635  0.000062         ****\nMO  -0.104886  0.054892   -0.159778  -72.561699  0.000000         ****\nMS  -0.054201  0.034615   -0.088817  -16.075554  0.000000         ****\nMT  -0.019482  0.009486   -0.028968   -1.047481  0.298587             \nNC  -0.074169  0.059643   -0.133812  -58.978378  0.000000         ****\nND  -0.055402  0.013377   -0.068778   -2.233707  0.027980           **\nNE  -0.144916 -0.031235   -0.113682   -4.935876  0.000001         ****\nNH  -0.074476 -0.021811   -0.052665   -6.716264  0.000000         ****\nNJ  -0.114060  0.055770   -0.169830  -49.002215  0.000000         ****\nNM  -0.179784 -0.056526   -0.123259   -6.725213  0.000000         ****\nNV  -0.036247 -0.015763   -0.020484   -1.073952  0.283468             \nNY  -0.039729  0.028165   -0.067893 -105.550030  0.000000         ****\nOH   0.005004  0.009368   -0.004364   -1.152615  0.249112             \nOK   0.011532  0.028711   -0.017179   -3.883980  0.000107         ****\nPA  -0.025846 -0.055573    0.029727    5.286940  0.000000         ****\nPR  -0.132558  0.041833   -0.174391  -44.828043  0.000000         ****\nRI  -0.028326  0.080686   -0.109013  -30.944882  0.000000         ****\nSC  -0.049840  0.032186   -0.082026   -2.654057  0.010333           **\nSD  -0.076423  0.026519   -0.102943   -9.783280  0.000000         ****\nTN  -0.047003  0.015407   -0.062411  -33.566081  0.000000         ****\nTX  -0.161867 -0.040913   -0.120954  -26.570693  0.000000         ****\nUSA -0.096136  0.037717   -0.133853 -295.590062  0.000000         ****\nUT  -0.072992  0.046660   -0.119652  -42.662696  0.000000         ****\nVA  -0.074930  0.023529   -0.098459  -49.110511  0.000000         ****\nVT  -0.058992  0.027634   -0.086625  -23.881790  0.000000         ****\nWI  -0.103530  0.025347   -0.128877  -48.962373  0.000000         ****\nWY  -0.050587  0.029160   -0.079747   -7.784109  0.000000         ****",
      "text/html": "<div>\n<style scoped>\n    .dataframe tbody tr th:only-of-type {\n        vertical-align: middle;\n    }\n\n    .dataframe tbody tr th {\n        vertical-align: top;\n    }\n\n    .dataframe thead th {\n        text-align: right;\n    }\n</style>\n<table border=\"1\" class=\"dataframe\">\n  <thead>\n    <tr style=\"text-align: right;\">\n      <th></th>\n      <th>Homeless</th>\n      <th>Housed</th>\n      <th>Difference</th>\n      <th>TStat</th>\n      <th>PValue</th>\n      <th>Significance</th>\n    </tr>\n  </thead>\n  <tbody>\n    <tr>\n      <th>AK</th>\n      <td>-0.055358</td>\n      <td>0.049442</td>\n      <td>-0.104800</td>\n      <td>-18.704283</td>\n      <td>0.000000</td>\n      <td>****</td>\n    </tr>\n    <tr>\n      <th>AL</th>\n      <td>-0.066609</td>\n      <td>0.033245</td>\n      <td>-0.099854</td>\n      <td>-18.201098</td>\n      <td>0.000000</td>\n      <td>****</td>\n    </tr>\n    <tr>\n      <th>AR</th>\n      <td>-0.045466</td>\n      <td>0.032297</td>\n      <td>-0.077763</td>\n      <td>-11.423067</td>\n      <td>0.000000</td>\n      <td>****</td>\n    </tr>\n    <tr>\n      <th>CA</th>\n      <td>-0.158450</td>\n      <td>0.053071</td>\n      <td>-0.211521</td>\n      <td>-268.638088</td>\n      <td>0.000000</td>\n      <td>****</td>\n    </tr>\n    <tr>\n      <th>CO</th>\n      <td>-0.021190</td>\n      <td>0.037794</td>\n      <td>-0.058985</td>\n      <td>-23.730601</td>\n      <td>0.000000</td>\n      <td>****</td>\n    </tr>\n    <tr>\n      <th>CT</th>\n      <td>-0.080023</td>\n      <td>0.032898</td>\n      <td>-0.112921</td>\n      <td>-62.443598</td>\n      <td>0.000000</td>\n      <td>****</td>\n    </tr>\n    <tr>\n      <th>DC</th>\n      <td>-0.116890</td>\n      <td>-0.052680</td>\n      <td>-0.064209</td>\n      <td>-8.897108</td>\n      <td>0.000000</td>\n      <td>****</td>\n    </tr>\n    <tr>\n      <th>DE</th>\n      <td>-0.091809</td>\n      <td>0.056383</td>\n      <td>-0.148192</td>\n      <td>-37.738553</td>\n      <td>0.000000</td>\n      <td>****</td>\n    </tr>\n    <tr>\n      <th>GA</th>\n      <td>-0.111057</td>\n      <td>0.001415</td>\n      <td>-0.112471</td>\n      <td>-14.667945</td>\n      <td>0.000000</td>\n      <td>****</td>\n    </tr>\n    <tr>\n      <th>HI</th>\n      <td>-0.098834</td>\n      <td>-0.044641</td>\n      <td>-0.054193</td>\n      <td>-3.440540</td>\n      <td>0.000725</td>\n      <td>****</td>\n    </tr>\n    <tr>\n      <th>IA</th>\n      <td>-0.101672</td>\n      <td>0.016359</td>\n      <td>-0.118032</td>\n      <td>-24.489141</td>\n      <td>0.000000</td>\n      <td>****</td>\n    </tr>\n    <tr>\n      <th>ID</th>\n      <td>-0.119816</td>\n      <td>0.011914</td>\n      <td>-0.131730</td>\n      <td>-2.749257</td>\n      <td>0.007697</td>\n      <td>***</td>\n    </tr>\n    <tr>\n      <th>IL</th>\n      <td>-0.145256</td>\n      <td>-0.069825</td>\n      <td>-0.075430</td>\n      <td>-22.132765</td>\n      <td>0.000000</td>\n      <td>****</td>\n    </tr>\n    <tr>\n      <th>IN</th>\n      <td>-0.125026</td>\n      <td>0.033729</td>\n      <td>-0.158756</td>\n      <td>-21.634786</td>\n      <td>0.000000</td>\n      <td>****</td>\n    </tr>\n    <tr>\n      <th>KS</th>\n      <td>-0.105221</td>\n      <td>0.020748</td>\n      <td>-0.125968</td>\n      <td>-8.786553</td>\n      <td>0.000000</td>\n      <td>****</td>\n    </tr>\n    <tr>\n      <th>KY</th>\n      <td>-0.114899</td>\n      <td>0.052957</td>\n      <td>-0.167855</td>\n      <td>-52.588493</td>\n      <td>0.000000</td>\n      <td>****</td>\n    </tr>\n    <tr>\n      <th>LA</th>\n      <td>-0.106424</td>\n      <td>-0.011155</td>\n      <td>-0.095268</td>\n      <td>-15.274474</td>\n      <td>0.000000</td>\n      <td>****</td>\n    </tr>\n    <tr>\n      <th>MA</th>\n      <td>-0.111383</td>\n      <td>0.049222</td>\n      <td>-0.160605</td>\n      <td>-240.596769</td>\n      <td>0.000000</td>\n      <td>****</td>\n    </tr>\n    <tr>\n      <th>MD</th>\n      <td>-0.164024</td>\n      <td>0.081754</td>\n      <td>-0.245778</td>\n      <td>-162.272825</td>\n      <td>0.000000</td>\n      <td>****</td>\n    </tr>\n    <tr>\n      <th>ME</th>\n      <td>-0.020471</td>\n      <td>0.067789</td>\n      <td>-0.088260</td>\n      <td>-21.144592</td>\n      <td>0.000000</td>\n      <td>****</td>\n    </tr>\n    <tr>\n      <th>MI</th>\n      <td>-0.100128</td>\n      <td>0.032042</td>\n      <td>-0.132170</td>\n      <td>-49.273455</td>\n      <td>0.000000</td>\n      <td>****</td>\n    </tr>\n    <tr>\n      <th>MN</th>\n      <td>-0.018607</td>\n      <td>-0.007261</td>\n      <td>-0.011346</td>\n      <td>-4.006635</td>\n      <td>0.000062</td>\n      <td>****</td>\n    </tr>\n    <tr>\n      <th>MO</th>\n      <td>-0.104886</td>\n      <td>0.054892</td>\n      <td>-0.159778</td>\n      <td>-72.561699</td>\n      <td>0.000000</td>\n      <td>****</td>\n    </tr>\n    <tr>\n      <th>MS</th>\n      <td>-0.054201</td>\n      <td>0.034615</td>\n      <td>-0.088817</td>\n      <td>-16.075554</td>\n      <td>0.000000</td>\n      <td>****</td>\n    </tr>\n    <tr>\n      <th>MT</th>\n      <td>-0.019482</td>\n      <td>0.009486</td>\n      <td>-0.028968</td>\n      <td>-1.047481</td>\n      <td>0.298587</td>\n      <td></td>\n    </tr>\n    <tr>\n      <th>NC</th>\n      <td>-0.074169</td>\n      <td>0.059643</td>\n      <td>-0.133812</td>\n      <td>-58.978378</td>\n      <td>0.000000</td>\n      <td>****</td>\n    </tr>\n    <tr>\n      <th>ND</th>\n      <td>-0.055402</td>\n      <td>0.013377</td>\n      <td>-0.068778</td>\n      <td>-2.233707</td>\n      <td>0.027980</td>\n      <td>**</td>\n    </tr>\n    <tr>\n      <th>NE</th>\n      <td>-0.144916</td>\n      <td>-0.031235</td>\n      <td>-0.113682</td>\n      <td>-4.935876</td>\n      <td>0.000001</td>\n      <td>****</td>\n    </tr>\n    <tr>\n      <th>NH</th>\n      <td>-0.074476</td>\n      <td>-0.021811</td>\n      <td>-0.052665</td>\n      <td>-6.716264</td>\n      <td>0.000000</td>\n      <td>****</td>\n    </tr>\n    <tr>\n      <th>NJ</th>\n      <td>-0.114060</td>\n      <td>0.055770</td>\n      <td>-0.169830</td>\n      <td>-49.002215</td>\n      <td>0.000000</td>\n      <td>****</td>\n    </tr>\n    <tr>\n      <th>NM</th>\n      <td>-0.179784</td>\n      <td>-0.056526</td>\n      <td>-0.123259</td>\n      <td>-6.725213</td>\n      <td>0.000000</td>\n      <td>****</td>\n    </tr>\n    <tr>\n      <th>NV</th>\n      <td>-0.036247</td>\n      <td>-0.015763</td>\n      <td>-0.020484</td>\n      <td>-1.073952</td>\n      <td>0.283468</td>\n      <td></td>\n    </tr>\n    <tr>\n      <th>NY</th>\n      <td>-0.039729</td>\n      <td>0.028165</td>\n      <td>-0.067893</td>\n      <td>-105.550030</td>\n      <td>0.000000</td>\n      <td>****</td>\n    </tr>\n    <tr>\n      <th>OH</th>\n      <td>0.005004</td>\n      <td>0.009368</td>\n      <td>-0.004364</td>\n      <td>-1.152615</td>\n      <td>0.249112</td>\n      <td></td>\n    </tr>\n    <tr>\n      <th>OK</th>\n      <td>0.011532</td>\n      <td>0.028711</td>\n      <td>-0.017179</td>\n      <td>-3.883980</td>\n      <td>0.000107</td>\n      <td>****</td>\n    </tr>\n    <tr>\n      <th>PA</th>\n      <td>-0.025846</td>\n      <td>-0.055573</td>\n      <td>0.029727</td>\n      <td>5.286940</td>\n      <td>0.000000</td>\n      <td>****</td>\n    </tr>\n    <tr>\n      <th>PR</th>\n      <td>-0.132558</td>\n      <td>0.041833</td>\n      <td>-0.174391</td>\n      <td>-44.828043</td>\n      <td>0.000000</td>\n      <td>****</td>\n    </tr>\n    <tr>\n      <th>RI</th>\n      <td>-0.028326</td>\n      <td>0.080686</td>\n      <td>-0.109013</td>\n      <td>-30.944882</td>\n      <td>0.000000</td>\n      <td>****</td>\n    </tr>\n    <tr>\n      <th>SC</th>\n      <td>-0.049840</td>\n      <td>0.032186</td>\n      <td>-0.082026</td>\n      <td>-2.654057</td>\n      <td>0.010333</td>\n      <td>**</td>\n    </tr>\n    <tr>\n      <th>SD</th>\n      <td>-0.076423</td>\n      <td>0.026519</td>\n      <td>-0.102943</td>\n      <td>-9.783280</td>\n      <td>0.000000</td>\n      <td>****</td>\n    </tr>\n    <tr>\n      <th>TN</th>\n      <td>-0.047003</td>\n      <td>0.015407</td>\n      <td>-0.062411</td>\n      <td>-33.566081</td>\n      <td>0.000000</td>\n      <td>****</td>\n    </tr>\n    <tr>\n      <th>TX</th>\n      <td>-0.161867</td>\n      <td>-0.040913</td>\n      <td>-0.120954</td>\n      <td>-26.570693</td>\n      <td>0.000000</td>\n      <td>****</td>\n    </tr>\n    <tr>\n      <th>USA</th>\n      <td>-0.096136</td>\n      <td>0.037717</td>\n      <td>-0.133853</td>\n      <td>-295.590062</td>\n      <td>0.000000</td>\n      <td>****</td>\n    </tr>\n    <tr>\n      <th>UT</th>\n      <td>-0.072992</td>\n      <td>0.046660</td>\n      <td>-0.119652</td>\n      <td>-42.662696</td>\n      <td>0.000000</td>\n      <td>****</td>\n    </tr>\n    <tr>\n      <th>VA</th>\n      <td>-0.074930</td>\n      <td>0.023529</td>\n      <td>-0.098459</td>\n      <td>-49.110511</td>\n      <td>0.000000</td>\n      <td>****</td>\n    </tr>\n    <tr>\n      <th>VT</th>\n      <td>-0.058992</td>\n      <td>0.027634</td>\n      <td>-0.086625</td>\n      <td>-23.881790</td>\n      <td>0.000000</td>\n      <td>****</td>\n    </tr>\n    <tr>\n      <th>WI</th>\n      <td>-0.103530</td>\n      <td>0.025347</td>\n      <td>-0.128877</td>\n      <td>-48.962373</td>\n      <td>0.000000</td>\n      <td>****</td>\n    </tr>\n    <tr>\n      <th>WY</th>\n      <td>-0.050587</td>\n      <td>0.029160</td>\n      <td>-0.079747</td>\n      <td>-7.784109</td>\n      <td>0.000000</td>\n      <td>****</td>\n    </tr>\n  </tbody>\n</table>\n</div>"
     },
     "execution_count": 151,
     "metadata": {},
     "output_type": "execute_result"
    }
   ],
   "source": [
    "import numpy as np\n",
    "from scipy.stats import ttest_ind\n",
    "\n",
    "# Merge with Shapley values\n",
    "df2_1 = df2[df2['LIVARAG'] != 'Unknown']\n",
    "result_shapley = result[['LIVARAG']].rename(columns={'LIVARAG':'livarag_shapley'})\n",
    "result_state = pd.merge(result_shapley, df2_1[['STFIPS', 'LIVARAG']], how='inner', left_index=True, right_index=True)\n",
    "result_state['LIVARAG'] = result_state['LIVARAG'].replace(['IndependentLiving', 'DependLiving'], 'Housed')\n",
    "\n",
    "# Duplicate results listing them as national\n",
    "result_national = result_state.copy()\n",
    "result_national['STFIPS'] = 'USA'\n",
    "result_state_national = pd.concat([result_state, result_national])\n",
    "result_state_national = result_state_national.reset_index(drop=True)\n",
    "\n",
    "# Create assets for loop\n",
    "state_array = result_state_national['STFIPS'].sort_values().unique()\n",
    "state_list = state_array.tolist()\n",
    "state_list.append('USA')\n",
    "df_state = pd.DataFrame(columns=['Homeless', 'Housed', 'Difference', 'TStat', 'PValue', 'Significance'])\n",
    "\n",
    "# Loop through each state\n",
    "for s in state_list:\n",
    "    dftemp = result_state_national[result_state_national['STFIPS'] == s]\n",
    "\n",
    "    # Group by living arrangement and MOUD, then store those variables for later (if they exist)\n",
    "    dft_grouped = dftemp.groupby('LIVARAG')['livarag_shapley'].mean()\n",
    "\n",
    "    try:\n",
    "        homeless_moud = dft_grouped.loc['Homeless']\n",
    "    except KeyError:\n",
    "        print(f\"Insufficient homeless admissions to form a group in {s}\")\n",
    "        homeless_moud = np.nan\n",
    "\n",
    "    try:\n",
    "        housed_moud = dft_grouped.loc['Housed']\n",
    "    except KeyError:\n",
    "        print(f\"Insufficient housed admissions to form a group in {s}\")\n",
    "        housed_moud = np.nan\n",
    "\n",
    "    # Perform a t-test between the two groups\n",
    "    group_A_values = dftemp[dftemp['LIVARAG'] == 'Homeless']['livarag_shapley']\n",
    "    group_B_values = dftemp[dftemp['LIVARAG'] == 'Housed']['livarag_shapley']\n",
    "    t_stat, p_value = ttest_ind(group_A_values, group_B_values)\n",
    "\n",
    "    # Add significance based on p-value\n",
    "    if p_value < 0.001:\n",
    "        significance = '****'\n",
    "    elif p_value < 0.01:\n",
    "        significance = '***'\n",
    "    elif p_value < 0.05:\n",
    "        significance = '**'\n",
    "    elif p_value <0.1:\n",
    "        significance = '*'\n",
    "    else:\n",
    "        significance = ''\n",
    "\n",
    "    # Add values to a dictionary and round\n",
    "    dict_results = {'Homeless':homeless_moud, 'Housed':housed_moud, 'Difference':homeless_moud-housed_moud, 'TStat':t_stat, 'PValue':p_value}\n",
    "    for key, value in dict_results.items():\n",
    "        dict_results[key] = round(value, 6)\n",
    "\n",
    "    # Add significance and to dictionary and then dictionary to dataframe\n",
    "    dict_results['Significance'] = significance\n",
    "    df_state.loc[s] = dict_results\n",
    "\n",
    "# df_state.to_csv('shapley_with_ttest.csv') #uncomment to save file\n",
    "df_state"
   ],
   "metadata": {
    "collapsed": false,
    "pycharm": {
     "name": "#%%\n"
    }
   }
  },
  {
   "cell_type": "code",
   "execution_count": 152,
   "outputs": [
    {
     "data": {
      "text/plain": "                 livarag_shapley\nSTFIPS LIVARAG                  \nAK     Homeless              265\n       Housed               1007\nAL     Homeless              258\n       Housed               4034\nAR     Homeless              143\n...                          ...\nVT     Housed               2440\nWI     Homeless              394\n       Housed               3695\nWY     Homeless               23\n       Housed                431\n\n[94 rows x 1 columns]",
      "text/html": "<div>\n<style scoped>\n    .dataframe tbody tr th:only-of-type {\n        vertical-align: middle;\n    }\n\n    .dataframe tbody tr th {\n        vertical-align: top;\n    }\n\n    .dataframe thead th {\n        text-align: right;\n    }\n</style>\n<table border=\"1\" class=\"dataframe\">\n  <thead>\n    <tr style=\"text-align: right;\">\n      <th></th>\n      <th></th>\n      <th>livarag_shapley</th>\n    </tr>\n    <tr>\n      <th>STFIPS</th>\n      <th>LIVARAG</th>\n      <th></th>\n    </tr>\n  </thead>\n  <tbody>\n    <tr>\n      <th rowspan=\"2\" valign=\"top\">AK</th>\n      <th>Homeless</th>\n      <td>265</td>\n    </tr>\n    <tr>\n      <th>Housed</th>\n      <td>1007</td>\n    </tr>\n    <tr>\n      <th rowspan=\"2\" valign=\"top\">AL</th>\n      <th>Homeless</th>\n      <td>258</td>\n    </tr>\n    <tr>\n      <th>Housed</th>\n      <td>4034</td>\n    </tr>\n    <tr>\n      <th>AR</th>\n      <th>Homeless</th>\n      <td>143</td>\n    </tr>\n    <tr>\n      <th>...</th>\n      <th>...</th>\n      <td>...</td>\n    </tr>\n    <tr>\n      <th>VT</th>\n      <th>Housed</th>\n      <td>2440</td>\n    </tr>\n    <tr>\n      <th rowspan=\"2\" valign=\"top\">WI</th>\n      <th>Homeless</th>\n      <td>394</td>\n    </tr>\n    <tr>\n      <th>Housed</th>\n      <td>3695</td>\n    </tr>\n    <tr>\n      <th rowspan=\"2\" valign=\"top\">WY</th>\n      <th>Homeless</th>\n      <td>23</td>\n    </tr>\n    <tr>\n      <th>Housed</th>\n      <td>431</td>\n    </tr>\n  </tbody>\n</table>\n<p>94 rows × 1 columns</p>\n</div>"
     },
     "execution_count": 152,
     "metadata": {},
     "output_type": "execute_result"
    }
   ],
   "source": [
    "result_state.groupby(['STFIPS', 'LIVARAG']).count()"
   ],
   "metadata": {
    "collapsed": false,
    "pycharm": {
     "name": "#%%\n"
    }
   }
  },
  {
   "cell_type": "markdown",
   "source": [
    "# Plot Shapley values"
   ],
   "metadata": {
    "collapsed": false
   }
  },
  {
   "cell_type": "code",
   "execution_count": 157,
   "outputs": [
    {
     "data": {
      "text/plain": "<Figure size 432x360 with 1 Axes>",
      "image/png": "[encoded data removed]"
     },
     "metadata": {
      "needs_background": "light"
     },
     "output_type": "display_data"
    }
   ],
   "source": [
    "# Show dependence plots for the top n features across all observations\n",
    "# NOTE: In order to get dependence plot to work, you must revert to matplotlib==3.1.3\n",
    "# Examples of dependence plots: https://slundberg.github.io/shap/notebooks/plots/dependence_plot.html\n",
    "\n",
    "shap.dependence_plot('LIVARAG', shap_values.values, X, x_jitter=0.3, alpha=0.005, interaction_index=None)"
   ],
   "metadata": {
    "collapsed": false
   }
  },
  {
   "cell_type": "code",
   "execution_count": 154,
   "outputs": [
    {
     "data": {
      "text/plain": "           feature_name  feature_importance  feature_importance_out_of_100\n3              SERVICES            1.169295                       0.221355\n0                STFIPS            0.808112                       0.152981\n6               PSOURCE            0.297946                       0.056403\n5               NOPRIOR            0.260033                       0.049226\n31              HLTHINS            0.209499                       0.039660\n25                FREQ1            0.171629                       0.032491\n14              DSMCRIT            0.164464                       0.031134\n33  FREQ_ATND_SELF_HELP            0.139806                       0.026466\n18              PRIMINC            0.130791                       0.024760\n32              PRIMPAY            0.129681                       0.024550\n13              DAYWAIT            0.118846                       0.022498\n15                  AGE            0.105291                       0.019932\n8               PSYPROB            0.100620                       0.019048\n12              LIVARAG            0.099050                       0.018751\n54            DETEMPLOY            0.099006                       0.018742\n20                 SUB2            0.088223                       0.016701\n28             FRSTUSE1            0.079517                       0.015053\n21                 SUB3            0.075205                       0.014237\n7               ARRESTS            0.071864                       0.013604\n26                FREQ2            0.064924                       0.012290\n2               MARSTAT            0.063794                       0.012077\n4               DETCRIM            0.061273                       0.011599\n42             MTHAMFLG            0.060145                       0.011386\n27                FREQ3            0.059108                       0.011189\n1                  EDUC            0.051913                       0.009827\n37               HERFLG            0.051850                       0.009816\n16                 RACE            0.051645                       0.009777\n9                  PREG            0.051288                       0.009709\n29             FRSTUSE2            0.046171                       0.008740\n24               ROUTE3            0.043593                       0.008252\n22               ROUTE1            0.042054                       0.007961\n52                  IDU            0.038171                       0.007226\n23               ROUTE2            0.035611                       0.006741\n30             FRSTUSE3            0.035288                       0.006680\n36               MARFLG            0.033332                       0.006310\n19                 SUB1            0.028029                       0.005306\n34               ALCFLG            0.024488                       0.004636\n17               ETHNIC            0.022293                       0.004220\n39             OPSYNFLG            0.021677                       0.004104\n10               GENDER            0.021095                       0.003993\n35              COKEFLG            0.013388                       0.002534\n53              ALCDRUG            0.010694                       0.002024\n11                  VET            0.009283                       0.001757\n45              BENZFLG            0.008733                       0.001653\n51             OTHERFLG            0.003872                       0.000733\n38              METHFLG            0.003580                       0.000678\n44              STIMFLG            0.002831                       0.000536\n43              AMPHFLG            0.001696                       0.000321\n48             SEDHPFLG            0.001067                       0.000202\n40               PCPFLG            0.000306                       0.000058\n41              HALLFLG            0.000160                       0.000030\n50               OTCFLG            0.000090                       0.000017\n46              TRNQFLG            0.000058                       0.000011\n47              BARBFLG            0.000048                       0.000009\n49               INHFLG            0.000019                       0.000004",
      "text/html": "<div>\n<style scoped>\n    .dataframe tbody tr th:only-of-type {\n        vertical-align: middle;\n    }\n\n    .dataframe tbody tr th {\n        vertical-align: top;\n    }\n\n    .dataframe thead th {\n        text-align: right;\n    }\n</style>\n<table border=\"1\" class=\"dataframe\">\n  <thead>\n    <tr style=\"text-align: right;\">\n      <th></th>\n      <th>feature_name</th>\n      <th>feature_importance</th>\n      <th>feature_importance_out_of_100</th>\n    </tr>\n  </thead>\n  <tbody>\n    <tr>\n      <th>3</th>\n      <td>SERVICES</td>\n      <td>1.169295</td>\n      <td>0.221355</td>\n    </tr>\n    <tr>\n      <th>0</th>\n      <td>STFIPS</td>\n      <td>0.808112</td>\n      <td>0.152981</td>\n    </tr>\n    <tr>\n      <th>6</th>\n      <td>PSOURCE</td>\n      <td>0.297946</td>\n      <td>0.056403</td>\n    </tr>\n    <tr>\n      <th>5</th>\n      <td>NOPRIOR</td>\n      <td>0.260033</td>\n      <td>0.049226</td>\n    </tr>\n    <tr>\n      <th>31</th>\n      <td>HLTHINS</td>\n      <td>0.209499</td>\n      <td>0.039660</td>\n    </tr>\n    <tr>\n      <th>25</th>\n      <td>FREQ1</td>\n      <td>0.171629</td>\n      <td>0.032491</td>\n    </tr>\n    <tr>\n      <th>14</th>\n      <td>DSMCRIT</td>\n      <td>0.164464</td>\n      <td>0.031134</td>\n    </tr>\n    <tr>\n      <th>33</th>\n      <td>FREQ_ATND_SELF_HELP</td>\n      <td>0.139806</td>\n      <td>0.026466</td>\n    </tr>\n    <tr>\n      <th>18</th>\n      <td>PRIMINC</td>\n      <td>0.130791</td>\n      <td>0.024760</td>\n    </tr>\n    <tr>\n      <th>32</th>\n      <td>PRIMPAY</td>\n      <td>0.129681</td>\n      <td>0.024550</td>\n    </tr>\n    <tr>\n      <th>13</th>\n      <td>DAYWAIT</td>\n      <td>0.118846</td>\n      <td>0.022498</td>\n    </tr>\n    <tr>\n      <th>15</th>\n      <td>AGE</td>\n      <td>0.105291</td>\n      <td>0.019932</td>\n    </tr>\n    <tr>\n      <th>8</th>\n      <td>PSYPROB</td>\n      <td>0.100620</td>\n      <td>0.019048</td>\n    </tr>\n    <tr>\n      <th>12</th>\n      <td>LIVARAG</td>\n      <td>0.099050</td>\n      <td>0.018751</td>\n    </tr>\n    <tr>\n      <th>54</th>\n      <td>DETEMPLOY</td>\n      <td>0.099006</td>\n      <td>0.018742</td>\n    </tr>\n    <tr>\n      <th>20</th>\n      <td>SUB2</td>\n      <td>0.088223</td>\n      <td>0.016701</td>\n    </tr>\n    <tr>\n      <th>28</th>\n      <td>FRSTUSE1</td>\n      <td>0.079517</td>\n      <td>0.015053</td>\n    </tr>\n    <tr>\n      <th>21</th>\n      <td>SUB3</td>\n      <td>0.075205</td>\n      <td>0.014237</td>\n    </tr>\n    <tr>\n      <th>7</th>\n      <td>ARRESTS</td>\n      <td>0.071864</td>\n      <td>0.013604</td>\n    </tr>\n    <tr>\n      <th>26</th>\n      <td>FREQ2</td>\n      <td>0.064924</td>\n      <td>0.012290</td>\n    </tr>\n    <tr>\n      <th>2</th>\n      <td>MARSTAT</td>\n      <td>0.063794</td>\n      <td>0.012077</td>\n    </tr>\n    <tr>\n      <th>4</th>\n      <td>DETCRIM</td>\n      <td>0.061273</td>\n      <td>0.011599</td>\n    </tr>\n    <tr>\n      <th>42</th>\n      <td>MTHAMFLG</td>\n      <td>0.060145</td>\n      <td>0.011386</td>\n    </tr>\n    <tr>\n      <th>27</th>\n      <td>FREQ3</td>\n      <td>0.059108</td>\n      <td>0.011189</td>\n    </tr>\n    <tr>\n      <th>1</th>\n      <td>EDUC</td>\n      <td>0.051913</td>\n      <td>0.009827</td>\n    </tr>\n    <tr>\n      <th>37</th>\n      <td>HERFLG</td>\n      <td>0.051850</td>\n      <td>0.009816</td>\n    </tr>\n    <tr>\n      <th>16</th>\n      <td>RACE</td>\n      <td>0.051645</td>\n      <td>0.009777</td>\n    </tr>\n    <tr>\n      <th>9</th>\n      <td>PREG</td>\n      <td>0.051288</td>\n      <td>0.009709</td>\n    </tr>\n    <tr>\n      <th>29</th>\n      <td>FRSTUSE2</td>\n      <td>0.046171</td>\n      <td>0.008740</td>\n    </tr>\n    <tr>\n      <th>24</th>\n      <td>ROUTE3</td>\n      <td>0.043593</td>\n      <td>0.008252</td>\n    </tr>\n    <tr>\n      <th>22</th>\n      <td>ROUTE1</td>\n      <td>0.042054</td>\n      <td>0.007961</td>\n    </tr>\n    <tr>\n      <th>52</th>\n      <td>IDU</td>\n      <td>0.038171</td>\n      <td>0.007226</td>\n    </tr>\n    <tr>\n      <th>23</th>\n      <td>ROUTE2</td>\n      <td>0.035611</td>\n      <td>0.006741</td>\n    </tr>\n    <tr>\n      <th>30</th>\n      <td>FRSTUSE3</td>\n      <td>0.035288</td>\n      <td>0.006680</td>\n    </tr>\n    <tr>\n      <th>36</th>\n      <td>MARFLG</td>\n      <td>0.033332</td>\n      <td>0.006310</td>\n    </tr>\n    <tr>\n      <th>19</th>\n      <td>SUB1</td>\n      <td>0.028029</td>\n      <td>0.005306</td>\n    </tr>\n    <tr>\n      <th>34</th>\n      <td>ALCFLG</td>\n      <td>0.024488</td>\n      <td>0.004636</td>\n    </tr>\n    <tr>\n      <th>17</th>\n      <td>ETHNIC</td>\n      <td>0.022293</td>\n      <td>0.004220</td>\n    </tr>\n    <tr>\n      <th>39</th>\n      <td>OPSYNFLG</td>\n      <td>0.021677</td>\n      <td>0.004104</td>\n    </tr>\n    <tr>\n      <th>10</th>\n      <td>GENDER</td>\n      <td>0.021095</td>\n      <td>0.003993</td>\n    </tr>\n    <tr>\n      <th>35</th>\n      <td>COKEFLG</td>\n      <td>0.013388</td>\n      <td>0.002534</td>\n    </tr>\n    <tr>\n      <th>53</th>\n      <td>ALCDRUG</td>\n      <td>0.010694</td>\n      <td>0.002024</td>\n    </tr>\n    <tr>\n      <th>11</th>\n      <td>VET</td>\n      <td>0.009283</td>\n      <td>0.001757</td>\n    </tr>\n    <tr>\n      <th>45</th>\n      <td>BENZFLG</td>\n      <td>0.008733</td>\n      <td>0.001653</td>\n    </tr>\n    <tr>\n      <th>51</th>\n      <td>OTHERFLG</td>\n      <td>0.003872</td>\n      <td>0.000733</td>\n    </tr>\n    <tr>\n      <th>38</th>\n      <td>METHFLG</td>\n      <td>0.003580</td>\n      <td>0.000678</td>\n    </tr>\n    <tr>\n      <th>44</th>\n      <td>STIMFLG</td>\n      <td>0.002831</td>\n      <td>0.000536</td>\n    </tr>\n    <tr>\n      <th>43</th>\n      <td>AMPHFLG</td>\n      <td>0.001696</td>\n      <td>0.000321</td>\n    </tr>\n    <tr>\n      <th>48</th>\n      <td>SEDHPFLG</td>\n      <td>0.001067</td>\n      <td>0.000202</td>\n    </tr>\n    <tr>\n      <th>40</th>\n      <td>PCPFLG</td>\n      <td>0.000306</td>\n      <td>0.000058</td>\n    </tr>\n    <tr>\n      <th>41</th>\n      <td>HALLFLG</td>\n      <td>0.000160</td>\n      <td>0.000030</td>\n    </tr>\n    <tr>\n      <th>50</th>\n      <td>OTCFLG</td>\n      <td>0.000090</td>\n      <td>0.000017</td>\n    </tr>\n    <tr>\n      <th>46</th>\n      <td>TRNQFLG</td>\n      <td>0.000058</td>\n      <td>0.000011</td>\n    </tr>\n    <tr>\n      <th>47</th>\n      <td>BARBFLG</td>\n      <td>0.000048</td>\n      <td>0.000009</td>\n    </tr>\n    <tr>\n      <th>49</th>\n      <td>INHFLG</td>\n      <td>0.000019</td>\n      <td>0.000004</td>\n    </tr>\n  </tbody>\n</table>\n</div>"
     },
     "execution_count": 154,
     "metadata": {},
     "output_type": "execute_result"
    }
   ],
   "source": [
    "shap_importance"
   ],
   "metadata": {
    "collapsed": false,
    "pycharm": {
     "name": "#%%\n"
    }
   }
  },
  {
   "cell_type": "code",
   "execution_count": 155,
   "outputs": [],
   "source": [
    "shap_importance\n",
    "# shap_importance.to_csv('shap_importance.csv', index=False)"
   ],
   "metadata": {
    "collapsed": false
   }
  },
  {
   "cell_type": "markdown",
   "source": [
    "# Grouped feature importance"
   ],
   "metadata": {
    "collapsed": false
   }
  },
  {
   "cell_type": "code",
   "execution_count": 5,
   "outputs": [
    {
     "data": {
      "text/plain": "           feature_name             feature_label       feature_category  \\\n0              SERVICES         treatment service   coordination of care   \n1                STFIPS                state code             geographic   \n2               PSOURCE           referral source   coordination of care   \n3               NOPRIOR          prior treatments        medical history   \n4               HLTHINS          health insurance               economic   \n5                 FREQ1         primary frequency  substance use history   \n6               DSMCRIT             dsm diagnosis        medical history   \n7   FREQ_ATND_SELF_HELP           self help group        medical history   \n8               PRIMINC             income source               economic   \n9               PRIMPAY            payment source               economic   \n10              DAYWAIT              days waiting   coordination of care   \n11                  AGE                       age            demographic   \n12              PSYPROB           mental disorder        medical history   \n13              LIVARAG        living arrangement               economic   \n14            DETEMPLOY                employment               economic   \n15                 SUB2       secondary substance  substance use history   \n16             FRSTUSE1         primary first use  substance use history   \n17                 SUB3        tertiary substance  substance use history   \n18              ARRESTS                   arrests       personal history   \n19                FREQ2       secondary frequency  substance use history   \n20              MARSTAT            marital status       personal history   \n21              DETCRIM  ciminal justice referral   coordination of care   \n22             MTHAMFLG           methamphetamine  substance use history   \n23                FREQ3        tertiary frequency  substance use history   \n24                 EDUC                 education       personal history   \n25               HERFLG                    heroin  substance use history   \n26                 RACE                      race            demographic   \n27                 PREG                  pregnant        medical history   \n28             FRSTUSE2       secondary first use  substance use history   \n29               ROUTE3            tertiary route  substance use history   \n30               ROUTE1             primary route  substance use history   \n31                  IDU                   iv drug  substance use history   \n32               ROUTE2           secondary route  substance use history   \n33             FRSTUSE3        tertiary first use  substance use history   \n34               MARFLG                 marijuana  substance use history   \n35                 SUB1         primary substance  substance use history   \n36               ALCFLG                   alcohol  substance use history   \n37               ETHNIC                 ethnicity            demographic   \n38             OPSYNFLG                   opiates  substance use history   \n39               GENDER                    gender            demographic   \n40              COKEFLG                   cocaine  substance use history   \n41              ALCDRUG        substance use type  substance use history   \n42                  VET            veteran status       personal history   \n43              BENZFLG           benzodiazepines  substance use history   \n44             OTHERFLG                other drug  substance use history   \n45              METHFLG                 methadone  substance use history   \n46              STIMFLG                stimulants  substance use history   \n47              AMPHFLG              amphetamines  substance use history   \n48             SEDHPFLG                 sedatives  substance use history   \n49               PCPFLG                       pcp  substance use history   \n50              HALLFLG             hallucinogens  substance use history   \n51               OTCFLG                  otc meds  substance use history   \n52              TRNQFLG             tranquilizers  substance use history   \n53              BARBFLG              barbiturates  substance use history   \n54               INHFLG                 inhalants  substance use history   \n\n    feature_importance  feature_importance_out_of_100  \n0             1.169295                       0.221355  \n1             0.808112                       0.152981  \n2             0.297946                       0.056403  \n3             0.260033                       0.049226  \n4             0.209499                       0.039660  \n5             0.171629                       0.032491  \n6             0.164464                       0.031134  \n7             0.139806                       0.026466  \n8             0.130791                       0.024760  \n9             0.129681                       0.024550  \n10            0.118846                       0.022498  \n11            0.105291                       0.019932  \n12            0.100620                       0.019048  \n13            0.099050                       0.018751  \n14            0.099006                       0.018742  \n15            0.088223                       0.016701  \n16            0.079517                       0.015053  \n17            0.075205                       0.014237  \n18            0.071864                       0.013604  \n19            0.064924                       0.012290  \n20            0.063794                       0.012077  \n21            0.061273                       0.011599  \n22            0.060145                       0.011386  \n23            0.059108                       0.011189  \n24            0.051913                       0.009827  \n25            0.051850                       0.009816  \n26            0.051645                       0.009777  \n27            0.051288                       0.009709  \n28            0.046171                       0.008740  \n29            0.043593                       0.008252  \n30            0.042054                       0.007961  \n31            0.038171                       0.007226  \n32            0.035611                       0.006741  \n33            0.035288                       0.006680  \n34            0.033332                       0.006310  \n35            0.028029                       0.005306  \n36            0.024488                       0.004636  \n37            0.022293                       0.004220  \n38            0.021677                       0.004104  \n39            0.021095                       0.003993  \n40            0.013388                       0.002534  \n41            0.010694                       0.002024  \n42            0.009283                       0.001757  \n43            0.008733                       0.001653  \n44            0.003872                       0.000733  \n45            0.003580                       0.000678  \n46            0.002831                       0.000536  \n47            0.001696                       0.000321  \n48            0.001067                       0.000202  \n49            0.000306                       0.000058  \n50            0.000160                       0.000030  \n51            0.000090                       0.000017  \n52            0.000058                       0.000011  \n53            0.000048                       0.000009  \n54            0.000019                       0.000004  ",
      "text/html": "<div>\n<style scoped>\n    .dataframe tbody tr th:only-of-type {\n        vertical-align: middle;\n    }\n\n    .dataframe tbody tr th {\n        vertical-align: top;\n    }\n\n    .dataframe thead th {\n        text-align: right;\n    }\n</style>\n<table border=\"1\" class=\"dataframe\">\n  <thead>\n    <tr style=\"text-align: right;\">\n      <th></th>\n      <th>feature_name</th>\n      <th>feature_label</th>\n      <th>feature_category</th>\n      <th>feature_importance</th>\n      <th>feature_importance_out_of_100</th>\n    </tr>\n  </thead>\n  <tbody>\n    <tr>\n      <th>0</th>\n      <td>SERVICES</td>\n      <td>treatment service</td>\n      <td>coordination of care</td>\n      <td>1.169295</td>\n      <td>0.221355</td>\n    </tr>\n    <tr>\n      <th>1</th>\n      <td>STFIPS</td>\n      <td>state code</td>\n      <td>geographic</td>\n      <td>0.808112</td>\n      <td>0.152981</td>\n    </tr>\n    <tr>\n      <th>2</th>\n      <td>PSOURCE</td>\n      <td>referral source</td>\n      <td>coordination of care</td>\n      <td>0.297946</td>\n      <td>0.056403</td>\n    </tr>\n    <tr>\n      <th>3</th>\n      <td>NOPRIOR</td>\n      <td>prior treatments</td>\n      <td>medical history</td>\n      <td>0.260033</td>\n      <td>0.049226</td>\n    </tr>\n    <tr>\n      <th>4</th>\n      <td>HLTHINS</td>\n      <td>health insurance</td>\n      <td>economic</td>\n      <td>0.209499</td>\n      <td>0.039660</td>\n    </tr>\n    <tr>\n      <th>5</th>\n      <td>FREQ1</td>\n      <td>primary frequency</td>\n      <td>substance use history</td>\n      <td>0.171629</td>\n      <td>0.032491</td>\n    </tr>\n    <tr>\n      <th>6</th>\n      <td>DSMCRIT</td>\n      <td>dsm diagnosis</td>\n      <td>medical history</td>\n      <td>0.164464</td>\n      <td>0.031134</td>\n    </tr>\n    <tr>\n      <th>7</th>\n      <td>FREQ_ATND_SELF_HELP</td>\n      <td>self help group</td>\n      <td>medical history</td>\n      <td>0.139806</td>\n      <td>0.026466</td>\n    </tr>\n    <tr>\n      <th>8</th>\n      <td>PRIMINC</td>\n      <td>income source</td>\n      <td>economic</td>\n      <td>0.130791</td>\n      <td>0.024760</td>\n    </tr>\n    <tr>\n      <th>9</th>\n      <td>PRIMPAY</td>\n      <td>payment source</td>\n      <td>economic</td>\n      <td>0.129681</td>\n      <td>0.024550</td>\n    </tr>\n    <tr>\n      <th>10</th>\n      <td>DAYWAIT</td>\n      <td>days waiting</td>\n      <td>coordination of care</td>\n      <td>0.118846</td>\n      <td>0.022498</td>\n    </tr>\n    <tr>\n      <th>11</th>\n      <td>AGE</td>\n      <td>age</td>\n      <td>demographic</td>\n      <td>0.105291</td>\n      <td>0.019932</td>\n    </tr>\n    <tr>\n      <th>12</th>\n      <td>PSYPROB</td>\n      <td>mental disorder</td>\n      <td>medical history</td>\n      <td>0.100620</td>\n      <td>0.019048</td>\n    </tr>\n    <tr>\n      <th>13</th>\n      <td>LIVARAG</td>\n      <td>living arrangement</td>\n      <td>economic</td>\n      <td>0.099050</td>\n      <td>0.018751</td>\n    </tr>\n    <tr>\n      <th>14</th>\n      <td>DETEMPLOY</td>\n      <td>employment</td>\n      <td>economic</td>\n      <td>0.099006</td>\n      <td>0.018742</td>\n    </tr>\n    <tr>\n      <th>15</th>\n      <td>SUB2</td>\n      <td>secondary substance</td>\n      <td>substance use history</td>\n      <td>0.088223</td>\n      <td>0.016701</td>\n    </tr>\n    <tr>\n      <th>16</th>\n      <td>FRSTUSE1</td>\n      <td>primary first use</td>\n      <td>substance use history</td>\n      <td>0.079517</td>\n      <td>0.015053</td>\n    </tr>\n    <tr>\n      <th>17</th>\n      <td>SUB3</td>\n      <td>tertiary substance</td>\n      <td>substance use history</td>\n      <td>0.075205</td>\n      <td>0.014237</td>\n    </tr>\n    <tr>\n      <th>18</th>\n      <td>ARRESTS</td>\n      <td>arrests</td>\n      <td>personal history</td>\n      <td>0.071864</td>\n      <td>0.013604</td>\n    </tr>\n    <tr>\n      <th>19</th>\n      <td>FREQ2</td>\n      <td>secondary frequency</td>\n      <td>substance use history</td>\n      <td>0.064924</td>\n      <td>0.012290</td>\n    </tr>\n    <tr>\n      <th>20</th>\n      <td>MARSTAT</td>\n      <td>marital status</td>\n      <td>personal history</td>\n      <td>0.063794</td>\n      <td>0.012077</td>\n    </tr>\n    <tr>\n      <th>21</th>\n      <td>DETCRIM</td>\n      <td>ciminal justice referral</td>\n      <td>coordination of care</td>\n      <td>0.061273</td>\n      <td>0.011599</td>\n    </tr>\n    <tr>\n      <th>22</th>\n      <td>MTHAMFLG</td>\n      <td>methamphetamine</td>\n      <td>substance use history</td>\n      <td>0.060145</td>\n      <td>0.011386</td>\n    </tr>\n    <tr>\n      <th>23</th>\n      <td>FREQ3</td>\n      <td>tertiary frequency</td>\n      <td>substance use history</td>\n      <td>0.059108</td>\n      <td>0.011189</td>\n    </tr>\n    <tr>\n      <th>24</th>\n      <td>EDUC</td>\n      <td>education</td>\n      <td>personal history</td>\n      <td>0.051913</td>\n      <td>0.009827</td>\n    </tr>\n    <tr>\n      <th>25</th>\n      <td>HERFLG</td>\n      <td>heroin</td>\n      <td>substance use history</td>\n      <td>0.051850</td>\n      <td>0.009816</td>\n    </tr>\n    <tr>\n      <th>26</th>\n      <td>RACE</td>\n      <td>race</td>\n      <td>demographic</td>\n      <td>0.051645</td>\n      <td>0.009777</td>\n    </tr>\n    <tr>\n      <th>27</th>\n      <td>PREG</td>\n      <td>pregnant</td>\n      <td>medical history</td>\n      <td>0.051288</td>\n      <td>0.009709</td>\n    </tr>\n    <tr>\n      <th>28</th>\n      <td>FRSTUSE2</td>\n      <td>secondary first use</td>\n      <td>substance use history</td>\n      <td>0.046171</td>\n      <td>0.008740</td>\n    </tr>\n    <tr>\n      <th>29</th>\n      <td>ROUTE3</td>\n      <td>tertiary route</td>\n      <td>substance use history</td>\n      <td>0.043593</td>\n      <td>0.008252</td>\n    </tr>\n    <tr>\n      <th>30</th>\n      <td>ROUTE1</td>\n      <td>primary route</td>\n      <td>substance use history</td>\n      <td>0.042054</td>\n      <td>0.007961</td>\n    </tr>\n    <tr>\n      <th>31</th>\n      <td>IDU</td>\n      <td>iv drug</td>\n      <td>substance use history</td>\n      <td>0.038171</td>\n      <td>0.007226</td>\n    </tr>\n    <tr>\n      <th>32</th>\n      <td>ROUTE2</td>\n      <td>secondary route</td>\n      <td>substance use history</td>\n      <td>0.035611</td>\n      <td>0.006741</td>\n    </tr>\n    <tr>\n      <th>33</th>\n      <td>FRSTUSE3</td>\n      <td>tertiary first use</td>\n      <td>substance use history</td>\n      <td>0.035288</td>\n      <td>0.006680</td>\n    </tr>\n    <tr>\n      <th>34</th>\n      <td>MARFLG</td>\n      <td>marijuana</td>\n      <td>substance use history</td>\n      <td>0.033332</td>\n      <td>0.006310</td>\n    </tr>\n    <tr>\n      <th>35</th>\n      <td>SUB1</td>\n      <td>primary substance</td>\n      <td>substance use history</td>\n      <td>0.028029</td>\n      <td>0.005306</td>\n    </tr>\n    <tr>\n      <th>36</th>\n      <td>ALCFLG</td>\n      <td>alcohol</td>\n      <td>substance use history</td>\n      <td>0.024488</td>\n      <td>0.004636</td>\n    </tr>\n    <tr>\n      <th>37</th>\n      <td>ETHNIC</td>\n      <td>ethnicity</td>\n      <td>demographic</td>\n      <td>0.022293</td>\n      <td>0.004220</td>\n    </tr>\n    <tr>\n      <th>38</th>\n      <td>OPSYNFLG</td>\n      <td>opiates</td>\n      <td>substance use history</td>\n      <td>0.021677</td>\n      <td>0.004104</td>\n    </tr>\n    <tr>\n      <th>39</th>\n      <td>GENDER</td>\n      <td>gender</td>\n      <td>demographic</td>\n      <td>0.021095</td>\n      <td>0.003993</td>\n    </tr>\n    <tr>\n      <th>40</th>\n      <td>COKEFLG</td>\n      <td>cocaine</td>\n      <td>substance use history</td>\n      <td>0.013388</td>\n      <td>0.002534</td>\n    </tr>\n    <tr>\n      <th>41</th>\n      <td>ALCDRUG</td>\n      <td>substance use type</td>\n      <td>substance use history</td>\n      <td>0.010694</td>\n      <td>0.002024</td>\n    </tr>\n    <tr>\n      <th>42</th>\n      <td>VET</td>\n      <td>veteran status</td>\n      <td>personal history</td>\n      <td>0.009283</td>\n      <td>0.001757</td>\n    </tr>\n    <tr>\n      <th>43</th>\n      <td>BENZFLG</td>\n      <td>benzodiazepines</td>\n      <td>substance use history</td>\n      <td>0.008733</td>\n      <td>0.001653</td>\n    </tr>\n    <tr>\n      <th>44</th>\n      <td>OTHERFLG</td>\n      <td>other drug</td>\n      <td>substance use history</td>\n      <td>0.003872</td>\n      <td>0.000733</td>\n    </tr>\n    <tr>\n      <th>45</th>\n      <td>METHFLG</td>\n      <td>methadone</td>\n      <td>substance use history</td>\n      <td>0.003580</td>\n      <td>0.000678</td>\n    </tr>\n    <tr>\n      <th>46</th>\n      <td>STIMFLG</td>\n      <td>stimulants</td>\n      <td>substance use history</td>\n      <td>0.002831</td>\n      <td>0.000536</td>\n    </tr>\n    <tr>\n      <th>47</th>\n      <td>AMPHFLG</td>\n      <td>amphetamines</td>\n      <td>substance use history</td>\n      <td>0.001696</td>\n      <td>0.000321</td>\n    </tr>\n    <tr>\n      <th>48</th>\n      <td>SEDHPFLG</td>\n      <td>sedatives</td>\n      <td>substance use history</td>\n      <td>0.001067</td>\n      <td>0.000202</td>\n    </tr>\n    <tr>\n      <th>49</th>\n      <td>PCPFLG</td>\n      <td>pcp</td>\n      <td>substance use history</td>\n      <td>0.000306</td>\n      <td>0.000058</td>\n    </tr>\n    <tr>\n      <th>50</th>\n      <td>HALLFLG</td>\n      <td>hallucinogens</td>\n      <td>substance use history</td>\n      <td>0.000160</td>\n      <td>0.000030</td>\n    </tr>\n    <tr>\n      <th>51</th>\n      <td>OTCFLG</td>\n      <td>otc meds</td>\n      <td>substance use history</td>\n      <td>0.000090</td>\n      <td>0.000017</td>\n    </tr>\n    <tr>\n      <th>52</th>\n      <td>TRNQFLG</td>\n      <td>tranquilizers</td>\n      <td>substance use history</td>\n      <td>0.000058</td>\n      <td>0.000011</td>\n    </tr>\n    <tr>\n      <th>53</th>\n      <td>BARBFLG</td>\n      <td>barbiturates</td>\n      <td>substance use history</td>\n      <td>0.000048</td>\n      <td>0.000009</td>\n    </tr>\n    <tr>\n      <th>54</th>\n      <td>INHFLG</td>\n      <td>inhalants</td>\n      <td>substance use history</td>\n      <td>0.000019</td>\n      <td>0.000004</td>\n    </tr>\n  </tbody>\n</table>\n</div>"
     },
     "execution_count": 5,
     "metadata": {},
     "output_type": "execute_result"
    }
   ],
   "source": [
    "import pandas as pd\n",
    "g = pd.read_csv('shap_importance_encoded.csv')  #update label and category, then regroup\n",
    "g"
   ],
   "metadata": {
    "collapsed": false
   }
  },
  {
   "cell_type": "code",
   "execution_count": 7,
   "outputs": [
    {
     "data": {
      "text/plain": "feature_category\ncoordination of care     0.311856\nsubstance use history    0.197930\ngeographic               0.152981\nmedical history          0.135583\neconomic                 0.126462\ndemographic              0.037923\npersonal history         0.037266\nName: feature_importance_out_of_100, dtype: float64"
     },
     "execution_count": 7,
     "metadata": {},
     "output_type": "execute_result"
    }
   ],
   "source": [
    "g_grouped = g.groupby('feature_category').sum()['feature_importance_out_of_100'].sort_values(ascending=False)\n",
    "# g_grouped.to_csv('shap_importance_grouped.csv')\n",
    "g_grouped"
   ],
   "metadata": {
    "collapsed": false
   }
  },
  {
   "cell_type": "code",
   "execution_count": 8,
   "outputs": [
    {
     "data": {
      "text/plain": "               feature_label  feature_importance_out_of_100\n0          treatment service                       0.221355\n1                 state code                       0.152981\n2            referral source                       0.056403\n3           prior treatments                       0.049226\n4           health insurance                       0.039660\n5          primary frequency                       0.032491\n6              dsm diagnosis                       0.031134\n7            self help group                       0.026466\n8              income source                       0.024760\n9             payment source                       0.024550\n10              days waiting                       0.022498\n11                       age                       0.019932\n12           mental disorder                       0.019048\n13        living arrangement                       0.018751\n14                employment                       0.018742\n15       secondary substance                       0.016701\n16         primary first use                       0.015053\n17        tertiary substance                       0.014237\n18                   arrests                       0.013604\n19       secondary frequency                       0.012290\n20            marital status                       0.012077\n21  ciminal justice referral                       0.011599\n22           methamphetamine                       0.011386\n23        tertiary frequency                       0.011189\n24                 education                       0.009827\n25                    heroin                       0.009816\n26                      race                       0.009777\n27                  pregnant                       0.009709\n28       secondary first use                       0.008740\n29            tertiary route                       0.008252\n30             primary route                       0.007961\n31                   iv drug                       0.007226\n32           secondary route                       0.006741\n33        tertiary first use                       0.006680\n34                 marijuana                       0.006310\n35         primary substance                       0.005306\n36                   alcohol                       0.004636\n37                 ethnicity                       0.004220\n38                   opiates                       0.004104\n39                    gender                       0.003993\n40                   cocaine                       0.002534\n41        substance use type                       0.002024\n42            veteran status                       0.001757\n43           benzodiazepines                       0.001653\n44                other drug                       0.000733\n45                 methadone                       0.000678\n46                stimulants                       0.000536\n47              amphetamines                       0.000321\n48                 sedatives                       0.000202\n49                       pcp                       0.000058\n50             hallucinogens                       0.000030\n51                  otc meds                       0.000017\n52             tranquilizers                       0.000011\n53              barbiturates                       0.000009\n54                 inhalants                       0.000004",
      "text/html": "<div>\n<style scoped>\n    .dataframe tbody tr th:only-of-type {\n        vertical-align: middle;\n    }\n\n    .dataframe tbody tr th {\n        vertical-align: top;\n    }\n\n    .dataframe thead th {\n        text-align: right;\n    }\n</style>\n<table border=\"1\" class=\"dataframe\">\n  <thead>\n    <tr style=\"text-align: right;\">\n      <th></th>\n      <th>feature_label</th>\n      <th>feature_importance_out_of_100</th>\n    </tr>\n  </thead>\n  <tbody>\n    <tr>\n      <th>0</th>\n      <td>treatment service</td>\n      <td>0.221355</td>\n    </tr>\n    <tr>\n      <th>1</th>\n      <td>state code</td>\n      <td>0.152981</td>\n    </tr>\n    <tr>\n      <th>2</th>\n      <td>referral source</td>\n      <td>0.056403</td>\n    </tr>\n    <tr>\n      <th>3</th>\n      <td>prior treatments</td>\n      <td>0.049226</td>\n    </tr>\n    <tr>\n      <th>4</th>\n      <td>health insurance</td>\n      <td>0.039660</td>\n    </tr>\n    <tr>\n      <th>5</th>\n      <td>primary frequency</td>\n      <td>0.032491</td>\n    </tr>\n    <tr>\n      <th>6</th>\n      <td>dsm diagnosis</td>\n      <td>0.031134</td>\n    </tr>\n    <tr>\n      <th>7</th>\n      <td>self help group</td>\n      <td>0.026466</td>\n    </tr>\n    <tr>\n      <th>8</th>\n      <td>income source</td>\n      <td>0.024760</td>\n    </tr>\n    <tr>\n      <th>9</th>\n      <td>payment source</td>\n      <td>0.024550</td>\n    </tr>\n    <tr>\n      <th>10</th>\n      <td>days waiting</td>\n      <td>0.022498</td>\n    </tr>\n    <tr>\n      <th>11</th>\n      <td>age</td>\n      <td>0.019932</td>\n    </tr>\n    <tr>\n      <th>12</th>\n      <td>mental disorder</td>\n      <td>0.019048</td>\n    </tr>\n    <tr>\n      <th>13</th>\n      <td>living arrangement</td>\n      <td>0.018751</td>\n    </tr>\n    <tr>\n      <th>14</th>\n      <td>employment</td>\n      <td>0.018742</td>\n    </tr>\n    <tr>\n      <th>15</th>\n      <td>secondary substance</td>\n      <td>0.016701</td>\n    </tr>\n    <tr>\n      <th>16</th>\n      <td>primary first use</td>\n      <td>0.015053</td>\n    </tr>\n    <tr>\n      <th>17</th>\n      <td>tertiary substance</td>\n      <td>0.014237</td>\n    </tr>\n    <tr>\n      <th>18</th>\n      <td>arrests</td>\n      <td>0.013604</td>\n    </tr>\n    <tr>\n      <th>19</th>\n      <td>secondary frequency</td>\n      <td>0.012290</td>\n    </tr>\n    <tr>\n      <th>20</th>\n      <td>marital status</td>\n      <td>0.012077</td>\n    </tr>\n    <tr>\n      <th>21</th>\n      <td>ciminal justice referral</td>\n      <td>0.011599</td>\n    </tr>\n    <tr>\n      <th>22</th>\n      <td>methamphetamine</td>\n      <td>0.011386</td>\n    </tr>\n    <tr>\n      <th>23</th>\n      <td>tertiary frequency</td>\n      <td>0.011189</td>\n    </tr>\n    <tr>\n      <th>24</th>\n      <td>education</td>\n      <td>0.009827</td>\n    </tr>\n    <tr>\n      <th>25</th>\n      <td>heroin</td>\n      <td>0.009816</td>\n    </tr>\n    <tr>\n      <th>26</th>\n      <td>race</td>\n      <td>0.009777</td>\n    </tr>\n    <tr>\n      <th>27</th>\n      <td>pregnant</td>\n      <td>0.009709</td>\n    </tr>\n    <tr>\n      <th>28</th>\n      <td>secondary first use</td>\n      <td>0.008740</td>\n    </tr>\n    <tr>\n      <th>29</th>\n      <td>tertiary route</td>\n      <td>0.008252</td>\n    </tr>\n    <tr>\n      <th>30</th>\n      <td>primary route</td>\n      <td>0.007961</td>\n    </tr>\n    <tr>\n      <th>31</th>\n      <td>iv drug</td>\n      <td>0.007226</td>\n    </tr>\n    <tr>\n      <th>32</th>\n      <td>secondary route</td>\n      <td>0.006741</td>\n    </tr>\n    <tr>\n      <th>33</th>\n      <td>tertiary first use</td>\n      <td>0.006680</td>\n    </tr>\n    <tr>\n      <th>34</th>\n      <td>marijuana</td>\n      <td>0.006310</td>\n    </tr>\n    <tr>\n      <th>35</th>\n      <td>primary substance</td>\n      <td>0.005306</td>\n    </tr>\n    <tr>\n      <th>36</th>\n      <td>alcohol</td>\n      <td>0.004636</td>\n    </tr>\n    <tr>\n      <th>37</th>\n      <td>ethnicity</td>\n      <td>0.004220</td>\n    </tr>\n    <tr>\n      <th>38</th>\n      <td>opiates</td>\n      <td>0.004104</td>\n    </tr>\n    <tr>\n      <th>39</th>\n      <td>gender</td>\n      <td>0.003993</td>\n    </tr>\n    <tr>\n      <th>40</th>\n      <td>cocaine</td>\n      <td>0.002534</td>\n    </tr>\n    <tr>\n      <th>41</th>\n      <td>substance use type</td>\n      <td>0.002024</td>\n    </tr>\n    <tr>\n      <th>42</th>\n      <td>veteran status</td>\n      <td>0.001757</td>\n    </tr>\n    <tr>\n      <th>43</th>\n      <td>benzodiazepines</td>\n      <td>0.001653</td>\n    </tr>\n    <tr>\n      <th>44</th>\n      <td>other drug</td>\n      <td>0.000733</td>\n    </tr>\n    <tr>\n      <th>45</th>\n      <td>methadone</td>\n      <td>0.000678</td>\n    </tr>\n    <tr>\n      <th>46</th>\n      <td>stimulants</td>\n      <td>0.000536</td>\n    </tr>\n    <tr>\n      <th>47</th>\n      <td>amphetamines</td>\n      <td>0.000321</td>\n    </tr>\n    <tr>\n      <th>48</th>\n      <td>sedatives</td>\n      <td>0.000202</td>\n    </tr>\n    <tr>\n      <th>49</th>\n      <td>pcp</td>\n      <td>0.000058</td>\n    </tr>\n    <tr>\n      <th>50</th>\n      <td>hallucinogens</td>\n      <td>0.000030</td>\n    </tr>\n    <tr>\n      <th>51</th>\n      <td>otc meds</td>\n      <td>0.000017</td>\n    </tr>\n    <tr>\n      <th>52</th>\n      <td>tranquilizers</td>\n      <td>0.000011</td>\n    </tr>\n    <tr>\n      <th>53</th>\n      <td>barbiturates</td>\n      <td>0.000009</td>\n    </tr>\n    <tr>\n      <th>54</th>\n      <td>inhalants</td>\n      <td>0.000004</td>\n    </tr>\n  </tbody>\n</table>\n</div>"
     },
     "execution_count": 8,
     "metadata": {},
     "output_type": "execute_result"
    }
   ],
   "source": [
    "g.sort_values(by='feature_importance_out_of_100', ascending=False)[['feature_label', 'feature_importance_out_of_100']].reset_index(drop=True)"
   ],
   "metadata": {
    "collapsed": false
   }
  },
  {
   "cell_type": "code",
   "execution_count": null,
   "outputs": [],
   "source": [],
   "metadata": {
    "collapsed": false
   }
  }
 ],
 "metadata": {
  "kernelspec": {
   "display_name": "Python 3",
   "language": "python",
   "name": "python3"
  },
  "language_info": {
   "codemirror_mode": {
    "name": "ipython",
    "version": 2
   },
   "file_extension": ".py",
   "mimetype": "text/x-python",
   "name": "python",
   "nbconvert_exporter": "python",
   "pygments_lexer": "ipython2",
   "version": "2.7.6"
  }
 },
 "nbformat": 4,
 "nbformat_minor": 0
}