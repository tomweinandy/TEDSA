{
 "cells": [
  {
   "cell_type": "markdown",
   "source": [
    "## Load data"
   ],
   "metadata": {
    "collapsed": false
   }
  },
  {
   "cell_type": "code",
   "execution_count": 3,
   "outputs": [],
   "source": [
    "import pandas as pd\n",
    "import ast\n",
    "import numpy as np\n",
    "\n",
    "# Load in data\n",
    "admissions = 'tedsa_puf_2019.csv'\n",
    "df_raw = pd.read_csv(f'../../Downloads/{admissions}')"
   ],
   "metadata": {
    "collapsed": false
   }
  },
  {
   "cell_type": "markdown",
   "source": [
    "## Filter out select rows and columns"
   ],
   "metadata": {
    "collapsed": false
   }
  },
  {
   "cell_type": "code",
   "execution_count": 4,
   "metadata": {
    "collapsed": true
   },
   "outputs": [
    {
     "name": "stdout",
     "output_type": "stream",
     "text": [
      "Dropped 5 columns (57 remain)\n",
      "Dropped 1,340,233 observations or 71.9% of the data (524,134 rows remain)\n"
     ]
    }
   ],
   "source": [
    "# Get count of original number of rows\n",
    "old_rows = len(df_raw)\n",
    "\n",
    "# Drop defined columns (year of admission, case id, geographic metro area, geographic division, geographic region)\n",
    "columns_to_drop = ['ADMYR', 'CASEID', 'CBSA2010', 'DIVISION', 'REGION']\n",
    "df = df_raw.drop(columns=columns_to_drop)\n",
    "print(f'Dropped {len(columns_to_drop)} columns ({len(df.columns)} remain)')\n",
    "\n",
    "# Drop values where dependent variable is unknown\n",
    "df = df[df['METHUSE'] != -9]\n",
    "\n",
    "# Only keep patients admitted with self-described use of an opioid as their primary substance use (i.e., SUB1 = 5, 6, or 7)\n",
    "df = df[df['SUB1'].between(5, 7)]\n",
    "new_rows = len(df)\n",
    "percent_change = round(100*(old_rows-new_rows)/old_rows, 1)\n",
    "print(f'Dropped {\"{:,}\".format(old_rows-new_rows)} observations or {percent_change}% of the data ({\"{:,}\".format(new_rows)} rows remain)')\n",
    "\n",
    "df = df.reset_index(drop='index')"
   ]
  },
  {
   "cell_type": "markdown",
   "source": [
    "## Balance dataset"
   ],
   "metadata": {
    "collapsed": false
   }
  },
  {
   "cell_type": "code",
   "execution_count": 5,
   "outputs": [
    {
     "name": "stdout",
     "output_type": "stream",
     "text": [
      "Classes before down-sampling: 211743 312391\n",
      "Classes after down-sampling: 211743 211743\n"
     ]
    }
   ],
   "source": [
    "# Split into two dataframes, printing result\n",
    "df_ones = df[df['METHUSE']==1]\n",
    "df_twos = df[df['METHUSE']==2]\n",
    "print('Classes before down-sampling:', len(df_ones), len(df_twos))\n",
    "\n",
    "# Sample down df_twos to the length of df_ones, printing result\n",
    "ratio = len(df_ones)/len(df_twos)\n",
    "df_twos = df_twos.sample(frac=ratio)\n",
    "print('Classes after down-sampling:', len(df_ones), len(df_twos))\n",
    "\n",
    "# Recombine and shuffle for good measure\n",
    "df = pd.concat([df_ones, df_twos], axis=0)\n",
    "df = df.sample(frac=1).reset_index(drop=True)"
   ],
   "metadata": {
    "collapsed": false
   }
  },
  {
   "cell_type": "markdown",
   "source": [
    "## Make dataset human-readable"
   ],
   "metadata": {
    "collapsed": false
   }
  },
  {
   "cell_type": "code",
   "execution_count": 6,
   "outputs": [],
   "source": [
    "# Load in variable dictionary\n",
    "with open('VariableDictionary.txt') as file:\n",
    "    variable_dict_string = file.read()\n",
    "    variable_dict = ast.literal_eval(variable_dict_string)\n",
    "\n",
    "# Rename entries in column according to dictionary\n",
    "df2 = df.copy()\n",
    "for col, col_dict in variable_dict.items():\n",
    "    if col in df2.columns:\n",
    "        for old_value, new_value in variable_dict[col].items():\n",
    "            df2[col] = df2[col].replace(old_value, new_value)\n",
    "\n",
    "# Rename \"-9\" values as \"Unknown\"\n",
    "for col in df2.columns:\n",
    "    df2[col] = df2[col].replace(-9, 'Unknown')\n",
    "\n",
    "# Merge DETNLF (detailed not in labor force) into EMPLOY==4 (not in labor force)\n",
    "detailed_employ = []\n",
    "\n",
    "for idx, value in df2.iterrows():\n",
    "    if value['EMPLOY'] == 'NotInLaborForce':\n",
    "        if value['DETNLF'] == 'Unknown':\n",
    "            # Assign 'UnknownNotInLaborForce' if 'NotInLaborForce' and 'Unknown'\n",
    "            detailed_employ.append('UnknownNotInLaborForce')\n",
    "        else:\n",
    "            # Otherwise, assign as the DETNLF value\n",
    "            detailed_employ.append(value['DETNLF'])\n",
    "    else:\n",
    "        # Assign the EMPLOY value if not 'NotInLaborForce'\n",
    "        detailed_employ.append(value['EMPLOY'])\n",
    "\n",
    "# Add a new column for detailed employment and drop the two source columns\n",
    "df2['DETEMPLOY'] = detailed_employ\n",
    "df2 = df2.drop(columns=['EMPLOY', 'DETNLF'])\n",
    "\n",
    "# Convert dependent variable to binary integer\n",
    "df2['METHUSE'] = df2['METHUSE'].replace('MethUse', 1)\n",
    "df2['METHUSE'] = df2['METHUSE'].replace('NoMethUse', 0)"
   ],
   "metadata": {
    "collapsed": false
   }
  },
  {
   "cell_type": "markdown",
   "source": [
    "# XGBoost and Shapley"
   ],
   "metadata": {
    "collapsed": false
   }
  },
  {
   "cell_type": "markdown",
   "source": [
    "### Make machine-readable dataset (encoding)"
   ],
   "metadata": {
    "collapsed": false
   }
  },
  {
   "cell_type": "code",
   "execution_count": 7,
   "outputs": [],
   "source": [
    "from sklearn.preprocessing import LabelEncoder\n",
    "import pandas as pd\n",
    "from sklearn.preprocessing import OrdinalEncoder\n",
    "\n",
    "df4 = df2.copy()\n",
    "# df4 = df4.sample(frac=0.1)  # small size for testing code\n",
    "\n",
    "df4['STFIPS'] = df4['STFIPS'].astype('category').cat.codes\n",
    "df4['EDUC'] = OrdinalEncoder(categories=[['Unknown', 'Grade8OrLess', 'Grade9To11', 'Grade12OrGED', '1To3yCollege', '4yCollegePlus']]).fit_transform(df4[['EDUC']])\n",
    "df4['MARSTAT'] = df4['MARSTAT'].astype('category').cat.codes\n",
    "df4['SERVICES'] = df4['SERVICES'].astype('category').cat.codes\n",
    "df4['DETCRIM'] = df4['DETCRIM'].astype('category').cat.codes\n",
    "df4['NOPRIOR'] = OrdinalEncoder(categories=[['Unknown', '0PriorTreatments', '1PriorTreatments', '2PriorTreatments', '3PriorTreatments',\n",
    "                                            '4PriorTreatments', '5PlusPriorTreatments']]).fit_transform(df4[['NOPRIOR']])\n",
    "df4['PSOURCE'] = df4['PSOURCE'].astype('category').cat.codes\n",
    "df4['ARRESTS'] = OrdinalEncoder(categories=[['Unknown', '0Arrest', '1Arrest', '2PlusArrest']]).fit_transform(df4[['ARRESTS']])\n",
    "# df4['METHUSE'] = df4['METHUSE'].astype('category').cat.codes\n",
    "df4['PSYPROB'] = df4['PSYPROB'].astype('category').cat.codes\n",
    "df4['PREG'] = df4['PREG'].astype('category').cat.codes\n",
    "df4['GENDER'] = df4['GENDER'].astype('category').cat.codes\n",
    "df4['VET'] = df4['VET'].astype('category').cat.codes\n",
    "df4['LIVARAG'] = df4['LIVARAG'].astype('category').cat.codes\n",
    "df4['DAYWAIT'] = OrdinalEncoder(categories=[['Unknown', '0DaysWait', '1To7DaysWait', '8To14DaysWait', '15To30DaysWait',\n",
    "                                            '31PlusDaysWait']]).fit_transform(df4[['DAYWAIT']])\n",
    "df4['DSMCRIT'] = df4['DSMCRIT'].astype('category').cat.codes\n",
    "df4['AGE'] = OrdinalEncoder(categories=[['Age12To14', 'Age15To17', 'Age18To20', 'Age21To24', 'Age25To29', 'Age30To34', 'Age35To39', 'Age40To44',\n",
    "                                        'Age45To49', 'Age50To54', 'Age55To64', 'Age65Plus' ]]).fit_transform(df4[['AGE']])\n",
    "df4['RACE'] = df4['RACE'].astype('category').cat.codes\n",
    "df4['ETHNIC'] = df4['ETHNIC'].astype('category').cat.codes\n",
    "df4['PRIMINC'] = df4['PRIMINC'].astype('category').cat.codes\n",
    "df4['SUB1'] = df4['SUB1'].astype('category').cat.codes\n",
    "df4['SUB2'] = df4['SUB2'].astype('category').cat.codes\n",
    "df4['SUB3'] = df4['SUB3'].astype('category').cat.codes\n",
    "df4['ROUTE1'] = df4['ROUTE1'].astype('category').cat.codes\n",
    "df4['ROUTE2'] = df4['ROUTE2'].astype('category').cat.codes\n",
    "df4['ROUTE3'] = df4['ROUTE3'].astype('category').cat.codes\n",
    "df4['FREQ1'] = OrdinalEncoder(categories=[['Unknown', 'NoUsePastMonth', 'SomeUse', 'DailyUse']]).fit_transform(df4[['FREQ1']])\n",
    "df4['FREQ2'] = OrdinalEncoder(categories=[['Unknown', 'NoUsePastMonth', 'SomeUse', 'DailyUse']]).fit_transform(df4[['FREQ2']])\n",
    "df4['FREQ3'] = OrdinalEncoder(categories=[['Unknown', 'NoUsePastMonth', 'SomeUse', 'DailyUse']]).fit_transform(df4[['FREQ3']])\n",
    "df4['FRSTUSE1'] = OrdinalEncoder(categories=[['Unknown', '11yLess', '12To14y', '15To17y', '18To20y', '21To24y', '25To29y',\n",
    "                                             '30yPlus']]).fit_transform(df4[['FRSTUSE1']])\n",
    "df4['FRSTUSE2'] = OrdinalEncoder(categories=[['Unknown', '11yLess', '12To14y', '15To17y', '18To20y', '21To24y', '25To29y',\n",
    "                                             '30yPlus']]).fit_transform(df4[['FRSTUSE2']])\n",
    "df4['FRSTUSE3'] = OrdinalEncoder(categories=[['Unknown', '11yLess', '12To14y', '15To17y', '18To20y', '21To24y', '25To29y',\n",
    "                                             '30yPlus']]).fit_transform(df4[['FRSTUSE3']])\n",
    "df4['HLTHINS'] = df4['HLTHINS'].astype('category').cat.codes\n",
    "df4['PRIMPAY'] = df4['PRIMPAY'].astype('category').cat.codes\n",
    "df4['FREQ_ATND_SELF_HELP'] = OrdinalEncoder(categories=[['Unknown', 'NoAttendance', 'SomeAttendance', '1To3TimesPastMonth', '4To7TimesPastMonth',\n",
    "                                                        '8To30TimesPastMonth']]).fit_transform(df4[['FREQ_ATND_SELF_HELP']])\n",
    "df4['ALCFLG'] = OrdinalEncoder(categories=[['NotReported', 'Reported']]).fit_transform(df4[['ALCFLG']])\n",
    "df4['COKEFLG'] = OrdinalEncoder(categories=[['NotReported', 'Reported']]).fit_transform(df4[['COKEFLG']])\n",
    "df4['MARFLG'] = OrdinalEncoder(categories=[['NotReported', 'Reported']]).fit_transform(df4[['MARFLG']])\n",
    "df4['HERFLG'] = OrdinalEncoder(categories=[['NotReported', 'Reported']]).fit_transform(df4[['HERFLG']])\n",
    "df4['METHFLG'] = OrdinalEncoder(categories=[['NotReported', 'Reported']]).fit_transform(df4[['METHFLG']])\n",
    "df4['OPSYNFLG'] = OrdinalEncoder(categories=[['NotReported', 'Reported']]).fit_transform(df4[['OPSYNFLG']])\n",
    "df4['PCPFLG'] = OrdinalEncoder(categories=[['NotReported', 'Reported']]).fit_transform(df4[['PCPFLG']])\n",
    "df4['HALLFLG'] = OrdinalEncoder(categories=[['NotReported', 'Reported']]).fit_transform(df4[['HALLFLG']])\n",
    "df4['MTHAMFLG'] = OrdinalEncoder(categories=[['NotReported', 'Reported']]).fit_transform(df4[['MTHAMFLG']])\n",
    "df4['AMPHFLG'] = OrdinalEncoder(categories=[['NotReported', 'Reported']]).fit_transform(df4[['AMPHFLG']])\n",
    "df4['STIMFLG'] = OrdinalEncoder(categories=[['NotReported', 'Reported']]).fit_transform(df4[['STIMFLG']])\n",
    "df4['BENZFLG'] = OrdinalEncoder(categories=[['NotReported', 'Reported']]).fit_transform(df4[['BENZFLG']])\n",
    "df4['TRNQFLG'] = OrdinalEncoder(categories=[['NotReported', 'Reported']]).fit_transform(df4[['TRNQFLG']])\n",
    "df4['BARBFLG'] = OrdinalEncoder(categories=[['NotReported', 'Reported']]).fit_transform(df4[['BARBFLG']])\n",
    "df4['SEDHPFLG'] = OrdinalEncoder(categories=[['NotReported', 'Reported']]).fit_transform(df4[['SEDHPFLG']])\n",
    "df4['INHFLG'] = OrdinalEncoder(categories=[['NotReported', 'Reported']]).fit_transform(df4[['INHFLG']])\n",
    "df4['OTCFLG'] = OrdinalEncoder(categories=[['NotReported', 'Reported']]).fit_transform(df4[['OTCFLG']])\n",
    "df4['OTHERFLG'] = OrdinalEncoder(categories=[['NotReported', 'Reported']]).fit_transform(df4[['OTHERFLG']])\n",
    "# df4['DIVISION'] = df4['DIVISION'].astype('category').cat.codes\n",
    "# df4['REGION'] = df4['REGION'].astype('category').cat.codes\n",
    "df4['IDU'] = OrdinalEncoder(categories=[['NoIDU', 'IDU']]).fit_transform(df4[['IDU']])\n",
    "df4['ALCDRUG'] = OrdinalEncoder(categories=[['OtherDrugs', 'AlcoholAndDrugs']]).fit_transform(df4[['ALCDRUG']])\n",
    "df4['DETEMPLOY'] = df4['DETEMPLOY'].astype('category').cat.codes"
   ],
   "metadata": {
    "collapsed": false
   }
  },
  {
   "cell_type": "code",
   "execution_count": 8,
   "outputs": [],
   "source": [
    "# # Show the share of observations by state\n",
    "# df2.groupby('STFIPS').count()/len(df2)"
   ],
   "metadata": {
    "collapsed": false
   }
  },
  {
   "cell_type": "markdown",
   "source": [
    "## Train XG Boost model"
   ],
   "metadata": {
    "collapsed": false
   }
  },
  {
   "cell_type": "code",
   "execution_count": 9,
   "outputs": [],
   "source": [
    "from sklearn.model_selection import train_test_split\n",
    "\n",
    "# Split data into training and test sets\n",
    "X = df4.drop('METHUSE', axis=1)\n",
    "y = df4['METHUSE'].astype('float')\n",
    "X_train, X_test, y_train, y_test = train_test_split(X, y, test_size=0.2, random_state=24)"
   ],
   "metadata": {
    "collapsed": false
   }
  },
  {
   "cell_type": "code",
   "execution_count": 10,
   "outputs": [],
   "source": [
    "import xgboost as xgb\n",
    "from sklearn.metrics import accuracy_score\n",
    "from hyperopt import STATUS_OK, Trials, fmin, hp, tpe\n",
    "\n",
    "# Search the parameter grid\n",
    "# Docs: https://xgboost.readthedocs.io/en/latest/parameter.html\n",
    "# https://www.kaggle.com/code/prashant111/a-guide-on-xgboost-hyperparameters-tuning/notebook#2.-XGBoost-hyperparameters-\n",
    "space={'colsample_bytree': hp.quniform('colsample_bytree', 0.1, 1, 0.01),\n",
    "       'eta': hp.quniform('eta', 0.025, 0.5, 0.025),\n",
    "       'gamma': hp.quniform('gamma', 0.5, 1, 0.05),\n",
    "       'learning_rate': hp.quniform('learning_rate', 0.01, 0.5, 0.01),\n",
    "       'max_depth': hp.quniform(\"max_depth\", 3, 27, 1),\n",
    "       'min_child_weight' : hp.quniform('min_child_weight', 0, 10, 1),\n",
    "       'n_estimators': hp.choice('n_estimators', range(100, 1000)),\n",
    "       'reg_alpha' : hp.quniform('reg_alpha', 40, 180, 1),\n",
    "       'reg_lambda' : hp.uniform('reg_lambda', 0, 1),\n",
    "       'subsample': hp.quniform('subsample', 0.5, 1, 0.05)\n",
    "    }\n",
    "\n",
    "def objective(space):\n",
    "    clf=xgb.XGBClassifier(colsample_bytree=round(space['colsample_bytree'], 0),\n",
    "                          early_stopping_rounds=10,\n",
    "                          eta=space['eta'],\n",
    "                          eval_metric='auc',\n",
    "                          gamma=space['gamma'],\n",
    "                          learning_rate=space['learning_rate'],\n",
    "                          max_depth=int(round(space['max_depth'], 0)),\n",
    "                          min_child_weight=space['min_child_weight'],\n",
    "                          n_estimators=space['n_estimators'],\n",
    "                          objective='binary:logistic',\n",
    "                          reg_alpha=space['reg_alpha'],\n",
    "                          reg_lambda=space['reg_lambda'],\n",
    "                          seed=24,\n",
    "                          subsample=round(space['subsample'], 0))\n",
    "\n",
    "    evaluation = [( X_train, y_train), ( X_test, y_test)]\n",
    "\n",
    "    clf.fit(X_train, y_train, eval_set=evaluation, verbose=False)\n",
    "\n",
    "    pred = clf.predict(X_test)\n",
    "    accuracy = accuracy_score(y_test, pred>0.5)\n",
    "    print (\"SCORE:\", round(accuracy, 3))\n",
    "    return {'loss': -accuracy, 'status': STATUS_OK }"
   ],
   "metadata": {
    "collapsed": false
   }
  },
  {
   "cell_type": "code",
   "execution_count": 30,
   "outputs": [
    {
     "name": "stdout",
     "output_type": "stream",
     "text": [
      "SCORE:                                                 \n",
      "0.841                                                  \n",
      "SCORE:                                                                            \n",
      "0.838                                                                             \n",
      "SCORE:                                                                            \n",
      "0.834                                                                             \n",
      "SCORE:                                                                            \n",
      "0.846                                                                             \n",
      "SCORE:                                                                            \n",
      "0.84                                                                              \n",
      "SCORE:                                                                            \n",
      "0.845                                                                             \n",
      "SCORE:                                                                            \n",
      "0.837                                                                             \n",
      "SCORE:                                                                            \n",
      "0.499                                                                             \n",
      "SCORE:                                                                            \n",
      "0.776                                                                             \n",
      "SCORE:                                                                            \n",
      "0.836                                                                             \n",
      "SCORE:                                                                             \n",
      "0.772                                                                              \n",
      "SCORE:                                                                             \n",
      "0.841                                                                              \n",
      "SCORE:                                                                             \n",
      "0.784                                                                              \n",
      "SCORE:                                                                             \n",
      "0.838                                                                              \n",
      "SCORE:                                                                             \n",
      "0.838                                                                              \n",
      "SCORE:                                                                             \n",
      "0.846                                                                              \n",
      "SCORE:                                                                             \n",
      "0.842                                                                              \n",
      "SCORE:                                                                             \n",
      "0.841                                                                              \n",
      "SCORE:                                                                             \n",
      "0.831                                                                              \n",
      "SCORE:                                                                             \n",
      "0.838                                                                              \n",
      "SCORE:                                                                             \n",
      "0.848                                                                              \n",
      "SCORE:                                                                             \n",
      "0.844                                                                              \n",
      "SCORE:                                                                             \n",
      "0.708                                                                              \n",
      "SCORE:                                                                             \n",
      "0.84                                                                               \n",
      "SCORE:                                                                               \n",
      "0.78                                                                                 \n",
      "SCORE:                                                                               \n",
      "0.845                                                                              \n",
      "SCORE:                                                                             \n",
      "0.844                                                                              \n",
      "SCORE:                                                                             \n",
      "0.768                                                                              \n",
      "SCORE:                                                                             \n",
      "0.778                                                                              \n",
      "SCORE:                                                                             \n",
      "0.771                                                                              \n",
      "SCORE:                                                                             \n",
      "0.843                                                                              \n",
      "SCORE:                                                                             \n",
      "0.846                                                                              \n",
      "SCORE:                                                                             \n",
      "0.845                                                                              \n",
      "SCORE:                                                                             \n",
      "0.847                                                                              \n",
      "SCORE:                                                                             \n",
      "0.84                                                                               \n",
      "SCORE:                                                                             \n",
      "0.779                                                                              \n",
      "SCORE:                                                                             \n",
      "0.837                                                                              \n",
      "SCORE:                                                                             \n",
      "0.84                                                                               \n",
      "SCORE:                                                                             \n",
      "0.845                                                                              \n",
      "SCORE:                                                                             \n",
      "0.709                                                                              \n",
      "SCORE:                                                                             \n",
      "0.84                                                                               \n",
      "SCORE:                                                                             \n",
      "0.841                                                                              \n",
      "SCORE:                                                                             \n",
      "0.847                                                                              \n",
      "SCORE:                                                                             \n",
      "0.84                                                                               \n",
      "SCORE:                                                                             \n",
      "0.757                                                                              \n",
      "SCORE:                                                                             \n",
      "0.499                                                                              \n",
      "SCORE:                                                                             \n",
      "0.84                                                                               \n",
      "SCORE:                                                                             \n",
      "0.843                                                                              \n",
      "SCORE:                                                                             \n",
      "0.844                                                                              \n",
      "SCORE:                                                                             \n",
      "0.841                                                                              \n",
      "SCORE:                                                                             \n",
      "0.844                                                                              \n",
      "SCORE:                                                                             \n",
      "0.841                                                                              \n",
      "SCORE:                                                                             \n",
      "0.779                                                                              \n",
      "SCORE:                                                                             \n",
      "0.733                                                                              \n",
      "SCORE:                                                                             \n",
      "0.84                                                                               \n",
      "SCORE:                                                                             \n",
      "0.707                                                                              \n",
      "SCORE:                                                                             \n",
      "0.838                                                                              \n",
      "SCORE:                                                                             \n",
      "0.847                                                                              \n",
      "SCORE:                                                                             \n",
      "0.844                                                                              \n",
      "SCORE:                                                                             \n",
      "0.772                                                                              \n",
      "SCORE:                                                                             \n",
      "0.843                                                                              \n",
      "SCORE:                                                                             \n",
      "0.785                                                                              \n",
      "SCORE:                                                                             \n",
      "0.835                                                                              \n",
      "SCORE:                                                                             \n",
      "0.846                                                                              \n",
      "SCORE:                                                                             \n",
      "0.782                                                                              \n",
      "SCORE:                                                                             \n",
      "0.846                                                                              \n",
      "SCORE:                                                                             \n",
      "0.847                                                                              \n",
      "SCORE:                                                                             \n",
      "0.847                                                                              \n",
      "SCORE:                                                                             \n",
      "0.843                                                                              \n",
      "SCORE:                                                                             \n",
      "0.846                                                                              \n",
      "SCORE:                                                                             \n",
      "0.847                                                                              \n",
      "SCORE:                                                                             \n",
      "0.844                                                                              \n",
      "SCORE:                                                                             \n",
      "0.846                                                                              \n",
      "SCORE:                                                                             \n",
      "0.843                                                                              \n",
      "SCORE:                                                                             \n",
      "0.842                                                                              \n",
      "SCORE:                                                                             \n",
      "0.784                                                                              \n",
      "SCORE:                                                                             \n",
      "0.775                                                                              \n",
      "SCORE:                                                                             \n",
      "0.772                                                                              \n",
      "SCORE:                                                                             \n",
      "0.846                                                                              \n",
      "SCORE:                                                                             \n",
      "0.845                                                                              \n",
      "SCORE:                                                                             \n",
      "0.847                                                                              \n",
      "SCORE:                                                                             \n",
      "0.844                                                                              \n",
      "SCORE:                                                                             \n",
      "0.774                                                                              \n",
      "SCORE:                                                                             \n",
      "0.84                                                                               \n",
      "SCORE:                                                                             \n",
      "0.772                                                                              \n",
      "SCORE:                                                                             \n",
      "0.843                                                                              \n",
      "SCORE:                                                                             \n",
      "0.841                                                                              \n",
      "SCORE:                                                                             \n",
      "0.844                                                                              \n",
      "SCORE:                                                                             \n",
      "0.841                                                                              \n",
      "SCORE:                                                                             \n",
      "0.844                                                                              \n",
      "SCORE:                                                                             \n",
      "0.842                                                                              \n",
      "SCORE:                                                                             \n",
      "0.847                                                                              \n",
      "SCORE:                                                                             \n",
      "0.698                                                                              \n",
      "SCORE:                                                                             \n",
      "0.839                                                                              \n",
      "SCORE:                                                                             \n",
      "0.838                                                                              \n",
      "SCORE:                                                                             \n",
      "0.739                                                                              \n",
      "SCORE:                                                                             \n",
      "0.846                                                                              \n",
      "SCORE:                                                                             \n",
      "0.84                                                                               \n",
      "SCORE:                                                                             \n",
      "0.707                                                                              \n",
      "SCORE:                                                                             \n",
      "0.845                                                                              \n",
      "100%|██████████| 100/100 [37:41<00:00, 22.62s/trial, best loss: -0.8476115138492054]\n"
     ]
    }
   ],
   "source": [
    "# Begin training\n",
    "trials = Trials()\n",
    "\n",
    "best_hyperparams = fmin(fn = objective,\n",
    "                        space = space,\n",
    "                        algo = tpe.suggest,\n",
    "                        max_evals = 100,          # <-- bring back to 50\n",
    "                        trials = trials)"
   ],
   "metadata": {
    "collapsed": false
   }
  },
  {
   "cell_type": "code",
   "execution_count": 11,
   "outputs": [
    {
     "data": {
      "text/plain": "{'colsample_bytree': 0.61,\n 'eta': 0.25,\n 'gamma': 0.8,\n 'learning_rate': 0.22,\n 'max_depth': 16.0,\n 'min_child_weight': 0.0,\n 'n_estimators': 812,\n 'reg_alpha': 40.0,\n 'reg_lambda': 0.9241629285526229,\n 'subsample': 0.9}"
     },
     "execution_count": 11,
     "metadata": {},
     "output_type": "execute_result"
    }
   ],
   "source": [
    "\"\"\"\n",
    "# Best from 100 runs (50 would have done just fine)\n",
    "\n",
    "{'colsample_bytree': 0.55,\n",
    " 'eta': 0.15000000000000002,\n",
    " 'gamma': 0.8,\n",
    " 'learning_rate': 0.27,\n",
    " 'max_depth': 20.0,\n",
    " 'min_child_weight': 3.0,\n",
    " 'n_estimators': 598,\n",
    " 'reg_alpha': 40.0,\n",
    " 'reg_lambda': 0.38166847419409755,\n",
    " 'subsample': 0.6000000000000001}\n",
    "\n",
    " {'colsample_bytree': 0.61,\n",
    " 'eta': 0.25,\n",
    " 'gamma': 0.8,\n",
    " 'learning_rate': 0.22,\n",
    " 'max_depth': 16.0,\n",
    " 'min_child_weight': 0.0,\n",
    " 'n_estimators': 812,\n",
    " 'reg_alpha': 40.0,\n",
    " 'reg_lambda': 0.9241629285526229,\n",
    " 'subsample': 0.9}\n",
    "\"\"\"\n",
    "\n",
    "best_hyperparams = {'colsample_bytree': 0.61,\n",
    "                     'eta': 0.25,\n",
    "                     'gamma': 0.8,\n",
    "                     'learning_rate': 0.22,\n",
    "                     'max_depth': 16.0,\n",
    "                     'min_child_weight': 0.0,\n",
    "                     'n_estimators': 812,\n",
    "                     'reg_alpha': 40.0,\n",
    "                     'reg_lambda': 0.9241629285526229,\n",
    "                     'subsample': 0.9}\n",
    "\n",
    "best_hyperparams"
   ],
   "metadata": {
    "collapsed": false
   }
  },
  {
   "cell_type": "code",
   "execution_count": 13,
   "outputs": [],
   "source": [
    "# import xgboost as xgb\n",
    "# import shap\n",
    "# import numpy as np\n",
    "#\n",
    "# # Train XGBoost model\n",
    "# model = xgb.XGBClassifier(objective='binary:logistic', n_estimators=100, seed=24)\n",
    "# model.fit(X_train, y_train)"
   ],
   "metadata": {
    "collapsed": false
   }
  },
  {
   "cell_type": "code",
   "execution_count": 14,
   "outputs": [],
   "source": [
    "# stop"
   ],
   "metadata": {
    "collapsed": false
   }
  },
  {
   "cell_type": "markdown",
   "source": [
    "### Interpretability"
   ],
   "metadata": {
    "collapsed": false
   }
  },
  {
   "cell_type": "code",
   "execution_count": 15,
   "outputs": [
    {
     "data": {
      "text/plain": "XGBClassifier(base_score=None, booster=None, callbacks=None,\n              colsample_bylevel=None, colsample_bynode=None,\n              colsample_bytree=0.61, device=None, early_stopping_rounds=None,\n              enable_categorical=False, eta=0.25, eval_metric='auc',\n              feature_types=None, gamma=0.8, grow_policy=None,\n              importance_type=None, interaction_constraints=None,\n              learning_rate=0.22, max_bin=None, max_cat_threshold=None,\n              max_cat_to_onehot=None, max_delta_step=None, max_depth=16,\n              max_leaves=None, min_child_weight=0.0, missing=nan,\n              monotone_constraints=None, multi_strategy=None, n_estimators=812,\n              n_jobs=None, num_parallel_tree=None, ...)",
      "text/html": "<style>#sk-container-id-1 {color: black;}#sk-container-id-1 pre{padding: 0;}#sk-container-id-1 div.sk-toggleable {background-color: white;}#sk-container-id-1 label.sk-toggleable__label {cursor: pointer;display: block;width: 100%;margin-bottom: 0;padding: 0.3em;box-sizing: border-box;text-align: center;}#sk-container-id-1 label.sk-toggleable__label-arrow:before {content: \"▸\";float: left;margin-right: 0.25em;color: #696969;}#sk-container-id-1 label.sk-toggleable__label-arrow:hover:before {color: black;}#sk-container-id-1 div.sk-estimator:hover label.sk-toggleable__label-arrow:before {color: black;}#sk-container-id-1 div.sk-toggleable__content {max-height: 0;max-width: 0;overflow: hidden;text-align: left;background-color: #f0f8ff;}#sk-container-id-1 div.sk-toggleable__content pre {margin: 0.2em;color: black;border-radius: 0.25em;background-color: #f0f8ff;}#sk-container-id-1 input.sk-toggleable__control:checked~div.sk-toggleable__content {max-height: 200px;max-width: 100%;overflow: auto;}#sk-container-id-1 input.sk-toggleable__control:checked~label.sk-toggleable__label-arrow:before {content: \"▾\";}#sk-container-id-1 div.sk-estimator input.sk-toggleable__control:checked~label.sk-toggleable__label {background-color: #d4ebff;}#sk-container-id-1 div.sk-label input.sk-toggleable__control:checked~label.sk-toggleable__label {background-color: #d4ebff;}#sk-container-id-1 input.sk-hidden--visually {border: 0;clip: rect(1px 1px 1px 1px);clip: rect(1px, 1px, 1px, 1px);height: 1px;margin: -1px;overflow: hidden;padding: 0;position: absolute;width: 1px;}#sk-container-id-1 div.sk-estimator {font-family: monospace;background-color: #f0f8ff;border: 1px dotted black;border-radius: 0.25em;box-sizing: border-box;margin-bottom: 0.5em;}#sk-container-id-1 div.sk-estimator:hover {background-color: #d4ebff;}#sk-container-id-1 div.sk-parallel-item::after {content: \"\";width: 100%;border-bottom: 1px solid gray;flex-grow: 1;}#sk-container-id-1 div.sk-label:hover label.sk-toggleable__label {background-color: #d4ebff;}#sk-container-id-1 div.sk-serial::before {content: \"\";position: absolute;border-left: 1px solid gray;box-sizing: border-box;top: 0;bottom: 0;left: 50%;z-index: 0;}#sk-container-id-1 div.sk-serial {display: flex;flex-direction: column;align-items: center;background-color: white;padding-right: 0.2em;padding-left: 0.2em;position: relative;}#sk-container-id-1 div.sk-item {position: relative;z-index: 1;}#sk-container-id-1 div.sk-parallel {display: flex;align-items: stretch;justify-content: center;background-color: white;position: relative;}#sk-container-id-1 div.sk-item::before, #sk-container-id-1 div.sk-parallel-item::before {content: \"\";position: absolute;border-left: 1px solid gray;box-sizing: border-box;top: 0;bottom: 0;left: 50%;z-index: -1;}#sk-container-id-1 div.sk-parallel-item {display: flex;flex-direction: column;z-index: 1;position: relative;background-color: white;}#sk-container-id-1 div.sk-parallel-item:first-child::after {align-self: flex-end;width: 50%;}#sk-container-id-1 div.sk-parallel-item:last-child::after {align-self: flex-start;width: 50%;}#sk-container-id-1 div.sk-parallel-item:only-child::after {width: 0;}#sk-container-id-1 div.sk-dashed-wrapped {border: 1px dashed gray;margin: 0 0.4em 0.5em 0.4em;box-sizing: border-box;padding-bottom: 0.4em;background-color: white;}#sk-container-id-1 div.sk-label label {font-family: monospace;font-weight: bold;display: inline-block;line-height: 1.2em;}#sk-container-id-1 div.sk-label-container {text-align: center;}#sk-container-id-1 div.sk-container {/* jupyter's `normalize.less` sets `[hidden] { display: none; }` but bootstrap.min.css set `[hidden] { display: none !important; }` so we also need the `!important` here to be able to override the default hidden behavior on the sphinx rendered scikit-learn.org. See: https://github.com/scikit-learn/scikit-learn/issues/21755 */display: inline-block !important;position: relative;}#sk-container-id-1 div.sk-text-repr-fallback {display: none;}</style><div id=\"sk-container-id-1\" class=\"sk-top-container\"><div class=\"sk-text-repr-fallback\"><pre>XGBClassifier(base_score=None, booster=None, callbacks=None,\n              colsample_bylevel=None, colsample_bynode=None,\n              colsample_bytree=0.61, device=None, early_stopping_rounds=None,\n              enable_categorical=False, eta=0.25, eval_metric=&#x27;auc&#x27;,\n              feature_types=None, gamma=0.8, grow_policy=None,\n              importance_type=None, interaction_constraints=None,\n              learning_rate=0.22, max_bin=None, max_cat_threshold=None,\n              max_cat_to_onehot=None, max_delta_step=None, max_depth=16,\n              max_leaves=None, min_child_weight=0.0, missing=nan,\n              monotone_constraints=None, multi_strategy=None, n_estimators=812,\n              n_jobs=None, num_parallel_tree=None, ...)</pre><b>In a Jupyter environment, please rerun this cell to show the HTML representation or trust the notebook. <br />On GitHub, the HTML representation is unable to render, please try loading this page with nbviewer.org.</b></div><div class=\"sk-container\" hidden><div class=\"sk-item\"><div class=\"sk-estimator sk-toggleable\"><input class=\"sk-toggleable__control sk-hidden--visually\" id=\"sk-estimator-id-1\" type=\"checkbox\" checked><label for=\"sk-estimator-id-1\" class=\"sk-toggleable__label sk-toggleable__label-arrow\">XGBClassifier</label><div class=\"sk-toggleable__content\"><pre>XGBClassifier(base_score=None, booster=None, callbacks=None,\n              colsample_bylevel=None, colsample_bynode=None,\n              colsample_bytree=0.61, device=None, early_stopping_rounds=None,\n              enable_categorical=False, eta=0.25, eval_metric=&#x27;auc&#x27;,\n              feature_types=None, gamma=0.8, grow_policy=None,\n              importance_type=None, interaction_constraints=None,\n              learning_rate=0.22, max_bin=None, max_cat_threshold=None,\n              max_cat_to_onehot=None, max_delta_step=None, max_depth=16,\n              max_leaves=None, min_child_weight=0.0, missing=nan,\n              monotone_constraints=None, multi_strategy=None, n_estimators=812,\n              n_jobs=None, num_parallel_tree=None, ...)</pre></div></div></div></div></div>"
     },
     "execution_count": 15,
     "metadata": {},
     "output_type": "execute_result"
    }
   ],
   "source": [
    "import shap\n",
    "import numpy as np\n",
    "\n",
    "best_hyperparams_formatted = best_hyperparams.copy()\n",
    "best_hyperparams_formatted['max_depth'] = int(best_hyperparams['max_depth'])\n",
    "best_hyperparams_formatted['eval_metric'] = 'auc'\n",
    "best_hyperparams_formatted['objective'] = 'binary:logistic'\n",
    "best_hyperparams_formatted['seed'] = 24\n",
    "\n",
    "best_model = xgb.XGBClassifier(**best_hyperparams_formatted)\n",
    "best_model.fit(X_train, y_train)"
   ],
   "metadata": {
    "collapsed": false
   }
  },
  {
   "cell_type": "code",
   "execution_count": 16,
   "outputs": [],
   "source": [
    "# from sklearn.metrics import accuracy_score\n",
    "#\n",
    "# # Assuming you have already trained the model and made predictions as shown in the previous example\n",
    "# # y_pred contains the predicted class labels (0 or 1) or probabilities\n",
    "#\n",
    "# # Convert predicted probabilities to class labels (0 or 1)\n",
    "# y_pred = best_model.predict(X_test)\n",
    "# y_pred_binary = [1 if p >= 0.5 else 0 for p in y_pred]\n",
    "#\n",
    "# # Calculate accuracy\n",
    "# accuracy = accuracy_score(y_test, y_pred_binary)\n",
    "# print(f'Accuracy on the testing data: {accuracy}')"
   ],
   "metadata": {
    "collapsed": false
   }
  },
  {
   "cell_type": "code",
   "execution_count": 17,
   "outputs": [
    {
     "name": "stderr",
     "output_type": "stream",
     "text": [
      "[19:06:05] WARNING: /Users/runner/work/xgboost/xgboost/src/c_api/c_api.cc:1240: Saving into deprecated binary model format, please consider using `json` or `ubj`. Model format will default to JSON in XGBoost 2.2 if not specified.\n"
     ]
    }
   ],
   "source": [
    "# Generate Shapley values\n",
    "explainer = shap.Explainer(best_model)\n",
    "shap_values = explainer(X_test) # change to X_test"
   ],
   "metadata": {
    "collapsed": false
   }
  },
  {
   "cell_type": "code",
   "execution_count": 18,
   "outputs": [
    {
     "data": {
      "text/plain": ".values =\narray([[-1.7404778e+00, -4.1082469e-03,  4.1304093e-02, ...,\n        -1.4427603e-02,  5.9829680e-03, -1.3749576e-01],\n       [-2.3158967e+00,  3.3322457e-02, -2.7893627e-01, ...,\n         2.7248016e-02,  6.6644903e-03, -3.9639946e-02],\n       [-1.7632731e+00, -1.0290778e-02,  2.9730525e-02, ...,\n        -2.7645594e-03,  6.0550719e-03, -5.2783541e-02],\n       ...,\n       [-6.5731722e-01, -1.4291168e-02, -1.0602211e-01, ...,\n        -1.0670650e-02,  2.9527931e-03, -1.0297690e-02],\n       [-1.2164551e-01,  3.4802392e-02,  6.1159015e-02, ...,\n        -3.0928228e-02,  6.2047630e-03,  2.8228542e-02],\n       [-1.1291826e+00, -1.3688355e-02,  3.9266651e-03, ...,\n         5.0716352e-02,  1.3846613e-03, -4.4096172e-02]], dtype=float32)\n\n.base_values =\narray([-0.01115074, -0.01115074, -0.01115074, ..., -0.01115074,\n       -0.01115074, -0.01115074], dtype=float32)\n\n.data =\narray([[26.,  4.,  2., ...,  1.,  0.,  7.],\n       [ 6.,  2.,  4., ...,  1.,  0.,  7.],\n       [26.,  3.,  1., ...,  0.,  0.,  7.],\n       ...,\n       [46.,  3.,  4., ...,  1.,  0.,  7.],\n       [ 6.,  3.,  1., ...,  0.,  0.,  7.],\n       [16.,  3.,  1., ...,  1.,  0.,  7.]])"
     },
     "execution_count": 18,
     "metadata": {},
     "output_type": "execute_result"
    }
   ],
   "source": [
    "shap_values   # Can we export these values as a csv? Trying to find a way to not have to run them each time"
   ],
   "metadata": {
    "collapsed": false
   }
  },
  {
   "cell_type": "code",
   "execution_count": 19,
   "outputs": [
    {
     "data": {
      "text/plain": "0"
     },
     "execution_count": 19,
     "metadata": {},
     "output_type": "execute_result"
    }
   ],
   "source": [
    "import os\n",
    "os.system('say \"Work complete\"')"
   ],
   "metadata": {
    "collapsed": false
   }
  },
  {
   "cell_type": "code",
   "execution_count": 20,
   "outputs": [
    {
     "data": {
      "text/plain": "           feature_name  feature_importance  abs_feature_importance\n0              SERVICES            1.174550                0.248819\n1                STFIPS            0.868761                0.184040\n2               PSOURCE            0.290875                0.061620\n3               NOPRIOR            0.258124                0.054682\n4                 FREQ1            0.169827                0.035977\n5               DSMCRIT            0.122623                0.025977\n6               HLTHINS            0.122367                0.025923\n7               PSYPROB            0.107691                0.022814\n8               PRIMPAY            0.103206                0.021863\n9                   AGE            0.095984                0.020333\n10  FREQ_ATND_SELF_HELP            0.093302                0.019765\n11              ARRESTS            0.085401                0.018092\n12              PRIMINC            0.085122                0.018032\n13              DAYWAIT            0.081339                0.017231\n14              LIVARAG            0.079652                0.016874\n15            DETEMPLOY            0.071704                0.015190\n16               HERFLG            0.066558                0.014100\n17             FRSTUSE1            0.064455                0.013654\n18              DETCRIM            0.063934                0.013544\n19                FREQ2            0.055306                0.011716\n20                 SUB2            0.048115                0.010193\n21             MTHAMFLG            0.044961                0.009525\n22                 SUB3            0.044718                0.009473\n23               ROUTE2            0.043432                0.009201\n24                 PREG            0.040786                0.008640\n25                 EDUC            0.039782                0.008428\n26               ROUTE3            0.039095                0.008282\n27                FREQ3            0.038944                0.008250\n28                 RACE            0.036409                0.007713\n29              MARSTAT            0.035563                0.007534\n30               ROUTE1            0.035394                0.007498\n31                  IDU            0.031517                0.006677\n32               MARFLG            0.026115                0.005532\n33             FRSTUSE2            0.024486                0.005187\n34               ALCFLG            0.023254                0.004926\n35                 SUB1            0.018674                0.003956\n36             FRSTUSE3            0.014390                0.003048\n37               GENDER            0.012393                0.002625\n38              COKEFLG            0.011707                0.002480\n39             OPSYNFLG            0.011408                0.002417\n40               ETHNIC            0.009924                0.002102\n41              ALCDRUG            0.007010                0.001485\n42                  VET            0.006172                0.001307\n43              BENZFLG            0.005307                0.001124\n44             OTHERFLG            0.003358                0.000711\n45              METHFLG            0.002549                0.000540\n46              AMPHFLG            0.001574                0.000334\n47              STIMFLG            0.001148                0.000243\n48             SEDHPFLG            0.000891                0.000189\n49              HALLFLG            0.000225                0.000048\n50               PCPFLG            0.000206                0.000044\n51               OTCFLG            0.000077                0.000016\n52              BARBFLG            0.000059                0.000012\n53              TRNQFLG            0.000037                0.000008\n54               INHFLG            0.000031                0.000007",
      "text/html": "<div>\n<style scoped>\n    .dataframe tbody tr th:only-of-type {\n        vertical-align: middle;\n    }\n\n    .dataframe tbody tr th {\n        vertical-align: top;\n    }\n\n    .dataframe thead th {\n        text-align: right;\n    }\n</style>\n<table border=\"1\" class=\"dataframe\">\n  <thead>\n    <tr style=\"text-align: right;\">\n      <th></th>\n      <th>feature_name</th>\n      <th>feature_importance</th>\n      <th>abs_feature_importance</th>\n    </tr>\n  </thead>\n  <tbody>\n    <tr>\n      <th>0</th>\n      <td>SERVICES</td>\n      <td>1.174550</td>\n      <td>0.248819</td>\n    </tr>\n    <tr>\n      <th>1</th>\n      <td>STFIPS</td>\n      <td>0.868761</td>\n      <td>0.184040</td>\n    </tr>\n    <tr>\n      <th>2</th>\n      <td>PSOURCE</td>\n      <td>0.290875</td>\n      <td>0.061620</td>\n    </tr>\n    <tr>\n      <th>3</th>\n      <td>NOPRIOR</td>\n      <td>0.258124</td>\n      <td>0.054682</td>\n    </tr>\n    <tr>\n      <th>4</th>\n      <td>FREQ1</td>\n      <td>0.169827</td>\n      <td>0.035977</td>\n    </tr>\n    <tr>\n      <th>5</th>\n      <td>DSMCRIT</td>\n      <td>0.122623</td>\n      <td>0.025977</td>\n    </tr>\n    <tr>\n      <th>6</th>\n      <td>HLTHINS</td>\n      <td>0.122367</td>\n      <td>0.025923</td>\n    </tr>\n    <tr>\n      <th>7</th>\n      <td>PSYPROB</td>\n      <td>0.107691</td>\n      <td>0.022814</td>\n    </tr>\n    <tr>\n      <th>8</th>\n      <td>PRIMPAY</td>\n      <td>0.103206</td>\n      <td>0.021863</td>\n    </tr>\n    <tr>\n      <th>9</th>\n      <td>AGE</td>\n      <td>0.095984</td>\n      <td>0.020333</td>\n    </tr>\n    <tr>\n      <th>10</th>\n      <td>FREQ_ATND_SELF_HELP</td>\n      <td>0.093302</td>\n      <td>0.019765</td>\n    </tr>\n    <tr>\n      <th>11</th>\n      <td>ARRESTS</td>\n      <td>0.085401</td>\n      <td>0.018092</td>\n    </tr>\n    <tr>\n      <th>12</th>\n      <td>PRIMINC</td>\n      <td>0.085122</td>\n      <td>0.018032</td>\n    </tr>\n    <tr>\n      <th>13</th>\n      <td>DAYWAIT</td>\n      <td>0.081339</td>\n      <td>0.017231</td>\n    </tr>\n    <tr>\n      <th>14</th>\n      <td>LIVARAG</td>\n      <td>0.079652</td>\n      <td>0.016874</td>\n    </tr>\n    <tr>\n      <th>15</th>\n      <td>DETEMPLOY</td>\n      <td>0.071704</td>\n      <td>0.015190</td>\n    </tr>\n    <tr>\n      <th>16</th>\n      <td>HERFLG</td>\n      <td>0.066558</td>\n      <td>0.014100</td>\n    </tr>\n    <tr>\n      <th>17</th>\n      <td>FRSTUSE1</td>\n      <td>0.064455</td>\n      <td>0.013654</td>\n    </tr>\n    <tr>\n      <th>18</th>\n      <td>DETCRIM</td>\n      <td>0.063934</td>\n      <td>0.013544</td>\n    </tr>\n    <tr>\n      <th>19</th>\n      <td>FREQ2</td>\n      <td>0.055306</td>\n      <td>0.011716</td>\n    </tr>\n    <tr>\n      <th>20</th>\n      <td>SUB2</td>\n      <td>0.048115</td>\n      <td>0.010193</td>\n    </tr>\n    <tr>\n      <th>21</th>\n      <td>MTHAMFLG</td>\n      <td>0.044961</td>\n      <td>0.009525</td>\n    </tr>\n    <tr>\n      <th>22</th>\n      <td>SUB3</td>\n      <td>0.044718</td>\n      <td>0.009473</td>\n    </tr>\n    <tr>\n      <th>23</th>\n      <td>ROUTE2</td>\n      <td>0.043432</td>\n      <td>0.009201</td>\n    </tr>\n    <tr>\n      <th>24</th>\n      <td>PREG</td>\n      <td>0.040786</td>\n      <td>0.008640</td>\n    </tr>\n    <tr>\n      <th>25</th>\n      <td>EDUC</td>\n      <td>0.039782</td>\n      <td>0.008428</td>\n    </tr>\n    <tr>\n      <th>26</th>\n      <td>ROUTE3</td>\n      <td>0.039095</td>\n      <td>0.008282</td>\n    </tr>\n    <tr>\n      <th>27</th>\n      <td>FREQ3</td>\n      <td>0.038944</td>\n      <td>0.008250</td>\n    </tr>\n    <tr>\n      <th>28</th>\n      <td>RACE</td>\n      <td>0.036409</td>\n      <td>0.007713</td>\n    </tr>\n    <tr>\n      <th>29</th>\n      <td>MARSTAT</td>\n      <td>0.035563</td>\n      <td>0.007534</td>\n    </tr>\n    <tr>\n      <th>30</th>\n      <td>ROUTE1</td>\n      <td>0.035394</td>\n      <td>0.007498</td>\n    </tr>\n    <tr>\n      <th>31</th>\n      <td>IDU</td>\n      <td>0.031517</td>\n      <td>0.006677</td>\n    </tr>\n    <tr>\n      <th>32</th>\n      <td>MARFLG</td>\n      <td>0.026115</td>\n      <td>0.005532</td>\n    </tr>\n    <tr>\n      <th>33</th>\n      <td>FRSTUSE2</td>\n      <td>0.024486</td>\n      <td>0.005187</td>\n    </tr>\n    <tr>\n      <th>34</th>\n      <td>ALCFLG</td>\n      <td>0.023254</td>\n      <td>0.004926</td>\n    </tr>\n    <tr>\n      <th>35</th>\n      <td>SUB1</td>\n      <td>0.018674</td>\n      <td>0.003956</td>\n    </tr>\n    <tr>\n      <th>36</th>\n      <td>FRSTUSE3</td>\n      <td>0.014390</td>\n      <td>0.003048</td>\n    </tr>\n    <tr>\n      <th>37</th>\n      <td>GENDER</td>\n      <td>0.012393</td>\n      <td>0.002625</td>\n    </tr>\n    <tr>\n      <th>38</th>\n      <td>COKEFLG</td>\n      <td>0.011707</td>\n      <td>0.002480</td>\n    </tr>\n    <tr>\n      <th>39</th>\n      <td>OPSYNFLG</td>\n      <td>0.011408</td>\n      <td>0.002417</td>\n    </tr>\n    <tr>\n      <th>40</th>\n      <td>ETHNIC</td>\n      <td>0.009924</td>\n      <td>0.002102</td>\n    </tr>\n    <tr>\n      <th>41</th>\n      <td>ALCDRUG</td>\n      <td>0.007010</td>\n      <td>0.001485</td>\n    </tr>\n    <tr>\n      <th>42</th>\n      <td>VET</td>\n      <td>0.006172</td>\n      <td>0.001307</td>\n    </tr>\n    <tr>\n      <th>43</th>\n      <td>BENZFLG</td>\n      <td>0.005307</td>\n      <td>0.001124</td>\n    </tr>\n    <tr>\n      <th>44</th>\n      <td>OTHERFLG</td>\n      <td>0.003358</td>\n      <td>0.000711</td>\n    </tr>\n    <tr>\n      <th>45</th>\n      <td>METHFLG</td>\n      <td>0.002549</td>\n      <td>0.000540</td>\n    </tr>\n    <tr>\n      <th>46</th>\n      <td>AMPHFLG</td>\n      <td>0.001574</td>\n      <td>0.000334</td>\n    </tr>\n    <tr>\n      <th>47</th>\n      <td>STIMFLG</td>\n      <td>0.001148</td>\n      <td>0.000243</td>\n    </tr>\n    <tr>\n      <th>48</th>\n      <td>SEDHPFLG</td>\n      <td>0.000891</td>\n      <td>0.000189</td>\n    </tr>\n    <tr>\n      <th>49</th>\n      <td>HALLFLG</td>\n      <td>0.000225</td>\n      <td>0.000048</td>\n    </tr>\n    <tr>\n      <th>50</th>\n      <td>PCPFLG</td>\n      <td>0.000206</td>\n      <td>0.000044</td>\n    </tr>\n    <tr>\n      <th>51</th>\n      <td>OTCFLG</td>\n      <td>0.000077</td>\n      <td>0.000016</td>\n    </tr>\n    <tr>\n      <th>52</th>\n      <td>BARBFLG</td>\n      <td>0.000059</td>\n      <td>0.000012</td>\n    </tr>\n    <tr>\n      <th>53</th>\n      <td>TRNQFLG</td>\n      <td>0.000037</td>\n      <td>0.000008</td>\n    </tr>\n    <tr>\n      <th>54</th>\n      <td>INHFLG</td>\n      <td>0.000031</td>\n      <td>0.000007</td>\n    </tr>\n  </tbody>\n</table>\n</div>"
     },
     "execution_count": 20,
     "metadata": {},
     "output_type": "execute_result"
    }
   ],
   "source": [
    "def absolute_share(input_list):\n",
    "    absolute_list = [abs(i) for i in input_list]\n",
    "    absolute_share_list = [j/sum(absolute_list) for j in absolute_list]\n",
    "    return absolute_share_list\n",
    "\n",
    "# Show table of top Shapley values\n",
    "feature_names = X_test.columns\n",
    "result = pd.DataFrame(shap_values.values, columns=feature_names, index=X_test.index)\n",
    "# result.to_csv('shapley_results.csv', index=False)\n",
    "\n",
    "values = np.abs(result.values).mean(0)\n",
    "abs_values = absolute_share(np.abs(result.values).mean(0))\n",
    "shap_importance = pd.DataFrame(list(zip(feature_names, values, abs_values)), columns=['feature_name','feature_importance', 'abs_feature_importance'])\n",
    "shap_importance.sort_values(by=['feature_importance'], ascending=False, inplace=True)\n",
    "shap_importance.reset_index(drop=True)"
   ],
   "metadata": {
    "collapsed": false
   }
  },
  {
   "cell_type": "code",
   "execution_count": 51,
   "outputs": [
    {
     "data": {
      "text/plain": "0.07963869985123616"
     },
     "execution_count": 51,
     "metadata": {},
     "output_type": "execute_result"
    }
   ],
   "source": [
    "# (-0.1199*12982 + -0.0953*13336 + 0.0634*53816 + -0.0368*4564)/(12982 + 13336 + 53816 + 4564)\n",
    "(0.1295*12982 + 0.0995*13336 + 0.0641*53816 + 0.0630*4564)/(12982 + 13336 + 53816 + 4564)"
   ],
   "metadata": {
    "collapsed": false
   }
  },
  {
   "cell_type": "code",
   "execution_count": 22,
   "outputs": [
    {
     "name": "stdout",
     "output_type": "stream",
     "text": [
      "{0: 'DependLiving', 1: 'Homeless', 2: 'IndependentLiving', 3: 'Unknown'}\n"
     ]
    },
    {
     "data": {
      "text/plain": "LIVARAG\n2    53816\n1    13336\n0    12982\n3     4564\nName: count, dtype: int64"
     },
     "execution_count": 22,
     "metadata": {},
     "output_type": "execute_result"
    }
   ],
   "source": [
    "livarag_dict = {0:'DependLiving', 1:'Homeless', 2:'IndependentLiving', 3:'Unknown'}\n",
    "print(livarag_dict)\n",
    "X_test.value_counts('LIVARAG')\n",
    "# df2.value_counts('LIVARAG')"
   ],
   "metadata": {
    "collapsed": false
   }
  },
  {
   "cell_type": "code",
   "execution_count": 56,
   "outputs": [
    {
     "data": {
      "text/plain": "           LIVARAG  absolute_livarag\nhomeless                            \n0        -0.119941          0.129485\n1        -0.095273          0.099458\n2         0.063370          0.064133\n3        -0.036754          0.063048",
      "text/html": "<div>\n<style scoped>\n    .dataframe tbody tr th:only-of-type {\n        vertical-align: middle;\n    }\n\n    .dataframe tbody tr th {\n        vertical-align: top;\n    }\n\n    .dataframe thead th {\n        text-align: right;\n    }\n</style>\n<table border=\"1\" class=\"dataframe\">\n  <thead>\n    <tr style=\"text-align: right;\">\n      <th></th>\n      <th>LIVARAG</th>\n      <th>absolute_livarag</th>\n    </tr>\n    <tr>\n      <th>homeless</th>\n      <th></th>\n      <th></th>\n    </tr>\n  </thead>\n  <tbody>\n    <tr>\n      <th>0</th>\n      <td>-0.119941</td>\n      <td>0.129485</td>\n    </tr>\n    <tr>\n      <th>1</th>\n      <td>-0.095273</td>\n      <td>0.099458</td>\n    </tr>\n    <tr>\n      <th>2</th>\n      <td>0.063370</td>\n      <td>0.064133</td>\n    </tr>\n    <tr>\n      <th>3</th>\n      <td>-0.036754</td>\n      <td>0.063048</td>\n    </tr>\n  </tbody>\n</table>\n</div>"
     },
     "execution_count": 56,
     "metadata": {},
     "output_type": "execute_result"
    }
   ],
   "source": [
    "# result = pd.read_csv('shapley_results.csv')\n",
    "result_homeless = result.copy()\n",
    "result_homeless.insert(0, 'homeless', X_test['LIVARAG'])\n",
    "result_homeless.insert(1, 'absolute_livarag', abs(result_homeless['LIVARAG']))\n",
    "result_homeless_grouped = result_homeless.groupby('homeless').mean()[['LIVARAG', 'absolute_livarag']]\n",
    "result_homeless_var = result_homeless_grouped.iloc[0]['LIVARAG']\n",
    "result_homeless_grouped"
   ],
   "metadata": {
    "collapsed": false
   }
  },
  {
   "cell_type": "code",
   "execution_count": 70,
   "outputs": [
    {
     "data": {
      "text/plain": "        avg_homeless_shapley  overall_homeless_shapley  \\\nSTFIPS                                                   \nAK                 -0.055369                 -0.119941   \nAL                 -0.056504                 -0.119941   \nAR                 -0.066819                 -0.119941   \nCA                 -0.185559                 -0.119941   \nCO                 -0.037049                 -0.119941   \nCT                 -0.128063                 -0.119941   \nDC                 -0.097710                 -0.119941   \nDE                 -0.131351                 -0.119941   \nGA                 -0.103668                 -0.119941   \nHI                 -0.077714                 -0.119941   \nIA                 -0.068812                 -0.119941   \nID                 -0.101926                 -0.119941   \nIL                 -0.122390                 -0.119941   \nIN                 -0.112079                 -0.119941   \nKS                 -0.149169                 -0.119941   \nKY                 -0.101174                 -0.119941   \nLA                 -0.126680                 -0.119941   \nMA                 -0.108881                 -0.119941   \nMD                 -0.136765                 -0.119941   \nME                 -0.004686                 -0.119941   \nMI                 -0.088623                 -0.119941   \nMN                 -0.024237                 -0.119941   \nMO                 -0.008248                 -0.119941   \nMS                 -0.006124                 -0.119941   \nMT                  0.072895                 -0.119941   \nNC                 -0.038001                 -0.119941   \nND                  0.003697                 -0.119941   \nNE                 -0.087937                 -0.119941   \nNH                 -0.022514                 -0.119941   \nNJ                 -0.097965                 -0.119941   \nNM                 -0.128085                 -0.119941   \nNV                 -0.026659                 -0.119941   \nNY                 -0.050267                 -0.119941   \nOH                  0.008439                 -0.119941   \nOK                 -0.000843                 -0.119941   \nPA                  0.007982                 -0.119941   \nPR                 -0.060022                 -0.119941   \nRI                 -0.030732                 -0.119941   \nSC                 -0.003384                 -0.119941   \nSD                 -0.055372                 -0.119941   \nTN                 -0.046565                 -0.119941   \nTX                 -0.124692                 -0.119941   \nUT                 -0.069597                 -0.119941   \nVA                 -0.067450                 -0.119941   \nVT                 -0.048834                 -0.119941   \nWI                 -0.087163                 -0.119941   \nWY                 -0.008645                 -0.119941   \n\n        pct_diff_homeless_shapley  \nSTFIPS                             \nAK                       0.538361  \nAL                       0.528897  \nAR                       0.442901  \nCA                      -0.547090  \nCO                       0.691104  \nCT                      -0.067714  \nDC                       0.185351  \nDE                      -0.095130  \nGA                       0.135673  \nHI                       0.352065  \nIA                       0.426282  \nID                       0.150194  \nIL                      -0.020418  \nIN                       0.065544  \nKS                      -0.243684  \nKY                       0.156464  \nLA                      -0.056190  \nMA                       0.092211  \nMD                      -0.140268  \nME                       0.960932  \nMI                       0.261114  \nMN                       0.797922  \nMO                       0.931233  \nMS                       0.948943  \nMT                       1.607762  \nNC                       0.683172  \nND                       1.030824  \nNE                       0.266833  \nNH                       0.812293  \nNJ                       0.183222  \nNM                      -0.067899  \nNV                       0.777730  \nNY                       0.580899  \nOH                       1.070359  \nOK                       0.992972  \nPA                       1.066550  \nPR                       0.499568  \nRI                       0.743771  \nSC                       0.971783  \nSD                       0.538339  \nTN                       0.611764  \nTX                      -0.039613  \nUT                       0.419743  \nVA                       0.437638  \nVT                       0.592853  \nWI                       0.273282  \nWY                       0.927923  ",
      "text/html": "<div>\n<style scoped>\n    .dataframe tbody tr th:only-of-type {\n        vertical-align: middle;\n    }\n\n    .dataframe tbody tr th {\n        vertical-align: top;\n    }\n\n    .dataframe thead th {\n        text-align: right;\n    }\n</style>\n<table border=\"1\" class=\"dataframe\">\n  <thead>\n    <tr style=\"text-align: right;\">\n      <th></th>\n      <th>avg_homeless_shapley</th>\n      <th>overall_homeless_shapley</th>\n      <th>pct_diff_homeless_shapley</th>\n    </tr>\n    <tr>\n      <th>STFIPS</th>\n      <th></th>\n      <th></th>\n      <th></th>\n    </tr>\n  </thead>\n  <tbody>\n    <tr>\n      <th>AK</th>\n      <td>-0.055369</td>\n      <td>-0.119941</td>\n      <td>0.538361</td>\n    </tr>\n    <tr>\n      <th>AL</th>\n      <td>-0.056504</td>\n      <td>-0.119941</td>\n      <td>0.528897</td>\n    </tr>\n    <tr>\n      <th>AR</th>\n      <td>-0.066819</td>\n      <td>-0.119941</td>\n      <td>0.442901</td>\n    </tr>\n    <tr>\n      <th>CA</th>\n      <td>-0.185559</td>\n      <td>-0.119941</td>\n      <td>-0.547090</td>\n    </tr>\n    <tr>\n      <th>CO</th>\n      <td>-0.037049</td>\n      <td>-0.119941</td>\n      <td>0.691104</td>\n    </tr>\n    <tr>\n      <th>CT</th>\n      <td>-0.128063</td>\n      <td>-0.119941</td>\n      <td>-0.067714</td>\n    </tr>\n    <tr>\n      <th>DC</th>\n      <td>-0.097710</td>\n      <td>-0.119941</td>\n      <td>0.185351</td>\n    </tr>\n    <tr>\n      <th>DE</th>\n      <td>-0.131351</td>\n      <td>-0.119941</td>\n      <td>-0.095130</td>\n    </tr>\n    <tr>\n      <th>GA</th>\n      <td>-0.103668</td>\n      <td>-0.119941</td>\n      <td>0.135673</td>\n    </tr>\n    <tr>\n      <th>HI</th>\n      <td>-0.077714</td>\n      <td>-0.119941</td>\n      <td>0.352065</td>\n    </tr>\n    <tr>\n      <th>IA</th>\n      <td>-0.068812</td>\n      <td>-0.119941</td>\n      <td>0.426282</td>\n    </tr>\n    <tr>\n      <th>ID</th>\n      <td>-0.101926</td>\n      <td>-0.119941</td>\n      <td>0.150194</td>\n    </tr>\n    <tr>\n      <th>IL</th>\n      <td>-0.122390</td>\n      <td>-0.119941</td>\n      <td>-0.020418</td>\n    </tr>\n    <tr>\n      <th>IN</th>\n      <td>-0.112079</td>\n      <td>-0.119941</td>\n      <td>0.065544</td>\n    </tr>\n    <tr>\n      <th>KS</th>\n      <td>-0.149169</td>\n      <td>-0.119941</td>\n      <td>-0.243684</td>\n    </tr>\n    <tr>\n      <th>KY</th>\n      <td>-0.101174</td>\n      <td>-0.119941</td>\n      <td>0.156464</td>\n    </tr>\n    <tr>\n      <th>LA</th>\n      <td>-0.126680</td>\n      <td>-0.119941</td>\n      <td>-0.056190</td>\n    </tr>\n    <tr>\n      <th>MA</th>\n      <td>-0.108881</td>\n      <td>-0.119941</td>\n      <td>0.092211</td>\n    </tr>\n    <tr>\n      <th>MD</th>\n      <td>-0.136765</td>\n      <td>-0.119941</td>\n      <td>-0.140268</td>\n    </tr>\n    <tr>\n      <th>ME</th>\n      <td>-0.004686</td>\n      <td>-0.119941</td>\n      <td>0.960932</td>\n    </tr>\n    <tr>\n      <th>MI</th>\n      <td>-0.088623</td>\n      <td>-0.119941</td>\n      <td>0.261114</td>\n    </tr>\n    <tr>\n      <th>MN</th>\n      <td>-0.024237</td>\n      <td>-0.119941</td>\n      <td>0.797922</td>\n    </tr>\n    <tr>\n      <th>MO</th>\n      <td>-0.008248</td>\n      <td>-0.119941</td>\n      <td>0.931233</td>\n    </tr>\n    <tr>\n      <th>MS</th>\n      <td>-0.006124</td>\n      <td>-0.119941</td>\n      <td>0.948943</td>\n    </tr>\n    <tr>\n      <th>MT</th>\n      <td>0.072895</td>\n      <td>-0.119941</td>\n      <td>1.607762</td>\n    </tr>\n    <tr>\n      <th>NC</th>\n      <td>-0.038001</td>\n      <td>-0.119941</td>\n      <td>0.683172</td>\n    </tr>\n    <tr>\n      <th>ND</th>\n      <td>0.003697</td>\n      <td>-0.119941</td>\n      <td>1.030824</td>\n    </tr>\n    <tr>\n      <th>NE</th>\n      <td>-0.087937</td>\n      <td>-0.119941</td>\n      <td>0.266833</td>\n    </tr>\n    <tr>\n      <th>NH</th>\n      <td>-0.022514</td>\n      <td>-0.119941</td>\n      <td>0.812293</td>\n    </tr>\n    <tr>\n      <th>NJ</th>\n      <td>-0.097965</td>\n      <td>-0.119941</td>\n      <td>0.183222</td>\n    </tr>\n    <tr>\n      <th>NM</th>\n      <td>-0.128085</td>\n      <td>-0.119941</td>\n      <td>-0.067899</td>\n    </tr>\n    <tr>\n      <th>NV</th>\n      <td>-0.026659</td>\n      <td>-0.119941</td>\n      <td>0.777730</td>\n    </tr>\n    <tr>\n      <th>NY</th>\n      <td>-0.050267</td>\n      <td>-0.119941</td>\n      <td>0.580899</td>\n    </tr>\n    <tr>\n      <th>OH</th>\n      <td>0.008439</td>\n      <td>-0.119941</td>\n      <td>1.070359</td>\n    </tr>\n    <tr>\n      <th>OK</th>\n      <td>-0.000843</td>\n      <td>-0.119941</td>\n      <td>0.992972</td>\n    </tr>\n    <tr>\n      <th>PA</th>\n      <td>0.007982</td>\n      <td>-0.119941</td>\n      <td>1.066550</td>\n    </tr>\n    <tr>\n      <th>PR</th>\n      <td>-0.060022</td>\n      <td>-0.119941</td>\n      <td>0.499568</td>\n    </tr>\n    <tr>\n      <th>RI</th>\n      <td>-0.030732</td>\n      <td>-0.119941</td>\n      <td>0.743771</td>\n    </tr>\n    <tr>\n      <th>SC</th>\n      <td>-0.003384</td>\n      <td>-0.119941</td>\n      <td>0.971783</td>\n    </tr>\n    <tr>\n      <th>SD</th>\n      <td>-0.055372</td>\n      <td>-0.119941</td>\n      <td>0.538339</td>\n    </tr>\n    <tr>\n      <th>TN</th>\n      <td>-0.046565</td>\n      <td>-0.119941</td>\n      <td>0.611764</td>\n    </tr>\n    <tr>\n      <th>TX</th>\n      <td>-0.124692</td>\n      <td>-0.119941</td>\n      <td>-0.039613</td>\n    </tr>\n    <tr>\n      <th>UT</th>\n      <td>-0.069597</td>\n      <td>-0.119941</td>\n      <td>0.419743</td>\n    </tr>\n    <tr>\n      <th>VA</th>\n      <td>-0.067450</td>\n      <td>-0.119941</td>\n      <td>0.437638</td>\n    </tr>\n    <tr>\n      <th>VT</th>\n      <td>-0.048834</td>\n      <td>-0.119941</td>\n      <td>0.592853</td>\n    </tr>\n    <tr>\n      <th>WI</th>\n      <td>-0.087163</td>\n      <td>-0.119941</td>\n      <td>0.273282</td>\n    </tr>\n    <tr>\n      <th>WY</th>\n      <td>-0.008645</td>\n      <td>-0.119941</td>\n      <td>0.927923</td>\n    </tr>\n  </tbody>\n</table>\n</div>"
     },
     "execution_count": 70,
     "metadata": {},
     "output_type": "execute_result"
    }
   ],
   "source": [
    "# Group by state\n",
    "result_shapley = result[['LIVARAG']].rename(columns={'LIVARAG':'homeless_shapley'})\n",
    "df2_homeless = df2[df2['LIVARAG']=='Homeless'][['STFIPS']]\n",
    "result_state = pd.merge(result_shapley, df2_homeless, how='inner', left_index=True, right_index=True)\n",
    "\n",
    "# Calculate state average, std, coefficient of variation of shapley values\n",
    "# homeless_shapley_stdev = result_state['homeless_shapley'].std()\n",
    "# print('Shapley value standard deviation: ', homeless_shapley_stdev)\n",
    "result_state_mean = result_state.groupby('STFIPS').mean()\n",
    "result_state_mean = result_state_mean.rename(columns={'homeless_shapley': 'avg_homeless_shapley'})\n",
    "result_state_mean['overall_homeless_shapley'] = result_homeless_var\n",
    "result_state_mean['pct_diff_homeless_shapley'] = (result_state_mean['overall_homeless_shapley'] - result_state_mean['avg_homeless_shapley'])/result_state_mean['overall_homeless_shapley']\n",
    "# result_state_std = result_state.groupby('STFIPS').std()\n",
    "# result_state_std = result_state_std.rename(columns={'homeless_shapley': 'std_homeless_shapley'})\n",
    "# result_state = pd.merge(result_state_mean, result_state_std, left_index=True, right_index=True)\n",
    "# result_state['coefficient_of_variation'] = result_state['std_homeless_shapley']/result_state['avg_homeless_shapley']\n",
    "\n",
    "# Save, print results\n",
    "# result_state_mean.to_csv('shap_importance_by_state.csv')\n",
    "result_state_mean"
   ],
   "metadata": {
    "collapsed": false
   }
  },
  {
   "cell_type": "markdown",
   "source": [
    "# Plot Shapley values"
   ],
   "metadata": {
    "collapsed": false
   }
  },
  {
   "cell_type": "code",
   "execution_count": 37,
   "outputs": [
    {
     "data": {
      "text/plain": "<Figure size 600x500 with 1 Axes>",
      "image/png": "[encoded data removed]"
     },
     "metadata": {},
     "output_type": "display_data"
    }
   ],
   "source": [
    "# Show dependence plots for the top n features across all observations\n",
    "# NOTE: In order to get dependence plot to work, you must revert to matplotlib==3.1.3\n",
    "# Examples of dependence plots: https://slundberg.github.io/shap/notebooks/plots/dependence_plot.html\n",
    "\n",
    "shap.dependence_plot('LIVARAG', shap_values.values, X_test, x_jitter=0.3, alpha=0.02, interaction_index=None)"
   ],
   "metadata": {
    "collapsed": false
   }
  },
  {
   "cell_type": "code",
   "execution_count": 29,
   "outputs": [
    {
     "data": {
      "text/plain": "           feature_name  feature_importance  abs_feature_importance\n3              SERVICES            1.174550                0.248819\n0                STFIPS            0.868761                0.184040\n6               PSOURCE            0.290875                0.061620\n5               NOPRIOR            0.258124                0.054682\n25                FREQ1            0.169827                0.035977\n14              DSMCRIT            0.122623                0.025977\n31              HLTHINS            0.122367                0.025923\n8               PSYPROB            0.107691                0.022814\n32              PRIMPAY            0.103206                0.021863\n15                  AGE            0.095984                0.020333\n33  FREQ_ATND_SELF_HELP            0.093302                0.019765\n7               ARRESTS            0.085401                0.018092\n18              PRIMINC            0.085122                0.018032\n13              DAYWAIT            0.081339                0.017231\n12              LIVARAG            0.079652                0.016874\n54            DETEMPLOY            0.071704                0.015190\n37               HERFLG            0.066558                0.014100\n28             FRSTUSE1            0.064455                0.013654\n4               DETCRIM            0.063934                0.013544\n26                FREQ2            0.055306                0.011716\n20                 SUB2            0.048115                0.010193\n42             MTHAMFLG            0.044961                0.009525\n21                 SUB3            0.044718                0.009473\n23               ROUTE2            0.043432                0.009201\n9                  PREG            0.040786                0.008640\n1                  EDUC            0.039782                0.008428\n24               ROUTE3            0.039095                0.008282\n27                FREQ3            0.038944                0.008250\n16                 RACE            0.036409                0.007713\n2               MARSTAT            0.035563                0.007534\n22               ROUTE1            0.035394                0.007498\n52                  IDU            0.031517                0.006677\n36               MARFLG            0.026115                0.005532\n29             FRSTUSE2            0.024486                0.005187\n34               ALCFLG            0.023254                0.004926\n19                 SUB1            0.018674                0.003956\n30             FRSTUSE3            0.014390                0.003048\n10               GENDER            0.012393                0.002625\n35              COKEFLG            0.011707                0.002480\n39             OPSYNFLG            0.011408                0.002417\n17               ETHNIC            0.009924                0.002102\n53              ALCDRUG            0.007010                0.001485\n11                  VET            0.006172                0.001307\n45              BENZFLG            0.005307                0.001124\n51             OTHERFLG            0.003358                0.000711\n38              METHFLG            0.002549                0.000540\n43              AMPHFLG            0.001574                0.000334\n44              STIMFLG            0.001148                0.000243\n48             SEDHPFLG            0.000891                0.000189\n41              HALLFLG            0.000225                0.000048\n40               PCPFLG            0.000206                0.000044\n50               OTCFLG            0.000077                0.000016\n47              BARBFLG            0.000059                0.000012\n46              TRNQFLG            0.000037                0.000008\n49               INHFLG            0.000031                0.000007",
      "text/html": "<div>\n<style scoped>\n    .dataframe tbody tr th:only-of-type {\n        vertical-align: middle;\n    }\n\n    .dataframe tbody tr th {\n        vertical-align: top;\n    }\n\n    .dataframe thead th {\n        text-align: right;\n    }\n</style>\n<table border=\"1\" class=\"dataframe\">\n  <thead>\n    <tr style=\"text-align: right;\">\n      <th></th>\n      <th>feature_name</th>\n      <th>feature_importance</th>\n      <th>abs_feature_importance</th>\n    </tr>\n  </thead>\n  <tbody>\n    <tr>\n      <th>3</th>\n      <td>SERVICES</td>\n      <td>1.174550</td>\n      <td>0.248819</td>\n    </tr>\n    <tr>\n      <th>0</th>\n      <td>STFIPS</td>\n      <td>0.868761</td>\n      <td>0.184040</td>\n    </tr>\n    <tr>\n      <th>6</th>\n      <td>PSOURCE</td>\n      <td>0.290875</td>\n      <td>0.061620</td>\n    </tr>\n    <tr>\n      <th>5</th>\n      <td>NOPRIOR</td>\n      <td>0.258124</td>\n      <td>0.054682</td>\n    </tr>\n    <tr>\n      <th>25</th>\n      <td>FREQ1</td>\n      <td>0.169827</td>\n      <td>0.035977</td>\n    </tr>\n    <tr>\n      <th>14</th>\n      <td>DSMCRIT</td>\n      <td>0.122623</td>\n      <td>0.025977</td>\n    </tr>\n    <tr>\n      <th>31</th>\n      <td>HLTHINS</td>\n      <td>0.122367</td>\n      <td>0.025923</td>\n    </tr>\n    <tr>\n      <th>8</th>\n      <td>PSYPROB</td>\n      <td>0.107691</td>\n      <td>0.022814</td>\n    </tr>\n    <tr>\n      <th>32</th>\n      <td>PRIMPAY</td>\n      <td>0.103206</td>\n      <td>0.021863</td>\n    </tr>\n    <tr>\n      <th>15</th>\n      <td>AGE</td>\n      <td>0.095984</td>\n      <td>0.020333</td>\n    </tr>\n    <tr>\n      <th>33</th>\n      <td>FREQ_ATND_SELF_HELP</td>\n      <td>0.093302</td>\n      <td>0.019765</td>\n    </tr>\n    <tr>\n      <th>7</th>\n      <td>ARRESTS</td>\n      <td>0.085401</td>\n      <td>0.018092</td>\n    </tr>\n    <tr>\n      <th>18</th>\n      <td>PRIMINC</td>\n      <td>0.085122</td>\n      <td>0.018032</td>\n    </tr>\n    <tr>\n      <th>13</th>\n      <td>DAYWAIT</td>\n      <td>0.081339</td>\n      <td>0.017231</td>\n    </tr>\n    <tr>\n      <th>12</th>\n      <td>LIVARAG</td>\n      <td>0.079652</td>\n      <td>0.016874</td>\n    </tr>\n    <tr>\n      <th>54</th>\n      <td>DETEMPLOY</td>\n      <td>0.071704</td>\n      <td>0.015190</td>\n    </tr>\n    <tr>\n      <th>37</th>\n      <td>HERFLG</td>\n      <td>0.066558</td>\n      <td>0.014100</td>\n    </tr>\n    <tr>\n      <th>28</th>\n      <td>FRSTUSE1</td>\n      <td>0.064455</td>\n      <td>0.013654</td>\n    </tr>\n    <tr>\n      <th>4</th>\n      <td>DETCRIM</td>\n      <td>0.063934</td>\n      <td>0.013544</td>\n    </tr>\n    <tr>\n      <th>26</th>\n      <td>FREQ2</td>\n      <td>0.055306</td>\n      <td>0.011716</td>\n    </tr>\n    <tr>\n      <th>20</th>\n      <td>SUB2</td>\n      <td>0.048115</td>\n      <td>0.010193</td>\n    </tr>\n    <tr>\n      <th>42</th>\n      <td>MTHAMFLG</td>\n      <td>0.044961</td>\n      <td>0.009525</td>\n    </tr>\n    <tr>\n      <th>21</th>\n      <td>SUB3</td>\n      <td>0.044718</td>\n      <td>0.009473</td>\n    </tr>\n    <tr>\n      <th>23</th>\n      <td>ROUTE2</td>\n      <td>0.043432</td>\n      <td>0.009201</td>\n    </tr>\n    <tr>\n      <th>9</th>\n      <td>PREG</td>\n      <td>0.040786</td>\n      <td>0.008640</td>\n    </tr>\n    <tr>\n      <th>1</th>\n      <td>EDUC</td>\n      <td>0.039782</td>\n      <td>0.008428</td>\n    </tr>\n    <tr>\n      <th>24</th>\n      <td>ROUTE3</td>\n      <td>0.039095</td>\n      <td>0.008282</td>\n    </tr>\n    <tr>\n      <th>27</th>\n      <td>FREQ3</td>\n      <td>0.038944</td>\n      <td>0.008250</td>\n    </tr>\n    <tr>\n      <th>16</th>\n      <td>RACE</td>\n      <td>0.036409</td>\n      <td>0.007713</td>\n    </tr>\n    <tr>\n      <th>2</th>\n      <td>MARSTAT</td>\n      <td>0.035563</td>\n      <td>0.007534</td>\n    </tr>\n    <tr>\n      <th>22</th>\n      <td>ROUTE1</td>\n      <td>0.035394</td>\n      <td>0.007498</td>\n    </tr>\n    <tr>\n      <th>52</th>\n      <td>IDU</td>\n      <td>0.031517</td>\n      <td>0.006677</td>\n    </tr>\n    <tr>\n      <th>36</th>\n      <td>MARFLG</td>\n      <td>0.026115</td>\n      <td>0.005532</td>\n    </tr>\n    <tr>\n      <th>29</th>\n      <td>FRSTUSE2</td>\n      <td>0.024486</td>\n      <td>0.005187</td>\n    </tr>\n    <tr>\n      <th>34</th>\n      <td>ALCFLG</td>\n      <td>0.023254</td>\n      <td>0.004926</td>\n    </tr>\n    <tr>\n      <th>19</th>\n      <td>SUB1</td>\n      <td>0.018674</td>\n      <td>0.003956</td>\n    </tr>\n    <tr>\n      <th>30</th>\n      <td>FRSTUSE3</td>\n      <td>0.014390</td>\n      <td>0.003048</td>\n    </tr>\n    <tr>\n      <th>10</th>\n      <td>GENDER</td>\n      <td>0.012393</td>\n      <td>0.002625</td>\n    </tr>\n    <tr>\n      <th>35</th>\n      <td>COKEFLG</td>\n      <td>0.011707</td>\n      <td>0.002480</td>\n    </tr>\n    <tr>\n      <th>39</th>\n      <td>OPSYNFLG</td>\n      <td>0.011408</td>\n      <td>0.002417</td>\n    </tr>\n    <tr>\n      <th>17</th>\n      <td>ETHNIC</td>\n      <td>0.009924</td>\n      <td>0.002102</td>\n    </tr>\n    <tr>\n      <th>53</th>\n      <td>ALCDRUG</td>\n      <td>0.007010</td>\n      <td>0.001485</td>\n    </tr>\n    <tr>\n      <th>11</th>\n      <td>VET</td>\n      <td>0.006172</td>\n      <td>0.001307</td>\n    </tr>\n    <tr>\n      <th>45</th>\n      <td>BENZFLG</td>\n      <td>0.005307</td>\n      <td>0.001124</td>\n    </tr>\n    <tr>\n      <th>51</th>\n      <td>OTHERFLG</td>\n      <td>0.003358</td>\n      <td>0.000711</td>\n    </tr>\n    <tr>\n      <th>38</th>\n      <td>METHFLG</td>\n      <td>0.002549</td>\n      <td>0.000540</td>\n    </tr>\n    <tr>\n      <th>43</th>\n      <td>AMPHFLG</td>\n      <td>0.001574</td>\n      <td>0.000334</td>\n    </tr>\n    <tr>\n      <th>44</th>\n      <td>STIMFLG</td>\n      <td>0.001148</td>\n      <td>0.000243</td>\n    </tr>\n    <tr>\n      <th>48</th>\n      <td>SEDHPFLG</td>\n      <td>0.000891</td>\n      <td>0.000189</td>\n    </tr>\n    <tr>\n      <th>41</th>\n      <td>HALLFLG</td>\n      <td>0.000225</td>\n      <td>0.000048</td>\n    </tr>\n    <tr>\n      <th>40</th>\n      <td>PCPFLG</td>\n      <td>0.000206</td>\n      <td>0.000044</td>\n    </tr>\n    <tr>\n      <th>50</th>\n      <td>OTCFLG</td>\n      <td>0.000077</td>\n      <td>0.000016</td>\n    </tr>\n    <tr>\n      <th>47</th>\n      <td>BARBFLG</td>\n      <td>0.000059</td>\n      <td>0.000012</td>\n    </tr>\n    <tr>\n      <th>46</th>\n      <td>TRNQFLG</td>\n      <td>0.000037</td>\n      <td>0.000008</td>\n    </tr>\n    <tr>\n      <th>49</th>\n      <td>INHFLG</td>\n      <td>0.000031</td>\n      <td>0.000007</td>\n    </tr>\n  </tbody>\n</table>\n</div>"
     },
     "execution_count": 29,
     "metadata": {},
     "output_type": "execute_result"
    }
   ],
   "source": [
    "shap_importance\n",
    "# shap_importance.to_csv('shap_importance.csv', index=False)"
   ],
   "metadata": {
    "collapsed": false
   }
  },
  {
   "cell_type": "markdown",
   "source": [
    "# Grouped feature importance"
   ],
   "metadata": {
    "collapsed": false
   }
  },
  {
   "cell_type": "code",
   "execution_count": 1,
   "outputs": [
    {
     "data": {
      "text/plain": "           feature_name             feature_label       feature_category  \\\n0                   AGE                       age            demographic   \n1               ALCDRUG        substance use type  substance use history   \n2                ALCFLG                   alcohol  substance use history   \n3               AMPHFLG              amphetamines  substance use history   \n4               ARRESTS                   arrests       personal history   \n5               BARBFLG              barbiturates  substance use history   \n6               BENZFLG           benzodiazepines  substance use history   \n7               COKEFLG                   cocaine  substance use history   \n8               DAYWAIT              days waiting   coordination of care   \n9               DETCRIM  ciminal justice referral   coordination of care   \n10            DETEMPLOY                employment               economic   \n11              DSMCRIT             dsm diagnosis        medical history   \n12                 EDUC                 education       personal history   \n13               ETHNIC                 ethnicity            demographic   \n14  FREQ_ATND_SELF_HELP           self help group        medical history   \n15                FREQ1         primary frequency  substance use history   \n16                FREQ2       secondary frequency  substance use history   \n17                FREQ3        tertiary frequency  substance use history   \n18             FRSTUSE1         primary first use  substance use history   \n19             FRSTUSE2       secondary first use  substance use history   \n20             FRSTUSE3        tertiary first use  substance use history   \n21               GENDER                    gender            demographic   \n22              HALLFLG             hallucinogens  substance use history   \n23               HERFLG                    heroin  substance use history   \n24              HLTHINS          health insurance               economic   \n25                  IDU                   iv drug  substance use history   \n26               INHFLG                 inhalants  substance use history   \n27              LIVARAG        living arrangement               economic   \n28               MARFLG                 marijuana  substance use history   \n29              MARSTAT            marital status       personal history   \n30              METHFLG                 methadone  substance use history   \n31             MTHAMFLG           methamphetamine  substance use history   \n32              NOPRIOR          prior treatments        medical history   \n33             OPSYNFLG                   opiates  substance use history   \n34               OTCFLG                  otc meds  substance use history   \n35             OTHERFLG                other drug  substance use history   \n36               PCPFLG                       pcp  substance use history   \n37                 PREG                  pregnant        medical history   \n38              PRIMINC             income source               economic   \n39              PRIMPAY            payment source               economic   \n40              PSOURCE           referral source   coordination of care   \n41              PSYPROB           mental disorder        medical history   \n42                 RACE                      race            demographic   \n43               ROUTE1             primary route  substance use history   \n44               ROUTE2           secondary route  substance use history   \n45               ROUTE3            tertiary route  substance use history   \n46             SEDHPFLG                 sedatives  substance use history   \n47             SERVICES         treatment service   coordination of care   \n48               STFIPS                state code             geographic   \n49              STIMFLG                stimulants  substance use history   \n50                 SUB1         primary substance  substance use history   \n51                 SUB2       secondary substance  substance use history   \n52                 SUB3        tertiary substance  substance use history   \n53              TRNQFLG             tranquilizers  substance use history   \n54                  VET            veteran status       personal history   \n\n    feature_importance  abs_feature_importance  \n0             0.095984                0.020333  \n1             0.007010                0.001485  \n2             0.023254                0.004926  \n3             0.001574                0.000334  \n4             0.085401                0.018092  \n5             0.000059                0.000013  \n6             0.005307                0.001124  \n7             0.011707                0.002480  \n8             0.081339                0.017231  \n9             0.063934                0.013544  \n10            0.071704                0.015190  \n11            0.122623                0.025977  \n12            0.039782                0.008428  \n13            0.009924                0.002102  \n14            0.093302                0.019765  \n15            0.169827                0.035977  \n16            0.055306                0.011716  \n17            0.038944                0.008250  \n18            0.064455                0.013654  \n19            0.024486                0.005187  \n20            0.014390                0.003048  \n21            0.012393                0.002625  \n22            0.000225                0.000048  \n23            0.066558                0.014100  \n24            0.122367                0.025923  \n25            0.031517                0.006677  \n26            0.000031                0.000007  \n27            0.079652                0.016874  \n28            0.026115                0.005532  \n29            0.035563                0.007534  \n30            0.002549                0.000540  \n31            0.044961                0.009525  \n32            0.258124                0.054682  \n33            0.011408                0.002417  \n34            0.000077                0.000016  \n35            0.003358                0.000711  \n36            0.000206                0.000044  \n37            0.040786                0.008640  \n38            0.085122                0.018032  \n39            0.103206                0.021863  \n40            0.290875                0.061620  \n41            0.107691                0.022814  \n42            0.036409                0.007713  \n43            0.035394                0.007498  \n44            0.043432                0.009201  \n45            0.039095                0.008282  \n46            0.000891                0.000189  \n47            1.174550                0.248819  \n48            0.868761                0.184040  \n49            0.001148                0.000243  \n50            0.018674                0.003956  \n51            0.048115                0.010193  \n52            0.044718                0.009473  \n53            0.000037                0.000008  \n54            0.006172                0.001307  ",
      "text/html": "<div>\n<style scoped>\n    .dataframe tbody tr th:only-of-type {\n        vertical-align: middle;\n    }\n\n    .dataframe tbody tr th {\n        vertical-align: top;\n    }\n\n    .dataframe thead th {\n        text-align: right;\n    }\n</style>\n<table border=\"1\" class=\"dataframe\">\n  <thead>\n    <tr style=\"text-align: right;\">\n      <th></th>\n      <th>feature_name</th>\n      <th>feature_label</th>\n      <th>feature_category</th>\n      <th>feature_importance</th>\n      <th>abs_feature_importance</th>\n    </tr>\n  </thead>\n  <tbody>\n    <tr>\n      <th>0</th>\n      <td>AGE</td>\n      <td>age</td>\n      <td>demographic</td>\n      <td>0.095984</td>\n      <td>0.020333</td>\n    </tr>\n    <tr>\n      <th>1</th>\n      <td>ALCDRUG</td>\n      <td>substance use type</td>\n      <td>substance use history</td>\n      <td>0.007010</td>\n      <td>0.001485</td>\n    </tr>\n    <tr>\n      <th>2</th>\n      <td>ALCFLG</td>\n      <td>alcohol</td>\n      <td>substance use history</td>\n      <td>0.023254</td>\n      <td>0.004926</td>\n    </tr>\n    <tr>\n      <th>3</th>\n      <td>AMPHFLG</td>\n      <td>amphetamines</td>\n      <td>substance use history</td>\n      <td>0.001574</td>\n      <td>0.000334</td>\n    </tr>\n    <tr>\n      <th>4</th>\n      <td>ARRESTS</td>\n      <td>arrests</td>\n      <td>personal history</td>\n      <td>0.085401</td>\n      <td>0.018092</td>\n    </tr>\n    <tr>\n      <th>5</th>\n      <td>BARBFLG</td>\n      <td>barbiturates</td>\n      <td>substance use history</td>\n      <td>0.000059</td>\n      <td>0.000013</td>\n    </tr>\n    <tr>\n      <th>6</th>\n      <td>BENZFLG</td>\n      <td>benzodiazepines</td>\n      <td>substance use history</td>\n      <td>0.005307</td>\n      <td>0.001124</td>\n    </tr>\n    <tr>\n      <th>7</th>\n      <td>COKEFLG</td>\n      <td>cocaine</td>\n      <td>substance use history</td>\n      <td>0.011707</td>\n      <td>0.002480</td>\n    </tr>\n    <tr>\n      <th>8</th>\n      <td>DAYWAIT</td>\n      <td>days waiting</td>\n      <td>coordination of care</td>\n      <td>0.081339</td>\n      <td>0.017231</td>\n    </tr>\n    <tr>\n      <th>9</th>\n      <td>DETCRIM</td>\n      <td>ciminal justice referral</td>\n      <td>coordination of care</td>\n      <td>0.063934</td>\n      <td>0.013544</td>\n    </tr>\n    <tr>\n      <th>10</th>\n      <td>DETEMPLOY</td>\n      <td>employment</td>\n      <td>economic</td>\n      <td>0.071704</td>\n      <td>0.015190</td>\n    </tr>\n    <tr>\n      <th>11</th>\n      <td>DSMCRIT</td>\n      <td>dsm diagnosis</td>\n      <td>medical history</td>\n      <td>0.122623</td>\n      <td>0.025977</td>\n    </tr>\n    <tr>\n      <th>12</th>\n      <td>EDUC</td>\n      <td>education</td>\n      <td>personal history</td>\n      <td>0.039782</td>\n      <td>0.008428</td>\n    </tr>\n    <tr>\n      <th>13</th>\n      <td>ETHNIC</td>\n      <td>ethnicity</td>\n      <td>demographic</td>\n      <td>0.009924</td>\n      <td>0.002102</td>\n    </tr>\n    <tr>\n      <th>14</th>\n      <td>FREQ_ATND_SELF_HELP</td>\n      <td>self help group</td>\n      <td>medical history</td>\n      <td>0.093302</td>\n      <td>0.019765</td>\n    </tr>\n    <tr>\n      <th>15</th>\n      <td>FREQ1</td>\n      <td>primary frequency</td>\n      <td>substance use history</td>\n      <td>0.169827</td>\n      <td>0.035977</td>\n    </tr>\n    <tr>\n      <th>16</th>\n      <td>FREQ2</td>\n      <td>secondary frequency</td>\n      <td>substance use history</td>\n      <td>0.055306</td>\n      <td>0.011716</td>\n    </tr>\n    <tr>\n      <th>17</th>\n      <td>FREQ3</td>\n      <td>tertiary frequency</td>\n      <td>substance use history</td>\n      <td>0.038944</td>\n      <td>0.008250</td>\n    </tr>\n    <tr>\n      <th>18</th>\n      <td>FRSTUSE1</td>\n      <td>primary first use</td>\n      <td>substance use history</td>\n      <td>0.064455</td>\n      <td>0.013654</td>\n    </tr>\n    <tr>\n      <th>19</th>\n      <td>FRSTUSE2</td>\n      <td>secondary first use</td>\n      <td>substance use history</td>\n      <td>0.024486</td>\n      <td>0.005187</td>\n    </tr>\n    <tr>\n      <th>20</th>\n      <td>FRSTUSE3</td>\n      <td>tertiary first use</td>\n      <td>substance use history</td>\n      <td>0.014390</td>\n      <td>0.003048</td>\n    </tr>\n    <tr>\n      <th>21</th>\n      <td>GENDER</td>\n      <td>gender</td>\n      <td>demographic</td>\n      <td>0.012393</td>\n      <td>0.002625</td>\n    </tr>\n    <tr>\n      <th>22</th>\n      <td>HALLFLG</td>\n      <td>hallucinogens</td>\n      <td>substance use history</td>\n      <td>0.000225</td>\n      <td>0.000048</td>\n    </tr>\n    <tr>\n      <th>23</th>\n      <td>HERFLG</td>\n      <td>heroin</td>\n      <td>substance use history</td>\n      <td>0.066558</td>\n      <td>0.014100</td>\n    </tr>\n    <tr>\n      <th>24</th>\n      <td>HLTHINS</td>\n      <td>health insurance</td>\n      <td>economic</td>\n      <td>0.122367</td>\n      <td>0.025923</td>\n    </tr>\n    <tr>\n      <th>25</th>\n      <td>IDU</td>\n      <td>iv drug</td>\n      <td>substance use history</td>\n      <td>0.031517</td>\n      <td>0.006677</td>\n    </tr>\n    <tr>\n      <th>26</th>\n      <td>INHFLG</td>\n      <td>inhalants</td>\n      <td>substance use history</td>\n      <td>0.000031</td>\n      <td>0.000007</td>\n    </tr>\n    <tr>\n      <th>27</th>\n      <td>LIVARAG</td>\n      <td>living arrangement</td>\n      <td>economic</td>\n      <td>0.079652</td>\n      <td>0.016874</td>\n    </tr>\n    <tr>\n      <th>28</th>\n      <td>MARFLG</td>\n      <td>marijuana</td>\n      <td>substance use history</td>\n      <td>0.026115</td>\n      <td>0.005532</td>\n    </tr>\n    <tr>\n      <th>29</th>\n      <td>MARSTAT</td>\n      <td>marital status</td>\n      <td>personal history</td>\n      <td>0.035563</td>\n      <td>0.007534</td>\n    </tr>\n    <tr>\n      <th>30</th>\n      <td>METHFLG</td>\n      <td>methadone</td>\n      <td>substance use history</td>\n      <td>0.002549</td>\n      <td>0.000540</td>\n    </tr>\n    <tr>\n      <th>31</th>\n      <td>MTHAMFLG</td>\n      <td>methamphetamine</td>\n      <td>substance use history</td>\n      <td>0.044961</td>\n      <td>0.009525</td>\n    </tr>\n    <tr>\n      <th>32</th>\n      <td>NOPRIOR</td>\n      <td>prior treatments</td>\n      <td>medical history</td>\n      <td>0.258124</td>\n      <td>0.054682</td>\n    </tr>\n    <tr>\n      <th>33</th>\n      <td>OPSYNFLG</td>\n      <td>opiates</td>\n      <td>substance use history</td>\n      <td>0.011408</td>\n      <td>0.002417</td>\n    </tr>\n    <tr>\n      <th>34</th>\n      <td>OTCFLG</td>\n      <td>otc meds</td>\n      <td>substance use history</td>\n      <td>0.000077</td>\n      <td>0.000016</td>\n    </tr>\n    <tr>\n      <th>35</th>\n      <td>OTHERFLG</td>\n      <td>other drug</td>\n      <td>substance use history</td>\n      <td>0.003358</td>\n      <td>0.000711</td>\n    </tr>\n    <tr>\n      <th>36</th>\n      <td>PCPFLG</td>\n      <td>pcp</td>\n      <td>substance use history</td>\n      <td>0.000206</td>\n      <td>0.000044</td>\n    </tr>\n    <tr>\n      <th>37</th>\n      <td>PREG</td>\n      <td>pregnant</td>\n      <td>medical history</td>\n      <td>0.040786</td>\n      <td>0.008640</td>\n    </tr>\n    <tr>\n      <th>38</th>\n      <td>PRIMINC</td>\n      <td>income source</td>\n      <td>economic</td>\n      <td>0.085122</td>\n      <td>0.018032</td>\n    </tr>\n    <tr>\n      <th>39</th>\n      <td>PRIMPAY</td>\n      <td>payment source</td>\n      <td>economic</td>\n      <td>0.103206</td>\n      <td>0.021863</td>\n    </tr>\n    <tr>\n      <th>40</th>\n      <td>PSOURCE</td>\n      <td>referral source</td>\n      <td>coordination of care</td>\n      <td>0.290875</td>\n      <td>0.061620</td>\n    </tr>\n    <tr>\n      <th>41</th>\n      <td>PSYPROB</td>\n      <td>mental disorder</td>\n      <td>medical history</td>\n      <td>0.107691</td>\n      <td>0.022814</td>\n    </tr>\n    <tr>\n      <th>42</th>\n      <td>RACE</td>\n      <td>race</td>\n      <td>demographic</td>\n      <td>0.036409</td>\n      <td>0.007713</td>\n    </tr>\n    <tr>\n      <th>43</th>\n      <td>ROUTE1</td>\n      <td>primary route</td>\n      <td>substance use history</td>\n      <td>0.035394</td>\n      <td>0.007498</td>\n    </tr>\n    <tr>\n      <th>44</th>\n      <td>ROUTE2</td>\n      <td>secondary route</td>\n      <td>substance use history</td>\n      <td>0.043432</td>\n      <td>0.009201</td>\n    </tr>\n    <tr>\n      <th>45</th>\n      <td>ROUTE3</td>\n      <td>tertiary route</td>\n      <td>substance use history</td>\n      <td>0.039095</td>\n      <td>0.008282</td>\n    </tr>\n    <tr>\n      <th>46</th>\n      <td>SEDHPFLG</td>\n      <td>sedatives</td>\n      <td>substance use history</td>\n      <td>0.000891</td>\n      <td>0.000189</td>\n    </tr>\n    <tr>\n      <th>47</th>\n      <td>SERVICES</td>\n      <td>treatment service</td>\n      <td>coordination of care</td>\n      <td>1.174550</td>\n      <td>0.248819</td>\n    </tr>\n    <tr>\n      <th>48</th>\n      <td>STFIPS</td>\n      <td>state code</td>\n      <td>geographic</td>\n      <td>0.868761</td>\n      <td>0.184040</td>\n    </tr>\n    <tr>\n      <th>49</th>\n      <td>STIMFLG</td>\n      <td>stimulants</td>\n      <td>substance use history</td>\n      <td>0.001148</td>\n      <td>0.000243</td>\n    </tr>\n    <tr>\n      <th>50</th>\n      <td>SUB1</td>\n      <td>primary substance</td>\n      <td>substance use history</td>\n      <td>0.018674</td>\n      <td>0.003956</td>\n    </tr>\n    <tr>\n      <th>51</th>\n      <td>SUB2</td>\n      <td>secondary substance</td>\n      <td>substance use history</td>\n      <td>0.048115</td>\n      <td>0.010193</td>\n    </tr>\n    <tr>\n      <th>52</th>\n      <td>SUB3</td>\n      <td>tertiary substance</td>\n      <td>substance use history</td>\n      <td>0.044718</td>\n      <td>0.009473</td>\n    </tr>\n    <tr>\n      <th>53</th>\n      <td>TRNQFLG</td>\n      <td>tranquilizers</td>\n      <td>substance use history</td>\n      <td>0.000037</td>\n      <td>0.000008</td>\n    </tr>\n    <tr>\n      <th>54</th>\n      <td>VET</td>\n      <td>veteran status</td>\n      <td>personal history</td>\n      <td>0.006172</td>\n      <td>0.001307</td>\n    </tr>\n  </tbody>\n</table>\n</div>"
     },
     "execution_count": 1,
     "metadata": {},
     "output_type": "execute_result"
    }
   ],
   "source": [
    "import pandas as pd\n",
    "g = pd.read_csv('shap_importance_encoded.csv')  #update label and category, then regroup\n",
    "g"
   ],
   "metadata": {
    "collapsed": false
   }
  },
  {
   "cell_type": "code",
   "execution_count": 4,
   "outputs": [
    {
     "data": {
      "text/plain": "feature_category\ncoordination of care     0.341214\ngeographic               0.184040\nsubstance use history    0.176852\nmedical history          0.131877\neconomic                 0.097882\npersonal history         0.035360\ndemographic              0.032774\nName: abs_feature_importance, dtype: float64"
     },
     "execution_count": 4,
     "metadata": {},
     "output_type": "execute_result"
    }
   ],
   "source": [
    "g_grouped = g.groupby('feature_category').sum()['abs_feature_importance'].sort_values(ascending=False)\n",
    "# g_grouped.to_csv('shap_importance_grouped.csv')\n",
    "g_grouped"
   ],
   "metadata": {
    "collapsed": false
   }
  },
  {
   "cell_type": "code",
   "execution_count": 3,
   "outputs": [
    {
     "data": {
      "text/plain": "               feature_label  abs_feature_importance\n0          treatment service                0.248819\n1                 state code                0.184040\n2            referral source                0.061620\n3           prior treatments                0.054682\n4          primary frequency                0.035977\n5              dsm diagnosis                0.025977\n6           health insurance                0.025923\n7            mental disorder                0.022814\n8             payment source                0.021863\n9                        age                0.020333\n10           self help group                0.019765\n11                   arrests                0.018092\n12             income source                0.018032\n13              days waiting                0.017231\n14        living arrangement                0.016874\n15                employment                0.015190\n16                    heroin                0.014100\n17         primary first use                0.013654\n18  ciminal justice referral                0.013544\n19       secondary frequency                0.011716\n20       secondary substance                0.010193\n21           methamphetamine                0.009525\n22        tertiary substance                0.009473\n23           secondary route                0.009201\n24                  pregnant                0.008640\n25                 education                0.008428\n26            tertiary route                0.008282\n27        tertiary frequency                0.008250\n28                      race                0.007713\n29            marital status                0.007534\n30             primary route                0.007498\n31                   iv drug                0.006677\n32                 marijuana                0.005532\n33       secondary first use                0.005187\n34                   alcohol                0.004926\n35         primary substance                0.003956\n36        tertiary first use                0.003048\n37                    gender                0.002625\n38                   cocaine                0.002480\n39                   opiates                0.002417\n40                 ethnicity                0.002102\n41        substance use type                0.001485\n42            veteran status                0.001307\n43           benzodiazepines                0.001124\n44                other drug                0.000711\n45                 methadone                0.000540\n46              amphetamines                0.000334\n47                stimulants                0.000243\n48                 sedatives                0.000189\n49             hallucinogens                0.000048\n50                       pcp                0.000044\n51                  otc meds                0.000016\n52              barbiturates                0.000013\n53             tranquilizers                0.000008\n54                 inhalants                0.000007",
      "text/html": "<div>\n<style scoped>\n    .dataframe tbody tr th:only-of-type {\n        vertical-align: middle;\n    }\n\n    .dataframe tbody tr th {\n        vertical-align: top;\n    }\n\n    .dataframe thead th {\n        text-align: right;\n    }\n</style>\n<table border=\"1\" class=\"dataframe\">\n  <thead>\n    <tr style=\"text-align: right;\">\n      <th></th>\n      <th>feature_label</th>\n      <th>abs_feature_importance</th>\n    </tr>\n  </thead>\n  <tbody>\n    <tr>\n      <th>0</th>\n      <td>treatment service</td>\n      <td>0.248819</td>\n    </tr>\n    <tr>\n      <th>1</th>\n      <td>state code</td>\n      <td>0.184040</td>\n    </tr>\n    <tr>\n      <th>2</th>\n      <td>referral source</td>\n      <td>0.061620</td>\n    </tr>\n    <tr>\n      <th>3</th>\n      <td>prior treatments</td>\n      <td>0.054682</td>\n    </tr>\n    <tr>\n      <th>4</th>\n      <td>primary frequency</td>\n      <td>0.035977</td>\n    </tr>\n    <tr>\n      <th>5</th>\n      <td>dsm diagnosis</td>\n      <td>0.025977</td>\n    </tr>\n    <tr>\n      <th>6</th>\n      <td>health insurance</td>\n      <td>0.025923</td>\n    </tr>\n    <tr>\n      <th>7</th>\n      <td>mental disorder</td>\n      <td>0.022814</td>\n    </tr>\n    <tr>\n      <th>8</th>\n      <td>payment source</td>\n      <td>0.021863</td>\n    </tr>\n    <tr>\n      <th>9</th>\n      <td>age</td>\n      <td>0.020333</td>\n    </tr>\n    <tr>\n      <th>10</th>\n      <td>self help group</td>\n      <td>0.019765</td>\n    </tr>\n    <tr>\n      <th>11</th>\n      <td>arrests</td>\n      <td>0.018092</td>\n    </tr>\n    <tr>\n      <th>12</th>\n      <td>income source</td>\n      <td>0.018032</td>\n    </tr>\n    <tr>\n      <th>13</th>\n      <td>days waiting</td>\n      <td>0.017231</td>\n    </tr>\n    <tr>\n      <th>14</th>\n      <td>living arrangement</td>\n      <td>0.016874</td>\n    </tr>\n    <tr>\n      <th>15</th>\n      <td>employment</td>\n      <td>0.015190</td>\n    </tr>\n    <tr>\n      <th>16</th>\n      <td>heroin</td>\n      <td>0.014100</td>\n    </tr>\n    <tr>\n      <th>17</th>\n      <td>primary first use</td>\n      <td>0.013654</td>\n    </tr>\n    <tr>\n      <th>18</th>\n      <td>ciminal justice referral</td>\n      <td>0.013544</td>\n    </tr>\n    <tr>\n      <th>19</th>\n      <td>secondary frequency</td>\n      <td>0.011716</td>\n    </tr>\n    <tr>\n      <th>20</th>\n      <td>secondary substance</td>\n      <td>0.010193</td>\n    </tr>\n    <tr>\n      <th>21</th>\n      <td>methamphetamine</td>\n      <td>0.009525</td>\n    </tr>\n    <tr>\n      <th>22</th>\n      <td>tertiary substance</td>\n      <td>0.009473</td>\n    </tr>\n    <tr>\n      <th>23</th>\n      <td>secondary route</td>\n      <td>0.009201</td>\n    </tr>\n    <tr>\n      <th>24</th>\n      <td>pregnant</td>\n      <td>0.008640</td>\n    </tr>\n    <tr>\n      <th>25</th>\n      <td>education</td>\n      <td>0.008428</td>\n    </tr>\n    <tr>\n      <th>26</th>\n      <td>tertiary route</td>\n      <td>0.008282</td>\n    </tr>\n    <tr>\n      <th>27</th>\n      <td>tertiary frequency</td>\n      <td>0.008250</td>\n    </tr>\n    <tr>\n      <th>28</th>\n      <td>race</td>\n      <td>0.007713</td>\n    </tr>\n    <tr>\n      <th>29</th>\n      <td>marital status</td>\n      <td>0.007534</td>\n    </tr>\n    <tr>\n      <th>30</th>\n      <td>primary route</td>\n      <td>0.007498</td>\n    </tr>\n    <tr>\n      <th>31</th>\n      <td>iv drug</td>\n      <td>0.006677</td>\n    </tr>\n    <tr>\n      <th>32</th>\n      <td>marijuana</td>\n      <td>0.005532</td>\n    </tr>\n    <tr>\n      <th>33</th>\n      <td>secondary first use</td>\n      <td>0.005187</td>\n    </tr>\n    <tr>\n      <th>34</th>\n      <td>alcohol</td>\n      <td>0.004926</td>\n    </tr>\n    <tr>\n      <th>35</th>\n      <td>primary substance</td>\n      <td>0.003956</td>\n    </tr>\n    <tr>\n      <th>36</th>\n      <td>tertiary first use</td>\n      <td>0.003048</td>\n    </tr>\n    <tr>\n      <th>37</th>\n      <td>gender</td>\n      <td>0.002625</td>\n    </tr>\n    <tr>\n      <th>38</th>\n      <td>cocaine</td>\n      <td>0.002480</td>\n    </tr>\n    <tr>\n      <th>39</th>\n      <td>opiates</td>\n      <td>0.002417</td>\n    </tr>\n    <tr>\n      <th>40</th>\n      <td>ethnicity</td>\n      <td>0.002102</td>\n    </tr>\n    <tr>\n      <th>41</th>\n      <td>substance use type</td>\n      <td>0.001485</td>\n    </tr>\n    <tr>\n      <th>42</th>\n      <td>veteran status</td>\n      <td>0.001307</td>\n    </tr>\n    <tr>\n      <th>43</th>\n      <td>benzodiazepines</td>\n      <td>0.001124</td>\n    </tr>\n    <tr>\n      <th>44</th>\n      <td>other drug</td>\n      <td>0.000711</td>\n    </tr>\n    <tr>\n      <th>45</th>\n      <td>methadone</td>\n      <td>0.000540</td>\n    </tr>\n    <tr>\n      <th>46</th>\n      <td>amphetamines</td>\n      <td>0.000334</td>\n    </tr>\n    <tr>\n      <th>47</th>\n      <td>stimulants</td>\n      <td>0.000243</td>\n    </tr>\n    <tr>\n      <th>48</th>\n      <td>sedatives</td>\n      <td>0.000189</td>\n    </tr>\n    <tr>\n      <th>49</th>\n      <td>hallucinogens</td>\n      <td>0.000048</td>\n    </tr>\n    <tr>\n      <th>50</th>\n      <td>pcp</td>\n      <td>0.000044</td>\n    </tr>\n    <tr>\n      <th>51</th>\n      <td>otc meds</td>\n      <td>0.000016</td>\n    </tr>\n    <tr>\n      <th>52</th>\n      <td>barbiturates</td>\n      <td>0.000013</td>\n    </tr>\n    <tr>\n      <th>53</th>\n      <td>tranquilizers</td>\n      <td>0.000008</td>\n    </tr>\n    <tr>\n      <th>54</th>\n      <td>inhalants</td>\n      <td>0.000007</td>\n    </tr>\n  </tbody>\n</table>\n</div>"
     },
     "execution_count": 3,
     "metadata": {},
     "output_type": "execute_result"
    }
   ],
   "source": [
    "g.sort_values(by='abs_feature_importance', ascending=False)[['feature_label', 'abs_feature_importance']].reset_index(drop=True)"
   ],
   "metadata": {
    "collapsed": false
   }
  },
  {
   "cell_type": "code",
   "execution_count": null,
   "outputs": [],
   "source": [],
   "metadata": {
    "collapsed": false
   }
  }
 ],
 "metadata": {
  "kernelspec": {
   "display_name": "Python 3",
   "language": "python",
   "name": "python3"
  },
  "language_info": {
   "codemirror_mode": {
    "name": "ipython",
    "version": 2
   },
   "file_extension": ".py",
   "mimetype": "text/x-python",
   "name": "python",
   "nbconvert_exporter": "python",
   "pygments_lexer": "ipython2",
   "version": "2.7.6"
  }
 },
 "nbformat": 4,
 "nbformat_minor": 0
}