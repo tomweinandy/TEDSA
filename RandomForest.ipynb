{
 "cells": [
  {
   "cell_type": "markdown",
   "source": [
    "# Train a Random Forest Model\n",
    "[Documentation](https://scikit-learn.org/stable/modules/generated/sklearn.ensemble.RandomForestClassifier.html)\n",
    "\n",
    "### Import, split data"
   ],
   "metadata": {
    "collapsed": false
   }
  },
  {
   "cell_type": "code",
   "execution_count": 29,
   "metadata": {
    "ExecuteTime": {
     "end_time": "2020-12-21T03:32:38.232451Z",
     "start_time": "2020-12-21T03:32:36.321562Z"
    }
   },
   "outputs": [],
   "source": [
    "import explainer as explainer\n",
    "import pandas as pd\n",
    "from sklearn.model_selection import train_test_split\n",
    "\n",
    "df = pd.read_csv('data.csv')\n",
    "y = df['METHUSE']\n",
    "X = df.drop(columns='METHUSE')\n",
    "\n",
    "X_train, X_test, y_train, y_test = train_test_split(X, y, test_size=0.03, train_size=0.07, random_state=24)"
   ]
  },
  {
   "cell_type": "markdown",
   "metadata": {},
   "source": [
    "### Randomly search parameter grid for best model"
   ]
  },
  {
   "cell_type": "code",
   "execution_count": 30,
   "metadata": {
    "ExecuteTime": {
     "end_time": "2020-12-21T03:32:38.647563Z",
     "start_time": "2020-12-21T03:32:38.380703Z"
    }
   },
   "outputs": [
    {
     "name": "stdout",
     "output_type": "stream",
     "text": [
      "There are 10x3x10x7x4 = 8,400 possible parameter combinations.\n",
      "\n",
      "{'max_depth': [10, 20, 30, 40, 50, 60, 70, 80, 90, 100, None],\n",
      " 'min_samples_leaf': [2, 4, 6, 8],\n",
      " 'min_samples_split': [4, 6, 8, 10, 12, 14, 16],\n",
      " 'n_estimators': [100, 200, 300, 400, 500, 600, 700, 800, 900, 1000]}\n"
     ]
    }
   ],
   "source": [
    "# Build grid of parameters for random search\n",
    "#     Source: https://towardsdatascience.com/hyperparameter-tuning-the-random-forest-in-python-using-scikit-learn-28d2aa77dd74\n",
    "from sklearn.ensemble import RandomForestClassifier\n",
    "from pprint import pprint\n",
    "\n",
    "# Number of trees in random forest\n",
    "n_estimators = [i for i in range(100, 1100, 100)]\n",
    "\n",
    "# Number of features to consider at every split\n",
    "max_features = ['sqrt', 'log2']\n",
    "\n",
    "# Maximum number of levels in tree\n",
    "max_depth = [j for j in range(10, 110, 10)]\n",
    "max_depth.append(None)\n",
    "\n",
    "# Minimum number of samples required to split a node\n",
    "min_samples_split = [4, 6, 8, 10, 12, 14, 16]\n",
    "\n",
    "# Minimum number of samples required at each leaf node\n",
    "min_samples_leaf = [2, 4, 6, 8]\n",
    "\n",
    "# # Method of selecting samples for training each tree\n",
    "# bootstrap = [True, False]\n",
    "\n",
    "# Create the random grid\n",
    "random_grid = {'n_estimators': n_estimators,\n",
    "               # 'max_features': max_features,\n",
    "               'max_depth': max_depth,\n",
    "               'min_samples_split': min_samples_split,\n",
    "               'min_samples_leaf': min_samples_leaf}\n",
    "print('There are 10x3x10x7x4 = 8,400 possible parameter combinations.\\n')\n",
    "pprint(random_grid)"
   ]
  },
  {
   "cell_type": "code",
   "execution_count": 31,
   "metadata": {
    "ExecuteTime": {
     "end_time": "2020-12-25T09:16:16.904375Z",
     "start_time": "2020-12-21T03:32:38.894096Z"
    }
   },
   "outputs": [
    {
     "name": "stdout",
     "output_type": "stream",
     "text": [
      "Fitting 2 folds for each of 1 candidates, totalling 2 fits\n"
     ]
    },
    {
     "data": {
      "text/plain": "RandomizedSearchCV(cv=2, estimator=RandomForestClassifier(), n_iter=1,\n                   n_jobs=-1,\n                   param_distributions={'max_depth': [10, 20, 30, 40, 50, 60,\n                                                      70, 80, 90, 100, None],\n                                        'min_samples_leaf': [2, 4, 6, 8],\n                                        'min_samples_split': [4, 6, 8, 10, 12,\n                                                              14, 16],\n                                        'n_estimators': [100, 200, 300, 400,\n                                                         500, 600, 700, 800,\n                                                         900, 1000]},\n                   random_state=24, verbose=2)"
     },
     "execution_count": 31,
     "metadata": {},
     "output_type": "execute_result"
    }
   ],
   "source": [
    "from sklearn.model_selection import RandomizedSearchCV\n",
    "# Use the random grid to search for best hyperparameters\n",
    "# First create the base model to tune\n",
    "rf = RandomForestClassifier()\n",
    "\n",
    "# Random search of parameters, using cross validation and all available cores (n_jobs=-1)\n",
    "rf_random = RandomizedSearchCV(estimator=rf, \n",
    "                               param_distributions = random_grid, \n",
    "                               n_iter=1,\n",
    "                               # n_iter=1000,\n",
    "                               cv=2,\n",
    "                               verbose=2, \n",
    "                               random_state=24, \n",
    "                               n_jobs=-1)\n",
    "# Fit the random search model\n",
    "rf_random.fit(X_train, y_train)"
   ]
  },
  {
   "cell_type": "code",
   "execution_count": 32,
   "metadata": {
    "ExecuteTime": {
     "end_time": "2020-12-25T09:16:17.061058Z",
     "start_time": "2020-12-25T09:16:17.055598Z"
    },
    "scrolled": true
   },
   "outputs": [
    {
     "data": {
      "text/plain": "{'n_estimators': 900,\n 'min_samples_split': 16,\n 'min_samples_leaf': 4,\n 'max_depth': 20}"
     },
     "execution_count": 32,
     "metadata": {},
     "output_type": "execute_result"
    }
   ],
   "source": [
    "rf_random.best_params_"
   ]
  },
  {
   "cell_type": "code",
   "execution_count": 33,
   "metadata": {
    "ExecuteTime": {
     "end_time": "2020-12-25T09:16:17.175647Z",
     "start_time": "2020-12-25T09:16:17.170421Z"
    },
    "scrolled": true
   },
   "outputs": [
    {
     "data": {
      "text/plain": "RandomForestClassifier(max_depth=20, min_samples_leaf=4, min_samples_split=16,\n                       n_estimators=900)"
     },
     "execution_count": 33,
     "metadata": {},
     "output_type": "execute_result"
    }
   ],
   "source": [
    "rf_random.best_estimator_"
   ]
  },
  {
   "cell_type": "code",
   "execution_count": 34,
   "metadata": {
    "ExecuteTime": {
     "end_time": "2020-12-25T09:21:03.270137Z",
     "start_time": "2020-12-25T09:16:17.284067Z"
    }
   },
   "outputs": [
    {
     "name": "stdout",
     "output_type": "stream",
     "text": [
      "MSE: 0.16329912677672254\n"
     ]
    }
   ],
   "source": [
    "# Evaluate random method\n",
    "from sklearn.metrics import mean_squared_error\n",
    "\n",
    "base_model = rf_random.best_estimator_\n",
    "base_model.fit(X_train, y_train)\n",
    "y_hat = base_model.predict(X_test)\n",
    "\n",
    "mse = mean_squared_error(y_test, y_hat)\n",
    "print('MSE:', mse)"
   ]
  },
  {
   "cell_type": "markdown",
   "metadata": {
    "ExecuteTime": {
     "end_time": "2020-11-21T20:41:40.634282Z",
     "start_time": "2020-11-21T20:41:40.631142Z"
    }
   },
   "source": [
    "## Search around best random model for overall best model  "
   ]
  },
  {
   "cell_type": "code",
   "execution_count": null,
   "outputs": [],
   "source": [
    "# stop"
   ],
   "metadata": {
    "collapsed": false,
    "pycharm": {
     "name": "#%%\n"
    }
   }
  },
  {
   "cell_type": "code",
   "execution_count": 9,
   "metadata": {
    "ExecuteTime": {
     "end_time": "2020-12-25T21:04:57.986713Z",
     "start_time": "2020-12-25T21:04:57.970436Z"
    }
   },
   "outputs": [],
   "source": [
    "# # Create the parameter grid based on the results of random search\n",
    "# from sklearn.model_selection import GridSearchCV\n",
    "#\n",
    "# param_grid = {\n",
    "#     'max_depth': [80, 90, 100],\n",
    "#     'max_features': ['auto'],\n",
    "#     'min_samples_leaf': [1,2,4],\n",
    "#     'min_samples_split': [2,4,6],\n",
    "#     'n_estimators': [700, 800, 900]\n",
    "#     }\n",
    "# # print('There are 3x1x3x3x3 = 81 possible parameter combinations.')\n",
    "#\n",
    "# # param_grid = {\n",
    "# #     'bootstrap': [True],\n",
    "# #     'max_depth': [100],\n",
    "# #     'max_features': ['auto'],\n",
    "# #     'min_samples_leaf': [4],\n",
    "# #     'min_samples_split': [8],\n",
    "# #     'n_estimators': [1400]\n",
    "# #     }\n",
    "#\n",
    "# # Create a base model\n",
    "# rf = RandomForestClassifier(random_state=24)\n",
    "#\n",
    "# # Instantiate the grid search model\n",
    "# grid_search = GridSearchCV(estimator=rf, param_grid=param_grid, cv=5, n_jobs=-1, verbose=2)"
   ]
  },
  {
   "cell_type": "code",
   "execution_count": 10,
   "metadata": {
    "ExecuteTime": {
     "end_time": "2020-12-26T18:26:10.338936Z",
     "start_time": "2020-12-25T21:05:24.852828Z"
    }
   },
   "outputs": [
    {
     "name": "stdout",
     "output_type": "stream",
     "text": [
      "Fitting 10 folds for each of 81 candidates, totalling 810 fits\n"
     ]
    },
    {
     "name": "stderr",
     "output_type": "stream",
     "text": [
      "[Parallel(n_jobs=-1)]: Using backend LokyBackend with 4 concurrent workers.\n",
      "[Parallel(n_jobs=-1)]: Done  33 tasks      | elapsed: 61.6min\n",
      "/Users/mymac/opt/anaconda3/lib/python3.7/site-packages/joblib/externals/loky/process_executor.py:706: UserWarning: A worker stopped while some jobs were given to the executor. This can be caused by a too short worker timeout or by a memory leak.\n",
      "  \"timeout or by a memory leak.\", UserWarning\n",
      "[Parallel(n_jobs=-1)]: Done 154 tasks      | elapsed: 255.8min\n",
      "[Parallel(n_jobs=-1)]: Done 357 tasks      | elapsed: 573.4min\n",
      "[Parallel(n_jobs=-1)]: Done 640 tasks      | elapsed: 1014.8min\n",
      "[Parallel(n_jobs=-1)]: Done 810 out of 810 | elapsed: 1276.6min finished\n"
     ]
    },
    {
     "data": {
      "text/plain": [
       "GridSearchCV(cv=10, error_score=nan,\n",
       "             estimator=RandomForestRegressor(bootstrap=True, ccp_alpha=0.0,\n",
       "                                             criterion='mse', max_depth=None,\n",
       "                                             max_features='auto',\n",
       "                                             max_leaf_nodes=None,\n",
       "                                             max_samples=None,\n",
       "                                             min_impurity_decrease=0.0,\n",
       "                                             min_impurity_split=None,\n",
       "                                             min_samples_leaf=1,\n",
       "                                             min_samples_split=2,\n",
       "                                             min_weight_fraction_leaf=0.0,\n",
       "                                             n_estimators=100, n_jobs=None,\n",
       "                                             oob_score=False, random_state=24,\n",
       "                                             verbose=0, warm_start=False),\n",
       "             iid='deprecated', n_jobs=-1,\n",
       "             param_grid={'max_depth': [80, 90, 100], 'max_features': ['auto'],\n",
       "                         'min_samples_leaf': [1, 2, 4],\n",
       "                         'min_samples_split': [2, 4, 6],\n",
       "                         'n_estimators': [700, 800, 900]},\n",
       "             pre_dispatch='2*n_jobs', refit=True, return_train_score=False,\n",
       "             scoring=None, verbose=2)"
      ]
     },
     "execution_count": 10,
     "metadata": {},
     "output_type": "execute_result"
    }
   ],
   "source": [
    "# # Fit the grid search to the data\n",
    "# grid_search.fit(X_train, y_train)"
   ]
  },
  {
   "cell_type": "code",
   "execution_count": 11,
   "metadata": {
    "ExecuteTime": {
     "end_time": "2020-12-26T18:26:10.496506Z",
     "start_time": "2020-12-26T18:26:10.492057Z"
    }
   },
   "outputs": [
    {
     "data": {
      "text/plain": [
       "{'max_depth': 80,\n",
       " 'max_features': 'auto',\n",
       " 'min_samples_leaf': 2,\n",
       " 'min_samples_split': 6,\n",
       " 'n_estimators': 700}"
      ]
     },
     "execution_count": 11,
     "metadata": {},
     "output_type": "execute_result"
    }
   ],
   "source": [
    "# grid_search.best_params_"
   ]
  },
  {
   "cell_type": "code",
   "execution_count": 12,
   "metadata": {
    "ExecuteTime": {
     "end_time": "2020-12-26T18:30:23.212333Z",
     "start_time": "2020-12-26T18:26:10.620709Z"
    }
   },
   "outputs": [
    {
     "name": "stdout",
     "output_type": "stream",
     "text": [
      "MSE: 2487.803920074586\n"
     ]
    },
    {
     "data": {
      "text/plain": [
       "RandomForestRegressor(bootstrap=True, ccp_alpha=0.0, criterion='mse',\n",
       "                      max_depth=80, max_features='auto', max_leaf_nodes=None,\n",
       "                      max_samples=None, min_impurity_decrease=0.0,\n",
       "                      min_impurity_split=None, min_samples_leaf=2,\n",
       "                      min_samples_split=6, min_weight_fraction_leaf=0.0,\n",
       "                      n_estimators=700, n_jobs=None, oob_score=False,\n",
       "                      random_state=24, verbose=0, warm_start=False)"
      ]
     },
     "execution_count": 12,
     "metadata": {},
     "output_type": "execute_result"
    }
   ],
   "source": [
    "# # Evaluate best model\n",
    "# from sklearn.metrics import mean_squared_error\n",
    "#\n",
    "# best_model = grid_search.best_estimator_\n",
    "# best_model.fit(X_train, y_train)\n",
    "# y_hat = best_model.predict(X_test)\n",
    "#\n",
    "# mse = mean_squared_error(y_test, y_hat)\n",
    "#\n",
    "# print('MSE:', mse)\n",
    "#\n",
    "# # Show parameters of best overall model\n",
    "# best_model"
   ]
  },
  {
   "cell_type": "markdown",
   "metadata": {},
   "source": [
    "## Interpret best model"
   ]
  },
  {
   "cell_type": "code",
   "execution_count": 36,
   "metadata": {
    "ExecuteTime": {
     "end_time": "2020-12-26T18:43:20.156200Z",
     "start_time": "2020-12-26T18:43:20.143765Z"
    }
   },
   "outputs": [],
   "source": [
    "# Define functions for interpretation\n",
    "\n",
    "from sklearn.base import clone\n",
    "import datetime\n",
    "\n",
    "def absolute_share(input_list):\n",
    "    absolute_list = [abs(i) for i in input_list]\n",
    "    absolute_share_list = [j/sum(absolute_list) for j in absolute_list]\n",
    "    return absolute_share_list"
   ]
  },
  {
   "cell_type": "code",
   "execution_count": null,
   "outputs": [],
   "source": [
    "best_model = base_model # FOR TESTING ONLY"
   ],
   "metadata": {
    "collapsed": false,
    "pycharm": {
     "name": "#%%\n"
    }
   }
  },
  {
   "cell_type": "code",
   "execution_count": null,
   "metadata": {
    "ExecuteTime": {
     "end_time": "2020-12-27T15:57:25.789006Z",
     "start_time": "2020-12-26T18:43:21.626319Z"
    },
    "pycharm": {
     "is_executing": true
    }
   },
   "outputs": [
    {
     "name": "stdout",
     "output_type": "stream",
     "text": [
      "Began Shapley at 2022-05-26 21:42:31.334567\n"
     ]
    }
   ],
   "source": [
    "from sklearn.inspection import permutation_importance\n",
    "import shap, datetime\n",
    "\n",
    "imp = pd.DataFrame()\n",
    "imp['variables'] = X_train.columns\n",
    "\n",
    "# Add feature importance based on Shapley method\n",
    "#     https://github.com/slundberg/shap\n",
    "print('Began Shapley at', datetime.datetime.now())\n",
    "# explainer = shap.TreeExplainer(best_model)\n",
    "explainer = shap.TreeExplainer(base_model)\n",
    "shap_values = explainer.shap_values(X_train)[0]\n",
    "imp['shapley'] = shap_values\n",
    "imp['shapley_abs'] = absolute_share(shap_values)"
   ]
  },
  {
   "cell_type": "code",
   "execution_count": null,
   "metadata": {
    "ExecuteTime": {
     "end_time": "2020-12-27T16:02:19.840177Z",
     "start_time": "2020-12-27T16:02:19.820466Z"
    },
    "pycharm": {
     "is_executing": true
    }
   },
   "outputs": [],
   "source": [
    "imp.sort_values('shapley', ascending=False).to_csv('shapley_test.csv')"
   ]
  },
  {
   "cell_type": "code",
   "execution_count": null,
   "metadata": {
    "ExecuteTime": {
     "end_time": "2020-12-27T16:02:19.675752Z",
     "start_time": "2020-12-27T15:57:25.952298Z"
    },
    "pycharm": {
     "is_executing": true
    }
   },
   "outputs": [],
   "source": [
    "shap.initjs()\n",
    "\n",
    "explainer = shap.TreeExplainer(best_model)\n",
    "shap_values = explainer.shap_values(X_test)\n",
    "\n",
    "# visualize the first prediction's explanation (use matplotlib=True to avoid Javascript)\n",
    "shap.force_plot(explainer.expected_value, shap_values[0,:], X_test.iloc[0,:])"
   ]
  },
  {
   "cell_type": "code",
   "execution_count": 46,
   "metadata": {
    "ExecuteTime": {
     "end_time": "2020-12-27T16:02:19.988297Z",
     "start_time": "2020-12-27T16:02:19.984805Z"
    }
   },
   "outputs": [],
   "source": [
    "# # visualize the training set predictions\n",
    "# shap.force_plot(explainer.expected_value, shap_values, X_test)"
   ]
  },
  {
   "cell_type": "code",
   "execution_count": 47,
   "metadata": {
    "ExecuteTime": {
     "end_time": "2020-12-27T16:02:20.128962Z",
     "start_time": "2020-12-27T16:02:20.126753Z"
    }
   },
   "outputs": [],
   "source": [
    "# # create a dependence plot to show the effect of a single feature across the whole dataset\n",
    "# shap.dependence_plot(\"EXAMPLE\", shap_values, X_test)"
   ]
  },
  {
   "cell_type": "code",
   "execution_count": null,
   "metadata": {
    "ExecuteTime": {
     "end_time": "2020-12-27T16:02:21.130708Z",
     "start_time": "2020-12-27T16:02:20.261708Z"
    },
    "pycharm": {
     "is_executing": true
    }
   },
   "outputs": [],
   "source": [
    "# summarize the effects of all the features\n",
    "shap.summary_plot(shap_values, X_test)"
   ]
  },
  {
   "cell_type": "code",
   "execution_count": null,
   "metadata": {
    "ExecuteTime": {
     "end_time": "2020-12-27T16:02:21.267242Z",
     "start_time": "2020-12-27T16:02:21.262002Z"
    },
    "pycharm": {
     "is_executing": true
    }
   },
   "outputs": [],
   "source": [
    "# Reveal the sign of the feature importance\n",
    "len(shap_values)"
   ]
  },
  {
   "cell_type": "code",
   "execution_count": null,
   "metadata": {
    "ExecuteTime": {
     "end_time": "2020-12-26T18:30:32.024633Z",
     "start_time": "2020-12-26T18:30:23.342302Z"
    },
    "pycharm": {
     "is_executing": true
    }
   },
   "outputs": [],
   "source": [
    "import os\n",
    "os.system('say \"Daisy, daisy, give me your answer true,, I am,  half, crazy, all for the love of you\"')"
   ]
  },
  {
   "cell_type": "code",
   "execution_count": 34,
   "metadata": {
    "ExecuteTime": {
     "end_time": "2020-12-12T00:05:30.718290Z",
     "start_time": "2020-12-11T23:02:23.390799Z"
    }
   },
   "outputs": [],
   "source": [
    "shap_values = explainer.shap_values(X_train)"
   ]
  },
  {
   "cell_type": "code",
   "execution_count": 37,
   "metadata": {
    "ExecuteTime": {
     "end_time": "2020-12-12T00:05:31.229440Z",
     "start_time": "2020-12-12T00:05:31.196445Z"
    }
   },
   "outputs": [],
   "source": [
    "imp\n",
    "# imp.to_csv('delete_this.csv')"
   ]
  },
  {
   "cell_type": "code",
   "execution_count": null,
   "metadata": {
    "pycharm": {
     "is_executing": true
    }
   },
   "outputs": [],
   "source": [
    "datetime.datetime.now()"
   ]
  },
  {
   "cell_type": "code",
   "execution_count": null,
   "outputs": [],
   "source": [],
   "metadata": {
    "collapsed": false,
    "pycharm": {
     "name": "#%%\n"
    }
   }
  }
 ],
 "metadata": {
  "hide_input": false,
  "kernel_info": {
   "name": "python3-azureml"
  },
  "kernelspec": {
   "display_name": "Python 3",
   "language": "python",
   "name": "python3"
  },
  "language_info": {
   "codemirror_mode": {
    "name": "ipython",
    "version": 3
   },
   "file_extension": ".py",
   "mimetype": "text/x-python",
   "name": "python",
   "nbconvert_exporter": "python",
   "pygments_lexer": "ipython3",
   "version": "3.7.6"
  },
  "nteract": {
   "version": "nteract-front-end@1.0.0"
  },
  "toc": {
   "base_numbering": 1,
   "nav_menu": {},
   "number_sections": true,
   "sideBar": true,
   "skip_h1_title": false,
   "title_cell": "Table of Contents",
   "title_sidebar": "Contents",
   "toc_cell": false,
   "toc_position": {},
   "toc_section_display": true,
   "toc_window_display": false
  },
  "varInspector": {
   "cols": {
    "lenName": 16,
    "lenType": 16,
    "lenVar": 40
   },
   "kernels_config": {
    "python": {
     "delete_cmd_postfix": "",
     "delete_cmd_prefix": "del ",
     "library": "var_list.py",
     "varRefreshCmd": "print(var_dic_list())"
    },
    "r": {
     "delete_cmd_postfix": ") ",
     "delete_cmd_prefix": "rm(",
     "library": "var_list.r",
     "varRefreshCmd": "cat(var_dic_list()) "
    }
   },
   "types_to_exclude": [
    "module",
    "function",
    "builtin_function_or_method",
    "instance",
    "_Feature"
   ],
   "window_display": false
  }
 },
 "nbformat": 4,
 "nbformat_minor": 4
}