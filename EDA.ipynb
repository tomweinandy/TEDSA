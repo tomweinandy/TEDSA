{
 "cells": [
  {
   "cell_type": "markdown",
   "source": [
    "# Treatment Episode Data Set (TEDS)\n",
    "[2019 Admissions data](https://www.datafiles.samhsa.gov/dataset/treatment-episode-data-set-admissions-2019-teds-2019-ds0001)\n",
    "[2019 Discharge data](https://www.datafiles.samhsa.gov/dataset/teds-d-2019-ds0001-teds-d-2019-ds0001)\n",
    "\n",
    "RESEARCH Q: “What predicts which individuals who report heroin(5)/non-prescription methadone(6)/other opiates and synthetics(7) as their primary substance use (“SUB1”) at admission in 2019 receive medication-assisted opioid therapy (“METHUSE”)?"
   ],
   "metadata": {
    "collapsed": false
   }
  },
  {
   "cell_type": "code",
   "execution_count": 1,
   "metadata": {
    "collapsed": true
   },
   "outputs": [],
   "source": [
    "import pandas as pd\n",
    "import numpy as np\n",
    "\n",
    "admissions = 'tedsa_puf_2019.csv'\n",
    "discharges = 'tedsd_puf_2019.csv'\n",
    "dfa = pd.read_csv(f'../../Downloads/{admissions}')\n",
    "# dfd = pd.read_csv(f'../../Downloads/{discharges}')\n",
    "# df2 = df.replace(-9, np.nan)\n",
    "\n",
    "def breakdown(data, column):\n",
    "    data_grouped = data[['CASEID', column]].groupby(column).count()\n",
    "    data_grouped['PERCENT'] = round(100*data_grouped/len(data), 1)\n",
    "    data_grouped = data_grouped.rename(columns={'CASEID': column})\n",
    "    return data_grouped"
   ]
  },
  {
   "cell_type": "code",
   "execution_count": 9,
   "outputs": [
    {
     "data": {
      "text/plain": "SUB1\n 2     0.307959\n 5     0.235087\n 10    0.112110\n 4     0.112018\n 7     0.066881\n-9     0.058908\n 3     0.057587\n 1     0.017334\n 13    0.009439\n 19    0.007787\n 11    0.005798\n 8     0.002708\n 12    0.001422\n 6     0.001411\n 9     0.001195\n 16    0.001010\n 15    0.000499\n 17    0.000394\n 18    0.000384\n 14    0.000071\nName: CASEID, dtype: float64"
     },
     "execution_count": 9,
     "metadata": {},
     "output_type": "execute_result"
    }
   ],
   "source": [
    "dfa_freq = dfa.groupby('SUB1').count()/len(dfa)\n",
    "dfa_freq.sort_values('CASEID', ascending=False)['CASEID']"
   ],
   "metadata": {
    "collapsed": false,
    "pycharm": {
     "name": "#%%\n"
    }
   }
  },
  {
   "cell_type": "code",
   "execution_count": 63,
   "outputs": [
    {
     "name": "stdout",
     "output_type": "stream",
     "text": [
      "62\n"
     ]
    },
    {
     "data": {
      "text/plain": "Index(['ADMYR', 'CASEID', 'STFIPS', 'CBSA2010', 'EDUC', 'MARSTAT', 'SERVICES',\n       'DETCRIM', 'NOPRIOR', 'PSOURCE', 'ARRESTS', 'EMPLOY', 'METHUSE',\n       'PSYPROB', 'PREG', 'GENDER', 'VET', 'LIVARAG', 'DAYWAIT', 'DSMCRIT',\n       'AGE', 'RACE', 'ETHNIC', 'DETNLF', 'PRIMINC', 'SUB1', 'SUB2', 'SUB3',\n       'ROUTE1', 'ROUTE2', 'ROUTE3', 'FREQ1', 'FREQ2', 'FREQ3', 'FRSTUSE1',\n       'FRSTUSE2', 'FRSTUSE3', 'HLTHINS', 'PRIMPAY', 'FREQ_ATND_SELF_HELP',\n       'ALCFLG', 'COKEFLG', 'MARFLG', 'HERFLG', 'METHFLG', 'OPSYNFLG',\n       'PCPFLG', 'HALLFLG', 'MTHAMFLG', 'AMPHFLG', 'STIMFLG', 'BENZFLG',\n       'TRNQFLG', 'BARBFLG', 'SEDHPFLG', 'INHFLG', 'OTCFLG', 'OTHERFLG',\n       'DIVISION', 'REGION', 'IDU', 'ALCDRUG'],\n      dtype='object')"
     },
     "execution_count": 63,
     "metadata": {},
     "output_type": "execute_result"
    }
   ],
   "source": [
    "print(len(dfa.columns))\n",
    "dfa.columns"
   ],
   "metadata": {
    "collapsed": false,
    "pycharm": {
     "name": "#%%\n"
    }
   }
  },
  {
   "cell_type": "code",
   "execution_count": 65,
   "outputs": [
    {
     "name": "stdout",
     "output_type": "stream",
     "text": [
      "Patients with SUB1 = 5, 6, 7 represent 30.0% of the patient population.\n",
      "Patients with SUB1 = 5, 6, 7 represent 565610 patients.\n"
     ]
    }
   ],
   "source": [
    "dfo = dfa[dfa['SUB1'].isin([5, 6, 7])]\n",
    "print(f'Patients with SUB1 = 5, 6, 7 represent {100*round(len(dfo)/len(dfa), 2)}% of the patient population.')\n",
    "print(f'Patients with SUB1 = 5, 6, 7 represent {len(dfo)} patients.')"
   ],
   "metadata": {
    "collapsed": false,
    "pycharm": {
     "name": "#%%\n"
    }
   }
  },
  {
   "cell_type": "code",
   "execution_count": 53,
   "outputs": [
    {
     "data": {
      "text/plain": "        SUB1  PERCENT\nSUB1                 \n5     438288     77.5\n6       2631      0.5\n7     124691     22.0",
      "text/html": "<div>\n<style scoped>\n    .dataframe tbody tr th:only-of-type {\n        vertical-align: middle;\n    }\n\n    .dataframe tbody tr th {\n        vertical-align: top;\n    }\n\n    .dataframe thead th {\n        text-align: right;\n    }\n</style>\n<table border=\"1\" class=\"dataframe\">\n  <thead>\n    <tr style=\"text-align: right;\">\n      <th></th>\n      <th>SUB1</th>\n      <th>PERCENT</th>\n    </tr>\n    <tr>\n      <th>SUB1</th>\n      <th></th>\n      <th></th>\n    </tr>\n  </thead>\n  <tbody>\n    <tr>\n      <th>5</th>\n      <td>438288</td>\n      <td>77.5</td>\n    </tr>\n    <tr>\n      <th>6</th>\n      <td>2631</td>\n      <td>0.5</td>\n    </tr>\n    <tr>\n      <th>7</th>\n      <td>124691</td>\n      <td>22.0</td>\n    </tr>\n  </tbody>\n</table>\n</div>"
     },
     "execution_count": 53,
     "metadata": {},
     "output_type": "execute_result"
    }
   ],
   "source": [
    "breakdown(dfo, 'SUB1')"
   ],
   "metadata": {
    "collapsed": false,
    "pycharm": {
     "name": "#%%\n"
    }
   }
  },
  {
   "cell_type": "code",
   "execution_count": 54,
   "outputs": [
    {
     "data": {
      "text/plain": "         METHUSE  PERCENT\nMETHUSE                  \n-9         41476      7.3\n 1        211743     37.4\n 2        312391     55.2",
      "text/html": "<div>\n<style scoped>\n    .dataframe tbody tr th:only-of-type {\n        vertical-align: middle;\n    }\n\n    .dataframe tbody tr th {\n        vertical-align: top;\n    }\n\n    .dataframe thead th {\n        text-align: right;\n    }\n</style>\n<table border=\"1\" class=\"dataframe\">\n  <thead>\n    <tr style=\"text-align: right;\">\n      <th></th>\n      <th>METHUSE</th>\n      <th>PERCENT</th>\n    </tr>\n    <tr>\n      <th>METHUSE</th>\n      <th></th>\n      <th></th>\n    </tr>\n  </thead>\n  <tbody>\n    <tr>\n      <th>-9</th>\n      <td>41476</td>\n      <td>7.3</td>\n    </tr>\n    <tr>\n      <th>1</th>\n      <td>211743</td>\n      <td>37.4</td>\n    </tr>\n    <tr>\n      <th>2</th>\n      <td>312391</td>\n      <td>55.2</td>\n    </tr>\n  </tbody>\n</table>\n</div>"
     },
     "execution_count": 54,
     "metadata": {},
     "output_type": "execute_result"
    }
   ],
   "source": [
    "breakdown(dfo, 'METHUSE')"
   ],
   "metadata": {
    "collapsed": false,
    "pycharm": {
     "name": "#%%\n"
    }
   }
  },
  {
   "cell_type": "code",
   "execution_count": 55,
   "outputs": [
    {
     "name": "stdout",
     "output_type": "stream",
     "text": [
      "\n",
      "Frequencies for SUB1 group 5:\n",
      "         METHUSE  PERCENT\n",
      "METHUSE                  \n",
      "-9         28326      6.5\n",
      " 1        164804     37.6\n",
      " 2        245158     55.9\n",
      "\n",
      "Frequencies for SUB1 group 6:\n",
      "         METHUSE  PERCENT\n",
      "METHUSE                  \n",
      "-9           187      7.1\n",
      " 1          1226     46.6\n",
      " 2          1218     46.3\n",
      "\n",
      "Frequencies for SUB1 group 7:\n",
      "         METHUSE  PERCENT\n",
      "METHUSE                  \n",
      "-9         12963     10.4\n",
      " 1         45713     36.7\n",
      " 2         66015     52.9\n"
     ]
    }
   ],
   "source": [
    "for i in range(5,8):\n",
    "    print(f'\\nFrequencies for SUB1 group {i}:')\n",
    "    df_temp = dfo[dfo['SUB1']==i]\n",
    "    print(breakdown(df_temp, 'METHUSE'))"
   ],
   "metadata": {
    "collapsed": false,
    "pycharm": {
     "name": "#%%\n"
    }
   }
  },
  {
   "cell_type": "code",
   "execution_count": 69,
   "outputs": [],
   "source": [
    "# All of the columns are categorical (though many are numerical)\n",
    "non_numeric_columns = ['ADMYR', 'CASEID', 'STFIPS', 'CBSA2010', 'EDUC', 'MARSTAT', 'SERVICES', 'DETCRIM', 'NOPRIOR', 'PSOURCE', 'ARRESTS', 'EMPLOY',\n",
    "                       'METHUSE', 'PSYPROB', 'PREG', 'GENDER', 'VET', 'LIVARAG', 'DAYWAIT', 'DSMCRIT', 'AGE', 'RACE', 'ETHNIC', 'DETNLF', 'PRIMINC',\n",
    "                       'SUB1', 'SUB2', 'SUB3', 'ROUTE1', 'ROUTE2', 'ROUTE3', 'FREQ1', 'FREQ2', 'FREQ3', 'FRSTUSE1', 'FRSTUSE2', 'FRSTUSE3', 'HLTHINS',\n",
    "                       'PRIMPAY', 'FREQ_ATND_SELF_HELP', 'ALCFLG', 'COKEFLG', 'MARFLG', 'HERFLG', 'METHFLG', 'OPSYNFLG', 'PCPFLG', 'HALLFLG',\n",
    "                       'MTHAMFLG', 'AMPHFLG', 'STIMFLG', 'BENZFLG', 'TRNQFLG', 'BARBFLG', 'SEDHPFLG', 'INHFLG', 'OTCFLG', 'OTHERFLG', 'DIVISION',\n",
    "                       'REGION', 'IDU', 'ALCDRUG']\n",
    "\n",
    "numeric_columns = []"
   ],
   "metadata": {
    "collapsed": false,
    "pycharm": {
     "name": "#%%\n"
    }
   }
  },
  {
   "cell_type": "code",
   "execution_count": 70,
   "outputs": [],
   "source": [
    "# Separate into three groups: treated, nontreated, unknown\n",
    "dfo_treated = dfo[dfo['METHUSE']==1]\n",
    "dfo_nontreated = dfo[dfo['METHUSE']==2]\n",
    "dfo_unknown = dfo[dfo['METHUSE']==-9]"
   ],
   "metadata": {
    "collapsed": false,
    "pycharm": {
     "name": "#%%\n"
    }
   }
  },
  {
   "cell_type": "code",
   "execution_count": 71,
   "outputs": [
    {
     "data": {
      "text/plain": "          ADMYR        CASEID         STFIPS       CBSA2010           EDUC  \\\ncount  211743.0  2.117430e+05  211743.000000  211743.000000  211743.000000   \nmean     2019.0  2.019088e+10      25.917008   17400.437469       2.135816   \nstd         0.0  4.899191e+05      12.029746   17266.006984       3.178320   \nmin      2019.0  2.019000e+10       1.000000      -9.000000      -9.000000   \n25%      2019.0  2.019050e+10      23.000000      -9.000000       2.000000   \n50%      2019.0  2.019082e+10      26.000000   14460.000000       3.000000   \n75%      2019.0  2.019127e+10      36.000000   35620.000000       3.000000   \nmax      2019.0  2.019186e+10      72.000000   49660.000000       5.000000   \n\n             MARSTAT       SERVICES        DETCRIM        NOPRIOR  \\\ncount  211743.000000  211743.000000  211743.000000  211743.000000   \nmean       -0.246823       6.349442      -8.204493       1.785381   \nstd         4.126517       1.416943       3.059279       2.542953   \nmin        -9.000000       1.000000      -9.000000      -9.000000   \n25%         1.000000       7.000000      -9.000000       0.000000   \n50%         1.000000       7.000000      -9.000000       1.000000   \n75%         2.000000       7.000000      -9.000000       4.000000   \nmax         4.000000       8.000000       8.000000       5.000000   \n\n             PSOURCE  ...        TRNQFLG        BARBFLG       SEDHPFLG  \\\ncount  211743.000000  ...  211743.000000  211743.000000  211743.000000   \nmean        1.886631  ...       0.000269       0.000383       0.002536   \nstd         2.519023  ...       0.016405       0.019555       0.050296   \nmin        -9.000000  ...       0.000000       0.000000       0.000000   \n25%         1.000000  ...       0.000000       0.000000       0.000000   \n50%         1.000000  ...       0.000000       0.000000       0.000000   \n75%         2.000000  ...       0.000000       0.000000       0.000000   \nmax         7.000000  ...       1.000000       1.000000       1.000000   \n\n              INHFLG         OTCFLG       OTHERFLG       DIVISION  \\\ncount  211743.000000  211743.000000  211743.000000  211743.000000   \nmean        0.000264       0.000746       0.015160       3.905055   \nstd         0.016260       0.027306       0.122189       2.610139   \nmin         0.000000       0.000000       0.000000       0.000000   \n25%         0.000000       0.000000       0.000000       2.000000   \n50%         0.000000       0.000000       0.000000       3.000000   \n75%         0.000000       0.000000       0.000000       5.000000   \nmax         1.000000       1.000000       1.000000       9.000000   \n\n              REGION            IDU        ALCDRUG  \ncount  211743.000000  211743.000000  211743.000000  \nmean        2.108414       0.485825       2.094624  \nstd         1.163393       0.499800       0.292696  \nmin         0.000000       0.000000       2.000000  \n25%         1.000000       0.000000       2.000000  \n50%         2.000000       0.000000       2.000000  \n75%         3.000000       1.000000       2.000000  \nmax         4.000000       1.000000       3.000000  \n\n[8 rows x 62 columns]",
      "text/html": "<div>\n<style scoped>\n    .dataframe tbody tr th:only-of-type {\n        vertical-align: middle;\n    }\n\n    .dataframe tbody tr th {\n        vertical-align: top;\n    }\n\n    .dataframe thead th {\n        text-align: right;\n    }\n</style>\n<table border=\"1\" class=\"dataframe\">\n  <thead>\n    <tr style=\"text-align: right;\">\n      <th></th>\n      <th>ADMYR</th>\n      <th>CASEID</th>\n      <th>STFIPS</th>\n      <th>CBSA2010</th>\n      <th>EDUC</th>\n      <th>MARSTAT</th>\n      <th>SERVICES</th>\n      <th>DETCRIM</th>\n      <th>NOPRIOR</th>\n      <th>PSOURCE</th>\n      <th>...</th>\n      <th>TRNQFLG</th>\n      <th>BARBFLG</th>\n      <th>SEDHPFLG</th>\n      <th>INHFLG</th>\n      <th>OTCFLG</th>\n      <th>OTHERFLG</th>\n      <th>DIVISION</th>\n      <th>REGION</th>\n      <th>IDU</th>\n      <th>ALCDRUG</th>\n    </tr>\n  </thead>\n  <tbody>\n    <tr>\n      <th>count</th>\n      <td>211743.0</td>\n      <td>2.117430e+05</td>\n      <td>211743.000000</td>\n      <td>211743.000000</td>\n      <td>211743.000000</td>\n      <td>211743.000000</td>\n      <td>211743.000000</td>\n      <td>211743.000000</td>\n      <td>211743.000000</td>\n      <td>211743.000000</td>\n      <td>...</td>\n      <td>211743.000000</td>\n      <td>211743.000000</td>\n      <td>211743.000000</td>\n      <td>211743.000000</td>\n      <td>211743.000000</td>\n      <td>211743.000000</td>\n      <td>211743.000000</td>\n      <td>211743.000000</td>\n      <td>211743.000000</td>\n      <td>211743.000000</td>\n    </tr>\n    <tr>\n      <th>mean</th>\n      <td>2019.0</td>\n      <td>2.019088e+10</td>\n      <td>25.917008</td>\n      <td>17400.437469</td>\n      <td>2.135816</td>\n      <td>-0.246823</td>\n      <td>6.349442</td>\n      <td>-8.204493</td>\n      <td>1.785381</td>\n      <td>1.886631</td>\n      <td>...</td>\n      <td>0.000269</td>\n      <td>0.000383</td>\n      <td>0.002536</td>\n      <td>0.000264</td>\n      <td>0.000746</td>\n      <td>0.015160</td>\n      <td>3.905055</td>\n      <td>2.108414</td>\n      <td>0.485825</td>\n      <td>2.094624</td>\n    </tr>\n    <tr>\n      <th>std</th>\n      <td>0.0</td>\n      <td>4.899191e+05</td>\n      <td>12.029746</td>\n      <td>17266.006984</td>\n      <td>3.178320</td>\n      <td>4.126517</td>\n      <td>1.416943</td>\n      <td>3.059279</td>\n      <td>2.542953</td>\n      <td>2.519023</td>\n      <td>...</td>\n      <td>0.016405</td>\n      <td>0.019555</td>\n      <td>0.050296</td>\n      <td>0.016260</td>\n      <td>0.027306</td>\n      <td>0.122189</td>\n      <td>2.610139</td>\n      <td>1.163393</td>\n      <td>0.499800</td>\n      <td>0.292696</td>\n    </tr>\n    <tr>\n      <th>min</th>\n      <td>2019.0</td>\n      <td>2.019000e+10</td>\n      <td>1.000000</td>\n      <td>-9.000000</td>\n      <td>-9.000000</td>\n      <td>-9.000000</td>\n      <td>1.000000</td>\n      <td>-9.000000</td>\n      <td>-9.000000</td>\n      <td>-9.000000</td>\n      <td>...</td>\n      <td>0.000000</td>\n      <td>0.000000</td>\n      <td>0.000000</td>\n      <td>0.000000</td>\n      <td>0.000000</td>\n      <td>0.000000</td>\n      <td>0.000000</td>\n      <td>0.000000</td>\n      <td>0.000000</td>\n      <td>2.000000</td>\n    </tr>\n    <tr>\n      <th>25%</th>\n      <td>2019.0</td>\n      <td>2.019050e+10</td>\n      <td>23.000000</td>\n      <td>-9.000000</td>\n      <td>2.000000</td>\n      <td>1.000000</td>\n      <td>7.000000</td>\n      <td>-9.000000</td>\n      <td>0.000000</td>\n      <td>1.000000</td>\n      <td>...</td>\n      <td>0.000000</td>\n      <td>0.000000</td>\n      <td>0.000000</td>\n      <td>0.000000</td>\n      <td>0.000000</td>\n      <td>0.000000</td>\n      <td>2.000000</td>\n      <td>1.000000</td>\n      <td>0.000000</td>\n      <td>2.000000</td>\n    </tr>\n    <tr>\n      <th>50%</th>\n      <td>2019.0</td>\n      <td>2.019082e+10</td>\n      <td>26.000000</td>\n      <td>14460.000000</td>\n      <td>3.000000</td>\n      <td>1.000000</td>\n      <td>7.000000</td>\n      <td>-9.000000</td>\n      <td>1.000000</td>\n      <td>1.000000</td>\n      <td>...</td>\n      <td>0.000000</td>\n      <td>0.000000</td>\n      <td>0.000000</td>\n      <td>0.000000</td>\n      <td>0.000000</td>\n      <td>0.000000</td>\n      <td>3.000000</td>\n      <td>2.000000</td>\n      <td>0.000000</td>\n      <td>2.000000</td>\n    </tr>\n    <tr>\n      <th>75%</th>\n      <td>2019.0</td>\n      <td>2.019127e+10</td>\n      <td>36.000000</td>\n      <td>35620.000000</td>\n      <td>3.000000</td>\n      <td>2.000000</td>\n      <td>7.000000</td>\n      <td>-9.000000</td>\n      <td>4.000000</td>\n      <td>2.000000</td>\n      <td>...</td>\n      <td>0.000000</td>\n      <td>0.000000</td>\n      <td>0.000000</td>\n      <td>0.000000</td>\n      <td>0.000000</td>\n      <td>0.000000</td>\n      <td>5.000000</td>\n      <td>3.000000</td>\n      <td>1.000000</td>\n      <td>2.000000</td>\n    </tr>\n    <tr>\n      <th>max</th>\n      <td>2019.0</td>\n      <td>2.019186e+10</td>\n      <td>72.000000</td>\n      <td>49660.000000</td>\n      <td>5.000000</td>\n      <td>4.000000</td>\n      <td>8.000000</td>\n      <td>8.000000</td>\n      <td>5.000000</td>\n      <td>7.000000</td>\n      <td>...</td>\n      <td>1.000000</td>\n      <td>1.000000</td>\n      <td>1.000000</td>\n      <td>1.000000</td>\n      <td>1.000000</td>\n      <td>1.000000</td>\n      <td>9.000000</td>\n      <td>4.000000</td>\n      <td>1.000000</td>\n      <td>3.000000</td>\n    </tr>\n  </tbody>\n</table>\n<p>8 rows × 62 columns</p>\n</div>"
     },
     "execution_count": 71,
     "metadata": {},
     "output_type": "execute_result"
    }
   ],
   "source": [
    "dfo_treated[kept_columns].describe()"
   ],
   "metadata": {
    "collapsed": false,
    "pycharm": {
     "name": "#%%\n"
    }
   }
  },
  {
   "cell_type": "code",
   "execution_count": 67,
   "outputs": [
    {
     "data": {
      "text/plain": "          ADMYR        CASEID         STFIPS       CBSA2010           EDUC  \\\ncount  312391.0  3.123910e+05  312391.000000  312391.000000  312391.000000   \nmean     2019.0  2.019087e+10      26.611432   17090.752858       2.392847   \nstd         0.0  4.866785e+05      13.484017   17355.826545       2.714528   \nmin      2019.0  2.019000e+10       1.000000      -9.000000      -9.000000   \n25%      2019.0  2.019047e+10      17.000000      -9.000000       2.000000   \n50%      2019.0  2.019086e+10      25.000000   14460.000000       3.000000   \n75%      2019.0  2.019125e+10      36.000000   35620.000000       3.000000   \nmax      2019.0  2.019186e+10      72.000000   49700.000000       5.000000   \n\n             MARSTAT       SERVICES        DETCRIM        NOPRIOR  \\\ncount  312391.000000  312391.000000  312391.000000  312391.000000   \nmean       -0.780160       4.734787      -7.222382       0.539846   \nstd         4.489865       2.155244       4.475971       4.289367   \nmin        -9.000000       1.000000      -9.000000      -9.000000   \n25%         1.000000       2.000000      -9.000000       0.000000   \n50%         1.000000       5.000000      -9.000000       1.000000   \n75%         1.000000       7.000000      -9.000000       4.000000   \nmax         4.000000       8.000000       8.000000       5.000000   \n\n             PSOURCE  ...        TRNQFLG        BARBFLG       SEDHPFLG  \\\ncount  312391.000000  ...  312391.000000  312391.000000  312391.000000   \nmean        2.636904  ...       0.000387       0.000813       0.005371   \nstd         2.984505  ...       0.019677       0.028503       0.073093   \nmin        -9.000000  ...       0.000000       0.000000       0.000000   \n25%         1.000000  ...       0.000000       0.000000       0.000000   \n50%         1.000000  ...       0.000000       0.000000       0.000000   \n75%         6.000000  ...       0.000000       0.000000       0.000000   \nmax         7.000000  ...       1.000000       1.000000       1.000000   \n\n              INHFLG         OTCFLG       OTHERFLG       DIVISION  \\\ncount  312391.000000  312391.000000  312391.000000  312391.000000   \nmean        0.000330       0.000755       0.018621       3.945645   \nstd         0.018155       0.027475       0.135182       2.426313   \nmin         0.000000       0.000000       0.000000       0.000000   \n25%         0.000000       0.000000       0.000000       2.000000   \n50%         0.000000       0.000000       0.000000       3.000000   \n75%         0.000000       0.000000       0.000000       5.000000   \nmax         1.000000       1.000000       1.000000       9.000000   \n\n              REGION            IDU        ALCDRUG  \ncount  312391.000000  312391.000000  312391.000000  \nmean        2.185287       0.505732       2.148698  \nstd         1.083973       0.499968       0.355791  \nmin         0.000000       0.000000       2.000000  \n25%         1.000000       0.000000       2.000000  \n50%         2.000000       1.000000       2.000000  \n75%         3.000000       1.000000       2.000000  \nmax         4.000000       1.000000       3.000000  \n\n[8 rows x 62 columns]",
      "text/html": "<div>\n<style scoped>\n    .dataframe tbody tr th:only-of-type {\n        vertical-align: middle;\n    }\n\n    .dataframe tbody tr th {\n        vertical-align: top;\n    }\n\n    .dataframe thead th {\n        text-align: right;\n    }\n</style>\n<table border=\"1\" class=\"dataframe\">\n  <thead>\n    <tr style=\"text-align: right;\">\n      <th></th>\n      <th>ADMYR</th>\n      <th>CASEID</th>\n      <th>STFIPS</th>\n      <th>CBSA2010</th>\n      <th>EDUC</th>\n      <th>MARSTAT</th>\n      <th>SERVICES</th>\n      <th>DETCRIM</th>\n      <th>NOPRIOR</th>\n      <th>PSOURCE</th>\n      <th>...</th>\n      <th>TRNQFLG</th>\n      <th>BARBFLG</th>\n      <th>SEDHPFLG</th>\n      <th>INHFLG</th>\n      <th>OTCFLG</th>\n      <th>OTHERFLG</th>\n      <th>DIVISION</th>\n      <th>REGION</th>\n      <th>IDU</th>\n      <th>ALCDRUG</th>\n    </tr>\n  </thead>\n  <tbody>\n    <tr>\n      <th>count</th>\n      <td>312391.0</td>\n      <td>3.123910e+05</td>\n      <td>312391.000000</td>\n      <td>312391.000000</td>\n      <td>312391.000000</td>\n      <td>312391.000000</td>\n      <td>312391.000000</td>\n      <td>312391.000000</td>\n      <td>312391.000000</td>\n      <td>312391.000000</td>\n      <td>...</td>\n      <td>312391.000000</td>\n      <td>312391.000000</td>\n      <td>312391.000000</td>\n      <td>312391.000000</td>\n      <td>312391.000000</td>\n      <td>312391.000000</td>\n      <td>312391.000000</td>\n      <td>312391.000000</td>\n      <td>312391.000000</td>\n      <td>312391.000000</td>\n    </tr>\n    <tr>\n      <th>mean</th>\n      <td>2019.0</td>\n      <td>2.019087e+10</td>\n      <td>26.611432</td>\n      <td>17090.752858</td>\n      <td>2.392847</td>\n      <td>-0.780160</td>\n      <td>4.734787</td>\n      <td>-7.222382</td>\n      <td>0.539846</td>\n      <td>2.636904</td>\n      <td>...</td>\n      <td>0.000387</td>\n      <td>0.000813</td>\n      <td>0.005371</td>\n      <td>0.000330</td>\n      <td>0.000755</td>\n      <td>0.018621</td>\n      <td>3.945645</td>\n      <td>2.185287</td>\n      <td>0.505732</td>\n      <td>2.148698</td>\n    </tr>\n    <tr>\n      <th>std</th>\n      <td>0.0</td>\n      <td>4.866785e+05</td>\n      <td>13.484017</td>\n      <td>17355.826545</td>\n      <td>2.714528</td>\n      <td>4.489865</td>\n      <td>2.155244</td>\n      <td>4.475971</td>\n      <td>4.289367</td>\n      <td>2.984505</td>\n      <td>...</td>\n      <td>0.019677</td>\n      <td>0.028503</td>\n      <td>0.073093</td>\n      <td>0.018155</td>\n      <td>0.027475</td>\n      <td>0.135182</td>\n      <td>2.426313</td>\n      <td>1.083973</td>\n      <td>0.499968</td>\n      <td>0.355791</td>\n    </tr>\n    <tr>\n      <th>min</th>\n      <td>2019.0</td>\n      <td>2.019000e+10</td>\n      <td>1.000000</td>\n      <td>-9.000000</td>\n      <td>-9.000000</td>\n      <td>-9.000000</td>\n      <td>1.000000</td>\n      <td>-9.000000</td>\n      <td>-9.000000</td>\n      <td>-9.000000</td>\n      <td>...</td>\n      <td>0.000000</td>\n      <td>0.000000</td>\n      <td>0.000000</td>\n      <td>0.000000</td>\n      <td>0.000000</td>\n      <td>0.000000</td>\n      <td>0.000000</td>\n      <td>0.000000</td>\n      <td>0.000000</td>\n      <td>2.000000</td>\n    </tr>\n    <tr>\n      <th>25%</th>\n      <td>2019.0</td>\n      <td>2.019047e+10</td>\n      <td>17.000000</td>\n      <td>-9.000000</td>\n      <td>2.000000</td>\n      <td>1.000000</td>\n      <td>2.000000</td>\n      <td>-9.000000</td>\n      <td>0.000000</td>\n      <td>1.000000</td>\n      <td>...</td>\n      <td>0.000000</td>\n      <td>0.000000</td>\n      <td>0.000000</td>\n      <td>0.000000</td>\n      <td>0.000000</td>\n      <td>0.000000</td>\n      <td>2.000000</td>\n      <td>1.000000</td>\n      <td>0.000000</td>\n      <td>2.000000</td>\n    </tr>\n    <tr>\n      <th>50%</th>\n      <td>2019.0</td>\n      <td>2.019086e+10</td>\n      <td>25.000000</td>\n      <td>14460.000000</td>\n      <td>3.000000</td>\n      <td>1.000000</td>\n      <td>5.000000</td>\n      <td>-9.000000</td>\n      <td>1.000000</td>\n      <td>1.000000</td>\n      <td>...</td>\n      <td>0.000000</td>\n      <td>0.000000</td>\n      <td>0.000000</td>\n      <td>0.000000</td>\n      <td>0.000000</td>\n      <td>0.000000</td>\n      <td>3.000000</td>\n      <td>2.000000</td>\n      <td>1.000000</td>\n      <td>2.000000</td>\n    </tr>\n    <tr>\n      <th>75%</th>\n      <td>2019.0</td>\n      <td>2.019125e+10</td>\n      <td>36.000000</td>\n      <td>35620.000000</td>\n      <td>3.000000</td>\n      <td>1.000000</td>\n      <td>7.000000</td>\n      <td>-9.000000</td>\n      <td>4.000000</td>\n      <td>6.000000</td>\n      <td>...</td>\n      <td>0.000000</td>\n      <td>0.000000</td>\n      <td>0.000000</td>\n      <td>0.000000</td>\n      <td>0.000000</td>\n      <td>0.000000</td>\n      <td>5.000000</td>\n      <td>3.000000</td>\n      <td>1.000000</td>\n      <td>2.000000</td>\n    </tr>\n    <tr>\n      <th>max</th>\n      <td>2019.0</td>\n      <td>2.019186e+10</td>\n      <td>72.000000</td>\n      <td>49700.000000</td>\n      <td>5.000000</td>\n      <td>4.000000</td>\n      <td>8.000000</td>\n      <td>8.000000</td>\n      <td>5.000000</td>\n      <td>7.000000</td>\n      <td>...</td>\n      <td>1.000000</td>\n      <td>1.000000</td>\n      <td>1.000000</td>\n      <td>1.000000</td>\n      <td>1.000000</td>\n      <td>1.000000</td>\n      <td>9.000000</td>\n      <td>4.000000</td>\n      <td>1.000000</td>\n      <td>3.000000</td>\n    </tr>\n  </tbody>\n</table>\n<p>8 rows × 62 columns</p>\n</div>"
     },
     "execution_count": 67,
     "metadata": {},
     "output_type": "execute_result"
    }
   ],
   "source": [
    "dfo_nontreated[kept_columns].describe()"
   ],
   "metadata": {
    "collapsed": false,
    "pycharm": {
     "name": "#%%\n"
    }
   }
  },
  {
   "cell_type": "code",
   "execution_count": null,
   "outputs": [],
   "source": [
    "dfo_unknown[kept_columns].describe()"
   ],
   "metadata": {
    "collapsed": false,
    "pycharm": {
     "name": "#%%\n"
    }
   }
  }
 ],
 "metadata": {
  "kernelspec": {
   "display_name": "Python 3",
   "language": "python",
   "name": "python3"
  },
  "language_info": {
   "codemirror_mode": {
    "name": "ipython",
    "version": 2
   },
   "file_extension": ".py",
   "mimetype": "text/x-python",
   "name": "python",
   "nbconvert_exporter": "python",
   "pygments_lexer": "ipython2",
   "version": "2.7.6"
  }
 },
 "nbformat": 4,
 "nbformat_minor": 0
}