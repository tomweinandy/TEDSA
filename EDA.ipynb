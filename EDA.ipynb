{
 "cells": [
  {
   "cell_type": "markdown",
   "source": [
    "# Treatment Episode Data Set (TEDS)\n",
    "[Substance Abuse Mental Health Archive](https://www.datafiles.samhsa.gov/dataset/treatment-episode-data-set-admissions-2019-teds-2019-ds0001)"
   ],
   "metadata": {
    "collapsed": false
   }
  },
  {
   "cell_type": "code",
   "execution_count": 18,
   "metadata": {
    "collapsed": true
   },
   "outputs": [],
   "source": [
    "import pandas as pd\n",
    "import numpy as np\n",
    "\n",
    "filename = 'tedsa_puf_2019.csv'\n",
    "df = pd.read_csv(f'../../Downloads/{filename}')\n",
    "df2 = df.replace(-9, np.nan)"
   ]
  },
  {
   "cell_type": "code",
   "execution_count": 14,
   "outputs": [
    {
     "data": {
      "text/plain": "         ADMYR       CASEID  STFIPS  CBSA2010  EDUC  MARSTAT  SERVICES  \\\n0         2019  20191646366       2       NaN   1.0      1.0         7   \n1         2019  20191553029       2       NaN   3.0      2.0         7   \n2         2019  20191530436       2       NaN   3.0      2.0         7   \n3         2019  20191494020       2       NaN   4.0      1.0         7   \n4         2019  20191568091       2       NaN   4.0      1.0         7   \n...        ...          ...     ...       ...   ...      ...       ...   \n1864362   2019  20191814549      56       NaN   1.0      1.0         6   \n1864363   2019  20191451369      56       NaN   2.0      1.0         7   \n1864364   2019  20191794231      56       NaN   2.0      1.0         7   \n1864365   2019  20191692349      56       NaN   1.0      1.0         7   \n1864366   2019  20191582792      56       NaN   3.0      4.0         7   \n\n         DETCRIM  NOPRIOR  PSOURCE  ...  TRNQFLG  BARBFLG  SEDHPFLG  INHFLG  \\\n0            NaN      0.0      1.0  ...        0        0         0       0   \n1            NaN      1.0      1.0  ...        0        0         0       0   \n2            NaN      2.0      1.0  ...        0        0         0       0   \n3            NaN      0.0      1.0  ...        0        0         0       0   \n4            NaN      0.0      1.0  ...        0        0         0       0   \n...          ...      ...      ...  ...      ...      ...       ...     ...   \n1864362      3.0      0.0      7.0  ...        0        0         0       0   \n1864363      3.0      0.0      7.0  ...        0        0         0       0   \n1864364      3.0      0.0      7.0  ...        0        0         0       0   \n1864365      3.0      0.0      7.0  ...        0        0         0       0   \n1864366      3.0      0.0      7.0  ...        0        0         0       0   \n\n         OTCFLG  OTHERFLG  DIVISION  REGION  IDU  ALCDRUG  \n0             0         0         9       4  0.0        3  \n1             0         0         9       4  0.0        3  \n2             0         0         9       4  0.0        3  \n3             0         1         9       4  0.0        3  \n4             0         1         9       4  0.0        3  \n...         ...       ...       ...     ...  ...      ...  \n1864362       0         0         8       4  0.0        3  \n1864363       0         1         8       4  0.0        3  \n1864364       0         0         8       4  0.0        3  \n1864365       1         0         8       4  0.0        3  \n1864366       0         0         8       4  0.0        1  \n\n[1864367 rows x 62 columns]",
      "text/html": "<div>\n<style scoped>\n    .dataframe tbody tr th:only-of-type {\n        vertical-align: middle;\n    }\n\n    .dataframe tbody tr th {\n        vertical-align: top;\n    }\n\n    .dataframe thead th {\n        text-align: right;\n    }\n</style>\n<table border=\"1\" class=\"dataframe\">\n  <thead>\n    <tr style=\"text-align: right;\">\n      <th></th>\n      <th>ADMYR</th>\n      <th>CASEID</th>\n      <th>STFIPS</th>\n      <th>CBSA2010</th>\n      <th>EDUC</th>\n      <th>MARSTAT</th>\n      <th>SERVICES</th>\n      <th>DETCRIM</th>\n      <th>NOPRIOR</th>\n      <th>PSOURCE</th>\n      <th>...</th>\n      <th>TRNQFLG</th>\n      <th>BARBFLG</th>\n      <th>SEDHPFLG</th>\n      <th>INHFLG</th>\n      <th>OTCFLG</th>\n      <th>OTHERFLG</th>\n      <th>DIVISION</th>\n      <th>REGION</th>\n      <th>IDU</th>\n      <th>ALCDRUG</th>\n    </tr>\n  </thead>\n  <tbody>\n    <tr>\n      <th>0</th>\n      <td>2019</td>\n      <td>20191646366</td>\n      <td>2</td>\n      <td>NaN</td>\n      <td>1.0</td>\n      <td>1.0</td>\n      <td>7</td>\n      <td>NaN</td>\n      <td>0.0</td>\n      <td>1.0</td>\n      <td>...</td>\n      <td>0</td>\n      <td>0</td>\n      <td>0</td>\n      <td>0</td>\n      <td>0</td>\n      <td>0</td>\n      <td>9</td>\n      <td>4</td>\n      <td>0.0</td>\n      <td>3</td>\n    </tr>\n    <tr>\n      <th>1</th>\n      <td>2019</td>\n      <td>20191553029</td>\n      <td>2</td>\n      <td>NaN</td>\n      <td>3.0</td>\n      <td>2.0</td>\n      <td>7</td>\n      <td>NaN</td>\n      <td>1.0</td>\n      <td>1.0</td>\n      <td>...</td>\n      <td>0</td>\n      <td>0</td>\n      <td>0</td>\n      <td>0</td>\n      <td>0</td>\n      <td>0</td>\n      <td>9</td>\n      <td>4</td>\n      <td>0.0</td>\n      <td>3</td>\n    </tr>\n    <tr>\n      <th>2</th>\n      <td>2019</td>\n      <td>20191530436</td>\n      <td>2</td>\n      <td>NaN</td>\n      <td>3.0</td>\n      <td>2.0</td>\n      <td>7</td>\n      <td>NaN</td>\n      <td>2.0</td>\n      <td>1.0</td>\n      <td>...</td>\n      <td>0</td>\n      <td>0</td>\n      <td>0</td>\n      <td>0</td>\n      <td>0</td>\n      <td>0</td>\n      <td>9</td>\n      <td>4</td>\n      <td>0.0</td>\n      <td>3</td>\n    </tr>\n    <tr>\n      <th>3</th>\n      <td>2019</td>\n      <td>20191494020</td>\n      <td>2</td>\n      <td>NaN</td>\n      <td>4.0</td>\n      <td>1.0</td>\n      <td>7</td>\n      <td>NaN</td>\n      <td>0.0</td>\n      <td>1.0</td>\n      <td>...</td>\n      <td>0</td>\n      <td>0</td>\n      <td>0</td>\n      <td>0</td>\n      <td>0</td>\n      <td>1</td>\n      <td>9</td>\n      <td>4</td>\n      <td>0.0</td>\n      <td>3</td>\n    </tr>\n    <tr>\n      <th>4</th>\n      <td>2019</td>\n      <td>20191568091</td>\n      <td>2</td>\n      <td>NaN</td>\n      <td>4.0</td>\n      <td>1.0</td>\n      <td>7</td>\n      <td>NaN</td>\n      <td>0.0</td>\n      <td>1.0</td>\n      <td>...</td>\n      <td>0</td>\n      <td>0</td>\n      <td>0</td>\n      <td>0</td>\n      <td>0</td>\n      <td>1</td>\n      <td>9</td>\n      <td>4</td>\n      <td>0.0</td>\n      <td>3</td>\n    </tr>\n    <tr>\n      <th>...</th>\n      <td>...</td>\n      <td>...</td>\n      <td>...</td>\n      <td>...</td>\n      <td>...</td>\n      <td>...</td>\n      <td>...</td>\n      <td>...</td>\n      <td>...</td>\n      <td>...</td>\n      <td>...</td>\n      <td>...</td>\n      <td>...</td>\n      <td>...</td>\n      <td>...</td>\n      <td>...</td>\n      <td>...</td>\n      <td>...</td>\n      <td>...</td>\n      <td>...</td>\n      <td>...</td>\n    </tr>\n    <tr>\n      <th>1864362</th>\n      <td>2019</td>\n      <td>20191814549</td>\n      <td>56</td>\n      <td>NaN</td>\n      <td>1.0</td>\n      <td>1.0</td>\n      <td>6</td>\n      <td>3.0</td>\n      <td>0.0</td>\n      <td>7.0</td>\n      <td>...</td>\n      <td>0</td>\n      <td>0</td>\n      <td>0</td>\n      <td>0</td>\n      <td>0</td>\n      <td>0</td>\n      <td>8</td>\n      <td>4</td>\n      <td>0.0</td>\n      <td>3</td>\n    </tr>\n    <tr>\n      <th>1864363</th>\n      <td>2019</td>\n      <td>20191451369</td>\n      <td>56</td>\n      <td>NaN</td>\n      <td>2.0</td>\n      <td>1.0</td>\n      <td>7</td>\n      <td>3.0</td>\n      <td>0.0</td>\n      <td>7.0</td>\n      <td>...</td>\n      <td>0</td>\n      <td>0</td>\n      <td>0</td>\n      <td>0</td>\n      <td>0</td>\n      <td>1</td>\n      <td>8</td>\n      <td>4</td>\n      <td>0.0</td>\n      <td>3</td>\n    </tr>\n    <tr>\n      <th>1864364</th>\n      <td>2019</td>\n      <td>20191794231</td>\n      <td>56</td>\n      <td>NaN</td>\n      <td>2.0</td>\n      <td>1.0</td>\n      <td>7</td>\n      <td>3.0</td>\n      <td>0.0</td>\n      <td>7.0</td>\n      <td>...</td>\n      <td>0</td>\n      <td>0</td>\n      <td>0</td>\n      <td>0</td>\n      <td>0</td>\n      <td>0</td>\n      <td>8</td>\n      <td>4</td>\n      <td>0.0</td>\n      <td>3</td>\n    </tr>\n    <tr>\n      <th>1864365</th>\n      <td>2019</td>\n      <td>20191692349</td>\n      <td>56</td>\n      <td>NaN</td>\n      <td>1.0</td>\n      <td>1.0</td>\n      <td>7</td>\n      <td>3.0</td>\n      <td>0.0</td>\n      <td>7.0</td>\n      <td>...</td>\n      <td>0</td>\n      <td>0</td>\n      <td>0</td>\n      <td>0</td>\n      <td>1</td>\n      <td>0</td>\n      <td>8</td>\n      <td>4</td>\n      <td>0.0</td>\n      <td>3</td>\n    </tr>\n    <tr>\n      <th>1864366</th>\n      <td>2019</td>\n      <td>20191582792</td>\n      <td>56</td>\n      <td>NaN</td>\n      <td>3.0</td>\n      <td>4.0</td>\n      <td>7</td>\n      <td>3.0</td>\n      <td>0.0</td>\n      <td>7.0</td>\n      <td>...</td>\n      <td>0</td>\n      <td>0</td>\n      <td>0</td>\n      <td>0</td>\n      <td>0</td>\n      <td>0</td>\n      <td>8</td>\n      <td>4</td>\n      <td>0.0</td>\n      <td>1</td>\n    </tr>\n  </tbody>\n</table>\n<p>1864367 rows × 62 columns</p>\n</div>"
     },
     "execution_count": 14,
     "metadata": {},
     "output_type": "execute_result"
    }
   ],
   "source": [
    "df"
   ],
   "metadata": {
    "collapsed": false,
    "pycharm": {
     "name": "#%%\n"
    }
   }
  },
  {
   "cell_type": "code",
   "execution_count": 15,
   "outputs": [
    {
     "data": {
      "text/plain": "           ADMYR        CASEID        STFIPS       CBSA2010          EDUC  \\\ncount  1864367.0  1.864367e+06  1.864367e+06  982434.000000  1.664290e+06   \nmean      2019.0  2.019093e+10  2.478276e+01   30722.986104  2.987250e+00   \nstd          0.0  5.382776e+05  1.445169e+01   10901.791988  9.474216e-01   \nmin       2019.0  2.019000e+10  1.000000e+00   10180.000000  1.000000e+00   \n25%       2019.0  2.019047e+10  9.000000e+00   19780.000000  2.000000e+00   \n50%       2019.0  2.019093e+10  2.500000e+01   35620.000000  3.000000e+00   \n75%       2019.0  2.019140e+10  3.600000e+01   39300.000000  3.000000e+00   \nmax       2019.0  2.019186e+10  7.200000e+01   49700.000000  5.000000e+00   \n\n            MARSTAT      SERVICES        DETCRIM       NOPRIOR       PSOURCE  \\\ncount  1.447521e+06  1.864367e+06  353954.000000  1.692191e+06  1.724686e+06   \nmean   1.668921e+00  5.523787e+00       3.843539  1.654585e+00  3.445014e+00   \nstd    1.093607e+00  1.960209e+00       2.249690  1.859188e+00  2.644121e+00   \nmin    1.000000e+00  1.000000e+00       1.000000  0.000000e+00  1.000000e+00   \n25%    1.000000e+00  4.000000e+00       3.000000  0.000000e+00  1.000000e+00   \n50%    1.000000e+00  7.000000e+00       3.000000  1.000000e+00  2.000000e+00   \n75%    2.000000e+00  7.000000e+00       5.000000  3.000000e+00  7.000000e+00   \nmax    4.000000e+00  8.000000e+00       8.000000  5.000000e+00  7.000000e+00   \n\n       ...       TRNQFLG       BARBFLG      SEDHPFLG        INHFLG  \\\ncount  ...  1.864367e+06  1.864367e+06  1.864367e+06  1.864367e+06   \nmean   ...  3.041247e-04  9.601114e-04  3.857610e-03  1.007312e-03   \nstd    ...  1.743652e-02  3.097079e-02  6.198976e-02  3.172220e-02   \nmin    ...  0.000000e+00  0.000000e+00  0.000000e+00  0.000000e+00   \n25%    ...  0.000000e+00  0.000000e+00  0.000000e+00  0.000000e+00   \n50%    ...  0.000000e+00  0.000000e+00  0.000000e+00  0.000000e+00   \n75%    ...  0.000000e+00  0.000000e+00  0.000000e+00  0.000000e+00   \nmax    ...  1.000000e+00  1.000000e+00  1.000000e+00  1.000000e+00   \n\n             OTCFLG      OTHERFLG      DIVISION        REGION           IDU  \\\ncount  1.864367e+06  1.864367e+06  1.864367e+06  1.864367e+06  1.722244e+06   \nmean   1.352738e-03  3.075199e-02  4.537736e+00  2.402724e+00  2.262658e-01   \nstd    3.675471e-02  1.726451e-01  2.573405e+00  1.148391e+00  4.184133e-01   \nmin    0.000000e+00  0.000000e+00  0.000000e+00  0.000000e+00  0.000000e+00   \n25%    0.000000e+00  0.000000e+00  2.000000e+00  1.000000e+00  0.000000e+00   \n50%    0.000000e+00  0.000000e+00  4.000000e+00  2.000000e+00  0.000000e+00   \n75%    0.000000e+00  0.000000e+00  7.000000e+00  3.000000e+00  0.000000e+00   \nmax    1.000000e+00  1.000000e+00  9.000000e+00  4.000000e+00  1.000000e+00   \n\n            ALCDRUG  \ncount  1.864367e+06  \nmean   1.925228e+00  \nstd    8.498754e-01  \nmin    0.000000e+00  \n25%    2.000000e+00  \n50%    2.000000e+00  \n75%    3.000000e+00  \nmax    3.000000e+00  \n\n[8 rows x 62 columns]",
      "text/html": "<div>\n<style scoped>\n    .dataframe tbody tr th:only-of-type {\n        vertical-align: middle;\n    }\n\n    .dataframe tbody tr th {\n        vertical-align: top;\n    }\n\n    .dataframe thead th {\n        text-align: right;\n    }\n</style>\n<table border=\"1\" class=\"dataframe\">\n  <thead>\n    <tr style=\"text-align: right;\">\n      <th></th>\n      <th>ADMYR</th>\n      <th>CASEID</th>\n      <th>STFIPS</th>\n      <th>CBSA2010</th>\n      <th>EDUC</th>\n      <th>MARSTAT</th>\n      <th>SERVICES</th>\n      <th>DETCRIM</th>\n      <th>NOPRIOR</th>\n      <th>PSOURCE</th>\n      <th>...</th>\n      <th>TRNQFLG</th>\n      <th>BARBFLG</th>\n      <th>SEDHPFLG</th>\n      <th>INHFLG</th>\n      <th>OTCFLG</th>\n      <th>OTHERFLG</th>\n      <th>DIVISION</th>\n      <th>REGION</th>\n      <th>IDU</th>\n      <th>ALCDRUG</th>\n    </tr>\n  </thead>\n  <tbody>\n    <tr>\n      <th>count</th>\n      <td>1864367.0</td>\n      <td>1.864367e+06</td>\n      <td>1.864367e+06</td>\n      <td>982434.000000</td>\n      <td>1.664290e+06</td>\n      <td>1.447521e+06</td>\n      <td>1.864367e+06</td>\n      <td>353954.000000</td>\n      <td>1.692191e+06</td>\n      <td>1.724686e+06</td>\n      <td>...</td>\n      <td>1.864367e+06</td>\n      <td>1.864367e+06</td>\n      <td>1.864367e+06</td>\n      <td>1.864367e+06</td>\n      <td>1.864367e+06</td>\n      <td>1.864367e+06</td>\n      <td>1.864367e+06</td>\n      <td>1.864367e+06</td>\n      <td>1.722244e+06</td>\n      <td>1.864367e+06</td>\n    </tr>\n    <tr>\n      <th>mean</th>\n      <td>2019.0</td>\n      <td>2.019093e+10</td>\n      <td>2.478276e+01</td>\n      <td>30722.986104</td>\n      <td>2.987250e+00</td>\n      <td>1.668921e+00</td>\n      <td>5.523787e+00</td>\n      <td>3.843539</td>\n      <td>1.654585e+00</td>\n      <td>3.445014e+00</td>\n      <td>...</td>\n      <td>3.041247e-04</td>\n      <td>9.601114e-04</td>\n      <td>3.857610e-03</td>\n      <td>1.007312e-03</td>\n      <td>1.352738e-03</td>\n      <td>3.075199e-02</td>\n      <td>4.537736e+00</td>\n      <td>2.402724e+00</td>\n      <td>2.262658e-01</td>\n      <td>1.925228e+00</td>\n    </tr>\n    <tr>\n      <th>std</th>\n      <td>0.0</td>\n      <td>5.382776e+05</td>\n      <td>1.445169e+01</td>\n      <td>10901.791988</td>\n      <td>9.474216e-01</td>\n      <td>1.093607e+00</td>\n      <td>1.960209e+00</td>\n      <td>2.249690</td>\n      <td>1.859188e+00</td>\n      <td>2.644121e+00</td>\n      <td>...</td>\n      <td>1.743652e-02</td>\n      <td>3.097079e-02</td>\n      <td>6.198976e-02</td>\n      <td>3.172220e-02</td>\n      <td>3.675471e-02</td>\n      <td>1.726451e-01</td>\n      <td>2.573405e+00</td>\n      <td>1.148391e+00</td>\n      <td>4.184133e-01</td>\n      <td>8.498754e-01</td>\n    </tr>\n    <tr>\n      <th>min</th>\n      <td>2019.0</td>\n      <td>2.019000e+10</td>\n      <td>1.000000e+00</td>\n      <td>10180.000000</td>\n      <td>1.000000e+00</td>\n      <td>1.000000e+00</td>\n      <td>1.000000e+00</td>\n      <td>1.000000</td>\n      <td>0.000000e+00</td>\n      <td>1.000000e+00</td>\n      <td>...</td>\n      <td>0.000000e+00</td>\n      <td>0.000000e+00</td>\n      <td>0.000000e+00</td>\n      <td>0.000000e+00</td>\n      <td>0.000000e+00</td>\n      <td>0.000000e+00</td>\n      <td>0.000000e+00</td>\n      <td>0.000000e+00</td>\n      <td>0.000000e+00</td>\n      <td>0.000000e+00</td>\n    </tr>\n    <tr>\n      <th>25%</th>\n      <td>2019.0</td>\n      <td>2.019047e+10</td>\n      <td>9.000000e+00</td>\n      <td>19780.000000</td>\n      <td>2.000000e+00</td>\n      <td>1.000000e+00</td>\n      <td>4.000000e+00</td>\n      <td>3.000000</td>\n      <td>0.000000e+00</td>\n      <td>1.000000e+00</td>\n      <td>...</td>\n      <td>0.000000e+00</td>\n      <td>0.000000e+00</td>\n      <td>0.000000e+00</td>\n      <td>0.000000e+00</td>\n      <td>0.000000e+00</td>\n      <td>0.000000e+00</td>\n      <td>2.000000e+00</td>\n      <td>1.000000e+00</td>\n      <td>0.000000e+00</td>\n      <td>2.000000e+00</td>\n    </tr>\n    <tr>\n      <th>50%</th>\n      <td>2019.0</td>\n      <td>2.019093e+10</td>\n      <td>2.500000e+01</td>\n      <td>35620.000000</td>\n      <td>3.000000e+00</td>\n      <td>1.000000e+00</td>\n      <td>7.000000e+00</td>\n      <td>3.000000</td>\n      <td>1.000000e+00</td>\n      <td>2.000000e+00</td>\n      <td>...</td>\n      <td>0.000000e+00</td>\n      <td>0.000000e+00</td>\n      <td>0.000000e+00</td>\n      <td>0.000000e+00</td>\n      <td>0.000000e+00</td>\n      <td>0.000000e+00</td>\n      <td>4.000000e+00</td>\n      <td>2.000000e+00</td>\n      <td>0.000000e+00</td>\n      <td>2.000000e+00</td>\n    </tr>\n    <tr>\n      <th>75%</th>\n      <td>2019.0</td>\n      <td>2.019140e+10</td>\n      <td>3.600000e+01</td>\n      <td>39300.000000</td>\n      <td>3.000000e+00</td>\n      <td>2.000000e+00</td>\n      <td>7.000000e+00</td>\n      <td>5.000000</td>\n      <td>3.000000e+00</td>\n      <td>7.000000e+00</td>\n      <td>...</td>\n      <td>0.000000e+00</td>\n      <td>0.000000e+00</td>\n      <td>0.000000e+00</td>\n      <td>0.000000e+00</td>\n      <td>0.000000e+00</td>\n      <td>0.000000e+00</td>\n      <td>7.000000e+00</td>\n      <td>3.000000e+00</td>\n      <td>0.000000e+00</td>\n      <td>3.000000e+00</td>\n    </tr>\n    <tr>\n      <th>max</th>\n      <td>2019.0</td>\n      <td>2.019186e+10</td>\n      <td>7.200000e+01</td>\n      <td>49700.000000</td>\n      <td>5.000000e+00</td>\n      <td>4.000000e+00</td>\n      <td>8.000000e+00</td>\n      <td>8.000000</td>\n      <td>5.000000e+00</td>\n      <td>7.000000e+00</td>\n      <td>...</td>\n      <td>1.000000e+00</td>\n      <td>1.000000e+00</td>\n      <td>1.000000e+00</td>\n      <td>1.000000e+00</td>\n      <td>1.000000e+00</td>\n      <td>1.000000e+00</td>\n      <td>9.000000e+00</td>\n      <td>4.000000e+00</td>\n      <td>1.000000e+00</td>\n      <td>3.000000e+00</td>\n    </tr>\n  </tbody>\n</table>\n<p>8 rows × 62 columns</p>\n</div>"
     },
     "execution_count": 15,
     "metadata": {},
     "output_type": "execute_result"
    }
   ],
   "source": [
    "df.describe()"
   ],
   "metadata": {
    "collapsed": false,
    "pycharm": {
     "name": "#%%\n"
    }
   }
  },
  {
   "cell_type": "code",
   "execution_count": 21,
   "outputs": [
    {
     "data": {
      "text/plain": " 2    0.738737\n 1    0.136930\n-9    0.124333\nName: METHUSE, dtype: float64"
     },
     "execution_count": 21,
     "metadata": {},
     "output_type": "execute_result"
    }
   ],
   "source": [
    "df['METHUSE'].value_counts()/len(df['METHUSE'])"
   ],
   "metadata": {
    "collapsed": false,
    "pycharm": {
     "name": "#%%\n"
    }
   }
  },
  {
   "cell_type": "code",
   "execution_count": 25,
   "outputs": [
    {
     "data": {
      "text/plain": "2.0    0.843628\n1.0    0.156372\nName: METHUSE, dtype: float64"
     },
     "execution_count": 25,
     "metadata": {},
     "output_type": "execute_result"
    }
   ],
   "source": [
    "df3 = df2['METHUSE'].dropna()\n",
    "df3.value_counts()/len(df3)"
   ],
   "metadata": {
    "collapsed": false,
    "pycharm": {
     "name": "#%%\n"
    }
   }
  },
  {
   "cell_type": "code",
   "execution_count": null,
   "outputs": [],
   "source": [
    "df4"
   ],
   "metadata": {
    "collapsed": false,
    "pycharm": {
     "name": "#%%\n"
    }
   }
  },
  {
   "cell_type": "code",
   "execution_count": null,
   "outputs": [],
   "source": [],
   "metadata": {
    "collapsed": false,
    "pycharm": {
     "name": "#%%\n"
    }
   }
  }
 ],
 "metadata": {
  "kernelspec": {
   "display_name": "Python 3",
   "language": "python",
   "name": "python3"
  },
  "language_info": {
   "codemirror_mode": {
    "name": "ipython",
    "version": 2
   },
   "file_extension": ".py",
   "mimetype": "text/x-python",
   "name": "python",
   "nbconvert_exporter": "python",
   "pygments_lexer": "ipython2",
   "version": "2.7.6"
  }
 },
 "nbformat": 4,
 "nbformat_minor": 0
}