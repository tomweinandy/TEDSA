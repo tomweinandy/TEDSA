{
 "cells": [
  {
   "cell_type": "markdown",
   "source": [
    "# Treatment Episode Data Set (TEDS)\n",
    "[2019 Admissions data](https://www.datafiles.samhsa.gov/dataset/treatment-episode-data-set-admissions-2019-teds-2019-ds0001)\n",
    "[2019 Discharge data](https://www.datafiles.samhsa.gov/dataset/teds-d-2019-ds0001-teds-d-2019-ds0001)\n"
   ],
   "metadata": {
    "collapsed": false
   }
  },
  {
   "cell_type": "code",
   "execution_count": 26,
   "metadata": {
    "collapsed": true
   },
   "outputs": [],
   "source": [
    "import pandas as pd\n",
    "import numpy as np\n",
    "\n",
    "admissions = 'tedsa_puf_2019.csv'\n",
    "discharges = 'tedsd_puf_2019.csv'\n",
    "dfa = pd.read_csv(f'../../Downloads/{admissions}')\n",
    "dfd = pd.read_csv(f'../../Downloads/{discharges}')\n",
    "# df2 = df.replace(-9, np.nan)"
   ]
  },
  {
   "cell_type": "code",
   "execution_count": 27,
   "outputs": [
    {
     "data": {
      "text/plain": "         ADMYR       CASEID  STFIPS  CBSA2010  EDUC  MARSTAT  SERVICES  \\\n0         2019  20191646366       2        -9     1        1         7   \n1         2019  20191553029       2        -9     3        2         7   \n2         2019  20191530436       2        -9     3        2         7   \n3         2019  20191494020       2        -9     4        1         7   \n4         2019  20191568091       2        -9     4        1         7   \n...        ...          ...     ...       ...   ...      ...       ...   \n1864362   2019  20191814549      56        -9     1        1         6   \n1864363   2019  20191451369      56        -9     2        1         7   \n1864364   2019  20191794231      56        -9     2        1         7   \n1864365   2019  20191692349      56        -9     1        1         7   \n1864366   2019  20191582792      56        -9     3        4         7   \n\n         DETCRIM  NOPRIOR  PSOURCE  ...  TRNQFLG  BARBFLG  SEDHPFLG  INHFLG  \\\n0             -9        0        1  ...        0        0         0       0   \n1             -9        1        1  ...        0        0         0       0   \n2             -9        2        1  ...        0        0         0       0   \n3             -9        0        1  ...        0        0         0       0   \n4             -9        0        1  ...        0        0         0       0   \n...          ...      ...      ...  ...      ...      ...       ...     ...   \n1864362        3        0        7  ...        0        0         0       0   \n1864363        3        0        7  ...        0        0         0       0   \n1864364        3        0        7  ...        0        0         0       0   \n1864365        3        0        7  ...        0        0         0       0   \n1864366        3        0        7  ...        0        0         0       0   \n\n         OTCFLG  OTHERFLG  DIVISION  REGION  IDU  ALCDRUG  \n0             0         0         9       4    0        3  \n1             0         0         9       4    0        3  \n2             0         0         9       4    0        3  \n3             0         1         9       4    0        3  \n4             0         1         9       4    0        3  \n...         ...       ...       ...     ...  ...      ...  \n1864362       0         0         8       4    0        3  \n1864363       0         1         8       4    0        3  \n1864364       0         0         8       4    0        3  \n1864365       1         0         8       4    0        3  \n1864366       0         0         8       4    0        1  \n\n[1864367 rows x 62 columns]",
      "text/html": "<div>\n<style scoped>\n    .dataframe tbody tr th:only-of-type {\n        vertical-align: middle;\n    }\n\n    .dataframe tbody tr th {\n        vertical-align: top;\n    }\n\n    .dataframe thead th {\n        text-align: right;\n    }\n</style>\n<table border=\"1\" class=\"dataframe\">\n  <thead>\n    <tr style=\"text-align: right;\">\n      <th></th>\n      <th>ADMYR</th>\n      <th>CASEID</th>\n      <th>STFIPS</th>\n      <th>CBSA2010</th>\n      <th>EDUC</th>\n      <th>MARSTAT</th>\n      <th>SERVICES</th>\n      <th>DETCRIM</th>\n      <th>NOPRIOR</th>\n      <th>PSOURCE</th>\n      <th>...</th>\n      <th>TRNQFLG</th>\n      <th>BARBFLG</th>\n      <th>SEDHPFLG</th>\n      <th>INHFLG</th>\n      <th>OTCFLG</th>\n      <th>OTHERFLG</th>\n      <th>DIVISION</th>\n      <th>REGION</th>\n      <th>IDU</th>\n      <th>ALCDRUG</th>\n    </tr>\n  </thead>\n  <tbody>\n    <tr>\n      <th>0</th>\n      <td>2019</td>\n      <td>20191646366</td>\n      <td>2</td>\n      <td>-9</td>\n      <td>1</td>\n      <td>1</td>\n      <td>7</td>\n      <td>-9</td>\n      <td>0</td>\n      <td>1</td>\n      <td>...</td>\n      <td>0</td>\n      <td>0</td>\n      <td>0</td>\n      <td>0</td>\n      <td>0</td>\n      <td>0</td>\n      <td>9</td>\n      <td>4</td>\n      <td>0</td>\n      <td>3</td>\n    </tr>\n    <tr>\n      <th>1</th>\n      <td>2019</td>\n      <td>20191553029</td>\n      <td>2</td>\n      <td>-9</td>\n      <td>3</td>\n      <td>2</td>\n      <td>7</td>\n      <td>-9</td>\n      <td>1</td>\n      <td>1</td>\n      <td>...</td>\n      <td>0</td>\n      <td>0</td>\n      <td>0</td>\n      <td>0</td>\n      <td>0</td>\n      <td>0</td>\n      <td>9</td>\n      <td>4</td>\n      <td>0</td>\n      <td>3</td>\n    </tr>\n    <tr>\n      <th>2</th>\n      <td>2019</td>\n      <td>20191530436</td>\n      <td>2</td>\n      <td>-9</td>\n      <td>3</td>\n      <td>2</td>\n      <td>7</td>\n      <td>-9</td>\n      <td>2</td>\n      <td>1</td>\n      <td>...</td>\n      <td>0</td>\n      <td>0</td>\n      <td>0</td>\n      <td>0</td>\n      <td>0</td>\n      <td>0</td>\n      <td>9</td>\n      <td>4</td>\n      <td>0</td>\n      <td>3</td>\n    </tr>\n    <tr>\n      <th>3</th>\n      <td>2019</td>\n      <td>20191494020</td>\n      <td>2</td>\n      <td>-9</td>\n      <td>4</td>\n      <td>1</td>\n      <td>7</td>\n      <td>-9</td>\n      <td>0</td>\n      <td>1</td>\n      <td>...</td>\n      <td>0</td>\n      <td>0</td>\n      <td>0</td>\n      <td>0</td>\n      <td>0</td>\n      <td>1</td>\n      <td>9</td>\n      <td>4</td>\n      <td>0</td>\n      <td>3</td>\n    </tr>\n    <tr>\n      <th>4</th>\n      <td>2019</td>\n      <td>20191568091</td>\n      <td>2</td>\n      <td>-9</td>\n      <td>4</td>\n      <td>1</td>\n      <td>7</td>\n      <td>-9</td>\n      <td>0</td>\n      <td>1</td>\n      <td>...</td>\n      <td>0</td>\n      <td>0</td>\n      <td>0</td>\n      <td>0</td>\n      <td>0</td>\n      <td>1</td>\n      <td>9</td>\n      <td>4</td>\n      <td>0</td>\n      <td>3</td>\n    </tr>\n    <tr>\n      <th>...</th>\n      <td>...</td>\n      <td>...</td>\n      <td>...</td>\n      <td>...</td>\n      <td>...</td>\n      <td>...</td>\n      <td>...</td>\n      <td>...</td>\n      <td>...</td>\n      <td>...</td>\n      <td>...</td>\n      <td>...</td>\n      <td>...</td>\n      <td>...</td>\n      <td>...</td>\n      <td>...</td>\n      <td>...</td>\n      <td>...</td>\n      <td>...</td>\n      <td>...</td>\n      <td>...</td>\n    </tr>\n    <tr>\n      <th>1864362</th>\n      <td>2019</td>\n      <td>20191814549</td>\n      <td>56</td>\n      <td>-9</td>\n      <td>1</td>\n      <td>1</td>\n      <td>6</td>\n      <td>3</td>\n      <td>0</td>\n      <td>7</td>\n      <td>...</td>\n      <td>0</td>\n      <td>0</td>\n      <td>0</td>\n      <td>0</td>\n      <td>0</td>\n      <td>0</td>\n      <td>8</td>\n      <td>4</td>\n      <td>0</td>\n      <td>3</td>\n    </tr>\n    <tr>\n      <th>1864363</th>\n      <td>2019</td>\n      <td>20191451369</td>\n      <td>56</td>\n      <td>-9</td>\n      <td>2</td>\n      <td>1</td>\n      <td>7</td>\n      <td>3</td>\n      <td>0</td>\n      <td>7</td>\n      <td>...</td>\n      <td>0</td>\n      <td>0</td>\n      <td>0</td>\n      <td>0</td>\n      <td>0</td>\n      <td>1</td>\n      <td>8</td>\n      <td>4</td>\n      <td>0</td>\n      <td>3</td>\n    </tr>\n    <tr>\n      <th>1864364</th>\n      <td>2019</td>\n      <td>20191794231</td>\n      <td>56</td>\n      <td>-9</td>\n      <td>2</td>\n      <td>1</td>\n      <td>7</td>\n      <td>3</td>\n      <td>0</td>\n      <td>7</td>\n      <td>...</td>\n      <td>0</td>\n      <td>0</td>\n      <td>0</td>\n      <td>0</td>\n      <td>0</td>\n      <td>0</td>\n      <td>8</td>\n      <td>4</td>\n      <td>0</td>\n      <td>3</td>\n    </tr>\n    <tr>\n      <th>1864365</th>\n      <td>2019</td>\n      <td>20191692349</td>\n      <td>56</td>\n      <td>-9</td>\n      <td>1</td>\n      <td>1</td>\n      <td>7</td>\n      <td>3</td>\n      <td>0</td>\n      <td>7</td>\n      <td>...</td>\n      <td>0</td>\n      <td>0</td>\n      <td>0</td>\n      <td>0</td>\n      <td>1</td>\n      <td>0</td>\n      <td>8</td>\n      <td>4</td>\n      <td>0</td>\n      <td>3</td>\n    </tr>\n    <tr>\n      <th>1864366</th>\n      <td>2019</td>\n      <td>20191582792</td>\n      <td>56</td>\n      <td>-9</td>\n      <td>3</td>\n      <td>4</td>\n      <td>7</td>\n      <td>3</td>\n      <td>0</td>\n      <td>7</td>\n      <td>...</td>\n      <td>0</td>\n      <td>0</td>\n      <td>0</td>\n      <td>0</td>\n      <td>0</td>\n      <td>0</td>\n      <td>8</td>\n      <td>4</td>\n      <td>0</td>\n      <td>1</td>\n    </tr>\n  </tbody>\n</table>\n<p>1864367 rows × 62 columns</p>\n</div>"
     },
     "execution_count": 27,
     "metadata": {},
     "output_type": "execute_result"
    }
   ],
   "source": [
    "dfa"
   ],
   "metadata": {
    "collapsed": false,
    "pycharm": {
     "name": "#%%\n"
    }
   }
  },
  {
   "cell_type": "code",
   "execution_count": 28,
   "outputs": [
    {
     "data": {
      "text/plain": "         DISYR       CASEID  STFIPS  CBSA2010  EDUC  MARSTAT  SERVICES  \\\n0         2019  20191553576       2        -9     4        1         7   \n1         2019  20191465214       2        -9     3        1         7   \n2         2019  20191443889       2        -9     2        1         7   \n3         2019  20191409377       2        -9     3        1         7   \n4         2019  20191479567       2        -9     3        3         7   \n...        ...          ...     ...       ...   ...      ...       ...   \n1722498   2019  20191743528      56        -9     4        2         7   \n1722499   2019  20191666713      56        -9     3        3         7   \n1722500   2019  20191405666      56        -9     2        1         6   \n1722501   2019  20191697509      56        -9     1        1         7   \n1722502   2019  20191502624      56        -9    -9        4         7   \n\n         DETCRIM  LOS  PSOURCE  ...  TRNQFLG  BARBFLG  SEDHPFLG  INHFLG  \\\n0             -9   37        1  ...        0        0         0       0   \n1             -9   35        1  ...        0        0         0       0   \n2             -9   35        1  ...        0        0         0       0   \n3             -9   37        1  ...        0        0         0       0   \n4             -9   37        1  ...        0        0         0       0   \n...          ...  ...      ...  ...      ...      ...       ...     ...   \n1722498       -9   33        1  ...        0        0         0       0   \n1722499        1   13        7  ...        0        0         0       0   \n1722500       -9   33        1  ...        0        0         0       0   \n1722501        3   14        7  ...        0        0         0       0   \n1722502       -9   13        1  ...        0        0         0       0   \n\n         OTCFLG  OTHERFLG  DIVISION  REGION  IDU  ALCDRUG  \n0             0         0         9       4    0        1  \n1             0         0         9       4    0        3  \n2             0         0         9       4    0        3  \n3             0         0         9       4    0        3  \n4             0         0         9       4    0        1  \n...         ...       ...       ...     ...  ...      ...  \n1722498       0         0         8       4    0        1  \n1722499       0         0         8       4    0        2  \n1722500       0         0         8       4    0        2  \n1722501       0         0         8       4    0        3  \n1722502       0         0         8       4    0        1  \n\n[1722503 rows x 76 columns]",
      "text/html": "<div>\n<style scoped>\n    .dataframe tbody tr th:only-of-type {\n        vertical-align: middle;\n    }\n\n    .dataframe tbody tr th {\n        vertical-align: top;\n    }\n\n    .dataframe thead th {\n        text-align: right;\n    }\n</style>\n<table border=\"1\" class=\"dataframe\">\n  <thead>\n    <tr style=\"text-align: right;\">\n      <th></th>\n      <th>DISYR</th>\n      <th>CASEID</th>\n      <th>STFIPS</th>\n      <th>CBSA2010</th>\n      <th>EDUC</th>\n      <th>MARSTAT</th>\n      <th>SERVICES</th>\n      <th>DETCRIM</th>\n      <th>LOS</th>\n      <th>PSOURCE</th>\n      <th>...</th>\n      <th>TRNQFLG</th>\n      <th>BARBFLG</th>\n      <th>SEDHPFLG</th>\n      <th>INHFLG</th>\n      <th>OTCFLG</th>\n      <th>OTHERFLG</th>\n      <th>DIVISION</th>\n      <th>REGION</th>\n      <th>IDU</th>\n      <th>ALCDRUG</th>\n    </tr>\n  </thead>\n  <tbody>\n    <tr>\n      <th>0</th>\n      <td>2019</td>\n      <td>20191553576</td>\n      <td>2</td>\n      <td>-9</td>\n      <td>4</td>\n      <td>1</td>\n      <td>7</td>\n      <td>-9</td>\n      <td>37</td>\n      <td>1</td>\n      <td>...</td>\n      <td>0</td>\n      <td>0</td>\n      <td>0</td>\n      <td>0</td>\n      <td>0</td>\n      <td>0</td>\n      <td>9</td>\n      <td>4</td>\n      <td>0</td>\n      <td>1</td>\n    </tr>\n    <tr>\n      <th>1</th>\n      <td>2019</td>\n      <td>20191465214</td>\n      <td>2</td>\n      <td>-9</td>\n      <td>3</td>\n      <td>1</td>\n      <td>7</td>\n      <td>-9</td>\n      <td>35</td>\n      <td>1</td>\n      <td>...</td>\n      <td>0</td>\n      <td>0</td>\n      <td>0</td>\n      <td>0</td>\n      <td>0</td>\n      <td>0</td>\n      <td>9</td>\n      <td>4</td>\n      <td>0</td>\n      <td>3</td>\n    </tr>\n    <tr>\n      <th>2</th>\n      <td>2019</td>\n      <td>20191443889</td>\n      <td>2</td>\n      <td>-9</td>\n      <td>2</td>\n      <td>1</td>\n      <td>7</td>\n      <td>-9</td>\n      <td>35</td>\n      <td>1</td>\n      <td>...</td>\n      <td>0</td>\n      <td>0</td>\n      <td>0</td>\n      <td>0</td>\n      <td>0</td>\n      <td>0</td>\n      <td>9</td>\n      <td>4</td>\n      <td>0</td>\n      <td>3</td>\n    </tr>\n    <tr>\n      <th>3</th>\n      <td>2019</td>\n      <td>20191409377</td>\n      <td>2</td>\n      <td>-9</td>\n      <td>3</td>\n      <td>1</td>\n      <td>7</td>\n      <td>-9</td>\n      <td>37</td>\n      <td>1</td>\n      <td>...</td>\n      <td>0</td>\n      <td>0</td>\n      <td>0</td>\n      <td>0</td>\n      <td>0</td>\n      <td>0</td>\n      <td>9</td>\n      <td>4</td>\n      <td>0</td>\n      <td>3</td>\n    </tr>\n    <tr>\n      <th>4</th>\n      <td>2019</td>\n      <td>20191479567</td>\n      <td>2</td>\n      <td>-9</td>\n      <td>3</td>\n      <td>3</td>\n      <td>7</td>\n      <td>-9</td>\n      <td>37</td>\n      <td>1</td>\n      <td>...</td>\n      <td>0</td>\n      <td>0</td>\n      <td>0</td>\n      <td>0</td>\n      <td>0</td>\n      <td>0</td>\n      <td>9</td>\n      <td>4</td>\n      <td>0</td>\n      <td>1</td>\n    </tr>\n    <tr>\n      <th>...</th>\n      <td>...</td>\n      <td>...</td>\n      <td>...</td>\n      <td>...</td>\n      <td>...</td>\n      <td>...</td>\n      <td>...</td>\n      <td>...</td>\n      <td>...</td>\n      <td>...</td>\n      <td>...</td>\n      <td>...</td>\n      <td>...</td>\n      <td>...</td>\n      <td>...</td>\n      <td>...</td>\n      <td>...</td>\n      <td>...</td>\n      <td>...</td>\n      <td>...</td>\n      <td>...</td>\n    </tr>\n    <tr>\n      <th>1722498</th>\n      <td>2019</td>\n      <td>20191743528</td>\n      <td>56</td>\n      <td>-9</td>\n      <td>4</td>\n      <td>2</td>\n      <td>7</td>\n      <td>-9</td>\n      <td>33</td>\n      <td>1</td>\n      <td>...</td>\n      <td>0</td>\n      <td>0</td>\n      <td>0</td>\n      <td>0</td>\n      <td>0</td>\n      <td>0</td>\n      <td>8</td>\n      <td>4</td>\n      <td>0</td>\n      <td>1</td>\n    </tr>\n    <tr>\n      <th>1722499</th>\n      <td>2019</td>\n      <td>20191666713</td>\n      <td>56</td>\n      <td>-9</td>\n      <td>3</td>\n      <td>3</td>\n      <td>7</td>\n      <td>1</td>\n      <td>13</td>\n      <td>7</td>\n      <td>...</td>\n      <td>0</td>\n      <td>0</td>\n      <td>0</td>\n      <td>0</td>\n      <td>0</td>\n      <td>0</td>\n      <td>8</td>\n      <td>4</td>\n      <td>0</td>\n      <td>2</td>\n    </tr>\n    <tr>\n      <th>1722500</th>\n      <td>2019</td>\n      <td>20191405666</td>\n      <td>56</td>\n      <td>-9</td>\n      <td>2</td>\n      <td>1</td>\n      <td>6</td>\n      <td>-9</td>\n      <td>33</td>\n      <td>1</td>\n      <td>...</td>\n      <td>0</td>\n      <td>0</td>\n      <td>0</td>\n      <td>0</td>\n      <td>0</td>\n      <td>0</td>\n      <td>8</td>\n      <td>4</td>\n      <td>0</td>\n      <td>2</td>\n    </tr>\n    <tr>\n      <th>1722501</th>\n      <td>2019</td>\n      <td>20191697509</td>\n      <td>56</td>\n      <td>-9</td>\n      <td>1</td>\n      <td>1</td>\n      <td>7</td>\n      <td>3</td>\n      <td>14</td>\n      <td>7</td>\n      <td>...</td>\n      <td>0</td>\n      <td>0</td>\n      <td>0</td>\n      <td>0</td>\n      <td>0</td>\n      <td>0</td>\n      <td>8</td>\n      <td>4</td>\n      <td>0</td>\n      <td>3</td>\n    </tr>\n    <tr>\n      <th>1722502</th>\n      <td>2019</td>\n      <td>20191502624</td>\n      <td>56</td>\n      <td>-9</td>\n      <td>-9</td>\n      <td>4</td>\n      <td>7</td>\n      <td>-9</td>\n      <td>13</td>\n      <td>1</td>\n      <td>...</td>\n      <td>0</td>\n      <td>0</td>\n      <td>0</td>\n      <td>0</td>\n      <td>0</td>\n      <td>0</td>\n      <td>8</td>\n      <td>4</td>\n      <td>0</td>\n      <td>1</td>\n    </tr>\n  </tbody>\n</table>\n<p>1722503 rows × 76 columns</p>\n</div>"
     },
     "execution_count": 28,
     "metadata": {},
     "output_type": "execute_result"
    }
   ],
   "source": [
    "dfd"
   ],
   "metadata": {
    "collapsed": false,
    "pycharm": {
     "name": "#%%\n"
    }
   }
  },
  {
   "cell_type": "code",
   "execution_count": 29,
   "outputs": [],
   "source": [
    "df = dfa.merge(dfd, how='inner', on='CASEID')"
   ],
   "metadata": {
    "collapsed": false,
    "pycharm": {
     "name": "#%%\n"
    }
   }
  },
  {
   "cell_type": "code",
   "execution_count": 31,
   "outputs": [
    {
     "data": {
      "text/plain": " 2    0.770657\n 1    0.125538\n-9    0.103805\nName: METHUSE, dtype: float64"
     },
     "execution_count": 31,
     "metadata": {},
     "output_type": "execute_result"
    }
   ],
   "source": [
    "dfd['METHUSE'].value_counts()/len(dfd['METHUSE'])"
   ],
   "metadata": {
    "collapsed": false,
    "pycharm": {
     "name": "#%%\n"
    }
   }
  },
  {
   "cell_type": "code",
   "execution_count": 32,
   "outputs": [
    {
     "data": {
      "text/plain": " 2    0.738737\n 1    0.136930\n-9    0.124333\nName: METHUSE, dtype: float64"
     },
     "execution_count": 32,
     "metadata": {},
     "output_type": "execute_result"
    }
   ],
   "source": [
    "# Frequencies for each group\n",
    "dfa['METHUSE'].value_counts()/len(dfa['METHUSE'])"
   ],
   "metadata": {
    "collapsed": false,
    "pycharm": {
     "name": "#%%\n"
    }
   }
  },
  {
   "cell_type": "code",
   "execution_count": 62,
   "outputs": [],
   "source": [],
   "metadata": {
    "collapsed": false,
    "pycharm": {
     "name": "#%%\n"
    }
   }
  },
  {
   "cell_type": "code",
   "execution_count": 37,
   "outputs": [],
   "source": [
    "dfa_methuse = dfa[dfa['METHUSE']==1]\n",
    "dfd_methuse = dfd[dfd['METHUSE']==1]\n",
    "df_methuse = dfa_methuse.merge(dfd_methuse, how='outer', on='CASEID', suffixes=('_a', '_d'))"
   ],
   "metadata": {
    "collapsed": false,
    "pycharm": {
     "name": "#%%\n"
    }
   }
  },
  {
   "cell_type": "code",
   "execution_count": 54,
   "outputs": [],
   "source": [
    "df_meth = df_methuse[['METHUSE_a', 'METHUSE_d']]\n",
    "df_meth_a = df_meth.dropna(subset=['METHUSE_d'])\n",
    "df_meth_d = df_meth.dropna(subset=['METHUSE_a'])\n",
    "df_meth_ad = df_meth.dropna(subset=['METHUSE_a', 'METHUSE_d'])"
   ],
   "metadata": {
    "collapsed": false,
    "pycharm": {
     "name": "#%%\n"
    }
   }
  },
  {
   "cell_type": "code",
   "execution_count": 57,
   "outputs": [
    {
     "name": "stdout",
     "output_type": "stream",
     "text": [
      "438512\n",
      "0.4931199146203525\n",
      "0.582168788995512\n",
      "0.07528870361586457\n"
     ]
    }
   ],
   "source": [
    "print(len(df_meth))\n",
    "print(len(df_meth_a)/len(df_meth))\n",
    "print(len(df_meth_d)/len(df_meth))\n",
    "print(len(df_meth_ad)/len(df_meth))"
   ],
   "metadata": {
    "collapsed": false,
    "pycharm": {
     "name": "#%%\n"
    }
   }
  },
  {
   "cell_type": "code",
   "execution_count": 67,
   "outputs": [
    {
     "data": {
      "text/plain": "         METHUSE\nSTFIPS          \n1       0.101228\n2       0.152891\n4       0.058486\n5       0.054166\n6       0.176648\n8       0.061147\n9       0.128184\n10      0.210136\n11      0.107992\n13      0.033405\n15      0.007649\n16      0.004354\n17      0.033141\n18      0.114548\n19      0.034900\n20      0.020392\n21      0.159234\n22      0.010380\n23      0.582431\n24      0.319026\n25      0.209084\n26      0.513249\n27      0.109479\n28      0.007735\n29      0.041351\n30      0.000000\n31      0.031119\n32      0.116703\n33      0.127257\n34      0.511096\n35      0.496116\n36      0.197816\n37      0.047663\n38      0.044776\n39      0.148178\n40      0.001519\n42      0.170183\n44      0.591663\n45      0.127610\n46      0.017252\n47      0.002096\n48      0.053757\n49      0.087740\n50      0.384751\n51      0.000000\n55      0.035199\n56      0.008550\n72      0.119970",
      "text/html": "<div>\n<style scoped>\n    .dataframe tbody tr th:only-of-type {\n        vertical-align: middle;\n    }\n\n    .dataframe tbody tr th {\n        vertical-align: top;\n    }\n\n    .dataframe thead th {\n        text-align: right;\n    }\n</style>\n<table border=\"1\" class=\"dataframe\">\n  <thead>\n    <tr style=\"text-align: right;\">\n      <th></th>\n      <th>METHUSE</th>\n    </tr>\n    <tr>\n      <th>STFIPS</th>\n      <th></th>\n    </tr>\n  </thead>\n  <tbody>\n    <tr>\n      <th>1</th>\n      <td>0.101228</td>\n    </tr>\n    <tr>\n      <th>2</th>\n      <td>0.152891</td>\n    </tr>\n    <tr>\n      <th>4</th>\n      <td>0.058486</td>\n    </tr>\n    <tr>\n      <th>5</th>\n      <td>0.054166</td>\n    </tr>\n    <tr>\n      <th>6</th>\n      <td>0.176648</td>\n    </tr>\n    <tr>\n      <th>8</th>\n      <td>0.061147</td>\n    </tr>\n    <tr>\n      <th>9</th>\n      <td>0.128184</td>\n    </tr>\n    <tr>\n      <th>10</th>\n      <td>0.210136</td>\n    </tr>\n    <tr>\n      <th>11</th>\n      <td>0.107992</td>\n    </tr>\n    <tr>\n      <th>13</th>\n      <td>0.033405</td>\n    </tr>\n    <tr>\n      <th>15</th>\n      <td>0.007649</td>\n    </tr>\n    <tr>\n      <th>16</th>\n      <td>0.004354</td>\n    </tr>\n    <tr>\n      <th>17</th>\n      <td>0.033141</td>\n    </tr>\n    <tr>\n      <th>18</th>\n      <td>0.114548</td>\n    </tr>\n    <tr>\n      <th>19</th>\n      <td>0.034900</td>\n    </tr>\n    <tr>\n      <th>20</th>\n      <td>0.020392</td>\n    </tr>\n    <tr>\n      <th>21</th>\n      <td>0.159234</td>\n    </tr>\n    <tr>\n      <th>22</th>\n      <td>0.010380</td>\n    </tr>\n    <tr>\n      <th>23</th>\n      <td>0.582431</td>\n    </tr>\n    <tr>\n      <th>24</th>\n      <td>0.319026</td>\n    </tr>\n    <tr>\n      <th>25</th>\n      <td>0.209084</td>\n    </tr>\n    <tr>\n      <th>26</th>\n      <td>0.513249</td>\n    </tr>\n    <tr>\n      <th>27</th>\n      <td>0.109479</td>\n    </tr>\n    <tr>\n      <th>28</th>\n      <td>0.007735</td>\n    </tr>\n    <tr>\n      <th>29</th>\n      <td>0.041351</td>\n    </tr>\n    <tr>\n      <th>30</th>\n      <td>0.000000</td>\n    </tr>\n    <tr>\n      <th>31</th>\n      <td>0.031119</td>\n    </tr>\n    <tr>\n      <th>32</th>\n      <td>0.116703</td>\n    </tr>\n    <tr>\n      <th>33</th>\n      <td>0.127257</td>\n    </tr>\n    <tr>\n      <th>34</th>\n      <td>0.511096</td>\n    </tr>\n    <tr>\n      <th>35</th>\n      <td>0.496116</td>\n    </tr>\n    <tr>\n      <th>36</th>\n      <td>0.197816</td>\n    </tr>\n    <tr>\n      <th>37</th>\n      <td>0.047663</td>\n    </tr>\n    <tr>\n      <th>38</th>\n      <td>0.044776</td>\n    </tr>\n    <tr>\n      <th>39</th>\n      <td>0.148178</td>\n    </tr>\n    <tr>\n      <th>40</th>\n      <td>0.001519</td>\n    </tr>\n    <tr>\n      <th>42</th>\n      <td>0.170183</td>\n    </tr>\n    <tr>\n      <th>44</th>\n      <td>0.591663</td>\n    </tr>\n    <tr>\n      <th>45</th>\n      <td>0.127610</td>\n    </tr>\n    <tr>\n      <th>46</th>\n      <td>0.017252</td>\n    </tr>\n    <tr>\n      <th>47</th>\n      <td>0.002096</td>\n    </tr>\n    <tr>\n      <th>48</th>\n      <td>0.053757</td>\n    </tr>\n    <tr>\n      <th>49</th>\n      <td>0.087740</td>\n    </tr>\n    <tr>\n      <th>50</th>\n      <td>0.384751</td>\n    </tr>\n    <tr>\n      <th>51</th>\n      <td>0.000000</td>\n    </tr>\n    <tr>\n      <th>55</th>\n      <td>0.035199</td>\n    </tr>\n    <tr>\n      <th>56</th>\n      <td>0.008550</td>\n    </tr>\n    <tr>\n      <th>72</th>\n      <td>0.119970</td>\n    </tr>\n  </tbody>\n</table>\n</div>"
     },
     "execution_count": 67,
     "metadata": {},
     "output_type": "execute_result"
    }
   ],
   "source": [
    "# What is the METHUSE percent by state?\n",
    "df1 = dfa[['STFIPS', 'METHUSE']].replace(-9, np.nan)\n",
    "df1 = df1.dropna()\n",
    "df1['METHUSE'] = df1['METHUSE'].replace(2, 0)\n",
    "df1.groupby('STFIPS').mean()\n",
    "\n",
    "# df1.groupby(['STFIPS', 'METHUSE']).count()"
   ],
   "metadata": {
    "collapsed": false,
    "pycharm": {
     "name": "#%%\n"
    }
   }
  },
  {
   "cell_type": "code",
   "execution_count": 69,
   "outputs": [
    {
     "data": {
      "text/plain": "       ADMYR  CASEID  STFIPS  CBSA2010    EDUC  MARSTAT  SERVICES  DETCRIM  \\\nSUB1                                                                         \n-9    109826  109826  109826    109826  109826   109826    109826   109826   \n 1     32317   32317   32317     32317   32317    32317     32317    32317   \n 2    574148  574148  574148    574148  574148   574148    574148   574148   \n 3    107363  107363  107363    107363  107363   107363    107363   107363   \n 4    208843  208843  208843    208843  208843   208843    208843   208843   \n 5    438288  438288  438288    438288  438288   438288    438288   438288   \n 6      2631    2631    2631      2631    2631     2631      2631     2631   \n 7    124691  124691  124691    124691  124691   124691    124691   124691   \n 8      5049    5049    5049      5049    5049     5049      5049     5049   \n 9      2227    2227    2227      2227    2227     2227      2227     2227   \n 10   209014  209014  209014    209014  209014   209014    209014   209014   \n 11    10810   10810   10810     10810   10810    10810     10810    10810   \n 12     2651    2651    2651      2651    2651     2651      2651     2651   \n 13    17597   17597   17597     17597   17597    17597     17597    17597   \n 14      132     132     132       132     132      132       132      132   \n 15      930     930     930       930     930      930       930      930   \n 16     1883    1883    1883      1883    1883     1883      1883     1883   \n 17      734     734     734       734     734      734       734      734   \n 18      716     716     716       716     716      716       716      716   \n 19    14517   14517   14517     14517   14517    14517     14517    14517   \n\n      NOPRIOR  PSOURCE  ...  TRNQFLG  BARBFLG  SEDHPFLG  INHFLG  OTCFLG  \\\nSUB1                    ...                                               \n-9     109826   109826  ...   109826   109826    109826  109826  109826   \n 1      32317    32317  ...    32317    32317     32317   32317   32317   \n 2     574148   574148  ...   574148   574148    574148  574148  574148   \n 3     107363   107363  ...   107363   107363    107363  107363  107363   \n 4     208843   208843  ...   208843   208843    208843  208843  208843   \n 5     438288   438288  ...   438288   438288    438288  438288  438288   \n 6       2631     2631  ...     2631     2631      2631    2631    2631   \n 7     124691   124691  ...   124691   124691    124691  124691  124691   \n 8       5049     5049  ...     5049     5049      5049    5049    5049   \n 9       2227     2227  ...     2227     2227      2227    2227    2227   \n 10    209014   209014  ...   209014   209014    209014  209014  209014   \n 11     10810    10810  ...    10810    10810     10810   10810   10810   \n 12      2651     2651  ...     2651     2651      2651    2651    2651   \n 13     17597    17597  ...    17597    17597     17597   17597   17597   \n 14       132      132  ...      132      132       132     132     132   \n 15       930      930  ...      930      930       930     930     930   \n 16      1883     1883  ...     1883     1883      1883    1883    1883   \n 17       734      734  ...      734      734       734     734     734   \n 18       716      716  ...      716      716       716     716     716   \n 19     14517    14517  ...    14517    14517     14517   14517   14517   \n\n      OTHERFLG  DIVISION  REGION     IDU  ALCDRUG  \nSUB1                                               \n-9      109826    109826  109826  109826   109826  \n 1       32317     32317   32317   32317    32317  \n 2      574148    574148  574148  574148   574148  \n 3      107363    107363  107363  107363   107363  \n 4      208843    208843  208843  208843   208843  \n 5      438288    438288  438288  438288   438288  \n 6        2631      2631    2631    2631     2631  \n 7      124691    124691  124691  124691   124691  \n 8        5049      5049    5049    5049     5049  \n 9        2227      2227    2227    2227     2227  \n 10     209014    209014  209014  209014   209014  \n 11      10810     10810   10810   10810    10810  \n 12       2651      2651    2651    2651     2651  \n 13      17597     17597   17597   17597    17597  \n 14        132       132     132     132      132  \n 15        930       930     930     930      930  \n 16       1883      1883    1883    1883     1883  \n 17        734       734     734     734      734  \n 18        716       716     716     716      716  \n 19      14517     14517   14517   14517    14517  \n\n[20 rows x 61 columns]",
      "text/html": "<div>\n<style scoped>\n    .dataframe tbody tr th:only-of-type {\n        vertical-align: middle;\n    }\n\n    .dataframe tbody tr th {\n        vertical-align: top;\n    }\n\n    .dataframe thead th {\n        text-align: right;\n    }\n</style>\n<table border=\"1\" class=\"dataframe\">\n  <thead>\n    <tr style=\"text-align: right;\">\n      <th></th>\n      <th>ADMYR</th>\n      <th>CASEID</th>\n      <th>STFIPS</th>\n      <th>CBSA2010</th>\n      <th>EDUC</th>\n      <th>MARSTAT</th>\n      <th>SERVICES</th>\n      <th>DETCRIM</th>\n      <th>NOPRIOR</th>\n      <th>PSOURCE</th>\n      <th>...</th>\n      <th>TRNQFLG</th>\n      <th>BARBFLG</th>\n      <th>SEDHPFLG</th>\n      <th>INHFLG</th>\n      <th>OTCFLG</th>\n      <th>OTHERFLG</th>\n      <th>DIVISION</th>\n      <th>REGION</th>\n      <th>IDU</th>\n      <th>ALCDRUG</th>\n    </tr>\n    <tr>\n      <th>SUB1</th>\n      <th></th>\n      <th></th>\n      <th></th>\n      <th></th>\n      <th></th>\n      <th></th>\n      <th></th>\n      <th></th>\n      <th></th>\n      <th></th>\n      <th></th>\n      <th></th>\n      <th></th>\n      <th></th>\n      <th></th>\n      <th></th>\n      <th></th>\n      <th></th>\n      <th></th>\n      <th></th>\n      <th></th>\n    </tr>\n  </thead>\n  <tbody>\n    <tr>\n      <th>-9</th>\n      <td>109826</td>\n      <td>109826</td>\n      <td>109826</td>\n      <td>109826</td>\n      <td>109826</td>\n      <td>109826</td>\n      <td>109826</td>\n      <td>109826</td>\n      <td>109826</td>\n      <td>109826</td>\n      <td>...</td>\n      <td>109826</td>\n      <td>109826</td>\n      <td>109826</td>\n      <td>109826</td>\n      <td>109826</td>\n      <td>109826</td>\n      <td>109826</td>\n      <td>109826</td>\n      <td>109826</td>\n      <td>109826</td>\n    </tr>\n    <tr>\n      <th>1</th>\n      <td>32317</td>\n      <td>32317</td>\n      <td>32317</td>\n      <td>32317</td>\n      <td>32317</td>\n      <td>32317</td>\n      <td>32317</td>\n      <td>32317</td>\n      <td>32317</td>\n      <td>32317</td>\n      <td>...</td>\n      <td>32317</td>\n      <td>32317</td>\n      <td>32317</td>\n      <td>32317</td>\n      <td>32317</td>\n      <td>32317</td>\n      <td>32317</td>\n      <td>32317</td>\n      <td>32317</td>\n      <td>32317</td>\n    </tr>\n    <tr>\n      <th>2</th>\n      <td>574148</td>\n      <td>574148</td>\n      <td>574148</td>\n      <td>574148</td>\n      <td>574148</td>\n      <td>574148</td>\n      <td>574148</td>\n      <td>574148</td>\n      <td>574148</td>\n      <td>574148</td>\n      <td>...</td>\n      <td>574148</td>\n      <td>574148</td>\n      <td>574148</td>\n      <td>574148</td>\n      <td>574148</td>\n      <td>574148</td>\n      <td>574148</td>\n      <td>574148</td>\n      <td>574148</td>\n      <td>574148</td>\n    </tr>\n    <tr>\n      <th>3</th>\n      <td>107363</td>\n      <td>107363</td>\n      <td>107363</td>\n      <td>107363</td>\n      <td>107363</td>\n      <td>107363</td>\n      <td>107363</td>\n      <td>107363</td>\n      <td>107363</td>\n      <td>107363</td>\n      <td>...</td>\n      <td>107363</td>\n      <td>107363</td>\n      <td>107363</td>\n      <td>107363</td>\n      <td>107363</td>\n      <td>107363</td>\n      <td>107363</td>\n      <td>107363</td>\n      <td>107363</td>\n      <td>107363</td>\n    </tr>\n    <tr>\n      <th>4</th>\n      <td>208843</td>\n      <td>208843</td>\n      <td>208843</td>\n      <td>208843</td>\n      <td>208843</td>\n      <td>208843</td>\n      <td>208843</td>\n      <td>208843</td>\n      <td>208843</td>\n      <td>208843</td>\n      <td>...</td>\n      <td>208843</td>\n      <td>208843</td>\n      <td>208843</td>\n      <td>208843</td>\n      <td>208843</td>\n      <td>208843</td>\n      <td>208843</td>\n      <td>208843</td>\n      <td>208843</td>\n      <td>208843</td>\n    </tr>\n    <tr>\n      <th>5</th>\n      <td>438288</td>\n      <td>438288</td>\n      <td>438288</td>\n      <td>438288</td>\n      <td>438288</td>\n      <td>438288</td>\n      <td>438288</td>\n      <td>438288</td>\n      <td>438288</td>\n      <td>438288</td>\n      <td>...</td>\n      <td>438288</td>\n      <td>438288</td>\n      <td>438288</td>\n      <td>438288</td>\n      <td>438288</td>\n      <td>438288</td>\n      <td>438288</td>\n      <td>438288</td>\n      <td>438288</td>\n      <td>438288</td>\n    </tr>\n    <tr>\n      <th>6</th>\n      <td>2631</td>\n      <td>2631</td>\n      <td>2631</td>\n      <td>2631</td>\n      <td>2631</td>\n      <td>2631</td>\n      <td>2631</td>\n      <td>2631</td>\n      <td>2631</td>\n      <td>2631</td>\n      <td>...</td>\n      <td>2631</td>\n      <td>2631</td>\n      <td>2631</td>\n      <td>2631</td>\n      <td>2631</td>\n      <td>2631</td>\n      <td>2631</td>\n      <td>2631</td>\n      <td>2631</td>\n      <td>2631</td>\n    </tr>\n    <tr>\n      <th>7</th>\n      <td>124691</td>\n      <td>124691</td>\n      <td>124691</td>\n      <td>124691</td>\n      <td>124691</td>\n      <td>124691</td>\n      <td>124691</td>\n      <td>124691</td>\n      <td>124691</td>\n      <td>124691</td>\n      <td>...</td>\n      <td>124691</td>\n      <td>124691</td>\n      <td>124691</td>\n      <td>124691</td>\n      <td>124691</td>\n      <td>124691</td>\n      <td>124691</td>\n      <td>124691</td>\n      <td>124691</td>\n      <td>124691</td>\n    </tr>\n    <tr>\n      <th>8</th>\n      <td>5049</td>\n      <td>5049</td>\n      <td>5049</td>\n      <td>5049</td>\n      <td>5049</td>\n      <td>5049</td>\n      <td>5049</td>\n      <td>5049</td>\n      <td>5049</td>\n      <td>5049</td>\n      <td>...</td>\n      <td>5049</td>\n      <td>5049</td>\n      <td>5049</td>\n      <td>5049</td>\n      <td>5049</td>\n      <td>5049</td>\n      <td>5049</td>\n      <td>5049</td>\n      <td>5049</td>\n      <td>5049</td>\n    </tr>\n    <tr>\n      <th>9</th>\n      <td>2227</td>\n      <td>2227</td>\n      <td>2227</td>\n      <td>2227</td>\n      <td>2227</td>\n      <td>2227</td>\n      <td>2227</td>\n      <td>2227</td>\n      <td>2227</td>\n      <td>2227</td>\n      <td>...</td>\n      <td>2227</td>\n      <td>2227</td>\n      <td>2227</td>\n      <td>2227</td>\n      <td>2227</td>\n      <td>2227</td>\n      <td>2227</td>\n      <td>2227</td>\n      <td>2227</td>\n      <td>2227</td>\n    </tr>\n    <tr>\n      <th>10</th>\n      <td>209014</td>\n      <td>209014</td>\n      <td>209014</td>\n      <td>209014</td>\n      <td>209014</td>\n      <td>209014</td>\n      <td>209014</td>\n      <td>209014</td>\n      <td>209014</td>\n      <td>209014</td>\n      <td>...</td>\n      <td>209014</td>\n      <td>209014</td>\n      <td>209014</td>\n      <td>209014</td>\n      <td>209014</td>\n      <td>209014</td>\n      <td>209014</td>\n      <td>209014</td>\n      <td>209014</td>\n      <td>209014</td>\n    </tr>\n    <tr>\n      <th>11</th>\n      <td>10810</td>\n      <td>10810</td>\n      <td>10810</td>\n      <td>10810</td>\n      <td>10810</td>\n      <td>10810</td>\n      <td>10810</td>\n      <td>10810</td>\n      <td>10810</td>\n      <td>10810</td>\n      <td>...</td>\n      <td>10810</td>\n      <td>10810</td>\n      <td>10810</td>\n      <td>10810</td>\n      <td>10810</td>\n      <td>10810</td>\n      <td>10810</td>\n      <td>10810</td>\n      <td>10810</td>\n      <td>10810</td>\n    </tr>\n    <tr>\n      <th>12</th>\n      <td>2651</td>\n      <td>2651</td>\n      <td>2651</td>\n      <td>2651</td>\n      <td>2651</td>\n      <td>2651</td>\n      <td>2651</td>\n      <td>2651</td>\n      <td>2651</td>\n      <td>2651</td>\n      <td>...</td>\n      <td>2651</td>\n      <td>2651</td>\n      <td>2651</td>\n      <td>2651</td>\n      <td>2651</td>\n      <td>2651</td>\n      <td>2651</td>\n      <td>2651</td>\n      <td>2651</td>\n      <td>2651</td>\n    </tr>\n    <tr>\n      <th>13</th>\n      <td>17597</td>\n      <td>17597</td>\n      <td>17597</td>\n      <td>17597</td>\n      <td>17597</td>\n      <td>17597</td>\n      <td>17597</td>\n      <td>17597</td>\n      <td>17597</td>\n      <td>17597</td>\n      <td>...</td>\n      <td>17597</td>\n      <td>17597</td>\n      <td>17597</td>\n      <td>17597</td>\n      <td>17597</td>\n      <td>17597</td>\n      <td>17597</td>\n      <td>17597</td>\n      <td>17597</td>\n      <td>17597</td>\n    </tr>\n    <tr>\n      <th>14</th>\n      <td>132</td>\n      <td>132</td>\n      <td>132</td>\n      <td>132</td>\n      <td>132</td>\n      <td>132</td>\n      <td>132</td>\n      <td>132</td>\n      <td>132</td>\n      <td>132</td>\n      <td>...</td>\n      <td>132</td>\n      <td>132</td>\n      <td>132</td>\n      <td>132</td>\n      <td>132</td>\n      <td>132</td>\n      <td>132</td>\n      <td>132</td>\n      <td>132</td>\n      <td>132</td>\n    </tr>\n    <tr>\n      <th>15</th>\n      <td>930</td>\n      <td>930</td>\n      <td>930</td>\n      <td>930</td>\n      <td>930</td>\n      <td>930</td>\n      <td>930</td>\n      <td>930</td>\n      <td>930</td>\n      <td>930</td>\n      <td>...</td>\n      <td>930</td>\n      <td>930</td>\n      <td>930</td>\n      <td>930</td>\n      <td>930</td>\n      <td>930</td>\n      <td>930</td>\n      <td>930</td>\n      <td>930</td>\n      <td>930</td>\n    </tr>\n    <tr>\n      <th>16</th>\n      <td>1883</td>\n      <td>1883</td>\n      <td>1883</td>\n      <td>1883</td>\n      <td>1883</td>\n      <td>1883</td>\n      <td>1883</td>\n      <td>1883</td>\n      <td>1883</td>\n      <td>1883</td>\n      <td>...</td>\n      <td>1883</td>\n      <td>1883</td>\n      <td>1883</td>\n      <td>1883</td>\n      <td>1883</td>\n      <td>1883</td>\n      <td>1883</td>\n      <td>1883</td>\n      <td>1883</td>\n      <td>1883</td>\n    </tr>\n    <tr>\n      <th>17</th>\n      <td>734</td>\n      <td>734</td>\n      <td>734</td>\n      <td>734</td>\n      <td>734</td>\n      <td>734</td>\n      <td>734</td>\n      <td>734</td>\n      <td>734</td>\n      <td>734</td>\n      <td>...</td>\n      <td>734</td>\n      <td>734</td>\n      <td>734</td>\n      <td>734</td>\n      <td>734</td>\n      <td>734</td>\n      <td>734</td>\n      <td>734</td>\n      <td>734</td>\n      <td>734</td>\n    </tr>\n    <tr>\n      <th>18</th>\n      <td>716</td>\n      <td>716</td>\n      <td>716</td>\n      <td>716</td>\n      <td>716</td>\n      <td>716</td>\n      <td>716</td>\n      <td>716</td>\n      <td>716</td>\n      <td>716</td>\n      <td>...</td>\n      <td>716</td>\n      <td>716</td>\n      <td>716</td>\n      <td>716</td>\n      <td>716</td>\n      <td>716</td>\n      <td>716</td>\n      <td>716</td>\n      <td>716</td>\n      <td>716</td>\n    </tr>\n    <tr>\n      <th>19</th>\n      <td>14517</td>\n      <td>14517</td>\n      <td>14517</td>\n      <td>14517</td>\n      <td>14517</td>\n      <td>14517</td>\n      <td>14517</td>\n      <td>14517</td>\n      <td>14517</td>\n      <td>14517</td>\n      <td>...</td>\n      <td>14517</td>\n      <td>14517</td>\n      <td>14517</td>\n      <td>14517</td>\n      <td>14517</td>\n      <td>14517</td>\n      <td>14517</td>\n      <td>14517</td>\n      <td>14517</td>\n      <td>14517</td>\n    </tr>\n  </tbody>\n</table>\n<p>20 rows × 61 columns</p>\n</div>"
     },
     "execution_count": 69,
     "metadata": {},
     "output_type": "execute_result"
    }
   ],
   "source": [
    "dfa.groupby('SUB1').count()"
   ],
   "metadata": {
    "collapsed": false,
    "pycharm": {
     "name": "#%%\n"
    }
   }
  },
  {
   "cell_type": "code",
   "execution_count": null,
   "outputs": [],
   "source": [],
   "metadata": {
    "collapsed": false,
    "pycharm": {
     "name": "#%%\n"
    }
   }
  }
 ],
 "metadata": {
  "kernelspec": {
   "display_name": "Python 3",
   "language": "python",
   "name": "python3"
  },
  "language_info": {
   "codemirror_mode": {
    "name": "ipython",
    "version": 2
   },
   "file_extension": ".py",
   "mimetype": "text/x-python",
   "name": "python",
   "nbconvert_exporter": "python",
   "pygments_lexer": "ipython2",
   "version": "2.7.6"
  }
 },
 "nbformat": 4,
 "nbformat_minor": 0
}