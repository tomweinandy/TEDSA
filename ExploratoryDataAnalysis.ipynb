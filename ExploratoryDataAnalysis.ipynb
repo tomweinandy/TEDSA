{
 "cells": [
  {
   "cell_type": "markdown",
   "source": [
    "# Treatment Episode Data Set (TEDS)\n",
    "[2019 Admissions data](https://www.datafiles.samhsa.gov/dataset/treatment-episode-data-set-admissions-2019-teds-2019-ds0001)\n",
    "[2019 Discharge data](https://www.datafiles.samhsa.gov/dataset/teds-d-2019-ds0001-teds-d-2019-ds0001)"
   ],
   "metadata": {
    "collapsed": false
   }
  },
  {
   "cell_type": "code",
   "execution_count": 1,
   "metadata": {
    "collapsed": true
   },
   "outputs": [],
   "source": [
    "import pandas as pd\n",
    "import numpy as np\n",
    "\n",
    "# Load in data\n",
    "admissions = 'tedsa_puf_2019.csv'\n",
    "discharges = 'tedsd_puf_2019.csv'\n",
    "df_admissions = pd.read_csv(f'../../Downloads/{admissions}')\n",
    "# dfd = pd.read_csv(f'../../Downloads/{discharges}')\n",
    "# df_admissions = df_admissions.replace(-9, np.nan)\n",
    "\n",
    "# Helper functions\n",
    "def breakdown(data, column):\n",
    "    data_grouped = data[['CASEID', column]].groupby(column).count()\n",
    "    data_grouped['PERCENT'] = round(100*data_grouped/len(data), 1)\n",
    "    data_grouped = data_grouped.rename(columns={'CASEID': 'COUNT'})\n",
    "    return data_grouped"
   ]
  },
  {
   "cell_type": "code",
   "execution_count": null,
   "outputs": [],
   "source": [],
   "metadata": {
    "collapsed": false,
    "pycharm": {
     "name": "#%%\n"
    }
   }
  },
  {
   "cell_type": "code",
   "execution_count": 2,
   "outputs": [
    {
     "data": {
      "text/plain": "       COUNT  PERCENT\nSUB1                 \n-9    109826      5.9\n 1     32317      1.7\n 2    574148     30.8\n 3    107363      5.8\n 4    208843     11.2\n 5    438288     23.5\n 6      2631      0.1\n 7    124691      6.7\n 8      5049      0.3\n 9      2227      0.1\n 10   209014     11.2\n 11    10810      0.6\n 12     2651      0.1\n 13    17597      0.9\n 14      132      0.0\n 15      930      0.0\n 16     1883      0.1\n 17      734      0.0\n 18      716      0.0\n 19    14517      0.8",
      "text/html": "<div>\n<style scoped>\n    .dataframe tbody tr th:only-of-type {\n        vertical-align: middle;\n    }\n\n    .dataframe tbody tr th {\n        vertical-align: top;\n    }\n\n    .dataframe thead th {\n        text-align: right;\n    }\n</style>\n<table border=\"1\" class=\"dataframe\">\n  <thead>\n    <tr style=\"text-align: right;\">\n      <th></th>\n      <th>COUNT</th>\n      <th>PERCENT</th>\n    </tr>\n    <tr>\n      <th>SUB1</th>\n      <th></th>\n      <th></th>\n    </tr>\n  </thead>\n  <tbody>\n    <tr>\n      <th>-9</th>\n      <td>109826</td>\n      <td>5.9</td>\n    </tr>\n    <tr>\n      <th>1</th>\n      <td>32317</td>\n      <td>1.7</td>\n    </tr>\n    <tr>\n      <th>2</th>\n      <td>574148</td>\n      <td>30.8</td>\n    </tr>\n    <tr>\n      <th>3</th>\n      <td>107363</td>\n      <td>5.8</td>\n    </tr>\n    <tr>\n      <th>4</th>\n      <td>208843</td>\n      <td>11.2</td>\n    </tr>\n    <tr>\n      <th>5</th>\n      <td>438288</td>\n      <td>23.5</td>\n    </tr>\n    <tr>\n      <th>6</th>\n      <td>2631</td>\n      <td>0.1</td>\n    </tr>\n    <tr>\n      <th>7</th>\n      <td>124691</td>\n      <td>6.7</td>\n    </tr>\n    <tr>\n      <th>8</th>\n      <td>5049</td>\n      <td>0.3</td>\n    </tr>\n    <tr>\n      <th>9</th>\n      <td>2227</td>\n      <td>0.1</td>\n    </tr>\n    <tr>\n      <th>10</th>\n      <td>209014</td>\n      <td>11.2</td>\n    </tr>\n    <tr>\n      <th>11</th>\n      <td>10810</td>\n      <td>0.6</td>\n    </tr>\n    <tr>\n      <th>12</th>\n      <td>2651</td>\n      <td>0.1</td>\n    </tr>\n    <tr>\n      <th>13</th>\n      <td>17597</td>\n      <td>0.9</td>\n    </tr>\n    <tr>\n      <th>14</th>\n      <td>132</td>\n      <td>0.0</td>\n    </tr>\n    <tr>\n      <th>15</th>\n      <td>930</td>\n      <td>0.0</td>\n    </tr>\n    <tr>\n      <th>16</th>\n      <td>1883</td>\n      <td>0.1</td>\n    </tr>\n    <tr>\n      <th>17</th>\n      <td>734</td>\n      <td>0.0</td>\n    </tr>\n    <tr>\n      <th>18</th>\n      <td>716</td>\n      <td>0.0</td>\n    </tr>\n    <tr>\n      <th>19</th>\n      <td>14517</td>\n      <td>0.8</td>\n    </tr>\n  </tbody>\n</table>\n</div>"
     },
     "execution_count": 2,
     "metadata": {},
     "output_type": "execute_result"
    }
   ],
   "source": [
    "breakdown(df_admissions, 'SUB1')"
   ],
   "metadata": {
    "collapsed": false,
    "pycharm": {
     "name": "#%%\n"
    }
   }
  },
  {
   "cell_type": "code",
   "execution_count": 3,
   "outputs": [
    {
     "name": "stdout",
     "output_type": "stream",
     "text": [
      "There are 62 columns\n"
     ]
    }
   ],
   "source": [
    "print(f'There are {len(df_admissions.columns)} columns')"
   ],
   "metadata": {
    "collapsed": false,
    "pycharm": {
     "name": "#%%\n"
    }
   }
  },
  {
   "cell_type": "code",
   "execution_count": 4,
   "outputs": [
    {
     "name": "stdout",
     "output_type": "stream",
     "text": [
      "Patients with SUB1 = 5, 6, 7 represent 30.0% of the patient population.\n",
      "Patients with SUB1 = 5, 6, 7 represent 565610 patients.\n"
     ]
    }
   ],
   "source": [
    "df_opioid_users = df_admissions[df_admissions['SUB1'].isin([5, 6, 7])]\n",
    "print(f'Patients with SUB1 = 5, 6, 7 represent {100*round(len(df_opioid_users)/len(df_admissions), 2)}% of the patient population.')\n",
    "print(f'Patients with SUB1 = 5, 6, 7 represent {len(df_opioid_users)} patients.')"
   ],
   "metadata": {
    "collapsed": false,
    "pycharm": {
     "name": "#%%\n"
    }
   }
  },
  {
   "cell_type": "code",
   "execution_count": 5,
   "outputs": [
    {
     "data": {
      "text/plain": "       COUNT  PERCENT\nSUB1                 \n5     438288     77.5\n6       2631      0.5\n7     124691     22.0",
      "text/html": "<div>\n<style scoped>\n    .dataframe tbody tr th:only-of-type {\n        vertical-align: middle;\n    }\n\n    .dataframe tbody tr th {\n        vertical-align: top;\n    }\n\n    .dataframe thead th {\n        text-align: right;\n    }\n</style>\n<table border=\"1\" class=\"dataframe\">\n  <thead>\n    <tr style=\"text-align: right;\">\n      <th></th>\n      <th>COUNT</th>\n      <th>PERCENT</th>\n    </tr>\n    <tr>\n      <th>SUB1</th>\n      <th></th>\n      <th></th>\n    </tr>\n  </thead>\n  <tbody>\n    <tr>\n      <th>5</th>\n      <td>438288</td>\n      <td>77.5</td>\n    </tr>\n    <tr>\n      <th>6</th>\n      <td>2631</td>\n      <td>0.5</td>\n    </tr>\n    <tr>\n      <th>7</th>\n      <td>124691</td>\n      <td>22.0</td>\n    </tr>\n  </tbody>\n</table>\n</div>"
     },
     "execution_count": 5,
     "metadata": {},
     "output_type": "execute_result"
    }
   ],
   "source": [
    "breakdown(df_opioid_users, 'SUB1')"
   ],
   "metadata": {
    "collapsed": false,
    "pycharm": {
     "name": "#%%\n"
    }
   }
  },
  {
   "cell_type": "code",
   "execution_count": 6,
   "outputs": [
    {
     "data": {
      "text/plain": "          COUNT  PERCENT\nMETHUSE                 \n-9        41476      7.3\n 1       211743     37.4\n 2       312391     55.2",
      "text/html": "<div>\n<style scoped>\n    .dataframe tbody tr th:only-of-type {\n        vertical-align: middle;\n    }\n\n    .dataframe tbody tr th {\n        vertical-align: top;\n    }\n\n    .dataframe thead th {\n        text-align: right;\n    }\n</style>\n<table border=\"1\" class=\"dataframe\">\n  <thead>\n    <tr style=\"text-align: right;\">\n      <th></th>\n      <th>COUNT</th>\n      <th>PERCENT</th>\n    </tr>\n    <tr>\n      <th>METHUSE</th>\n      <th></th>\n      <th></th>\n    </tr>\n  </thead>\n  <tbody>\n    <tr>\n      <th>-9</th>\n      <td>41476</td>\n      <td>7.3</td>\n    </tr>\n    <tr>\n      <th>1</th>\n      <td>211743</td>\n      <td>37.4</td>\n    </tr>\n    <tr>\n      <th>2</th>\n      <td>312391</td>\n      <td>55.2</td>\n    </tr>\n  </tbody>\n</table>\n</div>"
     },
     "execution_count": 6,
     "metadata": {},
     "output_type": "execute_result"
    }
   ],
   "source": [
    "breakdown(df_opioid_users, 'METHUSE')"
   ],
   "metadata": {
    "collapsed": false,
    "pycharm": {
     "name": "#%%\n"
    }
   }
  },
  {
   "cell_type": "code",
   "execution_count": 7,
   "outputs": [
    {
     "name": "stdout",
     "output_type": "stream",
     "text": [
      "\n",
      "Frequencies for SUB1 group 5:\n",
      "          COUNT  PERCENT\n",
      "METHUSE                 \n",
      "-9        28326      6.5\n",
      " 1       164804     37.6\n",
      " 2       245158     55.9\n",
      "\n",
      "Frequencies for SUB1 group 6:\n",
      "         COUNT  PERCENT\n",
      "METHUSE                \n",
      "-9         187      7.1\n",
      " 1        1226     46.6\n",
      " 2        1218     46.3\n",
      "\n",
      "Frequencies for SUB1 group 7:\n",
      "         COUNT  PERCENT\n",
      "METHUSE                \n",
      "-9       12963     10.4\n",
      " 1       45713     36.7\n",
      " 2       66015     52.9\n"
     ]
    }
   ],
   "source": [
    "# Breakdown for group 5, 6, 7\n",
    "for i in range(5,8):\n",
    "    print(f'\\nFrequencies for SUB1 group {i}:')\n",
    "    df_temp = df_opioid_users[df_opioid_users['SUB1']==i]\n",
    "    print(breakdown(df_temp, 'METHUSE'))"
   ],
   "metadata": {
    "collapsed": false,
    "pycharm": {
     "name": "#%%\n"
    }
   }
  },
  {
   "cell_type": "code",
   "execution_count": 8,
   "outputs": [],
   "source": [
    "# All the columns are categorical (though many are numerical)\n",
    "non_numeric_columns = ['ADMYR', 'CASEID', 'STFIPS', 'CBSA2010', 'EDUC', 'MARSTAT', 'SERVICES', 'DETCRIM', 'NOPRIOR', 'PSOURCE', 'ARRESTS', 'EMPLOY',\n",
    "                       'METHUSE', 'PSYPROB', 'PREG', 'GENDER', 'VET', 'LIVARAG', 'DAYWAIT', 'DSMCRIT', 'AGE', 'RACE', 'ETHNIC', 'DETNLF', 'PRIMINC',\n",
    "                       'SUB1', 'SUB2', 'SUB3', 'ROUTE1', 'ROUTE2', 'ROUTE3', 'FREQ1', 'FREQ2', 'FREQ3', 'FRSTUSE1', 'FRSTUSE2', 'FRSTUSE3', 'HLTHINS',\n",
    "                       'PRIMPAY', 'FREQ_ATND_SELF_HELP', 'ALCFLG', 'COKEFLG', 'MARFLG', 'HERFLG', 'METHFLG', 'OPSYNFLG', 'PCPFLG', 'HALLFLG',\n",
    "                       'MTHAMFLG', 'AMPHFLG', 'STIMFLG', 'BENZFLG', 'TRNQFLG', 'BARBFLG', 'SEDHPFLG', 'INHFLG', 'OTCFLG', 'OTHERFLG', 'DIVISION',\n",
    "                       'REGION', 'IDU', 'ALCDRUG']\n",
    "\n",
    "numeric_columns = []"
   ],
   "metadata": {
    "collapsed": false,
    "pycharm": {
     "name": "#%%\n"
    }
   }
  },
  {
   "cell_type": "code",
   "execution_count": 9,
   "outputs": [],
   "source": [
    "# Separate into three groups: treated, nontreated, unknown\n",
    "dfo_treated = df_opioid_users[df_opioid_users['METHUSE']==1]\n",
    "df_nontreated = df_opioid_users[df_opioid_users['METHUSE']==2]\n",
    "dfo_unknown = df_opioid_users[df_opioid_users['METHUSE']==-9]"
   ],
   "metadata": {
    "collapsed": false,
    "pycharm": {
     "name": "#%%\n"
    }
   }
  }
 ],
 "metadata": {
  "kernelspec": {
   "display_name": "Python 3",
   "language": "python",
   "name": "python3"
  },
  "language_info": {
   "codemirror_mode": {
    "name": "ipython",
    "version": 2
   },
   "file_extension": ".py",
   "mimetype": "text/x-python",
   "name": "python",
   "nbconvert_exporter": "python",
   "pygments_lexer": "ipython2",
   "version": "2.7.6"
  }
 },
 "nbformat": 4,
 "nbformat_minor": 0
}